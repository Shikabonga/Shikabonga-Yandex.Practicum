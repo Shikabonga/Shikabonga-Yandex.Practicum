{
 "cells": [
  {
   "cell_type": "markdown",
   "metadata": {},
   "source": [
    "# Определение возраста покупателей"
   ]
  },
  {
   "cell_type": "markdown",
   "metadata": {},
   "source": [
    "## Исследовательский анализ данных"
   ]
  },
  {
   "cell_type": "markdown",
   "metadata": {},
   "source": [
    "Импорт необходимых библиотек"
   ]
  },
  {
   "cell_type": "code",
   "execution_count": 14,
   "metadata": {},
   "outputs": [],
   "source": [
    "import pandas as pd\n",
    "import tensorflow as tf\n",
    "from tensorflow.keras.preprocessing.image import ImageDataGenerator\n",
    "import matplotlib.pyplot as plt\n",
    "get_ipython().run_line_magic('matplotlib', 'inline')\n",
    "import seaborn as sns\n",
    "import numpy as np"
   ]
  },
  {
   "cell_type": "markdown",
   "metadata": {},
   "source": [
    "Загружаем данные"
   ]
  },
  {
   "cell_type": "code",
   "execution_count": 5,
   "metadata": {},
   "outputs": [
    {
     "name": "stdout",
     "output_type": "stream",
     "text": [
      "Found 7591 validated image filenames.\n"
     ]
    }
   ],
   "source": [
    "labels = pd.read_csv('/datasets/faces/labels.csv')\n",
    "train_datagen = ImageDataGenerator(rescale=1./255)\n",
    "train_gen_flow = train_datagen.flow_from_dataframe(\n",
    "        dataframe=labels,\n",
    "        directory='/datasets/faces/final_files/',\n",
    "        x_col='file_name',\n",
    "        y_col='real_age',\n",
    "        target_size=(224, 224),\n",
    "        batch_size=32,\n",
    "        class_mode='raw',\n",
    "        seed=12345) "
   ]
  },
  {
   "cell_type": "markdown",
   "metadata": {},
   "source": [
    "Сводная информация по таблице"
   ]
  },
  {
   "cell_type": "code",
   "execution_count": 6,
   "metadata": {},
   "outputs": [
    {
     "name": "stdout",
     "output_type": "stream",
     "text": [
      "<class 'pandas.core.frame.DataFrame'>\n",
      "RangeIndex: 7591 entries, 0 to 7590\n",
      "Data columns (total 2 columns):\n",
      " #   Column     Non-Null Count  Dtype \n",
      "---  ------     --------------  ----- \n",
      " 0   file_name  7591 non-null   object\n",
      " 1   real_age   7591 non-null   int64 \n",
      "dtypes: int64(1), object(1)\n",
      "memory usage: 118.7+ KB\n"
     ]
    }
   ],
   "source": [
    "labels.info()"
   ]
  },
  {
   "cell_type": "code",
   "execution_count": 7,
   "metadata": {},
   "outputs": [
    {
     "data": {
      "text/html": [
       "<div>\n",
       "<style scoped>\n",
       "    .dataframe tbody tr th:only-of-type {\n",
       "        vertical-align: middle;\n",
       "    }\n",
       "\n",
       "    .dataframe tbody tr th {\n",
       "        vertical-align: top;\n",
       "    }\n",
       "\n",
       "    .dataframe thead th {\n",
       "        text-align: right;\n",
       "    }\n",
       "</style>\n",
       "<table border=\"1\" class=\"dataframe\">\n",
       "  <thead>\n",
       "    <tr style=\"text-align: right;\">\n",
       "      <th></th>\n",
       "      <th>real_age</th>\n",
       "    </tr>\n",
       "  </thead>\n",
       "  <tbody>\n",
       "    <tr>\n",
       "      <th>count</th>\n",
       "      <td>7591.000000</td>\n",
       "    </tr>\n",
       "    <tr>\n",
       "      <th>mean</th>\n",
       "      <td>31.201159</td>\n",
       "    </tr>\n",
       "    <tr>\n",
       "      <th>std</th>\n",
       "      <td>17.145060</td>\n",
       "    </tr>\n",
       "    <tr>\n",
       "      <th>min</th>\n",
       "      <td>1.000000</td>\n",
       "    </tr>\n",
       "    <tr>\n",
       "      <th>25%</th>\n",
       "      <td>20.000000</td>\n",
       "    </tr>\n",
       "    <tr>\n",
       "      <th>50%</th>\n",
       "      <td>29.000000</td>\n",
       "    </tr>\n",
       "    <tr>\n",
       "      <th>75%</th>\n",
       "      <td>41.000000</td>\n",
       "    </tr>\n",
       "    <tr>\n",
       "      <th>max</th>\n",
       "      <td>100.000000</td>\n",
       "    </tr>\n",
       "  </tbody>\n",
       "</table>\n",
       "</div>"
      ],
      "text/plain": [
       "          real_age\n",
       "count  7591.000000\n",
       "mean     31.201159\n",
       "std      17.145060\n",
       "min       1.000000\n",
       "25%      20.000000\n",
       "50%      29.000000\n",
       "75%      41.000000\n",
       "max     100.000000"
      ]
     },
     "execution_count": 7,
     "metadata": {},
     "output_type": "execute_result"
    }
   ],
   "source": [
    "labels.describe()"
   ]
  },
  {
   "cell_type": "code",
   "execution_count": 8,
   "metadata": {},
   "outputs": [
    {
     "data": {
      "text/plain": [
       "file_name    0\n",
       "real_age     0\n",
       "dtype: int64"
      ]
     },
     "execution_count": 8,
     "metadata": {},
     "output_type": "execute_result"
    }
   ],
   "source": [
    "labels.isna().sum()"
   ]
  },
  {
   "cell_type": "code",
   "execution_count": 9,
   "metadata": {},
   "outputs": [
    {
     "data": {
      "text/plain": [
       "0"
      ]
     },
     "execution_count": 9,
     "metadata": {},
     "output_type": "execute_result"
    }
   ],
   "source": [
    "labels.duplicated().sum()"
   ]
  },
  {
   "cell_type": "markdown",
   "metadata": {},
   "source": [
    "Предобработка не требуется, данные в норме. Посмотрим на распределение данных по возрасту"
   ]
  },
  {
   "cell_type": "code",
   "execution_count": 46,
   "metadata": {},
   "outputs": [
    {
     "name": "stderr",
     "output_type": "stream",
     "text": [
      "/opt/conda/lib/python3.9/site-packages/seaborn/distributions.py:2557: FutureWarning: `distplot` is a deprecated function and will be removed in a future version. Please adapt your code to use either `displot` (a figure-level function with similar flexibility) or `histplot` (an axes-level function for histograms).\n",
      "  warnings.warn(msg, FutureWarning)\n"
     ]
    },
    {
     "data": {
      "text/plain": [
       "Text(0.5, 1.0, 'Распределение данных по возрасту')"
      ]
     },
     "execution_count": 46,
     "metadata": {},
     "output_type": "execute_result"
    },
    {
     "data": {
      "image/png": "[encoded data removed]",
      "text/plain": [
       "<Figure size 864x504 with 1 Axes>"
      ]
     },
     "metadata": {
      "needs_background": "light"
     },
     "output_type": "display_data"
    }
   ],
   "source": [
    "plt.figure(figsize=(12, 7))\n",
    "p = sns.distplot(labels[\"real_age\"])\n",
    "p.set_xlabel('Возраст')\n",
    "p.set_ylabel('Распределение')\n",
    "p.set_title('Распределение данных по возрасту')"
   ]
  },
  {
   "cell_type": "code",
   "execution_count": 53,
   "metadata": {},
   "outputs": [
    {
     "data": {
      "text/plain": [
       "Text(0.5, 1.0, 'Распределение данных по возрасту')"
      ]
     },
     "execution_count": 53,
     "metadata": {},
     "output_type": "execute_result"
    },
    {
     "data": {
      "image/png": "[encoded data removed]",
      "text/plain": [
       "<Figure size 360x648 with 1 Axes>"
      ]
     },
     "metadata": {
      "needs_background": "light"
     },
     "output_type": "display_data"
    }
   ],
   "source": [
    "plt.figure(figsize=(5, 9))\n",
    "p = sns.boxplot(data=labels)\n",
    "p.set_title('Распределение данных по возрасту')"
   ]
  },
  {
   "cell_type": "code",
   "execution_count": null,
   "metadata": {},
   "outputs": [],
   "source": [
    "features, target = next(train_gen_flow)"
   ]
  },
  {
   "cell_type": "code",
   "execution_count": null,
   "metadata": {},
   "outputs": [],
   "source": [
    "features.shape"
   ]
  },
  {
   "cell_type": "markdown",
   "metadata": {},
   "source": [
    "Напечатаем 15 фотографий"
   ]
  },
  {
   "cell_type": "code",
   "execution_count": null,
   "metadata": {},
   "outputs": [],
   "source": [
    "fig = plt.figure(figsize=(10,10))\n",
    "for i in range(15):\n",
    "    fig.add_subplot(3, 5, i+1)\n",
    "    plt.imshow(features[i])\n",
    "    plt.title(target[i])\n",
    "    plt.xticks([])\n",
    "    plt.yticks([])\n",
    "    plt.tight_layout()\n"
   ]
  },
  {
   "cell_type": "markdown",
   "metadata": {},
   "source": [
    "Присутствуют повернутые фотографии, черное белые, обрезанные и разным фоном."
   ]
  },
  {
   "cell_type": "markdown",
   "metadata": {},
   "source": [
    "## Обучение модели"
   ]
  },
  {
   "cell_type": "markdown",
   "metadata": {},
   "source": [
    "Перенесите сюда код обучения модели и её результат вывода на экран.\n",
    "\n",
    "\n",
    "(Код в этом разделе запускается в отдельном GPU-тренажёре, поэтому оформлен не как ячейка с кодом, а как код в текстовой ячейке)"
   ]
  },
  {
   "cell_type": "markdown",
   "metadata": {},
   "source": [
    "```python\n",
    "import numpy as np\n",
    "import pandas as pd\n",
    "from tensorflow.keras.datasets import fashion_mnist\n",
    "from tensorflow.keras.layers import Conv2D, Flatten, AvgPool2D, Dense, GlobalAveragePooling2D\n",
    "from tensorflow.keras.models import Sequential\n",
    "from tensorflow.keras.optimizers import Adam\n",
    "from tensorflow.keras.preprocessing.image import ImageDataGenerator\n",
    "from tensorflow.keras.applications.resnet import ResNet50\n",
    "\n",
    "load_train(path):\n",
    "    labels = pd.read_csv(path+'labels.csv')\n",
    "    train_datagen = ImageDataGenerator(rescale= 1./255, validation_split=0.25)\n",
    "    train_datagen_flow = train_datagen.flow_from_dataframe(\n",
    "        dataframe = labels,\n",
    "        directory = path + 'final_files/',\n",
    "        x_col='file_name',\n",
    "        y_col='real_age',\n",
    "        target_size=(224, 224),\n",
    "        batch_size=32,\n",
    "        class_mode='raw',\n",
    "        subset='training',\n",
    "        horizontal_flip=True,\n",
    "        seed=42)\n",
    "    return train_datagen_flow\n",
    "\n",
    "def load_test(path):\n",
    "    labels = pd.read_csv(path+'labels.csv')\n",
    "    test_datagen = ImageDataGenerator(rescale= 1./255, validation_split=0.25)\n",
    "    test_datagen_flow = test_datagen.flow_from_dataframe(\n",
    "        dataframe = labels,\n",
    "        directory = path + 'final_files/',\n",
    "        x_col='file_name',\n",
    "        y_col='real_age',\n",
    "        target_size=(224, 224),\n",
    "        batch_size=32,\n",
    "        class_mode='raw',\n",
    "        subset='validation',\n",
    "        seed=42)\n",
    "\n",
    "    return test_datagen_flow\n",
    "\n",
    "def create_model(input_shape):\n",
    "\n",
    "    backbone = ResNet50(input_shape= input_shape,\n",
    "                    weights='imagenet',\n",
    "                    include_top= False)\n",
    "\n",
    "    model = Sequential()\n",
    "    model.add(backbone)\n",
    "    model.add(GlobalAveragePooling2D())\n",
    "    model.add(Dense(12, activation='relu'))\n",
    "    optimizer = Adam(lr=0.00025)\n",
    "    model.compile(optimizer=optimizer, loss='mean_squared_error',metrics=['mae'])\n",
    "    return model\n",
    "\n",
    "def train_model(model, train_data, test_data, batch_size=None, epochs=10,\n",
    "                steps_per_epoch=None, validation_steps=None):\n",
    "\n",
    "    if steps_per_epoch is None:\n",
    "        steps_per_epoch = len(train_data)\n",
    "    if validation_steps is None:\n",
    "        validation_steps = len(test_data)\n",
    "    model.fit(train_data,\n",
    "              validation_data= test_data,\n",
    "              batch_size=batch_size, epochs=epochs,\n",
    "              steps_per_epoch=steps_per_epoch,\n",
    "              validation_steps=validation_steps,\n",
    "              verbose=2)\n",
    "    return model\n",
    "\n",
    "Train for 178 steps, validate for 60 steps\n",
    "Epoch 1/10\n",
    "2022-03-16 11:46:35.455078: I tensorflow/stream_executor/platform/default/dso_loader.cc:44] Successfully opened dynamic library libcublas.so.10\n",
    "2022-03-16 11:46:35.746116: I tensorflow/stream_executor/platform/default/dso_loader.cc:44] Successfully opened dynamic library libcudnn.so.7\n",
    "178/178 - 45s - loss: 259.1293 - mae: 11.6699 - val_loss: 667.8841 - val_mae: 20.7602\n",
    "Epoch 2/10\n",
    "178/178 - 37s - loss: 79.7603 - mae: 6.7593 - val_loss: 389.5133 - val_mae: 14.7935\n",
    "Epoch 3/10\n",
    "178/178 - 37s - loss: 43.7180 - mae: 5.0420 - val_loss: 394.7394 - val_mae: 14.4590\n",
    "Epoch 4/10\n",
    "178/178 - 37s - loss: 27.9002 - mae: 4.0386 - val_loss: 155.4213 - val_mae: 9.8708\n",
    "Epoch 5/10\n",
    "178/178 - 37s - loss: 21.5672 - mae: 3.5816 - val_loss: 86.7246 - val_mae: 7.0341\n",
    "Epoch 6/10\n",
    "178/178 - 37s - loss: 16.7809 - mae: 3.1581 - val_loss: 76.7245 - val_mae: 6.6240\n",
    "Epoch 7/10\n",
    "178/178 - 38s - loss: 12.7600 - mae: 2.7552 - val_loss: 68.8727 - val_mae: 6.2792\n",
    "Epoch 8/10\n",
    "178/178 - 37s - loss: 11.3921 - mae: 2.5744 - val_loss: 69.1928 - val_mae: 6.2821\n",
    "Epoch 9/10\n",
    "178/178 - 37s - loss: 10.2471 - mae: 2.4529 - val_loss: 73.1429 - val_mae: 6.4139\n",
    "Epoch 10/10\n",
    "178/178 - 37s - loss: 9.6149 - mae: 2.3384 - val_loss: 72.0021 - val_mae: 6.5102\n",
    "\n",
    "60/60 - 9s - loss: 72.0021 - mae: 6.5102\n",
    "Test MAE: 6.5102\n",
    "\n",
    "```"
   ]
  },
  {
   "cell_type": "markdown",
   "metadata": {},
   "source": [
    "## Анализ обученной модели"
   ]
  },
  {
   "cell_type": "markdown",
   "metadata": {},
   "source": [
    "Модель на тестовых данных показала MAE: 6.5102"
   ]
  },
  {
   "cell_type": "markdown",
   "metadata": {},
   "source": [
    "## Чек-лист"
   ]
  },
  {
   "cell_type": "markdown",
   "metadata": {},
   "source": [
    "- [x]  Jupyter Notebook открыт\n",
    "- [x]  Весь код выполняется без ошибок\n",
    "- [x]  Ячейки с кодом расположены в порядке исполнения\n",
    "- [x]  Исследовательский анализ данных выполнен\n",
    "- [x]  Результаты исследовательского анализа данных перенесены в финальную тетрадь\n",
    "- [x]  MAE модели не больше 8\n",
    "- [x]  Код обучения модели скопирован в финальную тетрадь\n",
    "- [x]  Результат вывода модели на экран перенесён в финальную тетрадь\n",
    "- [x]  По итогам обучения модели сделаны выводы"
   ]
  },
  {
   "cell_type": "code",
   "execution_count": null,
   "metadata": {},
   "outputs": [],
   "source": []
  }
 ],
 "metadata": {
  "ExecuteTimeLog": [
   {
    "duration": 3986,
    "start_time": "2022-03-16T13:05:45.318Z"
   },
   {
    "duration": 97061,
    "start_time": "2022-03-16T13:05:49.306Z"
   },
   {
    "duration": 6,
    "start_time": "2022-03-16T13:07:26.370Z"
   },
   {
    "duration": 14,
    "start_time": "2022-03-16T13:07:26.378Z"
   },
   {
    "duration": 6,
    "start_time": "2022-03-16T13:07:26.393Z"
   },
   {
    "duration": 12,
    "start_time": "2022-03-16T13:07:26.401Z"
   },
   {
    "duration": 247,
    "start_time": "2022-03-16T13:07:26.415Z"
   },
   {
    "duration": 317,
    "start_time": "2022-03-16T13:07:26.664Z"
   },
   {
    "duration": 600,
    "start_time": "2022-03-16T13:07:26.983Z"
   },
   {
    "duration": 4,
    "start_time": "2022-03-16T13:07:27.584Z"
   },
   {
    "duration": 1387,
    "start_time": "2022-03-16T13:07:27.589Z"
   },
   {
    "duration": 108,
    "start_time": "2022-03-16T13:07:28.977Z"
   },
   {
    "duration": 74,
    "start_time": "2022-03-17T19:58:04.666Z"
   },
   {
    "duration": 81086,
    "start_time": "2022-03-17T19:58:10.763Z"
   },
   {
    "duration": 5,
    "start_time": "2022-03-17T20:02:15.414Z"
   },
   {
    "duration": 40766,
    "start_time": "2022-03-17T20:02:15.422Z"
   },
   {
    "duration": 21,
    "start_time": "2022-03-17T20:02:56.191Z"
   },
   {
    "duration": 30,
    "start_time": "2022-03-17T20:02:56.214Z"
   },
   {
    "duration": 42,
    "start_time": "2022-03-17T20:02:56.247Z"
   },
   {
    "duration": 10,
    "start_time": "2022-03-17T20:02:56.292Z"
   },
   {
    "duration": 317,
    "start_time": "2022-03-17T20:02:56.305Z"
   },
   {
    "duration": 0,
    "start_time": "2022-03-17T20:02:56.626Z"
   },
   {
    "duration": 0,
    "start_time": "2022-03-17T20:02:56.628Z"
   },
   {
    "duration": 0,
    "start_time": "2022-03-17T20:02:56.631Z"
   },
   {
    "duration": 0,
    "start_time": "2022-03-17T20:02:56.634Z"
   },
   {
    "duration": 21,
    "start_time": "2022-03-17T20:03:04.427Z"
   },
   {
    "duration": 372,
    "start_time": "2022-03-17T20:03:24.890Z"
   },
   {
    "duration": 340,
    "start_time": "2022-03-17T20:03:47.835Z"
   },
   {
    "duration": 6,
    "start_time": "2022-03-17T20:04:11.211Z"
   },
   {
    "duration": 342,
    "start_time": "2022-03-17T20:04:14.922Z"
   },
   {
    "duration": 21,
    "start_time": "2022-03-17T20:05:34.495Z"
   },
   {
    "duration": 518,
    "start_time": "2022-03-17T20:06:07.734Z"
   },
   {
    "duration": 17,
    "start_time": "2022-03-17T20:06:21.328Z"
   },
   {
    "duration": 344,
    "start_time": "2022-03-17T20:06:27.849Z"
   },
   {
    "duration": 354,
    "start_time": "2022-03-17T20:06:42.749Z"
   },
   {
    "duration": 362,
    "start_time": "2022-03-17T20:07:17.978Z"
   },
   {
    "duration": 441,
    "start_time": "2022-03-17T20:09:33.785Z"
   },
   {
    "duration": 420,
    "start_time": "2022-03-17T20:10:40.583Z"
   },
   {
    "duration": 496,
    "start_time": "2022-03-17T20:10:48.577Z"
   },
   {
    "duration": 401,
    "start_time": "2022-03-17T20:10:58.512Z"
   },
   {
    "duration": 456,
    "start_time": "2022-03-17T20:11:33.192Z"
   },
   {
    "duration": 564,
    "start_time": "2022-03-17T20:11:42.052Z"
   },
   {
    "duration": 431,
    "start_time": "2022-03-17T20:12:02.740Z"
   },
   {
    "duration": 359,
    "start_time": "2022-03-17T20:12:09.789Z"
   },
   {
    "duration": 368,
    "start_time": "2022-03-17T20:12:24.382Z"
   },
   {
    "duration": 503,
    "start_time": "2022-03-17T20:12:29.067Z"
   },
   {
    "duration": 232,
    "start_time": "2022-03-17T20:12:35.732Z"
   },
   {
    "duration": 230,
    "start_time": "2022-03-17T20:12:42.244Z"
   },
   {
    "duration": 235,
    "start_time": "2022-03-17T20:12:50.405Z"
   },
   {
    "duration": 444,
    "start_time": "2022-03-17T20:12:57.320Z"
   },
   {
    "duration": 420,
    "start_time": "2022-03-17T20:14:12.467Z"
   },
   {
    "duration": 335,
    "start_time": "2022-03-17T20:14:27.255Z"
   },
   {
    "duration": 350,
    "start_time": "2022-03-17T20:14:34.795Z"
   },
   {
    "duration": 373,
    "start_time": "2022-03-17T20:14:39.901Z"
   },
   {
    "duration": 354,
    "start_time": "2022-03-17T20:14:43.169Z"
   },
   {
    "duration": 229,
    "start_time": "2022-03-17T20:15:11.725Z"
   },
   {
    "duration": 236,
    "start_time": "2022-03-17T20:19:10.747Z"
   },
   {
    "duration": 420,
    "start_time": "2022-03-17T20:19:17.193Z"
   },
   {
    "duration": 432,
    "start_time": "2022-03-17T20:19:51.526Z"
   },
   {
    "duration": 414,
    "start_time": "2022-03-17T20:20:10.598Z"
   },
   {
    "duration": 413,
    "start_time": "2022-03-17T20:20:18.894Z"
   },
   {
    "duration": 192,
    "start_time": "2022-03-17T20:21:03.975Z"
   },
   {
    "duration": 191,
    "start_time": "2022-03-17T20:21:37.194Z"
   },
   {
    "duration": 189,
    "start_time": "2022-03-17T20:22:00.720Z"
   },
   {
    "duration": 236,
    "start_time": "2022-03-17T20:22:24.136Z"
   },
   {
    "duration": 186,
    "start_time": "2022-03-17T20:22:40.207Z"
   },
   {
    "duration": 166,
    "start_time": "2022-03-17T20:22:45.197Z"
   },
   {
    "duration": 172,
    "start_time": "2022-03-17T20:22:51.551Z"
   }
  ],
  "kernelspec": {
   "display_name": "Python 3",
   "language": "python",
   "name": "python3"
  },
  "language_info": {
   "codemirror_mode": {
    "name": "ipython",
    "version": 3
   },
   "file_extension": ".py",
   "mimetype": "text/x-python",
   "name": "python",
   "nbconvert_exporter": "python",
   "pygments_lexer": "ipython3",
   "version": "3.8.8"
  },
  "toc": {
   "base_numbering": 1,
   "nav_menu": {},
   "number_sections": true,
   "sideBar": true,
   "skip_h1_title": true,
   "title_cell": "Table of Contents",
   "title_sidebar": "Contents",
   "toc_cell": false,
   "toc_position": {},
   "toc_section_display": true,
   "toc_window_display": false
  }
 },
 "nbformat": 4,
 "nbformat_minor": 2
}
