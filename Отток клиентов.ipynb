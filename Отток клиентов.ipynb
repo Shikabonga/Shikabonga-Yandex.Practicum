{
 "cells": [
  {
   "cell_type": "markdown",
   "metadata": {
    "toc": true
   },
   "source": [
    "<h1>Содержание<span class=\"tocSkip\"></span></h1>\n",
    "<div class=\"toc\"><ul class=\"toc-item\"><li><ul class=\"toc-item\"><li><span><a href=\"#Общее-впечатление\" data-toc-modified-id=\"Общее-впечатление-0.1\"><span class=\"toc-item-num\">0.1&nbsp;&nbsp;</span><font color=\"orange\">Общее впечатление</font></a></span></li><li><span><a href=\"#Общее-впечатление-(ревью-2)\" data-toc-modified-id=\"Общее-впечатление-(ревью-2)-0.2\"><span class=\"toc-item-num\">0.2&nbsp;&nbsp;</span><font color=\"orange\">Общее впечатление (ревью 2)</font></a></span></li></ul></li><li><span><a href=\"#Подготовка-данных\" data-toc-modified-id=\"Подготовка-данных-1\"><span class=\"toc-item-num\">1&nbsp;&nbsp;</span>Подготовка данных</a></span><ul class=\"toc-item\"><li><span><a href=\"#Вывод:\" data-toc-modified-id=\"Вывод:-1.1\"><span class=\"toc-item-num\">1.1&nbsp;&nbsp;</span>Вывод:</a></span></li></ul></li><li><span><a href=\"#Исследование-задачи\" data-toc-modified-id=\"Исследование-задачи-2\"><span class=\"toc-item-num\">2&nbsp;&nbsp;</span>Исследование задачи</a></span><ul class=\"toc-item\"><li><span><a href=\"#Вывод:\" data-toc-modified-id=\"Вывод:-2.1\"><span class=\"toc-item-num\">2.1&nbsp;&nbsp;</span>Вывод:</a></span></li></ul></li><li><span><a href=\"#Борьба-с-дисбалансом\" data-toc-modified-id=\"Борьба-с-дисбалансом-3\"><span class=\"toc-item-num\">3&nbsp;&nbsp;</span>Борьба с дисбалансом</a></span></li><li><span><a href=\"#Тестирование-модели\" data-toc-modified-id=\"Тестирование-модели-4\"><span class=\"toc-item-num\">4&nbsp;&nbsp;</span>Тестирование модели</a></span></li><li><span><a href=\"#Общий-вывод\" data-toc-modified-id=\"Общий-вывод-5\"><span class=\"toc-item-num\">5&nbsp;&nbsp;</span>Общий вывод</a></span></li><li><span><a href=\"#Чек-лист-готовности-проекта\" data-toc-modified-id=\"Чек-лист-готовности-проекта-6\"><span class=\"toc-item-num\">6&nbsp;&nbsp;</span>Чек-лист готовности проекта</a></span></li></ul></div>"
   ]
  },
  {
   "cell_type": "markdown",
   "metadata": {},
   "source": [
    "# Отток клиентов"
   ]
  },
  {
   "cell_type": "markdown",
   "metadata": {},
   "source": [
    "Из «Бета-Банка» стали уходить клиенты. Каждый месяц. Немного, но заметно. Банковские маркетологи посчитали: сохранять текущих клиентов дешевле, чем привлекать новых.\n",
    "\n",
    "Нужно спрогнозировать, уйдёт клиент из банка в ближайшее время или нет. Вам предоставлены исторические данные о поведении клиентов и расторжении договоров с банком. \n",
    "\n",
    "Постройте модель с предельно большим значением *F1*-меры. Чтобы сдать проект успешно, нужно довести метрику до 0.59. Проверьте *F1*-меру на тестовой выборке самостоятельно.\n",
    "\n",
    "Дополнительно измеряйте *AUC-ROC*, сравнивайте её значение с *F1*-мерой.\n",
    "\n",
    "Источник данных: [https://www.kaggle.com/barelydedicated/bank-customer-churn-modeling](https://www.kaggle.com/barelydedicated/bank-customer-churn-modeling)\n",
    "\n",
    "***Описание данных:***\n",
    "\n",
    "**Признаки:**\n",
    " + RowNumber — индекс строки в данных\n",
    " + CustomerId — уникальный идентификатор клиента\n",
    " + Surname — фамилия\n",
    " + CreditScore — кредитный рейтинг\n",
    " + Geography — страна проживания\n",
    " + Gender — пол\n",
    " + Age — возраст\n",
    " + Tenure — сколько лет человек является клиентом банка\n",
    " + Balance — баланс на счёте\n",
    " + NumOfProducts — количество продуктов банка, используемых клиентом\n",
    " + HasCrCard — наличие кредитной карты\n",
    " + IsActiveMember — активность клиента\n",
    " + EstimatedSalary — предполагаемая зарплата\n",
    " \n",
    "**Целевой признак:**\n",
    " + Exited — факт ухода клиента"
   ]
  },
  {
   "cell_type": "markdown",
   "metadata": {},
   "source": [
    "## Подготовка данных"
   ]
  },
  {
   "cell_type": "code",
   "execution_count": 263,
   "metadata": {},
   "outputs": [],
   "source": [
    "import pandas as pd\n",
    "import numpy as np\n",
    "import matplotlib.pyplot as plt\n",
    "\n",
    "from catboost import CatBoostClassifier\n",
    "from sklearn.linear_model import LogisticRegression\n",
    "from sklearn.ensemble import RandomForestClassifier\n",
    "from sklearn.model_selection import train_test_split\n",
    "from sklearn.metrics import f1_score, roc_auc_score, roc_curve\n",
    "from sklearn.utils import shuffle\n",
    "from sklearn.preprocessing import StandardScaler "
   ]
  },
  {
   "cell_type": "code",
   "execution_count": 264,
   "metadata": {},
   "outputs": [],
   "source": [
    "import warnings\n",
    "warnings.filterwarnings('ignore')"
   ]
  },
  {
   "cell_type": "code",
   "execution_count": 265,
   "metadata": {},
   "outputs": [
    {
     "data": {
      "text/html": [
       "<div>\n",
       "<style scoped>\n",
       "    .dataframe tbody tr th:only-of-type {\n",
       "        vertical-align: middle;\n",
       "    }\n",
       "\n",
       "    .dataframe tbody tr th {\n",
       "        vertical-align: top;\n",
       "    }\n",
       "\n",
       "    .dataframe thead th {\n",
       "        text-align: right;\n",
       "    }\n",
       "</style>\n",
       "<table border=\"1\" class=\"dataframe\">\n",
       "  <thead>\n",
       "    <tr style=\"text-align: right;\">\n",
       "      <th></th>\n",
       "      <th>RowNumber</th>\n",
       "      <th>CustomerId</th>\n",
       "      <th>Surname</th>\n",
       "      <th>CreditScore</th>\n",
       "      <th>Geography</th>\n",
       "      <th>Gender</th>\n",
       "      <th>Age</th>\n",
       "      <th>Tenure</th>\n",
       "      <th>Balance</th>\n",
       "      <th>NumOfProducts</th>\n",
       "      <th>HasCrCard</th>\n",
       "      <th>IsActiveMember</th>\n",
       "      <th>EstimatedSalary</th>\n",
       "      <th>Exited</th>\n",
       "    </tr>\n",
       "  </thead>\n",
       "  <tbody>\n",
       "    <tr>\n",
       "      <td>0</td>\n",
       "      <td>1</td>\n",
       "      <td>15634602</td>\n",
       "      <td>Hargrave</td>\n",
       "      <td>619</td>\n",
       "      <td>France</td>\n",
       "      <td>Female</td>\n",
       "      <td>42</td>\n",
       "      <td>2.0</td>\n",
       "      <td>0.00</td>\n",
       "      <td>1</td>\n",
       "      <td>1</td>\n",
       "      <td>1</td>\n",
       "      <td>101348.88</td>\n",
       "      <td>1</td>\n",
       "    </tr>\n",
       "    <tr>\n",
       "      <td>1</td>\n",
       "      <td>2</td>\n",
       "      <td>15647311</td>\n",
       "      <td>Hill</td>\n",
       "      <td>608</td>\n",
       "      <td>Spain</td>\n",
       "      <td>Female</td>\n",
       "      <td>41</td>\n",
       "      <td>1.0</td>\n",
       "      <td>83807.86</td>\n",
       "      <td>1</td>\n",
       "      <td>0</td>\n",
       "      <td>1</td>\n",
       "      <td>112542.58</td>\n",
       "      <td>0</td>\n",
       "    </tr>\n",
       "    <tr>\n",
       "      <td>2</td>\n",
       "      <td>3</td>\n",
       "      <td>15619304</td>\n",
       "      <td>Onio</td>\n",
       "      <td>502</td>\n",
       "      <td>France</td>\n",
       "      <td>Female</td>\n",
       "      <td>42</td>\n",
       "      <td>8.0</td>\n",
       "      <td>159660.80</td>\n",
       "      <td>3</td>\n",
       "      <td>1</td>\n",
       "      <td>0</td>\n",
       "      <td>113931.57</td>\n",
       "      <td>1</td>\n",
       "    </tr>\n",
       "    <tr>\n",
       "      <td>3</td>\n",
       "      <td>4</td>\n",
       "      <td>15701354</td>\n",
       "      <td>Boni</td>\n",
       "      <td>699</td>\n",
       "      <td>France</td>\n",
       "      <td>Female</td>\n",
       "      <td>39</td>\n",
       "      <td>1.0</td>\n",
       "      <td>0.00</td>\n",
       "      <td>2</td>\n",
       "      <td>0</td>\n",
       "      <td>0</td>\n",
       "      <td>93826.63</td>\n",
       "      <td>0</td>\n",
       "    </tr>\n",
       "    <tr>\n",
       "      <td>4</td>\n",
       "      <td>5</td>\n",
       "      <td>15737888</td>\n",
       "      <td>Mitchell</td>\n",
       "      <td>850</td>\n",
       "      <td>Spain</td>\n",
       "      <td>Female</td>\n",
       "      <td>43</td>\n",
       "      <td>2.0</td>\n",
       "      <td>125510.82</td>\n",
       "      <td>1</td>\n",
       "      <td>1</td>\n",
       "      <td>1</td>\n",
       "      <td>79084.10</td>\n",
       "      <td>0</td>\n",
       "    </tr>\n",
       "  </tbody>\n",
       "</table>\n",
       "</div>"
      ],
      "text/plain": [
       "   RowNumber  CustomerId   Surname  CreditScore Geography  Gender  Age  \\\n",
       "0          1    15634602  Hargrave          619    France  Female   42   \n",
       "1          2    15647311      Hill          608     Spain  Female   41   \n",
       "2          3    15619304      Onio          502    France  Female   42   \n",
       "3          4    15701354      Boni          699    France  Female   39   \n",
       "4          5    15737888  Mitchell          850     Spain  Female   43   \n",
       "\n",
       "   Tenure    Balance  NumOfProducts  HasCrCard  IsActiveMember  \\\n",
       "0     2.0       0.00              1          1               1   \n",
       "1     1.0   83807.86              1          0               1   \n",
       "2     8.0  159660.80              3          1               0   \n",
       "3     1.0       0.00              2          0               0   \n",
       "4     2.0  125510.82              1          1               1   \n",
       "\n",
       "   EstimatedSalary  Exited  \n",
       "0        101348.88       1  \n",
       "1        112542.58       0  \n",
       "2        113931.57       1  \n",
       "3         93826.63       0  \n",
       "4         79084.10       0  "
      ]
     },
     "metadata": {},
     "output_type": "display_data"
    }
   ],
   "source": [
    "df = pd.read_csv('/datasets/Churn.csv')\n",
    "display(df.head())"
   ]
  },
  {
   "cell_type": "code",
   "execution_count": 266,
   "metadata": {},
   "outputs": [
    {
     "name": "stdout",
     "output_type": "stream",
     "text": [
      "<class 'pandas.core.frame.DataFrame'>\n",
      "RangeIndex: 10000 entries, 0 to 9999\n",
      "Data columns (total 14 columns):\n",
      "RowNumber          10000 non-null int64\n",
      "CustomerId         10000 non-null int64\n",
      "Surname            10000 non-null object\n",
      "CreditScore        10000 non-null int64\n",
      "Geography          10000 non-null object\n",
      "Gender             10000 non-null object\n",
      "Age                10000 non-null int64\n",
      "Tenure             9091 non-null float64\n",
      "Balance            10000 non-null float64\n",
      "NumOfProducts      10000 non-null int64\n",
      "HasCrCard          10000 non-null int64\n",
      "IsActiveMember     10000 non-null int64\n",
      "EstimatedSalary    10000 non-null float64\n",
      "Exited             10000 non-null int64\n",
      "dtypes: float64(3), int64(8), object(3)\n",
      "memory usage: 1.1+ MB\n"
     ]
    }
   ],
   "source": [
    "df.info()"
   ]
  },
  {
   "cell_type": "code",
   "execution_count": 267,
   "metadata": {},
   "outputs": [
    {
     "data": {
      "text/plain": [
       "RowNumber            0\n",
       "CustomerId           0\n",
       "Surname              0\n",
       "CreditScore          0\n",
       "Geography            0\n",
       "Gender               0\n",
       "Age                  0\n",
       "Tenure             909\n",
       "Balance              0\n",
       "NumOfProducts        0\n",
       "HasCrCard            0\n",
       "IsActiveMember       0\n",
       "EstimatedSalary      0\n",
       "Exited               0\n",
       "dtype: int64"
      ]
     },
     "execution_count": 267,
     "metadata": {},
     "output_type": "execute_result"
    }
   ],
   "source": [
    "df.isnull().sum()"
   ]
  },
  {
   "cell_type": "markdown",
   "metadata": {},
   "source": [
    "Tenure — сколько лет человек является клиентом банка, NaN-значения скорее всего у людей, которые пользовались меньше года. Заменим на 0."
   ]
  },
  {
   "cell_type": "code",
   "execution_count": 268,
   "metadata": {},
   "outputs": [
    {
     "name": "stdout",
     "output_type": "stream",
     "text": [
      "<class 'pandas.core.frame.DataFrame'>\n",
      "RangeIndex: 10000 entries, 0 to 9999\n",
      "Data columns (total 14 columns):\n",
      "RowNumber          10000 non-null int64\n",
      "CustomerId         10000 non-null int64\n",
      "Surname            10000 non-null object\n",
      "CreditScore        10000 non-null int64\n",
      "Geography          10000 non-null object\n",
      "Gender             10000 non-null object\n",
      "Age                10000 non-null int64\n",
      "Tenure             10000 non-null int64\n",
      "Balance            10000 non-null float64\n",
      "NumOfProducts      10000 non-null int64\n",
      "HasCrCard          10000 non-null int64\n",
      "IsActiveMember     10000 non-null int64\n",
      "EstimatedSalary    10000 non-null float64\n",
      "Exited             10000 non-null int64\n",
      "dtypes: float64(2), int64(9), object(3)\n",
      "memory usage: 1.1+ MB\n"
     ]
    }
   ],
   "source": [
    "df['Tenure'] = df['Tenure'].fillna(0).astype('int')\n",
    "df.info()"
   ]
  },
  {
   "cell_type": "code",
   "execution_count": 269,
   "metadata": {},
   "outputs": [
    {
     "data": {
      "text/plain": [
       "France     5014\n",
       "Germany    2509\n",
       "Spain      2477\n",
       "Name: Geography, dtype: int64"
      ]
     },
     "execution_count": 269,
     "metadata": {},
     "output_type": "execute_result"
    }
   ],
   "source": [
    "df['Geography'].value_counts()"
   ]
  },
  {
   "cell_type": "code",
   "execution_count": 270,
   "metadata": {},
   "outputs": [
    {
     "data": {
      "text/plain": [
       "Male      5457\n",
       "Female    4543\n",
       "Name: Gender, dtype: int64"
      ]
     },
     "execution_count": 270,
     "metadata": {},
     "output_type": "execute_result"
    }
   ],
   "source": [
    "df['Gender'].value_counts()"
   ]
  },
  {
   "cell_type": "markdown",
   "metadata": {},
   "source": [
    "Посмотрим дубли по уникальному индефикатору клиента."
   ]
  },
  {
   "cell_type": "code",
   "execution_count": 271,
   "metadata": {},
   "outputs": [
    {
     "data": {
      "text/plain": [
       "0"
      ]
     },
     "execution_count": 271,
     "metadata": {},
     "output_type": "execute_result"
    }
   ],
   "source": [
    "df['CustomerId'].duplicated().sum()"
   ]
  },
  {
   "cell_type": "markdown",
   "metadata": {},
   "source": [
    "Удалим столбцы, которые помешают обучению модели."
   ]
  },
  {
   "cell_type": "code",
   "execution_count": 272,
   "metadata": {},
   "outputs": [
    {
     "data": {
      "text/html": [
       "<div>\n",
       "<style scoped>\n",
       "    .dataframe tbody tr th:only-of-type {\n",
       "        vertical-align: middle;\n",
       "    }\n",
       "\n",
       "    .dataframe tbody tr th {\n",
       "        vertical-align: top;\n",
       "    }\n",
       "\n",
       "    .dataframe thead th {\n",
       "        text-align: right;\n",
       "    }\n",
       "</style>\n",
       "<table border=\"1\" class=\"dataframe\">\n",
       "  <thead>\n",
       "    <tr style=\"text-align: right;\">\n",
       "      <th></th>\n",
       "      <th>CreditScore</th>\n",
       "      <th>Geography</th>\n",
       "      <th>Gender</th>\n",
       "      <th>Age</th>\n",
       "      <th>Tenure</th>\n",
       "      <th>Balance</th>\n",
       "      <th>NumOfProducts</th>\n",
       "      <th>HasCrCard</th>\n",
       "      <th>IsActiveMember</th>\n",
       "      <th>EstimatedSalary</th>\n",
       "      <th>Exited</th>\n",
       "    </tr>\n",
       "  </thead>\n",
       "  <tbody>\n",
       "    <tr>\n",
       "      <td>0</td>\n",
       "      <td>619</td>\n",
       "      <td>France</td>\n",
       "      <td>Female</td>\n",
       "      <td>42</td>\n",
       "      <td>2</td>\n",
       "      <td>0.00</td>\n",
       "      <td>1</td>\n",
       "      <td>1</td>\n",
       "      <td>1</td>\n",
       "      <td>101348.88</td>\n",
       "      <td>1</td>\n",
       "    </tr>\n",
       "    <tr>\n",
       "      <td>1</td>\n",
       "      <td>608</td>\n",
       "      <td>Spain</td>\n",
       "      <td>Female</td>\n",
       "      <td>41</td>\n",
       "      <td>1</td>\n",
       "      <td>83807.86</td>\n",
       "      <td>1</td>\n",
       "      <td>0</td>\n",
       "      <td>1</td>\n",
       "      <td>112542.58</td>\n",
       "      <td>0</td>\n",
       "    </tr>\n",
       "    <tr>\n",
       "      <td>2</td>\n",
       "      <td>502</td>\n",
       "      <td>France</td>\n",
       "      <td>Female</td>\n",
       "      <td>42</td>\n",
       "      <td>8</td>\n",
       "      <td>159660.80</td>\n",
       "      <td>3</td>\n",
       "      <td>1</td>\n",
       "      <td>0</td>\n",
       "      <td>113931.57</td>\n",
       "      <td>1</td>\n",
       "    </tr>\n",
       "    <tr>\n",
       "      <td>3</td>\n",
       "      <td>699</td>\n",
       "      <td>France</td>\n",
       "      <td>Female</td>\n",
       "      <td>39</td>\n",
       "      <td>1</td>\n",
       "      <td>0.00</td>\n",
       "      <td>2</td>\n",
       "      <td>0</td>\n",
       "      <td>0</td>\n",
       "      <td>93826.63</td>\n",
       "      <td>0</td>\n",
       "    </tr>\n",
       "    <tr>\n",
       "      <td>4</td>\n",
       "      <td>850</td>\n",
       "      <td>Spain</td>\n",
       "      <td>Female</td>\n",
       "      <td>43</td>\n",
       "      <td>2</td>\n",
       "      <td>125510.82</td>\n",
       "      <td>1</td>\n",
       "      <td>1</td>\n",
       "      <td>1</td>\n",
       "      <td>79084.10</td>\n",
       "      <td>0</td>\n",
       "    </tr>\n",
       "    <tr>\n",
       "      <td>...</td>\n",
       "      <td>...</td>\n",
       "      <td>...</td>\n",
       "      <td>...</td>\n",
       "      <td>...</td>\n",
       "      <td>...</td>\n",
       "      <td>...</td>\n",
       "      <td>...</td>\n",
       "      <td>...</td>\n",
       "      <td>...</td>\n",
       "      <td>...</td>\n",
       "      <td>...</td>\n",
       "    </tr>\n",
       "    <tr>\n",
       "      <td>9995</td>\n",
       "      <td>771</td>\n",
       "      <td>France</td>\n",
       "      <td>Male</td>\n",
       "      <td>39</td>\n",
       "      <td>5</td>\n",
       "      <td>0.00</td>\n",
       "      <td>2</td>\n",
       "      <td>1</td>\n",
       "      <td>0</td>\n",
       "      <td>96270.64</td>\n",
       "      <td>0</td>\n",
       "    </tr>\n",
       "    <tr>\n",
       "      <td>9996</td>\n",
       "      <td>516</td>\n",
       "      <td>France</td>\n",
       "      <td>Male</td>\n",
       "      <td>35</td>\n",
       "      <td>10</td>\n",
       "      <td>57369.61</td>\n",
       "      <td>1</td>\n",
       "      <td>1</td>\n",
       "      <td>1</td>\n",
       "      <td>101699.77</td>\n",
       "      <td>0</td>\n",
       "    </tr>\n",
       "    <tr>\n",
       "      <td>9997</td>\n",
       "      <td>709</td>\n",
       "      <td>France</td>\n",
       "      <td>Female</td>\n",
       "      <td>36</td>\n",
       "      <td>7</td>\n",
       "      <td>0.00</td>\n",
       "      <td>1</td>\n",
       "      <td>0</td>\n",
       "      <td>1</td>\n",
       "      <td>42085.58</td>\n",
       "      <td>1</td>\n",
       "    </tr>\n",
       "    <tr>\n",
       "      <td>9998</td>\n",
       "      <td>772</td>\n",
       "      <td>Germany</td>\n",
       "      <td>Male</td>\n",
       "      <td>42</td>\n",
       "      <td>3</td>\n",
       "      <td>75075.31</td>\n",
       "      <td>2</td>\n",
       "      <td>1</td>\n",
       "      <td>0</td>\n",
       "      <td>92888.52</td>\n",
       "      <td>1</td>\n",
       "    </tr>\n",
       "    <tr>\n",
       "      <td>9999</td>\n",
       "      <td>792</td>\n",
       "      <td>France</td>\n",
       "      <td>Female</td>\n",
       "      <td>28</td>\n",
       "      <td>0</td>\n",
       "      <td>130142.79</td>\n",
       "      <td>1</td>\n",
       "      <td>1</td>\n",
       "      <td>0</td>\n",
       "      <td>38190.78</td>\n",
       "      <td>0</td>\n",
       "    </tr>\n",
       "  </tbody>\n",
       "</table>\n",
       "<p>10000 rows × 11 columns</p>\n",
       "</div>"
      ],
      "text/plain": [
       "      CreditScore Geography  Gender  Age  Tenure    Balance  NumOfProducts  \\\n",
       "0             619    France  Female   42       2       0.00              1   \n",
       "1             608     Spain  Female   41       1   83807.86              1   \n",
       "2             502    France  Female   42       8  159660.80              3   \n",
       "3             699    France  Female   39       1       0.00              2   \n",
       "4             850     Spain  Female   43       2  125510.82              1   \n",
       "...           ...       ...     ...  ...     ...        ...            ...   \n",
       "9995          771    France    Male   39       5       0.00              2   \n",
       "9996          516    France    Male   35      10   57369.61              1   \n",
       "9997          709    France  Female   36       7       0.00              1   \n",
       "9998          772   Germany    Male   42       3   75075.31              2   \n",
       "9999          792    France  Female   28       0  130142.79              1   \n",
       "\n",
       "      HasCrCard  IsActiveMember  EstimatedSalary  Exited  \n",
       "0             1               1        101348.88       1  \n",
       "1             0               1        112542.58       0  \n",
       "2             1               0        113931.57       1  \n",
       "3             0               0         93826.63       0  \n",
       "4             1               1         79084.10       0  \n",
       "...         ...             ...              ...     ...  \n",
       "9995          1               0         96270.64       0  \n",
       "9996          1               1        101699.77       0  \n",
       "9997          0               1         42085.58       1  \n",
       "9998          1               0         92888.52       1  \n",
       "9999          1               0         38190.78       0  \n",
       "\n",
       "[10000 rows x 11 columns]"
      ]
     },
     "execution_count": 272,
     "metadata": {},
     "output_type": "execute_result"
    }
   ],
   "source": [
    "df = df.drop(['RowNumber','CustomerId','Surname'],axis = 1)\n",
    "df"
   ]
  },
  {
   "cell_type": "markdown",
   "metadata": {},
   "source": [
    "Преобразуем категориальные признаки в численные техникой прямого кодирования(OHE)."
   ]
  },
  {
   "cell_type": "code",
   "execution_count": 273,
   "metadata": {},
   "outputs": [
    {
     "data": {
      "text/html": [
       "<div>\n",
       "<style scoped>\n",
       "    .dataframe tbody tr th:only-of-type {\n",
       "        vertical-align: middle;\n",
       "    }\n",
       "\n",
       "    .dataframe tbody tr th {\n",
       "        vertical-align: top;\n",
       "    }\n",
       "\n",
       "    .dataframe thead th {\n",
       "        text-align: right;\n",
       "    }\n",
       "</style>\n",
       "<table border=\"1\" class=\"dataframe\">\n",
       "  <thead>\n",
       "    <tr style=\"text-align: right;\">\n",
       "      <th></th>\n",
       "      <th>CreditScore</th>\n",
       "      <th>Age</th>\n",
       "      <th>Tenure</th>\n",
       "      <th>Balance</th>\n",
       "      <th>NumOfProducts</th>\n",
       "      <th>HasCrCard</th>\n",
       "      <th>IsActiveMember</th>\n",
       "      <th>EstimatedSalary</th>\n",
       "      <th>Exited</th>\n",
       "      <th>Geography_Germany</th>\n",
       "      <th>Geography_Spain</th>\n",
       "      <th>Gender_Male</th>\n",
       "    </tr>\n",
       "  </thead>\n",
       "  <tbody>\n",
       "    <tr>\n",
       "      <td>0</td>\n",
       "      <td>619</td>\n",
       "      <td>42</td>\n",
       "      <td>2</td>\n",
       "      <td>0.00</td>\n",
       "      <td>1</td>\n",
       "      <td>1</td>\n",
       "      <td>1</td>\n",
       "      <td>101348.88</td>\n",
       "      <td>1</td>\n",
       "      <td>0</td>\n",
       "      <td>0</td>\n",
       "      <td>0</td>\n",
       "    </tr>\n",
       "    <tr>\n",
       "      <td>1</td>\n",
       "      <td>608</td>\n",
       "      <td>41</td>\n",
       "      <td>1</td>\n",
       "      <td>83807.86</td>\n",
       "      <td>1</td>\n",
       "      <td>0</td>\n",
       "      <td>1</td>\n",
       "      <td>112542.58</td>\n",
       "      <td>0</td>\n",
       "      <td>0</td>\n",
       "      <td>1</td>\n",
       "      <td>0</td>\n",
       "    </tr>\n",
       "    <tr>\n",
       "      <td>2</td>\n",
       "      <td>502</td>\n",
       "      <td>42</td>\n",
       "      <td>8</td>\n",
       "      <td>159660.80</td>\n",
       "      <td>3</td>\n",
       "      <td>1</td>\n",
       "      <td>0</td>\n",
       "      <td>113931.57</td>\n",
       "      <td>1</td>\n",
       "      <td>0</td>\n",
       "      <td>0</td>\n",
       "      <td>0</td>\n",
       "    </tr>\n",
       "    <tr>\n",
       "      <td>3</td>\n",
       "      <td>699</td>\n",
       "      <td>39</td>\n",
       "      <td>1</td>\n",
       "      <td>0.00</td>\n",
       "      <td>2</td>\n",
       "      <td>0</td>\n",
       "      <td>0</td>\n",
       "      <td>93826.63</td>\n",
       "      <td>0</td>\n",
       "      <td>0</td>\n",
       "      <td>0</td>\n",
       "      <td>0</td>\n",
       "    </tr>\n",
       "    <tr>\n",
       "      <td>4</td>\n",
       "      <td>850</td>\n",
       "      <td>43</td>\n",
       "      <td>2</td>\n",
       "      <td>125510.82</td>\n",
       "      <td>1</td>\n",
       "      <td>1</td>\n",
       "      <td>1</td>\n",
       "      <td>79084.10</td>\n",
       "      <td>0</td>\n",
       "      <td>0</td>\n",
       "      <td>1</td>\n",
       "      <td>0</td>\n",
       "    </tr>\n",
       "    <tr>\n",
       "      <td>...</td>\n",
       "      <td>...</td>\n",
       "      <td>...</td>\n",
       "      <td>...</td>\n",
       "      <td>...</td>\n",
       "      <td>...</td>\n",
       "      <td>...</td>\n",
       "      <td>...</td>\n",
       "      <td>...</td>\n",
       "      <td>...</td>\n",
       "      <td>...</td>\n",
       "      <td>...</td>\n",
       "      <td>...</td>\n",
       "    </tr>\n",
       "    <tr>\n",
       "      <td>9995</td>\n",
       "      <td>771</td>\n",
       "      <td>39</td>\n",
       "      <td>5</td>\n",
       "      <td>0.00</td>\n",
       "      <td>2</td>\n",
       "      <td>1</td>\n",
       "      <td>0</td>\n",
       "      <td>96270.64</td>\n",
       "      <td>0</td>\n",
       "      <td>0</td>\n",
       "      <td>0</td>\n",
       "      <td>1</td>\n",
       "    </tr>\n",
       "    <tr>\n",
       "      <td>9996</td>\n",
       "      <td>516</td>\n",
       "      <td>35</td>\n",
       "      <td>10</td>\n",
       "      <td>57369.61</td>\n",
       "      <td>1</td>\n",
       "      <td>1</td>\n",
       "      <td>1</td>\n",
       "      <td>101699.77</td>\n",
       "      <td>0</td>\n",
       "      <td>0</td>\n",
       "      <td>0</td>\n",
       "      <td>1</td>\n",
       "    </tr>\n",
       "    <tr>\n",
       "      <td>9997</td>\n",
       "      <td>709</td>\n",
       "      <td>36</td>\n",
       "      <td>7</td>\n",
       "      <td>0.00</td>\n",
       "      <td>1</td>\n",
       "      <td>0</td>\n",
       "      <td>1</td>\n",
       "      <td>42085.58</td>\n",
       "      <td>1</td>\n",
       "      <td>0</td>\n",
       "      <td>0</td>\n",
       "      <td>0</td>\n",
       "    </tr>\n",
       "    <tr>\n",
       "      <td>9998</td>\n",
       "      <td>772</td>\n",
       "      <td>42</td>\n",
       "      <td>3</td>\n",
       "      <td>75075.31</td>\n",
       "      <td>2</td>\n",
       "      <td>1</td>\n",
       "      <td>0</td>\n",
       "      <td>92888.52</td>\n",
       "      <td>1</td>\n",
       "      <td>1</td>\n",
       "      <td>0</td>\n",
       "      <td>1</td>\n",
       "    </tr>\n",
       "    <tr>\n",
       "      <td>9999</td>\n",
       "      <td>792</td>\n",
       "      <td>28</td>\n",
       "      <td>0</td>\n",
       "      <td>130142.79</td>\n",
       "      <td>1</td>\n",
       "      <td>1</td>\n",
       "      <td>0</td>\n",
       "      <td>38190.78</td>\n",
       "      <td>0</td>\n",
       "      <td>0</td>\n",
       "      <td>0</td>\n",
       "      <td>0</td>\n",
       "    </tr>\n",
       "  </tbody>\n",
       "</table>\n",
       "<p>10000 rows × 12 columns</p>\n",
       "</div>"
      ],
      "text/plain": [
       "      CreditScore  Age  Tenure    Balance  NumOfProducts  HasCrCard  \\\n",
       "0             619   42       2       0.00              1          1   \n",
       "1             608   41       1   83807.86              1          0   \n",
       "2             502   42       8  159660.80              3          1   \n",
       "3             699   39       1       0.00              2          0   \n",
       "4             850   43       2  125510.82              1          1   \n",
       "...           ...  ...     ...        ...            ...        ...   \n",
       "9995          771   39       5       0.00              2          1   \n",
       "9996          516   35      10   57369.61              1          1   \n",
       "9997          709   36       7       0.00              1          0   \n",
       "9998          772   42       3   75075.31              2          1   \n",
       "9999          792   28       0  130142.79              1          1   \n",
       "\n",
       "      IsActiveMember  EstimatedSalary  Exited  Geography_Germany  \\\n",
       "0                  1        101348.88       1                  0   \n",
       "1                  1        112542.58       0                  0   \n",
       "2                  0        113931.57       1                  0   \n",
       "3                  0         93826.63       0                  0   \n",
       "4                  1         79084.10       0                  0   \n",
       "...              ...              ...     ...                ...   \n",
       "9995               0         96270.64       0                  0   \n",
       "9996               1        101699.77       0                  0   \n",
       "9997               1         42085.58       1                  0   \n",
       "9998               0         92888.52       1                  1   \n",
       "9999               0         38190.78       0                  0   \n",
       "\n",
       "      Geography_Spain  Gender_Male  \n",
       "0                   0            0  \n",
       "1                   1            0  \n",
       "2                   0            0  \n",
       "3                   0            0  \n",
       "4                   1            0  \n",
       "...               ...          ...  \n",
       "9995                0            1  \n",
       "9996                0            1  \n",
       "9997                0            0  \n",
       "9998                0            1  \n",
       "9999                0            0  \n",
       "\n",
       "[10000 rows x 12 columns]"
      ]
     },
     "execution_count": 273,
     "metadata": {},
     "output_type": "execute_result"
    }
   ],
   "source": [
    "df = pd.get_dummies(df, drop_first=True)\n",
    "df"
   ]
  },
  {
   "cell_type": "markdown",
   "metadata": {},
   "source": [
    "Разобъем данные на выборки."
   ]
  },
  {
   "cell_type": "code",
   "execution_count": 274,
   "metadata": {},
   "outputs": [
    {
     "name": "stdout",
     "output_type": "stream",
     "text": [
      "Размер обучающей выборки: 6000\n",
      "Размер валидационной выборки: 2000\n",
      "Размер тестовой выборки: 2000\n"
     ]
    }
   ],
   "source": [
    "features = df.drop('Exited',axis = 1) \n",
    "target = df['Exited']\n",
    "\n",
    "features_train, features_temp, target_train, target_temp  = train_test_split(features, target, test_size=0.40, random_state=12345)\n",
    "features_valid, features_test, target_valid, target_test = train_test_split(features_temp,target_temp, test_size=0.50, random_state=12345)\n",
    "\n",
    "print('Размер обучающей выборки:',features_train.shape[0])\n",
    "print('Размер валидационной выборки:',features_valid.shape[0])\n",
    "print('Размер тестовой выборки:',features_test.shape[0])"
   ]
  },
  {
   "cell_type": "markdown",
   "metadata": {},
   "source": [
    "Масштабируем данные методом стандартизации."
   ]
  },
  {
   "cell_type": "code",
   "execution_count": 275,
   "metadata": {},
   "outputs": [
    {
     "data": {
      "text/html": [
       "<div>\n",
       "<style scoped>\n",
       "    .dataframe tbody tr th:only-of-type {\n",
       "        vertical-align: middle;\n",
       "    }\n",
       "\n",
       "    .dataframe tbody tr th {\n",
       "        vertical-align: top;\n",
       "    }\n",
       "\n",
       "    .dataframe thead th {\n",
       "        text-align: right;\n",
       "    }\n",
       "</style>\n",
       "<table border=\"1\" class=\"dataframe\">\n",
       "  <thead>\n",
       "    <tr style=\"text-align: right;\">\n",
       "      <th></th>\n",
       "      <th>CreditScore</th>\n",
       "      <th>Age</th>\n",
       "      <th>Tenure</th>\n",
       "      <th>Balance</th>\n",
       "      <th>NumOfProducts</th>\n",
       "      <th>HasCrCard</th>\n",
       "      <th>IsActiveMember</th>\n",
       "      <th>EstimatedSalary</th>\n",
       "      <th>Geography_Germany</th>\n",
       "      <th>Geography_Spain</th>\n",
       "      <th>Gender_Male</th>\n",
       "    </tr>\n",
       "  </thead>\n",
       "  <tbody>\n",
       "    <tr>\n",
       "      <td>7479</td>\n",
       "      <td>-0.886751</td>\n",
       "      <td>-0.373192</td>\n",
       "      <td>8</td>\n",
       "      <td>1.232271</td>\n",
       "      <td>1</td>\n",
       "      <td>1</td>\n",
       "      <td>0</td>\n",
       "      <td>-0.187705</td>\n",
       "      <td>0</td>\n",
       "      <td>1</td>\n",
       "      <td>1</td>\n",
       "    </tr>\n",
       "    <tr>\n",
       "      <td>3411</td>\n",
       "      <td>0.608663</td>\n",
       "      <td>-0.183385</td>\n",
       "      <td>8</td>\n",
       "      <td>0.600563</td>\n",
       "      <td>1</td>\n",
       "      <td>0</td>\n",
       "      <td>0</td>\n",
       "      <td>-0.333945</td>\n",
       "      <td>0</td>\n",
       "      <td>0</td>\n",
       "      <td>0</td>\n",
       "    </tr>\n",
       "    <tr>\n",
       "      <td>6027</td>\n",
       "      <td>2.052152</td>\n",
       "      <td>0.480939</td>\n",
       "      <td>3</td>\n",
       "      <td>1.027098</td>\n",
       "      <td>2</td>\n",
       "      <td>0</td>\n",
       "      <td>1</td>\n",
       "      <td>1.503095</td>\n",
       "      <td>1</td>\n",
       "      <td>0</td>\n",
       "      <td>1</td>\n",
       "    </tr>\n",
       "    <tr>\n",
       "      <td>1247</td>\n",
       "      <td>-1.457915</td>\n",
       "      <td>-1.417129</td>\n",
       "      <td>6</td>\n",
       "      <td>-1.233163</td>\n",
       "      <td>2</td>\n",
       "      <td>1</td>\n",
       "      <td>0</td>\n",
       "      <td>-1.071061</td>\n",
       "      <td>0</td>\n",
       "      <td>0</td>\n",
       "      <td>1</td>\n",
       "    </tr>\n",
       "    <tr>\n",
       "      <td>3716</td>\n",
       "      <td>0.130961</td>\n",
       "      <td>-1.132419</td>\n",
       "      <td>2</td>\n",
       "      <td>1.140475</td>\n",
       "      <td>1</td>\n",
       "      <td>0</td>\n",
       "      <td>0</td>\n",
       "      <td>1.524268</td>\n",
       "      <td>1</td>\n",
       "      <td>0</td>\n",
       "      <td>0</td>\n",
       "    </tr>\n",
       "    <tr>\n",
       "      <td>...</td>\n",
       "      <td>...</td>\n",
       "      <td>...</td>\n",
       "      <td>...</td>\n",
       "      <td>...</td>\n",
       "      <td>...</td>\n",
       "      <td>...</td>\n",
       "      <td>...</td>\n",
       "      <td>...</td>\n",
       "      <td>...</td>\n",
       "      <td>...</td>\n",
       "      <td>...</td>\n",
       "    </tr>\n",
       "    <tr>\n",
       "      <td>4478</td>\n",
       "      <td>-1.073677</td>\n",
       "      <td>-0.752805</td>\n",
       "      <td>4</td>\n",
       "      <td>-1.233163</td>\n",
       "      <td>2</td>\n",
       "      <td>0</td>\n",
       "      <td>1</td>\n",
       "      <td>-1.278361</td>\n",
       "      <td>0</td>\n",
       "      <td>0</td>\n",
       "      <td>1</td>\n",
       "    </tr>\n",
       "    <tr>\n",
       "      <td>4094</td>\n",
       "      <td>-1.447531</td>\n",
       "      <td>-0.942612</td>\n",
       "      <td>10</td>\n",
       "      <td>-1.233163</td>\n",
       "      <td>2</td>\n",
       "      <td>0</td>\n",
       "      <td>1</td>\n",
       "      <td>-1.281307</td>\n",
       "      <td>0</td>\n",
       "      <td>0</td>\n",
       "      <td>1</td>\n",
       "    </tr>\n",
       "    <tr>\n",
       "      <td>3492</td>\n",
       "      <td>0.027113</td>\n",
       "      <td>0.575842</td>\n",
       "      <td>0</td>\n",
       "      <td>-0.310229</td>\n",
       "      <td>1</td>\n",
       "      <td>0</td>\n",
       "      <td>1</td>\n",
       "      <td>-0.903158</td>\n",
       "      <td>0</td>\n",
       "      <td>0</td>\n",
       "      <td>0</td>\n",
       "    </tr>\n",
       "    <tr>\n",
       "      <td>2177</td>\n",
       "      <td>0.151731</td>\n",
       "      <td>-1.417129</td>\n",
       "      <td>4</td>\n",
       "      <td>-1.233163</td>\n",
       "      <td>2</td>\n",
       "      <td>0</td>\n",
       "      <td>1</td>\n",
       "      <td>-1.128539</td>\n",
       "      <td>0</td>\n",
       "      <td>0</td>\n",
       "      <td>0</td>\n",
       "    </tr>\n",
       "    <tr>\n",
       "      <td>4578</td>\n",
       "      <td>0.400966</td>\n",
       "      <td>-0.088482</td>\n",
       "      <td>1</td>\n",
       "      <td>-1.233163</td>\n",
       "      <td>2</td>\n",
       "      <td>0</td>\n",
       "      <td>0</td>\n",
       "      <td>-0.949841</td>\n",
       "      <td>0</td>\n",
       "      <td>0</td>\n",
       "      <td>1</td>\n",
       "    </tr>\n",
       "  </tbody>\n",
       "</table>\n",
       "<p>6000 rows × 11 columns</p>\n",
       "</div>"
      ],
      "text/plain": [
       "      CreditScore       Age  Tenure   Balance  NumOfProducts  HasCrCard  \\\n",
       "7479    -0.886751 -0.373192       8  1.232271              1          1   \n",
       "3411     0.608663 -0.183385       8  0.600563              1          0   \n",
       "6027     2.052152  0.480939       3  1.027098              2          0   \n",
       "1247    -1.457915 -1.417129       6 -1.233163              2          1   \n",
       "3716     0.130961 -1.132419       2  1.140475              1          0   \n",
       "...           ...       ...     ...       ...            ...        ...   \n",
       "4478    -1.073677 -0.752805       4 -1.233163              2          0   \n",
       "4094    -1.447531 -0.942612      10 -1.233163              2          0   \n",
       "3492     0.027113  0.575842       0 -0.310229              1          0   \n",
       "2177     0.151731 -1.417129       4 -1.233163              2          0   \n",
       "4578     0.400966 -0.088482       1 -1.233163              2          0   \n",
       "\n",
       "      IsActiveMember  EstimatedSalary  Geography_Germany  Geography_Spain  \\\n",
       "7479               0        -0.187705                  0                1   \n",
       "3411               0        -0.333945                  0                0   \n",
       "6027               1         1.503095                  1                0   \n",
       "1247               0        -1.071061                  0                0   \n",
       "3716               0         1.524268                  1                0   \n",
       "...              ...              ...                ...              ...   \n",
       "4478               1        -1.278361                  0                0   \n",
       "4094               1        -1.281307                  0                0   \n",
       "3492               1        -0.903158                  0                0   \n",
       "2177               1        -1.128539                  0                0   \n",
       "4578               0        -0.949841                  0                0   \n",
       "\n",
       "      Gender_Male  \n",
       "7479            1  \n",
       "3411            0  \n",
       "6027            1  \n",
       "1247            1  \n",
       "3716            0  \n",
       "...           ...  \n",
       "4478            1  \n",
       "4094            1  \n",
       "3492            0  \n",
       "2177            0  \n",
       "4578            1  \n",
       "\n",
       "[6000 rows x 11 columns]"
      ]
     },
     "execution_count": 275,
     "metadata": {},
     "output_type": "execute_result"
    }
   ],
   "source": [
    "scaler = StandardScaler()\n",
    "numeric = ['CreditScore', 'Age', 'Balance', 'EstimatedSalary']\n",
    "scaler.fit(features_train[numeric])\n",
    "features_train[numeric] = scaler.transform(features_train[numeric])\n",
    "features_valid[numeric]  = scaler.transform(features_valid[numeric]) \n",
    "features_test[numeric]  = scaler.transform(features_test[numeric]) \n",
    "features_train"
   ]
  },
  {
   "cell_type": "markdown",
   "metadata": {},
   "source": [
    "### Вывод:"
   ]
  },
  {
   "cell_type": "markdown",
   "metadata": {},
   "source": [
    " - Nan-значения в столбце Tenure заменены 0\n",
    " - Удалены не нужные столбцы\n",
    " - Дубликатов нет\n",
    " - Выборки выделены"
   ]
  },
  {
   "cell_type": "markdown",
   "metadata": {},
   "source": [
    "## Исследование задачи"
   ]
  },
  {
   "cell_type": "markdown",
   "metadata": {},
   "source": [
    "Посмотрим на баланс."
   ]
  },
  {
   "cell_type": "code",
   "execution_count": 276,
   "metadata": {},
   "outputs": [
    {
     "data": {
      "text/plain": [
       "2037"
      ]
     },
     "execution_count": 276,
     "metadata": {},
     "output_type": "execute_result"
    }
   ],
   "source": [
    "df['Exited'].sum()"
   ]
  },
  {
   "cell_type": "code",
   "execution_count": 277,
   "metadata": {},
   "outputs": [
    {
     "data": {
      "text/plain": [
       "0.2037"
      ]
     },
     "execution_count": 277,
     "metadata": {},
     "output_type": "execute_result"
    }
   ],
   "source": [
    "df['Exited'].mean()"
   ]
  },
  {
   "cell_type": "markdown",
   "metadata": {},
   "source": [
    "Посчитаем метрику f1 на несбалансированной выборке, методом случайного леса."
   ]
  },
  {
   "cell_type": "code",
   "execution_count": 278,
   "metadata": {},
   "outputs": [
    {
     "name": "stdout",
     "output_type": "stream",
     "text": [
      "Лучший результат метрики f1: 0.5806451612903226, при n_estimators = 60, max_depth = 10\n"
     ]
    }
   ],
   "source": [
    "best_res = 0\n",
    "best_est = 0\n",
    "best_depth = 0\n",
    "for est in range(10,100,10):\n",
    "    for depth in range(1,11):\n",
    "        model = RandomForestClassifier(random_state=12345, n_estimators=est, max_depth = depth).fit(features_train, target_train)\n",
    "        predictions_valid = model.predict(features_valid)\n",
    "        result = f1_score(target_valid, predictions_valid)\n",
    "        if best_res<result:\n",
    "            best_res = result\n",
    "            best_est = est\n",
    "            best_depth = depth\n",
    "print('Лучший результат метрики f1: {}, при n_estimators = {}, max_depth = {}'.format(best_res,best_est,best_depth))"
   ]
  },
  {
   "cell_type": "markdown",
   "metadata": {},
   "source": [
    "Попробуем CatBoost. Единственный нюанс, в документации рекомедуют не использовать технику прямого кодирования."
   ]
  },
  {
   "cell_type": "code",
   "execution_count": 279,
   "metadata": {},
   "outputs": [
    {
     "name": "stdout",
     "output_type": "stream",
     "text": [
      "0:\tlearn: 0.4873666\ttest: 0.4592834\tbest: 0.4592834 (0)\ttotal: 6.91ms\tremaining: 6.9s\n",
      "200:\tlearn: 0.6659804\ttest: 0.5994065\tbest: 0.6089552 (180)\ttotal: 7.06s\tremaining: 28.1s\n",
      "400:\tlearn: 0.7358962\ttest: 0.6102190\tbest: 0.6102190 (354)\ttotal: 12.9s\tremaining: 19.3s\n",
      "600:\tlearn: 0.7901115\ttest: 0.6078148\tbest: 0.6160584 (443)\ttotal: 18.3s\tremaining: 12.2s\n",
      "800:\tlearn: 0.8356808\ttest: 0.6123033\tbest: 0.6160584 (443)\ttotal: 23.9s\tremaining: 5.93s\n",
      "999:\tlearn: 0.8748850\ttest: 0.5968436\tbest: 0.6160584 (443)\ttotal: 29.5s\tremaining: 0us\n",
      "\n",
      "bestTest = 0.6160583942\n",
      "bestIteration = 443\n",
      "\n",
      "Shrink model to first 444 iterations.\n"
     ]
    },
    {
     "data": {
      "text/plain": [
       "<catboost.core.CatBoostClassifier at 0x7f2a2ad00c50>"
      ]
     },
     "execution_count": 279,
     "metadata": {},
     "output_type": "execute_result"
    }
   ],
   "source": [
    "model = CatBoostClassifier(learning_rate = 0.05, eval_metric = 'F1', verbose = 200)\n",
    "model.fit(features_train, target_train, eval_set = (features_valid, target_valid))"
   ]
  },
  {
   "cell_type": "markdown",
   "metadata": {},
   "source": [
    "Результат лучше, чум у случайного леса. Сразу на тест)"
   ]
  },
  {
   "cell_type": "code",
   "execution_count": 280,
   "metadata": {},
   "outputs": [
    {
     "data": {
      "text/plain": [
       "0.563049853372434"
      ]
     },
     "execution_count": 280,
     "metadata": {},
     "output_type": "execute_result"
    }
   ],
   "source": [
    "predictions_test = model.predict(features_test)\n",
    "f1_score(target_test, predictions_test)"
   ]
  },
  {
   "cell_type": "markdown",
   "metadata": {},
   "source": [
    "Глянем ROC-AUC для интереса."
   ]
  },
  {
   "cell_type": "code",
   "execution_count": 281,
   "metadata": {},
   "outputs": [
    {
     "data": {
      "text/plain": [
       "0.8630715471066798"
      ]
     },
     "execution_count": 281,
     "metadata": {},
     "output_type": "execute_result"
    }
   ],
   "source": [
    "score_catboost = model.predict_proba(features_test)[:,1]\n",
    "roc_auc_score(target_test, score_catboost)"
   ]
  },
  {
   "cell_type": "markdown",
   "metadata": {},
   "source": [
    "Досрочно выполнить задание не удалось...придется балансировать)"
   ]
  },
  {
   "cell_type": "markdown",
   "metadata": {},
   "source": [
    "### Вывод:\n",
    "**CatBoost отработал лучше, но при таком балансе результат не удовлетворительный.**"
   ]
  },
  {
   "cell_type": "markdown",
   "metadata": {},
   "source": [
    "## Борьба с дисбалансом"
   ]
  },
  {
   "cell_type": "markdown",
   "metadata": {},
   "source": [
    "Уже на обученной модели пробуем менять порог"
   ]
  },
  {
   "cell_type": "code",
   "execution_count": 282,
   "metadata": {},
   "outputs": [
    {
     "name": "stdout",
     "output_type": "stream",
     "text": [
      "Порог = 0.00 | f1 = 0.346\n",
      "Порог = 0.02 | f1 = 0.393\n",
      "Порог = 0.04 | f1 = 0.434\n",
      "Порог = 0.06 | f1 = 0.477\n",
      "Порог = 0.08 | f1 = 0.512\n",
      "Порог = 0.10 | f1 = 0.538\n",
      "Порог = 0.12 | f1 = 0.560\n",
      "Порог = 0.14 | f1 = 0.570\n",
      "Порог = 0.16 | f1 = 0.582\n",
      "Порог = 0.18 | f1 = 0.600\n",
      "Порог = 0.20 | f1 = 0.603\n",
      "Порог = 0.22 | f1 = 0.606\n",
      "Порог = 0.24 | f1 = 0.622\n",
      "Порог = 0.26 | f1 = 0.626\n",
      "Порог = 0.28 | f1 = 0.630\n",
      "Порог = 0.30 | f1 = 0.634\n",
      "Порог = 0.32 | f1 = 0.630\n",
      "Порог = 0.34 | f1 = 0.637\n",
      "Порог = 0.36 | f1 = 0.639\n",
      "Порог = 0.38 | f1 = 0.632\n",
      "Порог = 0.40 | f1 = 0.623\n",
      "Порог = 0.42 | f1 = 0.613\n",
      "Порог = 0.44 | f1 = 0.607\n",
      "Порог = 0.46 | f1 = 0.612\n",
      "Порог = 0.48 | f1 = 0.610\n",
      "Лучшие показатели метрики при пороге = 0.36 | f1 = 0.639\n"
     ]
    }
   ],
   "source": [
    "score_catboost_valid = model.predict_proba(features_valid)[:,1]\n",
    "best_res = 0\n",
    "best_threshold = 0\n",
    "for threshold in np.arange(0, 0.5, 0.02):\n",
    "    predicted_valid = score_catboost_valid > threshold \n",
    "    f1_valid = f1_score(target_valid, predicted_valid)\n",
    "    roc_auc_valid = roc_auc_score(target_test, score_catboost_valid)\n",
    "    print(\"Порог = {:.2f} | f1 = {:.3f}\".format(\n",
    "        threshold, f1_valid))\n",
    "    if f1_valid > best_res:\n",
    "        best_res = f1_valid\n",
    "        best_threshold = threshold\n",
    "print(\"Лучшие показатели метрики при пороге = {:.2f} | f1 = {:.3f}\".format(\n",
    "        best_threshold, best_res))"
   ]
  },
  {
   "cell_type": "markdown",
   "metadata": {},
   "source": [
    "Теперь снова лес, так же перебором гиперпараметров, но с class_weight='balanced'"
   ]
  },
  {
   "cell_type": "code",
   "execution_count": 283,
   "metadata": {},
   "outputs": [
    {
     "name": "stdout",
     "output_type": "stream",
     "text": [
      "Лучший результат метрики f1: 0.6346153846153846, при n_estimators = 70, max_depth = 7\n"
     ]
    }
   ],
   "source": [
    "best_res = 0\n",
    "best_est = 0\n",
    "best_depth = 0\n",
    "for est in range(10,100,10):\n",
    "    for depth in range(1,11):\n",
    "        model = RandomForestClassifier(random_state=12345, n_estimators=est, max_depth = depth, \n",
    "                                       class_weight='balanced').fit(features_train, target_train)\n",
    "        predictions_valid = model.predict(features_valid)\n",
    "        result = f1_score(target_valid, predictions_valid)\n",
    "        if best_res<result:\n",
    "            best_res = result\n",
    "            best_est = est\n",
    "            best_depth = depth\n",
    "print('Лучший результат метрики f1: {}, при n_estimators = {}, max_depth = {}'.format(best_res,best_est,best_depth))"
   ]
  },
  {
   "cell_type": "markdown",
   "metadata": {},
   "source": [
    "Попробуем увеличить выборку, уменьшать некуда) 80/20 все таки."
   ]
  },
  {
   "cell_type": "code",
   "execution_count": 284,
   "metadata": {},
   "outputs": [
    {
     "name": "stdout",
     "output_type": "stream",
     "text": [
      "F1: 0.5466237942122186\n",
      "F1: 0.6062246278755075\n",
      "F1: 0.6395348837209303\n",
      "F1: 0.6174089068825911\n",
      "F1: 0.5927272727272728\n",
      "F1: 0.5616883116883117\n",
      "F1: 0.5381708238851096\n",
      "F1: 0.5229885057471264\n",
      "F1: 0.5117565698478562\n",
      "Лучшие показатели метрики при 3 повторах | f1 = 0.640\n"
     ]
    }
   ],
   "source": [
    "def upsample(features, target, repeat):\n",
    "    features_zeros = features[target == 0]\n",
    "    features_ones = features[target == 1]\n",
    "    target_zeros = target[target == 0]\n",
    "    target_ones = target[target == 1]\n",
    "\n",
    "    features_upsampled = pd.concat([features_zeros] + [features_ones] * repeat)\n",
    "    target_upsampled = pd.concat([target_zeros] + [target_ones] * repeat)\n",
    "    \n",
    "    features_upsampled, target_upsampled = shuffle(\n",
    "        features_upsampled, target_upsampled, random_state=12345)\n",
    "    \n",
    "    return features_upsampled, target_upsampled\n",
    "\n",
    "best_res = 0\n",
    "best_repeat = 0\n",
    "\n",
    "for repeat in range(1,10,1):\n",
    "    features_upsampled, target_upsampled = upsample(features_train, target_train, repeat)\n",
    "    model = RandomForestClassifier(random_state=12345,n_estimators=70, max_depth = 7) \n",
    "    model.fit(features_upsampled, target_upsampled)\n",
    "    predicted_valid = model.predict(features_valid)\n",
    "    result = f1_score(target_valid, predicted_valid)\n",
    "    print(\"F1:\", result)\n",
    "    if best_res<result:\n",
    "            best_res = result\n",
    "            best_repeat = repeat\n",
    "    \n",
    "print(\"Лучшие показатели метрики при {} повторах | f1 = {:.3f}\".format(\n",
    "        best_repeat, best_res))"
   ]
  },
  {
   "cell_type": "markdown",
   "metadata": {},
   "source": [
    "**Лучшие результаты получились при снижении порога и при увеличении выборки, округленные - 0.64. Тестировать будем уже на модели,которая обучалась на увеличенной выборке.**"
   ]
  },
  {
   "cell_type": "code",
   "execution_count": 285,
   "metadata": {},
   "outputs": [
    {
     "name": "stdout",
     "output_type": "stream",
     "text": [
      "Лучшие показатели метрики при 3 повторах | f1 = 0.642| est = 90| depth = 6\n"
     ]
    }
   ],
   "source": [
    "best_res = 0\n",
    "best_est = 0\n",
    "best_depth = 0\n",
    "best_repeat = 0\n",
    "\n",
    "for repeat in range(1,10,1):\n",
    "    features_upsampled, target_upsampled = upsample(features_train, target_train, repeat)\n",
    "    for est in range(10,100,10):\n",
    "        for depth in range(1,11):\n",
    "            model = RandomForestClassifier(random_state=12345,n_estimators=est, max_depth = depth) \n",
    "            model.fit(features_upsampled, target_upsampled)\n",
    "            predicted_valid = model.predict(features_valid)\n",
    "            result = f1_score(target_valid, predicted_valid)\n",
    "            if best_res<result:\n",
    "                best_res = result\n",
    "                best_repeat = repeat\n",
    "                best_est = est\n",
    "                best_depth = depth\n",
    "                \n",
    "print(\"Лучшие показатели метрики при {} повторах | f1 = {:.3f}| est = {}| depth = {}\".format(\n",
    "        best_repeat, best_res, best_est, best_depth))"
   ]
  },
  {
   "cell_type": "markdown",
   "metadata": {},
   "source": [
    "## Тестирование модели"
   ]
  },
  {
   "cell_type": "markdown",
   "metadata": {},
   "source": [
    "Обучим модель на лучших гипперпараметрах,которые удалось найти. Выборку так же увеличим."
   ]
  },
  {
   "cell_type": "code",
   "execution_count": 290,
   "metadata": {},
   "outputs": [
    {
     "data": {
      "text/plain": [
       "0.6016073478760046"
      ]
     },
     "execution_count": 290,
     "metadata": {},
     "output_type": "execute_result"
    }
   ],
   "source": [
    "features_upsampled, target_upsampled = upsample(features_train, target_train, best_repeat)\n",
    "model = RandomForestClassifier(random_state=12345,n_estimators=best_est, max_depth = best_depth) \n",
    "model.fit(features_upsampled, target_upsampled)\n",
    "predicted_test = model.predict(features_test)\n",
    "f1_score(target_test, predicted_test)\n"
   ]
  },
  {
   "cell_type": "markdown",
   "metadata": {},
   "source": [
    "Результат удовлетварительный."
   ]
  },
  {
   "cell_type": "code",
   "execution_count": 287,
   "metadata": {},
   "outputs": [
    {
     "data": {
      "image/png": "[encoded data removed]",
      "text/plain": [
       "<Figure size 432x288 with 1 Axes>"
      ]
     },
     "metadata": {
      "needs_background": "light"
     },
     "output_type": "display_data"
    },
    {
     "data": {
      "text/plain": [
       "0.8470687528014258"
      ]
     },
     "execution_count": 287,
     "metadata": {},
     "output_type": "execute_result"
    }
   ],
   "source": [
    "score = model.predict_proba(features_test)[:,1]\n",
    "fpr, tpr, thresholds = roc_curve(target_test, score) \n",
    "\n",
    "plt.figure()\n",
    "plt.plot([0, 1], [0, 1], linestyle='--')\n",
    "plt.plot(fpr, tpr)\n",
    "plt.xlim([0.0, 1.0])\n",
    "plt.ylim([0.0, 1.0])\n",
    "plt.xlabel('False Positive Rate')\n",
    "plt.ylabel('True Positive Rate')\n",
    "plt.title('ROC-кривая')\n",
    "plt.show() \n",
    "roc_auc_score(target_test, score)"
   ]
  },
  {
   "cell_type": "markdown",
   "metadata": {},
   "source": [
    "## Общий вывод\n",
    " - Балансировать классы нужно обязательно\n",
    " - Добились нужного результа на модели случайного леса, балансировали увеличением выборки. На тестовой выборке F1 - 0.592\n",
    " - Метрика ROC-AUC 74, наша модель предсказывает не плохо."
   ]
  },
  {
   "cell_type": "markdown",
   "metadata": {},
   "source": [
    " **PS: ощущение что,чего не хватает...**"
   ]
  },
  {
   "cell_type": "markdown",
   "metadata": {},
   "source": [
    "## Чек-лист готовности проекта"
   ]
  },
  {
   "cell_type": "markdown",
   "metadata": {},
   "source": [
    "Поставьте 'x' в выполненных пунктах. Далее нажмите Shift+Enter."
   ]
  },
  {
   "cell_type": "markdown",
   "metadata": {},
   "source": [
    "- [x]  Jupyter Notebook открыт\n",
    "- [x]  Весь код выполняется без ошибок\n",
    "- [x]  Ячейки с кодом расположены в порядке исполнения\n",
    "- [x]  Выполнен шаг 1: данные подготовлены\n",
    "- [x]  Выполнен шаг 2: задача исследована\n",
    "    - [x]  Исследован баланс классов\n",
    "    - [x]  Изучены модели без учёта дисбаланса\n",
    "    - [x]  Написаны выводы по результатам исследования\n",
    "- [x]  Выполнен шаг 3: учтён дисбаланс\n",
    "    - [x]  Применено несколько способов борьбы с дисбалансом\n",
    "    - [x]  Написаны выводы по результатам исследования\n",
    "- [x]  Выполнен шаг 4: проведено тестирование\n",
    "- [x]  Удалось достичь *F1*-меры не менее 0.59\n",
    "- [x]  Исследована метрика *AUC-ROC*"
   ]
  }
 ],
 "metadata": {
  "ExecuteTimeLog": [
   {
    "duration": 1780,
    "start_time": "2021-11-10T10:35:49.062Z"
   },
   {
    "duration": 88,
    "start_time": "2021-11-10T10:35:50.844Z"
   },
   {
    "duration": 9,
    "start_time": "2021-11-10T10:37:23.033Z"
   },
   {
    "duration": 383,
    "start_time": "2021-11-10T10:46:26.727Z"
   },
   {
    "duration": 257,
    "start_time": "2021-11-10T10:46:42.243Z"
   },
   {
    "duration": 273,
    "start_time": "2021-11-10T10:47:56.635Z"
   },
   {
    "duration": 12,
    "start_time": "2021-11-10T10:48:09.365Z"
   },
   {
    "duration": 7,
    "start_time": "2021-11-10T10:48:25.988Z"
   },
   {
    "duration": 5,
    "start_time": "2021-11-10T10:48:38.816Z"
   },
   {
    "duration": 5,
    "start_time": "2021-11-10T10:49:51.625Z"
   },
   {
    "duration": 8,
    "start_time": "2021-11-10T10:50:13.229Z"
   },
   {
    "duration": 6,
    "start_time": "2021-11-10T10:51:05.537Z"
   },
   {
    "duration": 22,
    "start_time": "2021-11-10T10:56:32.154Z"
   },
   {
    "duration": 1487,
    "start_time": "2021-11-11T14:46:22.749Z"
   },
   {
    "duration": 42,
    "start_time": "2021-11-11T14:46:35.898Z"
   },
   {
    "duration": 9,
    "start_time": "2021-11-11T14:47:09.457Z"
   },
   {
    "duration": 23,
    "start_time": "2021-11-11T14:48:33.198Z"
   },
   {
    "duration": 1535,
    "start_time": "2021-11-15T14:19:47.049Z"
   },
   {
    "duration": 64,
    "start_time": "2021-11-15T14:19:48.587Z"
   },
   {
    "duration": 12,
    "start_time": "2021-11-15T14:19:48.655Z"
   },
   {
    "duration": 11,
    "start_time": "2021-11-15T14:19:48.670Z"
   },
   {
    "duration": 66,
    "start_time": "2021-11-15T14:19:48.684Z"
   },
   {
    "duration": 6,
    "start_time": "2021-11-15T14:19:48.753Z"
   },
   {
    "duration": 36,
    "start_time": "2021-11-15T14:19:48.761Z"
   },
   {
    "duration": 6,
    "start_time": "2021-11-15T14:19:48.800Z"
   },
   {
    "duration": 7,
    "start_time": "2021-11-15T14:19:48.830Z"
   },
   {
    "duration": 309,
    "start_time": "2021-11-16T05:50:00.160Z"
   },
   {
    "duration": 1110,
    "start_time": "2021-11-16T05:50:07.248Z"
   },
   {
    "duration": 38,
    "start_time": "2021-11-16T05:50:08.360Z"
   },
   {
    "duration": 7,
    "start_time": "2021-11-16T05:50:08.399Z"
   },
   {
    "duration": 6,
    "start_time": "2021-11-16T05:50:08.408Z"
   },
   {
    "duration": 27,
    "start_time": "2021-11-16T05:50:08.416Z"
   },
   {
    "duration": 6,
    "start_time": "2021-11-16T05:50:08.444Z"
   },
   {
    "duration": 17,
    "start_time": "2021-11-16T05:50:08.451Z"
   },
   {
    "duration": 26,
    "start_time": "2021-11-16T05:50:08.469Z"
   },
   {
    "duration": 7,
    "start_time": "2021-11-16T05:50:08.496Z"
   },
   {
    "duration": 24,
    "start_time": "2021-11-16T05:50:08.504Z"
   },
   {
    "duration": 6,
    "start_time": "2021-11-16T05:50:28.900Z"
   },
   {
    "duration": 6,
    "start_time": "2021-11-16T05:50:43.409Z"
   },
   {
    "duration": 333,
    "start_time": "2021-11-16T05:55:03.735Z"
   },
   {
    "duration": 3,
    "start_time": "2021-11-16T05:55:09.020Z"
   },
   {
    "duration": 47,
    "start_time": "2021-11-16T05:55:09.024Z"
   },
   {
    "duration": 7,
    "start_time": "2021-11-16T05:55:09.072Z"
   },
   {
    "duration": 19,
    "start_time": "2021-11-16T05:55:09.081Z"
   },
   {
    "duration": 32,
    "start_time": "2021-11-16T05:55:09.102Z"
   },
   {
    "duration": 11,
    "start_time": "2021-11-16T05:55:09.136Z"
   },
   {
    "duration": 25,
    "start_time": "2021-11-16T05:55:09.148Z"
   },
   {
    "duration": 20,
    "start_time": "2021-11-16T05:55:09.175Z"
   },
   {
    "duration": 27,
    "start_time": "2021-11-16T05:55:09.197Z"
   },
   {
    "duration": 277,
    "start_time": "2021-11-16T05:55:09.225Z"
   },
   {
    "duration": 27533,
    "start_time": "2021-11-16T05:54:41.971Z"
   },
   {
    "duration": 27529,
    "start_time": "2021-11-16T05:54:41.977Z"
   },
   {
    "duration": 25,
    "start_time": "2021-11-16T05:55:20.483Z"
   },
   {
    "duration": 334,
    "start_time": "2021-11-16T05:57:44.525Z"
   },
   {
    "duration": 3,
    "start_time": "2021-11-16T05:58:07.461Z"
   },
   {
    "duration": 4,
    "start_time": "2021-11-16T05:58:09.921Z"
   },
   {
    "duration": 36,
    "start_time": "2021-11-16T05:58:09.927Z"
   },
   {
    "duration": 7,
    "start_time": "2021-11-16T05:58:09.966Z"
   },
   {
    "duration": 8,
    "start_time": "2021-11-16T05:58:09.975Z"
   },
   {
    "duration": 19,
    "start_time": "2021-11-16T05:58:09.985Z"
   },
   {
    "duration": 7,
    "start_time": "2021-11-16T05:58:10.006Z"
   },
   {
    "duration": 7,
    "start_time": "2021-11-16T05:58:10.015Z"
   },
   {
    "duration": 6,
    "start_time": "2021-11-16T05:58:10.024Z"
   },
   {
    "duration": 16,
    "start_time": "2021-11-16T05:58:10.033Z"
   },
   {
    "duration": 52,
    "start_time": "2021-11-16T05:58:10.051Z"
   },
   {
    "duration": 25,
    "start_time": "2021-11-16T05:58:10.105Z"
   },
   {
    "duration": 4,
    "start_time": "2021-11-16T05:58:10.131Z"
   },
   {
    "duration": 4,
    "start_time": "2021-11-16T05:58:10.137Z"
   },
   {
    "duration": 11,
    "start_time": "2021-11-16T06:00:21.423Z"
   },
   {
    "duration": 265,
    "start_time": "2021-11-16T06:04:26.601Z"
   },
   {
    "duration": 257,
    "start_time": "2021-11-16T06:09:09.208Z"
   },
   {
    "duration": 400,
    "start_time": "2021-11-16T06:09:14.580Z"
   },
   {
    "duration": 323,
    "start_time": "2021-11-16T06:10:07.469Z"
   },
   {
    "duration": 264,
    "start_time": "2021-11-16T06:10:13.777Z"
   },
   {
    "duration": 332,
    "start_time": "2021-11-16T06:11:33.780Z"
   },
   {
    "duration": 4,
    "start_time": "2021-11-16T06:11:45.714Z"
   },
   {
    "duration": 3,
    "start_time": "2021-11-16T06:11:49.186Z"
   },
   {
    "duration": 8,
    "start_time": "2021-11-16T06:11:57.474Z"
   },
   {
    "duration": 8,
    "start_time": "2021-11-16T06:12:19.606Z"
   },
   {
    "duration": 7,
    "start_time": "2021-11-16T06:13:12.891Z"
   },
   {
    "duration": 3,
    "start_time": "2021-11-16T06:13:22.179Z"
   },
   {
    "duration": 39,
    "start_time": "2021-11-16T06:13:22.184Z"
   },
   {
    "duration": 7,
    "start_time": "2021-11-16T06:13:22.225Z"
   },
   {
    "duration": 6,
    "start_time": "2021-11-16T06:13:22.234Z"
   },
   {
    "duration": 5,
    "start_time": "2021-11-16T06:13:22.241Z"
   },
   {
    "duration": 8,
    "start_time": "2021-11-16T06:13:22.248Z"
   },
   {
    "duration": 5,
    "start_time": "2021-11-16T06:13:22.257Z"
   },
   {
    "duration": 24,
    "start_time": "2021-11-16T06:13:22.264Z"
   },
   {
    "duration": 4,
    "start_time": "2021-11-16T06:13:22.290Z"
   },
   {
    "duration": 18,
    "start_time": "2021-11-16T06:13:22.296Z"
   },
   {
    "duration": 24,
    "start_time": "2021-11-16T06:13:22.315Z"
   },
   {
    "duration": 48,
    "start_time": "2021-11-16T06:13:22.340Z"
   },
   {
    "duration": 10,
    "start_time": "2021-11-16T06:13:22.390Z"
   },
   {
    "duration": 3,
    "start_time": "2021-11-16T06:13:22.402Z"
   },
   {
    "duration": 5,
    "start_time": "2021-11-16T06:13:22.406Z"
   },
   {
    "duration": 15551,
    "start_time": "2021-11-16T06:13:22.413Z"
   },
   {
    "duration": 8,
    "start_time": "2021-11-16T06:14:28.536Z"
   },
   {
    "duration": 3,
    "start_time": "2021-11-16T06:15:46.203Z"
   },
   {
    "duration": 6,
    "start_time": "2021-11-16T06:15:46.208Z"
   },
   {
    "duration": 39,
    "start_time": "2021-11-16T06:15:46.216Z"
   },
   {
    "duration": 7,
    "start_time": "2021-11-16T06:15:46.257Z"
   },
   {
    "duration": 5,
    "start_time": "2021-11-16T06:15:46.265Z"
   },
   {
    "duration": 261,
    "start_time": "2021-11-16T06:15:46.272Z"
   },
   {
    "duration": 27525,
    "start_time": "2021-11-16T06:15:19.010Z"
   },
   {
    "duration": 27525,
    "start_time": "2021-11-16T06:15:19.011Z"
   },
   {
    "duration": 27526,
    "start_time": "2021-11-16T06:15:19.012Z"
   },
   {
    "duration": 27526,
    "start_time": "2021-11-16T06:15:19.013Z"
   },
   {
    "duration": 27526,
    "start_time": "2021-11-16T06:15:19.014Z"
   },
   {
    "duration": 27527,
    "start_time": "2021-11-16T06:15:19.015Z"
   },
   {
    "duration": 27527,
    "start_time": "2021-11-16T06:15:19.016Z"
   },
   {
    "duration": 27527,
    "start_time": "2021-11-16T06:15:19.017Z"
   },
   {
    "duration": 27528,
    "start_time": "2021-11-16T06:15:19.018Z"
   },
   {
    "duration": 27526,
    "start_time": "2021-11-16T06:15:19.021Z"
   },
   {
    "duration": 9,
    "start_time": "2021-11-16T06:16:13.027Z"
   },
   {
    "duration": 3,
    "start_time": "2021-11-16T06:16:16.262Z"
   },
   {
    "duration": 6,
    "start_time": "2021-11-16T06:16:16.266Z"
   },
   {
    "duration": 36,
    "start_time": "2021-11-16T06:16:16.274Z"
   },
   {
    "duration": 7,
    "start_time": "2021-11-16T06:16:16.311Z"
   },
   {
    "duration": 8,
    "start_time": "2021-11-16T06:16:16.319Z"
   },
   {
    "duration": 8,
    "start_time": "2021-11-16T06:16:16.328Z"
   },
   {
    "duration": 5,
    "start_time": "2021-11-16T06:16:16.337Z"
   },
   {
    "duration": 7,
    "start_time": "2021-11-16T06:16:16.343Z"
   },
   {
    "duration": 5,
    "start_time": "2021-11-16T06:16:16.352Z"
   },
   {
    "duration": 43,
    "start_time": "2021-11-16T06:16:16.358Z"
   },
   {
    "duration": 22,
    "start_time": "2021-11-16T06:16:16.403Z"
   },
   {
    "duration": 25,
    "start_time": "2021-11-16T06:16:16.426Z"
   },
   {
    "duration": 10,
    "start_time": "2021-11-16T06:16:16.452Z"
   },
   {
    "duration": 24,
    "start_time": "2021-11-16T06:16:16.463Z"
   },
   {
    "duration": 3,
    "start_time": "2021-11-16T06:16:16.489Z"
   },
   {
    "duration": 17696,
    "start_time": "2021-11-16T06:16:16.494Z"
   },
   {
    "duration": 21,
    "start_time": "2021-11-16T06:19:22.971Z"
   },
   {
    "duration": 2,
    "start_time": "2021-11-16T06:19:22.994Z"
   },
   {
    "duration": 39,
    "start_time": "2021-11-16T06:19:22.998Z"
   },
   {
    "duration": 7,
    "start_time": "2021-11-16T06:19:23.039Z"
   },
   {
    "duration": 6,
    "start_time": "2021-11-16T06:19:23.048Z"
   },
   {
    "duration": 10,
    "start_time": "2021-11-16T06:19:23.055Z"
   },
   {
    "duration": 5,
    "start_time": "2021-11-16T06:19:23.066Z"
   },
   {
    "duration": 5,
    "start_time": "2021-11-16T06:19:23.088Z"
   },
   {
    "duration": 6,
    "start_time": "2021-11-16T06:19:23.095Z"
   },
   {
    "duration": 17,
    "start_time": "2021-11-16T06:19:23.102Z"
   },
   {
    "duration": 24,
    "start_time": "2021-11-16T06:19:23.120Z"
   },
   {
    "duration": 53,
    "start_time": "2021-11-16T06:19:23.146Z"
   },
   {
    "duration": 11,
    "start_time": "2021-11-16T06:19:23.201Z"
   },
   {
    "duration": 3,
    "start_time": "2021-11-16T06:19:23.214Z"
   },
   {
    "duration": 5,
    "start_time": "2021-11-16T06:19:23.219Z"
   },
   {
    "duration": 15641,
    "start_time": "2021-11-16T06:19:23.226Z"
   },
   {
    "duration": 25036,
    "start_time": "2021-11-16T06:22:20.307Z"
   },
   {
    "duration": 459,
    "start_time": "2021-11-16T06:27:50.761Z"
   },
   {
    "duration": 345,
    "start_time": "2021-11-16T06:29:46.350Z"
   },
   {
    "duration": 27003,
    "start_time": "2021-11-16T06:30:18.898Z"
   },
   {
    "duration": 25921,
    "start_time": "2021-11-16T06:31:24.311Z"
   },
   {
    "duration": 4,
    "start_time": "2021-11-16T06:56:40.673Z"
   },
   {
    "duration": 26,
    "start_time": "2021-11-16T06:56:40.678Z"
   },
   {
    "duration": 48,
    "start_time": "2021-11-16T06:56:40.706Z"
   },
   {
    "duration": 6,
    "start_time": "2021-11-16T06:56:40.756Z"
   },
   {
    "duration": 14,
    "start_time": "2021-11-16T06:56:40.763Z"
   },
   {
    "duration": 8,
    "start_time": "2021-11-16T06:56:40.779Z"
   },
   {
    "duration": 6,
    "start_time": "2021-11-16T06:56:40.788Z"
   },
   {
    "duration": 9,
    "start_time": "2021-11-16T06:56:40.795Z"
   },
   {
    "duration": 6,
    "start_time": "2021-11-16T06:56:40.807Z"
   },
   {
    "duration": 15,
    "start_time": "2021-11-16T06:56:40.815Z"
   },
   {
    "duration": 22,
    "start_time": "2021-11-16T06:56:40.831Z"
   },
   {
    "duration": 10,
    "start_time": "2021-11-16T06:56:40.854Z"
   },
   {
    "duration": 24,
    "start_time": "2021-11-16T06:56:40.865Z"
   },
   {
    "duration": 3,
    "start_time": "2021-11-16T06:56:40.890Z"
   },
   {
    "duration": 15347,
    "start_time": "2021-11-16T06:56:40.895Z"
   },
   {
    "duration": 23373,
    "start_time": "2021-11-16T06:56:56.244Z"
   },
   {
    "duration": 4,
    "start_time": "2021-11-16T06:59:08.198Z"
   },
   {
    "duration": 11,
    "start_time": "2021-11-16T06:59:08.203Z"
   },
   {
    "duration": 44,
    "start_time": "2021-11-16T06:59:08.216Z"
   },
   {
    "duration": 7,
    "start_time": "2021-11-16T06:59:08.261Z"
   },
   {
    "duration": 11,
    "start_time": "2021-11-16T06:59:08.269Z"
   },
   {
    "duration": 15,
    "start_time": "2021-11-16T06:59:08.282Z"
   },
   {
    "duration": 5,
    "start_time": "2021-11-16T06:59:08.299Z"
   },
   {
    "duration": 11,
    "start_time": "2021-11-16T06:59:08.306Z"
   },
   {
    "duration": 23,
    "start_time": "2021-11-16T06:59:08.318Z"
   },
   {
    "duration": 35,
    "start_time": "2021-11-16T06:59:08.342Z"
   },
   {
    "duration": 22,
    "start_time": "2021-11-16T06:59:08.379Z"
   },
   {
    "duration": 11,
    "start_time": "2021-11-16T06:59:08.402Z"
   },
   {
    "duration": 7,
    "start_time": "2021-11-16T06:59:08.414Z"
   },
   {
    "duration": 5,
    "start_time": "2021-11-16T06:59:08.423Z"
   },
   {
    "duration": 16113,
    "start_time": "2021-11-16T06:59:08.429Z"
   },
   {
    "duration": 21469,
    "start_time": "2021-11-16T06:59:24.543Z"
   },
   {
    "duration": 24,
    "start_time": "2021-11-16T07:01:39.244Z"
   },
   {
    "duration": 3,
    "start_time": "2021-11-16T07:01:44.521Z"
   },
   {
    "duration": 19,
    "start_time": "2021-11-16T07:01:44.526Z"
   },
   {
    "duration": 56,
    "start_time": "2021-11-16T07:01:44.547Z"
   },
   {
    "duration": 6,
    "start_time": "2021-11-16T07:01:44.605Z"
   },
   {
    "duration": 13,
    "start_time": "2021-11-16T07:01:44.613Z"
   },
   {
    "duration": 18,
    "start_time": "2021-11-16T07:01:44.627Z"
   },
   {
    "duration": 14,
    "start_time": "2021-11-16T07:01:44.646Z"
   },
   {
    "duration": 14,
    "start_time": "2021-11-16T07:01:44.661Z"
   },
   {
    "duration": 22,
    "start_time": "2021-11-16T07:01:44.677Z"
   },
   {
    "duration": 25,
    "start_time": "2021-11-16T07:01:44.700Z"
   },
   {
    "duration": 40,
    "start_time": "2021-11-16T07:01:44.726Z"
   },
   {
    "duration": 10,
    "start_time": "2021-11-16T07:01:44.767Z"
   },
   {
    "duration": 8,
    "start_time": "2021-11-16T07:01:44.778Z"
   },
   {
    "duration": 12,
    "start_time": "2021-11-16T07:01:44.788Z"
   },
   {
    "duration": 274,
    "start_time": "2021-11-16T07:01:44.802Z"
   },
   {
    "duration": 27530,
    "start_time": "2021-11-16T07:01:17.548Z"
   },
   {
    "duration": 4,
    "start_time": "2021-11-16T07:02:05.804Z"
   },
   {
    "duration": 15,
    "start_time": "2021-11-16T07:02:05.809Z"
   },
   {
    "duration": 38,
    "start_time": "2021-11-16T07:02:05.826Z"
   },
   {
    "duration": 7,
    "start_time": "2021-11-16T07:02:05.865Z"
   },
   {
    "duration": 6,
    "start_time": "2021-11-16T07:02:05.873Z"
   },
   {
    "duration": 8,
    "start_time": "2021-11-16T07:02:05.880Z"
   },
   {
    "duration": 5,
    "start_time": "2021-11-16T07:02:05.890Z"
   },
   {
    "duration": 7,
    "start_time": "2021-11-16T07:02:05.896Z"
   },
   {
    "duration": 5,
    "start_time": "2021-11-16T07:02:05.906Z"
   },
   {
    "duration": 16,
    "start_time": "2021-11-16T07:02:05.912Z"
   },
   {
    "duration": 24,
    "start_time": "2021-11-16T07:02:05.930Z"
   },
   {
    "duration": 35,
    "start_time": "2021-11-16T07:02:05.955Z"
   },
   {
    "duration": 3,
    "start_time": "2021-11-16T07:02:05.992Z"
   },
   {
    "duration": 12,
    "start_time": "2021-11-16T07:02:05.996Z"
   },
   {
    "duration": 259,
    "start_time": "2021-11-16T07:02:06.010Z"
   },
   {
    "duration": 27495,
    "start_time": "2021-11-16T07:01:38.776Z"
   },
   {
    "duration": 24,
    "start_time": "2021-11-16T07:02:27.159Z"
   },
   {
    "duration": 3,
    "start_time": "2021-11-16T07:02:38.150Z"
   },
   {
    "duration": 12,
    "start_time": "2021-11-16T07:02:38.154Z"
   },
   {
    "duration": 46,
    "start_time": "2021-11-16T07:02:38.167Z"
   },
   {
    "duration": 6,
    "start_time": "2021-11-16T07:02:38.215Z"
   },
   {
    "duration": 15,
    "start_time": "2021-11-16T07:02:38.223Z"
   },
   {
    "duration": 28,
    "start_time": "2021-11-16T07:02:38.239Z"
   },
   {
    "duration": 8,
    "start_time": "2021-11-16T07:02:38.268Z"
   },
   {
    "duration": 19,
    "start_time": "2021-11-16T07:02:38.277Z"
   },
   {
    "duration": 22,
    "start_time": "2021-11-16T07:02:38.298Z"
   },
   {
    "duration": 33,
    "start_time": "2021-11-16T07:02:38.321Z"
   },
   {
    "duration": 37,
    "start_time": "2021-11-16T07:02:38.355Z"
   },
   {
    "duration": 27,
    "start_time": "2021-11-16T07:02:38.394Z"
   },
   {
    "duration": 10,
    "start_time": "2021-11-16T07:02:38.422Z"
   },
   {
    "duration": 18,
    "start_time": "2021-11-16T07:02:38.433Z"
   },
   {
    "duration": 10,
    "start_time": "2021-11-16T07:02:38.453Z"
   },
   {
    "duration": 15442,
    "start_time": "2021-11-16T07:02:38.465Z"
   },
   {
    "duration": 24569,
    "start_time": "2021-11-16T07:02:53.908Z"
   },
   {
    "duration": 15307,
    "start_time": "2021-11-16T07:12:14.280Z"
   },
   {
    "duration": 10867,
    "start_time": "2021-11-16T07:16:28.890Z"
   },
   {
    "duration": 15657,
    "start_time": "2021-11-16T07:17:00.899Z"
   },
   {
    "duration": 15145,
    "start_time": "2021-11-16T07:18:53.409Z"
   },
   {
    "duration": 22475,
    "start_time": "2021-11-16T07:20:01.083Z"
   },
   {
    "duration": 21006,
    "start_time": "2021-11-16T07:20:31.080Z"
   },
   {
    "duration": 21564,
    "start_time": "2021-11-16T07:21:01.997Z"
   },
   {
    "duration": 21878,
    "start_time": "2021-11-16T07:21:30.741Z"
   },
   {
    "duration": 22666,
    "start_time": "2021-11-16T07:22:01.958Z"
   },
   {
    "duration": 10,
    "start_time": "2021-11-16T07:33:13.605Z"
   },
   {
    "duration": 10,
    "start_time": "2021-11-16T07:37:49.840Z"
   },
   {
    "duration": 4,
    "start_time": "2021-11-16T07:39:42.046Z"
   },
   {
    "duration": 15,
    "start_time": "2021-11-16T07:39:42.052Z"
   },
   {
    "duration": 39,
    "start_time": "2021-11-16T07:39:42.069Z"
   },
   {
    "duration": 9,
    "start_time": "2021-11-16T07:39:42.110Z"
   },
   {
    "duration": 8,
    "start_time": "2021-11-16T07:39:42.120Z"
   },
   {
    "duration": 9,
    "start_time": "2021-11-16T07:39:42.130Z"
   },
   {
    "duration": 6,
    "start_time": "2021-11-16T07:39:42.141Z"
   },
   {
    "duration": 41,
    "start_time": "2021-11-16T07:39:42.149Z"
   },
   {
    "duration": 5,
    "start_time": "2021-11-16T07:39:42.193Z"
   },
   {
    "duration": 17,
    "start_time": "2021-11-16T07:39:42.200Z"
   },
   {
    "duration": 25,
    "start_time": "2021-11-16T07:39:42.219Z"
   },
   {
    "duration": 54,
    "start_time": "2021-11-16T07:39:42.246Z"
   },
   {
    "duration": 13,
    "start_time": "2021-11-16T07:39:42.302Z"
   },
   {
    "duration": 5,
    "start_time": "2021-11-16T07:39:42.317Z"
   },
   {
    "duration": 7,
    "start_time": "2021-11-16T07:39:42.324Z"
   },
   {
    "duration": 16092,
    "start_time": "2021-11-16T07:39:42.332Z"
   },
   {
    "duration": 22172,
    "start_time": "2021-11-16T07:39:58.425Z"
   },
   {
    "duration": 8,
    "start_time": "2021-11-16T07:40:20.599Z"
   },
   {
    "duration": 15,
    "start_time": "2021-11-16T07:40:20.609Z"
   },
   {
    "duration": 15543,
    "start_time": "2021-11-16T07:40:20.625Z"
   },
   {
    "duration": 21761,
    "start_time": "2021-11-16T07:40:47.520Z"
   },
   {
    "duration": 9,
    "start_time": "2021-11-16T07:41:24.239Z"
   },
   {
    "duration": 8,
    "start_time": "2021-11-16T07:41:27.319Z"
   },
   {
    "duration": 416,
    "start_time": "2021-11-16T07:46:33.233Z"
   },
   {
    "duration": 7,
    "start_time": "2021-11-16T07:46:46.338Z"
   },
   {
    "duration": 26,
    "start_time": "2021-11-16T07:49:22.308Z"
   },
   {
    "duration": 27,
    "start_time": "2021-11-16T07:51:01.069Z"
   },
   {
    "duration": 41,
    "start_time": "2021-11-16T07:52:23.582Z"
   },
   {
    "duration": 45,
    "start_time": "2021-11-16T07:55:17.552Z"
   },
   {
    "duration": 59,
    "start_time": "2021-11-16T07:56:20.989Z"
   },
   {
    "duration": 46,
    "start_time": "2021-11-16T07:57:08.977Z"
   },
   {
    "duration": 56,
    "start_time": "2021-11-16T08:00:29.548Z"
   },
   {
    "duration": 43,
    "start_time": "2021-11-16T08:00:41.148Z"
   },
   {
    "duration": 268,
    "start_time": "2021-11-16T08:19:50.152Z"
   },
   {
    "duration": 22714,
    "start_time": "2021-11-16T08:20:11.768Z"
   },
   {
    "duration": 4,
    "start_time": "2021-11-16T08:21:08.361Z"
   },
   {
    "duration": 5,
    "start_time": "2021-11-16T08:21:08.366Z"
   },
   {
    "duration": 40,
    "start_time": "2021-11-16T08:21:08.373Z"
   },
   {
    "duration": 8,
    "start_time": "2021-11-16T08:21:08.414Z"
   },
   {
    "duration": 11,
    "start_time": "2021-11-16T08:21:08.423Z"
   },
   {
    "duration": 16,
    "start_time": "2021-11-16T08:21:08.435Z"
   },
   {
    "duration": 6,
    "start_time": "2021-11-16T08:21:08.452Z"
   },
   {
    "duration": 6,
    "start_time": "2021-11-16T08:21:08.460Z"
   },
   {
    "duration": 22,
    "start_time": "2021-11-16T08:21:08.468Z"
   },
   {
    "duration": 17,
    "start_time": "2021-11-16T08:21:08.492Z"
   },
   {
    "duration": 22,
    "start_time": "2021-11-16T08:21:08.510Z"
   },
   {
    "duration": 24,
    "start_time": "2021-11-16T08:21:08.533Z"
   },
   {
    "duration": 36,
    "start_time": "2021-11-16T08:21:08.559Z"
   },
   {
    "duration": 3,
    "start_time": "2021-11-16T08:21:08.597Z"
   },
   {
    "duration": 8,
    "start_time": "2021-11-16T08:21:08.601Z"
   },
   {
    "duration": 15655,
    "start_time": "2021-11-16T08:21:08.610Z"
   },
   {
    "duration": 21944,
    "start_time": "2021-11-16T08:21:24.267Z"
   },
   {
    "duration": 8,
    "start_time": "2021-11-16T08:21:46.213Z"
   },
   {
    "duration": 27,
    "start_time": "2021-11-16T08:21:46.222Z"
   },
   {
    "duration": 60,
    "start_time": "2021-11-16T08:21:46.250Z"
   },
   {
    "duration": 15807,
    "start_time": "2021-11-16T08:21:46.311Z"
   },
   {
    "duration": 83,
    "start_time": "2021-11-16T08:22:02.119Z"
   },
   {
    "duration": 60,
    "start_time": "2021-11-16T08:26:04.900Z"
   },
   {
    "duration": 270,
    "start_time": "2021-11-16T08:27:38.866Z"
   },
   {
    "duration": 563,
    "start_time": "2021-11-16T08:27:50.669Z"
   },
   {
    "duration": 1713,
    "start_time": "2021-11-16T08:28:00.858Z"
   },
   {
    "duration": 423,
    "start_time": "2021-11-16T08:28:58.895Z"
   },
   {
    "duration": 411,
    "start_time": "2021-11-16T08:29:10.150Z"
   },
   {
    "duration": 3832,
    "start_time": "2021-11-16T08:32:46.858Z"
   },
   {
    "duration": 3724,
    "start_time": "2021-11-16T08:34:17.402Z"
   },
   {
    "duration": 368,
    "start_time": "2021-11-16T08:39:21.977Z"
   },
   {
    "duration": 7,
    "start_time": "2021-11-16T08:40:10.453Z"
   },
   {
    "duration": 157,
    "start_time": "2021-11-16T08:42:11.675Z"
   },
   {
    "duration": 499,
    "start_time": "2021-11-17T05:29:57.949Z"
   },
   {
    "duration": 1556,
    "start_time": "2021-11-17T05:30:02.183Z"
   },
   {
    "duration": 3,
    "start_time": "2021-11-17T05:30:03.742Z"
   },
   {
    "duration": 55,
    "start_time": "2021-11-17T05:30:03.761Z"
   },
   {
    "duration": 14,
    "start_time": "2021-11-17T05:30:03.819Z"
   },
   {
    "duration": 30,
    "start_time": "2021-11-17T05:30:03.835Z"
   },
   {
    "duration": 17,
    "start_time": "2021-11-17T05:30:03.868Z"
   },
   {
    "duration": 8,
    "start_time": "2021-11-17T05:30:03.888Z"
   },
   {
    "duration": 10,
    "start_time": "2021-11-17T05:30:03.898Z"
   },
   {
    "duration": 48,
    "start_time": "2021-11-17T05:30:03.912Z"
   },
   {
    "duration": 28,
    "start_time": "2021-11-17T05:30:03.963Z"
   },
   {
    "duration": 72,
    "start_time": "2021-11-17T05:30:03.993Z"
   },
   {
    "duration": 43,
    "start_time": "2021-11-17T05:30:04.068Z"
   },
   {
    "duration": 47,
    "start_time": "2021-11-17T05:30:04.113Z"
   },
   {
    "duration": 6,
    "start_time": "2021-11-17T05:30:04.162Z"
   },
   {
    "duration": 8,
    "start_time": "2021-11-17T05:30:04.170Z"
   },
   {
    "duration": 27044,
    "start_time": "2021-11-17T05:30:04.180Z"
   },
   {
    "duration": 47812,
    "start_time": "2021-11-17T05:30:31.227Z"
   },
   {
    "duration": 20,
    "start_time": "2021-11-17T05:31:19.041Z"
   },
   {
    "duration": 22,
    "start_time": "2021-11-17T05:31:19.063Z"
   },
   {
    "duration": 572,
    "start_time": "2021-11-17T05:31:19.088Z"
   },
   {
    "duration": 28297,
    "start_time": "2021-11-17T05:30:51.366Z"
   },
   {
    "duration": 28291,
    "start_time": "2021-11-17T05:30:51.373Z"
   },
   {
    "duration": 28284,
    "start_time": "2021-11-17T05:30:51.382Z"
   },
   {
    "duration": 28280,
    "start_time": "2021-11-17T05:30:51.388Z"
   },
   {
    "duration": 28277,
    "start_time": "2021-11-17T05:30:51.392Z"
   },
   {
    "duration": 5,
    "start_time": "2021-11-17T05:33:11.110Z"
   },
   {
    "duration": 12,
    "start_time": "2021-11-17T05:33:11.118Z"
   },
   {
    "duration": 50,
    "start_time": "2021-11-17T05:33:11.133Z"
   },
   {
    "duration": 13,
    "start_time": "2021-11-17T05:33:11.186Z"
   },
   {
    "duration": 12,
    "start_time": "2021-11-17T05:33:11.201Z"
   },
   {
    "duration": 46,
    "start_time": "2021-11-17T05:33:11.216Z"
   },
   {
    "duration": 9,
    "start_time": "2021-11-17T05:33:11.265Z"
   },
   {
    "duration": 14,
    "start_time": "2021-11-17T05:33:11.277Z"
   },
   {
    "duration": 8,
    "start_time": "2021-11-17T05:33:11.296Z"
   },
   {
    "duration": 70,
    "start_time": "2021-11-17T05:33:11.307Z"
   },
   {
    "duration": 42,
    "start_time": "2021-11-17T05:33:11.380Z"
   },
   {
    "duration": 65,
    "start_time": "2021-11-17T05:33:11.424Z"
   },
   {
    "duration": 20,
    "start_time": "2021-11-17T05:33:11.492Z"
   },
   {
    "duration": 7,
    "start_time": "2021-11-17T05:33:11.515Z"
   },
   {
    "duration": 6,
    "start_time": "2021-11-17T05:33:11.559Z"
   },
   {
    "duration": 33032,
    "start_time": "2021-11-17T05:33:11.567Z"
   },
   {
    "duration": 28303,
    "start_time": "2021-11-17T05:37:07.480Z"
   },
   {
    "duration": 28297,
    "start_time": "2021-11-17T05:37:07.488Z"
   },
   {
    "duration": 28294,
    "start_time": "2021-11-17T05:37:07.493Z"
   },
   {
    "duration": 28292,
    "start_time": "2021-11-17T05:37:07.497Z"
   },
   {
    "duration": 28290,
    "start_time": "2021-11-17T05:37:07.501Z"
   },
   {
    "duration": 28259,
    "start_time": "2021-11-17T05:37:07.534Z"
   },
   {
    "duration": 28254,
    "start_time": "2021-11-17T05:37:07.541Z"
   },
   {
    "duration": 28253,
    "start_time": "2021-11-17T05:37:07.543Z"
   },
   {
    "duration": 28248,
    "start_time": "2021-11-17T05:37:07.551Z"
   },
   {
    "duration": 28248,
    "start_time": "2021-11-17T05:37:07.553Z"
   },
   {
    "duration": 28303,
    "start_time": "2021-11-17T05:37:07.557Z"
   },
   {
    "duration": 28304,
    "start_time": "2021-11-17T05:37:07.559Z"
   },
   {
    "duration": 28302,
    "start_time": "2021-11-17T05:37:07.563Z"
   },
   {
    "duration": 28297,
    "start_time": "2021-11-17T05:37:07.570Z"
   },
   {
    "duration": 28290,
    "start_time": "2021-11-17T05:37:07.579Z"
   },
   {
    "duration": 28290,
    "start_time": "2021-11-17T05:37:07.581Z"
   },
   {
    "duration": 28285,
    "start_time": "2021-11-17T05:37:07.588Z"
   },
   {
    "duration": 28285,
    "start_time": "2021-11-17T05:37:07.590Z"
   },
   {
    "duration": 28285,
    "start_time": "2021-11-17T05:37:07.592Z"
   },
   {
    "duration": 28244,
    "start_time": "2021-11-17T05:37:07.635Z"
   },
   {
    "duration": 28237,
    "start_time": "2021-11-17T05:37:07.644Z"
   },
   {
    "duration": 28231,
    "start_time": "2021-11-17T05:37:07.652Z"
   },
   {
    "duration": 28230,
    "start_time": "2021-11-17T05:37:07.655Z"
   },
   {
    "duration": 28230,
    "start_time": "2021-11-17T05:37:07.658Z"
   },
   {
    "duration": 28229,
    "start_time": "2021-11-17T05:37:07.661Z"
   },
   {
    "duration": 5,
    "start_time": "2021-11-17T05:43:19.151Z"
   },
   {
    "duration": 9,
    "start_time": "2021-11-17T05:43:19.159Z"
   },
   {
    "duration": 47,
    "start_time": "2021-11-17T05:43:19.171Z"
   },
   {
    "duration": 11,
    "start_time": "2021-11-17T05:43:19.221Z"
   },
   {
    "duration": 36,
    "start_time": "2021-11-17T05:43:19.234Z"
   },
   {
    "duration": 13,
    "start_time": "2021-11-17T05:43:19.272Z"
   },
   {
    "duration": 8,
    "start_time": "2021-11-17T05:43:19.287Z"
   },
   {
    "duration": 8,
    "start_time": "2021-11-17T05:43:19.297Z"
   },
   {
    "duration": 7,
    "start_time": "2021-11-17T05:43:19.309Z"
   },
   {
    "duration": 43,
    "start_time": "2021-11-17T05:43:19.319Z"
   },
   {
    "duration": 47,
    "start_time": "2021-11-17T05:43:19.364Z"
   },
   {
    "duration": 49,
    "start_time": "2021-11-17T05:43:19.413Z"
   },
   {
    "duration": 15,
    "start_time": "2021-11-17T05:43:19.464Z"
   },
   {
    "duration": 5,
    "start_time": "2021-11-17T05:43:19.481Z"
   },
   {
    "duration": 7,
    "start_time": "2021-11-17T05:43:19.489Z"
   },
   {
    "duration": 25478,
    "start_time": "2021-11-17T05:43:19.498Z"
   },
   {
    "duration": 51651,
    "start_time": "2021-11-17T05:43:44.978Z"
   },
   {
    "duration": 21,
    "start_time": "2021-11-17T05:44:36.631Z"
   },
   {
    "duration": 10,
    "start_time": "2021-11-17T05:44:36.654Z"
   },
   {
    "duration": 131,
    "start_time": "2021-11-17T05:44:36.667Z"
   },
   {
    "duration": 25593,
    "start_time": "2021-11-17T05:44:36.800Z"
   },
   {
    "duration": 6525,
    "start_time": "2021-11-17T05:45:02.395Z"
   },
   {
    "duration": 717,
    "start_time": "2021-11-17T05:45:08.923Z"
   },
   {
    "duration": 285,
    "start_time": "2021-11-17T05:45:09.643Z"
   },
   {
    "duration": 7,
    "start_time": "2021-11-17T05:45:09.931Z"
   },
   {
    "duration": 5,
    "start_time": "2021-11-17T05:47:21.377Z"
   },
   {
    "duration": 8,
    "start_time": "2021-11-17T05:47:21.385Z"
   },
   {
    "duration": 49,
    "start_time": "2021-11-17T05:47:21.397Z"
   },
   {
    "duration": 20,
    "start_time": "2021-11-17T05:47:21.448Z"
   },
   {
    "duration": 9,
    "start_time": "2021-11-17T05:47:21.470Z"
   },
   {
    "duration": 16,
    "start_time": "2021-11-17T05:47:21.481Z"
   },
   {
    "duration": 8,
    "start_time": "2021-11-17T05:47:21.501Z"
   },
   {
    "duration": 49,
    "start_time": "2021-11-17T05:47:21.512Z"
   },
   {
    "duration": 10,
    "start_time": "2021-11-17T05:47:21.563Z"
   },
   {
    "duration": 32,
    "start_time": "2021-11-17T05:47:21.575Z"
   },
   {
    "duration": 65,
    "start_time": "2021-11-17T05:47:21.609Z"
   },
   {
    "duration": 60,
    "start_time": "2021-11-17T05:47:21.676Z"
   },
   {
    "duration": 39,
    "start_time": "2021-11-17T05:47:21.739Z"
   },
   {
    "duration": 6,
    "start_time": "2021-11-17T05:47:21.781Z"
   },
   {
    "duration": 10,
    "start_time": "2021-11-17T05:47:21.790Z"
   },
   {
    "duration": 35535,
    "start_time": "2021-11-17T05:47:21.803Z"
   },
   {
    "duration": 50183,
    "start_time": "2021-11-17T05:47:57.340Z"
   },
   {
    "duration": 19,
    "start_time": "2021-11-17T05:48:47.529Z"
   },
   {
    "duration": 18,
    "start_time": "2021-11-17T05:48:47.551Z"
   },
   {
    "duration": 135,
    "start_time": "2021-11-17T05:48:47.571Z"
   },
   {
    "duration": 25370,
    "start_time": "2021-11-17T05:48:47.708Z"
   },
   {
    "duration": 6750,
    "start_time": "2021-11-17T05:49:13.080Z"
   },
   {
    "duration": 651,
    "start_time": "2021-11-17T05:49:19.833Z"
   },
   {
    "duration": 377,
    "start_time": "2021-11-17T05:49:20.486Z"
   },
   {
    "duration": 1449,
    "start_time": "2021-11-17T08:58:27.459Z"
   },
   {
    "duration": 3,
    "start_time": "2021-11-17T08:58:28.911Z"
   },
   {
    "duration": 71,
    "start_time": "2021-11-17T08:58:28.917Z"
   },
   {
    "duration": 12,
    "start_time": "2021-11-17T08:58:28.991Z"
   },
   {
    "duration": 9,
    "start_time": "2021-11-17T08:58:29.006Z"
   },
   {
    "duration": 51,
    "start_time": "2021-11-17T08:58:29.017Z"
   },
   {
    "duration": 8,
    "start_time": "2021-11-17T08:58:29.071Z"
   },
   {
    "duration": 11,
    "start_time": "2021-11-17T08:58:29.081Z"
   },
   {
    "duration": 9,
    "start_time": "2021-11-17T08:58:29.097Z"
   },
   {
    "duration": 59,
    "start_time": "2021-11-17T08:58:29.109Z"
   },
   {
    "duration": 43,
    "start_time": "2021-11-17T08:58:29.170Z"
   },
   {
    "duration": 18,
    "start_time": "2021-11-17T08:58:29.215Z"
   },
   {
    "duration": 66,
    "start_time": "2021-11-17T08:58:29.236Z"
   },
   {
    "duration": 5,
    "start_time": "2021-11-17T08:58:29.304Z"
   },
   {
    "duration": 9,
    "start_time": "2021-11-17T08:58:29.312Z"
   },
   {
    "duration": 26449,
    "start_time": "2021-11-17T08:58:29.324Z"
   },
   {
    "duration": 30907,
    "start_time": "2021-11-17T08:58:55.776Z"
   },
   {
    "duration": 12,
    "start_time": "2021-11-17T08:59:26.686Z"
   },
   {
    "duration": 12,
    "start_time": "2021-11-17T08:59:26.700Z"
   },
   {
    "duration": 145,
    "start_time": "2021-11-17T08:59:26.714Z"
   },
   {
    "duration": 26461,
    "start_time": "2021-11-17T08:59:26.868Z"
   },
   {
    "duration": 7505,
    "start_time": "2021-11-17T08:59:53.332Z"
   },
   {
    "duration": 360818,
    "start_time": "2021-11-17T09:00:00.840Z"
   },
   {
    "duration": 559,
    "start_time": "2021-11-17T09:06:01.667Z"
   },
   {
    "duration": 441,
    "start_time": "2021-11-17T09:06:02.228Z"
   },
   {
    "duration": 5,
    "start_time": "2021-11-17T09:07:09.274Z"
   },
   {
    "duration": 12,
    "start_time": "2021-11-17T09:07:09.281Z"
   },
   {
    "duration": 46,
    "start_time": "2021-11-17T09:07:09.296Z"
   },
   {
    "duration": 27,
    "start_time": "2021-11-17T09:07:09.345Z"
   },
   {
    "duration": 14,
    "start_time": "2021-11-17T09:07:09.374Z"
   },
   {
    "duration": 20,
    "start_time": "2021-11-17T09:07:09.390Z"
   },
   {
    "duration": 8,
    "start_time": "2021-11-17T09:07:09.413Z"
   },
   {
    "duration": 42,
    "start_time": "2021-11-17T09:07:09.424Z"
   },
   {
    "duration": 6,
    "start_time": "2021-11-17T09:07:09.469Z"
   },
   {
    "duration": 33,
    "start_time": "2021-11-17T09:07:09.477Z"
   },
   {
    "duration": 67,
    "start_time": "2021-11-17T09:07:09.512Z"
   },
   {
    "duration": 17,
    "start_time": "2021-11-17T09:07:09.581Z"
   },
   {
    "duration": 65,
    "start_time": "2021-11-17T09:07:09.601Z"
   },
   {
    "duration": 5,
    "start_time": "2021-11-17T09:07:09.669Z"
   },
   {
    "duration": 8,
    "start_time": "2021-11-17T09:07:09.677Z"
   },
   {
    "duration": 27112,
    "start_time": "2021-11-17T09:07:09.687Z"
   },
   {
    "duration": 33449,
    "start_time": "2021-11-17T09:07:36.801Z"
   },
   {
    "duration": 14,
    "start_time": "2021-11-17T09:08:10.252Z"
   },
   {
    "duration": 10,
    "start_time": "2021-11-17T09:08:10.271Z"
   },
   {
    "duration": 142,
    "start_time": "2021-11-17T09:08:10.284Z"
   },
   {
    "duration": 26394,
    "start_time": "2021-11-17T09:08:10.429Z"
   },
   {
    "duration": 6877,
    "start_time": "2021-11-17T09:08:36.825Z"
   },
   {
    "duration": 363863,
    "start_time": "2021-11-17T09:08:43.704Z"
   },
   {
    "duration": 576,
    "start_time": "2021-11-17T09:14:47.569Z"
   },
   {
    "duration": 341,
    "start_time": "2021-11-17T09:14:48.148Z"
   },
   {
    "duration": 6,
    "start_time": "2021-11-17T09:20:02.385Z"
   },
   {
    "duration": 12,
    "start_time": "2021-11-17T09:20:02.394Z"
   },
   {
    "duration": 52,
    "start_time": "2021-11-17T09:20:02.409Z"
   },
   {
    "duration": 11,
    "start_time": "2021-11-17T09:20:02.467Z"
   },
   {
    "duration": 23,
    "start_time": "2021-11-17T09:20:02.480Z"
   },
   {
    "duration": 14,
    "start_time": "2021-11-17T09:20:02.506Z"
   },
   {
    "duration": 8,
    "start_time": "2021-11-17T09:20:02.523Z"
   },
   {
    "duration": 33,
    "start_time": "2021-11-17T09:20:02.535Z"
   },
   {
    "duration": 10,
    "start_time": "2021-11-17T09:20:02.572Z"
   },
   {
    "duration": 30,
    "start_time": "2021-11-17T09:20:02.585Z"
   },
   {
    "duration": 76,
    "start_time": "2021-11-17T09:20:02.618Z"
   },
   {
    "duration": 17,
    "start_time": "2021-11-17T09:20:02.697Z"
   },
   {
    "duration": 69,
    "start_time": "2021-11-17T09:20:02.717Z"
   },
   {
    "duration": 6,
    "start_time": "2021-11-17T09:20:02.788Z"
   },
   {
    "duration": 19,
    "start_time": "2021-11-17T09:20:02.796Z"
   },
   {
    "duration": 30019,
    "start_time": "2021-11-17T09:20:02.817Z"
   },
   {
    "duration": 51643,
    "start_time": "2021-11-17T09:20:32.838Z"
   },
   {
    "duration": 20,
    "start_time": "2021-11-17T09:21:24.484Z"
   },
   {
    "duration": 11,
    "start_time": "2021-11-17T09:21:24.506Z"
   },
   {
    "duration": 189,
    "start_time": "2021-11-17T09:21:24.520Z"
   },
   {
    "duration": 37631,
    "start_time": "2021-11-17T09:21:24.713Z"
   },
   {
    "duration": 8811,
    "start_time": "2021-11-17T09:22:02.347Z"
   },
   {
    "duration": 373874,
    "start_time": "2021-11-17T09:22:11.171Z"
   },
   {
    "duration": 643,
    "start_time": "2021-11-17T09:28:25.048Z"
   },
   {
    "duration": 376,
    "start_time": "2021-11-17T09:28:25.693Z"
   },
   {
    "duration": 136,
    "start_time": "2021-11-17T09:35:54.879Z"
   },
   {
    "duration": 4,
    "start_time": "2021-11-17T09:35:55.018Z"
   },
   {
    "duration": 65,
    "start_time": "2021-11-17T09:35:55.025Z"
   },
   {
    "duration": 16,
    "start_time": "2021-11-17T09:35:55.094Z"
   },
   {
    "duration": 13,
    "start_time": "2021-11-17T09:35:55.114Z"
   },
   {
    "duration": 138,
    "start_time": "2021-11-17T09:35:55.130Z"
   },
   {
    "duration": 10,
    "start_time": "2021-11-17T09:35:55.271Z"
   },
   {
    "duration": 10,
    "start_time": "2021-11-17T09:35:55.286Z"
   },
   {
    "duration": 9,
    "start_time": "2021-11-17T09:35:55.299Z"
   },
   {
    "duration": 73,
    "start_time": "2021-11-17T09:35:55.311Z"
   },
   {
    "duration": 84,
    "start_time": "2021-11-17T09:35:55.388Z"
   },
   {
    "duration": 20,
    "start_time": "2021-11-17T09:35:55.475Z"
   },
   {
    "duration": 73,
    "start_time": "2021-11-17T09:35:55.497Z"
   },
   {
    "duration": 7,
    "start_time": "2021-11-17T09:35:55.573Z"
   },
   {
    "duration": 8,
    "start_time": "2021-11-17T09:35:55.583Z"
   },
   {
    "duration": 38,
    "start_time": "2021-11-17T09:52:54.467Z"
   },
   {
    "duration": 42,
    "start_time": "2021-11-17T09:52:54.525Z"
   },
   {
    "duration": 13,
    "start_time": "2021-11-17T09:52:54.581Z"
   },
   {
    "duration": 14,
    "start_time": "2021-11-17T09:52:54.607Z"
   },
   {
    "duration": 23,
    "start_time": "2021-11-17T09:52:54.673Z"
   },
   {
    "duration": 12,
    "start_time": "2021-11-17T09:52:54.735Z"
   },
   {
    "duration": 6653,
    "start_time": "2021-11-17T09:52:54.812Z"
   },
   {
    "duration": 28149,
    "start_time": "2021-11-17T09:52:33.320Z"
   },
   {
    "duration": 28147,
    "start_time": "2021-11-17T09:52:33.325Z"
   },
   {
    "duration": 28135,
    "start_time": "2021-11-17T09:52:33.340Z"
   },
   {
    "duration": 28135,
    "start_time": "2021-11-17T09:52:33.343Z"
   },
   {
    "duration": 28135,
    "start_time": "2021-11-17T09:52:33.346Z"
   },
   {
    "duration": 28136,
    "start_time": "2021-11-17T09:52:33.348Z"
   },
   {
    "duration": 28135,
    "start_time": "2021-11-17T09:52:33.351Z"
   },
   {
    "duration": 28133,
    "start_time": "2021-11-17T09:52:33.355Z"
   },
   {
    "duration": 28117,
    "start_time": "2021-11-17T09:52:33.374Z"
   },
   {
    "duration": 28117,
    "start_time": "2021-11-17T09:52:33.377Z"
   },
   {
    "duration": 28117,
    "start_time": "2021-11-17T09:52:33.380Z"
   },
   {
    "duration": 28118,
    "start_time": "2021-11-17T09:52:33.382Z"
   },
   {
    "duration": 28116,
    "start_time": "2021-11-17T09:52:33.387Z"
   },
   {
    "duration": 28116,
    "start_time": "2021-11-17T09:52:33.390Z"
   },
   {
    "duration": 28096,
    "start_time": "2021-11-17T09:52:33.411Z"
   },
   {
    "duration": 28096,
    "start_time": "2021-11-17T09:52:33.413Z"
   },
   {
    "duration": 28151,
    "start_time": "2021-11-17T09:52:33.416Z"
   },
   {
    "duration": 28149,
    "start_time": "2021-11-17T09:52:33.420Z"
   },
   {
    "duration": 5,
    "start_time": "2021-11-17T10:33:09.347Z"
   },
   {
    "duration": 7,
    "start_time": "2021-11-17T10:33:09.355Z"
   },
   {
    "duration": 50,
    "start_time": "2021-11-17T10:33:09.366Z"
   },
   {
    "duration": 12,
    "start_time": "2021-11-17T10:33:09.418Z"
   },
   {
    "duration": 36,
    "start_time": "2021-11-17T10:33:09.432Z"
   },
   {
    "duration": 14,
    "start_time": "2021-11-17T10:33:09.471Z"
   },
   {
    "duration": 8,
    "start_time": "2021-11-17T10:33:09.487Z"
   },
   {
    "duration": 15,
    "start_time": "2021-11-17T10:33:09.498Z"
   },
   {
    "duration": 7,
    "start_time": "2021-11-17T10:33:09.518Z"
   },
   {
    "duration": 61,
    "start_time": "2021-11-17T10:33:09.528Z"
   },
   {
    "duration": 43,
    "start_time": "2021-11-17T10:33:09.592Z"
   },
   {
    "duration": 21,
    "start_time": "2021-11-17T10:33:09.666Z"
   },
   {
    "duration": 46,
    "start_time": "2021-11-17T10:33:09.690Z"
   },
   {
    "duration": 6,
    "start_time": "2021-11-17T10:33:09.767Z"
   },
   {
    "duration": 7,
    "start_time": "2021-11-17T10:33:09.776Z"
   },
   {
    "duration": 27312,
    "start_time": "2021-11-17T10:33:09.786Z"
   },
   {
    "duration": 32211,
    "start_time": "2021-11-17T10:33:37.100Z"
   },
   {
    "duration": 14,
    "start_time": "2021-11-17T10:34:09.314Z"
   },
   {
    "duration": 11,
    "start_time": "2021-11-17T10:34:09.331Z"
   },
   {
    "duration": 149,
    "start_time": "2021-11-17T10:34:09.345Z"
   },
   {
    "duration": 26820,
    "start_time": "2021-11-17T10:34:09.497Z"
   },
   {
    "duration": 6751,
    "start_time": "2021-11-17T10:34:36.319Z"
   },
   {
    "duration": 397669,
    "start_time": "2021-11-17T10:34:43.073Z"
   },
   {
    "duration": 1043,
    "start_time": "2021-11-17T10:41:20.745Z"
   },
   {
    "duration": 333,
    "start_time": "2021-11-17T10:41:21.791Z"
   },
   {
    "duration": 93,
    "start_time": "2021-11-17T11:02:46.305Z"
   },
   {
    "duration": 5,
    "start_time": "2021-11-17T11:03:00.857Z"
   },
   {
    "duration": 27,
    "start_time": "2021-11-17T11:03:00.865Z"
   },
   {
    "duration": 62,
    "start_time": "2021-11-17T11:03:00.895Z"
   },
   {
    "duration": 13,
    "start_time": "2021-11-17T11:03:00.960Z"
   },
   {
    "duration": 19,
    "start_time": "2021-11-17T11:03:00.975Z"
   },
   {
    "duration": 24,
    "start_time": "2021-11-17T11:03:00.996Z"
   },
   {
    "duration": 17,
    "start_time": "2021-11-17T11:03:01.022Z"
   },
   {
    "duration": 19,
    "start_time": "2021-11-17T11:03:01.041Z"
   },
   {
    "duration": 11,
    "start_time": "2021-11-17T11:03:01.069Z"
   },
   {
    "duration": 47,
    "start_time": "2021-11-17T11:03:01.082Z"
   },
   {
    "duration": 56,
    "start_time": "2021-11-17T11:03:01.132Z"
   },
   {
    "duration": 17,
    "start_time": "2021-11-17T11:03:01.191Z"
   },
   {
    "duration": 62,
    "start_time": "2021-11-17T11:03:01.210Z"
   },
   {
    "duration": 6,
    "start_time": "2021-11-17T11:03:01.274Z"
   },
   {
    "duration": 11,
    "start_time": "2021-11-17T11:03:01.282Z"
   },
   {
    "duration": 26905,
    "start_time": "2021-11-17T11:03:01.295Z"
   },
   {
    "duration": 30016,
    "start_time": "2021-11-17T11:03:28.203Z"
   },
   {
    "duration": 15,
    "start_time": "2021-11-17T11:03:58.221Z"
   },
   {
    "duration": 11,
    "start_time": "2021-11-17T11:03:58.239Z"
   },
   {
    "duration": 141,
    "start_time": "2021-11-17T11:03:58.253Z"
   },
   {
    "duration": 27292,
    "start_time": "2021-11-17T11:03:58.397Z"
   },
   {
    "duration": 6883,
    "start_time": "2021-11-17T11:04:25.691Z"
   },
   {
    "duration": 376813,
    "start_time": "2021-11-17T11:04:32.576Z"
   },
   {
    "duration": 756,
    "start_time": "2021-11-17T11:10:49.392Z"
   },
   {
    "duration": 316,
    "start_time": "2021-11-17T11:10:50.151Z"
   },
   {
    "duration": 921,
    "start_time": "2021-11-17T11:34:14.947Z"
   },
   {
    "duration": 763,
    "start_time": "2021-11-17T11:34:31.249Z"
   },
   {
    "duration": 679,
    "start_time": "2021-11-17T11:34:35.669Z"
   },
   {
    "duration": 597,
    "start_time": "2021-11-17T11:34:40.079Z"
   },
   {
    "duration": 532,
    "start_time": "2021-11-17T11:34:58.234Z"
   },
   {
    "duration": 477,
    "start_time": "2021-11-17T11:35:03.082Z"
   },
   {
    "duration": 571,
    "start_time": "2021-11-17T11:35:14.618Z"
   },
   {
    "duration": 84712,
    "start_time": "2021-11-17T11:40:17.246Z"
   },
   {
    "duration": 551,
    "start_time": "2021-11-17T11:42:37.236Z"
   },
   {
    "duration": 5,
    "start_time": "2021-11-17T11:42:40.204Z"
   },
   {
    "duration": 7,
    "start_time": "2021-11-17T11:42:40.212Z"
   },
   {
    "duration": 51,
    "start_time": "2021-11-17T11:42:40.222Z"
   },
   {
    "duration": 12,
    "start_time": "2021-11-17T11:42:40.276Z"
   },
   {
    "duration": 11,
    "start_time": "2021-11-17T11:42:40.291Z"
   },
   {
    "duration": 14,
    "start_time": "2021-11-17T11:42:40.304Z"
   },
   {
    "duration": 49,
    "start_time": "2021-11-17T11:42:40.320Z"
   },
   {
    "duration": 10,
    "start_time": "2021-11-17T11:42:40.372Z"
   },
   {
    "duration": 6,
    "start_time": "2021-11-17T11:42:40.386Z"
   },
   {
    "duration": 29,
    "start_time": "2021-11-17T11:42:40.396Z"
   },
   {
    "duration": 43,
    "start_time": "2021-11-17T11:42:40.467Z"
   },
   {
    "duration": 17,
    "start_time": "2021-11-17T11:42:40.513Z"
   },
   {
    "duration": 74,
    "start_time": "2021-11-17T11:42:40.533Z"
   },
   {
    "duration": 7,
    "start_time": "2021-11-17T11:42:40.610Z"
   },
   {
    "duration": 7,
    "start_time": "2021-11-17T11:42:40.620Z"
   },
   {
    "duration": 29999,
    "start_time": "2021-11-17T11:42:40.668Z"
   },
   {
    "duration": 51827,
    "start_time": "2021-11-17T11:43:10.670Z"
   },
   {
    "duration": 13,
    "start_time": "2021-11-17T11:44:02.500Z"
   },
   {
    "duration": 28,
    "start_time": "2021-11-17T11:44:02.515Z"
   },
   {
    "duration": 208,
    "start_time": "2021-11-17T11:44:02.546Z"
   },
   {
    "duration": 27098,
    "start_time": "2021-11-17T11:44:02.757Z"
   },
   {
    "duration": 7082,
    "start_time": "2021-11-17T11:44:29.857Z"
   },
   {
    "duration": 386718,
    "start_time": "2021-11-17T11:44:36.942Z"
   },
   {
    "duration": 1179,
    "start_time": "2021-11-17T11:51:03.666Z"
   },
   {
    "duration": 320,
    "start_time": "2021-11-17T11:51:04.848Z"
   },
   {
    "duration": 1201,
    "start_time": "2021-11-17T11:56:13.677Z"
   },
   {
    "duration": 1226,
    "start_time": "2021-11-17T11:56:30.562Z"
   },
   {
    "duration": 7204,
    "start_time": "2021-11-17T11:56:52.269Z"
   },
   {
    "duration": 1178,
    "start_time": "2021-11-17T11:57:08.254Z"
   },
   {
    "duration": 1172,
    "start_time": "2021-11-17T11:57:13.429Z"
   },
   {
    "duration": 776,
    "start_time": "2021-11-17T11:57:39.221Z"
   },
   {
    "duration": 4,
    "start_time": "2021-11-17T11:59:07.851Z"
   },
   {
    "duration": 8,
    "start_time": "2021-11-17T11:59:07.858Z"
   },
   {
    "duration": 54,
    "start_time": "2021-11-17T11:59:07.869Z"
   },
   {
    "duration": 12,
    "start_time": "2021-11-17T11:59:07.926Z"
   },
   {
    "duration": 40,
    "start_time": "2021-11-17T11:59:07.940Z"
   },
   {
    "duration": 21,
    "start_time": "2021-11-17T11:59:07.983Z"
   },
   {
    "duration": 9,
    "start_time": "2021-11-17T11:59:08.006Z"
   },
   {
    "duration": 11,
    "start_time": "2021-11-17T11:59:08.019Z"
   },
   {
    "duration": 43,
    "start_time": "2021-11-17T11:59:08.033Z"
   },
   {
    "duration": 32,
    "start_time": "2021-11-17T11:59:08.079Z"
   },
   {
    "duration": 69,
    "start_time": "2021-11-17T11:59:08.113Z"
   },
   {
    "duration": 20,
    "start_time": "2021-11-17T11:59:08.184Z"
   },
   {
    "duration": 76,
    "start_time": "2021-11-17T11:59:08.206Z"
   },
   {
    "duration": 6,
    "start_time": "2021-11-17T11:59:08.285Z"
   },
   {
    "duration": 8,
    "start_time": "2021-11-17T11:59:08.295Z"
   },
   {
    "duration": 29291,
    "start_time": "2021-11-17T11:59:08.306Z"
   },
   {
    "duration": 32011,
    "start_time": "2021-11-17T11:59:37.599Z"
   },
   {
    "duration": 11,
    "start_time": "2021-11-17T12:00:09.613Z"
   },
   {
    "duration": 14,
    "start_time": "2021-11-17T12:00:09.627Z"
   },
   {
    "duration": 150,
    "start_time": "2021-11-17T12:00:09.643Z"
   },
   {
    "duration": 27662,
    "start_time": "2021-11-17T12:00:09.795Z"
   },
   {
    "duration": 6982,
    "start_time": "2021-11-17T12:00:37.468Z"
   },
   {
    "duration": 376930,
    "start_time": "2021-11-17T12:00:44.454Z"
   },
   {
    "duration": 1208,
    "start_time": "2021-11-17T12:07:01.386Z"
   },
   {
    "duration": 320,
    "start_time": "2021-11-17T12:07:02.597Z"
   },
   {
    "duration": 1124,
    "start_time": "2021-11-17T12:15:17.145Z"
   },
   {
    "duration": 5,
    "start_time": "2021-11-17T12:15:22.727Z"
   },
   {
    "duration": 11,
    "start_time": "2021-11-17T12:15:22.734Z"
   },
   {
    "duration": 52,
    "start_time": "2021-11-17T12:15:22.749Z"
   },
   {
    "duration": 11,
    "start_time": "2021-11-17T12:15:22.804Z"
   },
   {
    "duration": 10,
    "start_time": "2021-11-17T12:15:22.818Z"
   },
   {
    "duration": 39,
    "start_time": "2021-11-17T12:15:22.830Z"
   },
   {
    "duration": 9,
    "start_time": "2021-11-17T12:15:22.871Z"
   },
   {
    "duration": 11,
    "start_time": "2021-11-17T12:15:22.883Z"
   },
   {
    "duration": 8,
    "start_time": "2021-11-17T12:15:22.898Z"
   },
   {
    "duration": 66,
    "start_time": "2021-11-17T12:15:22.909Z"
   },
   {
    "duration": 45,
    "start_time": "2021-11-17T12:15:22.977Z"
   },
   {
    "duration": 19,
    "start_time": "2021-11-17T12:15:23.024Z"
   },
   {
    "duration": 51,
    "start_time": "2021-11-17T12:15:23.068Z"
   },
   {
    "duration": 6,
    "start_time": "2021-11-17T12:15:23.121Z"
   },
   {
    "duration": 7,
    "start_time": "2021-11-17T12:15:23.130Z"
   },
   {
    "duration": 26928,
    "start_time": "2021-11-17T12:15:23.139Z"
   },
   {
    "duration": 31746,
    "start_time": "2021-11-17T12:15:50.070Z"
   },
   {
    "duration": 12,
    "start_time": "2021-11-17T12:16:21.819Z"
   },
   {
    "duration": 10,
    "start_time": "2021-11-17T12:16:21.834Z"
   },
   {
    "duration": 143,
    "start_time": "2021-11-17T12:16:21.847Z"
   },
   {
    "duration": 27026,
    "start_time": "2021-11-17T12:16:21.992Z"
   },
   {
    "duration": 6872,
    "start_time": "2021-11-17T12:16:49.020Z"
   },
   {
    "duration": 374735,
    "start_time": "2021-11-17T12:16:55.895Z"
   },
   {
    "duration": 1180,
    "start_time": "2021-11-17T12:23:10.632Z"
   },
   {
    "duration": 313,
    "start_time": "2021-11-17T12:23:11.814Z"
   },
   {
    "duration": 748,
    "start_time": "2021-11-17T12:25:01.788Z"
   },
   {
    "duration": 1176,
    "start_time": "2021-11-17T12:25:20.040Z"
   },
   {
    "duration": 762,
    "start_time": "2021-11-17T12:26:20.316Z"
   }
  ],
  "kernelspec": {
   "display_name": "Python 3",
   "language": "python",
   "name": "python3"
  },
  "language_info": {
   "codemirror_mode": {
    "name": "ipython",
    "version": 3
   },
   "file_extension": ".py",
   "mimetype": "text/x-python",
   "name": "python",
   "nbconvert_exporter": "python",
   "pygments_lexer": "ipython3",
   "version": "3.8.8"
  },
  "toc": {
   "base_numbering": 1,
   "nav_menu": {},
   "number_sections": true,
   "sideBar": true,
   "skip_h1_title": true,
   "title_cell": "Содержание",
   "title_sidebar": "Contents",
   "toc_cell": true,
   "toc_position": {},
   "toc_section_display": true,
   "toc_window_display": false
  }
 },
 "nbformat": 4,
 "nbformat_minor": 2
}
