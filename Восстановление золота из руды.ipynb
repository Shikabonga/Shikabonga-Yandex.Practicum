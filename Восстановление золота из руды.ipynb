{
 "cells": [
  {
   "cell_type": "markdown",
   "metadata": {
    "toc": true
   },
   "source": [
    "<h1>Содержание<span class=\"tocSkip\"></span></h1>\n",
    "<div class=\"toc\"><ul class=\"toc-item\"><li><span><a href=\"#Подготовка-данных\" data-toc-modified-id=\"Подготовка-данных-1\"><span class=\"toc-item-num\">1&nbsp;&nbsp;</span>Подготовка данных</a></span><ul class=\"toc-item\"><li><span><a href=\"#Откроем-файлы-и-изучим-их\" data-toc-modified-id=\"Откроем-файлы-и-изучим-их-1.1\"><span class=\"toc-item-num\">1.1&nbsp;&nbsp;</span>Откроем файлы и изучим их</a></span></li><li><span><a href=\"#Проверим-эффективность-обогащения.-Вычислим-её-на-обучающей-выборке-для-признака-rougher.output.recovery.-Найдем-MAE-между-нашими-расчётами-и-значением-признака\" data-toc-modified-id=\"Проверим-эффективность-обогащения.-Вычислим-её-на-обучающей-выборке-для-признака-rougher.output.recovery.-Найдем-MAE-между-нашими-расчётами-и-значением-признака-1.2\"><span class=\"toc-item-num\">1.2&nbsp;&nbsp;</span>Проверим эффективность обогащения. Вычислим её на обучающей выборке для признака rougher.output.recovery. Найдем MAE между нашими расчётами и значением признака</a></span></li><li><span><a href=\"#Проанализируем-признаки,-недоступные-в-тестовой-выборке.-Что-это-за-параметры?-К-какому-типу-относятся?\" data-toc-modified-id=\"Проанализируем-признаки,-недоступные-в-тестовой-выборке.-Что-это-за-параметры?-К-какому-типу-относятся?-1.3\"><span class=\"toc-item-num\">1.3&nbsp;&nbsp;</span>Проанализируем признаки, недоступные в тестовой выборке. Что это за параметры? К какому типу относятся?</a></span></li><li><span><a href=\"#Вывод:\" data-toc-modified-id=\"Вывод:-1.4\"><span class=\"toc-item-num\">1.4&nbsp;&nbsp;</span>Вывод:</a></span></li></ul></li><li><span><a href=\"#Анализ-данных\" data-toc-modified-id=\"Анализ-данных-2\"><span class=\"toc-item-num\">2&nbsp;&nbsp;</span>Анализ данных</a></span><ul class=\"toc-item\"><li><span><a href=\"#Посмотрим,-как-меняется-концентрация-металлов-(Au,-Ag,-Pb)-на-различных-этапах-очистки.\" data-toc-modified-id=\"Посмотрим,-как-меняется-концентрация-металлов-(Au,-Ag,-Pb)-на-различных-этапах-очистки.-2.1\"><span class=\"toc-item-num\">2.1&nbsp;&nbsp;</span>Посмотрим, как меняется концентрация металлов (Au, Ag, Pb) на различных этапах очистки.</a></span></li><li><span><a href=\"#Сравним-распределения-размеров-гранул-сырья-на-обучающей-и-тестовой-выборках.-Если-распределения-сильно-отличаются-друг-от-друга,-оценка-модели-будет-неправильной.\" data-toc-modified-id=\"Сравним-распределения-размеров-гранул-сырья-на-обучающей-и-тестовой-выборках.-Если-распределения-сильно-отличаются-друг-от-друга,-оценка-модели-будет-неправильной.-2.2\"><span class=\"toc-item-num\">2.2&nbsp;&nbsp;</span>Сравним распределения размеров гранул сырья на обучающей и тестовой выборках. Если распределения сильно отличаются друг от друга, оценка модели будет неправильной.</a></span></li><li><span><a href=\"#Исследуем-суммарную-концентрацию-всех-веществ-на-разных-стадиях:-в-сырье,-в-черновом-и-финальном-концентратах.\" data-toc-modified-id=\"Исследуем-суммарную-концентрацию-всех-веществ-на-разных-стадиях:-в-сырье,-в-черновом-и-финальном-концентратах.-2.3\"><span class=\"toc-item-num\">2.3&nbsp;&nbsp;</span>Исследуем суммарную концентрацию всех веществ на разных стадиях: в сырье, в черновом и финальном концентратах.</a></span></li></ul></li><li><span><a href=\"#Модель\" data-toc-modified-id=\"Модель-3\"><span class=\"toc-item-num\">3&nbsp;&nbsp;</span>Модель</a></span><ul class=\"toc-item\"><li><span><a href=\"#Напишим-функцию-для-вычисления-итоговой-sMAPE.\" data-toc-modified-id=\"Напишим-функцию-для-вычисления-итоговой-sMAPE.-3.1\"><span class=\"toc-item-num\">3.1&nbsp;&nbsp;</span>Напишим функцию для вычисления итоговой sMAPE.</a></span></li><li><span><a href=\"#Обучим-разные-модели-и-оценим-их-качество-кросс-валидацией.-Выберем-лучшую-модель-и-проверим-её-на-тестовой-выборке.\" data-toc-modified-id=\"Обучим-разные-модели-и-оценим-их-качество-кросс-валидацией.-Выберем-лучшую-модель-и-проверим-её-на-тестовой-выборке.-3.2\"><span class=\"toc-item-num\">3.2&nbsp;&nbsp;</span>Обучим разные модели и оценим их качество кросс-валидацией. Выберем лучшую модель и проверим её на тестовой выборке.</a></span><ul class=\"toc-item\"><li><span><a href=\"#Определяем-признаки-и-гиперпараметры-для-моделей\" data-toc-modified-id=\"Определяем-признаки-и-гиперпараметры-для-моделей-3.2.1\"><span class=\"toc-item-num\">3.2.1&nbsp;&nbsp;</span>Определяем признаки и гиперпараметры для моделей</a></span></li><li><span><a href=\"#Подбираем-параметры-и-считаем-sMAPE-для-rougher\" data-toc-modified-id=\"Подбираем-параметры-и-считаем-sMAPE-для-rougher-3.2.2\"><span class=\"toc-item-num\">3.2.2&nbsp;&nbsp;</span>Подбираем параметры и считаем sMAPE для rougher</a></span></li><li><span><a href=\"#Подбираем-параметры-и-считаем-sMAPE-для-final\" data-toc-modified-id=\"Подбираем-параметры-и-считаем-sMAPE-для-final-3.2.3\"><span class=\"toc-item-num\">3.2.3&nbsp;&nbsp;</span>Подбираем параметры и считаем sMAPE для final</a></span></li><li><span><a href=\"#Обучим-модели-и-сохраним-значение-метрики-sMAPE\" data-toc-modified-id=\"Обучим-модели-и-сохраним-значение-метрики-sMAPE-3.2.4\"><span class=\"toc-item-num\">3.2.4&nbsp;&nbsp;</span>Обучим модели и сохраним значение метрики sMAPE</a></span></li><li><span><a href=\"#Посчитаем-итоговое-значение:\" data-toc-modified-id=\"Посчитаем-итоговое-значение:-3.2.5\"><span class=\"toc-item-num\">3.2.5&nbsp;&nbsp;</span>Посчитаем итоговое значение:</a></span></li></ul></li></ul></li><li><span><a href=\"#Вывод:\" data-toc-modified-id=\"Вывод:-4\"><span class=\"toc-item-num\">4&nbsp;&nbsp;</span>Вывод:</a></span></li><li><span><a href=\"#Чек-лист-готовности-проекта\" data-toc-modified-id=\"Чек-лист-готовности-проекта-5\"><span class=\"toc-item-num\">5&nbsp;&nbsp;</span>Чек-лист готовности проекта</a></span></li></ul></div>"
   ]
  },
  {
   "cell_type": "markdown",
   "metadata": {},
   "source": [
    "# Восстановление золота из руды"
   ]
  },
  {
   "cell_type": "markdown",
   "metadata": {},
   "source": [
    "Подготовьте прототип модели машинного обучения для «Цифры». Компания разрабатывает решения для эффективной работы промышленных предприятий.\n",
    "\n",
    "Модель должна предсказать коэффициент восстановления золота из золотосодержащей руды. Используйте данные с параметрами добычи и очистки. \n",
    "\n",
    "Модель поможет оптимизировать производство, чтобы не запускать предприятие с убыточными характеристиками.\n",
    "\n",
    "Нужно:\n",
    "\n",
    "1. Подготовить данные;\n",
    "2. Провести исследовательский анализ данных;\n",
    "3. Построить и обучить модель.\n"
   ]
  },
  {
   "cell_type": "markdown",
   "metadata": {},
   "source": [
    "<div class=\"Markdown base-markdown base-markdown_with-gallery base-markdown markdown markdown_size_normal markdown_type_theory theory-viewer__markdown theory-viewer__markdown_flexible big-theory lesson__theory lesson__markdown\"><h1>Технологический процесс</h1><div class=\"paragraph\">Как золото получают из руды? Изучите внимательно стадии процесса.</div><div class=\"paragraph\">Когда добытая руда проходит первичную обработку, получается дроблёная смесь. Её отправляют на флотацию (обогащение) и двухэтапную очистку.</div><div class=\"paragraph\"><img alt=\"image\" class=\"image image_expandable\" src=\"https://pictures.s3.yandex.net/resources/viruchka_1576238830.jpg\" style=\"\"></div><div class=\"paragraph\">Опишем каждую стадию: </div><div class=\"paragraph\"><strong>1. Флотация</strong></div><div class=\"paragraph\">Во флотационную установку подаётся смесь золотосодержащей руды. После обогащения получается черновой концентрат и «отвальные хвосты», то есть остатки продукта с низкой концентрацией ценных металлов.</div><div class=\"paragraph\">На стабильность этого процесса влияет непостоянное и неоптимальное физико-химическое состояние флотационной пульпы (смеси твёрдых частиц и жидкости).</div><div class=\"paragraph\"><strong>2. Очистка</strong> </div><div class=\"paragraph\">Черновой концентрат проходит две очистки. На выходе получается финальный концентрат и новые отвальные хвосты.</div><h1>Описание данных</h1><div class=\"paragraph\"><strong>Технологический процесс</strong></div><ul><li><em>Rougher feed</em> — исходное сырье</li><li><em>Rougher additions</em> (или <em>reagent additions</em>) — флотационные реагенты: <em>Xanthate, Sulphate, Depressant</em>\n",
    "  <ul><li><em>Xanthate</em> <em>**</em>— ксантогенат (промотер, или активатор флотации);</li><li><em>Sulphate</em> — сульфат (на данном производстве сульфид натрия);</li><li><em>Depressant</em> — депрессант (силикат натрия).</li></ul></li><li><em>Rougher process</em> (англ. «грубый процесс») — флотация</li><li><em>Rougher tails</em> — отвальные хвосты</li><li><em>Float banks</em> — флотационная установка</li><li><em>Cleaner process</em> — очистка</li><li><em>Rougher Au</em> — черновой концентрат золота</li><li><em>Final Au</em> — финальный концентрат золота</li></ul><div class=\"paragraph\"><strong>Параметры этапов</strong></div><ul><li><em>air amount</em> — объём воздуха</li><li><em>fluid levels</em> — уровень жидкости</li><li><em>feed size</em> — размер гранул сырья</li><li><em>feed rate —</em> скорость подачи</li></ul><h1><strong>Наименование признаков</strong></h1><div class=\"paragraph\">Наименование признаков должно быть такое:</div><div class=\"paragraph\"><code class=\"code-inline code-inline_theme_light\">[этап].[тип_параметра].[название_параметра]</code></div><div class=\"paragraph\">Пример: <code class=\"code-inline code-inline_theme_light\">rougher.input.feed_ag</code></div><div class=\"paragraph\">Возможные значения для блока <code class=\"code-inline code-inline_theme_light\">[этап]</code>:</div><ul><li><em>rougher —</em> флотация</li><li><em>primary_cleaner</em> — первичная очистка</li><li><em>secondary_cleaner</em> — вторичная очистка</li><li><em>final</em> — финальные характеристики</li></ul><div class=\"paragraph\">Возможные значения для блока <code class=\"code-inline code-inline_theme_light\">[тип_параметра]</code>:</div><ul><li><em>input</em> — параметры сырья</li><li><em>output</em> — параметры продукта</li><li><em>state</em> — параметры, характеризующие текущее состояние этапа</li><li><em>calculation —</em> расчётные характеристики</li></ul><h1>Расчёт эффективности</h1><div class=\"paragraph\">Вам нужно смоделировать процесс восстановления золота из золотосодержащей руды. </div><div class=\"paragraph\">Эффективность обогащения рассчитывается по формуле</div><div class=\"paragraph\"><img alt=\"image\" class=\"image image_expandable\" src=\"https://pictures.s3.yandex.net/resources/Recovery_1576238822.jpg\"></div><div class=\"paragraph\">где:</div><ul><li><em>C</em> — доля золота в концентрате после флотации/очистки;</li><li><em>F</em> — доля золота в сырье/концентрате до флотации/очистки;</li><li><em>T</em> — доля золота в отвальных хвостах после флотации/очистки.</li></ul><div class=\"paragraph\">Для прогноза коэффициента нужно найти долю золота в концентратах и хвостах. Причём важен не только финальный продукт, но и черновой концентрат.</div><h1>Метрика качества</h1><div class=\"paragraph\">Для решения задачи введём новую метрику качества — <strong>sMAPE</strong> (англ. <em>Symmetric Mean Absolute Percentage Error</em>, «симметричное среднее абсолютное процентное отклонение»).</div><div class=\"paragraph\">Она похожа на <em>MAE</em>, но выражается не в абсолютных величинах, а в относительных. Почему <em>симметричная</em>? Она одинаково учитывает масштаб и целевого признака, и предсказания.</div><div class=\"paragraph\">Метрика <em>sMAPE</em> вычисляется так:</div><div class=\"paragraph\"><img alt=\"image\" class=\"image image_expandable\" src=\"https://pictures.s3.yandex.net/resources/smape_1576238825.jpg\"></div><div class=\"paragraph\">Обозначения:</div><div class=\"paragraph\"><img alt=\"image\" class=\"image image_expandable\" src=\"https://pictures.s3.yandex.net/resources/y1_1576238832.jpg\"></div><ul><li>Значение целевого признака для объекта с порядковым номером <em><strong>i</strong></em> в выборке, на которой измеряется качество.</li></ul><div class=\"paragraph\"><img alt=\"image\" class=\"image image_expandable\" src=\"https://pictures.s3.yandex.net/resources/yi_1_1576238835.jpg\"></div><ul><li>Значение предсказания для объекта с порядковым номером <em><strong>i</strong></em>, например, в тестовой выборке.</li></ul><div class=\"paragraph\"><img alt=\"image\" class=\"image image_expandable\" src=\"https://pictures.s3.yandex.net/resources/N_1_1576238819.jpg\"></div><ul><li>Количество объектов в выборке.</li></ul><div class=\"paragraph\"><img alt=\"image\" class=\"image image_expandable\" src=\"https://pictures.s3.yandex.net/resources/I_1576238817.jpg\"></div><ul><li>Суммирование по всем объектам выборки (<em><strong>i</strong></em> меняется от 1 до <em>N</em>).</li></ul><div class=\"paragraph\">Нужно спрогнозировать сразу две величины:</div><ol start=\"1\"><li><div class=\"paragraph\">эффективность обогащения чернового концентрата <code class=\"code-inline code-inline_theme_light\">rougher.output.recovery</code>;</div></li><li><div class=\"paragraph\">эффективность обогащения финального концентрата <code class=\"code-inline code-inline_theme_light\">final.output.recovery</code>.</div></li></ol><div class=\"paragraph\">Итоговая метрика складывается из двух величин:</div><div class=\"paragraph\"><img alt=\"image\" class=\"image image_expandable\" src=\"https://pictures.s3.yandex.net/resources/_smape_1576238814.jpg\"></div></div>"
   ]
  },
  {
   "cell_type": "markdown",
   "metadata": {},
   "source": [
    "## Подготовка данных"
   ]
  },
  {
   "cell_type": "markdown",
   "metadata": {},
   "source": [
    "### Откроем файлы и изучим их"
   ]
  },
  {
   "cell_type": "code",
   "execution_count": 59,
   "metadata": {},
   "outputs": [],
   "source": [
    "import pandas as pd\n",
    "\n",
    "import matplotlib.pyplot as plt\n",
    "import seaborn as sns\n",
    "import numpy as np\n",
    "from numpy.random import RandomState\n",
    "\n",
    "from sklearn.metrics import mean_absolute_error, make_scorer\n",
    "from sklearn.ensemble import RandomForestRegressor\n",
    "from sklearn.linear_model import LinearRegression\n",
    "from sklearn import linear_model\n",
    "from sklearn.model_selection import cross_val_score, KFold, GridSearchCV\n",
    "from sklearn.pipeline import Pipeline\n",
    "from sklearn.impute import SimpleImputer\n",
    "from sklearn.preprocessing import StandardScaler\n",
    "from sklearn.dummy import DummyRegressor\n",
    "\n",
    "import warnings\n",
    "warnings.filterwarnings('ignore')"
   ]
  },
  {
   "cell_type": "code",
   "execution_count": 2,
   "metadata": {},
   "outputs": [],
   "source": [
    "df = pd.read_csv('/datasets/gold_recovery_full_new.csv')\n",
    "df_test = pd.read_csv('/datasets/gold_recovery_test_new.csv')\n",
    "df_train = pd.read_csv('/datasets/gold_recovery_train_new.csv')"
   ]
  },
  {
   "cell_type": "code",
   "execution_count": 3,
   "metadata": {},
   "outputs": [
    {
     "name": "stdout",
     "output_type": "stream",
     "text": [
      "Размер выборки:(19439, 87)\n",
      "Размер тестовой выборки:(5290, 53)\n",
      "Размер обучающей выборки:(14149, 87)\n"
     ]
    }
   ],
   "source": [
    "print('Размер выборки:{}'.format(df.shape))\n",
    "print('Размер тестовой выборки:{}'.format(df_test.shape))\n",
    "print('Размер обучающей выборки:{}'.format(df_train.shape))"
   ]
  },
  {
   "cell_type": "markdown",
   "metadata": {},
   "source": [
    "Видим разную размерность таблиц"
   ]
  },
  {
   "cell_type": "code",
   "execution_count": 4,
   "metadata": {},
   "outputs": [
    {
     "data": {
      "text/html": [
       "<div>\n",
       "<style scoped>\n",
       "    .dataframe tbody tr th:only-of-type {\n",
       "        vertical-align: middle;\n",
       "    }\n",
       "\n",
       "    .dataframe tbody tr th {\n",
       "        vertical-align: top;\n",
       "    }\n",
       "\n",
       "    .dataframe thead th {\n",
       "        text-align: right;\n",
       "    }\n",
       "</style>\n",
       "<table border=\"1\" class=\"dataframe\">\n",
       "  <thead>\n",
       "    <tr style=\"text-align: right;\">\n",
       "      <th></th>\n",
       "      <th>date</th>\n",
       "      <th>final.output.concentrate_ag</th>\n",
       "      <th>final.output.concentrate_pb</th>\n",
       "      <th>final.output.concentrate_sol</th>\n",
       "      <th>final.output.concentrate_au</th>\n",
       "      <th>final.output.recovery</th>\n",
       "      <th>final.output.tail_ag</th>\n",
       "      <th>final.output.tail_pb</th>\n",
       "      <th>final.output.tail_sol</th>\n",
       "      <th>final.output.tail_au</th>\n",
       "      <th>...</th>\n",
       "      <th>secondary_cleaner.state.floatbank4_a_air</th>\n",
       "      <th>secondary_cleaner.state.floatbank4_a_level</th>\n",
       "      <th>secondary_cleaner.state.floatbank4_b_air</th>\n",
       "      <th>secondary_cleaner.state.floatbank4_b_level</th>\n",
       "      <th>secondary_cleaner.state.floatbank5_a_air</th>\n",
       "      <th>secondary_cleaner.state.floatbank5_a_level</th>\n",
       "      <th>secondary_cleaner.state.floatbank5_b_air</th>\n",
       "      <th>secondary_cleaner.state.floatbank5_b_level</th>\n",
       "      <th>secondary_cleaner.state.floatbank6_a_air</th>\n",
       "      <th>secondary_cleaner.state.floatbank6_a_level</th>\n",
       "    </tr>\n",
       "  </thead>\n",
       "  <tbody>\n",
       "    <tr>\n",
       "      <td>12652</td>\n",
       "      <td>2017-09-15 22:59:59</td>\n",
       "      <td>4.346630</td>\n",
       "      <td>10.675380</td>\n",
       "      <td>6.731274</td>\n",
       "      <td>46.492182</td>\n",
       "      <td>67.506466</td>\n",
       "      <td>5.841003</td>\n",
       "      <td>2.443394</td>\n",
       "      <td>10.895717</td>\n",
       "      <td>2.200093</td>\n",
       "      <td>...</td>\n",
       "      <td>12.015311</td>\n",
       "      <td>-500.387787</td>\n",
       "      <td>9.073864</td>\n",
       "      <td>-400.117407</td>\n",
       "      <td>8.968393</td>\n",
       "      <td>-500.230669</td>\n",
       "      <td>7.065703</td>\n",
       "      <td>-500.244151</td>\n",
       "      <td>9.997739</td>\n",
       "      <td>-500.029580</td>\n",
       "    </tr>\n",
       "    <tr>\n",
       "      <td>6378</td>\n",
       "      <td>2016-11-21 18:59:59</td>\n",
       "      <td>5.929995</td>\n",
       "      <td>9.157147</td>\n",
       "      <td>11.970575</td>\n",
       "      <td>45.531083</td>\n",
       "      <td>70.578151</td>\n",
       "      <td>10.753004</td>\n",
       "      <td>2.719724</td>\n",
       "      <td>8.983373</td>\n",
       "      <td>3.298809</td>\n",
       "      <td>...</td>\n",
       "      <td>18.042930</td>\n",
       "      <td>-500.447179</td>\n",
       "      <td>16.016025</td>\n",
       "      <td>-498.987389</td>\n",
       "      <td>14.463386</td>\n",
       "      <td>-499.718887</td>\n",
       "      <td>12.032933</td>\n",
       "      <td>-494.014533</td>\n",
       "      <td>21.990045</td>\n",
       "      <td>-500.909115</td>\n",
       "    </tr>\n",
       "    <tr>\n",
       "      <td>14156</td>\n",
       "      <td>2017-11-21 11:59:59</td>\n",
       "      <td>7.725536</td>\n",
       "      <td>10.567332</td>\n",
       "      <td>11.001626</td>\n",
       "      <td>41.488806</td>\n",
       "      <td>77.491945</td>\n",
       "      <td>12.466093</td>\n",
       "      <td>3.698904</td>\n",
       "      <td>11.840382</td>\n",
       "      <td>3.529035</td>\n",
       "      <td>...</td>\n",
       "      <td>17.030274</td>\n",
       "      <td>-499.663926</td>\n",
       "      <td>14.876742</td>\n",
       "      <td>-500.188132</td>\n",
       "      <td>10.984788</td>\n",
       "      <td>-497.437614</td>\n",
       "      <td>8.979746</td>\n",
       "      <td>-500.079749</td>\n",
       "      <td>15.990632</td>\n",
       "      <td>-499.326293</td>\n",
       "    </tr>\n",
       "    <tr>\n",
       "      <td>1719</td>\n",
       "      <td>2016-04-11 09:00:00</td>\n",
       "      <td>5.274658</td>\n",
       "      <td>10.863936</td>\n",
       "      <td>8.612191</td>\n",
       "      <td>44.949099</td>\n",
       "      <td>66.463299</td>\n",
       "      <td>7.751113</td>\n",
       "      <td>2.202561</td>\n",
       "      <td>11.757495</td>\n",
       "      <td>2.780796</td>\n",
       "      <td>...</td>\n",
       "      <td>13.994680</td>\n",
       "      <td>-505.917189</td>\n",
       "      <td>13.943761</td>\n",
       "      <td>-484.219510</td>\n",
       "      <td>15.615203</td>\n",
       "      <td>-498.295263</td>\n",
       "      <td>15.584221</td>\n",
       "      <td>-499.956649</td>\n",
       "      <td>24.953490</td>\n",
       "      <td>-496.984711</td>\n",
       "    </tr>\n",
       "    <tr>\n",
       "      <td>17311</td>\n",
       "      <td>2018-05-04 01:59:59</td>\n",
       "      <td>4.711938</td>\n",
       "      <td>6.393967</td>\n",
       "      <td>7.938254</td>\n",
       "      <td>51.215084</td>\n",
       "      <td>17.167641</td>\n",
       "      <td>8.424786</td>\n",
       "      <td>NaN</td>\n",
       "      <td>10.586112</td>\n",
       "      <td>0.592872</td>\n",
       "      <td>...</td>\n",
       "      <td>30.043479</td>\n",
       "      <td>-494.877769</td>\n",
       "      <td>20.034341</td>\n",
       "      <td>-501.372960</td>\n",
       "      <td>24.896534</td>\n",
       "      <td>-501.184060</td>\n",
       "      <td>23.009155</td>\n",
       "      <td>-500.234719</td>\n",
       "      <td>24.996103</td>\n",
       "      <td>-502.112193</td>\n",
       "    </tr>\n",
       "    <tr>\n",
       "      <td>2161</td>\n",
       "      <td>2016-05-07 21:59:59</td>\n",
       "      <td>5.811486</td>\n",
       "      <td>10.866828</td>\n",
       "      <td>8.894616</td>\n",
       "      <td>42.736694</td>\n",
       "      <td>55.932696</td>\n",
       "      <td>7.805065</td>\n",
       "      <td>2.578367</td>\n",
       "      <td>11.097551</td>\n",
       "      <td>3.517929</td>\n",
       "      <td>...</td>\n",
       "      <td>13.971600</td>\n",
       "      <td>-499.469395</td>\n",
       "      <td>11.941069</td>\n",
       "      <td>-498.734530</td>\n",
       "      <td>11.010672</td>\n",
       "      <td>-500.105066</td>\n",
       "      <td>5.940794</td>\n",
       "      <td>-500.150639</td>\n",
       "      <td>19.996943</td>\n",
       "      <td>-500.000489</td>\n",
       "    </tr>\n",
       "    <tr>\n",
       "      <td>9402</td>\n",
       "      <td>2017-04-12 03:59:59</td>\n",
       "      <td>4.621035</td>\n",
       "      <td>10.626255</td>\n",
       "      <td>9.465407</td>\n",
       "      <td>45.500695</td>\n",
       "      <td>66.207511</td>\n",
       "      <td>9.510352</td>\n",
       "      <td>3.448345</td>\n",
       "      <td>10.773625</td>\n",
       "      <td>2.886842</td>\n",
       "      <td>...</td>\n",
       "      <td>25.047121</td>\n",
       "      <td>-396.619560</td>\n",
       "      <td>23.053436</td>\n",
       "      <td>-400.055074</td>\n",
       "      <td>26.038238</td>\n",
       "      <td>-450.331286</td>\n",
       "      <td>24.002760</td>\n",
       "      <td>-450.072125</td>\n",
       "      <td>29.996880</td>\n",
       "      <td>-500.602019</td>\n",
       "    </tr>\n",
       "    <tr>\n",
       "      <td>498</td>\n",
       "      <td>2016-02-07 05:00:00</td>\n",
       "      <td>5.148323</td>\n",
       "      <td>9.666883</td>\n",
       "      <td>1.703834</td>\n",
       "      <td>45.108180</td>\n",
       "      <td>65.748264</td>\n",
       "      <td>10.780446</td>\n",
       "      <td>1.585460</td>\n",
       "      <td>17.060250</td>\n",
       "      <td>2.317255</td>\n",
       "      <td>...</td>\n",
       "      <td>16.993548</td>\n",
       "      <td>-500.659477</td>\n",
       "      <td>16.046437</td>\n",
       "      <td>-501.864273</td>\n",
       "      <td>18.055774</td>\n",
       "      <td>-499.681648</td>\n",
       "      <td>15.972082</td>\n",
       "      <td>-499.883694</td>\n",
       "      <td>17.985337</td>\n",
       "      <td>-500.245673</td>\n",
       "    </tr>\n",
       "    <tr>\n",
       "      <td>15326</td>\n",
       "      <td>2018-01-26 02:59:59</td>\n",
       "      <td>5.855684</td>\n",
       "      <td>9.024847</td>\n",
       "      <td>8.784345</td>\n",
       "      <td>45.469794</td>\n",
       "      <td>68.798893</td>\n",
       "      <td>12.129352</td>\n",
       "      <td>2.712628</td>\n",
       "      <td>12.875350</td>\n",
       "      <td>3.680271</td>\n",
       "      <td>...</td>\n",
       "      <td>20.049475</td>\n",
       "      <td>-499.676731</td>\n",
       "      <td>14.878844</td>\n",
       "      <td>-499.750093</td>\n",
       "      <td>11.105558</td>\n",
       "      <td>-499.408410</td>\n",
       "      <td>8.975973</td>\n",
       "      <td>-499.726490</td>\n",
       "      <td>10.992776</td>\n",
       "      <td>-499.076314</td>\n",
       "    </tr>\n",
       "    <tr>\n",
       "      <td>16870</td>\n",
       "      <td>2018-04-14 05:59:59</td>\n",
       "      <td>6.348861</td>\n",
       "      <td>10.892700</td>\n",
       "      <td>8.442534</td>\n",
       "      <td>42.339264</td>\n",
       "      <td>79.145480</td>\n",
       "      <td>15.020250</td>\n",
       "      <td>3.722153</td>\n",
       "      <td>6.781955</td>\n",
       "      <td>3.442082</td>\n",
       "      <td>...</td>\n",
       "      <td>22.988341</td>\n",
       "      <td>-500.490908</td>\n",
       "      <td>16.037888</td>\n",
       "      <td>-499.543188</td>\n",
       "      <td>18.021680</td>\n",
       "      <td>-500.502530</td>\n",
       "      <td>12.042536</td>\n",
       "      <td>-499.736919</td>\n",
       "      <td>15.009461</td>\n",
       "      <td>-500.617523</td>\n",
       "    </tr>\n",
       "  </tbody>\n",
       "</table>\n",
       "<p>10 rows × 87 columns</p>\n",
       "</div>"
      ],
      "text/plain": [
       "                      date  final.output.concentrate_ag  \\\n",
       "12652  2017-09-15 22:59:59                     4.346630   \n",
       "6378   2016-11-21 18:59:59                     5.929995   \n",
       "14156  2017-11-21 11:59:59                     7.725536   \n",
       "1719   2016-04-11 09:00:00                     5.274658   \n",
       "17311  2018-05-04 01:59:59                     4.711938   \n",
       "2161   2016-05-07 21:59:59                     5.811486   \n",
       "9402   2017-04-12 03:59:59                     4.621035   \n",
       "498    2016-02-07 05:00:00                     5.148323   \n",
       "15326  2018-01-26 02:59:59                     5.855684   \n",
       "16870  2018-04-14 05:59:59                     6.348861   \n",
       "\n",
       "       final.output.concentrate_pb  final.output.concentrate_sol  \\\n",
       "12652                    10.675380                      6.731274   \n",
       "6378                      9.157147                     11.970575   \n",
       "14156                    10.567332                     11.001626   \n",
       "1719                     10.863936                      8.612191   \n",
       "17311                     6.393967                      7.938254   \n",
       "2161                     10.866828                      8.894616   \n",
       "9402                     10.626255                      9.465407   \n",
       "498                       9.666883                      1.703834   \n",
       "15326                     9.024847                      8.784345   \n",
       "16870                    10.892700                      8.442534   \n",
       "\n",
       "       final.output.concentrate_au  final.output.recovery  \\\n",
       "12652                    46.492182              67.506466   \n",
       "6378                     45.531083              70.578151   \n",
       "14156                    41.488806              77.491945   \n",
       "1719                     44.949099              66.463299   \n",
       "17311                    51.215084              17.167641   \n",
       "2161                     42.736694              55.932696   \n",
       "9402                     45.500695              66.207511   \n",
       "498                      45.108180              65.748264   \n",
       "15326                    45.469794              68.798893   \n",
       "16870                    42.339264              79.145480   \n",
       "\n",
       "       final.output.tail_ag  final.output.tail_pb  final.output.tail_sol  \\\n",
       "12652              5.841003              2.443394              10.895717   \n",
       "6378              10.753004              2.719724               8.983373   \n",
       "14156             12.466093              3.698904              11.840382   \n",
       "1719               7.751113              2.202561              11.757495   \n",
       "17311              8.424786                   NaN              10.586112   \n",
       "2161               7.805065              2.578367              11.097551   \n",
       "9402               9.510352              3.448345              10.773625   \n",
       "498               10.780446              1.585460              17.060250   \n",
       "15326             12.129352              2.712628              12.875350   \n",
       "16870             15.020250              3.722153               6.781955   \n",
       "\n",
       "       final.output.tail_au  ...  secondary_cleaner.state.floatbank4_a_air  \\\n",
       "12652              2.200093  ...                                 12.015311   \n",
       "6378               3.298809  ...                                 18.042930   \n",
       "14156              3.529035  ...                                 17.030274   \n",
       "1719               2.780796  ...                                 13.994680   \n",
       "17311              0.592872  ...                                 30.043479   \n",
       "2161               3.517929  ...                                 13.971600   \n",
       "9402               2.886842  ...                                 25.047121   \n",
       "498                2.317255  ...                                 16.993548   \n",
       "15326              3.680271  ...                                 20.049475   \n",
       "16870              3.442082  ...                                 22.988341   \n",
       "\n",
       "       secondary_cleaner.state.floatbank4_a_level  \\\n",
       "12652                                 -500.387787   \n",
       "6378                                  -500.447179   \n",
       "14156                                 -499.663926   \n",
       "1719                                  -505.917189   \n",
       "17311                                 -494.877769   \n",
       "2161                                  -499.469395   \n",
       "9402                                  -396.619560   \n",
       "498                                   -500.659477   \n",
       "15326                                 -499.676731   \n",
       "16870                                 -500.490908   \n",
       "\n",
       "       secondary_cleaner.state.floatbank4_b_air  \\\n",
       "12652                                  9.073864   \n",
       "6378                                  16.016025   \n",
       "14156                                 14.876742   \n",
       "1719                                  13.943761   \n",
       "17311                                 20.034341   \n",
       "2161                                  11.941069   \n",
       "9402                                  23.053436   \n",
       "498                                   16.046437   \n",
       "15326                                 14.878844   \n",
       "16870                                 16.037888   \n",
       "\n",
       "       secondary_cleaner.state.floatbank4_b_level  \\\n",
       "12652                                 -400.117407   \n",
       "6378                                  -498.987389   \n",
       "14156                                 -500.188132   \n",
       "1719                                  -484.219510   \n",
       "17311                                 -501.372960   \n",
       "2161                                  -498.734530   \n",
       "9402                                  -400.055074   \n",
       "498                                   -501.864273   \n",
       "15326                                 -499.750093   \n",
       "16870                                 -499.543188   \n",
       "\n",
       "       secondary_cleaner.state.floatbank5_a_air  \\\n",
       "12652                                  8.968393   \n",
       "6378                                  14.463386   \n",
       "14156                                 10.984788   \n",
       "1719                                  15.615203   \n",
       "17311                                 24.896534   \n",
       "2161                                  11.010672   \n",
       "9402                                  26.038238   \n",
       "498                                   18.055774   \n",
       "15326                                 11.105558   \n",
       "16870                                 18.021680   \n",
       "\n",
       "       secondary_cleaner.state.floatbank5_a_level  \\\n",
       "12652                                 -500.230669   \n",
       "6378                                  -499.718887   \n",
       "14156                                 -497.437614   \n",
       "1719                                  -498.295263   \n",
       "17311                                 -501.184060   \n",
       "2161                                  -500.105066   \n",
       "9402                                  -450.331286   \n",
       "498                                   -499.681648   \n",
       "15326                                 -499.408410   \n",
       "16870                                 -500.502530   \n",
       "\n",
       "       secondary_cleaner.state.floatbank5_b_air  \\\n",
       "12652                                  7.065703   \n",
       "6378                                  12.032933   \n",
       "14156                                  8.979746   \n",
       "1719                                  15.584221   \n",
       "17311                                 23.009155   \n",
       "2161                                   5.940794   \n",
       "9402                                  24.002760   \n",
       "498                                   15.972082   \n",
       "15326                                  8.975973   \n",
       "16870                                 12.042536   \n",
       "\n",
       "       secondary_cleaner.state.floatbank5_b_level  \\\n",
       "12652                                 -500.244151   \n",
       "6378                                  -494.014533   \n",
       "14156                                 -500.079749   \n",
       "1719                                  -499.956649   \n",
       "17311                                 -500.234719   \n",
       "2161                                  -500.150639   \n",
       "9402                                  -450.072125   \n",
       "498                                   -499.883694   \n",
       "15326                                 -499.726490   \n",
       "16870                                 -499.736919   \n",
       "\n",
       "       secondary_cleaner.state.floatbank6_a_air  \\\n",
       "12652                                  9.997739   \n",
       "6378                                  21.990045   \n",
       "14156                                 15.990632   \n",
       "1719                                  24.953490   \n",
       "17311                                 24.996103   \n",
       "2161                                  19.996943   \n",
       "9402                                  29.996880   \n",
       "498                                   17.985337   \n",
       "15326                                 10.992776   \n",
       "16870                                 15.009461   \n",
       "\n",
       "       secondary_cleaner.state.floatbank6_a_level  \n",
       "12652                                 -500.029580  \n",
       "6378                                  -500.909115  \n",
       "14156                                 -499.326293  \n",
       "1719                                  -496.984711  \n",
       "17311                                 -502.112193  \n",
       "2161                                  -500.000489  \n",
       "9402                                  -500.602019  \n",
       "498                                   -500.245673  \n",
       "15326                                 -499.076314  \n",
       "16870                                 -500.617523  \n",
       "\n",
       "[10 rows x 87 columns]"
      ]
     },
     "metadata": {},
     "output_type": "display_data"
    }
   ],
   "source": [
    "display(df.sample(10))"
   ]
  },
  {
   "cell_type": "code",
   "execution_count": 5,
   "metadata": {},
   "outputs": [
    {
     "data": {
      "text/html": [
       "<div>\n",
       "<style scoped>\n",
       "    .dataframe tbody tr th:only-of-type {\n",
       "        vertical-align: middle;\n",
       "    }\n",
       "\n",
       "    .dataframe tbody tr th {\n",
       "        vertical-align: top;\n",
       "    }\n",
       "\n",
       "    .dataframe thead th {\n",
       "        text-align: right;\n",
       "    }\n",
       "</style>\n",
       "<table border=\"1\" class=\"dataframe\">\n",
       "  <thead>\n",
       "    <tr style=\"text-align: right;\">\n",
       "      <th></th>\n",
       "      <th>date</th>\n",
       "      <th>primary_cleaner.input.sulfate</th>\n",
       "      <th>primary_cleaner.input.depressant</th>\n",
       "      <th>primary_cleaner.input.feed_size</th>\n",
       "      <th>primary_cleaner.input.xanthate</th>\n",
       "      <th>primary_cleaner.state.floatbank8_a_air</th>\n",
       "      <th>primary_cleaner.state.floatbank8_a_level</th>\n",
       "      <th>primary_cleaner.state.floatbank8_b_air</th>\n",
       "      <th>primary_cleaner.state.floatbank8_b_level</th>\n",
       "      <th>primary_cleaner.state.floatbank8_c_air</th>\n",
       "      <th>...</th>\n",
       "      <th>secondary_cleaner.state.floatbank4_a_air</th>\n",
       "      <th>secondary_cleaner.state.floatbank4_a_level</th>\n",
       "      <th>secondary_cleaner.state.floatbank4_b_air</th>\n",
       "      <th>secondary_cleaner.state.floatbank4_b_level</th>\n",
       "      <th>secondary_cleaner.state.floatbank5_a_air</th>\n",
       "      <th>secondary_cleaner.state.floatbank5_a_level</th>\n",
       "      <th>secondary_cleaner.state.floatbank5_b_air</th>\n",
       "      <th>secondary_cleaner.state.floatbank5_b_level</th>\n",
       "      <th>secondary_cleaner.state.floatbank6_a_air</th>\n",
       "      <th>secondary_cleaner.state.floatbank6_a_level</th>\n",
       "    </tr>\n",
       "  </thead>\n",
       "  <tbody>\n",
       "    <tr>\n",
       "      <td>4568</td>\n",
       "      <td>2017-11-29 02:59:59</td>\n",
       "      <td>221.302372</td>\n",
       "      <td>12.008001</td>\n",
       "      <td>7.080000</td>\n",
       "      <td>1.985472</td>\n",
       "      <td>1011.533202</td>\n",
       "      <td>-501.617083</td>\n",
       "      <td>1012.933963</td>\n",
       "      <td>-491.803347</td>\n",
       "      <td>1011.873102</td>\n",
       "      <td>...</td>\n",
       "      <td>17.011225</td>\n",
       "      <td>-498.571759</td>\n",
       "      <td>14.971549</td>\n",
       "      <td>-432.799144</td>\n",
       "      <td>10.968963</td>\n",
       "      <td>-499.123898</td>\n",
       "      <td>9.009174</td>\n",
       "      <td>-462.607467</td>\n",
       "      <td>12.014989</td>\n",
       "      <td>-500.009464</td>\n",
       "    </tr>\n",
       "    <tr>\n",
       "      <td>4367</td>\n",
       "      <td>2017-11-20 16:59:59</td>\n",
       "      <td>232.366658</td>\n",
       "      <td>6.454060</td>\n",
       "      <td>6.560000</td>\n",
       "      <td>3.000416</td>\n",
       "      <td>1596.847054</td>\n",
       "      <td>-499.973187</td>\n",
       "      <td>1597.919809</td>\n",
       "      <td>-523.523351</td>\n",
       "      <td>1649.432329</td>\n",
       "      <td>...</td>\n",
       "      <td>17.003415</td>\n",
       "      <td>-500.098296</td>\n",
       "      <td>14.930663</td>\n",
       "      <td>-500.003222</td>\n",
       "      <td>10.985171</td>\n",
       "      <td>-499.099149</td>\n",
       "      <td>8.974760</td>\n",
       "      <td>-499.985876</td>\n",
       "      <td>16.012432</td>\n",
       "      <td>-499.562716</td>\n",
       "    </tr>\n",
       "    <tr>\n",
       "      <td>4518</td>\n",
       "      <td>2017-11-27 00:59:59</td>\n",
       "      <td>212.610153</td>\n",
       "      <td>11.041161</td>\n",
       "      <td>6.990000</td>\n",
       "      <td>1.813928</td>\n",
       "      <td>1597.296906</td>\n",
       "      <td>-499.737588</td>\n",
       "      <td>1599.844862</td>\n",
       "      <td>-502.107767</td>\n",
       "      <td>1603.229639</td>\n",
       "      <td>...</td>\n",
       "      <td>17.003368</td>\n",
       "      <td>-500.039326</td>\n",
       "      <td>15.077133</td>\n",
       "      <td>-500.832487</td>\n",
       "      <td>10.918677</td>\n",
       "      <td>-498.920347</td>\n",
       "      <td>8.997266</td>\n",
       "      <td>-500.070023</td>\n",
       "      <td>15.973697</td>\n",
       "      <td>-498.036068</td>\n",
       "    </tr>\n",
       "    <tr>\n",
       "      <td>80</td>\n",
       "      <td>2016-09-04 12:59:59</td>\n",
       "      <td>120.865036</td>\n",
       "      <td>8.064519</td>\n",
       "      <td>7.689333</td>\n",
       "      <td>0.706140</td>\n",
       "      <td>1297.414226</td>\n",
       "      <td>-500.141882</td>\n",
       "      <td>1299.239676</td>\n",
       "      <td>-499.494569</td>\n",
       "      <td>1296.681213</td>\n",
       "      <td>...</td>\n",
       "      <td>11.937280</td>\n",
       "      <td>-499.185428</td>\n",
       "      <td>7.832144</td>\n",
       "      <td>-499.207486</td>\n",
       "      <td>7.992592</td>\n",
       "      <td>-504.321912</td>\n",
       "      <td>4.945844</td>\n",
       "      <td>-500.287880</td>\n",
       "      <td>9.963342</td>\n",
       "      <td>-500.386672</td>\n",
       "    </tr>\n",
       "    <tr>\n",
       "      <td>1868</td>\n",
       "      <td>2016-11-29 14:59:59</td>\n",
       "      <td>204.917719</td>\n",
       "      <td>8.958502</td>\n",
       "      <td>6.450000</td>\n",
       "      <td>1.310847</td>\n",
       "      <td>1503.175601</td>\n",
       "      <td>-499.655249</td>\n",
       "      <td>1495.962792</td>\n",
       "      <td>-499.708656</td>\n",
       "      <td>1499.691320</td>\n",
       "      <td>...</td>\n",
       "      <td>18.009373</td>\n",
       "      <td>-499.439307</td>\n",
       "      <td>15.986517</td>\n",
       "      <td>-510.357094</td>\n",
       "      <td>16.693337</td>\n",
       "      <td>-489.457594</td>\n",
       "      <td>12.022020</td>\n",
       "      <td>-387.990410</td>\n",
       "      <td>21.994541</td>\n",
       "      <td>-496.735925</td>\n",
       "    </tr>\n",
       "    <tr>\n",
       "      <td>870</td>\n",
       "      <td>2016-10-17 07:59:59</td>\n",
       "      <td>213.524022</td>\n",
       "      <td>20.016120</td>\n",
       "      <td>7.530000</td>\n",
       "      <td>1.010042</td>\n",
       "      <td>1647.368783</td>\n",
       "      <td>-499.881687</td>\n",
       "      <td>1700.742855</td>\n",
       "      <td>-500.058006</td>\n",
       "      <td>1700.221796</td>\n",
       "      <td>...</td>\n",
       "      <td>19.959097</td>\n",
       "      <td>-500.756552</td>\n",
       "      <td>14.971445</td>\n",
       "      <td>-500.241468</td>\n",
       "      <td>8.735956</td>\n",
       "      <td>-502.710102</td>\n",
       "      <td>13.980908</td>\n",
       "      <td>-501.527015</td>\n",
       "      <td>16.994387</td>\n",
       "      <td>-499.941004</td>\n",
       "    </tr>\n",
       "    <tr>\n",
       "      <td>4397</td>\n",
       "      <td>2017-11-21 22:59:59</td>\n",
       "      <td>241.981756</td>\n",
       "      <td>12.001187</td>\n",
       "      <td>6.860000</td>\n",
       "      <td>2.108038</td>\n",
       "      <td>1599.832498</td>\n",
       "      <td>-500.999865</td>\n",
       "      <td>1600.784707</td>\n",
       "      <td>-516.989759</td>\n",
       "      <td>1648.192806</td>\n",
       "      <td>...</td>\n",
       "      <td>17.023550</td>\n",
       "      <td>-499.363665</td>\n",
       "      <td>14.949096</td>\n",
       "      <td>-500.014360</td>\n",
       "      <td>11.031672</td>\n",
       "      <td>-463.896275</td>\n",
       "      <td>9.018338</td>\n",
       "      <td>-215.751374</td>\n",
       "      <td>16.023944</td>\n",
       "      <td>-393.526734</td>\n",
       "    </tr>\n",
       "    <tr>\n",
       "      <td>2851</td>\n",
       "      <td>2017-09-14 15:59:59</td>\n",
       "      <td>141.907050</td>\n",
       "      <td>7.492260</td>\n",
       "      <td>6.910000</td>\n",
       "      <td>1.145025</td>\n",
       "      <td>1295.154771</td>\n",
       "      <td>-501.692733</td>\n",
       "      <td>1301.786970</td>\n",
       "      <td>-499.594413</td>\n",
       "      <td>1295.744877</td>\n",
       "      <td>...</td>\n",
       "      <td>11.976001</td>\n",
       "      <td>-500.834143</td>\n",
       "      <td>9.079548</td>\n",
       "      <td>-400.399190</td>\n",
       "      <td>8.947949</td>\n",
       "      <td>-501.540450</td>\n",
       "      <td>6.981589</td>\n",
       "      <td>-499.990724</td>\n",
       "      <td>9.989006</td>\n",
       "      <td>-500.285148</td>\n",
       "    </tr>\n",
       "    <tr>\n",
       "      <td>740</td>\n",
       "      <td>2016-10-11 20:59:59</td>\n",
       "      <td>181.502487</td>\n",
       "      <td>8.033951</td>\n",
       "      <td>7.550000</td>\n",
       "      <td>0.995709</td>\n",
       "      <td>1498.476759</td>\n",
       "      <td>-499.097944</td>\n",
       "      <td>1498.585375</td>\n",
       "      <td>-499.259860</td>\n",
       "      <td>1498.467880</td>\n",
       "      <td>...</td>\n",
       "      <td>12.019957</td>\n",
       "      <td>-701.051206</td>\n",
       "      <td>12.039313</td>\n",
       "      <td>-700.820306</td>\n",
       "      <td>9.770012</td>\n",
       "      <td>-499.393928</td>\n",
       "      <td>8.051957</td>\n",
       "      <td>-499.502423</td>\n",
       "      <td>16.961861</td>\n",
       "      <td>-500.031763</td>\n",
       "    </tr>\n",
       "    <tr>\n",
       "      <td>1837</td>\n",
       "      <td>2016-11-28 05:59:59</td>\n",
       "      <td>208.785384</td>\n",
       "      <td>9.037206</td>\n",
       "      <td>6.950000</td>\n",
       "      <td>1.404615</td>\n",
       "      <td>1502.250768</td>\n",
       "      <td>-500.464396</td>\n",
       "      <td>1499.790621</td>\n",
       "      <td>-500.192547</td>\n",
       "      <td>1496.414754</td>\n",
       "      <td>...</td>\n",
       "      <td>17.996747</td>\n",
       "      <td>-500.367438</td>\n",
       "      <td>15.898357</td>\n",
       "      <td>-499.623273</td>\n",
       "      <td>17.363765</td>\n",
       "      <td>-501.058875</td>\n",
       "      <td>11.987541</td>\n",
       "      <td>-500.155332</td>\n",
       "      <td>21.991878</td>\n",
       "      <td>-502.694357</td>\n",
       "    </tr>\n",
       "  </tbody>\n",
       "</table>\n",
       "<p>10 rows × 53 columns</p>\n",
       "</div>"
      ],
      "text/plain": [
       "                     date  primary_cleaner.input.sulfate  \\\n",
       "4568  2017-11-29 02:59:59                     221.302372   \n",
       "4367  2017-11-20 16:59:59                     232.366658   \n",
       "4518  2017-11-27 00:59:59                     212.610153   \n",
       "80    2016-09-04 12:59:59                     120.865036   \n",
       "1868  2016-11-29 14:59:59                     204.917719   \n",
       "870   2016-10-17 07:59:59                     213.524022   \n",
       "4397  2017-11-21 22:59:59                     241.981756   \n",
       "2851  2017-09-14 15:59:59                     141.907050   \n",
       "740   2016-10-11 20:59:59                     181.502487   \n",
       "1837  2016-11-28 05:59:59                     208.785384   \n",
       "\n",
       "      primary_cleaner.input.depressant  primary_cleaner.input.feed_size  \\\n",
       "4568                         12.008001                         7.080000   \n",
       "4367                          6.454060                         6.560000   \n",
       "4518                         11.041161                         6.990000   \n",
       "80                            8.064519                         7.689333   \n",
       "1868                          8.958502                         6.450000   \n",
       "870                          20.016120                         7.530000   \n",
       "4397                         12.001187                         6.860000   \n",
       "2851                          7.492260                         6.910000   \n",
       "740                           8.033951                         7.550000   \n",
       "1837                          9.037206                         6.950000   \n",
       "\n",
       "      primary_cleaner.input.xanthate  primary_cleaner.state.floatbank8_a_air  \\\n",
       "4568                        1.985472                             1011.533202   \n",
       "4367                        3.000416                             1596.847054   \n",
       "4518                        1.813928                             1597.296906   \n",
       "80                          0.706140                             1297.414226   \n",
       "1868                        1.310847                             1503.175601   \n",
       "870                         1.010042                             1647.368783   \n",
       "4397                        2.108038                             1599.832498   \n",
       "2851                        1.145025                             1295.154771   \n",
       "740                         0.995709                             1498.476759   \n",
       "1837                        1.404615                             1502.250768   \n",
       "\n",
       "      primary_cleaner.state.floatbank8_a_level  \\\n",
       "4568                               -501.617083   \n",
       "4367                               -499.973187   \n",
       "4518                               -499.737588   \n",
       "80                                 -500.141882   \n",
       "1868                               -499.655249   \n",
       "870                                -499.881687   \n",
       "4397                               -500.999865   \n",
       "2851                               -501.692733   \n",
       "740                                -499.097944   \n",
       "1837                               -500.464396   \n",
       "\n",
       "      primary_cleaner.state.floatbank8_b_air  \\\n",
       "4568                             1012.933963   \n",
       "4367                             1597.919809   \n",
       "4518                             1599.844862   \n",
       "80                               1299.239676   \n",
       "1868                             1495.962792   \n",
       "870                              1700.742855   \n",
       "4397                             1600.784707   \n",
       "2851                             1301.786970   \n",
       "740                              1498.585375   \n",
       "1837                             1499.790621   \n",
       "\n",
       "      primary_cleaner.state.floatbank8_b_level  \\\n",
       "4568                               -491.803347   \n",
       "4367                               -523.523351   \n",
       "4518                               -502.107767   \n",
       "80                                 -499.494569   \n",
       "1868                               -499.708656   \n",
       "870                                -500.058006   \n",
       "4397                               -516.989759   \n",
       "2851                               -499.594413   \n",
       "740                                -499.259860   \n",
       "1837                               -500.192547   \n",
       "\n",
       "      primary_cleaner.state.floatbank8_c_air  ...  \\\n",
       "4568                             1011.873102  ...   \n",
       "4367                             1649.432329  ...   \n",
       "4518                             1603.229639  ...   \n",
       "80                               1296.681213  ...   \n",
       "1868                             1499.691320  ...   \n",
       "870                              1700.221796  ...   \n",
       "4397                             1648.192806  ...   \n",
       "2851                             1295.744877  ...   \n",
       "740                              1498.467880  ...   \n",
       "1837                             1496.414754  ...   \n",
       "\n",
       "      secondary_cleaner.state.floatbank4_a_air  \\\n",
       "4568                                 17.011225   \n",
       "4367                                 17.003415   \n",
       "4518                                 17.003368   \n",
       "80                                   11.937280   \n",
       "1868                                 18.009373   \n",
       "870                                  19.959097   \n",
       "4397                                 17.023550   \n",
       "2851                                 11.976001   \n",
       "740                                  12.019957   \n",
       "1837                                 17.996747   \n",
       "\n",
       "      secondary_cleaner.state.floatbank4_a_level  \\\n",
       "4568                                 -498.571759   \n",
       "4367                                 -500.098296   \n",
       "4518                                 -500.039326   \n",
       "80                                   -499.185428   \n",
       "1868                                 -499.439307   \n",
       "870                                  -500.756552   \n",
       "4397                                 -499.363665   \n",
       "2851                                 -500.834143   \n",
       "740                                  -701.051206   \n",
       "1837                                 -500.367438   \n",
       "\n",
       "      secondary_cleaner.state.floatbank4_b_air  \\\n",
       "4568                                 14.971549   \n",
       "4367                                 14.930663   \n",
       "4518                                 15.077133   \n",
       "80                                    7.832144   \n",
       "1868                                 15.986517   \n",
       "870                                  14.971445   \n",
       "4397                                 14.949096   \n",
       "2851                                  9.079548   \n",
       "740                                  12.039313   \n",
       "1837                                 15.898357   \n",
       "\n",
       "      secondary_cleaner.state.floatbank4_b_level  \\\n",
       "4568                                 -432.799144   \n",
       "4367                                 -500.003222   \n",
       "4518                                 -500.832487   \n",
       "80                                   -499.207486   \n",
       "1868                                 -510.357094   \n",
       "870                                  -500.241468   \n",
       "4397                                 -500.014360   \n",
       "2851                                 -400.399190   \n",
       "740                                  -700.820306   \n",
       "1837                                 -499.623273   \n",
       "\n",
       "      secondary_cleaner.state.floatbank5_a_air  \\\n",
       "4568                                 10.968963   \n",
       "4367                                 10.985171   \n",
       "4518                                 10.918677   \n",
       "80                                    7.992592   \n",
       "1868                                 16.693337   \n",
       "870                                   8.735956   \n",
       "4397                                 11.031672   \n",
       "2851                                  8.947949   \n",
       "740                                   9.770012   \n",
       "1837                                 17.363765   \n",
       "\n",
       "      secondary_cleaner.state.floatbank5_a_level  \\\n",
       "4568                                 -499.123898   \n",
       "4367                                 -499.099149   \n",
       "4518                                 -498.920347   \n",
       "80                                   -504.321912   \n",
       "1868                                 -489.457594   \n",
       "870                                  -502.710102   \n",
       "4397                                 -463.896275   \n",
       "2851                                 -501.540450   \n",
       "740                                  -499.393928   \n",
       "1837                                 -501.058875   \n",
       "\n",
       "      secondary_cleaner.state.floatbank5_b_air  \\\n",
       "4568                                  9.009174   \n",
       "4367                                  8.974760   \n",
       "4518                                  8.997266   \n",
       "80                                    4.945844   \n",
       "1868                                 12.022020   \n",
       "870                                  13.980908   \n",
       "4397                                  9.018338   \n",
       "2851                                  6.981589   \n",
       "740                                   8.051957   \n",
       "1837                                 11.987541   \n",
       "\n",
       "      secondary_cleaner.state.floatbank5_b_level  \\\n",
       "4568                                 -462.607467   \n",
       "4367                                 -499.985876   \n",
       "4518                                 -500.070023   \n",
       "80                                   -500.287880   \n",
       "1868                                 -387.990410   \n",
       "870                                  -501.527015   \n",
       "4397                                 -215.751374   \n",
       "2851                                 -499.990724   \n",
       "740                                  -499.502423   \n",
       "1837                                 -500.155332   \n",
       "\n",
       "      secondary_cleaner.state.floatbank6_a_air  \\\n",
       "4568                                 12.014989   \n",
       "4367                                 16.012432   \n",
       "4518                                 15.973697   \n",
       "80                                    9.963342   \n",
       "1868                                 21.994541   \n",
       "870                                  16.994387   \n",
       "4397                                 16.023944   \n",
       "2851                                  9.989006   \n",
       "740                                  16.961861   \n",
       "1837                                 21.991878   \n",
       "\n",
       "      secondary_cleaner.state.floatbank6_a_level  \n",
       "4568                                 -500.009464  \n",
       "4367                                 -499.562716  \n",
       "4518                                 -498.036068  \n",
       "80                                   -500.386672  \n",
       "1868                                 -496.735925  \n",
       "870                                  -499.941004  \n",
       "4397                                 -393.526734  \n",
       "2851                                 -500.285148  \n",
       "740                                  -500.031763  \n",
       "1837                                 -502.694357  \n",
       "\n",
       "[10 rows x 53 columns]"
      ]
     },
     "metadata": {},
     "output_type": "display_data"
    }
   ],
   "source": [
    "display(df_test.sample(10))"
   ]
  },
  {
   "cell_type": "code",
   "execution_count": 6,
   "metadata": {},
   "outputs": [
    {
     "data": {
      "text/html": [
       "<div>\n",
       "<style scoped>\n",
       "    .dataframe tbody tr th:only-of-type {\n",
       "        vertical-align: middle;\n",
       "    }\n",
       "\n",
       "    .dataframe tbody tr th {\n",
       "        vertical-align: top;\n",
       "    }\n",
       "\n",
       "    .dataframe thead th {\n",
       "        text-align: right;\n",
       "    }\n",
       "</style>\n",
       "<table border=\"1\" class=\"dataframe\">\n",
       "  <thead>\n",
       "    <tr style=\"text-align: right;\">\n",
       "      <th></th>\n",
       "      <th>date</th>\n",
       "      <th>final.output.concentrate_ag</th>\n",
       "      <th>final.output.concentrate_pb</th>\n",
       "      <th>final.output.concentrate_sol</th>\n",
       "      <th>final.output.concentrate_au</th>\n",
       "      <th>final.output.recovery</th>\n",
       "      <th>final.output.tail_ag</th>\n",
       "      <th>final.output.tail_pb</th>\n",
       "      <th>final.output.tail_sol</th>\n",
       "      <th>final.output.tail_au</th>\n",
       "      <th>...</th>\n",
       "      <th>secondary_cleaner.state.floatbank4_a_air</th>\n",
       "      <th>secondary_cleaner.state.floatbank4_a_level</th>\n",
       "      <th>secondary_cleaner.state.floatbank4_b_air</th>\n",
       "      <th>secondary_cleaner.state.floatbank4_b_level</th>\n",
       "      <th>secondary_cleaner.state.floatbank5_a_air</th>\n",
       "      <th>secondary_cleaner.state.floatbank5_a_level</th>\n",
       "      <th>secondary_cleaner.state.floatbank5_b_air</th>\n",
       "      <th>secondary_cleaner.state.floatbank5_b_level</th>\n",
       "      <th>secondary_cleaner.state.floatbank6_a_air</th>\n",
       "      <th>secondary_cleaner.state.floatbank6_a_level</th>\n",
       "    </tr>\n",
       "  </thead>\n",
       "  <tbody>\n",
       "    <tr>\n",
       "      <td>5297</td>\n",
       "      <td>2017-02-02 09:59:59</td>\n",
       "      <td>4.923887</td>\n",
       "      <td>12.376919</td>\n",
       "      <td>16.308010</td>\n",
       "      <td>42.961731</td>\n",
       "      <td>67.674057</td>\n",
       "      <td>10.341110</td>\n",
       "      <td>4.209282</td>\n",
       "      <td>9.079253</td>\n",
       "      <td>3.580674</td>\n",
       "      <td>...</td>\n",
       "      <td>25.014447</td>\n",
       "      <td>-500.652502</td>\n",
       "      <td>22.988609</td>\n",
       "      <td>-498.866160</td>\n",
       "      <td>22.992007</td>\n",
       "      <td>-501.610481</td>\n",
       "      <td>18.840598</td>\n",
       "      <td>-499.757141</td>\n",
       "      <td>25.014186</td>\n",
       "      <td>-600.019392</td>\n",
       "    </tr>\n",
       "    <tr>\n",
       "      <td>10039</td>\n",
       "      <td>2018-01-26 05:59:59</td>\n",
       "      <td>6.936787</td>\n",
       "      <td>9.989745</td>\n",
       "      <td>10.202178</td>\n",
       "      <td>42.776464</td>\n",
       "      <td>74.120890</td>\n",
       "      <td>13.320196</td>\n",
       "      <td>3.241778</td>\n",
       "      <td>13.867690</td>\n",
       "      <td>3.772117</td>\n",
       "      <td>...</td>\n",
       "      <td>20.002553</td>\n",
       "      <td>-500.057785</td>\n",
       "      <td>14.905737</td>\n",
       "      <td>-499.755366</td>\n",
       "      <td>10.900971</td>\n",
       "      <td>-500.216211</td>\n",
       "      <td>9.003752</td>\n",
       "      <td>-499.634302</td>\n",
       "      <td>10.992587</td>\n",
       "      <td>-499.567860</td>\n",
       "    </tr>\n",
       "    <tr>\n",
       "      <td>11271</td>\n",
       "      <td>2018-03-27 03:59:59</td>\n",
       "      <td>4.706331</td>\n",
       "      <td>10.714495</td>\n",
       "      <td>7.989521</td>\n",
       "      <td>46.611073</td>\n",
       "      <td>70.574417</td>\n",
       "      <td>10.200623</td>\n",
       "      <td>2.583367</td>\n",
       "      <td>6.222013</td>\n",
       "      <td>2.607535</td>\n",
       "      <td>...</td>\n",
       "      <td>23.040648</td>\n",
       "      <td>-499.800275</td>\n",
       "      <td>15.019860</td>\n",
       "      <td>-499.914369</td>\n",
       "      <td>18.005824</td>\n",
       "      <td>-499.855911</td>\n",
       "      <td>11.986003</td>\n",
       "      <td>-499.862281</td>\n",
       "      <td>13.006809</td>\n",
       "      <td>-499.864280</td>\n",
       "    </tr>\n",
       "    <tr>\n",
       "      <td>11290</td>\n",
       "      <td>2018-03-27 22:59:59</td>\n",
       "      <td>4.621920</td>\n",
       "      <td>9.961672</td>\n",
       "      <td>8.068154</td>\n",
       "      <td>47.666245</td>\n",
       "      <td>66.680938</td>\n",
       "      <td>10.273852</td>\n",
       "      <td>2.822740</td>\n",
       "      <td>6.803816</td>\n",
       "      <td>2.910322</td>\n",
       "      <td>...</td>\n",
       "      <td>23.009138</td>\n",
       "      <td>-503.449233</td>\n",
       "      <td>15.069244</td>\n",
       "      <td>-502.005468</td>\n",
       "      <td>17.994445</td>\n",
       "      <td>-500.691516</td>\n",
       "      <td>12.007519</td>\n",
       "      <td>-500.407237</td>\n",
       "      <td>12.982087</td>\n",
       "      <td>-500.068344</td>\n",
       "    </tr>\n",
       "    <tr>\n",
       "      <td>6978</td>\n",
       "      <td>2017-04-20 15:59:59</td>\n",
       "      <td>4.319135</td>\n",
       "      <td>11.206705</td>\n",
       "      <td>10.273013</td>\n",
       "      <td>44.846895</td>\n",
       "      <td>69.831426</td>\n",
       "      <td>8.005851</td>\n",
       "      <td>2.512041</td>\n",
       "      <td>12.988063</td>\n",
       "      <td>2.377337</td>\n",
       "      <td>...</td>\n",
       "      <td>24.991188</td>\n",
       "      <td>-401.818340</td>\n",
       "      <td>22.924257</td>\n",
       "      <td>-400.577954</td>\n",
       "      <td>26.026835</td>\n",
       "      <td>-449.218548</td>\n",
       "      <td>22.687850</td>\n",
       "      <td>-449.976553</td>\n",
       "      <td>30.015497</td>\n",
       "      <td>-499.396872</td>\n",
       "    </tr>\n",
       "    <tr>\n",
       "      <td>8814</td>\n",
       "      <td>2017-07-20 16:59:59</td>\n",
       "      <td>4.339717</td>\n",
       "      <td>11.761659</td>\n",
       "      <td>7.007319</td>\n",
       "      <td>44.478505</td>\n",
       "      <td>63.736099</td>\n",
       "      <td>8.556347</td>\n",
       "      <td>3.110985</td>\n",
       "      <td>10.377578</td>\n",
       "      <td>2.639511</td>\n",
       "      <td>...</td>\n",
       "      <td>21.974943</td>\n",
       "      <td>-498.314026</td>\n",
       "      <td>15.048357</td>\n",
       "      <td>-379.549274</td>\n",
       "      <td>17.989882</td>\n",
       "      <td>-498.660798</td>\n",
       "      <td>13.014267</td>\n",
       "      <td>-499.729985</td>\n",
       "      <td>14.980295</td>\n",
       "      <td>-499.576439</td>\n",
       "    </tr>\n",
       "    <tr>\n",
       "      <td>7965</td>\n",
       "      <td>2017-06-13 10:59:59</td>\n",
       "      <td>5.750348</td>\n",
       "      <td>10.760638</td>\n",
       "      <td>8.171431</td>\n",
       "      <td>41.952821</td>\n",
       "      <td>67.286237</td>\n",
       "      <td>9.741257</td>\n",
       "      <td>3.646932</td>\n",
       "      <td>7.705197</td>\n",
       "      <td>3.377625</td>\n",
       "      <td>...</td>\n",
       "      <td>18.019493</td>\n",
       "      <td>-499.732013</td>\n",
       "      <td>13.134514</td>\n",
       "      <td>-380.136978</td>\n",
       "      <td>18.020544</td>\n",
       "      <td>-499.487124</td>\n",
       "      <td>13.028738</td>\n",
       "      <td>-500.024521</td>\n",
       "      <td>20.024128</td>\n",
       "      <td>-499.546136</td>\n",
       "    </tr>\n",
       "    <tr>\n",
       "      <td>7651</td>\n",
       "      <td>2017-05-27 18:59:59</td>\n",
       "      <td>6.563791</td>\n",
       "      <td>11.223546</td>\n",
       "      <td>8.071766</td>\n",
       "      <td>40.719822</td>\n",
       "      <td>39.355542</td>\n",
       "      <td>9.429600</td>\n",
       "      <td>4.200775</td>\n",
       "      <td>7.864649</td>\n",
       "      <td>5.887561</td>\n",
       "      <td>...</td>\n",
       "      <td>19.986565</td>\n",
       "      <td>-497.909566</td>\n",
       "      <td>9.924603</td>\n",
       "      <td>-499.237274</td>\n",
       "      <td>14.958379</td>\n",
       "      <td>-499.515362</td>\n",
       "      <td>9.990809</td>\n",
       "      <td>-499.940834</td>\n",
       "      <td>25.000721</td>\n",
       "      <td>-498.101834</td>\n",
       "    </tr>\n",
       "    <tr>\n",
       "      <td>13979</td>\n",
       "      <td>2018-08-10 22:59:59</td>\n",
       "      <td>4.590115</td>\n",
       "      <td>11.411523</td>\n",
       "      <td>7.170666</td>\n",
       "      <td>44.387515</td>\n",
       "      <td>64.430814</td>\n",
       "      <td>10.362314</td>\n",
       "      <td>2.992228</td>\n",
       "      <td>9.335526</td>\n",
       "      <td>1.990345</td>\n",
       "      <td>...</td>\n",
       "      <td>27.008016</td>\n",
       "      <td>-501.847696</td>\n",
       "      <td>23.045465</td>\n",
       "      <td>-500.077258</td>\n",
       "      <td>19.987688</td>\n",
       "      <td>-501.847279</td>\n",
       "      <td>15.022104</td>\n",
       "      <td>-500.240327</td>\n",
       "      <td>23.019388</td>\n",
       "      <td>-505.198226</td>\n",
       "    </tr>\n",
       "    <tr>\n",
       "      <td>13565</td>\n",
       "      <td>2018-07-15 05:59:59</td>\n",
       "      <td>3.885893</td>\n",
       "      <td>10.316982</td>\n",
       "      <td>7.313915</td>\n",
       "      <td>45.781683</td>\n",
       "      <td>68.939229</td>\n",
       "      <td>12.184982</td>\n",
       "      <td>3.141381</td>\n",
       "      <td>7.961289</td>\n",
       "      <td>2.369010</td>\n",
       "      <td>...</td>\n",
       "      <td>16.935447</td>\n",
       "      <td>-499.831447</td>\n",
       "      <td>14.886737</td>\n",
       "      <td>-499.927772</td>\n",
       "      <td>11.007598</td>\n",
       "      <td>-500.048586</td>\n",
       "      <td>9.988964</td>\n",
       "      <td>-499.998425</td>\n",
       "      <td>12.976271</td>\n",
       "      <td>-500.096127</td>\n",
       "    </tr>\n",
       "  </tbody>\n",
       "</table>\n",
       "<p>10 rows × 87 columns</p>\n",
       "</div>"
      ],
      "text/plain": [
       "                      date  final.output.concentrate_ag  \\\n",
       "5297   2017-02-02 09:59:59                     4.923887   \n",
       "10039  2018-01-26 05:59:59                     6.936787   \n",
       "11271  2018-03-27 03:59:59                     4.706331   \n",
       "11290  2018-03-27 22:59:59                     4.621920   \n",
       "6978   2017-04-20 15:59:59                     4.319135   \n",
       "8814   2017-07-20 16:59:59                     4.339717   \n",
       "7965   2017-06-13 10:59:59                     5.750348   \n",
       "7651   2017-05-27 18:59:59                     6.563791   \n",
       "13979  2018-08-10 22:59:59                     4.590115   \n",
       "13565  2018-07-15 05:59:59                     3.885893   \n",
       "\n",
       "       final.output.concentrate_pb  final.output.concentrate_sol  \\\n",
       "5297                     12.376919                     16.308010   \n",
       "10039                     9.989745                     10.202178   \n",
       "11271                    10.714495                      7.989521   \n",
       "11290                     9.961672                      8.068154   \n",
       "6978                     11.206705                     10.273013   \n",
       "8814                     11.761659                      7.007319   \n",
       "7965                     10.760638                      8.171431   \n",
       "7651                     11.223546                      8.071766   \n",
       "13979                    11.411523                      7.170666   \n",
       "13565                    10.316982                      7.313915   \n",
       "\n",
       "       final.output.concentrate_au  final.output.recovery  \\\n",
       "5297                     42.961731              67.674057   \n",
       "10039                    42.776464              74.120890   \n",
       "11271                    46.611073              70.574417   \n",
       "11290                    47.666245              66.680938   \n",
       "6978                     44.846895              69.831426   \n",
       "8814                     44.478505              63.736099   \n",
       "7965                     41.952821              67.286237   \n",
       "7651                     40.719822              39.355542   \n",
       "13979                    44.387515              64.430814   \n",
       "13565                    45.781683              68.939229   \n",
       "\n",
       "       final.output.tail_ag  final.output.tail_pb  final.output.tail_sol  \\\n",
       "5297              10.341110              4.209282               9.079253   \n",
       "10039             13.320196              3.241778              13.867690   \n",
       "11271             10.200623              2.583367               6.222013   \n",
       "11290             10.273852              2.822740               6.803816   \n",
       "6978               8.005851              2.512041              12.988063   \n",
       "8814               8.556347              3.110985              10.377578   \n",
       "7965               9.741257              3.646932               7.705197   \n",
       "7651               9.429600              4.200775               7.864649   \n",
       "13979             10.362314              2.992228               9.335526   \n",
       "13565             12.184982              3.141381               7.961289   \n",
       "\n",
       "       final.output.tail_au  ...  secondary_cleaner.state.floatbank4_a_air  \\\n",
       "5297               3.580674  ...                                 25.014447   \n",
       "10039              3.772117  ...                                 20.002553   \n",
       "11271              2.607535  ...                                 23.040648   \n",
       "11290              2.910322  ...                                 23.009138   \n",
       "6978               2.377337  ...                                 24.991188   \n",
       "8814               2.639511  ...                                 21.974943   \n",
       "7965               3.377625  ...                                 18.019493   \n",
       "7651               5.887561  ...                                 19.986565   \n",
       "13979              1.990345  ...                                 27.008016   \n",
       "13565              2.369010  ...                                 16.935447   \n",
       "\n",
       "       secondary_cleaner.state.floatbank4_a_level  \\\n",
       "5297                                  -500.652502   \n",
       "10039                                 -500.057785   \n",
       "11271                                 -499.800275   \n",
       "11290                                 -503.449233   \n",
       "6978                                  -401.818340   \n",
       "8814                                  -498.314026   \n",
       "7965                                  -499.732013   \n",
       "7651                                  -497.909566   \n",
       "13979                                 -501.847696   \n",
       "13565                                 -499.831447   \n",
       "\n",
       "       secondary_cleaner.state.floatbank4_b_air  \\\n",
       "5297                                  22.988609   \n",
       "10039                                 14.905737   \n",
       "11271                                 15.019860   \n",
       "11290                                 15.069244   \n",
       "6978                                  22.924257   \n",
       "8814                                  15.048357   \n",
       "7965                                  13.134514   \n",
       "7651                                   9.924603   \n",
       "13979                                 23.045465   \n",
       "13565                                 14.886737   \n",
       "\n",
       "       secondary_cleaner.state.floatbank4_b_level  \\\n",
       "5297                                  -498.866160   \n",
       "10039                                 -499.755366   \n",
       "11271                                 -499.914369   \n",
       "11290                                 -502.005468   \n",
       "6978                                  -400.577954   \n",
       "8814                                  -379.549274   \n",
       "7965                                  -380.136978   \n",
       "7651                                  -499.237274   \n",
       "13979                                 -500.077258   \n",
       "13565                                 -499.927772   \n",
       "\n",
       "       secondary_cleaner.state.floatbank5_a_air  \\\n",
       "5297                                  22.992007   \n",
       "10039                                 10.900971   \n",
       "11271                                 18.005824   \n",
       "11290                                 17.994445   \n",
       "6978                                  26.026835   \n",
       "8814                                  17.989882   \n",
       "7965                                  18.020544   \n",
       "7651                                  14.958379   \n",
       "13979                                 19.987688   \n",
       "13565                                 11.007598   \n",
       "\n",
       "       secondary_cleaner.state.floatbank5_a_level  \\\n",
       "5297                                  -501.610481   \n",
       "10039                                 -500.216211   \n",
       "11271                                 -499.855911   \n",
       "11290                                 -500.691516   \n",
       "6978                                  -449.218548   \n",
       "8814                                  -498.660798   \n",
       "7965                                  -499.487124   \n",
       "7651                                  -499.515362   \n",
       "13979                                 -501.847279   \n",
       "13565                                 -500.048586   \n",
       "\n",
       "       secondary_cleaner.state.floatbank5_b_air  \\\n",
       "5297                                  18.840598   \n",
       "10039                                  9.003752   \n",
       "11271                                 11.986003   \n",
       "11290                                 12.007519   \n",
       "6978                                  22.687850   \n",
       "8814                                  13.014267   \n",
       "7965                                  13.028738   \n",
       "7651                                   9.990809   \n",
       "13979                                 15.022104   \n",
       "13565                                  9.988964   \n",
       "\n",
       "       secondary_cleaner.state.floatbank5_b_level  \\\n",
       "5297                                  -499.757141   \n",
       "10039                                 -499.634302   \n",
       "11271                                 -499.862281   \n",
       "11290                                 -500.407237   \n",
       "6978                                  -449.976553   \n",
       "8814                                  -499.729985   \n",
       "7965                                  -500.024521   \n",
       "7651                                  -499.940834   \n",
       "13979                                 -500.240327   \n",
       "13565                                 -499.998425   \n",
       "\n",
       "       secondary_cleaner.state.floatbank6_a_air  \\\n",
       "5297                                  25.014186   \n",
       "10039                                 10.992587   \n",
       "11271                                 13.006809   \n",
       "11290                                 12.982087   \n",
       "6978                                  30.015497   \n",
       "8814                                  14.980295   \n",
       "7965                                  20.024128   \n",
       "7651                                  25.000721   \n",
       "13979                                 23.019388   \n",
       "13565                                 12.976271   \n",
       "\n",
       "       secondary_cleaner.state.floatbank6_a_level  \n",
       "5297                                  -600.019392  \n",
       "10039                                 -499.567860  \n",
       "11271                                 -499.864280  \n",
       "11290                                 -500.068344  \n",
       "6978                                  -499.396872  \n",
       "8814                                  -499.576439  \n",
       "7965                                  -499.546136  \n",
       "7651                                  -498.101834  \n",
       "13979                                 -505.198226  \n",
       "13565                                 -500.096127  \n",
       "\n",
       "[10 rows x 87 columns]"
      ]
     },
     "metadata": {},
     "output_type": "display_data"
    }
   ],
   "source": [
    "display(df_train.sample(10))"
   ]
  },
  {
   "cell_type": "code",
   "execution_count": 7,
   "metadata": {},
   "outputs": [
    {
     "name": "stdout",
     "output_type": "stream",
     "text": [
      "<class 'pandas.core.frame.DataFrame'>\n",
      "RangeIndex: 19439 entries, 0 to 19438\n",
      "Data columns (total 87 columns):\n",
      "date                                                  19439 non-null object\n",
      "final.output.concentrate_ag                           19438 non-null float64\n",
      "final.output.concentrate_pb                           19438 non-null float64\n",
      "final.output.concentrate_sol                          19228 non-null float64\n",
      "final.output.concentrate_au                           19439 non-null float64\n",
      "final.output.recovery                                 19439 non-null float64\n",
      "final.output.tail_ag                                  19438 non-null float64\n",
      "final.output.tail_pb                                  19338 non-null float64\n",
      "final.output.tail_sol                                 19433 non-null float64\n",
      "final.output.tail_au                                  19439 non-null float64\n",
      "primary_cleaner.input.sulfate                         19415 non-null float64\n",
      "primary_cleaner.input.depressant                      19402 non-null float64\n",
      "primary_cleaner.input.feed_size                       19439 non-null float64\n",
      "primary_cleaner.input.xanthate                        19335 non-null float64\n",
      "primary_cleaner.output.concentrate_ag                 19439 non-null float64\n",
      "primary_cleaner.output.concentrate_pb                 19323 non-null float64\n",
      "primary_cleaner.output.concentrate_sol                19069 non-null float64\n",
      "primary_cleaner.output.concentrate_au                 19439 non-null float64\n",
      "primary_cleaner.output.tail_ag                        19435 non-null float64\n",
      "primary_cleaner.output.tail_pb                        19418 non-null float64\n",
      "primary_cleaner.output.tail_sol                       19377 non-null float64\n",
      "primary_cleaner.output.tail_au                        19439 non-null float64\n",
      "primary_cleaner.state.floatbank8_a_air                19435 non-null float64\n",
      "primary_cleaner.state.floatbank8_a_level              19438 non-null float64\n",
      "primary_cleaner.state.floatbank8_b_air                19435 non-null float64\n",
      "primary_cleaner.state.floatbank8_b_level              19438 non-null float64\n",
      "primary_cleaner.state.floatbank8_c_air                19437 non-null float64\n",
      "primary_cleaner.state.floatbank8_c_level              19438 non-null float64\n",
      "primary_cleaner.state.floatbank8_d_air                19436 non-null float64\n",
      "primary_cleaner.state.floatbank8_d_level              19438 non-null float64\n",
      "rougher.calculation.sulfate_to_au_concentrate         19437 non-null float64\n",
      "rougher.calculation.floatbank10_sulfate_to_au_feed    19437 non-null float64\n",
      "rougher.calculation.floatbank11_sulfate_to_au_feed    19437 non-null float64\n",
      "rougher.calculation.au_pb_ratio                       19439 non-null float64\n",
      "rougher.input.feed_ag                                 19439 non-null float64\n",
      "rougher.input.feed_pb                                 19339 non-null float64\n",
      "rougher.input.feed_rate                               19428 non-null float64\n",
      "rougher.input.feed_size                               19294 non-null float64\n",
      "rougher.input.feed_sol                                19340 non-null float64\n",
      "rougher.input.feed_au                                 19439 non-null float64\n",
      "rougher.input.floatbank10_sulfate                     19405 non-null float64\n",
      "rougher.input.floatbank10_xanthate                    19431 non-null float64\n",
      "rougher.input.floatbank11_sulfate                     19395 non-null float64\n",
      "rougher.input.floatbank11_xanthate                    18986 non-null float64\n",
      "rougher.output.concentrate_ag                         19439 non-null float64\n",
      "rougher.output.concentrate_pb                         19439 non-null float64\n",
      "rougher.output.concentrate_sol                        19416 non-null float64\n",
      "rougher.output.concentrate_au                         19439 non-null float64\n",
      "rougher.output.recovery                               19439 non-null float64\n",
      "rougher.output.tail_ag                                19438 non-null float64\n",
      "rougher.output.tail_pb                                19439 non-null float64\n",
      "rougher.output.tail_sol                               19439 non-null float64\n",
      "rougher.output.tail_au                                19439 non-null float64\n",
      "rougher.state.floatbank10_a_air                       19438 non-null float64\n",
      "rougher.state.floatbank10_a_level                     19438 non-null float64\n",
      "rougher.state.floatbank10_b_air                       19438 non-null float64\n",
      "rougher.state.floatbank10_b_level                     19438 non-null float64\n",
      "rougher.state.floatbank10_c_air                       19438 non-null float64\n",
      "rougher.state.floatbank10_c_level                     19438 non-null float64\n",
      "rougher.state.floatbank10_d_air                       19439 non-null float64\n",
      "rougher.state.floatbank10_d_level                     19439 non-null float64\n",
      "rougher.state.floatbank10_e_air                       19003 non-null float64\n",
      "rougher.state.floatbank10_e_level                     19439 non-null float64\n",
      "rougher.state.floatbank10_f_air                       19439 non-null float64\n",
      "rougher.state.floatbank10_f_level                     19439 non-null float64\n",
      "secondary_cleaner.output.tail_ag                      19437 non-null float64\n",
      "secondary_cleaner.output.tail_pb                      19427 non-null float64\n",
      "secondary_cleaner.output.tail_sol                     17691 non-null float64\n",
      "secondary_cleaner.output.tail_au                      19439 non-null float64\n",
      "secondary_cleaner.state.floatbank2_a_air              19219 non-null float64\n",
      "secondary_cleaner.state.floatbank2_a_level            19438 non-null float64\n",
      "secondary_cleaner.state.floatbank2_b_air              19416 non-null float64\n",
      "secondary_cleaner.state.floatbank2_b_level            19438 non-null float64\n",
      "secondary_cleaner.state.floatbank3_a_air              19426 non-null float64\n",
      "secondary_cleaner.state.floatbank3_a_level            19438 non-null float64\n",
      "secondary_cleaner.state.floatbank3_b_air              19438 non-null float64\n",
      "secondary_cleaner.state.floatbank3_b_level            19438 non-null float64\n",
      "secondary_cleaner.state.floatbank4_a_air              19433 non-null float64\n",
      "secondary_cleaner.state.floatbank4_a_level            19438 non-null float64\n",
      "secondary_cleaner.state.floatbank4_b_air              19438 non-null float64\n",
      "secondary_cleaner.state.floatbank4_b_level            19438 non-null float64\n",
      "secondary_cleaner.state.floatbank5_a_air              19438 non-null float64\n",
      "secondary_cleaner.state.floatbank5_a_level            19438 non-null float64\n",
      "secondary_cleaner.state.floatbank5_b_air              19438 non-null float64\n",
      "secondary_cleaner.state.floatbank5_b_level            19438 non-null float64\n",
      "secondary_cleaner.state.floatbank6_a_air              19437 non-null float64\n",
      "secondary_cleaner.state.floatbank6_a_level            19438 non-null float64\n",
      "dtypes: float64(86), object(1)\n",
      "memory usage: 12.9+ MB\n"
     ]
    }
   ],
   "source": [
    "df.info()"
   ]
  },
  {
   "cell_type": "code",
   "execution_count": 8,
   "metadata": {},
   "outputs": [
    {
     "name": "stdout",
     "output_type": "stream",
     "text": [
      "<class 'pandas.core.frame.DataFrame'>\n",
      "RangeIndex: 5290 entries, 0 to 5289\n",
      "Data columns (total 53 columns):\n",
      "date                                          5290 non-null object\n",
      "primary_cleaner.input.sulfate                 5286 non-null float64\n",
      "primary_cleaner.input.depressant              5285 non-null float64\n",
      "primary_cleaner.input.feed_size               5290 non-null float64\n",
      "primary_cleaner.input.xanthate                5286 non-null float64\n",
      "primary_cleaner.state.floatbank8_a_air        5290 non-null float64\n",
      "primary_cleaner.state.floatbank8_a_level      5290 non-null float64\n",
      "primary_cleaner.state.floatbank8_b_air        5290 non-null float64\n",
      "primary_cleaner.state.floatbank8_b_level      5290 non-null float64\n",
      "primary_cleaner.state.floatbank8_c_air        5290 non-null float64\n",
      "primary_cleaner.state.floatbank8_c_level      5290 non-null float64\n",
      "primary_cleaner.state.floatbank8_d_air        5290 non-null float64\n",
      "primary_cleaner.state.floatbank8_d_level      5290 non-null float64\n",
      "rougher.input.feed_ag                         5290 non-null float64\n",
      "rougher.input.feed_pb                         5290 non-null float64\n",
      "rougher.input.feed_rate                       5287 non-null float64\n",
      "rougher.input.feed_size                       5289 non-null float64\n",
      "rougher.input.feed_sol                        5269 non-null float64\n",
      "rougher.input.feed_au                         5290 non-null float64\n",
      "rougher.input.floatbank10_sulfate             5285 non-null float64\n",
      "rougher.input.floatbank10_xanthate            5290 non-null float64\n",
      "rougher.input.floatbank11_sulfate             5282 non-null float64\n",
      "rougher.input.floatbank11_xanthate            5265 non-null float64\n",
      "rougher.state.floatbank10_a_air               5290 non-null float64\n",
      "rougher.state.floatbank10_a_level             5290 non-null float64\n",
      "rougher.state.floatbank10_b_air               5290 non-null float64\n",
      "rougher.state.floatbank10_b_level             5290 non-null float64\n",
      "rougher.state.floatbank10_c_air               5290 non-null float64\n",
      "rougher.state.floatbank10_c_level             5290 non-null float64\n",
      "rougher.state.floatbank10_d_air               5290 non-null float64\n",
      "rougher.state.floatbank10_d_level             5290 non-null float64\n",
      "rougher.state.floatbank10_e_air               5290 non-null float64\n",
      "rougher.state.floatbank10_e_level             5290 non-null float64\n",
      "rougher.state.floatbank10_f_air               5290 non-null float64\n",
      "rougher.state.floatbank10_f_level             5290 non-null float64\n",
      "secondary_cleaner.state.floatbank2_a_air      5287 non-null float64\n",
      "secondary_cleaner.state.floatbank2_a_level    5290 non-null float64\n",
      "secondary_cleaner.state.floatbank2_b_air      5288 non-null float64\n",
      "secondary_cleaner.state.floatbank2_b_level    5290 non-null float64\n",
      "secondary_cleaner.state.floatbank3_a_air      5281 non-null float64\n",
      "secondary_cleaner.state.floatbank3_a_level    5290 non-null float64\n",
      "secondary_cleaner.state.floatbank3_b_air      5290 non-null float64\n",
      "secondary_cleaner.state.floatbank3_b_level    5290 non-null float64\n",
      "secondary_cleaner.state.floatbank4_a_air      5290 non-null float64\n",
      "secondary_cleaner.state.floatbank4_a_level    5290 non-null float64\n",
      "secondary_cleaner.state.floatbank4_b_air      5290 non-null float64\n",
      "secondary_cleaner.state.floatbank4_b_level    5290 non-null float64\n",
      "secondary_cleaner.state.floatbank5_a_air      5290 non-null float64\n",
      "secondary_cleaner.state.floatbank5_a_level    5290 non-null float64\n",
      "secondary_cleaner.state.floatbank5_b_air      5290 non-null float64\n",
      "secondary_cleaner.state.floatbank5_b_level    5290 non-null float64\n",
      "secondary_cleaner.state.floatbank6_a_air      5290 non-null float64\n",
      "secondary_cleaner.state.floatbank6_a_level    5290 non-null float64\n",
      "dtypes: float64(52), object(1)\n",
      "memory usage: 2.1+ MB\n"
     ]
    }
   ],
   "source": [
    "df_test.info()"
   ]
  },
  {
   "cell_type": "code",
   "execution_count": 9,
   "metadata": {},
   "outputs": [
    {
     "name": "stdout",
     "output_type": "stream",
     "text": [
      "<class 'pandas.core.frame.DataFrame'>\n",
      "RangeIndex: 14149 entries, 0 to 14148\n",
      "Data columns (total 87 columns):\n",
      "date                                                  14149 non-null object\n",
      "final.output.concentrate_ag                           14148 non-null float64\n",
      "final.output.concentrate_pb                           14148 non-null float64\n",
      "final.output.concentrate_sol                          13938 non-null float64\n",
      "final.output.concentrate_au                           14149 non-null float64\n",
      "final.output.recovery                                 14149 non-null float64\n",
      "final.output.tail_ag                                  14149 non-null float64\n",
      "final.output.tail_pb                                  14049 non-null float64\n",
      "final.output.tail_sol                                 14144 non-null float64\n",
      "final.output.tail_au                                  14149 non-null float64\n",
      "primary_cleaner.input.sulfate                         14129 non-null float64\n",
      "primary_cleaner.input.depressant                      14117 non-null float64\n",
      "primary_cleaner.input.feed_size                       14149 non-null float64\n",
      "primary_cleaner.input.xanthate                        14049 non-null float64\n",
      "primary_cleaner.output.concentrate_ag                 14149 non-null float64\n",
      "primary_cleaner.output.concentrate_pb                 14063 non-null float64\n",
      "primary_cleaner.output.concentrate_sol                13863 non-null float64\n",
      "primary_cleaner.output.concentrate_au                 14149 non-null float64\n",
      "primary_cleaner.output.tail_ag                        14148 non-null float64\n",
      "primary_cleaner.output.tail_pb                        14134 non-null float64\n",
      "primary_cleaner.output.tail_sol                       14103 non-null float64\n",
      "primary_cleaner.output.tail_au                        14149 non-null float64\n",
      "primary_cleaner.state.floatbank8_a_air                14145 non-null float64\n",
      "primary_cleaner.state.floatbank8_a_level              14148 non-null float64\n",
      "primary_cleaner.state.floatbank8_b_air                14145 non-null float64\n",
      "primary_cleaner.state.floatbank8_b_level              14148 non-null float64\n",
      "primary_cleaner.state.floatbank8_c_air                14147 non-null float64\n",
      "primary_cleaner.state.floatbank8_c_level              14148 non-null float64\n",
      "primary_cleaner.state.floatbank8_d_air                14146 non-null float64\n",
      "primary_cleaner.state.floatbank8_d_level              14148 non-null float64\n",
      "rougher.calculation.sulfate_to_au_concentrate         14148 non-null float64\n",
      "rougher.calculation.floatbank10_sulfate_to_au_feed    14148 non-null float64\n",
      "rougher.calculation.floatbank11_sulfate_to_au_feed    14148 non-null float64\n",
      "rougher.calculation.au_pb_ratio                       14149 non-null float64\n",
      "rougher.input.feed_ag                                 14149 non-null float64\n",
      "rougher.input.feed_pb                                 14049 non-null float64\n",
      "rougher.input.feed_rate                               14141 non-null float64\n",
      "rougher.input.feed_size                               14005 non-null float64\n",
      "rougher.input.feed_sol                                14071 non-null float64\n",
      "rougher.input.feed_au                                 14149 non-null float64\n",
      "rougher.input.floatbank10_sulfate                     14120 non-null float64\n",
      "rougher.input.floatbank10_xanthate                    14141 non-null float64\n",
      "rougher.input.floatbank11_sulfate                     14113 non-null float64\n",
      "rougher.input.floatbank11_xanthate                    13721 non-null float64\n",
      "rougher.output.concentrate_ag                         14149 non-null float64\n",
      "rougher.output.concentrate_pb                         14149 non-null float64\n",
      "rougher.output.concentrate_sol                        14127 non-null float64\n",
      "rougher.output.concentrate_au                         14149 non-null float64\n",
      "rougher.output.recovery                               14149 non-null float64\n",
      "rougher.output.tail_ag                                14148 non-null float64\n",
      "rougher.output.tail_pb                                14149 non-null float64\n",
      "rougher.output.tail_sol                               14149 non-null float64\n",
      "rougher.output.tail_au                                14149 non-null float64\n",
      "rougher.state.floatbank10_a_air                       14148 non-null float64\n",
      "rougher.state.floatbank10_a_level                     14148 non-null float64\n",
      "rougher.state.floatbank10_b_air                       14148 non-null float64\n",
      "rougher.state.floatbank10_b_level                     14148 non-null float64\n",
      "rougher.state.floatbank10_c_air                       14148 non-null float64\n",
      "rougher.state.floatbank10_c_level                     14148 non-null float64\n",
      "rougher.state.floatbank10_d_air                       14149 non-null float64\n",
      "rougher.state.floatbank10_d_level                     14149 non-null float64\n",
      "rougher.state.floatbank10_e_air                       13713 non-null float64\n",
      "rougher.state.floatbank10_e_level                     14149 non-null float64\n",
      "rougher.state.floatbank10_f_air                       14149 non-null float64\n",
      "rougher.state.floatbank10_f_level                     14149 non-null float64\n",
      "secondary_cleaner.output.tail_ag                      14147 non-null float64\n",
      "secondary_cleaner.output.tail_pb                      14139 non-null float64\n",
      "secondary_cleaner.output.tail_sol                     12544 non-null float64\n",
      "secondary_cleaner.output.tail_au                      14149 non-null float64\n",
      "secondary_cleaner.state.floatbank2_a_air              13932 non-null float64\n",
      "secondary_cleaner.state.floatbank2_a_level            14148 non-null float64\n",
      "secondary_cleaner.state.floatbank2_b_air              14128 non-null float64\n",
      "secondary_cleaner.state.floatbank2_b_level            14148 non-null float64\n",
      "secondary_cleaner.state.floatbank3_a_air              14145 non-null float64\n",
      "secondary_cleaner.state.floatbank3_a_level            14148 non-null float64\n",
      "secondary_cleaner.state.floatbank3_b_air              14148 non-null float64\n",
      "secondary_cleaner.state.floatbank3_b_level            14148 non-null float64\n",
      "secondary_cleaner.state.floatbank4_a_air              14143 non-null float64\n",
      "secondary_cleaner.state.floatbank4_a_level            14148 non-null float64\n",
      "secondary_cleaner.state.floatbank4_b_air              14148 non-null float64\n",
      "secondary_cleaner.state.floatbank4_b_level            14148 non-null float64\n",
      "secondary_cleaner.state.floatbank5_a_air              14148 non-null float64\n",
      "secondary_cleaner.state.floatbank5_a_level            14148 non-null float64\n",
      "secondary_cleaner.state.floatbank5_b_air              14148 non-null float64\n",
      "secondary_cleaner.state.floatbank5_b_level            14148 non-null float64\n",
      "secondary_cleaner.state.floatbank6_a_air              14147 non-null float64\n",
      "secondary_cleaner.state.floatbank6_a_level            14148 non-null float64\n",
      "dtypes: float64(86), object(1)\n",
      "memory usage: 9.4+ MB\n"
     ]
    }
   ],
   "source": [
    "df_train.info()"
   ]
  },
  {
   "cell_type": "code",
   "execution_count": 10,
   "metadata": {},
   "outputs": [
    {
     "name": "stdout",
     "output_type": "stream",
     "text": [
      "Полная выборка, количество дубликатов:  0\n",
      "Тестовая выборка, количество дубликатов:  0\n",
      "Обучающая выборка, количество дубликатов:  0\n"
     ]
    }
   ],
   "source": [
    "print('Полная выборка, количество дубликатов: ',df.duplicated().sum())\n",
    "print('Тестовая выборка, количество дубликатов: ',df_test.duplicated().sum())\n",
    "print('Обучающая выборка, количество дубликатов: ',df_train.duplicated().sum())"
   ]
  },
  {
   "cell_type": "code",
   "execution_count": 11,
   "metadata": {},
   "outputs": [
    {
     "data": {
      "text/html": [
       "<div>\n",
       "<style scoped>\n",
       "    .dataframe tbody tr th:only-of-type {\n",
       "        vertical-align: middle;\n",
       "    }\n",
       "\n",
       "    .dataframe tbody tr th {\n",
       "        vertical-align: top;\n",
       "    }\n",
       "\n",
       "    .dataframe thead th {\n",
       "        text-align: right;\n",
       "    }\n",
       "</style>\n",
       "<table border=\"1\" class=\"dataframe\">\n",
       "  <thead>\n",
       "    <tr style=\"text-align: right;\">\n",
       "      <th></th>\n",
       "      <th>final.output.concentrate_ag</th>\n",
       "      <th>final.output.concentrate_pb</th>\n",
       "      <th>final.output.concentrate_sol</th>\n",
       "      <th>final.output.concentrate_au</th>\n",
       "      <th>final.output.recovery</th>\n",
       "      <th>final.output.tail_ag</th>\n",
       "      <th>final.output.tail_pb</th>\n",
       "      <th>final.output.tail_sol</th>\n",
       "      <th>final.output.tail_au</th>\n",
       "      <th>primary_cleaner.input.sulfate</th>\n",
       "      <th>...</th>\n",
       "      <th>secondary_cleaner.state.floatbank4_a_air</th>\n",
       "      <th>secondary_cleaner.state.floatbank4_a_level</th>\n",
       "      <th>secondary_cleaner.state.floatbank4_b_air</th>\n",
       "      <th>secondary_cleaner.state.floatbank4_b_level</th>\n",
       "      <th>secondary_cleaner.state.floatbank5_a_air</th>\n",
       "      <th>secondary_cleaner.state.floatbank5_a_level</th>\n",
       "      <th>secondary_cleaner.state.floatbank5_b_air</th>\n",
       "      <th>secondary_cleaner.state.floatbank5_b_level</th>\n",
       "      <th>secondary_cleaner.state.floatbank6_a_air</th>\n",
       "      <th>secondary_cleaner.state.floatbank6_a_level</th>\n",
       "    </tr>\n",
       "  </thead>\n",
       "  <tbody>\n",
       "    <tr>\n",
       "      <td>count</td>\n",
       "      <td>19438.000000</td>\n",
       "      <td>19438.000000</td>\n",
       "      <td>19228.000000</td>\n",
       "      <td>19439.000000</td>\n",
       "      <td>19439.000000</td>\n",
       "      <td>19438.000000</td>\n",
       "      <td>19338.000000</td>\n",
       "      <td>19433.000000</td>\n",
       "      <td>19439.000000</td>\n",
       "      <td>19415.000000</td>\n",
       "      <td>...</td>\n",
       "      <td>19433.000000</td>\n",
       "      <td>19438.000000</td>\n",
       "      <td>19438.000000</td>\n",
       "      <td>19438.000000</td>\n",
       "      <td>19438.000000</td>\n",
       "      <td>19438.000000</td>\n",
       "      <td>19438.000000</td>\n",
       "      <td>19438.000000</td>\n",
       "      <td>19437.000000</td>\n",
       "      <td>19438.000000</td>\n",
       "    </tr>\n",
       "    <tr>\n",
       "      <td>mean</td>\n",
       "      <td>5.168470</td>\n",
       "      <td>9.978895</td>\n",
       "      <td>9.501224</td>\n",
       "      <td>44.076513</td>\n",
       "      <td>67.050208</td>\n",
       "      <td>9.688589</td>\n",
       "      <td>2.705795</td>\n",
       "      <td>10.583728</td>\n",
       "      <td>3.042467</td>\n",
       "      <td>144.624774</td>\n",
       "      <td>...</td>\n",
       "      <td>18.987674</td>\n",
       "      <td>-485.894516</td>\n",
       "      <td>15.010366</td>\n",
       "      <td>-461.078636</td>\n",
       "      <td>15.694452</td>\n",
       "      <td>-488.684065</td>\n",
       "      <td>12.198224</td>\n",
       "      <td>-487.149827</td>\n",
       "      <td>18.959024</td>\n",
       "      <td>-505.436305</td>\n",
       "    </tr>\n",
       "    <tr>\n",
       "      <td>std</td>\n",
       "      <td>1.372348</td>\n",
       "      <td>1.669240</td>\n",
       "      <td>2.787537</td>\n",
       "      <td>5.129784</td>\n",
       "      <td>10.125840</td>\n",
       "      <td>2.328642</td>\n",
       "      <td>0.949077</td>\n",
       "      <td>2.868782</td>\n",
       "      <td>0.922808</td>\n",
       "      <td>44.464071</td>\n",
       "      <td>...</td>\n",
       "      <td>5.411058</td>\n",
       "      <td>47.758570</td>\n",
       "      <td>4.890228</td>\n",
       "      <td>67.405524</td>\n",
       "      <td>5.510974</td>\n",
       "      <td>34.533396</td>\n",
       "      <td>5.333024</td>\n",
       "      <td>38.347312</td>\n",
       "      <td>5.550498</td>\n",
       "      <td>37.689057</td>\n",
       "    </tr>\n",
       "    <tr>\n",
       "      <td>min</td>\n",
       "      <td>0.000000</td>\n",
       "      <td>0.000000</td>\n",
       "      <td>0.000000</td>\n",
       "      <td>0.000000</td>\n",
       "      <td>0.000000</td>\n",
       "      <td>0.000000</td>\n",
       "      <td>0.000000</td>\n",
       "      <td>0.000000</td>\n",
       "      <td>0.000000</td>\n",
       "      <td>0.003112</td>\n",
       "      <td>...</td>\n",
       "      <td>0.000000</td>\n",
       "      <td>-799.798523</td>\n",
       "      <td>0.000000</td>\n",
       "      <td>-800.836914</td>\n",
       "      <td>-0.372054</td>\n",
       "      <td>-797.323986</td>\n",
       "      <td>0.528083</td>\n",
       "      <td>-800.220337</td>\n",
       "      <td>-0.079426</td>\n",
       "      <td>-809.741464</td>\n",
       "    </tr>\n",
       "    <tr>\n",
       "      <td>25%</td>\n",
       "      <td>4.251240</td>\n",
       "      <td>9.137262</td>\n",
       "      <td>7.722820</td>\n",
       "      <td>43.402215</td>\n",
       "      <td>63.299712</td>\n",
       "      <td>8.062878</td>\n",
       "      <td>2.040119</td>\n",
       "      <td>8.938947</td>\n",
       "      <td>2.461138</td>\n",
       "      <td>114.107029</td>\n",
       "      <td>...</td>\n",
       "      <td>14.975734</td>\n",
       "      <td>-500.704892</td>\n",
       "      <td>11.940294</td>\n",
       "      <td>-500.187742</td>\n",
       "      <td>10.988606</td>\n",
       "      <td>-500.458467</td>\n",
       "      <td>8.971105</td>\n",
       "      <td>-500.129462</td>\n",
       "      <td>14.983037</td>\n",
       "      <td>-500.728067</td>\n",
       "    </tr>\n",
       "    <tr>\n",
       "      <td>50%</td>\n",
       "      <td>5.066094</td>\n",
       "      <td>10.102433</td>\n",
       "      <td>9.218961</td>\n",
       "      <td>45.011244</td>\n",
       "      <td>68.172738</td>\n",
       "      <td>9.743623</td>\n",
       "      <td>2.748730</td>\n",
       "      <td>10.622456</td>\n",
       "      <td>2.984909</td>\n",
       "      <td>143.232103</td>\n",
       "      <td>...</td>\n",
       "      <td>18.017481</td>\n",
       "      <td>-499.837793</td>\n",
       "      <td>14.971014</td>\n",
       "      <td>-499.459786</td>\n",
       "      <td>15.000036</td>\n",
       "      <td>-499.802605</td>\n",
       "      <td>11.019433</td>\n",
       "      <td>-499.935317</td>\n",
       "      <td>19.960541</td>\n",
       "      <td>-500.048400</td>\n",
       "    </tr>\n",
       "    <tr>\n",
       "      <td>75%</td>\n",
       "      <td>5.895527</td>\n",
       "      <td>11.035769</td>\n",
       "      <td>10.947813</td>\n",
       "      <td>46.275313</td>\n",
       "      <td>72.686642</td>\n",
       "      <td>11.134294</td>\n",
       "      <td>3.333216</td>\n",
       "      <td>12.104271</td>\n",
       "      <td>3.571351</td>\n",
       "      <td>175.075656</td>\n",
       "      <td>...</td>\n",
       "      <td>23.012470</td>\n",
       "      <td>-498.249730</td>\n",
       "      <td>19.034162</td>\n",
       "      <td>-400.118106</td>\n",
       "      <td>18.026190</td>\n",
       "      <td>-498.384187</td>\n",
       "      <td>14.019088</td>\n",
       "      <td>-499.436708</td>\n",
       "      <td>24.003170</td>\n",
       "      <td>-499.495378</td>\n",
       "    </tr>\n",
       "    <tr>\n",
       "      <td>max</td>\n",
       "      <td>16.001945</td>\n",
       "      <td>17.031899</td>\n",
       "      <td>19.615720</td>\n",
       "      <td>52.756638</td>\n",
       "      <td>100.000000</td>\n",
       "      <td>19.552149</td>\n",
       "      <td>5.804178</td>\n",
       "      <td>22.317730</td>\n",
       "      <td>8.245022</td>\n",
       "      <td>265.983123</td>\n",
       "      <td>...</td>\n",
       "      <td>30.115735</td>\n",
       "      <td>-245.239184</td>\n",
       "      <td>31.269706</td>\n",
       "      <td>-6.506986</td>\n",
       "      <td>43.709931</td>\n",
       "      <td>-244.483566</td>\n",
       "      <td>27.926001</td>\n",
       "      <td>-137.740004</td>\n",
       "      <td>32.188906</td>\n",
       "      <td>-104.427459</td>\n",
       "    </tr>\n",
       "  </tbody>\n",
       "</table>\n",
       "<p>8 rows × 86 columns</p>\n",
       "</div>"
      ],
      "text/plain": [
       "       final.output.concentrate_ag  final.output.concentrate_pb  \\\n",
       "count                 19438.000000                 19438.000000   \n",
       "mean                      5.168470                     9.978895   \n",
       "std                       1.372348                     1.669240   \n",
       "min                       0.000000                     0.000000   \n",
       "25%                       4.251240                     9.137262   \n",
       "50%                       5.066094                    10.102433   \n",
       "75%                       5.895527                    11.035769   \n",
       "max                      16.001945                    17.031899   \n",
       "\n",
       "       final.output.concentrate_sol  final.output.concentrate_au  \\\n",
       "count                  19228.000000                 19439.000000   \n",
       "mean                       9.501224                    44.076513   \n",
       "std                        2.787537                     5.129784   \n",
       "min                        0.000000                     0.000000   \n",
       "25%                        7.722820                    43.402215   \n",
       "50%                        9.218961                    45.011244   \n",
       "75%                       10.947813                    46.275313   \n",
       "max                       19.615720                    52.756638   \n",
       "\n",
       "       final.output.recovery  final.output.tail_ag  final.output.tail_pb  \\\n",
       "count           19439.000000          19438.000000          19338.000000   \n",
       "mean               67.050208              9.688589              2.705795   \n",
       "std                10.125840              2.328642              0.949077   \n",
       "min                 0.000000              0.000000              0.000000   \n",
       "25%                63.299712              8.062878              2.040119   \n",
       "50%                68.172738              9.743623              2.748730   \n",
       "75%                72.686642             11.134294              3.333216   \n",
       "max               100.000000             19.552149              5.804178   \n",
       "\n",
       "       final.output.tail_sol  final.output.tail_au  \\\n",
       "count           19433.000000          19439.000000   \n",
       "mean               10.583728              3.042467   \n",
       "std                 2.868782              0.922808   \n",
       "min                 0.000000              0.000000   \n",
       "25%                 8.938947              2.461138   \n",
       "50%                10.622456              2.984909   \n",
       "75%                12.104271              3.571351   \n",
       "max                22.317730              8.245022   \n",
       "\n",
       "       primary_cleaner.input.sulfate  ...  \\\n",
       "count                   19415.000000  ...   \n",
       "mean                      144.624774  ...   \n",
       "std                        44.464071  ...   \n",
       "min                         0.003112  ...   \n",
       "25%                       114.107029  ...   \n",
       "50%                       143.232103  ...   \n",
       "75%                       175.075656  ...   \n",
       "max                       265.983123  ...   \n",
       "\n",
       "       secondary_cleaner.state.floatbank4_a_air  \\\n",
       "count                              19433.000000   \n",
       "mean                                  18.987674   \n",
       "std                                    5.411058   \n",
       "min                                    0.000000   \n",
       "25%                                   14.975734   \n",
       "50%                                   18.017481   \n",
       "75%                                   23.012470   \n",
       "max                                   30.115735   \n",
       "\n",
       "       secondary_cleaner.state.floatbank4_a_level  \\\n",
       "count                                19438.000000   \n",
       "mean                                  -485.894516   \n",
       "std                                     47.758570   \n",
       "min                                   -799.798523   \n",
       "25%                                   -500.704892   \n",
       "50%                                   -499.837793   \n",
       "75%                                   -498.249730   \n",
       "max                                   -245.239184   \n",
       "\n",
       "       secondary_cleaner.state.floatbank4_b_air  \\\n",
       "count                              19438.000000   \n",
       "mean                                  15.010366   \n",
       "std                                    4.890228   \n",
       "min                                    0.000000   \n",
       "25%                                   11.940294   \n",
       "50%                                   14.971014   \n",
       "75%                                   19.034162   \n",
       "max                                   31.269706   \n",
       "\n",
       "       secondary_cleaner.state.floatbank4_b_level  \\\n",
       "count                                19438.000000   \n",
       "mean                                  -461.078636   \n",
       "std                                     67.405524   \n",
       "min                                   -800.836914   \n",
       "25%                                   -500.187742   \n",
       "50%                                   -499.459786   \n",
       "75%                                   -400.118106   \n",
       "max                                     -6.506986   \n",
       "\n",
       "       secondary_cleaner.state.floatbank5_a_air  \\\n",
       "count                              19438.000000   \n",
       "mean                                  15.694452   \n",
       "std                                    5.510974   \n",
       "min                                   -0.372054   \n",
       "25%                                   10.988606   \n",
       "50%                                   15.000036   \n",
       "75%                                   18.026190   \n",
       "max                                   43.709931   \n",
       "\n",
       "       secondary_cleaner.state.floatbank5_a_level  \\\n",
       "count                                19438.000000   \n",
       "mean                                  -488.684065   \n",
       "std                                     34.533396   \n",
       "min                                   -797.323986   \n",
       "25%                                   -500.458467   \n",
       "50%                                   -499.802605   \n",
       "75%                                   -498.384187   \n",
       "max                                   -244.483566   \n",
       "\n",
       "       secondary_cleaner.state.floatbank5_b_air  \\\n",
       "count                              19438.000000   \n",
       "mean                                  12.198224   \n",
       "std                                    5.333024   \n",
       "min                                    0.528083   \n",
       "25%                                    8.971105   \n",
       "50%                                   11.019433   \n",
       "75%                                   14.019088   \n",
       "max                                   27.926001   \n",
       "\n",
       "       secondary_cleaner.state.floatbank5_b_level  \\\n",
       "count                                19438.000000   \n",
       "mean                                  -487.149827   \n",
       "std                                     38.347312   \n",
       "min                                   -800.220337   \n",
       "25%                                   -500.129462   \n",
       "50%                                   -499.935317   \n",
       "75%                                   -499.436708   \n",
       "max                                   -137.740004   \n",
       "\n",
       "       secondary_cleaner.state.floatbank6_a_air  \\\n",
       "count                              19437.000000   \n",
       "mean                                  18.959024   \n",
       "std                                    5.550498   \n",
       "min                                   -0.079426   \n",
       "25%                                   14.983037   \n",
       "50%                                   19.960541   \n",
       "75%                                   24.003170   \n",
       "max                                   32.188906   \n",
       "\n",
       "       secondary_cleaner.state.floatbank6_a_level  \n",
       "count                                19438.000000  \n",
       "mean                                  -505.436305  \n",
       "std                                     37.689057  \n",
       "min                                   -809.741464  \n",
       "25%                                   -500.728067  \n",
       "50%                                   -500.048400  \n",
       "75%                                   -499.495378  \n",
       "max                                   -104.427459  \n",
       "\n",
       "[8 rows x 86 columns]"
      ]
     },
     "execution_count": 11,
     "metadata": {},
     "output_type": "execute_result"
    }
   ],
   "source": [
    "df.describe()"
   ]
  },
  {
   "cell_type": "code",
   "execution_count": 12,
   "metadata": {},
   "outputs": [
    {
     "data": {
      "text/html": [
       "<div>\n",
       "<style scoped>\n",
       "    .dataframe tbody tr th:only-of-type {\n",
       "        vertical-align: middle;\n",
       "    }\n",
       "\n",
       "    .dataframe tbody tr th {\n",
       "        vertical-align: top;\n",
       "    }\n",
       "\n",
       "    .dataframe thead th {\n",
       "        text-align: right;\n",
       "    }\n",
       "</style>\n",
       "<table border=\"1\" class=\"dataframe\">\n",
       "  <thead>\n",
       "    <tr style=\"text-align: right;\">\n",
       "      <th></th>\n",
       "      <th>primary_cleaner.input.sulfate</th>\n",
       "      <th>primary_cleaner.input.depressant</th>\n",
       "      <th>primary_cleaner.input.feed_size</th>\n",
       "      <th>primary_cleaner.input.xanthate</th>\n",
       "      <th>primary_cleaner.state.floatbank8_a_air</th>\n",
       "      <th>primary_cleaner.state.floatbank8_a_level</th>\n",
       "      <th>primary_cleaner.state.floatbank8_b_air</th>\n",
       "      <th>primary_cleaner.state.floatbank8_b_level</th>\n",
       "      <th>primary_cleaner.state.floatbank8_c_air</th>\n",
       "      <th>primary_cleaner.state.floatbank8_c_level</th>\n",
       "      <th>...</th>\n",
       "      <th>secondary_cleaner.state.floatbank4_a_air</th>\n",
       "      <th>secondary_cleaner.state.floatbank4_a_level</th>\n",
       "      <th>secondary_cleaner.state.floatbank4_b_air</th>\n",
       "      <th>secondary_cleaner.state.floatbank4_b_level</th>\n",
       "      <th>secondary_cleaner.state.floatbank5_a_air</th>\n",
       "      <th>secondary_cleaner.state.floatbank5_a_level</th>\n",
       "      <th>secondary_cleaner.state.floatbank5_b_air</th>\n",
       "      <th>secondary_cleaner.state.floatbank5_b_level</th>\n",
       "      <th>secondary_cleaner.state.floatbank6_a_air</th>\n",
       "      <th>secondary_cleaner.state.floatbank6_a_level</th>\n",
       "    </tr>\n",
       "  </thead>\n",
       "  <tbody>\n",
       "    <tr>\n",
       "      <td>count</td>\n",
       "      <td>5286.000000</td>\n",
       "      <td>5285.000000</td>\n",
       "      <td>5290.000000</td>\n",
       "      <td>5286.000000</td>\n",
       "      <td>5.290000e+03</td>\n",
       "      <td>5290.000000</td>\n",
       "      <td>5.290000e+03</td>\n",
       "      <td>5290.000000</td>\n",
       "      <td>5.290000e+03</td>\n",
       "      <td>5290.000000</td>\n",
       "      <td>...</td>\n",
       "      <td>5.290000e+03</td>\n",
       "      <td>5290.000000</td>\n",
       "      <td>5.290000e+03</td>\n",
       "      <td>5290.000000</td>\n",
       "      <td>5290.000000</td>\n",
       "      <td>5290.000000</td>\n",
       "      <td>5290.000000</td>\n",
       "      <td>5290.000000</td>\n",
       "      <td>5290.000000</td>\n",
       "      <td>5290.000000</td>\n",
       "    </tr>\n",
       "    <tr>\n",
       "      <td>mean</td>\n",
       "      <td>174.839652</td>\n",
       "      <td>8.683596</td>\n",
       "      <td>7.266339</td>\n",
       "      <td>1.383803</td>\n",
       "      <td>1.539494e+03</td>\n",
       "      <td>-497.665883</td>\n",
       "      <td>1.545174e+03</td>\n",
       "      <td>-500.273098</td>\n",
       "      <td>1.527272e+03</td>\n",
       "      <td>-498.330680</td>\n",
       "      <td>...</td>\n",
       "      <td>1.632007e+01</td>\n",
       "      <td>-505.144570</td>\n",
       "      <td>1.373544e+01</td>\n",
       "      <td>-463.349858</td>\n",
       "      <td>12.804186</td>\n",
       "      <td>-501.329122</td>\n",
       "      <td>9.881145</td>\n",
       "      <td>-495.663398</td>\n",
       "      <td>17.304935</td>\n",
       "      <td>-501.793193</td>\n",
       "    </tr>\n",
       "    <tr>\n",
       "      <td>std</td>\n",
       "      <td>43.027080</td>\n",
       "      <td>3.072050</td>\n",
       "      <td>0.610219</td>\n",
       "      <td>0.643474</td>\n",
       "      <td>1.167979e+02</td>\n",
       "      <td>19.952431</td>\n",
       "      <td>1.222246e+02</td>\n",
       "      <td>32.968307</td>\n",
       "      <td>1.225380e+02</td>\n",
       "      <td>21.964876</td>\n",
       "      <td>...</td>\n",
       "      <td>3.493583e+00</td>\n",
       "      <td>31.427337</td>\n",
       "      <td>3.430484e+00</td>\n",
       "      <td>86.189107</td>\n",
       "      <td>3.026591</td>\n",
       "      <td>17.951495</td>\n",
       "      <td>2.868205</td>\n",
       "      <td>34.535007</td>\n",
       "      <td>4.536544</td>\n",
       "      <td>39.044215</td>\n",
       "    </tr>\n",
       "    <tr>\n",
       "      <td>min</td>\n",
       "      <td>2.566156</td>\n",
       "      <td>0.003839</td>\n",
       "      <td>5.650000</td>\n",
       "      <td>0.004984</td>\n",
       "      <td>5.445860e-32</td>\n",
       "      <td>-795.316337</td>\n",
       "      <td>6.647490e-32</td>\n",
       "      <td>-799.997015</td>\n",
       "      <td>4.033736e-32</td>\n",
       "      <td>-799.960571</td>\n",
       "      <td>...</td>\n",
       "      <td>1.079872e-16</td>\n",
       "      <td>-799.798523</td>\n",
       "      <td>2.489718e-17</td>\n",
       "      <td>-800.836914</td>\n",
       "      <td>0.069227</td>\n",
       "      <td>-797.323986</td>\n",
       "      <td>0.528083</td>\n",
       "      <td>-800.220337</td>\n",
       "      <td>-0.079426</td>\n",
       "      <td>-809.741464</td>\n",
       "    </tr>\n",
       "    <tr>\n",
       "      <td>25%</td>\n",
       "      <td>147.121401</td>\n",
       "      <td>6.489555</td>\n",
       "      <td>6.890000</td>\n",
       "      <td>0.907623</td>\n",
       "      <td>1.498936e+03</td>\n",
       "      <td>-500.357298</td>\n",
       "      <td>1.498971e+03</td>\n",
       "      <td>-500.703002</td>\n",
       "      <td>1.473230e+03</td>\n",
       "      <td>-501.018117</td>\n",
       "      <td>...</td>\n",
       "      <td>1.403618e+01</td>\n",
       "      <td>-500.868258</td>\n",
       "      <td>1.202862e+01</td>\n",
       "      <td>-500.323028</td>\n",
       "      <td>10.914838</td>\n",
       "      <td>-500.726841</td>\n",
       "      <td>8.036719</td>\n",
       "      <td>-500.194668</td>\n",
       "      <td>13.997317</td>\n",
       "      <td>-500.690984</td>\n",
       "    </tr>\n",
       "    <tr>\n",
       "      <td>50%</td>\n",
       "      <td>177.828489</td>\n",
       "      <td>8.052207</td>\n",
       "      <td>7.250000</td>\n",
       "      <td>1.197610</td>\n",
       "      <td>1.585129e+03</td>\n",
       "      <td>-499.969164</td>\n",
       "      <td>1.595622e+03</td>\n",
       "      <td>-500.028514</td>\n",
       "      <td>1.549595e+03</td>\n",
       "      <td>-500.017711</td>\n",
       "      <td>...</td>\n",
       "      <td>1.700847e+01</td>\n",
       "      <td>-500.115727</td>\n",
       "      <td>1.496486e+01</td>\n",
       "      <td>-499.576513</td>\n",
       "      <td>12.954182</td>\n",
       "      <td>-499.990332</td>\n",
       "      <td>10.004301</td>\n",
       "      <td>-499.990535</td>\n",
       "      <td>16.014935</td>\n",
       "      <td>-500.007126</td>\n",
       "    </tr>\n",
       "    <tr>\n",
       "      <td>75%</td>\n",
       "      <td>208.125438</td>\n",
       "      <td>10.027764</td>\n",
       "      <td>7.600000</td>\n",
       "      <td>1.797819</td>\n",
       "      <td>1.602077e+03</td>\n",
       "      <td>-499.568951</td>\n",
       "      <td>1.602324e+03</td>\n",
       "      <td>-499.293257</td>\n",
       "      <td>1.601144e+03</td>\n",
       "      <td>-498.994130</td>\n",
       "      <td>...</td>\n",
       "      <td>1.803862e+01</td>\n",
       "      <td>-499.404224</td>\n",
       "      <td>1.596213e+01</td>\n",
       "      <td>-400.933805</td>\n",
       "      <td>15.097528</td>\n",
       "      <td>-499.283191</td>\n",
       "      <td>11.997467</td>\n",
       "      <td>-499.719913</td>\n",
       "      <td>21.020013</td>\n",
       "      <td>-499.373018</td>\n",
       "    </tr>\n",
       "    <tr>\n",
       "      <td>max</td>\n",
       "      <td>265.983123</td>\n",
       "      <td>40.000000</td>\n",
       "      <td>15.500000</td>\n",
       "      <td>4.102454</td>\n",
       "      <td>2.103104e+03</td>\n",
       "      <td>-57.195404</td>\n",
       "      <td>1.813084e+03</td>\n",
       "      <td>-142.527229</td>\n",
       "      <td>1.715054e+03</td>\n",
       "      <td>-150.937035</td>\n",
       "      <td>...</td>\n",
       "      <td>3.005180e+01</td>\n",
       "      <td>-401.565212</td>\n",
       "      <td>3.126971e+01</td>\n",
       "      <td>-6.506986</td>\n",
       "      <td>25.258848</td>\n",
       "      <td>-244.483566</td>\n",
       "      <td>14.086866</td>\n",
       "      <td>-137.740004</td>\n",
       "      <td>26.705889</td>\n",
       "      <td>-123.307487</td>\n",
       "    </tr>\n",
       "  </tbody>\n",
       "</table>\n",
       "<p>8 rows × 52 columns</p>\n",
       "</div>"
      ],
      "text/plain": [
       "       primary_cleaner.input.sulfate  primary_cleaner.input.depressant  \\\n",
       "count                    5286.000000                       5285.000000   \n",
       "mean                      174.839652                          8.683596   \n",
       "std                        43.027080                          3.072050   \n",
       "min                         2.566156                          0.003839   \n",
       "25%                       147.121401                          6.489555   \n",
       "50%                       177.828489                          8.052207   \n",
       "75%                       208.125438                         10.027764   \n",
       "max                       265.983123                         40.000000   \n",
       "\n",
       "       primary_cleaner.input.feed_size  primary_cleaner.input.xanthate  \\\n",
       "count                      5290.000000                     5286.000000   \n",
       "mean                          7.266339                        1.383803   \n",
       "std                           0.610219                        0.643474   \n",
       "min                           5.650000                        0.004984   \n",
       "25%                           6.890000                        0.907623   \n",
       "50%                           7.250000                        1.197610   \n",
       "75%                           7.600000                        1.797819   \n",
       "max                          15.500000                        4.102454   \n",
       "\n",
       "       primary_cleaner.state.floatbank8_a_air  \\\n",
       "count                            5.290000e+03   \n",
       "mean                             1.539494e+03   \n",
       "std                              1.167979e+02   \n",
       "min                              5.445860e-32   \n",
       "25%                              1.498936e+03   \n",
       "50%                              1.585129e+03   \n",
       "75%                              1.602077e+03   \n",
       "max                              2.103104e+03   \n",
       "\n",
       "       primary_cleaner.state.floatbank8_a_level  \\\n",
       "count                               5290.000000   \n",
       "mean                                -497.665883   \n",
       "std                                   19.952431   \n",
       "min                                 -795.316337   \n",
       "25%                                 -500.357298   \n",
       "50%                                 -499.969164   \n",
       "75%                                 -499.568951   \n",
       "max                                  -57.195404   \n",
       "\n",
       "       primary_cleaner.state.floatbank8_b_air  \\\n",
       "count                            5.290000e+03   \n",
       "mean                             1.545174e+03   \n",
       "std                              1.222246e+02   \n",
       "min                              6.647490e-32   \n",
       "25%                              1.498971e+03   \n",
       "50%                              1.595622e+03   \n",
       "75%                              1.602324e+03   \n",
       "max                              1.813084e+03   \n",
       "\n",
       "       primary_cleaner.state.floatbank8_b_level  \\\n",
       "count                               5290.000000   \n",
       "mean                                -500.273098   \n",
       "std                                   32.968307   \n",
       "min                                 -799.997015   \n",
       "25%                                 -500.703002   \n",
       "50%                                 -500.028514   \n",
       "75%                                 -499.293257   \n",
       "max                                 -142.527229   \n",
       "\n",
       "       primary_cleaner.state.floatbank8_c_air  \\\n",
       "count                            5.290000e+03   \n",
       "mean                             1.527272e+03   \n",
       "std                              1.225380e+02   \n",
       "min                              4.033736e-32   \n",
       "25%                              1.473230e+03   \n",
       "50%                              1.549595e+03   \n",
       "75%                              1.601144e+03   \n",
       "max                              1.715054e+03   \n",
       "\n",
       "       primary_cleaner.state.floatbank8_c_level  ...  \\\n",
       "count                               5290.000000  ...   \n",
       "mean                                -498.330680  ...   \n",
       "std                                   21.964876  ...   \n",
       "min                                 -799.960571  ...   \n",
       "25%                                 -501.018117  ...   \n",
       "50%                                 -500.017711  ...   \n",
       "75%                                 -498.994130  ...   \n",
       "max                                 -150.937035  ...   \n",
       "\n",
       "       secondary_cleaner.state.floatbank4_a_air  \\\n",
       "count                              5.290000e+03   \n",
       "mean                               1.632007e+01   \n",
       "std                                3.493583e+00   \n",
       "min                                1.079872e-16   \n",
       "25%                                1.403618e+01   \n",
       "50%                                1.700847e+01   \n",
       "75%                                1.803862e+01   \n",
       "max                                3.005180e+01   \n",
       "\n",
       "       secondary_cleaner.state.floatbank4_a_level  \\\n",
       "count                                 5290.000000   \n",
       "mean                                  -505.144570   \n",
       "std                                     31.427337   \n",
       "min                                   -799.798523   \n",
       "25%                                   -500.868258   \n",
       "50%                                   -500.115727   \n",
       "75%                                   -499.404224   \n",
       "max                                   -401.565212   \n",
       "\n",
       "       secondary_cleaner.state.floatbank4_b_air  \\\n",
       "count                              5.290000e+03   \n",
       "mean                               1.373544e+01   \n",
       "std                                3.430484e+00   \n",
       "min                                2.489718e-17   \n",
       "25%                                1.202862e+01   \n",
       "50%                                1.496486e+01   \n",
       "75%                                1.596213e+01   \n",
       "max                                3.126971e+01   \n",
       "\n",
       "       secondary_cleaner.state.floatbank4_b_level  \\\n",
       "count                                 5290.000000   \n",
       "mean                                  -463.349858   \n",
       "std                                     86.189107   \n",
       "min                                   -800.836914   \n",
       "25%                                   -500.323028   \n",
       "50%                                   -499.576513   \n",
       "75%                                   -400.933805   \n",
       "max                                     -6.506986   \n",
       "\n",
       "       secondary_cleaner.state.floatbank5_a_air  \\\n",
       "count                               5290.000000   \n",
       "mean                                  12.804186   \n",
       "std                                    3.026591   \n",
       "min                                    0.069227   \n",
       "25%                                   10.914838   \n",
       "50%                                   12.954182   \n",
       "75%                                   15.097528   \n",
       "max                                   25.258848   \n",
       "\n",
       "       secondary_cleaner.state.floatbank5_a_level  \\\n",
       "count                                 5290.000000   \n",
       "mean                                  -501.329122   \n",
       "std                                     17.951495   \n",
       "min                                   -797.323986   \n",
       "25%                                   -500.726841   \n",
       "50%                                   -499.990332   \n",
       "75%                                   -499.283191   \n",
       "max                                   -244.483566   \n",
       "\n",
       "       secondary_cleaner.state.floatbank5_b_air  \\\n",
       "count                               5290.000000   \n",
       "mean                                   9.881145   \n",
       "std                                    2.868205   \n",
       "min                                    0.528083   \n",
       "25%                                    8.036719   \n",
       "50%                                   10.004301   \n",
       "75%                                   11.997467   \n",
       "max                                   14.086866   \n",
       "\n",
       "       secondary_cleaner.state.floatbank5_b_level  \\\n",
       "count                                 5290.000000   \n",
       "mean                                  -495.663398   \n",
       "std                                     34.535007   \n",
       "min                                   -800.220337   \n",
       "25%                                   -500.194668   \n",
       "50%                                   -499.990535   \n",
       "75%                                   -499.719913   \n",
       "max                                   -137.740004   \n",
       "\n",
       "       secondary_cleaner.state.floatbank6_a_air  \\\n",
       "count                               5290.000000   \n",
       "mean                                  17.304935   \n",
       "std                                    4.536544   \n",
       "min                                   -0.079426   \n",
       "25%                                   13.997317   \n",
       "50%                                   16.014935   \n",
       "75%                                   21.020013   \n",
       "max                                   26.705889   \n",
       "\n",
       "       secondary_cleaner.state.floatbank6_a_level  \n",
       "count                                 5290.000000  \n",
       "mean                                  -501.793193  \n",
       "std                                     39.044215  \n",
       "min                                   -809.741464  \n",
       "25%                                   -500.690984  \n",
       "50%                                   -500.007126  \n",
       "75%                                   -499.373018  \n",
       "max                                   -123.307487  \n",
       "\n",
       "[8 rows x 52 columns]"
      ]
     },
     "execution_count": 12,
     "metadata": {},
     "output_type": "execute_result"
    }
   ],
   "source": [
    "df_test.describe()"
   ]
  },
  {
   "cell_type": "code",
   "execution_count": 13,
   "metadata": {},
   "outputs": [
    {
     "data": {
      "text/html": [
       "<div>\n",
       "<style scoped>\n",
       "    .dataframe tbody tr th:only-of-type {\n",
       "        vertical-align: middle;\n",
       "    }\n",
       "\n",
       "    .dataframe tbody tr th {\n",
       "        vertical-align: top;\n",
       "    }\n",
       "\n",
       "    .dataframe thead th {\n",
       "        text-align: right;\n",
       "    }\n",
       "</style>\n",
       "<table border=\"1\" class=\"dataframe\">\n",
       "  <thead>\n",
       "    <tr style=\"text-align: right;\">\n",
       "      <th></th>\n",
       "      <th>final.output.concentrate_ag</th>\n",
       "      <th>final.output.concentrate_pb</th>\n",
       "      <th>final.output.concentrate_sol</th>\n",
       "      <th>final.output.concentrate_au</th>\n",
       "      <th>final.output.recovery</th>\n",
       "      <th>final.output.tail_ag</th>\n",
       "      <th>final.output.tail_pb</th>\n",
       "      <th>final.output.tail_sol</th>\n",
       "      <th>final.output.tail_au</th>\n",
       "      <th>primary_cleaner.input.sulfate</th>\n",
       "      <th>...</th>\n",
       "      <th>secondary_cleaner.state.floatbank4_a_air</th>\n",
       "      <th>secondary_cleaner.state.floatbank4_a_level</th>\n",
       "      <th>secondary_cleaner.state.floatbank4_b_air</th>\n",
       "      <th>secondary_cleaner.state.floatbank4_b_level</th>\n",
       "      <th>secondary_cleaner.state.floatbank5_a_air</th>\n",
       "      <th>secondary_cleaner.state.floatbank5_a_level</th>\n",
       "      <th>secondary_cleaner.state.floatbank5_b_air</th>\n",
       "      <th>secondary_cleaner.state.floatbank5_b_level</th>\n",
       "      <th>secondary_cleaner.state.floatbank6_a_air</th>\n",
       "      <th>secondary_cleaner.state.floatbank6_a_level</th>\n",
       "    </tr>\n",
       "  </thead>\n",
       "  <tbody>\n",
       "    <tr>\n",
       "      <td>count</td>\n",
       "      <td>14148.000000</td>\n",
       "      <td>14148.000000</td>\n",
       "      <td>13938.000000</td>\n",
       "      <td>14149.000000</td>\n",
       "      <td>14149.000000</td>\n",
       "      <td>14149.000000</td>\n",
       "      <td>14049.000000</td>\n",
       "      <td>14144.000000</td>\n",
       "      <td>14149.000000</td>\n",
       "      <td>14129.000000</td>\n",
       "      <td>...</td>\n",
       "      <td>14143.000000</td>\n",
       "      <td>14148.000000</td>\n",
       "      <td>14148.000000</td>\n",
       "      <td>14148.000000</td>\n",
       "      <td>14148.000000</td>\n",
       "      <td>14148.000000</td>\n",
       "      <td>14148.000000</td>\n",
       "      <td>14148.000000</td>\n",
       "      <td>14147.000000</td>\n",
       "      <td>14148.000000</td>\n",
       "    </tr>\n",
       "    <tr>\n",
       "      <td>mean</td>\n",
       "      <td>5.142034</td>\n",
       "      <td>10.132960</td>\n",
       "      <td>9.202849</td>\n",
       "      <td>44.003792</td>\n",
       "      <td>66.518832</td>\n",
       "      <td>9.607035</td>\n",
       "      <td>2.597298</td>\n",
       "      <td>10.512122</td>\n",
       "      <td>2.918421</td>\n",
       "      <td>133.320659</td>\n",
       "      <td>...</td>\n",
       "      <td>19.985454</td>\n",
       "      <td>-478.696836</td>\n",
       "      <td>15.487065</td>\n",
       "      <td>-460.229416</td>\n",
       "      <td>16.775136</td>\n",
       "      <td>-483.956022</td>\n",
       "      <td>13.064590</td>\n",
       "      <td>-483.966564</td>\n",
       "      <td>19.577539</td>\n",
       "      <td>-506.798480</td>\n",
       "    </tr>\n",
       "    <tr>\n",
       "      <td>std</td>\n",
       "      <td>1.369586</td>\n",
       "      <td>1.654930</td>\n",
       "      <td>2.790516</td>\n",
       "      <td>4.905261</td>\n",
       "      <td>10.295402</td>\n",
       "      <td>2.319069</td>\n",
       "      <td>0.971843</td>\n",
       "      <td>3.003617</td>\n",
       "      <td>0.903712</td>\n",
       "      <td>39.431659</td>\n",
       "      <td>...</td>\n",
       "      <td>5.657723</td>\n",
       "      <td>50.736021</td>\n",
       "      <td>5.255655</td>\n",
       "      <td>58.843586</td>\n",
       "      <td>5.831906</td>\n",
       "      <td>37.892788</td>\n",
       "      <td>5.765617</td>\n",
       "      <td>39.207913</td>\n",
       "      <td>5.764417</td>\n",
       "      <td>37.079249</td>\n",
       "    </tr>\n",
       "    <tr>\n",
       "      <td>min</td>\n",
       "      <td>0.000000</td>\n",
       "      <td>0.000000</td>\n",
       "      <td>0.000000</td>\n",
       "      <td>0.000000</td>\n",
       "      <td>0.000000</td>\n",
       "      <td>0.000000</td>\n",
       "      <td>0.000000</td>\n",
       "      <td>0.000000</td>\n",
       "      <td>0.000000</td>\n",
       "      <td>0.003112</td>\n",
       "      <td>...</td>\n",
       "      <td>0.000000</td>\n",
       "      <td>-799.709069</td>\n",
       "      <td>0.000000</td>\n",
       "      <td>-799.889113</td>\n",
       "      <td>-0.372054</td>\n",
       "      <td>-797.142475</td>\n",
       "      <td>0.646208</td>\n",
       "      <td>-800.006180</td>\n",
       "      <td>0.195324</td>\n",
       "      <td>-809.398668</td>\n",
       "    </tr>\n",
       "    <tr>\n",
       "      <td>25%</td>\n",
       "      <td>4.211620</td>\n",
       "      <td>9.297355</td>\n",
       "      <td>7.484645</td>\n",
       "      <td>43.276111</td>\n",
       "      <td>62.545817</td>\n",
       "      <td>7.997429</td>\n",
       "      <td>1.905973</td>\n",
       "      <td>8.811324</td>\n",
       "      <td>2.368607</td>\n",
       "      <td>107.006651</td>\n",
       "      <td>...</td>\n",
       "      <td>14.990775</td>\n",
       "      <td>-500.628656</td>\n",
       "      <td>11.894558</td>\n",
       "      <td>-500.149000</td>\n",
       "      <td>11.083980</td>\n",
       "      <td>-500.363177</td>\n",
       "      <td>8.994405</td>\n",
       "      <td>-500.105994</td>\n",
       "      <td>14.989304</td>\n",
       "      <td>-500.745104</td>\n",
       "    </tr>\n",
       "    <tr>\n",
       "      <td>50%</td>\n",
       "      <td>4.994652</td>\n",
       "      <td>10.297144</td>\n",
       "      <td>8.845462</td>\n",
       "      <td>44.872436</td>\n",
       "      <td>67.432775</td>\n",
       "      <td>9.480270</td>\n",
       "      <td>2.592022</td>\n",
       "      <td>10.514621</td>\n",
       "      <td>2.851025</td>\n",
       "      <td>133.018328</td>\n",
       "      <td>...</td>\n",
       "      <td>20.001789</td>\n",
       "      <td>-499.681450</td>\n",
       "      <td>14.975536</td>\n",
       "      <td>-499.388738</td>\n",
       "      <td>17.932223</td>\n",
       "      <td>-499.702452</td>\n",
       "      <td>11.997547</td>\n",
       "      <td>-499.914556</td>\n",
       "      <td>19.984175</td>\n",
       "      <td>-500.061431</td>\n",
       "    </tr>\n",
       "    <tr>\n",
       "      <td>75%</td>\n",
       "      <td>5.859540</td>\n",
       "      <td>11.170603</td>\n",
       "      <td>10.487508</td>\n",
       "      <td>46.166425</td>\n",
       "      <td>72.346428</td>\n",
       "      <td>11.003707</td>\n",
       "      <td>3.241723</td>\n",
       "      <td>11.933009</td>\n",
       "      <td>3.434764</td>\n",
       "      <td>159.825396</td>\n",
       "      <td>...</td>\n",
       "      <td>24.990826</td>\n",
       "      <td>-477.472413</td>\n",
       "      <td>20.059375</td>\n",
       "      <td>-400.039008</td>\n",
       "      <td>21.346550</td>\n",
       "      <td>-487.712108</td>\n",
       "      <td>17.982903</td>\n",
       "      <td>-453.186936</td>\n",
       "      <td>24.991623</td>\n",
       "      <td>-499.536466</td>\n",
       "    </tr>\n",
       "    <tr>\n",
       "      <td>max</td>\n",
       "      <td>16.001945</td>\n",
       "      <td>17.031899</td>\n",
       "      <td>18.124851</td>\n",
       "      <td>52.756638</td>\n",
       "      <td>100.000000</td>\n",
       "      <td>19.552149</td>\n",
       "      <td>5.639565</td>\n",
       "      <td>22.317730</td>\n",
       "      <td>8.197408</td>\n",
       "      <td>250.127834</td>\n",
       "      <td>...</td>\n",
       "      <td>30.115735</td>\n",
       "      <td>-245.239184</td>\n",
       "      <td>24.007913</td>\n",
       "      <td>-145.071088</td>\n",
       "      <td>43.709931</td>\n",
       "      <td>-275.073125</td>\n",
       "      <td>27.926001</td>\n",
       "      <td>-157.396071</td>\n",
       "      <td>32.188906</td>\n",
       "      <td>-104.427459</td>\n",
       "    </tr>\n",
       "  </tbody>\n",
       "</table>\n",
       "<p>8 rows × 86 columns</p>\n",
       "</div>"
      ],
      "text/plain": [
       "       final.output.concentrate_ag  final.output.concentrate_pb  \\\n",
       "count                 14148.000000                 14148.000000   \n",
       "mean                      5.142034                    10.132960   \n",
       "std                       1.369586                     1.654930   \n",
       "min                       0.000000                     0.000000   \n",
       "25%                       4.211620                     9.297355   \n",
       "50%                       4.994652                    10.297144   \n",
       "75%                       5.859540                    11.170603   \n",
       "max                      16.001945                    17.031899   \n",
       "\n",
       "       final.output.concentrate_sol  final.output.concentrate_au  \\\n",
       "count                  13938.000000                 14149.000000   \n",
       "mean                       9.202849                    44.003792   \n",
       "std                        2.790516                     4.905261   \n",
       "min                        0.000000                     0.000000   \n",
       "25%                        7.484645                    43.276111   \n",
       "50%                        8.845462                    44.872436   \n",
       "75%                       10.487508                    46.166425   \n",
       "max                       18.124851                    52.756638   \n",
       "\n",
       "       final.output.recovery  final.output.tail_ag  final.output.tail_pb  \\\n",
       "count           14149.000000          14149.000000          14049.000000   \n",
       "mean               66.518832              9.607035              2.597298   \n",
       "std                10.295402              2.319069              0.971843   \n",
       "min                 0.000000              0.000000              0.000000   \n",
       "25%                62.545817              7.997429              1.905973   \n",
       "50%                67.432775              9.480270              2.592022   \n",
       "75%                72.346428             11.003707              3.241723   \n",
       "max               100.000000             19.552149              5.639565   \n",
       "\n",
       "       final.output.tail_sol  final.output.tail_au  \\\n",
       "count           14144.000000          14149.000000   \n",
       "mean               10.512122              2.918421   \n",
       "std                 3.003617              0.903712   \n",
       "min                 0.000000              0.000000   \n",
       "25%                 8.811324              2.368607   \n",
       "50%                10.514621              2.851025   \n",
       "75%                11.933009              3.434764   \n",
       "max                22.317730              8.197408   \n",
       "\n",
       "       primary_cleaner.input.sulfate  ...  \\\n",
       "count                   14129.000000  ...   \n",
       "mean                      133.320659  ...   \n",
       "std                        39.431659  ...   \n",
       "min                         0.003112  ...   \n",
       "25%                       107.006651  ...   \n",
       "50%                       133.018328  ...   \n",
       "75%                       159.825396  ...   \n",
       "max                       250.127834  ...   \n",
       "\n",
       "       secondary_cleaner.state.floatbank4_a_air  \\\n",
       "count                              14143.000000   \n",
       "mean                                  19.985454   \n",
       "std                                    5.657723   \n",
       "min                                    0.000000   \n",
       "25%                                   14.990775   \n",
       "50%                                   20.001789   \n",
       "75%                                   24.990826   \n",
       "max                                   30.115735   \n",
       "\n",
       "       secondary_cleaner.state.floatbank4_a_level  \\\n",
       "count                                14148.000000   \n",
       "mean                                  -478.696836   \n",
       "std                                     50.736021   \n",
       "min                                   -799.709069   \n",
       "25%                                   -500.628656   \n",
       "50%                                   -499.681450   \n",
       "75%                                   -477.472413   \n",
       "max                                   -245.239184   \n",
       "\n",
       "       secondary_cleaner.state.floatbank4_b_air  \\\n",
       "count                              14148.000000   \n",
       "mean                                  15.487065   \n",
       "std                                    5.255655   \n",
       "min                                    0.000000   \n",
       "25%                                   11.894558   \n",
       "50%                                   14.975536   \n",
       "75%                                   20.059375   \n",
       "max                                   24.007913   \n",
       "\n",
       "       secondary_cleaner.state.floatbank4_b_level  \\\n",
       "count                                14148.000000   \n",
       "mean                                  -460.229416   \n",
       "std                                     58.843586   \n",
       "min                                   -799.889113   \n",
       "25%                                   -500.149000   \n",
       "50%                                   -499.388738   \n",
       "75%                                   -400.039008   \n",
       "max                                   -145.071088   \n",
       "\n",
       "       secondary_cleaner.state.floatbank5_a_air  \\\n",
       "count                              14148.000000   \n",
       "mean                                  16.775136   \n",
       "std                                    5.831906   \n",
       "min                                   -0.372054   \n",
       "25%                                   11.083980   \n",
       "50%                                   17.932223   \n",
       "75%                                   21.346550   \n",
       "max                                   43.709931   \n",
       "\n",
       "       secondary_cleaner.state.floatbank5_a_level  \\\n",
       "count                                14148.000000   \n",
       "mean                                  -483.956022   \n",
       "std                                     37.892788   \n",
       "min                                   -797.142475   \n",
       "25%                                   -500.363177   \n",
       "50%                                   -499.702452   \n",
       "75%                                   -487.712108   \n",
       "max                                   -275.073125   \n",
       "\n",
       "       secondary_cleaner.state.floatbank5_b_air  \\\n",
       "count                              14148.000000   \n",
       "mean                                  13.064590   \n",
       "std                                    5.765617   \n",
       "min                                    0.646208   \n",
       "25%                                    8.994405   \n",
       "50%                                   11.997547   \n",
       "75%                                   17.982903   \n",
       "max                                   27.926001   \n",
       "\n",
       "       secondary_cleaner.state.floatbank5_b_level  \\\n",
       "count                                14148.000000   \n",
       "mean                                  -483.966564   \n",
       "std                                     39.207913   \n",
       "min                                   -800.006180   \n",
       "25%                                   -500.105994   \n",
       "50%                                   -499.914556   \n",
       "75%                                   -453.186936   \n",
       "max                                   -157.396071   \n",
       "\n",
       "       secondary_cleaner.state.floatbank6_a_air  \\\n",
       "count                              14147.000000   \n",
       "mean                                  19.577539   \n",
       "std                                    5.764417   \n",
       "min                                    0.195324   \n",
       "25%                                   14.989304   \n",
       "50%                                   19.984175   \n",
       "75%                                   24.991623   \n",
       "max                                   32.188906   \n",
       "\n",
       "       secondary_cleaner.state.floatbank6_a_level  \n",
       "count                                14148.000000  \n",
       "mean                                  -506.798480  \n",
       "std                                     37.079249  \n",
       "min                                   -809.398668  \n",
       "25%                                   -500.745104  \n",
       "50%                                   -500.061431  \n",
       "75%                                   -499.536466  \n",
       "max                                   -104.427459  \n",
       "\n",
       "[8 rows x 86 columns]"
      ]
     },
     "execution_count": 13,
     "metadata": {},
     "output_type": "execute_result"
    }
   ],
   "source": [
    "df_train.describe()"
   ]
  },
  {
   "cell_type": "markdown",
   "metadata": {},
   "source": [
    "### Проверим эффективность обогащения. Вычислим её на обучающей выборке для признака rougher.output.recovery. Найдем MAE между нашими расчётами и значением признака"
   ]
  },
  {
   "cell_type": "code",
   "execution_count": 14,
   "metadata": {},
   "outputs": [
    {
     "data": {
      "text/plain": [
       "0"
      ]
     },
     "execution_count": 14,
     "metadata": {},
     "output_type": "execute_result"
    }
   ],
   "source": [
    "df_train['rougher.output.recovery'].isna().sum()"
   ]
  },
  {
   "cell_type": "code",
   "execution_count": 15,
   "metadata": {},
   "outputs": [
    {
     "data": {
      "text/plain": [
       "count    14149.000000\n",
       "mean        19.439958\n",
       "std          3.765192\n",
       "min          0.000000\n",
       "25%         18.432161\n",
       "50%         19.947312\n",
       "75%         21.392714\n",
       "max         28.146838\n",
       "Name: rougher.output.concentrate_au, dtype: float64"
      ]
     },
     "execution_count": 15,
     "metadata": {},
     "output_type": "execute_result"
    }
   ],
   "source": [
    "df_train['rougher.output.concentrate_au'].describe()"
   ]
  },
  {
   "cell_type": "code",
   "execution_count": 16,
   "metadata": {},
   "outputs": [
    {
     "data": {
      "text/plain": [
       "count    14149.000000\n",
       "mean         7.866577\n",
       "std          1.919506\n",
       "min          0.010000\n",
       "25%          6.596217\n",
       "50%          7.649138\n",
       "75%          9.066976\n",
       "max         13.126043\n",
       "Name: rougher.input.feed_au, dtype: float64"
      ]
     },
     "execution_count": 16,
     "metadata": {},
     "output_type": "execute_result"
    }
   ],
   "source": [
    "df_train['rougher.input.feed_au'].describe()"
   ]
  },
  {
   "cell_type": "code",
   "execution_count": 17,
   "metadata": {},
   "outputs": [
    {
     "data": {
      "text/plain": [
       "count    14149.000000\n",
       "mean         1.757473\n",
       "std          0.713187\n",
       "min          0.020676\n",
       "25%          1.310800\n",
       "50%          1.745513\n",
       "75%          2.186790\n",
       "max          9.688980\n",
       "Name: rougher.output.tail_au, dtype: float64"
      ]
     },
     "execution_count": 17,
     "metadata": {},
     "output_type": "execute_result"
    }
   ],
   "source": [
    "df_train['rougher.output.tail_au'].describe()"
   ]
  },
  {
   "cell_type": "markdown",
   "metadata": {},
   "source": [
    "Напишем функцию для рассчета recovery"
   ]
  },
  {
   "cell_type": "code",
   "execution_count": 18,
   "metadata": {},
   "outputs": [],
   "source": [
    "def calc_recovery(c, f, t):\n",
    "    res = ((c*(f-t))/(f*(c-t)))*100\n",
    "    return res"
   ]
  },
  {
   "cell_type": "code",
   "execution_count": 19,
   "metadata": {},
   "outputs": [
    {
     "name": "stdout",
     "output_type": "stream",
     "text": [
      "Среднее значение recovery:82.70450164550293\n",
      "Среднее значение recovery, посчитанное нами:82.70450164550293\n",
      "MAE: 9.682896147825551e-15\n"
     ]
    }
   ],
   "source": [
    "c = df_train['rougher.output.concentrate_au']\n",
    "f = df_train['rougher.input.feed_au']\n",
    "t = df_train['rougher.output.tail_au']\n",
    "recovery_list = calc_recovery(c, f, t)\n",
    "print('Среднее значение recovery:{}'.format(df_train['rougher.output.recovery'].mean()))\n",
    "print('Среднее значение recovery, посчитанное нами:{}'.format(recovery_list.mean()))\n",
    "mae = mean_absolute_error(df_train['rougher.output.recovery'],recovery_list)\n",
    "print('MAE:', mae)"
   ]
  },
  {
   "cell_type": "markdown",
   "metadata": {},
   "source": [
    "MAE - практически 0"
   ]
  },
  {
   "cell_type": "markdown",
   "metadata": {},
   "source": [
    "### Проанализируем признаки, недоступные в тестовой выборке. Что это за параметры? К какому типу относятся?"
   ]
  },
  {
   "cell_type": "code",
   "execution_count": 20,
   "metadata": {},
   "outputs": [
    {
     "name": "stdout",
     "output_type": "stream",
     "text": [
      "Разность кол-ва столбцов:34\n"
     ]
    },
    {
     "data": {
      "text/plain": [
       "Index(['final.output.concentrate_ag', 'final.output.concentrate_au',\n",
       "       'final.output.concentrate_pb', 'final.output.concentrate_sol',\n",
       "       'final.output.recovery', 'final.output.tail_ag', 'final.output.tail_au',\n",
       "       'final.output.tail_pb', 'final.output.tail_sol',\n",
       "       'primary_cleaner.output.concentrate_ag',\n",
       "       'primary_cleaner.output.concentrate_au',\n",
       "       'primary_cleaner.output.concentrate_pb',\n",
       "       'primary_cleaner.output.concentrate_sol',\n",
       "       'primary_cleaner.output.tail_ag', 'primary_cleaner.output.tail_au',\n",
       "       'primary_cleaner.output.tail_pb', 'primary_cleaner.output.tail_sol',\n",
       "       'rougher.calculation.au_pb_ratio',\n",
       "       'rougher.calculation.floatbank10_sulfate_to_au_feed',\n",
       "       'rougher.calculation.floatbank11_sulfate_to_au_feed',\n",
       "       'rougher.calculation.sulfate_to_au_concentrate',\n",
       "       'rougher.output.concentrate_ag', 'rougher.output.concentrate_au',\n",
       "       'rougher.output.concentrate_pb', 'rougher.output.concentrate_sol',\n",
       "       'rougher.output.recovery', 'rougher.output.tail_ag',\n",
       "       'rougher.output.tail_au', 'rougher.output.tail_pb',\n",
       "       'rougher.output.tail_sol', 'secondary_cleaner.output.tail_ag',\n",
       "       'secondary_cleaner.output.tail_au', 'secondary_cleaner.output.tail_pb',\n",
       "       'secondary_cleaner.output.tail_sol'],\n",
       "      dtype='object')"
      ]
     },
     "execution_count": 20,
     "metadata": {},
     "output_type": "execute_result"
    }
   ],
   "source": [
    "cols = df_train.columns.difference(df_test.columns)\n",
    "print('Разность кол-ва столбцов:{}'.format(len(cols)))\n",
    "cols"
   ]
  },
  {
   "cell_type": "code",
   "execution_count": 21,
   "metadata": {},
   "outputs": [
    {
     "name": "stdout",
     "output_type": "stream",
     "text": [
      "Разность кол-ва столбцов:0\n"
     ]
    }
   ],
   "source": [
    "df_train = df_train[df_test.columns]\n",
    "cols = df_train.columns.difference(df_test.columns)\n",
    "print('Разность кол-ва столбцов:{}'.format(len(cols)))"
   ]
  },
  {
   "cell_type": "markdown",
   "metadata": {},
   "source": [
    "В тестовой выборке отсутствуют признаки final.output, primary_cleaner.output, rougher.output, secondary_cleaner.output.\n",
    "Данные относятся параметрам продукта, параметрам характеризующие текущее состояние этапа и расчетные характеристики."
   ]
  },
  {
   "cell_type": "markdown",
   "metadata": {},
   "source": [
    "### Вывод:\n",
    " - Данных очень много\n",
    " - Дублей и Nan значений нет\n",
    " - Структуру обучающей выборки привели к структуре тестовой выборки\n",
    " - Значение метрики МАЕ небольшое, рассчеты можно считать верными "
   ]
  },
  {
   "cell_type": "markdown",
   "metadata": {},
   "source": [
    "## Анализ данных"
   ]
  },
  {
   "cell_type": "markdown",
   "metadata": {},
   "source": [
    "### Посмотрим, как меняется концентрация металлов (Au, Ag, Pb) на различных этапах очистки. "
   ]
  },
  {
   "cell_type": "code",
   "execution_count": 22,
   "metadata": {},
   "outputs": [],
   "source": [
    "def show_plot(metal,title):\n",
    "    plt.figure(figsize=(8,5))\n",
    "    ax = sns.kdeplot(df['rougher.output.concentrate_'+metal], label='Флотация')\n",
    "    ax = sns.kdeplot(df['primary_cleaner.output.concentrate_'+metal], label='Первый этап очистки')\n",
    "    ax = sns.kdeplot(df['final.output.concentrate_'+metal], label='Второй этап очистки')\n",
    "    plt.legend()\n",
    "    ax.set(xlabel='Распределение концeнтрации -' + title, title='Изменение концентрации на каждом этапе очистки')\n",
    "    plt.show()"
   ]
  },
  {
   "cell_type": "code",
   "execution_count": 23,
   "metadata": {},
   "outputs": [
    {
     "data": {
      "image/png": "[encoded data removed]",
      "text/plain": [
       "<Figure size 576x360 with 1 Axes>"
      ]
     },
     "metadata": {
      "needs_background": "light"
     },
     "output_type": "display_data"
    }
   ],
   "source": [
    "show_plot('au','золото')"
   ]
  },
  {
   "cell_type": "code",
   "execution_count": 24,
   "metadata": {},
   "outputs": [
    {
     "data": {
      "image/png": "[encoded data removed]",
      "text/plain": [
       "<Figure size 576x360 with 1 Axes>"
      ]
     },
     "metadata": {
      "needs_background": "light"
     },
     "output_type": "display_data"
    }
   ],
   "source": [
    "show_plot('ag','серебро')"
   ]
  },
  {
   "cell_type": "code",
   "execution_count": 25,
   "metadata": {},
   "outputs": [
    {
     "data": {
      "image/png": "[encoded data removed]",
      "text/plain": [
       "<Figure size 576x360 with 1 Axes>"
      ]
     },
     "metadata": {
      "needs_background": "light"
     },
     "output_type": "display_data"
    }
   ],
   "source": [
    "show_plot('pb','свинец')"
   ]
  },
  {
   "cell_type": "markdown",
   "metadata": {},
   "source": [
    "По графикам видно,что технология очистки идеальна для золота, но для других металлов нужно что то менять технологию и подход."
   ]
  },
  {
   "cell_type": "markdown",
   "metadata": {},
   "source": [
    "### Сравним распределения размеров гранул сырья на обучающей и тестовой выборках. Если распределения сильно отличаются друг от друга, оценка модели будет неправильной."
   ]
  },
  {
   "cell_type": "code",
   "execution_count": 26,
   "metadata": {},
   "outputs": [
    {
     "data": {
      "image/png": "[encoded data removed]",
      "text/plain": [
       "<Figure size 576x360 with 1 Axes>"
      ]
     },
     "metadata": {
      "needs_background": "light"
     },
     "output_type": "display_data"
    }
   ],
   "source": [
    "plt.figure(figsize=(8,5))\n",
    "ax = sns.kdeplot(df_test['rougher.input.feed_size'], label='Тестовая выборка')\n",
    "ax = sns.kdeplot(df_train['rougher.input.feed_size'], label='Обучающая выборка')\n",
    "plt.show()"
   ]
  },
  {
   "cell_type": "markdown",
   "metadata": {},
   "source": [
    "Распределения идентичны, можно продолжать."
   ]
  },
  {
   "cell_type": "markdown",
   "metadata": {},
   "source": [
    "### Исследуем суммарную концентрацию всех веществ на разных стадиях: в сырье, в черновом и финальном концентратах."
   ]
  },
  {
   "cell_type": "code",
   "execution_count": 27,
   "metadata": {},
   "outputs": [
    {
     "data": {
      "image/png": "[encoded data removed]",
      "text/plain": [
       "<Figure size 576x360 with 1 Axes>"
      ]
     },
     "metadata": {
      "needs_background": "light"
     },
     "output_type": "display_data"
    }
   ],
   "source": [
    "plt.figure(figsize=(8,5))\n",
    "ax = sns.kdeplot(df['rougher.input.feed_ag']+df['rougher.input.feed_au']+df['rougher.input.feed_pb']+df['rougher.input.feed_sol'], label='В сырье')\n",
    "ax = sns.kdeplot(df['rougher.output.concentrate_ag']+df['rougher.output.concentrate_au']+df['rougher.output.concentrate_pb']+df['rougher.output.concentrate_sol'], label='В черновом концентрате')\n",
    "ax = sns.kdeplot(df['final.output.concentrate_ag']+df['final.output.concentrate_au']+df['final.output.concentrate_pb']+df['final.output.concentrate_sol'], label='В финальном концентрате')\n",
    "plt.legend()\n",
    "ax.set(xlabel='Суммарная концентрация всех веществ на разных стадиях')\n",
    "plt.show()"
   ]
  },
  {
   "cell_type": "markdown",
   "metadata": {},
   "source": [
    "Присутствует небольшой всплеск 0-ых значений в черновом концентрате."
   ]
  },
  {
   "cell_type": "code",
   "execution_count": 28,
   "metadata": {},
   "outputs": [],
   "source": [
    "def calc_sum(df):\n",
    "    df['materials_sum'] = df['rougher.input.feed_ag']+df['rougher.input.feed_au']+df['rougher.input.feed_pb']+df['rougher.input.feed_sol']\n",
    "    df['rough_concentrate_sum'] = df['rougher.output.concentrate_ag']+df['rougher.output.concentrate_au']+df['rougher.output.concentrate_pb']+df['rougher.output.concentrate_sol']\n",
    "    df['final_concentrate_sum'] = df['final.output.concentrate_ag']+df['final.output.concentrate_au']+df['final.output.concentrate_pb']+df['final.output.concentrate_sol']\n",
    "    col_list = ['materials_sum', 'rough_concentrate_sum', 'final_concentrate_sum']\n",
    "    df[col_list] = df[col_list].replace(0,np.nan)\n",
    "    df[col_list] = df[col_list].dropna(how='all', axis = 0)\n",
    "    return df"
   ]
  },
  {
   "cell_type": "code",
   "execution_count": 29,
   "metadata": {},
   "outputs": [
    {
     "data": {
      "image/png": "[encoded data removed]",
      "text/plain": [
       "<Figure size 576x360 with 1 Axes>"
      ]
     },
     "metadata": {
      "needs_background": "light"
     },
     "output_type": "display_data"
    }
   ],
   "source": [
    "df = calc_sum(df)\n",
    "plt.figure(figsize=(8,5))\n",
    "ax = sns.kdeplot(df['materials_sum'], label='В сырье')\n",
    "ax = sns.kdeplot(df['rough_concentrate_sum'], label='В черновом концентрате')\n",
    "ax = sns.kdeplot(df['final_concentrate_sum'], label='В финальном концентрате')\n",
    "plt.legend()\n",
    "ax.set(xlabel='Суммарная концентрация всех веществ на разных стадиях')\n",
    "plt.show()"
   ]
  },
  {
   "cell_type": "markdown",
   "metadata": {},
   "source": [
    "## Модель"
   ]
  },
  {
   "cell_type": "markdown",
   "metadata": {},
   "source": [
    "### Напишим функцию для вычисления итоговой sMAPE."
   ]
  },
  {
   "cell_type": "code",
   "execution_count": 30,
   "metadata": {},
   "outputs": [],
   "source": [
    "def smape(target, pred):\n",
    "    return ((1/len(target)) * np.sum(2 * np.abs(target - pred) / (np.abs(target) + np.abs(pred)))) * 100"
   ]
  },
  {
   "cell_type": "markdown",
   "metadata": {},
   "source": [
    "### Обучим разные модели и оценим их качество кросс-валидацией. Выберем лучшую модель и проверим её на тестовой выборке. "
   ]
  },
  {
   "cell_type": "markdown",
   "metadata": {},
   "source": [
    "- Модели, которые будем использовать: Lasso, RandomForest, LinearRegression\n",
    "- Методом GridsearchCV переберем параметры, чтобы найти лучшие.\n",
    "- Выберем наилучшую модель."
   ]
  },
  {
   "cell_type": "markdown",
   "metadata": {},
   "source": [
    "<h4>Определяем признаки и гиперпараметры для моделей</h4>"
   ]
  },
  {
   "cell_type": "code",
   "execution_count": 31,
   "metadata": {},
   "outputs": [],
   "source": [
    "features_train = df_train.copy()\n",
    "features_test = df_test.copy()\n",
    "\n",
    "df = df.set_index('date')\n",
    "features_test = features_test.set_index('date')\n",
    "features_train = features_train.set_index('date')\n",
    "\n",
    "target_train_rougher = df.loc[features_train.index, 'rougher.output.recovery']\n",
    "target_test_rougher = df.loc[features_test.index, 'rougher.output.recovery']\n",
    "\n",
    "target_train_final = df.loc[features_train.index, 'final.output.recovery']\n",
    "target_test_final = df.loc[features_test.index, 'final.output.recovery']\n",
    "\n",
    "#df_test.drop(['date'], axis = 1, inplace = True)\n",
    "#df_train.drop(['date'], axis = 1, inplace = True)"
   ]
  },
  {
   "cell_type": "code",
   "execution_count": 32,
   "metadata": {},
   "outputs": [
    {
     "data": {
      "text/plain": [
       "((14149, 52), (5290, 52))"
      ]
     },
     "execution_count": 32,
     "metadata": {},
     "output_type": "execute_result"
    }
   ],
   "source": [
    "features_train.shape, features_test.shape"
   ]
  },
  {
   "cell_type": "markdown",
   "metadata": {},
   "source": []
  },
  {
   "cell_type": "code",
   "execution_count": 33,
   "metadata": {},
   "outputs": [],
   "source": [
    "state = RandomState(12345)\n",
    "\n",
    "pipe = Pipeline([\n",
    "    ('imp', SimpleImputer(missing_values=np.nan)),\n",
    "    ('scaler', StandardScaler()),\n",
    "    ('model', RandomForestRegressor(n_estimators=100, random_state=state))\n",
    "])\n",
    "\n",
    "params = [\n",
    "    {\n",
    "        'imp__strategy': ['mean', 'median'],\n",
    "        'model': [RandomForestRegressor(n_estimators=10, random_state=state)],\n",
    "        'model__max_features': np.linspace(0.1, 1, 10)\n",
    "    }, {\n",
    "        'imp__strategy': ['mean', 'median'],\n",
    "        'model': [LinearRegression()]\n",
    "    }, {\n",
    "        'imp__strategy': ['mean', 'median'],\n",
    "        'model': [linear_model.Lasso(random_state=state)],\n",
    "        'model__alpha': np.logspace(-3, 1, 10)\n",
    "    }\n",
    "]"
   ]
  },
  {
   "cell_type": "code",
   "execution_count": 34,
   "metadata": {},
   "outputs": [],
   "source": [
    "smape_score = make_scorer(smape, greater_is_better=False)"
   ]
  },
  {
   "cell_type": "code",
   "execution_count": 35,
   "metadata": {},
   "outputs": [],
   "source": [
    "cv = KFold(n_splits=5, shuffle=False)\n",
    "grid_rougher = GridSearchCV(pipe, param_grid=params, cv=cv, n_jobs=-1, scoring=smape_score)"
   ]
  },
  {
   "cell_type": "markdown",
   "metadata": {},
   "source": [
    "#### Подбираем параметры и считаем sMAPE для rougher"
   ]
  },
  {
   "cell_type": "code",
   "execution_count": 36,
   "metadata": {
    "scrolled": false
   },
   "outputs": [
    {
     "data": {
      "text/plain": [
       "GridSearchCV(cv=KFold(n_splits=5, random_state=None, shuffle=False),\n",
       "             error_score='raise-deprecating',\n",
       "             estimator=Pipeline(memory=None,\n",
       "                                steps=[('imp',\n",
       "                                        SimpleImputer(add_indicator=False,\n",
       "                                                      copy=True,\n",
       "                                                      fill_value=None,\n",
       "                                                      missing_values=nan,\n",
       "                                                      strategy='mean',\n",
       "                                                      verbose=0)),\n",
       "                                       ('scaler',\n",
       "                                        StandardScaler(copy=True,\n",
       "                                                       with_mean=True,\n",
       "                                                       with_std=True)),\n",
       "                                       ('model',\n",
       "                                        RandomForestRegressor(boo...\n",
       "                                          random_state=RandomState(MT19937) at 0x7F2E5C76DC00,\n",
       "                                          selection='cyclic', tol=0.0001,\n",
       "                                          warm_start=False)],\n",
       "                          'model__alpha': array([1.00000000e-03, 2.78255940e-03, 7.74263683e-03, 2.15443469e-02,\n",
       "       5.99484250e-02, 1.66810054e-01, 4.64158883e-01, 1.29154967e+00,\n",
       "       3.59381366e+00, 1.00000000e+01])}],\n",
       "             pre_dispatch='2*n_jobs', refit=True, return_train_score=False,\n",
       "             scoring=make_scorer(smape, greater_is_better=False), verbose=0)"
      ]
     },
     "execution_count": 36,
     "metadata": {},
     "output_type": "execute_result"
    }
   ],
   "source": [
    "grid_rougher.fit(features_train, target_train_rougher)"
   ]
  },
  {
   "cell_type": "code",
   "execution_count": 37,
   "metadata": {},
   "outputs": [
    {
     "name": "stdout",
     "output_type": "stream",
     "text": [
      "Лучшие параметры: {'imp__strategy': 'median', 'model': Lasso(alpha=1.2915496650148828, copy_X=True, fit_intercept=True, max_iter=1000,\n",
      "      normalize=False, positive=False, precompute=False,\n",
      "      random_state=RandomState(MT19937) at 0x7F2E5C76DC00, selection='cyclic',\n",
      "      tol=0.0001, warm_start=False), 'model__alpha': 1.2915496650148828}\n",
      "Лучшее значение метрики sMAPE: 11.161478777613548\n"
     ]
    }
   ],
   "source": [
    "print('Лучшие параметры:', grid_rougher.best_params_)\n",
    "print('Лучшее значение метрики sMAPE:', -grid_rougher.best_score_)"
   ]
  },
  {
   "cell_type": "markdown",
   "metadata": {},
   "source": [
    "#### Подбираем параметры и считаем sMAPE для final"
   ]
  },
  {
   "cell_type": "code",
   "execution_count": 38,
   "metadata": {},
   "outputs": [],
   "source": [
    "grid_final = GridSearchCV(pipe, param_grid=params, cv=cv, n_jobs=-1,scoring=smape_score)"
   ]
  },
  {
   "cell_type": "code",
   "execution_count": 39,
   "metadata": {},
   "outputs": [
    {
     "data": {
      "text/plain": [
       "GridSearchCV(cv=KFold(n_splits=5, random_state=None, shuffle=False),\n",
       "             error_score='raise-deprecating',\n",
       "             estimator=Pipeline(memory=None,\n",
       "                                steps=[('imp',\n",
       "                                        SimpleImputer(add_indicator=False,\n",
       "                                                      copy=True,\n",
       "                                                      fill_value=None,\n",
       "                                                      missing_values=nan,\n",
       "                                                      strategy='mean',\n",
       "                                                      verbose=0)),\n",
       "                                       ('scaler',\n",
       "                                        StandardScaler(copy=True,\n",
       "                                                       with_mean=True,\n",
       "                                                       with_std=True)),\n",
       "                                       ('model',\n",
       "                                        RandomForestRegressor(boo...\n",
       "                                          random_state=RandomState(MT19937) at 0x7F2E5C76DC00,\n",
       "                                          selection='cyclic', tol=0.0001,\n",
       "                                          warm_start=False)],\n",
       "                          'model__alpha': array([1.00000000e-03, 2.78255940e-03, 7.74263683e-03, 2.15443469e-02,\n",
       "       5.99484250e-02, 1.66810054e-01, 4.64158883e-01, 1.29154967e+00,\n",
       "       3.59381366e+00, 1.00000000e+01])}],\n",
       "             pre_dispatch='2*n_jobs', refit=True, return_train_score=False,\n",
       "             scoring=make_scorer(smape, greater_is_better=False), verbose=0)"
      ]
     },
     "execution_count": 39,
     "metadata": {},
     "output_type": "execute_result"
    }
   ],
   "source": [
    "grid_final.fit(features_train, target_train_final)"
   ]
  },
  {
   "cell_type": "code",
   "execution_count": 40,
   "metadata": {},
   "outputs": [
    {
     "name": "stdout",
     "output_type": "stream",
     "text": [
      "Лучшие параметры: {'imp__strategy': 'mean', 'model': Lasso(alpha=0.46415888336127775, copy_X=True, fit_intercept=True, max_iter=1000,\n",
      "      normalize=False, positive=False, precompute=False,\n",
      "      random_state=RandomState(MT19937) at 0x7F2E5C76DC00, selection='cyclic',\n",
      "      tol=0.0001, warm_start=False), 'model__alpha': 0.46415888336127775}\n",
      "Лучшее значение метрики sMAPE: 10.183106436125348\n"
     ]
    }
   ],
   "source": [
    "print('Лучшие параметры:', grid_final.best_params_)\n",
    "print('Лучшее значение метрики sMAPE:', -grid_final.best_score_)"
   ]
  },
  {
   "cell_type": "markdown",
   "metadata": {},
   "source": [
    "#### Обучим модели и сохраним значение метрики sMAPE"
   ]
  },
  {
   "cell_type": "code",
   "execution_count": 41,
   "metadata": {},
   "outputs": [
    {
     "data": {
      "text/plain": [
       "8.7125758311353"
      ]
     },
     "execution_count": 41,
     "metadata": {},
     "output_type": "execute_result"
    }
   ],
   "source": [
    "pipe_rougher = grid_rougher.best_estimator_\n",
    "\n",
    "pipe_rougher.fit(features_train, target_train_rougher)\n",
    "pred = pipe_rougher.predict(features_test)\n",
    "\n",
    "smape_rougher = smape(df.loc[features_test.index, 'rougher.output.recovery'], pred)\n",
    "smape_rougher"
   ]
  },
  {
   "cell_type": "code",
   "execution_count": 42,
   "metadata": {},
   "outputs": [
    {
     "data": {
      "text/plain": [
       "8.95461077940865"
      ]
     },
     "execution_count": 42,
     "metadata": {},
     "output_type": "execute_result"
    }
   ],
   "source": [
    "pipe_final = grid_final.best_estimator_\n",
    "    \n",
    "pipe_final.fit(features_train, target_train_final)\n",
    "pred_final = pipe_final.predict(features_test)\n",
    "\n",
    "smape_final = smape(df.loc[features_test.index, 'final.output.recovery'],pred_final)\n",
    "smape_final"
   ]
  },
  {
   "cell_type": "markdown",
   "metadata": {},
   "source": [
    "#### Посчитаем итоговое значение:"
   ]
  },
  {
   "cell_type": "code",
   "execution_count": 43,
   "metadata": {},
   "outputs": [
    {
     "data": {
      "text/plain": [
       "8.894102042340313"
      ]
     },
     "execution_count": 43,
     "metadata": {},
     "output_type": "execute_result"
    }
   ],
   "source": [
    "final_smape = 0.25*smape_rougher + 0.75*smape_final\n",
    "final_smape"
   ]
  },
  {
   "cell_type": "markdown",
   "metadata": {},
   "source": [
    "#### Константная модель:"
   ]
  },
  {
   "cell_type": "code",
   "execution_count": 61,
   "metadata": {},
   "outputs": [
    {
     "name": "stdout",
     "output_type": "stream",
     "text": [
      "[82.70450165 82.70450165 82.70450165 ... 82.70450165 82.70450165\n",
      " 82.70450165]\n"
     ]
    },
    {
     "data": {
      "text/plain": [
       "9.8770120407514"
      ]
     },
     "execution_count": 61,
     "metadata": {},
     "output_type": "execute_result"
    }
   ],
   "source": [
    "model = DummyRegressor(strategy='mean')\n",
    "model.fit(features_train, target_train_rougher)\n",
    "predictions_test = model.predict(features_test)\n",
    "dummy_smape_rougher = smape(df.loc[features_test.index, 'rougher.output.recovery'], predictions_test)\n",
    "\n",
    "model.fit(features_train, target_train_final)\n",
    "predictions_test = model.predict(features_test)\n",
    "dummy_smape_final = smape(df.loc[features_test.index, 'final.output.recovery'],predictions_test)\n",
    "dummy_final_smape = 0.25*smape_rougher + 0.75*smape_final\n",
    "dummy_final_smape"
   ]
  },
  {
   "cell_type": "markdown",
   "metadata": {},
   "source": [
    "## Вывод:\n",
    "- Спрогнозированная итоговая эффективность обогащения - 8.89%\n",
    "- Наша модель предсказывает лучше константной модели, которая дает средние значения"
   ]
  },
  {
   "cell_type": "markdown",
   "metadata": {},
   "source": [
    "## Чек-лист готовности проекта"
   ]
  },
  {
   "cell_type": "markdown",
   "metadata": {},
   "source": [
    "- [x]  Jupyter Notebook открыт\n",
    "- [x]  Весь код выполняется без ошибок\n",
    "- [x]  Ячейки с кодом расположены в порядке выполнения\n",
    "- [x]  Выполнен шаг 1: данные подготовлены\n",
    "    - [x]  Проверена формула вычисления эффективности обогащения\n",
    "    - [x]  Проанализированы признаки, недоступные в тестовой выборке\n",
    "    - [x]  Проведена предобработка данных\n",
    "- [x]  Выполнен шаг 2: данные проанализированы\n",
    "    - [x]  Исследовано изменение концентрации элементов на каждом этапе\n",
    "    - [x]  Проанализированы распределения размеров гранул на обучающей и тестовой выборках\n",
    "    - [x]  Исследованы суммарные концентрации\n",
    "- [x]  Выполнен шаг 3: построена модель прогнозирования\n",
    "    - [x]  Написана функция для вычисления итогового *sMAPE*\n",
    "    - [x]  Обучено и проверено несколько моделей\n",
    "    - [x]  Выбрана лучшая модель, её качество проверено на тестовой выборке"
   ]
  }
 ],
 "metadata": {
  "ExecuteTimeLog": [
   {
    "duration": 772,
    "start_time": "2021-12-07T04:04:40.326Z"
   },
   {
    "duration": 596,
    "start_time": "2021-12-07T04:09:15.967Z"
   },
   {
    "duration": 1362,
    "start_time": "2021-12-07T04:10:16.575Z"
   },
   {
    "duration": 34993,
    "start_time": "2021-12-07T04:09:42.947Z"
   },
   {
    "duration": 34992,
    "start_time": "2021-12-07T04:09:42.950Z"
   },
   {
    "duration": 341,
    "start_time": "2021-12-07T04:10:47.222Z"
   },
   {
    "duration": 4211,
    "start_time": "2021-12-07T04:11:40.366Z"
   },
   {
    "duration": 5,
    "start_time": "2021-12-07T04:11:44.582Z"
   },
   {
    "duration": 934,
    "start_time": "2021-12-07T04:11:44.590Z"
   },
   {
    "duration": 419,
    "start_time": "2021-12-07T04:11:45.527Z"
   },
   {
    "duration": 6,
    "start_time": "2021-12-07T04:12:22.673Z"
   },
   {
    "duration": 651,
    "start_time": "2021-12-07T04:20:25.757Z"
   },
   {
    "duration": 883,
    "start_time": "2021-12-07T04:20:26.411Z"
   },
   {
    "duration": 7595,
    "start_time": "2021-12-07T04:21:53.796Z"
   },
   {
    "duration": 3780,
    "start_time": "2021-12-07T04:22:01.394Z"
   },
   {
    "duration": 3,
    "start_time": "2021-12-07T04:22:05.177Z"
   },
   {
    "duration": 873,
    "start_time": "2021-12-07T04:22:05.182Z"
   },
   {
    "duration": 529,
    "start_time": "2021-12-07T04:22:06.057Z"
   },
   {
    "duration": 4,
    "start_time": "2021-12-07T04:23:00.988Z"
   },
   {
    "duration": 313,
    "start_time": "2021-12-07T04:23:03.176Z"
   },
   {
    "duration": 413,
    "start_time": "2021-12-07T04:23:18.071Z"
   },
   {
    "duration": 5,
    "start_time": "2021-12-07T04:23:40.840Z"
   },
   {
    "duration": 354,
    "start_time": "2021-12-07T04:33:49.625Z"
   },
   {
    "duration": 658,
    "start_time": "2021-12-07T04:33:53.533Z"
   },
   {
    "duration": 910,
    "start_time": "2021-12-07T04:33:54.194Z"
   },
   {
    "duration": 29,
    "start_time": "2021-12-07T04:33:55.107Z"
   },
   {
    "duration": 18,
    "start_time": "2021-12-07T04:34:55.607Z"
   },
   {
    "duration": 23,
    "start_time": "2021-12-07T04:35:10.211Z"
   },
   {
    "duration": 339,
    "start_time": "2021-12-07T04:36:47.532Z"
   },
   {
    "duration": 13,
    "start_time": "2021-12-07T04:37:01.496Z"
   },
   {
    "duration": 5,
    "start_time": "2021-12-07T04:37:13.168Z"
   },
   {
    "duration": 5,
    "start_time": "2021-12-07T04:37:19.053Z"
   },
   {
    "duration": 6,
    "start_time": "2021-12-07T04:39:20.494Z"
   },
   {
    "duration": 47,
    "start_time": "2021-12-07T04:40:41.331Z"
   },
   {
    "duration": 426,
    "start_time": "2021-12-07T04:41:11.299Z"
   },
   {
    "duration": 28,
    "start_time": "2021-12-07T04:41:23.191Z"
   },
   {
    "duration": 35,
    "start_time": "2021-12-07T04:41:30.399Z"
   },
   {
    "duration": 35,
    "start_time": "2021-12-07T04:41:50.339Z"
   },
   {
    "duration": 34,
    "start_time": "2021-12-07T04:42:03.028Z"
   },
   {
    "duration": 19,
    "start_time": "2021-12-07T04:42:42.121Z"
   },
   {
    "duration": 15,
    "start_time": "2021-12-07T04:43:21.154Z"
   },
   {
    "duration": 18,
    "start_time": "2021-12-07T04:43:47.677Z"
   },
   {
    "duration": 331,
    "start_time": "2021-12-07T05:16:09.646Z"
   },
   {
    "duration": 332,
    "start_time": "2021-12-07T05:16:27.395Z"
   },
   {
    "duration": 351,
    "start_time": "2021-12-07T05:17:07.907Z"
   },
   {
    "duration": 180,
    "start_time": "2021-12-07T05:17:24.887Z"
   },
   {
    "duration": 312,
    "start_time": "2021-12-07T05:17:38.558Z"
   },
   {
    "duration": 7,
    "start_time": "2021-12-07T05:26:56.681Z"
   },
   {
    "duration": 12,
    "start_time": "2021-12-07T05:27:07.790Z"
   },
   {
    "duration": 10,
    "start_time": "2021-12-07T05:27:42.269Z"
   },
   {
    "duration": 817,
    "start_time": "2021-12-07T05:32:49.590Z"
   },
   {
    "duration": 1430,
    "start_time": "2021-12-07T05:32:50.410Z"
   },
   {
    "duration": 6,
    "start_time": "2021-12-07T05:32:51.845Z"
   },
   {
    "duration": 75,
    "start_time": "2021-12-07T05:32:51.855Z"
   },
   {
    "duration": 53,
    "start_time": "2021-12-07T05:32:51.934Z"
   },
   {
    "duration": 66,
    "start_time": "2021-12-07T05:32:51.990Z"
   },
   {
    "duration": 45,
    "start_time": "2021-12-07T05:32:52.059Z"
   },
   {
    "duration": 28,
    "start_time": "2021-12-07T05:32:52.106Z"
   },
   {
    "duration": 30,
    "start_time": "2021-12-07T05:32:52.138Z"
   },
   {
    "duration": 374,
    "start_time": "2021-12-07T05:32:52.171Z"
   },
   {
    "duration": 342,
    "start_time": "2021-12-07T05:32:52.548Z"
   },
   {
    "duration": 191,
    "start_time": "2021-12-07T05:32:52.893Z"
   },
   {
    "duration": 330,
    "start_time": "2021-12-07T05:32:53.087Z"
   },
   {
    "duration": 10,
    "start_time": "2021-12-07T05:32:53.419Z"
   },
   {
    "duration": 4,
    "start_time": "2021-12-07T05:32:53.431Z"
   },
   {
    "duration": 8,
    "start_time": "2021-12-07T05:32:53.437Z"
   },
   {
    "duration": 9,
    "start_time": "2021-12-07T05:33:47.538Z"
   },
   {
    "duration": 9,
    "start_time": "2021-12-07T05:36:21.852Z"
   },
   {
    "duration": 3,
    "start_time": "2021-12-07T05:37:31.800Z"
   },
   {
    "duration": 9,
    "start_time": "2021-12-07T05:37:33.809Z"
   },
   {
    "duration": 3,
    "start_time": "2021-12-07T05:37:42.367Z"
   },
   {
    "duration": 896,
    "start_time": "2021-12-07T05:37:42.373Z"
   },
   {
    "duration": 4,
    "start_time": "2021-12-07T05:37:43.272Z"
   },
   {
    "duration": 54,
    "start_time": "2021-12-07T05:37:43.279Z"
   },
   {
    "duration": 34,
    "start_time": "2021-12-07T05:37:43.336Z"
   },
   {
    "duration": 55,
    "start_time": "2021-12-07T05:37:43.373Z"
   },
   {
    "duration": 25,
    "start_time": "2021-12-07T05:37:43.431Z"
   },
   {
    "duration": 18,
    "start_time": "2021-12-07T05:37:43.460Z"
   },
   {
    "duration": 57,
    "start_time": "2021-12-07T05:37:43.481Z"
   },
   {
    "duration": 348,
    "start_time": "2021-12-07T05:37:43.540Z"
   },
   {
    "duration": 368,
    "start_time": "2021-12-07T05:37:43.891Z"
   },
   {
    "duration": 196,
    "start_time": "2021-12-07T05:37:44.262Z"
   },
   {
    "duration": 323,
    "start_time": "2021-12-07T05:37:44.461Z"
   },
   {
    "duration": 10,
    "start_time": "2021-12-07T05:37:44.786Z"
   },
   {
    "duration": 19,
    "start_time": "2021-12-07T05:37:44.798Z"
   },
   {
    "duration": 9,
    "start_time": "2021-12-07T05:37:44.819Z"
   },
   {
    "duration": 9,
    "start_time": "2021-12-07T05:39:00.493Z"
   },
   {
    "duration": 12,
    "start_time": "2021-12-07T05:39:11.753Z"
   },
   {
    "duration": 4,
    "start_time": "2021-12-07T05:39:16.782Z"
   },
   {
    "duration": 910,
    "start_time": "2021-12-07T05:39:16.790Z"
   },
   {
    "duration": 4,
    "start_time": "2021-12-07T05:39:17.703Z"
   },
   {
    "duration": 45,
    "start_time": "2021-12-07T05:39:17.718Z"
   },
   {
    "duration": 54,
    "start_time": "2021-12-07T05:39:17.766Z"
   },
   {
    "duration": 36,
    "start_time": "2021-12-07T05:39:17.822Z"
   },
   {
    "duration": 27,
    "start_time": "2021-12-07T05:39:17.860Z"
   },
   {
    "duration": 20,
    "start_time": "2021-12-07T05:39:17.920Z"
   },
   {
    "duration": 26,
    "start_time": "2021-12-07T05:39:17.943Z"
   },
   {
    "duration": 366,
    "start_time": "2021-12-07T05:39:17.972Z"
   },
   {
    "duration": 353,
    "start_time": "2021-12-07T05:39:18.341Z"
   },
   {
    "duration": 199,
    "start_time": "2021-12-07T05:39:18.697Z"
   },
   {
    "duration": 331,
    "start_time": "2021-12-07T05:39:18.899Z"
   },
   {
    "duration": 9,
    "start_time": "2021-12-07T05:39:19.232Z"
   },
   {
    "duration": 4,
    "start_time": "2021-12-07T05:39:19.243Z"
   },
   {
    "duration": 10,
    "start_time": "2021-12-07T05:39:19.249Z"
   },
   {
    "duration": 10,
    "start_time": "2021-12-07T05:51:21.734Z"
   },
   {
    "duration": 8,
    "start_time": "2021-12-07T05:51:34.142Z"
   },
   {
    "duration": 9,
    "start_time": "2021-12-07T05:51:42.750Z"
   },
   {
    "duration": 8,
    "start_time": "2021-12-07T05:51:48.746Z"
   },
   {
    "duration": 6,
    "start_time": "2021-12-07T05:51:55.527Z"
   },
   {
    "duration": 6,
    "start_time": "2021-12-07T05:52:00.554Z"
   },
   {
    "duration": 6,
    "start_time": "2021-12-07T05:52:08.281Z"
   },
   {
    "duration": 6,
    "start_time": "2021-12-07T06:06:21.344Z"
   },
   {
    "duration": 7,
    "start_time": "2021-12-07T06:06:27.952Z"
   },
   {
    "duration": 5,
    "start_time": "2021-12-07T06:06:33.120Z"
   },
   {
    "duration": 6,
    "start_time": "2021-12-07T06:15:49.902Z"
   },
   {
    "duration": 132,
    "start_time": "2021-12-07T06:16:18.586Z"
   },
   {
    "duration": 5,
    "start_time": "2021-12-07T06:16:25.007Z"
   },
   {
    "duration": 10,
    "start_time": "2021-12-07T06:17:31.747Z"
   },
   {
    "duration": 9,
    "start_time": "2021-12-07T06:17:41.087Z"
   },
   {
    "duration": 4,
    "start_time": "2021-12-07T06:20:55.681Z"
   },
   {
    "duration": 1085,
    "start_time": "2021-12-07T06:20:55.689Z"
   },
   {
    "duration": 5,
    "start_time": "2021-12-07T06:20:56.777Z"
   },
   {
    "duration": 57,
    "start_time": "2021-12-07T06:20:56.785Z"
   },
   {
    "duration": 35,
    "start_time": "2021-12-07T06:20:56.845Z"
   },
   {
    "duration": 52,
    "start_time": "2021-12-07T06:20:56.883Z"
   },
   {
    "duration": 25,
    "start_time": "2021-12-07T06:20:56.937Z"
   },
   {
    "duration": 53,
    "start_time": "2021-12-07T06:20:56.966Z"
   },
   {
    "duration": 24,
    "start_time": "2021-12-07T06:20:57.022Z"
   },
   {
    "duration": 350,
    "start_time": "2021-12-07T06:20:57.049Z"
   },
   {
    "duration": 392,
    "start_time": "2021-12-07T06:20:57.401Z"
   },
   {
    "duration": 193,
    "start_time": "2021-12-07T06:20:57.795Z"
   },
   {
    "duration": 316,
    "start_time": "2021-12-07T06:20:57.990Z"
   },
   {
    "duration": 9,
    "start_time": "2021-12-07T06:20:58.308Z"
   },
   {
    "duration": 4,
    "start_time": "2021-12-07T06:20:58.319Z"
   },
   {
    "duration": 8,
    "start_time": "2021-12-07T06:20:58.326Z"
   },
   {
    "duration": 10,
    "start_time": "2021-12-07T06:20:58.336Z"
   },
   {
    "duration": 9,
    "start_time": "2021-12-07T06:23:35.159Z"
   },
   {
    "duration": 1914,
    "start_time": "2021-12-07T10:45:58.483Z"
   },
   {
    "duration": 100,
    "start_time": "2021-12-07T12:10:38.526Z"
   },
   {
    "duration": 5,
    "start_time": "2021-12-07T12:10:45.791Z"
   },
   {
    "duration": 1664,
    "start_time": "2021-12-07T12:10:47.800Z"
   },
   {
    "duration": 5,
    "start_time": "2021-12-07T12:11:21.305Z"
   },
   {
    "duration": 1809,
    "start_time": "2021-12-07T12:11:24.518Z"
   },
   {
    "duration": 5,
    "start_time": "2021-12-07T12:12:33.854Z"
   },
   {
    "duration": 1068,
    "start_time": "2021-12-07T12:12:35.498Z"
   },
   {
    "duration": 5,
    "start_time": "2021-12-07T12:15:09.923Z"
   },
   {
    "duration": 1988,
    "start_time": "2021-12-07T12:15:11.715Z"
   },
   {
    "duration": 5,
    "start_time": "2021-12-07T12:15:53.459Z"
   },
   {
    "duration": 1858,
    "start_time": "2021-12-07T12:15:55.210Z"
   },
   {
    "duration": 5,
    "start_time": "2021-12-07T12:16:19.442Z"
   },
   {
    "duration": 6,
    "start_time": "2021-12-07T12:16:21.804Z"
   },
   {
    "duration": 1715,
    "start_time": "2021-12-07T12:16:23.057Z"
   },
   {
    "duration": 1260,
    "start_time": "2021-12-07T12:16:58.558Z"
   },
   {
    "duration": 1281,
    "start_time": "2021-12-07T12:17:39.770Z"
   },
   {
    "duration": 1739,
    "start_time": "2021-12-07T12:20:24.738Z"
   },
   {
    "duration": 1888,
    "start_time": "2021-12-07T12:23:05.106Z"
   },
   {
    "duration": 5,
    "start_time": "2021-12-07T12:25:32.251Z"
   },
   {
    "duration": 661,
    "start_time": "2021-12-07T12:25:33.751Z"
   },
   {
    "duration": 7,
    "start_time": "2021-12-07T12:25:54.502Z"
   },
   {
    "duration": 5,
    "start_time": "2021-12-07T12:25:57.368Z"
   },
   {
    "duration": 1805,
    "start_time": "2021-12-07T12:25:59.498Z"
   },
   {
    "duration": 5,
    "start_time": "2021-12-07T12:30:01.968Z"
   },
   {
    "duration": 1996,
    "start_time": "2021-12-07T12:30:03.113Z"
   },
   {
    "duration": 1771,
    "start_time": "2021-12-07T12:30:27.303Z"
   },
   {
    "duration": 6,
    "start_time": "2021-12-07T12:32:15.940Z"
   },
   {
    "duration": 1650,
    "start_time": "2021-12-07T12:32:18.667Z"
   },
   {
    "duration": 7,
    "start_time": "2021-12-07T12:33:12.242Z"
   },
   {
    "duration": 3366,
    "start_time": "2021-12-07T12:33:14.255Z"
   },
   {
    "duration": 6,
    "start_time": "2021-12-07T12:33:55.771Z"
   },
   {
    "duration": 1767,
    "start_time": "2021-12-07T12:33:59.324Z"
   },
   {
    "duration": 1909,
    "start_time": "2021-12-07T12:35:06.082Z"
   },
   {
    "duration": 1838,
    "start_time": "2021-12-07T12:35:24.562Z"
   },
   {
    "duration": 6,
    "start_time": "2021-12-07T12:35:45.273Z"
   },
   {
    "duration": 2420,
    "start_time": "2021-12-07T12:35:46.446Z"
   },
   {
    "duration": 6,
    "start_time": "2021-12-07T12:36:58.267Z"
   },
   {
    "duration": 2156,
    "start_time": "2021-12-07T12:37:04.039Z"
   },
   {
    "duration": 6,
    "start_time": "2021-12-07T12:38:35.704Z"
   },
   {
    "duration": 3545,
    "start_time": "2021-12-07T12:38:36.176Z"
   },
   {
    "duration": 6,
    "start_time": "2021-12-07T12:39:18.200Z"
   },
   {
    "duration": 673,
    "start_time": "2021-12-07T12:39:21.070Z"
   },
   {
    "duration": 6,
    "start_time": "2021-12-07T12:39:45.145Z"
   },
   {
    "duration": 3132,
    "start_time": "2021-12-07T12:39:46.992Z"
   },
   {
    "duration": 5,
    "start_time": "2021-12-07T12:42:06.963Z"
   },
   {
    "duration": 658,
    "start_time": "2021-12-07T12:42:07.454Z"
   },
   {
    "duration": 6,
    "start_time": "2021-12-07T12:42:37.163Z"
   },
   {
    "duration": 615,
    "start_time": "2021-12-07T12:42:39.159Z"
   },
   {
    "duration": 6,
    "start_time": "2021-12-07T12:42:53.271Z"
   },
   {
    "duration": 1275,
    "start_time": "2021-12-07T12:42:54.310Z"
   },
   {
    "duration": 6,
    "start_time": "2021-12-07T12:43:07.955Z"
   },
   {
    "duration": 2938,
    "start_time": "2021-12-07T12:43:09.771Z"
   },
   {
    "duration": 6,
    "start_time": "2021-12-07T12:43:22.528Z"
   },
   {
    "duration": 2489,
    "start_time": "2021-12-07T12:43:23.792Z"
   },
   {
    "duration": 8,
    "start_time": "2021-12-07T12:44:21.849Z"
   },
   {
    "duration": 2645,
    "start_time": "2021-12-07T12:44:24.304Z"
   },
   {
    "duration": 6,
    "start_time": "2021-12-07T12:45:30.089Z"
   },
   {
    "duration": 2178,
    "start_time": "2021-12-07T12:45:31.640Z"
   },
   {
    "duration": 5,
    "start_time": "2021-12-07T12:48:04.471Z"
   },
   {
    "duration": 1204,
    "start_time": "2021-12-07T12:48:06.394Z"
   },
   {
    "duration": 1204,
    "start_time": "2021-12-07T12:48:14.786Z"
   },
   {
    "duration": 1241,
    "start_time": "2021-12-07T12:48:21.158Z"
   },
   {
    "duration": 668,
    "start_time": "2021-12-07T12:48:33.936Z"
   },
   {
    "duration": 675,
    "start_time": "2021-12-07T12:48:48.228Z"
   },
   {
    "duration": 541,
    "start_time": "2021-12-07T13:18:26.067Z"
   },
   {
    "duration": 1654,
    "start_time": "2021-12-07T13:23:15.168Z"
   },
   {
    "duration": 1223,
    "start_time": "2021-12-07T13:29:07.862Z"
   },
   {
    "duration": 4,
    "start_time": "2021-12-07T13:33:23.325Z"
   },
   {
    "duration": 218,
    "start_time": "2021-12-11T05:13:31.317Z"
   },
   {
    "duration": 1157,
    "start_time": "2021-12-11T05:13:34.540Z"
   },
   {
    "duration": 745,
    "start_time": "2021-12-11T05:13:35.700Z"
   },
   {
    "duration": 4,
    "start_time": "2021-12-11T05:13:36.447Z"
   },
   {
    "duration": 40,
    "start_time": "2021-12-11T05:13:36.453Z"
   },
   {
    "duration": 22,
    "start_time": "2021-12-11T05:13:36.494Z"
   },
   {
    "duration": 23,
    "start_time": "2021-12-11T05:13:36.518Z"
   },
   {
    "duration": 17,
    "start_time": "2021-12-11T05:13:36.542Z"
   },
   {
    "duration": 40,
    "start_time": "2021-12-11T05:13:36.560Z"
   },
   {
    "duration": 15,
    "start_time": "2021-12-11T05:13:36.602Z"
   },
   {
    "duration": 229,
    "start_time": "2021-12-11T05:13:36.619Z"
   },
   {
    "duration": 263,
    "start_time": "2021-12-11T05:13:36.850Z"
   },
   {
    "duration": 141,
    "start_time": "2021-12-11T05:13:37.114Z"
   },
   {
    "duration": 232,
    "start_time": "2021-12-11T05:13:37.257Z"
   },
   {
    "duration": 5,
    "start_time": "2021-12-11T05:13:37.491Z"
   },
   {
    "duration": 3,
    "start_time": "2021-12-11T05:13:37.497Z"
   },
   {
    "duration": 9,
    "start_time": "2021-12-11T05:13:37.502Z"
   },
   {
    "duration": 5,
    "start_time": "2021-12-11T05:13:37.512Z"
   },
   {
    "duration": 10,
    "start_time": "2021-12-11T05:13:37.518Z"
   },
   {
    "duration": 8,
    "start_time": "2021-12-11T05:13:37.529Z"
   },
   {
    "duration": 289,
    "start_time": "2021-12-11T05:13:37.538Z"
   },
   {
    "duration": 240,
    "start_time": "2021-12-11T05:13:37.828Z"
   },
   {
    "duration": 251,
    "start_time": "2021-12-11T05:13:38.070Z"
   },
   {
    "duration": 199,
    "start_time": "2021-12-11T05:13:38.323Z"
   },
   {
    "duration": 302,
    "start_time": "2021-12-11T05:13:38.524Z"
   },
   {
    "duration": 3,
    "start_time": "2021-12-11T05:13:38.828Z"
   },
   {
    "duration": 35,
    "start_time": "2021-12-11T05:13:38.832Z"
   },
   {
    "duration": 5183,
    "start_time": "2021-12-11T05:13:38.870Z"
   },
   {
    "duration": 36198,
    "start_time": "2021-12-11T05:13:07.856Z"
   },
   {
    "duration": 5464,
    "start_time": "2021-12-11T05:14:14.270Z"
   },
   {
    "duration": 197,
    "start_time": "2021-12-11T05:15:04.799Z"
   },
   {
    "duration": 3,
    "start_time": "2021-12-11T05:15:13.645Z"
   },
   {
    "duration": 744,
    "start_time": "2021-12-11T05:15:13.650Z"
   },
   {
    "duration": 4,
    "start_time": "2021-12-11T05:15:14.396Z"
   },
   {
    "duration": 26,
    "start_time": "2021-12-11T05:15:14.401Z"
   },
   {
    "duration": 22,
    "start_time": "2021-12-11T05:15:14.428Z"
   },
   {
    "duration": 46,
    "start_time": "2021-12-11T05:15:14.451Z"
   },
   {
    "duration": 16,
    "start_time": "2021-12-11T05:15:14.499Z"
   },
   {
    "duration": 10,
    "start_time": "2021-12-11T05:15:14.516Z"
   },
   {
    "duration": 14,
    "start_time": "2021-12-11T05:15:14.528Z"
   },
   {
    "duration": 220,
    "start_time": "2021-12-11T05:15:14.543Z"
   },
   {
    "duration": 246,
    "start_time": "2021-12-11T05:15:14.765Z"
   },
   {
    "duration": 132,
    "start_time": "2021-12-11T05:15:15.012Z"
   },
   {
    "duration": 228,
    "start_time": "2021-12-11T05:15:15.145Z"
   },
   {
    "duration": 4,
    "start_time": "2021-12-11T05:15:15.374Z"
   },
   {
    "duration": 12,
    "start_time": "2021-12-11T05:15:15.380Z"
   },
   {
    "duration": 7,
    "start_time": "2021-12-11T05:15:15.393Z"
   },
   {
    "duration": 7,
    "start_time": "2021-12-11T05:15:15.402Z"
   },
   {
    "duration": 7,
    "start_time": "2021-12-11T05:15:15.410Z"
   },
   {
    "duration": 6,
    "start_time": "2021-12-11T05:15:15.419Z"
   },
   {
    "duration": 265,
    "start_time": "2021-12-11T05:15:15.426Z"
   },
   {
    "duration": 233,
    "start_time": "2021-12-11T05:15:15.693Z"
   },
   {
    "duration": 247,
    "start_time": "2021-12-11T05:15:15.927Z"
   },
   {
    "duration": 199,
    "start_time": "2021-12-11T05:15:16.176Z"
   },
   {
    "duration": 237,
    "start_time": "2021-12-11T05:15:16.377Z"
   },
   {
    "duration": 3,
    "start_time": "2021-12-11T05:15:16.616Z"
   },
   {
    "duration": 20,
    "start_time": "2021-12-11T05:15:16.620Z"
   },
   {
    "duration": 4590,
    "start_time": "2021-12-11T05:15:16.642Z"
   },
   {
    "duration": 36197,
    "start_time": "2021-12-11T05:14:45.038Z"
   },
   {
    "duration": 195,
    "start_time": "2021-12-11T05:15:51.101Z"
   },
   {
    "duration": 4,
    "start_time": "2021-12-11T05:15:57.705Z"
   },
   {
    "duration": 716,
    "start_time": "2021-12-11T05:15:57.711Z"
   },
   {
    "duration": 4,
    "start_time": "2021-12-11T05:15:58.429Z"
   },
   {
    "duration": 24,
    "start_time": "2021-12-11T05:15:58.436Z"
   },
   {
    "duration": 43,
    "start_time": "2021-12-11T05:15:58.462Z"
   },
   {
    "duration": 23,
    "start_time": "2021-12-11T05:15:58.507Z"
   },
   {
    "duration": 16,
    "start_time": "2021-12-11T05:15:58.532Z"
   },
   {
    "duration": 9,
    "start_time": "2021-12-11T05:15:58.550Z"
   },
   {
    "duration": 15,
    "start_time": "2021-12-11T05:15:58.592Z"
   },
   {
    "duration": 203,
    "start_time": "2021-12-11T05:15:58.609Z"
   },
   {
    "duration": 242,
    "start_time": "2021-12-11T05:15:58.814Z"
   },
   {
    "duration": 137,
    "start_time": "2021-12-11T05:15:59.058Z"
   },
   {
    "duration": 245,
    "start_time": "2021-12-11T05:15:59.197Z"
   },
   {
    "duration": 6,
    "start_time": "2021-12-11T05:15:59.445Z"
   },
   {
    "duration": 4,
    "start_time": "2021-12-11T05:15:59.453Z"
   },
   {
    "duration": 33,
    "start_time": "2021-12-11T05:15:59.459Z"
   },
   {
    "duration": 6,
    "start_time": "2021-12-11T05:15:59.494Z"
   },
   {
    "duration": 9,
    "start_time": "2021-12-11T05:15:59.502Z"
   },
   {
    "duration": 5,
    "start_time": "2021-12-11T05:15:59.512Z"
   },
   {
    "duration": 265,
    "start_time": "2021-12-11T05:15:59.519Z"
   },
   {
    "duration": 240,
    "start_time": "2021-12-11T05:15:59.786Z"
   },
   {
    "duration": 252,
    "start_time": "2021-12-11T05:16:00.028Z"
   },
   {
    "duration": 287,
    "start_time": "2021-12-11T05:16:00.282Z"
   },
   {
    "duration": 247,
    "start_time": "2021-12-11T05:16:00.572Z"
   },
   {
    "duration": 4,
    "start_time": "2021-12-11T05:16:00.821Z"
   },
   {
    "duration": 43,
    "start_time": "2021-12-11T05:16:00.827Z"
   },
   {
    "duration": 5265,
    "start_time": "2021-12-11T05:16:00.874Z"
   },
   {
    "duration": 36197,
    "start_time": "2021-12-11T05:15:29.944Z"
   },
   {
    "duration": 609,
    "start_time": "2021-12-11T05:17:05.916Z"
   },
   {
    "duration": 182,
    "start_time": "2021-12-11T05:17:13.784Z"
   },
   {
    "duration": 3,
    "start_time": "2021-12-11T05:17:25.356Z"
   },
   {
    "duration": 731,
    "start_time": "2021-12-11T05:17:25.361Z"
   },
   {
    "duration": 4,
    "start_time": "2021-12-11T05:17:26.094Z"
   },
   {
    "duration": 26,
    "start_time": "2021-12-11T05:17:26.099Z"
   },
   {
    "duration": 23,
    "start_time": "2021-12-11T05:17:26.127Z"
   },
   {
    "duration": 48,
    "start_time": "2021-12-11T05:17:26.152Z"
   },
   {
    "duration": 18,
    "start_time": "2021-12-11T05:17:26.201Z"
   },
   {
    "duration": 12,
    "start_time": "2021-12-11T05:17:26.222Z"
   },
   {
    "duration": 17,
    "start_time": "2021-12-11T05:17:26.237Z"
   },
   {
    "duration": 237,
    "start_time": "2021-12-11T05:17:26.257Z"
   },
   {
    "duration": 257,
    "start_time": "2021-12-11T05:17:26.496Z"
   },
   {
    "duration": 143,
    "start_time": "2021-12-11T05:17:26.755Z"
   },
   {
    "duration": 261,
    "start_time": "2021-12-11T05:17:26.901Z"
   },
   {
    "duration": 4,
    "start_time": "2021-12-11T05:17:27.164Z"
   },
   {
    "duration": 7,
    "start_time": "2021-12-11T05:17:27.169Z"
   },
   {
    "duration": 18,
    "start_time": "2021-12-11T05:17:27.178Z"
   },
   {
    "duration": 7,
    "start_time": "2021-12-11T05:17:27.197Z"
   },
   {
    "duration": 7,
    "start_time": "2021-12-11T05:17:27.205Z"
   },
   {
    "duration": 5,
    "start_time": "2021-12-11T05:17:27.214Z"
   },
   {
    "duration": 274,
    "start_time": "2021-12-11T05:17:27.220Z"
   },
   {
    "duration": 248,
    "start_time": "2021-12-11T05:17:27.496Z"
   },
   {
    "duration": 254,
    "start_time": "2021-12-11T05:17:27.746Z"
   },
   {
    "duration": 211,
    "start_time": "2021-12-11T05:17:28.002Z"
   },
   {
    "duration": 239,
    "start_time": "2021-12-11T05:17:28.215Z"
   },
   {
    "duration": 3,
    "start_time": "2021-12-11T05:17:28.455Z"
   },
   {
    "duration": 10,
    "start_time": "2021-12-11T05:17:28.460Z"
   },
   {
    "duration": 6656,
    "start_time": "2021-12-11T05:17:28.472Z"
   },
   {
    "duration": 36186,
    "start_time": "2021-12-11T05:16:58.944Z"
   },
   {
    "duration": 4,
    "start_time": "2021-12-11T05:18:29.732Z"
   },
   {
    "duration": 5,
    "start_time": "2021-12-11T05:19:02.800Z"
   },
   {
    "duration": 4,
    "start_time": "2021-12-11T05:37:57.504Z"
   },
   {
    "duration": 665,
    "start_time": "2021-12-11T05:37:57.510Z"
   },
   {
    "duration": 4,
    "start_time": "2021-12-11T05:37:58.177Z"
   },
   {
    "duration": 25,
    "start_time": "2021-12-11T05:37:58.183Z"
   },
   {
    "duration": 22,
    "start_time": "2021-12-11T05:37:58.209Z"
   },
   {
    "duration": 24,
    "start_time": "2021-12-11T05:37:58.233Z"
   },
   {
    "duration": 45,
    "start_time": "2021-12-11T05:37:58.258Z"
   },
   {
    "duration": 11,
    "start_time": "2021-12-11T05:37:58.305Z"
   },
   {
    "duration": 15,
    "start_time": "2021-12-11T05:37:58.318Z"
   },
   {
    "duration": 213,
    "start_time": "2021-12-11T05:37:58.334Z"
   },
   {
    "duration": 254,
    "start_time": "2021-12-11T05:37:58.549Z"
   },
   {
    "duration": 128,
    "start_time": "2021-12-11T05:37:58.805Z"
   },
   {
    "duration": 256,
    "start_time": "2021-12-11T05:37:58.934Z"
   },
   {
    "duration": 5,
    "start_time": "2021-12-11T05:37:59.191Z"
   },
   {
    "duration": 5,
    "start_time": "2021-12-11T05:37:59.197Z"
   },
   {
    "duration": 9,
    "start_time": "2021-12-11T05:37:59.203Z"
   },
   {
    "duration": 6,
    "start_time": "2021-12-11T05:37:59.213Z"
   },
   {
    "duration": 10,
    "start_time": "2021-12-11T05:37:59.221Z"
   },
   {
    "duration": 5,
    "start_time": "2021-12-11T05:37:59.233Z"
   },
   {
    "duration": 269,
    "start_time": "2021-12-11T05:37:59.240Z"
   },
   {
    "duration": 283,
    "start_time": "2021-12-11T05:37:59.511Z"
   },
   {
    "duration": 371,
    "start_time": "2021-12-11T05:37:59.796Z"
   },
   {
    "duration": 201,
    "start_time": "2021-12-11T05:38:00.170Z"
   },
   {
    "duration": 240,
    "start_time": "2021-12-11T05:38:00.373Z"
   },
   {
    "duration": 3,
    "start_time": "2021-12-11T05:38:00.614Z"
   },
   {
    "duration": 82,
    "start_time": "2021-12-11T05:38:00.619Z"
   },
   {
    "duration": 36220,
    "start_time": "2021-12-11T05:37:24.483Z"
   },
   {
    "duration": 36217,
    "start_time": "2021-12-11T05:37:24.487Z"
   },
   {
    "duration": 36215,
    "start_time": "2021-12-11T05:37:24.490Z"
   },
   {
    "duration": 36212,
    "start_time": "2021-12-11T05:37:24.493Z"
   },
   {
    "duration": 3,
    "start_time": "2021-12-11T05:38:19.148Z"
   },
   {
    "duration": 724,
    "start_time": "2021-12-11T05:38:19.153Z"
   },
   {
    "duration": 4,
    "start_time": "2021-12-11T05:38:19.879Z"
   },
   {
    "duration": 23,
    "start_time": "2021-12-11T05:38:19.892Z"
   },
   {
    "duration": 23,
    "start_time": "2021-12-11T05:38:19.916Z"
   },
   {
    "duration": 25,
    "start_time": "2021-12-11T05:38:19.941Z"
   },
   {
    "duration": 37,
    "start_time": "2021-12-11T05:38:19.967Z"
   },
   {
    "duration": 11,
    "start_time": "2021-12-11T05:38:20.006Z"
   },
   {
    "duration": 16,
    "start_time": "2021-12-11T05:38:20.019Z"
   },
   {
    "duration": 234,
    "start_time": "2021-12-11T05:38:20.037Z"
   },
   {
    "duration": 255,
    "start_time": "2021-12-11T05:38:20.273Z"
   },
   {
    "duration": 139,
    "start_time": "2021-12-11T05:38:20.530Z"
   },
   {
    "duration": 230,
    "start_time": "2021-12-11T05:38:20.670Z"
   },
   {
    "duration": 5,
    "start_time": "2021-12-11T05:38:20.902Z"
   },
   {
    "duration": 5,
    "start_time": "2021-12-11T05:38:20.908Z"
   },
   {
    "duration": 10,
    "start_time": "2021-12-11T05:38:20.914Z"
   },
   {
    "duration": 6,
    "start_time": "2021-12-11T05:38:20.925Z"
   },
   {
    "duration": 14,
    "start_time": "2021-12-11T05:38:20.932Z"
   },
   {
    "duration": 9,
    "start_time": "2021-12-11T05:38:20.948Z"
   },
   {
    "duration": 272,
    "start_time": "2021-12-11T05:38:20.958Z"
   },
   {
    "duration": 244,
    "start_time": "2021-12-11T05:38:21.232Z"
   },
   {
    "duration": 260,
    "start_time": "2021-12-11T05:38:21.478Z"
   },
   {
    "duration": 210,
    "start_time": "2021-12-11T05:38:21.741Z"
   },
   {
    "duration": 255,
    "start_time": "2021-12-11T05:38:21.953Z"
   },
   {
    "duration": 3,
    "start_time": "2021-12-11T05:38:22.210Z"
   },
   {
    "duration": 13,
    "start_time": "2021-12-11T05:38:22.215Z"
   },
   {
    "duration": 169,
    "start_time": "2021-12-11T05:38:22.230Z"
   },
   {
    "duration": 36200,
    "start_time": "2021-12-11T05:37:46.201Z"
   },
   {
    "duration": 36198,
    "start_time": "2021-12-11T05:37:46.204Z"
   },
   {
    "duration": 36196,
    "start_time": "2021-12-11T05:37:46.207Z"
   },
   {
    "duration": 5,
    "start_time": "2021-12-11T05:39:02.022Z"
   },
   {
    "duration": 682,
    "start_time": "2021-12-11T05:39:02.028Z"
   },
   {
    "duration": 3,
    "start_time": "2021-12-11T05:39:02.713Z"
   },
   {
    "duration": 27,
    "start_time": "2021-12-11T05:39:02.718Z"
   },
   {
    "duration": 45,
    "start_time": "2021-12-11T05:39:02.748Z"
   },
   {
    "duration": 22,
    "start_time": "2021-12-11T05:39:02.794Z"
   },
   {
    "duration": 15,
    "start_time": "2021-12-11T05:39:02.818Z"
   },
   {
    "duration": 9,
    "start_time": "2021-12-11T05:39:02.835Z"
   },
   {
    "duration": 14,
    "start_time": "2021-12-11T05:39:02.846Z"
   },
   {
    "duration": 229,
    "start_time": "2021-12-11T05:39:02.862Z"
   },
   {
    "duration": 241,
    "start_time": "2021-12-11T05:39:03.093Z"
   },
   {
    "duration": 137,
    "start_time": "2021-12-11T05:39:03.336Z"
   },
   {
    "duration": 229,
    "start_time": "2021-12-11T05:39:03.475Z"
   },
   {
    "duration": 5,
    "start_time": "2021-12-11T05:39:03.705Z"
   },
   {
    "duration": 6,
    "start_time": "2021-12-11T05:39:03.711Z"
   },
   {
    "duration": 9,
    "start_time": "2021-12-11T05:39:03.718Z"
   },
   {
    "duration": 6,
    "start_time": "2021-12-11T05:39:03.728Z"
   },
   {
    "duration": 7,
    "start_time": "2021-12-11T05:39:03.735Z"
   },
   {
    "duration": 6,
    "start_time": "2021-12-11T05:39:03.744Z"
   },
   {
    "duration": 277,
    "start_time": "2021-12-11T05:39:03.752Z"
   },
   {
    "duration": 319,
    "start_time": "2021-12-11T05:39:04.031Z"
   },
   {
    "duration": 255,
    "start_time": "2021-12-11T05:39:04.352Z"
   },
   {
    "duration": 201,
    "start_time": "2021-12-11T05:39:04.608Z"
   },
   {
    "duration": 237,
    "start_time": "2021-12-11T05:39:04.810Z"
   },
   {
    "duration": 3,
    "start_time": "2021-12-11T05:39:05.049Z"
   },
   {
    "duration": 13,
    "start_time": "2021-12-11T05:39:05.054Z"
   },
   {
    "duration": 177,
    "start_time": "2021-12-11T05:39:05.070Z"
   },
   {
    "duration": 36214,
    "start_time": "2021-12-11T05:38:29.035Z"
   },
   {
    "duration": 36211,
    "start_time": "2021-12-11T05:38:29.039Z"
   },
   {
    "duration": 36209,
    "start_time": "2021-12-11T05:38:29.042Z"
   },
   {
    "duration": 9,
    "start_time": "2021-12-11T05:39:21.927Z"
   },
   {
    "duration": 682,
    "start_time": "2021-12-11T05:39:21.938Z"
   },
   {
    "duration": 4,
    "start_time": "2021-12-11T05:39:22.622Z"
   },
   {
    "duration": 24,
    "start_time": "2021-12-11T05:39:22.628Z"
   },
   {
    "duration": 42,
    "start_time": "2021-12-11T05:39:22.654Z"
   },
   {
    "duration": 25,
    "start_time": "2021-12-11T05:39:22.698Z"
   },
   {
    "duration": 17,
    "start_time": "2021-12-11T05:39:22.725Z"
   },
   {
    "duration": 10,
    "start_time": "2021-12-11T05:39:22.743Z"
   },
   {
    "duration": 48,
    "start_time": "2021-12-11T05:39:22.756Z"
   },
   {
    "duration": 205,
    "start_time": "2021-12-11T05:39:22.806Z"
   },
   {
    "duration": 246,
    "start_time": "2021-12-11T05:39:23.013Z"
   },
   {
    "duration": 141,
    "start_time": "2021-12-11T05:39:23.260Z"
   },
   {
    "duration": 233,
    "start_time": "2021-12-11T05:39:23.403Z"
   },
   {
    "duration": 4,
    "start_time": "2021-12-11T05:39:23.637Z"
   },
   {
    "duration": 5,
    "start_time": "2021-12-11T05:39:23.643Z"
   },
   {
    "duration": 7,
    "start_time": "2021-12-11T05:39:23.649Z"
   },
   {
    "duration": 5,
    "start_time": "2021-12-11T05:39:23.658Z"
   },
   {
    "duration": 8,
    "start_time": "2021-12-11T05:39:23.692Z"
   },
   {
    "duration": 5,
    "start_time": "2021-12-11T05:39:23.701Z"
   },
   {
    "duration": 259,
    "start_time": "2021-12-11T05:39:23.707Z"
   },
   {
    "duration": 249,
    "start_time": "2021-12-11T05:39:23.968Z"
   },
   {
    "duration": 258,
    "start_time": "2021-12-11T05:39:24.219Z"
   },
   {
    "duration": 207,
    "start_time": "2021-12-11T05:39:24.479Z"
   },
   {
    "duration": 250,
    "start_time": "2021-12-11T05:39:24.691Z"
   },
   {
    "duration": 3,
    "start_time": "2021-12-11T05:39:24.943Z"
   },
   {
    "duration": 15,
    "start_time": "2021-12-11T05:39:24.948Z"
   },
   {
    "duration": 184,
    "start_time": "2021-12-11T05:39:24.967Z"
   },
   {
    "duration": 36211,
    "start_time": "2021-12-11T05:38:48.942Z"
   },
   {
    "duration": 36208,
    "start_time": "2021-12-11T05:38:48.946Z"
   },
   {
    "duration": 36205,
    "start_time": "2021-12-11T05:38:48.949Z"
   },
   {
    "duration": 3,
    "start_time": "2021-12-11T05:40:08.810Z"
   },
   {
    "duration": 652,
    "start_time": "2021-12-11T05:40:08.815Z"
   },
   {
    "duration": 4,
    "start_time": "2021-12-11T05:40:09.469Z"
   },
   {
    "duration": 35,
    "start_time": "2021-12-11T05:40:09.474Z"
   },
   {
    "duration": 22,
    "start_time": "2021-12-11T05:40:09.511Z"
   },
   {
    "duration": 24,
    "start_time": "2021-12-11T05:40:09.535Z"
   },
   {
    "duration": 36,
    "start_time": "2021-12-11T05:40:09.561Z"
   },
   {
    "duration": 10,
    "start_time": "2021-12-11T05:40:09.599Z"
   },
   {
    "duration": 14,
    "start_time": "2021-12-11T05:40:09.611Z"
   },
   {
    "duration": 215,
    "start_time": "2021-12-11T05:40:09.626Z"
   },
   {
    "duration": 254,
    "start_time": "2021-12-11T05:40:09.843Z"
   },
   {
    "duration": 138,
    "start_time": "2021-12-11T05:40:10.100Z"
   },
   {
    "duration": 320,
    "start_time": "2021-12-11T05:40:10.239Z"
   },
   {
    "duration": 5,
    "start_time": "2021-12-11T05:40:10.560Z"
   },
   {
    "duration": 6,
    "start_time": "2021-12-11T05:40:10.566Z"
   },
   {
    "duration": 21,
    "start_time": "2021-12-11T05:40:10.573Z"
   },
   {
    "duration": 5,
    "start_time": "2021-12-11T05:40:10.596Z"
   },
   {
    "duration": 7,
    "start_time": "2021-12-11T05:40:10.603Z"
   },
   {
    "duration": 4,
    "start_time": "2021-12-11T05:40:10.611Z"
   },
   {
    "duration": 262,
    "start_time": "2021-12-11T05:40:10.616Z"
   },
   {
    "duration": 241,
    "start_time": "2021-12-11T05:40:10.880Z"
   },
   {
    "duration": 243,
    "start_time": "2021-12-11T05:40:11.123Z"
   },
   {
    "duration": 204,
    "start_time": "2021-12-11T05:40:11.369Z"
   },
   {
    "duration": 238,
    "start_time": "2021-12-11T05:40:11.575Z"
   },
   {
    "duration": 3,
    "start_time": "2021-12-11T05:40:11.814Z"
   },
   {
    "duration": 14,
    "start_time": "2021-12-11T05:40:11.818Z"
   },
   {
    "duration": 5,
    "start_time": "2021-12-11T05:40:11.834Z"
   },
   {
    "duration": 12,
    "start_time": "2021-12-11T05:40:11.840Z"
   },
   {
    "duration": 226,
    "start_time": "2021-12-11T05:40:11.853Z"
   },
   {
    "duration": 36185,
    "start_time": "2021-12-11T05:39:35.896Z"
   },
   {
    "duration": 4,
    "start_time": "2021-12-11T05:40:44.081Z"
   },
   {
    "duration": 689,
    "start_time": "2021-12-11T05:40:44.087Z"
   },
   {
    "duration": 13,
    "start_time": "2021-12-11T05:40:44.779Z"
   },
   {
    "duration": 48,
    "start_time": "2021-12-11T05:40:44.794Z"
   },
   {
    "duration": 22,
    "start_time": "2021-12-11T05:40:44.844Z"
   },
   {
    "duration": 23,
    "start_time": "2021-12-11T05:40:44.869Z"
   },
   {
    "duration": 18,
    "start_time": "2021-12-11T05:40:44.894Z"
   },
   {
    "duration": 12,
    "start_time": "2021-12-11T05:40:44.914Z"
   },
   {
    "duration": 16,
    "start_time": "2021-12-11T05:40:44.929Z"
   },
   {
    "duration": 259,
    "start_time": "2021-12-11T05:40:44.948Z"
   },
   {
    "duration": 243,
    "start_time": "2021-12-11T05:40:45.209Z"
   },
   {
    "duration": 134,
    "start_time": "2021-12-11T05:40:45.453Z"
   },
   {
    "duration": 250,
    "start_time": "2021-12-11T05:40:45.588Z"
   },
   {
    "duration": 4,
    "start_time": "2021-12-11T05:40:45.839Z"
   },
   {
    "duration": 8,
    "start_time": "2021-12-11T05:40:45.845Z"
   },
   {
    "duration": 11,
    "start_time": "2021-12-11T05:40:45.854Z"
   },
   {
    "duration": 10,
    "start_time": "2021-12-11T05:40:45.867Z"
   },
   {
    "duration": 14,
    "start_time": "2021-12-11T05:40:45.878Z"
   },
   {
    "duration": 5,
    "start_time": "2021-12-11T05:40:45.894Z"
   },
   {
    "duration": 314,
    "start_time": "2021-12-11T05:40:45.900Z"
   },
   {
    "duration": 262,
    "start_time": "2021-12-11T05:40:46.215Z"
   },
   {
    "duration": 254,
    "start_time": "2021-12-11T05:40:46.478Z"
   },
   {
    "duration": 196,
    "start_time": "2021-12-11T05:40:46.734Z"
   },
   {
    "duration": 236,
    "start_time": "2021-12-11T05:40:46.932Z"
   },
   {
    "duration": 3,
    "start_time": "2021-12-11T05:40:47.170Z"
   },
   {
    "duration": 21,
    "start_time": "2021-12-11T05:40:47.174Z"
   },
   {
    "duration": 5,
    "start_time": "2021-12-11T05:40:47.198Z"
   },
   {
    "duration": 7,
    "start_time": "2021-12-11T05:40:47.204Z"
   },
   {
    "duration": 6,
    "start_time": "2021-12-11T05:40:47.212Z"
   },
   {
    "duration": 525273,
    "start_time": "2021-12-11T05:40:47.220Z"
   },
   {
    "duration": 4,
    "start_time": "2021-12-11T05:51:05.611Z"
   },
   {
    "duration": 3,
    "start_time": "2021-12-11T05:52:13.336Z"
   },
   {
    "duration": 537023,
    "start_time": "2021-12-11T05:52:15.670Z"
   },
   {
    "duration": 4,
    "start_time": "2021-12-11T06:01:34.184Z"
   },
   {
    "duration": 3,
    "start_time": "2021-12-11T06:05:48.072Z"
   },
   {
    "duration": 684,
    "start_time": "2021-12-11T06:05:48.077Z"
   },
   {
    "duration": 4,
    "start_time": "2021-12-11T06:05:48.763Z"
   },
   {
    "duration": 37,
    "start_time": "2021-12-11T06:05:48.769Z"
   },
   {
    "duration": 23,
    "start_time": "2021-12-11T06:05:48.807Z"
   },
   {
    "duration": 39,
    "start_time": "2021-12-11T06:05:48.831Z"
   },
   {
    "duration": 20,
    "start_time": "2021-12-11T06:05:48.872Z"
   },
   {
    "duration": 10,
    "start_time": "2021-12-11T06:05:48.893Z"
   },
   {
    "duration": 16,
    "start_time": "2021-12-11T06:05:48.906Z"
   },
   {
    "duration": 216,
    "start_time": "2021-12-11T06:05:48.924Z"
   },
   {
    "duration": 258,
    "start_time": "2021-12-11T06:05:49.142Z"
   },
   {
    "duration": 138,
    "start_time": "2021-12-11T06:05:49.402Z"
   },
   {
    "duration": 239,
    "start_time": "2021-12-11T06:05:49.542Z"
   },
   {
    "duration": 11,
    "start_time": "2021-12-11T06:05:49.783Z"
   },
   {
    "duration": 4,
    "start_time": "2021-12-11T06:05:49.796Z"
   },
   {
    "duration": 7,
    "start_time": "2021-12-11T06:05:49.802Z"
   },
   {
    "duration": 6,
    "start_time": "2021-12-11T06:05:49.811Z"
   },
   {
    "duration": 8,
    "start_time": "2021-12-11T06:05:49.819Z"
   },
   {
    "duration": 5,
    "start_time": "2021-12-11T06:05:49.828Z"
   },
   {
    "duration": 296,
    "start_time": "2021-12-11T06:05:49.835Z"
   },
   {
    "duration": 239,
    "start_time": "2021-12-11T06:05:50.133Z"
   },
   {
    "duration": 261,
    "start_time": "2021-12-11T06:05:50.374Z"
   },
   {
    "duration": 208,
    "start_time": "2021-12-11T06:05:50.636Z"
   },
   {
    "duration": 244,
    "start_time": "2021-12-11T06:05:50.845Z"
   },
   {
    "duration": 4,
    "start_time": "2021-12-11T06:05:51.091Z"
   },
   {
    "duration": 14,
    "start_time": "2021-12-11T06:05:51.096Z"
   },
   {
    "duration": 5,
    "start_time": "2021-12-11T06:05:51.114Z"
   },
   {
    "duration": 4,
    "start_time": "2021-12-11T06:05:51.121Z"
   },
   {
    "duration": 5,
    "start_time": "2021-12-11T06:05:51.127Z"
   },
   {
    "duration": 532559,
    "start_time": "2021-12-11T06:05:51.133Z"
   },
   {
    "duration": 4,
    "start_time": "2021-12-11T06:14:43.693Z"
   },
   {
    "duration": 4,
    "start_time": "2021-12-11T06:14:43.699Z"
   },
   {
    "duration": 538486,
    "start_time": "2021-12-11T06:14:43.705Z"
   },
   {
    "duration": 4,
    "start_time": "2021-12-11T06:23:42.193Z"
   },
   {
    "duration": 751,
    "start_time": "2021-12-11T06:23:42.199Z"
   },
   {
    "duration": 36200,
    "start_time": "2021-12-11T06:23:06.752Z"
   },
   {
    "duration": 36199,
    "start_time": "2021-12-11T06:23:06.754Z"
   },
   {
    "duration": 514,
    "start_time": "2021-12-11T06:25:43.484Z"
   },
   {
    "duration": 177,
    "start_time": "2021-12-11T06:25:46.163Z"
   },
   {
    "duration": 289,
    "start_time": "2021-12-11T06:26:02.303Z"
   },
   {
    "duration": 5,
    "start_time": "2021-12-11T06:26:05.687Z"
   },
   {
    "duration": 6,
    "start_time": "2021-12-11T06:39:13.934Z"
   },
   {
    "duration": 671,
    "start_time": "2021-12-11T06:39:13.942Z"
   },
   {
    "duration": 3,
    "start_time": "2021-12-11T06:39:14.615Z"
   },
   {
    "duration": 26,
    "start_time": "2021-12-11T06:39:14.620Z"
   },
   {
    "duration": 23,
    "start_time": "2021-12-11T06:39:14.648Z"
   },
   {
    "duration": 22,
    "start_time": "2021-12-11T06:39:14.692Z"
   },
   {
    "duration": 16,
    "start_time": "2021-12-11T06:39:14.717Z"
   },
   {
    "duration": 10,
    "start_time": "2021-12-11T06:39:14.734Z"
   },
   {
    "duration": 47,
    "start_time": "2021-12-11T06:39:14.746Z"
   },
   {
    "duration": 203,
    "start_time": "2021-12-11T06:39:14.795Z"
   },
   {
    "duration": 244,
    "start_time": "2021-12-11T06:39:14.999Z"
   },
   {
    "duration": 133,
    "start_time": "2021-12-11T06:39:15.245Z"
   },
   {
    "duration": 229,
    "start_time": "2021-12-11T06:39:15.379Z"
   },
   {
    "duration": 4,
    "start_time": "2021-12-11T06:39:15.609Z"
   },
   {
    "duration": 10,
    "start_time": "2021-12-11T06:39:15.615Z"
   },
   {
    "duration": 7,
    "start_time": "2021-12-11T06:39:15.626Z"
   },
   {
    "duration": 5,
    "start_time": "2021-12-11T06:39:15.635Z"
   },
   {
    "duration": 10,
    "start_time": "2021-12-11T06:39:15.642Z"
   },
   {
    "duration": 5,
    "start_time": "2021-12-11T06:39:15.653Z"
   },
   {
    "duration": 276,
    "start_time": "2021-12-11T06:39:15.660Z"
   },
   {
    "duration": 233,
    "start_time": "2021-12-11T06:39:15.937Z"
   },
   {
    "duration": 245,
    "start_time": "2021-12-11T06:39:16.172Z"
   },
   {
    "duration": 289,
    "start_time": "2021-12-11T06:39:16.419Z"
   },
   {
    "duration": 250,
    "start_time": "2021-12-11T06:39:16.710Z"
   },
   {
    "duration": 3,
    "start_time": "2021-12-11T06:39:16.962Z"
   },
   {
    "duration": 25,
    "start_time": "2021-12-11T06:39:16.966Z"
   },
   {
    "duration": 5,
    "start_time": "2021-12-11T06:39:16.994Z"
   },
   {
    "duration": 30,
    "start_time": "2021-12-11T06:39:17.001Z"
   },
   {
    "duration": 26,
    "start_time": "2021-12-11T06:39:17.032Z"
   },
   {
    "duration": 523436,
    "start_time": "2021-12-11T06:39:17.059Z"
   },
   {
    "duration": 5,
    "start_time": "2021-12-11T06:48:00.497Z"
   },
   {
    "duration": 11,
    "start_time": "2021-12-11T06:48:00.504Z"
   },
   {
    "duration": 552878,
    "start_time": "2021-12-11T06:48:00.516Z"
   },
   {
    "duration": 4,
    "start_time": "2021-12-11T06:57:13.396Z"
   },
   {
    "duration": 497,
    "start_time": "2021-12-11T06:57:13.401Z"
   },
   {
    "duration": 493,
    "start_time": "2021-12-11T06:57:13.900Z"
   },
   {
    "duration": 7,
    "start_time": "2021-12-11T06:57:14.395Z"
   },
   {
    "duration": 63,
    "start_time": "2021-12-11T08:45:28.794Z"
   },
   {
    "duration": 69,
    "start_time": "2021-12-11T08:45:34.712Z"
   },
   {
    "duration": 4692,
    "start_time": "2021-12-11T08:45:55.599Z"
   },
   {
    "duration": 4,
    "start_time": "2021-12-11T08:46:14.162Z"
   },
   {
    "duration": 697,
    "start_time": "2021-12-11T08:46:14.168Z"
   },
   {
    "duration": 4,
    "start_time": "2021-12-11T08:46:14.868Z"
   },
   {
    "duration": 32,
    "start_time": "2021-12-11T08:46:14.874Z"
   },
   {
    "duration": 23,
    "start_time": "2021-12-11T08:46:14.908Z"
   },
   {
    "duration": 23,
    "start_time": "2021-12-11T08:46:14.933Z"
   },
   {
    "duration": 41,
    "start_time": "2021-12-11T08:46:14.958Z"
   },
   {
    "duration": 11,
    "start_time": "2021-12-11T08:46:15.001Z"
   },
   {
    "duration": 30,
    "start_time": "2021-12-11T08:46:15.015Z"
   },
   {
    "duration": 207,
    "start_time": "2021-12-11T08:46:15.047Z"
   },
   {
    "duration": 255,
    "start_time": "2021-12-11T08:46:15.256Z"
   },
   {
    "duration": 139,
    "start_time": "2021-12-11T08:46:15.513Z"
   },
   {
    "duration": 235,
    "start_time": "2021-12-11T08:46:15.653Z"
   },
   {
    "duration": 4,
    "start_time": "2021-12-11T08:46:15.892Z"
   },
   {
    "duration": 3,
    "start_time": "2021-12-11T08:46:15.898Z"
   },
   {
    "duration": 8,
    "start_time": "2021-12-11T08:46:15.903Z"
   },
   {
    "duration": 5,
    "start_time": "2021-12-11T08:46:15.913Z"
   },
   {
    "duration": 8,
    "start_time": "2021-12-11T08:46:15.920Z"
   },
   {
    "duration": 5,
    "start_time": "2021-12-11T08:46:15.929Z"
   },
   {
    "duration": 285,
    "start_time": "2021-12-11T08:46:15.936Z"
   },
   {
    "duration": 248,
    "start_time": "2021-12-11T08:46:16.223Z"
   },
   {
    "duration": 253,
    "start_time": "2021-12-11T08:46:16.473Z"
   },
   {
    "duration": 212,
    "start_time": "2021-12-11T08:46:16.728Z"
   },
   {
    "duration": 251,
    "start_time": "2021-12-11T08:46:16.942Z"
   },
   {
    "duration": 3,
    "start_time": "2021-12-11T08:46:17.195Z"
   },
   {
    "duration": 14,
    "start_time": "2021-12-11T08:46:17.199Z"
   },
   {
    "duration": 6,
    "start_time": "2021-12-11T08:46:17.216Z"
   },
   {
    "duration": 5,
    "start_time": "2021-12-11T08:46:17.223Z"
   },
   {
    "duration": 4,
    "start_time": "2021-12-11T08:46:17.230Z"
   },
   {
    "duration": 1113,
    "start_time": "2021-12-11T08:52:35.394Z"
   },
   {
    "duration": 749,
    "start_time": "2021-12-11T08:52:36.509Z"
   },
   {
    "duration": 4,
    "start_time": "2021-12-11T08:52:37.260Z"
   },
   {
    "duration": 37,
    "start_time": "2021-12-11T08:52:37.267Z"
   },
   {
    "duration": 24,
    "start_time": "2021-12-11T08:52:37.306Z"
   },
   {
    "duration": 36,
    "start_time": "2021-12-11T08:52:37.332Z"
   },
   {
    "duration": 28,
    "start_time": "2021-12-11T08:52:37.369Z"
   },
   {
    "duration": 11,
    "start_time": "2021-12-11T08:52:37.399Z"
   },
   {
    "duration": 13,
    "start_time": "2021-12-11T08:52:37.412Z"
   },
   {
    "duration": 223,
    "start_time": "2021-12-11T08:52:37.426Z"
   },
   {
    "duration": 253,
    "start_time": "2021-12-11T08:52:37.651Z"
   },
   {
    "duration": 133,
    "start_time": "2021-12-11T08:52:37.906Z"
   },
   {
    "duration": 234,
    "start_time": "2021-12-11T08:52:38.041Z"
   },
   {
    "duration": 5,
    "start_time": "2021-12-11T08:52:38.277Z"
   },
   {
    "duration": 12,
    "start_time": "2021-12-11T08:52:38.284Z"
   },
   {
    "duration": 6,
    "start_time": "2021-12-11T08:52:38.297Z"
   },
   {
    "duration": 7,
    "start_time": "2021-12-11T08:52:38.305Z"
   },
   {
    "duration": 4,
    "start_time": "2021-12-11T08:52:38.314Z"
   },
   {
    "duration": 11,
    "start_time": "2021-12-11T08:52:38.319Z"
   },
   {
    "duration": 6,
    "start_time": "2021-12-11T08:52:38.332Z"
   },
   {
    "duration": 8,
    "start_time": "2021-12-11T08:52:38.340Z"
   },
   {
    "duration": 46,
    "start_time": "2021-12-11T08:52:38.350Z"
   },
   {
    "duration": 261,
    "start_time": "2021-12-11T08:52:38.400Z"
   },
   {
    "duration": 240,
    "start_time": "2021-12-11T08:52:38.663Z"
   },
   {
    "duration": 246,
    "start_time": "2021-12-11T08:52:38.905Z"
   },
   {
    "duration": 210,
    "start_time": "2021-12-11T08:52:39.153Z"
   },
   {
    "duration": 308,
    "start_time": "2021-12-11T08:52:39.365Z"
   },
   {
    "duration": 16,
    "start_time": "2021-12-11T08:52:39.676Z"
   },
   {
    "duration": 36,
    "start_time": "2021-12-11T08:52:39.694Z"
   },
   {
    "duration": 24,
    "start_time": "2021-12-11T08:52:39.731Z"
   },
   {
    "duration": 10,
    "start_time": "2021-12-11T08:52:39.757Z"
   },
   {
    "duration": 18,
    "start_time": "2021-12-11T08:52:39.769Z"
   },
   {
    "duration": 1161,
    "start_time": "2021-12-11T09:00:27.255Z"
   },
   {
    "duration": 798,
    "start_time": "2021-12-11T09:00:28.418Z"
   },
   {
    "duration": 4,
    "start_time": "2021-12-11T09:00:29.218Z"
   },
   {
    "duration": 29,
    "start_time": "2021-12-11T09:00:29.224Z"
   },
   {
    "duration": 41,
    "start_time": "2021-12-11T09:00:29.255Z"
   },
   {
    "duration": 24,
    "start_time": "2021-12-11T09:00:29.298Z"
   },
   {
    "duration": 17,
    "start_time": "2021-12-11T09:00:29.324Z"
   },
   {
    "duration": 11,
    "start_time": "2021-12-11T09:00:29.343Z"
   },
   {
    "duration": 53,
    "start_time": "2021-12-11T09:00:29.356Z"
   },
   {
    "duration": 242,
    "start_time": "2021-12-11T09:00:29.411Z"
   },
   {
    "duration": 271,
    "start_time": "2021-12-11T09:00:29.654Z"
   },
   {
    "duration": 144,
    "start_time": "2021-12-11T09:00:29.926Z"
   },
   {
    "duration": 248,
    "start_time": "2021-12-11T09:00:30.072Z"
   },
   {
    "duration": 4,
    "start_time": "2021-12-11T09:00:30.322Z"
   },
   {
    "duration": 13,
    "start_time": "2021-12-11T09:00:30.327Z"
   },
   {
    "duration": 7,
    "start_time": "2021-12-11T09:00:30.342Z"
   },
   {
    "duration": 15,
    "start_time": "2021-12-11T09:00:30.351Z"
   },
   {
    "duration": 24,
    "start_time": "2021-12-11T09:00:30.368Z"
   },
   {
    "duration": 20,
    "start_time": "2021-12-11T09:00:30.394Z"
   },
   {
    "duration": 8,
    "start_time": "2021-12-11T09:00:30.416Z"
   },
   {
    "duration": 12,
    "start_time": "2021-12-11T09:00:30.426Z"
   },
   {
    "duration": 17,
    "start_time": "2021-12-11T09:00:30.440Z"
   },
   {
    "duration": 287,
    "start_time": "2021-12-11T09:00:30.462Z"
   },
   {
    "duration": 260,
    "start_time": "2021-12-11T09:00:30.751Z"
   },
   {
    "duration": 265,
    "start_time": "2021-12-11T09:00:31.013Z"
   },
   {
    "duration": 275,
    "start_time": "2021-12-11T09:00:31.280Z"
   },
   {
    "duration": 267,
    "start_time": "2021-12-11T09:00:31.558Z"
   },
   {
    "duration": 4,
    "start_time": "2021-12-11T09:00:31.827Z"
   },
   {
    "duration": 15,
    "start_time": "2021-12-11T09:00:31.833Z"
   },
   {
    "duration": 10,
    "start_time": "2021-12-11T09:00:31.850Z"
   },
   {
    "duration": 11,
    "start_time": "2021-12-11T09:00:31.862Z"
   },
   {
    "duration": 26,
    "start_time": "2021-12-11T09:00:31.874Z"
   },
   {
    "duration": 716393,
    "start_time": "2021-12-11T09:00:31.902Z"
   },
   {
    "duration": 95,
    "start_time": "2021-12-11T09:12:28.297Z"
   },
   {
    "duration": 6,
    "start_time": "2021-12-11T09:12:28.393Z"
   },
   {
    "duration": 727296,
    "start_time": "2021-12-11T09:12:28.401Z"
   },
   {
    "duration": 4,
    "start_time": "2021-12-11T09:24:35.699Z"
   },
   {
    "duration": 695,
    "start_time": "2021-12-11T09:24:35.704Z"
   },
   {
    "duration": 495,
    "start_time": "2021-12-11T09:24:36.402Z"
   },
   {
    "duration": 94,
    "start_time": "2021-12-11T09:24:36.899Z"
   },
   {
    "duration": 4944,
    "start_time": "2021-12-11T09:25:31.354Z"
   },
   {
    "duration": 4,
    "start_time": "2021-12-11T09:26:06.428Z"
   },
   {
    "duration": 720,
    "start_time": "2021-12-11T09:26:06.434Z"
   },
   {
    "duration": 3,
    "start_time": "2021-12-11T09:26:07.156Z"
   },
   {
    "duration": 31,
    "start_time": "2021-12-11T09:26:07.161Z"
   },
   {
    "duration": 22,
    "start_time": "2021-12-11T09:26:07.194Z"
   },
   {
    "duration": 24,
    "start_time": "2021-12-11T09:26:07.218Z"
   },
   {
    "duration": 17,
    "start_time": "2021-12-11T09:26:07.243Z"
   },
   {
    "duration": 35,
    "start_time": "2021-12-11T09:26:07.263Z"
   },
   {
    "duration": 16,
    "start_time": "2021-12-11T09:26:07.300Z"
   },
   {
    "duration": 215,
    "start_time": "2021-12-11T09:26:07.318Z"
   },
   {
    "duration": 251,
    "start_time": "2021-12-11T09:26:07.535Z"
   },
   {
    "duration": 129,
    "start_time": "2021-12-11T09:26:07.788Z"
   },
   {
    "duration": 233,
    "start_time": "2021-12-11T09:26:07.919Z"
   },
   {
    "duration": 4,
    "start_time": "2021-12-11T09:26:08.154Z"
   },
   {
    "duration": 8,
    "start_time": "2021-12-11T09:26:08.160Z"
   },
   {
    "duration": 22,
    "start_time": "2021-12-11T09:26:08.170Z"
   },
   {
    "duration": 10,
    "start_time": "2021-12-11T09:26:08.194Z"
   },
   {
    "duration": 3,
    "start_time": "2021-12-11T09:26:08.206Z"
   },
   {
    "duration": 1854,
    "start_time": "2021-12-11T09:26:40.936Z"
   },
   {
    "duration": 9,
    "start_time": "2021-12-11T09:26:45.934Z"
   },
   {
    "duration": 11,
    "start_time": "2021-12-11T09:26:48.520Z"
   },
   {
    "duration": 6,
    "start_time": "2021-12-11T09:26:51.004Z"
   },
   {
    "duration": 8,
    "start_time": "2021-12-11T09:26:59.159Z"
   },
   {
    "duration": 1220,
    "start_time": "2021-12-11T09:27:11.770Z"
   },
   {
    "duration": 9,
    "start_time": "2021-12-11T09:27:21.234Z"
   },
   {
    "duration": 3,
    "start_time": "2021-12-11T09:33:42.272Z"
   },
   {
    "duration": 9,
    "start_time": "2021-12-11T09:33:43.874Z"
   },
   {
    "duration": 9,
    "start_time": "2021-12-11T09:37:42.588Z"
   },
   {
    "duration": 4,
    "start_time": "2021-12-11T09:45:11.196Z"
   },
   {
    "duration": 1120,
    "start_time": "2021-12-11T10:27:43.350Z"
   },
   {
    "duration": 640,
    "start_time": "2021-12-11T10:27:46.440Z"
   },
   {
    "duration": 4,
    "start_time": "2021-12-11T10:27:48.028Z"
   },
   {
    "duration": 23,
    "start_time": "2021-12-11T10:27:49.044Z"
   },
   {
    "duration": 21,
    "start_time": "2021-12-11T10:27:49.624Z"
   },
   {
    "duration": 19,
    "start_time": "2021-12-11T10:27:50.177Z"
   },
   {
    "duration": 15,
    "start_time": "2021-12-11T10:27:51.582Z"
   },
   {
    "duration": 10,
    "start_time": "2021-12-11T10:27:52.061Z"
   },
   {
    "duration": 14,
    "start_time": "2021-12-11T10:27:52.570Z"
   },
   {
    "duration": 190,
    "start_time": "2021-12-11T10:27:53.175Z"
   },
   {
    "duration": 211,
    "start_time": "2021-12-11T10:27:54.694Z"
   },
   {
    "duration": 115,
    "start_time": "2021-12-11T10:27:55.166Z"
   },
   {
    "duration": 199,
    "start_time": "2021-12-11T10:27:55.692Z"
   },
   {
    "duration": 4,
    "start_time": "2021-12-11T10:29:06.437Z"
   },
   {
    "duration": 7,
    "start_time": "2021-12-11T10:29:06.988Z"
   },
   {
    "duration": 7,
    "start_time": "2021-12-11T10:29:07.466Z"
   },
   {
    "duration": 7,
    "start_time": "2021-12-11T10:29:07.961Z"
   },
   {
    "duration": 3,
    "start_time": "2021-12-11T10:29:09.440Z"
   },
   {
    "duration": 12,
    "start_time": "2021-12-11T10:29:10.035Z"
   },
   {
    "duration": 5,
    "start_time": "2021-12-11T10:31:17.984Z"
   },
   {
    "duration": 7,
    "start_time": "2021-12-11T10:31:20.328Z"
   },
   {
    "duration": 4,
    "start_time": "2021-12-11T10:32:11.939Z"
   },
   {
    "duration": 213,
    "start_time": "2021-12-11T10:32:16.916Z"
   },
   {
    "duration": 195,
    "start_time": "2021-12-11T10:32:17.371Z"
   },
   {
    "duration": 202,
    "start_time": "2021-12-11T10:32:17.916Z"
   },
   {
    "duration": 167,
    "start_time": "2021-12-11T10:34:10.008Z"
   },
   {
    "duration": 251,
    "start_time": "2021-12-11T10:35:27.710Z"
   },
   {
    "duration": 3,
    "start_time": "2021-12-11T10:36:19.765Z"
   },
   {
    "duration": 10,
    "start_time": "2021-12-11T10:37:15.144Z"
   },
   {
    "duration": 5,
    "start_time": "2021-12-11T10:37:18.210Z"
   },
   {
    "duration": 2,
    "start_time": "2021-12-11T10:37:40.643Z"
   },
   {
    "duration": 3,
    "start_time": "2021-12-11T10:37:42.416Z"
   },
   {
    "duration": 4,
    "start_time": "2021-12-11T10:40:21.271Z"
   },
   {
    "duration": 5,
    "start_time": "2021-12-11T10:40:32.139Z"
   },
   {
    "duration": 5,
    "start_time": "2021-12-11T10:40:40.290Z"
   },
   {
    "duration": 5,
    "start_time": "2021-12-11T10:40:56.840Z"
   },
   {
    "duration": 32,
    "start_time": "2021-12-11T10:41:22.090Z"
   },
   {
    "duration": 534083,
    "start_time": "2021-12-11T10:45:50.706Z"
   },
   {
    "duration": 3,
    "start_time": "2021-12-11T10:54:44.791Z"
   },
   {
    "duration": 20,
    "start_time": "2021-12-11T10:54:44.796Z"
   },
   {
    "duration": 533076,
    "start_time": "2021-12-11T10:54:44.818Z"
   },
   {
    "duration": 4,
    "start_time": "2021-12-11T11:03:37.896Z"
   },
   {
    "duration": 503,
    "start_time": "2021-12-11T11:03:37.989Z"
   },
   {
    "duration": 494,
    "start_time": "2021-12-11T11:03:38.494Z"
   },
   {
    "duration": 4,
    "start_time": "2021-12-11T11:03:38.991Z"
   },
   {
    "duration": 6,
    "start_time": "2021-12-11T11:23:51.395Z"
   },
   {
    "duration": 725,
    "start_time": "2021-12-11T11:23:51.403Z"
   },
   {
    "duration": 4,
    "start_time": "2021-12-11T11:23:52.130Z"
   },
   {
    "duration": 27,
    "start_time": "2021-12-11T11:23:52.136Z"
   },
   {
    "duration": 39,
    "start_time": "2021-12-11T11:23:52.164Z"
   },
   {
    "duration": 24,
    "start_time": "2021-12-11T11:23:52.205Z"
   },
   {
    "duration": 19,
    "start_time": "2021-12-11T11:23:52.231Z"
   },
   {
    "duration": 40,
    "start_time": "2021-12-11T11:23:52.253Z"
   },
   {
    "duration": 17,
    "start_time": "2021-12-11T11:23:52.295Z"
   },
   {
    "duration": 223,
    "start_time": "2021-12-11T11:23:52.315Z"
   },
   {
    "duration": 257,
    "start_time": "2021-12-11T11:23:52.540Z"
   },
   {
    "duration": 140,
    "start_time": "2021-12-11T11:23:52.799Z"
   },
   {
    "duration": 239,
    "start_time": "2021-12-11T11:23:52.940Z"
   },
   {
    "duration": 13,
    "start_time": "2021-12-11T11:23:53.181Z"
   },
   {
    "duration": 9,
    "start_time": "2021-12-11T11:23:53.196Z"
   },
   {
    "duration": 8,
    "start_time": "2021-12-11T11:23:53.206Z"
   },
   {
    "duration": 8,
    "start_time": "2021-12-11T11:23:53.215Z"
   },
   {
    "duration": 3,
    "start_time": "2021-12-11T11:23:53.224Z"
   },
   {
    "duration": 8,
    "start_time": "2021-12-11T11:23:53.229Z"
   },
   {
    "duration": 6,
    "start_time": "2021-12-11T11:23:53.238Z"
   },
   {
    "duration": 52,
    "start_time": "2021-12-11T11:23:53.245Z"
   },
   {
    "duration": 4,
    "start_time": "2021-12-11T11:23:53.299Z"
   },
   {
    "duration": 270,
    "start_time": "2021-12-11T11:23:53.307Z"
   },
   {
    "duration": 247,
    "start_time": "2021-12-11T11:23:53.580Z"
   },
   {
    "duration": 261,
    "start_time": "2021-12-11T11:23:53.830Z"
   },
   {
    "duration": 212,
    "start_time": "2021-12-11T11:23:54.094Z"
   },
   {
    "duration": 270,
    "start_time": "2021-12-11T11:23:54.308Z"
   },
   {
    "duration": 264,
    "start_time": "2021-12-11T11:23:54.579Z"
   },
   {
    "duration": 4,
    "start_time": "2021-12-11T11:23:54.844Z"
   },
   {
    "duration": 14,
    "start_time": "2021-12-11T11:23:54.849Z"
   },
   {
    "duration": 26,
    "start_time": "2021-12-11T11:23:54.865Z"
   },
   {
    "duration": 7,
    "start_time": "2021-12-11T11:23:54.894Z"
   },
   {
    "duration": 7,
    "start_time": "2021-12-11T11:23:54.902Z"
   },
   {
    "duration": 5,
    "start_time": "2021-12-11T11:23:54.911Z"
   },
   {
    "duration": 223,
    "start_time": "2021-12-11T11:23:54.918Z"
   },
   {
    "duration": 35995,
    "start_time": "2021-12-11T11:23:19.149Z"
   },
   {
    "duration": 35993,
    "start_time": "2021-12-11T11:23:19.152Z"
   },
   {
    "duration": 35987,
    "start_time": "2021-12-11T11:23:19.160Z"
   },
   {
    "duration": 35986,
    "start_time": "2021-12-11T11:23:19.163Z"
   },
   {
    "duration": 35983,
    "start_time": "2021-12-11T11:23:19.167Z"
   },
   {
    "duration": 35967,
    "start_time": "2021-12-11T11:23:19.185Z"
   },
   {
    "duration": 35965,
    "start_time": "2021-12-11T11:23:19.188Z"
   },
   {
    "duration": 274,
    "start_time": "2021-12-11T11:35:44.257Z"
   },
   {
    "duration": 292,
    "start_time": "2021-12-11T11:35:51.772Z"
   },
   {
    "duration": 199,
    "start_time": "2021-12-11T11:36:02.717Z"
   },
   {
    "duration": 174,
    "start_time": "2021-12-11T11:37:20.719Z"
   },
   {
    "duration": 4,
    "start_time": "2021-12-11T11:37:43.072Z"
   },
   {
    "duration": 821,
    "start_time": "2021-12-11T11:37:43.079Z"
   },
   {
    "duration": 4,
    "start_time": "2021-12-11T11:37:43.903Z"
   },
   {
    "duration": 40,
    "start_time": "2021-12-11T11:37:43.909Z"
   },
   {
    "duration": 21,
    "start_time": "2021-12-11T11:37:43.951Z"
   },
   {
    "duration": 42,
    "start_time": "2021-12-11T11:37:43.974Z"
   },
   {
    "duration": 17,
    "start_time": "2021-12-11T11:37:44.017Z"
   },
   {
    "duration": 10,
    "start_time": "2021-12-11T11:37:44.036Z"
   },
   {
    "duration": 44,
    "start_time": "2021-12-11T11:37:44.049Z"
   },
   {
    "duration": 221,
    "start_time": "2021-12-11T11:37:44.100Z"
   },
   {
    "duration": 264,
    "start_time": "2021-12-11T11:37:44.324Z"
   },
   {
    "duration": 146,
    "start_time": "2021-12-11T11:37:44.592Z"
   },
   {
    "duration": 273,
    "start_time": "2021-12-11T11:37:44.740Z"
   },
   {
    "duration": 4,
    "start_time": "2021-12-11T11:37:45.014Z"
   },
   {
    "duration": 17,
    "start_time": "2021-12-11T11:37:45.020Z"
   },
   {
    "duration": 7,
    "start_time": "2021-12-11T11:37:45.038Z"
   },
   {
    "duration": 7,
    "start_time": "2021-12-11T11:37:45.047Z"
   },
   {
    "duration": 4,
    "start_time": "2021-12-11T11:37:45.056Z"
   },
   {
    "duration": 36,
    "start_time": "2021-12-11T11:37:45.062Z"
   },
   {
    "duration": 7,
    "start_time": "2021-12-11T11:37:45.101Z"
   },
   {
    "duration": 7,
    "start_time": "2021-12-11T11:37:45.110Z"
   },
   {
    "duration": 5,
    "start_time": "2021-12-11T11:37:45.119Z"
   },
   {
    "duration": 285,
    "start_time": "2021-12-11T11:37:45.126Z"
   },
   {
    "duration": 259,
    "start_time": "2021-12-11T11:37:45.413Z"
   },
   {
    "duration": 284,
    "start_time": "2021-12-11T11:37:45.674Z"
   },
   {
    "duration": 217,
    "start_time": "2021-12-11T11:37:45.960Z"
   },
   {
    "duration": 260,
    "start_time": "2021-12-11T11:37:46.182Z"
   },
   {
    "duration": 280,
    "start_time": "2021-12-11T11:37:46.444Z"
   },
   {
    "duration": 3,
    "start_time": "2021-12-11T11:37:46.726Z"
   },
   {
    "duration": 325,
    "start_time": "2021-12-11T11:37:46.731Z"
   },
   {
    "duration": 36052,
    "start_time": "2021-12-11T11:37:11.006Z"
   },
   {
    "duration": 36043,
    "start_time": "2021-12-11T11:37:11.016Z"
   },
   {
    "duration": 36031,
    "start_time": "2021-12-11T11:37:11.029Z"
   },
   {
    "duration": 36029,
    "start_time": "2021-12-11T11:37:11.032Z"
   },
   {
    "duration": 36026,
    "start_time": "2021-12-11T11:37:11.036Z"
   },
   {
    "duration": 36024,
    "start_time": "2021-12-11T11:37:11.039Z"
   },
   {
    "duration": 36022,
    "start_time": "2021-12-11T11:37:11.042Z"
   },
   {
    "duration": 36020,
    "start_time": "2021-12-11T11:37:11.045Z"
   },
   {
    "duration": 35997,
    "start_time": "2021-12-11T11:37:11.069Z"
   },
   {
    "duration": 35994,
    "start_time": "2021-12-11T11:37:11.072Z"
   },
   {
    "duration": 35992,
    "start_time": "2021-12-11T11:37:11.075Z"
   },
   {
    "duration": 35990,
    "start_time": "2021-12-11T11:37:11.078Z"
   },
   {
    "duration": 4,
    "start_time": "2021-12-11T11:38:16.443Z"
   },
   {
    "duration": 790,
    "start_time": "2021-12-11T11:38:16.451Z"
   },
   {
    "duration": 5,
    "start_time": "2021-12-11T11:38:17.243Z"
   },
   {
    "duration": 50,
    "start_time": "2021-12-11T11:38:17.250Z"
   },
   {
    "duration": 27,
    "start_time": "2021-12-11T11:38:17.302Z"
   },
   {
    "duration": 24,
    "start_time": "2021-12-11T11:38:17.330Z"
   },
   {
    "duration": 16,
    "start_time": "2021-12-11T11:38:17.356Z"
   },
   {
    "duration": 17,
    "start_time": "2021-12-11T11:38:17.394Z"
   },
   {
    "duration": 15,
    "start_time": "2021-12-11T11:38:17.413Z"
   },
   {
    "duration": 234,
    "start_time": "2021-12-11T11:38:17.430Z"
   },
   {
    "duration": 261,
    "start_time": "2021-12-11T11:38:17.666Z"
   },
   {
    "duration": 138,
    "start_time": "2021-12-11T11:38:17.928Z"
   },
   {
    "duration": 276,
    "start_time": "2021-12-11T11:38:18.068Z"
   },
   {
    "duration": 5,
    "start_time": "2021-12-11T11:38:18.346Z"
   },
   {
    "duration": 9,
    "start_time": "2021-12-11T11:38:18.353Z"
   },
   {
    "duration": 8,
    "start_time": "2021-12-11T11:38:18.363Z"
   },
   {
    "duration": 14,
    "start_time": "2021-12-11T11:38:18.393Z"
   },
   {
    "duration": 4,
    "start_time": "2021-12-11T11:38:18.409Z"
   },
   {
    "duration": 8,
    "start_time": "2021-12-11T11:38:18.415Z"
   },
   {
    "duration": 5,
    "start_time": "2021-12-11T11:38:18.425Z"
   },
   {
    "duration": 9,
    "start_time": "2021-12-11T11:38:18.432Z"
   },
   {
    "duration": 3,
    "start_time": "2021-12-11T11:38:18.443Z"
   },
   {
    "duration": 300,
    "start_time": "2021-12-11T11:38:18.449Z"
   },
   {
    "duration": 259,
    "start_time": "2021-12-11T11:38:18.751Z"
   },
   {
    "duration": 341,
    "start_time": "2021-12-11T11:38:19.012Z"
   },
   {
    "duration": 215,
    "start_time": "2021-12-11T11:38:19.355Z"
   },
   {
    "duration": 264,
    "start_time": "2021-12-11T11:38:19.572Z"
   },
   {
    "duration": 283,
    "start_time": "2021-12-11T11:38:19.838Z"
   },
   {
    "duration": 3,
    "start_time": "2021-12-11T11:38:20.123Z"
   },
   {
    "duration": 202,
    "start_time": "2021-12-11T11:38:20.127Z"
   },
   {
    "duration": 36033,
    "start_time": "2021-12-11T11:37:44.298Z"
   },
   {
    "duration": 36029,
    "start_time": "2021-12-11T11:37:44.303Z"
   },
   {
    "duration": 36027,
    "start_time": "2021-12-11T11:37:44.306Z"
   },
   {
    "duration": 36025,
    "start_time": "2021-12-11T11:37:44.309Z"
   },
   {
    "duration": 36002,
    "start_time": "2021-12-11T11:37:44.333Z"
   },
   {
    "duration": 35999,
    "start_time": "2021-12-11T11:37:44.337Z"
   },
   {
    "duration": 35990,
    "start_time": "2021-12-11T11:37:44.346Z"
   },
   {
    "duration": 35989,
    "start_time": "2021-12-11T11:37:44.348Z"
   },
   {
    "duration": 35982,
    "start_time": "2021-12-11T11:37:44.356Z"
   },
   {
    "duration": 35980,
    "start_time": "2021-12-11T11:37:44.359Z"
   },
   {
    "duration": 35961,
    "start_time": "2021-12-11T11:37:44.379Z"
   },
   {
    "duration": 35959,
    "start_time": "2021-12-11T11:37:44.382Z"
   },
   {
    "duration": 365,
    "start_time": "2021-12-11T11:38:54.811Z"
   },
   {
    "duration": 4,
    "start_time": "2021-12-11T11:38:59.716Z"
   },
   {
    "duration": 730,
    "start_time": "2021-12-11T11:38:59.723Z"
   },
   {
    "duration": 4,
    "start_time": "2021-12-11T11:39:00.456Z"
   },
   {
    "duration": 37,
    "start_time": "2021-12-11T11:39:00.461Z"
   },
   {
    "duration": 26,
    "start_time": "2021-12-11T11:39:00.500Z"
   },
   {
    "duration": 29,
    "start_time": "2021-12-11T11:39:00.528Z"
   },
   {
    "duration": 41,
    "start_time": "2021-12-11T11:39:00.559Z"
   },
   {
    "duration": 15,
    "start_time": "2021-12-11T11:39:00.604Z"
   },
   {
    "duration": 22,
    "start_time": "2021-12-11T11:39:00.623Z"
   },
   {
    "duration": 231,
    "start_time": "2021-12-11T11:39:00.648Z"
   },
   {
    "duration": 271,
    "start_time": "2021-12-11T11:39:00.881Z"
   },
   {
    "duration": 157,
    "start_time": "2021-12-11T11:39:01.154Z"
   },
   {
    "duration": 250,
    "start_time": "2021-12-11T11:39:01.313Z"
   },
   {
    "duration": 5,
    "start_time": "2021-12-11T11:39:01.566Z"
   },
   {
    "duration": 28,
    "start_time": "2021-12-11T11:39:01.573Z"
   },
   {
    "duration": 10,
    "start_time": "2021-12-11T11:39:01.603Z"
   },
   {
    "duration": 13,
    "start_time": "2021-12-11T11:39:01.614Z"
   },
   {
    "duration": 5,
    "start_time": "2021-12-11T11:39:01.629Z"
   },
   {
    "duration": 11,
    "start_time": "2021-12-11T11:39:01.635Z"
   },
   {
    "duration": 6,
    "start_time": "2021-12-11T11:39:01.648Z"
   },
   {
    "duration": 9,
    "start_time": "2021-12-11T11:39:01.655Z"
   },
   {
    "duration": 34,
    "start_time": "2021-12-11T11:39:01.665Z"
   },
   {
    "duration": 273,
    "start_time": "2021-12-11T11:39:01.700Z"
   },
   {
    "duration": 255,
    "start_time": "2021-12-11T11:39:01.975Z"
   },
   {
    "duration": 271,
    "start_time": "2021-12-11T11:39:02.232Z"
   },
   {
    "duration": 223,
    "start_time": "2021-12-11T11:39:02.506Z"
   },
   {
    "duration": 286,
    "start_time": "2021-12-11T11:39:02.734Z"
   },
   {
    "duration": 299,
    "start_time": "2021-12-11T11:39:03.023Z"
   },
   {
    "duration": 3,
    "start_time": "2021-12-11T11:39:03.324Z"
   },
   {
    "duration": 224,
    "start_time": "2021-12-11T11:39:03.328Z"
   },
   {
    "duration": 36027,
    "start_time": "2021-12-11T11:38:27.526Z"
   },
   {
    "duration": 36024,
    "start_time": "2021-12-11T11:38:27.531Z"
   },
   {
    "duration": 36020,
    "start_time": "2021-12-11T11:38:27.535Z"
   },
   {
    "duration": 36018,
    "start_time": "2021-12-11T11:38:27.539Z"
   },
   {
    "duration": 36015,
    "start_time": "2021-12-11T11:38:27.543Z"
   },
   {
    "duration": 36001,
    "start_time": "2021-12-11T11:38:27.558Z"
   },
   {
    "duration": 35999,
    "start_time": "2021-12-11T11:38:27.561Z"
   },
   {
    "duration": 35983,
    "start_time": "2021-12-11T11:38:27.578Z"
   },
   {
    "duration": 35981,
    "start_time": "2021-12-11T11:38:27.581Z"
   },
   {
    "duration": 35979,
    "start_time": "2021-12-11T11:38:27.585Z"
   },
   {
    "duration": 35977,
    "start_time": "2021-12-11T11:38:27.588Z"
   },
   {
    "duration": 35974,
    "start_time": "2021-12-11T11:38:27.592Z"
   },
   {
    "duration": 5,
    "start_time": "2021-12-11T11:39:22.313Z"
   },
   {
    "duration": 829,
    "start_time": "2021-12-11T11:39:22.320Z"
   },
   {
    "duration": 4,
    "start_time": "2021-12-11T11:39:23.152Z"
   },
   {
    "duration": 43,
    "start_time": "2021-12-11T11:39:23.158Z"
   },
   {
    "duration": 25,
    "start_time": "2021-12-11T11:39:23.204Z"
   },
   {
    "duration": 22,
    "start_time": "2021-12-11T11:39:23.231Z"
   },
   {
    "duration": 128,
    "start_time": "2021-12-11T11:39:23.255Z"
   },
   {
    "duration": 19,
    "start_time": "2021-12-11T11:39:23.385Z"
   },
   {
    "duration": 15,
    "start_time": "2021-12-11T11:39:23.407Z"
   },
   {
    "duration": 239,
    "start_time": "2021-12-11T11:39:23.424Z"
   },
   {
    "duration": 269,
    "start_time": "2021-12-11T11:39:23.665Z"
   },
   {
    "duration": 176,
    "start_time": "2021-12-11T11:39:23.936Z"
   },
   {
    "duration": 247,
    "start_time": "2021-12-11T11:39:24.114Z"
   },
   {
    "duration": 5,
    "start_time": "2021-12-11T11:39:24.363Z"
   },
   {
    "duration": 10,
    "start_time": "2021-12-11T11:39:24.369Z"
   },
   {
    "duration": 15,
    "start_time": "2021-12-11T11:39:24.380Z"
   },
   {
    "duration": 13,
    "start_time": "2021-12-11T11:39:24.398Z"
   },
   {
    "duration": 3,
    "start_time": "2021-12-11T11:39:24.413Z"
   },
   {
    "duration": 9,
    "start_time": "2021-12-11T11:39:24.417Z"
   },
   {
    "duration": 5,
    "start_time": "2021-12-11T11:39:24.428Z"
   },
   {
    "duration": 15,
    "start_time": "2021-12-11T11:39:24.435Z"
   },
   {
    "duration": 12,
    "start_time": "2021-12-11T11:39:24.452Z"
   },
   {
    "duration": 282,
    "start_time": "2021-12-11T11:39:24.465Z"
   },
   {
    "duration": 395,
    "start_time": "2021-12-11T11:39:24.749Z"
   },
   {
    "duration": 291,
    "start_time": "2021-12-11T11:39:25.145Z"
   },
   {
    "duration": 231,
    "start_time": "2021-12-11T11:39:25.438Z"
   },
   {
    "duration": 277,
    "start_time": "2021-12-11T11:39:25.674Z"
   },
   {
    "duration": 294,
    "start_time": "2021-12-11T11:39:25.953Z"
   },
   {
    "duration": 3,
    "start_time": "2021-12-11T11:39:26.249Z"
   },
   {
    "duration": 383,
    "start_time": "2021-12-11T11:39:26.254Z"
   },
   {
    "duration": 36044,
    "start_time": "2021-12-11T11:38:50.594Z"
   },
   {
    "duration": 36043,
    "start_time": "2021-12-11T11:38:50.597Z"
   },
   {
    "duration": 36039,
    "start_time": "2021-12-11T11:38:50.601Z"
   },
   {
    "duration": 36037,
    "start_time": "2021-12-11T11:38:50.604Z"
   },
   {
    "duration": 36035,
    "start_time": "2021-12-11T11:38:50.607Z"
   },
   {
    "duration": 36027,
    "start_time": "2021-12-11T11:38:50.616Z"
   },
   {
    "duration": 36025,
    "start_time": "2021-12-11T11:38:50.619Z"
   },
   {
    "duration": 36022,
    "start_time": "2021-12-11T11:38:50.623Z"
   },
   {
    "duration": 36020,
    "start_time": "2021-12-11T11:38:50.626Z"
   },
   {
    "duration": 36012,
    "start_time": "2021-12-11T11:38:50.634Z"
   },
   {
    "duration": 36011,
    "start_time": "2021-12-11T11:38:50.637Z"
   },
   {
    "duration": 36008,
    "start_time": "2021-12-11T11:38:50.641Z"
   },
   {
    "duration": 5,
    "start_time": "2021-12-11T11:39:45.019Z"
   },
   {
    "duration": 794,
    "start_time": "2021-12-11T11:39:45.026Z"
   },
   {
    "duration": 3,
    "start_time": "2021-12-11T11:39:45.823Z"
   },
   {
    "duration": 25,
    "start_time": "2021-12-11T11:39:45.829Z"
   },
   {
    "duration": 57,
    "start_time": "2021-12-11T11:39:45.856Z"
   },
   {
    "duration": 37,
    "start_time": "2021-12-11T11:39:45.915Z"
   },
   {
    "duration": 18,
    "start_time": "2021-12-11T11:39:45.955Z"
   },
   {
    "duration": 18,
    "start_time": "2021-12-11T11:39:45.993Z"
   },
   {
    "duration": 22,
    "start_time": "2021-12-11T11:39:46.015Z"
   },
   {
    "duration": 258,
    "start_time": "2021-12-11T11:39:46.039Z"
   },
   {
    "duration": 272,
    "start_time": "2021-12-11T11:39:46.299Z"
   },
   {
    "duration": 148,
    "start_time": "2021-12-11T11:39:46.573Z"
   },
   {
    "duration": 251,
    "start_time": "2021-12-11T11:39:46.723Z"
   },
   {
    "duration": 16,
    "start_time": "2021-12-11T11:39:46.976Z"
   },
   {
    "duration": 15,
    "start_time": "2021-12-11T11:39:46.994Z"
   },
   {
    "duration": 8,
    "start_time": "2021-12-11T11:39:47.011Z"
   },
   {
    "duration": 8,
    "start_time": "2021-12-11T11:39:47.021Z"
   },
   {
    "duration": 2,
    "start_time": "2021-12-11T11:39:47.031Z"
   },
   {
    "duration": 16,
    "start_time": "2021-12-11T11:39:47.035Z"
   },
   {
    "duration": 7,
    "start_time": "2021-12-11T11:39:47.052Z"
   },
   {
    "duration": 38,
    "start_time": "2021-12-11T11:39:47.060Z"
   },
   {
    "duration": 5,
    "start_time": "2021-12-11T11:39:47.099Z"
   },
   {
    "duration": 275,
    "start_time": "2021-12-11T11:39:47.111Z"
   },
   {
    "duration": 258,
    "start_time": "2021-12-11T11:39:47.392Z"
   },
   {
    "duration": 276,
    "start_time": "2021-12-11T11:39:47.652Z"
   },
   {
    "duration": 325,
    "start_time": "2021-12-11T11:39:47.930Z"
   },
   {
    "duration": 276,
    "start_time": "2021-12-11T11:39:48.257Z"
   },
   {
    "duration": 277,
    "start_time": "2021-12-11T11:39:48.535Z"
   },
   {
    "duration": 3,
    "start_time": "2021-12-11T11:39:48.814Z"
   },
   {
    "duration": 225,
    "start_time": "2021-12-11T11:39:48.819Z"
   },
   {
    "duration": 36042,
    "start_time": "2021-12-11T11:39:13.004Z"
   },
   {
    "duration": 36040,
    "start_time": "2021-12-11T11:39:13.007Z"
   },
   {
    "duration": 36039,
    "start_time": "2021-12-11T11:39:13.010Z"
   },
   {
    "duration": 36036,
    "start_time": "2021-12-11T11:39:13.014Z"
   },
   {
    "duration": 36034,
    "start_time": "2021-12-11T11:39:13.017Z"
   },
   {
    "duration": 36031,
    "start_time": "2021-12-11T11:39:13.021Z"
   },
   {
    "duration": 36030,
    "start_time": "2021-12-11T11:39:13.023Z"
   },
   {
    "duration": 36028,
    "start_time": "2021-12-11T11:39:13.027Z"
   },
   {
    "duration": 36025,
    "start_time": "2021-12-11T11:39:13.030Z"
   },
   {
    "duration": 36023,
    "start_time": "2021-12-11T11:39:13.033Z"
   },
   {
    "duration": 36021,
    "start_time": "2021-12-11T11:39:13.036Z"
   },
   {
    "duration": 36017,
    "start_time": "2021-12-11T11:39:13.041Z"
   },
   {
    "duration": 4,
    "start_time": "2021-12-11T11:41:30.151Z"
   },
   {
    "duration": 745,
    "start_time": "2021-12-11T11:41:30.157Z"
   },
   {
    "duration": 3,
    "start_time": "2021-12-11T11:41:30.904Z"
   },
   {
    "duration": 51,
    "start_time": "2021-12-11T11:41:30.909Z"
   },
   {
    "duration": 24,
    "start_time": "2021-12-11T11:41:30.962Z"
   },
   {
    "duration": 27,
    "start_time": "2021-12-11T11:41:30.991Z"
   },
   {
    "duration": 34,
    "start_time": "2021-12-11T11:41:31.020Z"
   },
   {
    "duration": 10,
    "start_time": "2021-12-11T11:41:31.058Z"
   },
   {
    "duration": 30,
    "start_time": "2021-12-11T11:41:31.070Z"
   },
   {
    "duration": 212,
    "start_time": "2021-12-11T11:41:31.102Z"
   },
   {
    "duration": 267,
    "start_time": "2021-12-11T11:41:31.316Z"
   },
   {
    "duration": 144,
    "start_time": "2021-12-11T11:41:31.585Z"
   },
   {
    "duration": 246,
    "start_time": "2021-12-11T11:41:31.731Z"
   },
   {
    "duration": 12,
    "start_time": "2021-12-11T11:41:31.979Z"
   },
   {
    "duration": 10,
    "start_time": "2021-12-11T11:41:31.993Z"
   },
   {
    "duration": 10,
    "start_time": "2021-12-11T11:41:32.005Z"
   },
   {
    "duration": 27,
    "start_time": "2021-12-11T11:41:32.017Z"
   },
   {
    "duration": 16,
    "start_time": "2021-12-11T11:41:32.046Z"
   },
   {
    "duration": 34,
    "start_time": "2021-12-11T11:41:32.064Z"
   },
   {
    "duration": 7,
    "start_time": "2021-12-11T11:41:32.100Z"
   },
   {
    "duration": 28,
    "start_time": "2021-12-11T11:41:32.109Z"
   },
   {
    "duration": 8,
    "start_time": "2021-12-11T11:41:32.139Z"
   },
   {
    "duration": 269,
    "start_time": "2021-12-11T11:41:32.150Z"
   },
   {
    "duration": 259,
    "start_time": "2021-12-11T11:41:32.421Z"
   },
   {
    "duration": 268,
    "start_time": "2021-12-11T11:41:32.682Z"
   },
   {
    "duration": 232,
    "start_time": "2021-12-11T11:41:32.952Z"
   },
   {
    "duration": 256,
    "start_time": "2021-12-11T11:41:33.190Z"
   },
   {
    "duration": 278,
    "start_time": "2021-12-11T11:41:33.448Z"
   },
   {
    "duration": 4,
    "start_time": "2021-12-11T11:41:33.727Z"
   },
   {
    "duration": 51,
    "start_time": "2021-12-11T11:41:33.732Z"
   },
   {
    "duration": 7,
    "start_time": "2021-12-11T11:41:33.785Z"
   },
   {
    "duration": 15,
    "start_time": "2021-12-11T11:41:33.794Z"
   },
   {
    "duration": 21,
    "start_time": "2021-12-11T11:41:33.810Z"
   },
   {
    "duration": 15,
    "start_time": "2021-12-11T11:41:33.833Z"
   },
   {
    "duration": 232,
    "start_time": "2021-12-11T11:41:33.849Z"
   },
   {
    "duration": 36016,
    "start_time": "2021-12-11T11:40:58.067Z"
   },
   {
    "duration": 36014,
    "start_time": "2021-12-11T11:40:58.070Z"
   },
   {
    "duration": 36008,
    "start_time": "2021-12-11T11:40:58.077Z"
   },
   {
    "duration": 36005,
    "start_time": "2021-12-11T11:40:58.081Z"
   },
   {
    "duration": 36002,
    "start_time": "2021-12-11T11:40:58.085Z"
   },
   {
    "duration": 35999,
    "start_time": "2021-12-11T11:40:58.089Z"
   },
   {
    "duration": 35977,
    "start_time": "2021-12-11T11:40:58.112Z"
   },
   {
    "duration": 4,
    "start_time": "2021-12-11T11:43:22.128Z"
   },
   {
    "duration": 728,
    "start_time": "2021-12-11T11:43:22.133Z"
   },
   {
    "duration": 4,
    "start_time": "2021-12-11T11:43:22.863Z"
   },
   {
    "duration": 35,
    "start_time": "2021-12-11T11:43:22.870Z"
   },
   {
    "duration": 25,
    "start_time": "2021-12-11T11:43:22.907Z"
   },
   {
    "duration": 23,
    "start_time": "2021-12-11T11:43:22.934Z"
   },
   {
    "duration": 46,
    "start_time": "2021-12-11T11:43:22.959Z"
   },
   {
    "duration": 11,
    "start_time": "2021-12-11T11:43:23.008Z"
   },
   {
    "duration": 16,
    "start_time": "2021-12-11T11:43:23.022Z"
   },
   {
    "duration": 227,
    "start_time": "2021-12-11T11:43:23.040Z"
   },
   {
    "duration": 253,
    "start_time": "2021-12-11T11:43:23.269Z"
   },
   {
    "duration": 137,
    "start_time": "2021-12-11T11:43:23.523Z"
   },
   {
    "duration": 324,
    "start_time": "2021-12-11T11:43:23.662Z"
   },
   {
    "duration": 6,
    "start_time": "2021-12-11T11:43:23.988Z"
   },
   {
    "duration": 10,
    "start_time": "2021-12-11T11:43:23.996Z"
   },
   {
    "duration": 7,
    "start_time": "2021-12-11T11:43:24.008Z"
   },
   {
    "duration": 8,
    "start_time": "2021-12-11T11:43:24.017Z"
   },
   {
    "duration": 3,
    "start_time": "2021-12-11T11:43:24.026Z"
   },
   {
    "duration": 9,
    "start_time": "2021-12-11T11:43:24.031Z"
   },
   {
    "duration": 9,
    "start_time": "2021-12-11T11:43:24.042Z"
   },
   {
    "duration": 8,
    "start_time": "2021-12-11T11:43:24.092Z"
   },
   {
    "duration": 4,
    "start_time": "2021-12-11T11:43:24.102Z"
   },
   {
    "duration": 267,
    "start_time": "2021-12-11T11:43:24.109Z"
   },
   {
    "duration": 255,
    "start_time": "2021-12-11T11:43:24.378Z"
   },
   {
    "duration": 257,
    "start_time": "2021-12-11T11:43:24.634Z"
   },
   {
    "duration": 219,
    "start_time": "2021-12-11T11:43:24.893Z"
   },
   {
    "duration": 251,
    "start_time": "2021-12-11T11:43:25.113Z"
   },
   {
    "duration": 281,
    "start_time": "2021-12-11T11:43:25.366Z"
   },
   {
    "duration": 4,
    "start_time": "2021-12-11T11:43:25.649Z"
   },
   {
    "duration": 49,
    "start_time": "2021-12-11T11:43:25.654Z"
   },
   {
    "duration": 3,
    "start_time": "2021-12-11T11:43:25.705Z"
   },
   {
    "duration": 6,
    "start_time": "2021-12-11T11:43:25.710Z"
   },
   {
    "duration": 6,
    "start_time": "2021-12-11T11:43:25.717Z"
   },
   {
    "duration": 6,
    "start_time": "2021-12-11T11:43:25.724Z"
   },
   {
    "duration": 223,
    "start_time": "2021-12-11T11:43:25.732Z"
   },
   {
    "duration": 36037,
    "start_time": "2021-12-11T11:42:49.919Z"
   },
   {
    "duration": 36035,
    "start_time": "2021-12-11T11:42:49.922Z"
   },
   {
    "duration": 36033,
    "start_time": "2021-12-11T11:42:49.925Z"
   },
   {
    "duration": 36031,
    "start_time": "2021-12-11T11:42:49.928Z"
   },
   {
    "duration": 36025,
    "start_time": "2021-12-11T11:42:49.935Z"
   },
   {
    "duration": 36023,
    "start_time": "2021-12-11T11:42:49.938Z"
   },
   {
    "duration": 36021,
    "start_time": "2021-12-11T11:42:49.941Z"
   },
   {
    "duration": 216,
    "start_time": "2021-12-11T11:44:05.684Z"
   },
   {
    "duration": 4,
    "start_time": "2021-12-11T11:46:17.822Z"
   },
   {
    "duration": 774,
    "start_time": "2021-12-11T11:46:17.829Z"
   },
   {
    "duration": 4,
    "start_time": "2021-12-11T11:46:18.605Z"
   },
   {
    "duration": 25,
    "start_time": "2021-12-11T11:46:18.612Z"
   },
   {
    "duration": 23,
    "start_time": "2021-12-11T11:46:18.639Z"
   },
   {
    "duration": 54,
    "start_time": "2021-12-11T11:46:18.664Z"
   },
   {
    "duration": 19,
    "start_time": "2021-12-11T11:46:18.720Z"
   },
   {
    "duration": 11,
    "start_time": "2021-12-11T11:46:18.741Z"
   },
   {
    "duration": 40,
    "start_time": "2021-12-11T11:46:18.754Z"
   },
   {
    "duration": 217,
    "start_time": "2021-12-11T11:46:18.795Z"
   },
   {
    "duration": 272,
    "start_time": "2021-12-11T11:46:19.014Z"
   },
   {
    "duration": 155,
    "start_time": "2021-12-11T11:46:19.288Z"
   },
   {
    "duration": 254,
    "start_time": "2021-12-11T11:46:19.445Z"
   },
   {
    "duration": 6,
    "start_time": "2021-12-11T11:46:19.703Z"
   },
   {
    "duration": 10,
    "start_time": "2021-12-11T11:46:19.711Z"
   },
   {
    "duration": 7,
    "start_time": "2021-12-11T11:46:19.722Z"
   },
   {
    "duration": 7,
    "start_time": "2021-12-11T11:46:19.731Z"
   },
   {
    "duration": 2,
    "start_time": "2021-12-11T11:46:19.740Z"
   },
   {
    "duration": 8,
    "start_time": "2021-12-11T11:46:19.744Z"
   },
   {
    "duration": 44,
    "start_time": "2021-12-11T11:46:19.753Z"
   },
   {
    "duration": 11,
    "start_time": "2021-12-11T11:46:19.800Z"
   },
   {
    "duration": 4,
    "start_time": "2021-12-11T11:46:19.813Z"
   },
   {
    "duration": 295,
    "start_time": "2021-12-11T11:46:19.820Z"
   },
   {
    "duration": 278,
    "start_time": "2021-12-11T11:46:20.118Z"
   },
   {
    "duration": 277,
    "start_time": "2021-12-11T11:46:20.399Z"
   },
   {
    "duration": 228,
    "start_time": "2021-12-11T11:46:20.679Z"
   },
   {
    "duration": 358,
    "start_time": "2021-12-11T11:46:20.908Z"
   },
   {
    "duration": 291,
    "start_time": "2021-12-11T11:46:21.268Z"
   },
   {
    "duration": 3,
    "start_time": "2021-12-11T11:46:21.561Z"
   },
   {
    "duration": 60,
    "start_time": "2021-12-11T11:46:21.565Z"
   },
   {
    "duration": 4,
    "start_time": "2021-12-11T11:46:21.627Z"
   },
   {
    "duration": 5,
    "start_time": "2021-12-11T11:46:21.632Z"
   },
   {
    "duration": 7,
    "start_time": "2021-12-11T11:46:21.639Z"
   },
   {
    "duration": 7,
    "start_time": "2021-12-11T11:46:21.647Z"
   },
   {
    "duration": 267,
    "start_time": "2021-12-11T11:46:21.655Z"
   },
   {
    "duration": 36020,
    "start_time": "2021-12-11T11:45:45.904Z"
   },
   {
    "duration": 36016,
    "start_time": "2021-12-11T11:45:45.909Z"
   },
   {
    "duration": 36015,
    "start_time": "2021-12-11T11:45:45.911Z"
   },
   {
    "duration": 36013,
    "start_time": "2021-12-11T11:45:45.914Z"
   },
   {
    "duration": 36012,
    "start_time": "2021-12-11T11:45:45.916Z"
   },
   {
    "duration": 36009,
    "start_time": "2021-12-11T11:45:45.920Z"
   },
   {
    "duration": 36008,
    "start_time": "2021-12-11T11:45:45.922Z"
   },
   {
    "duration": 203,
    "start_time": "2021-12-11T11:47:12.562Z"
   },
   {
    "duration": 3,
    "start_time": "2021-12-11T11:47:17.268Z"
   },
   {
    "duration": 758,
    "start_time": "2021-12-11T11:47:17.273Z"
   },
   {
    "duration": 3,
    "start_time": "2021-12-11T11:47:18.033Z"
   },
   {
    "duration": 24,
    "start_time": "2021-12-11T11:47:18.038Z"
   },
   {
    "duration": 39,
    "start_time": "2021-12-11T11:47:18.063Z"
   },
   {
    "duration": 25,
    "start_time": "2021-12-11T11:47:18.104Z"
   },
   {
    "duration": 19,
    "start_time": "2021-12-11T11:47:18.131Z"
   },
   {
    "duration": 39,
    "start_time": "2021-12-11T11:47:18.154Z"
   },
   {
    "duration": 16,
    "start_time": "2021-12-11T11:47:18.196Z"
   },
   {
    "duration": 219,
    "start_time": "2021-12-11T11:47:18.214Z"
   },
   {
    "duration": 255,
    "start_time": "2021-12-11T11:47:18.435Z"
   },
   {
    "duration": 141,
    "start_time": "2021-12-11T11:47:18.692Z"
   },
   {
    "duration": 238,
    "start_time": "2021-12-11T11:47:18.835Z"
   },
   {
    "duration": 4,
    "start_time": "2021-12-11T11:47:19.075Z"
   },
   {
    "duration": 8,
    "start_time": "2021-12-11T11:47:19.092Z"
   },
   {
    "duration": 8,
    "start_time": "2021-12-11T11:47:19.101Z"
   },
   {
    "duration": 8,
    "start_time": "2021-12-11T11:47:19.111Z"
   },
   {
    "duration": 14,
    "start_time": "2021-12-11T11:47:19.120Z"
   },
   {
    "duration": 23,
    "start_time": "2021-12-11T11:47:19.135Z"
   },
   {
    "duration": 29,
    "start_time": "2021-12-11T11:47:19.159Z"
   },
   {
    "duration": 24,
    "start_time": "2021-12-11T11:47:19.190Z"
   },
   {
    "duration": 16,
    "start_time": "2021-12-11T11:47:19.216Z"
   },
   {
    "duration": 275,
    "start_time": "2021-12-11T11:47:19.236Z"
   },
   {
    "duration": 256,
    "start_time": "2021-12-11T11:47:19.513Z"
   },
   {
    "duration": 256,
    "start_time": "2021-12-11T11:47:19.771Z"
   },
   {
    "duration": 222,
    "start_time": "2021-12-11T11:47:20.029Z"
   },
   {
    "duration": 247,
    "start_time": "2021-12-11T11:47:20.252Z"
   },
   {
    "duration": 282,
    "start_time": "2021-12-11T11:47:20.500Z"
   },
   {
    "duration": 7,
    "start_time": "2021-12-11T11:47:20.784Z"
   },
   {
    "duration": 47,
    "start_time": "2021-12-11T11:47:20.793Z"
   },
   {
    "duration": 3,
    "start_time": "2021-12-11T11:47:20.842Z"
   },
   {
    "duration": 22,
    "start_time": "2021-12-11T11:47:20.847Z"
   },
   {
    "duration": 26,
    "start_time": "2021-12-11T11:47:20.870Z"
   },
   {
    "duration": 15,
    "start_time": "2021-12-11T11:47:20.897Z"
   },
   {
    "duration": 242,
    "start_time": "2021-12-11T11:47:20.913Z"
   },
   {
    "duration": 36030,
    "start_time": "2021-12-11T11:46:45.127Z"
   },
   {
    "duration": 36027,
    "start_time": "2021-12-11T11:46:45.131Z"
   },
   {
    "duration": 36025,
    "start_time": "2021-12-11T11:46:45.134Z"
   },
   {
    "duration": 36024,
    "start_time": "2021-12-11T11:46:45.136Z"
   },
   {
    "duration": 36013,
    "start_time": "2021-12-11T11:46:45.148Z"
   },
   {
    "duration": 36011,
    "start_time": "2021-12-11T11:46:45.151Z"
   },
   {
    "duration": 36009,
    "start_time": "2021-12-11T11:46:45.154Z"
   },
   {
    "duration": 189,
    "start_time": "2021-12-11T11:48:17.617Z"
   },
   {
    "duration": 5,
    "start_time": "2021-12-11T11:48:22.702Z"
   },
   {
    "duration": 735,
    "start_time": "2021-12-11T11:48:22.708Z"
   },
   {
    "duration": 4,
    "start_time": "2021-12-11T11:48:23.445Z"
   },
   {
    "duration": 45,
    "start_time": "2021-12-11T11:48:23.451Z"
   },
   {
    "duration": 27,
    "start_time": "2021-12-11T11:48:23.498Z"
   },
   {
    "duration": 43,
    "start_time": "2021-12-11T11:48:23.527Z"
   },
   {
    "duration": 18,
    "start_time": "2021-12-11T11:48:23.572Z"
   },
   {
    "duration": 10,
    "start_time": "2021-12-11T11:48:23.592Z"
   },
   {
    "duration": 18,
    "start_time": "2021-12-11T11:48:23.604Z"
   },
   {
    "duration": 222,
    "start_time": "2021-12-11T11:48:23.624Z"
   },
   {
    "duration": 262,
    "start_time": "2021-12-11T11:48:23.847Z"
   },
   {
    "duration": 134,
    "start_time": "2021-12-11T11:48:24.111Z"
   },
   {
    "duration": 247,
    "start_time": "2021-12-11T11:48:24.247Z"
   },
   {
    "duration": 4,
    "start_time": "2021-12-11T11:48:24.496Z"
   },
   {
    "duration": 9,
    "start_time": "2021-12-11T11:48:24.502Z"
   },
   {
    "duration": 8,
    "start_time": "2021-12-11T11:48:24.512Z"
   },
   {
    "duration": 8,
    "start_time": "2021-12-11T11:48:24.521Z"
   },
   {
    "duration": 3,
    "start_time": "2021-12-11T11:48:24.530Z"
   },
   {
    "duration": 7,
    "start_time": "2021-12-11T11:48:24.535Z"
   },
   {
    "duration": 48,
    "start_time": "2021-12-11T11:48:24.544Z"
   },
   {
    "duration": 7,
    "start_time": "2021-12-11T11:48:24.594Z"
   },
   {
    "duration": 4,
    "start_time": "2021-12-11T11:48:24.603Z"
   },
   {
    "duration": 263,
    "start_time": "2021-12-11T11:48:24.611Z"
   },
   {
    "duration": 341,
    "start_time": "2021-12-11T11:48:24.875Z"
   },
   {
    "duration": 272,
    "start_time": "2021-12-11T11:48:25.218Z"
   },
   {
    "duration": 208,
    "start_time": "2021-12-11T11:48:25.492Z"
   },
   {
    "duration": 251,
    "start_time": "2021-12-11T11:48:25.701Z"
   },
   {
    "duration": 278,
    "start_time": "2021-12-11T11:48:25.953Z"
   },
   {
    "duration": 3,
    "start_time": "2021-12-11T11:48:26.234Z"
   },
   {
    "duration": 46,
    "start_time": "2021-12-11T11:48:26.239Z"
   },
   {
    "duration": 4,
    "start_time": "2021-12-11T11:48:26.292Z"
   },
   {
    "duration": 27,
    "start_time": "2021-12-11T11:48:26.299Z"
   },
   {
    "duration": 13,
    "start_time": "2021-12-11T11:48:26.328Z"
   },
   {
    "duration": 19,
    "start_time": "2021-12-11T11:48:26.342Z"
   },
   {
    "duration": 269,
    "start_time": "2021-12-11T11:48:26.363Z"
   },
   {
    "duration": 35993,
    "start_time": "2021-12-11T11:47:50.641Z"
   },
   {
    "duration": 35977,
    "start_time": "2021-12-11T11:47:50.658Z"
   },
   {
    "duration": 35966,
    "start_time": "2021-12-11T11:47:50.670Z"
   },
   {
    "duration": 35958,
    "start_time": "2021-12-11T11:47:50.679Z"
   },
   {
    "duration": 35956,
    "start_time": "2021-12-11T11:47:50.682Z"
   },
   {
    "duration": 35936,
    "start_time": "2021-12-11T11:47:50.703Z"
   },
   {
    "duration": 35922,
    "start_time": "2021-12-11T11:47:50.718Z"
   },
   {
    "duration": 175,
    "start_time": "2021-12-11T11:48:50.695Z"
   },
   {
    "duration": 4,
    "start_time": "2021-12-11T11:48:55.646Z"
   },
   {
    "duration": 686,
    "start_time": "2021-12-11T11:48:55.652Z"
   },
   {
    "duration": 4,
    "start_time": "2021-12-11T11:48:56.340Z"
   },
   {
    "duration": 25,
    "start_time": "2021-12-11T11:48:56.346Z"
   },
   {
    "duration": 36,
    "start_time": "2021-12-11T11:48:56.373Z"
   },
   {
    "duration": 22,
    "start_time": "2021-12-11T11:48:56.411Z"
   },
   {
    "duration": 16,
    "start_time": "2021-12-11T11:48:56.434Z"
   },
   {
    "duration": 10,
    "start_time": "2021-12-11T11:48:56.453Z"
   },
   {
    "duration": 40,
    "start_time": "2021-12-11T11:48:56.465Z"
   },
   {
    "duration": 206,
    "start_time": "2021-12-11T11:48:56.506Z"
   },
   {
    "duration": 250,
    "start_time": "2021-12-11T11:48:56.714Z"
   },
   {
    "duration": 156,
    "start_time": "2021-12-11T11:48:56.966Z"
   },
   {
    "duration": 234,
    "start_time": "2021-12-11T11:48:57.123Z"
   },
   {
    "duration": 4,
    "start_time": "2021-12-11T11:48:57.359Z"
   },
   {
    "duration": 9,
    "start_time": "2021-12-11T11:48:57.364Z"
   },
   {
    "duration": 23,
    "start_time": "2021-12-11T11:48:57.374Z"
   },
   {
    "duration": 7,
    "start_time": "2021-12-11T11:48:57.399Z"
   },
   {
    "duration": 3,
    "start_time": "2021-12-11T11:48:57.407Z"
   },
   {
    "duration": 11,
    "start_time": "2021-12-11T11:48:57.412Z"
   },
   {
    "duration": 6,
    "start_time": "2021-12-11T11:48:57.425Z"
   },
   {
    "duration": 7,
    "start_time": "2021-12-11T11:48:57.432Z"
   },
   {
    "duration": 5,
    "start_time": "2021-12-11T11:48:57.440Z"
   },
   {
    "duration": 287,
    "start_time": "2021-12-11T11:48:57.448Z"
   },
   {
    "duration": 233,
    "start_time": "2021-12-11T11:48:57.737Z"
   },
   {
    "duration": 244,
    "start_time": "2021-12-11T11:48:57.972Z"
   },
   {
    "duration": 202,
    "start_time": "2021-12-11T11:48:58.217Z"
   },
   {
    "duration": 232,
    "start_time": "2021-12-11T11:48:58.421Z"
   },
   {
    "duration": 342,
    "start_time": "2021-12-11T11:48:58.655Z"
   },
   {
    "duration": 3,
    "start_time": "2021-12-11T11:48:58.999Z"
   },
   {
    "duration": 47,
    "start_time": "2021-12-11T11:48:59.003Z"
   },
   {
    "duration": 3,
    "start_time": "2021-12-11T11:48:59.052Z"
   },
   {
    "duration": 6,
    "start_time": "2021-12-11T11:48:59.056Z"
   },
   {
    "duration": 8,
    "start_time": "2021-12-11T11:48:59.064Z"
   },
   {
    "duration": 19,
    "start_time": "2021-12-11T11:48:59.073Z"
   },
   {
    "duration": 229,
    "start_time": "2021-12-11T11:48:59.093Z"
   },
   {
    "duration": 36019,
    "start_time": "2021-12-11T11:48:23.305Z"
   },
   {
    "duration": 36002,
    "start_time": "2021-12-11T11:48:23.323Z"
   },
   {
    "duration": 35996,
    "start_time": "2021-12-11T11:48:23.331Z"
   },
   {
    "duration": 35994,
    "start_time": "2021-12-11T11:48:23.334Z"
   },
   {
    "duration": 35987,
    "start_time": "2021-12-11T11:48:23.342Z"
   },
   {
    "duration": 35985,
    "start_time": "2021-12-11T11:48:23.345Z"
   },
   {
    "duration": 35982,
    "start_time": "2021-12-11T11:48:23.349Z"
   },
   {
    "duration": 4,
    "start_time": "2021-12-11T11:50:30.144Z"
   },
   {
    "duration": 713,
    "start_time": "2021-12-11T11:50:30.150Z"
   },
   {
    "duration": 3,
    "start_time": "2021-12-11T11:50:30.865Z"
   },
   {
    "duration": 44,
    "start_time": "2021-12-11T11:50:30.870Z"
   },
   {
    "duration": 29,
    "start_time": "2021-12-11T11:50:30.915Z"
   },
   {
    "duration": 35,
    "start_time": "2021-12-11T11:50:30.946Z"
   },
   {
    "duration": 29,
    "start_time": "2021-12-11T11:50:30.983Z"
   },
   {
    "duration": 18,
    "start_time": "2021-12-11T11:50:31.014Z"
   },
   {
    "duration": 33,
    "start_time": "2021-12-11T11:50:31.035Z"
   },
   {
    "duration": 200,
    "start_time": "2021-12-11T11:50:31.070Z"
   },
   {
    "duration": 258,
    "start_time": "2021-12-11T11:50:31.271Z"
   },
   {
    "duration": 131,
    "start_time": "2021-12-11T11:50:31.530Z"
   },
   {
    "duration": 229,
    "start_time": "2021-12-11T11:50:31.663Z"
   },
   {
    "duration": 3,
    "start_time": "2021-12-11T11:50:31.894Z"
   },
   {
    "duration": 8,
    "start_time": "2021-12-11T11:50:31.899Z"
   },
   {
    "duration": 6,
    "start_time": "2021-12-11T11:50:31.909Z"
   },
   {
    "duration": 7,
    "start_time": "2021-12-11T11:50:31.917Z"
   },
   {
    "duration": 2,
    "start_time": "2021-12-11T11:50:31.925Z"
   },
   {
    "duration": 8,
    "start_time": "2021-12-11T11:50:31.929Z"
   },
   {
    "duration": 57,
    "start_time": "2021-12-11T11:50:31.938Z"
   },
   {
    "duration": 9,
    "start_time": "2021-12-11T11:50:31.996Z"
   },
   {
    "duration": 5,
    "start_time": "2021-12-11T11:50:32.007Z"
   },
   {
    "duration": 328,
    "start_time": "2021-12-11T11:50:32.014Z"
   },
   {
    "duration": 241,
    "start_time": "2021-12-11T11:50:32.344Z"
   },
   {
    "duration": 260,
    "start_time": "2021-12-11T11:50:32.587Z"
   },
   {
    "duration": 196,
    "start_time": "2021-12-11T11:50:32.849Z"
   },
   {
    "duration": 244,
    "start_time": "2021-12-11T11:50:33.048Z"
   },
   {
    "duration": 263,
    "start_time": "2021-12-11T11:50:33.294Z"
   },
   {
    "duration": 3,
    "start_time": "2021-12-11T11:50:33.558Z"
   },
   {
    "duration": 211,
    "start_time": "2021-12-11T11:50:33.562Z"
   },
   {
    "duration": 36035,
    "start_time": "2021-12-11T11:49:57.740Z"
   },
   {
    "duration": 36013,
    "start_time": "2021-12-11T11:49:57.763Z"
   },
   {
    "duration": 36009,
    "start_time": "2021-12-11T11:49:57.767Z"
   },
   {
    "duration": 36007,
    "start_time": "2021-12-11T11:49:57.770Z"
   },
   {
    "duration": 36005,
    "start_time": "2021-12-11T11:49:57.773Z"
   },
   {
    "duration": 36002,
    "start_time": "2021-12-11T11:49:57.777Z"
   },
   {
    "duration": 36000,
    "start_time": "2021-12-11T11:49:57.780Z"
   },
   {
    "duration": 35997,
    "start_time": "2021-12-11T11:49:57.784Z"
   },
   {
    "duration": 35974,
    "start_time": "2021-12-11T11:49:57.808Z"
   },
   {
    "duration": 35972,
    "start_time": "2021-12-11T11:49:57.811Z"
   },
   {
    "duration": 35970,
    "start_time": "2021-12-11T11:49:57.814Z"
   },
   {
    "duration": 35969,
    "start_time": "2021-12-11T11:49:57.817Z"
   },
   {
    "duration": 4,
    "start_time": "2021-12-11T11:51:02.295Z"
   },
   {
    "duration": 697,
    "start_time": "2021-12-11T11:51:02.301Z"
   },
   {
    "duration": 3,
    "start_time": "2021-12-11T11:51:03.000Z"
   },
   {
    "duration": 25,
    "start_time": "2021-12-11T11:51:03.005Z"
   },
   {
    "duration": 21,
    "start_time": "2021-12-11T11:51:03.032Z"
   },
   {
    "duration": 47,
    "start_time": "2021-12-11T11:51:03.055Z"
   },
   {
    "duration": 17,
    "start_time": "2021-12-11T11:51:03.104Z"
   },
   {
    "duration": 10,
    "start_time": "2021-12-11T11:51:03.123Z"
   },
   {
    "duration": 15,
    "start_time": "2021-12-11T11:51:03.134Z"
   },
   {
    "duration": 229,
    "start_time": "2021-12-11T11:51:03.151Z"
   },
   {
    "duration": 249,
    "start_time": "2021-12-11T11:51:03.382Z"
   },
   {
    "duration": 134,
    "start_time": "2021-12-11T11:51:03.633Z"
   },
   {
    "duration": 233,
    "start_time": "2021-12-11T11:51:03.769Z"
   },
   {
    "duration": 4,
    "start_time": "2021-12-11T11:51:04.004Z"
   },
   {
    "duration": 9,
    "start_time": "2021-12-11T11:51:04.009Z"
   },
   {
    "duration": 6,
    "start_time": "2021-12-11T11:51:04.020Z"
   },
   {
    "duration": 6,
    "start_time": "2021-12-11T11:51:04.028Z"
   },
   {
    "duration": 2,
    "start_time": "2021-12-11T11:51:04.036Z"
   },
   {
    "duration": 6,
    "start_time": "2021-12-11T11:51:04.041Z"
   },
   {
    "duration": 45,
    "start_time": "2021-12-11T11:51:04.049Z"
   },
   {
    "duration": 7,
    "start_time": "2021-12-11T11:51:04.095Z"
   },
   {
    "duration": 4,
    "start_time": "2021-12-11T11:51:04.104Z"
   },
   {
    "duration": 258,
    "start_time": "2021-12-11T11:51:04.110Z"
   },
   {
    "duration": 244,
    "start_time": "2021-12-11T11:51:04.369Z"
   },
   {
    "duration": 329,
    "start_time": "2021-12-11T11:51:04.615Z"
   },
   {
    "duration": 203,
    "start_time": "2021-12-11T11:51:04.945Z"
   },
   {
    "duration": 239,
    "start_time": "2021-12-11T11:51:05.150Z"
   },
   {
    "duration": 255,
    "start_time": "2021-12-11T11:51:05.391Z"
   },
   {
    "duration": 2,
    "start_time": "2021-12-11T11:51:05.648Z"
   },
   {
    "duration": 50,
    "start_time": "2021-12-11T11:51:05.652Z"
   },
   {
    "duration": 4,
    "start_time": "2021-12-11T11:51:05.703Z"
   },
   {
    "duration": 5,
    "start_time": "2021-12-11T11:51:05.709Z"
   },
   {
    "duration": 5,
    "start_time": "2021-12-11T11:51:05.716Z"
   },
   {
    "duration": 8,
    "start_time": "2021-12-11T11:51:05.722Z"
   },
   {
    "duration": 748,
    "start_time": "2021-12-11T11:51:05.732Z"
   },
   {
    "duration": 35979,
    "start_time": "2021-12-11T11:50:30.503Z"
   },
   {
    "duration": 35972,
    "start_time": "2021-12-11T11:50:30.510Z"
   },
   {
    "duration": 35969,
    "start_time": "2021-12-11T11:50:30.514Z"
   },
   {
    "duration": 35966,
    "start_time": "2021-12-11T11:50:30.518Z"
   },
   {
    "duration": 35953,
    "start_time": "2021-12-11T11:50:30.532Z"
   },
   {
    "duration": 35951,
    "start_time": "2021-12-11T11:50:30.535Z"
   },
   {
    "duration": 35949,
    "start_time": "2021-12-11T11:50:30.538Z"
   },
   {
    "duration": 188,
    "start_time": "2021-12-11T11:51:35.833Z"
   },
   {
    "duration": 4,
    "start_time": "2021-12-11T11:51:39.015Z"
   },
   {
    "duration": 658,
    "start_time": "2021-12-11T11:51:39.020Z"
   },
   {
    "duration": 3,
    "start_time": "2021-12-11T11:51:39.680Z"
   },
   {
    "duration": 27,
    "start_time": "2021-12-11T11:51:39.685Z"
   },
   {
    "duration": 22,
    "start_time": "2021-12-11T11:51:39.714Z"
   },
   {
    "duration": 23,
    "start_time": "2021-12-11T11:51:39.737Z"
   },
   {
    "duration": 41,
    "start_time": "2021-12-11T11:51:39.762Z"
   },
   {
    "duration": 9,
    "start_time": "2021-12-11T11:51:39.804Z"
   },
   {
    "duration": 14,
    "start_time": "2021-12-11T11:51:39.816Z"
   },
   {
    "duration": 213,
    "start_time": "2021-12-11T11:51:39.832Z"
   },
   {
    "duration": 263,
    "start_time": "2021-12-11T11:51:40.047Z"
   },
   {
    "duration": 135,
    "start_time": "2021-12-11T11:51:40.312Z"
   },
   {
    "duration": 231,
    "start_time": "2021-12-11T11:51:40.448Z"
   },
   {
    "duration": 11,
    "start_time": "2021-12-11T11:51:40.681Z"
   },
   {
    "duration": 7,
    "start_time": "2021-12-11T11:51:40.693Z"
   },
   {
    "duration": 6,
    "start_time": "2021-12-11T11:51:40.702Z"
   },
   {
    "duration": 6,
    "start_time": "2021-12-11T11:51:40.710Z"
   },
   {
    "duration": 3,
    "start_time": "2021-12-11T11:51:40.717Z"
   },
   {
    "duration": 10,
    "start_time": "2021-12-11T11:51:40.722Z"
   },
   {
    "duration": 5,
    "start_time": "2021-12-11T11:51:40.734Z"
   },
   {
    "duration": 8,
    "start_time": "2021-12-11T11:51:40.740Z"
   },
   {
    "duration": 44,
    "start_time": "2021-12-11T11:51:40.749Z"
   },
   {
    "duration": 254,
    "start_time": "2021-12-11T11:51:40.795Z"
   },
   {
    "duration": 231,
    "start_time": "2021-12-11T11:51:41.051Z"
   },
   {
    "duration": 241,
    "start_time": "2021-12-11T11:51:41.291Z"
   },
   {
    "duration": 204,
    "start_time": "2021-12-11T11:51:41.533Z"
   },
   {
    "duration": 243,
    "start_time": "2021-12-11T11:51:41.740Z"
   },
   {
    "duration": 265,
    "start_time": "2021-12-11T11:51:41.985Z"
   },
   {
    "duration": 3,
    "start_time": "2021-12-11T11:51:42.251Z"
   },
   {
    "duration": 144,
    "start_time": "2021-12-11T11:51:42.256Z"
   },
   {
    "duration": 3,
    "start_time": "2021-12-11T11:51:42.402Z"
   },
   {
    "duration": 10,
    "start_time": "2021-12-11T11:51:42.407Z"
   },
   {
    "duration": 10,
    "start_time": "2021-12-11T11:51:42.419Z"
   },
   {
    "duration": 5,
    "start_time": "2021-12-11T11:51:42.431Z"
   },
   {
    "duration": 222,
    "start_time": "2021-12-11T11:51:42.437Z"
   },
   {
    "duration": 35992,
    "start_time": "2021-12-11T11:51:06.669Z"
   },
   {
    "duration": 35988,
    "start_time": "2021-12-11T11:51:06.674Z"
   },
   {
    "duration": 35981,
    "start_time": "2021-12-11T11:51:06.682Z"
   },
   {
    "duration": 35979,
    "start_time": "2021-12-11T11:51:06.685Z"
   },
   {
    "duration": 35971,
    "start_time": "2021-12-11T11:51:06.694Z"
   },
   {
    "duration": 35970,
    "start_time": "2021-12-11T11:51:06.696Z"
   },
   {
    "duration": 35955,
    "start_time": "2021-12-11T11:51:06.711Z"
   },
   {
    "duration": 208,
    "start_time": "2021-12-11T11:52:35.571Z"
   },
   {
    "duration": 3,
    "start_time": "2021-12-11T11:52:37.712Z"
   },
   {
    "duration": 720,
    "start_time": "2021-12-11T11:52:37.717Z"
   },
   {
    "duration": 3,
    "start_time": "2021-12-11T11:52:38.439Z"
   },
   {
    "duration": 26,
    "start_time": "2021-12-11T11:52:38.444Z"
   },
   {
    "duration": 43,
    "start_time": "2021-12-11T11:52:38.472Z"
   },
   {
    "duration": 22,
    "start_time": "2021-12-11T11:52:38.517Z"
   },
   {
    "duration": 19,
    "start_time": "2021-12-11T11:52:38.542Z"
   },
   {
    "duration": 43,
    "start_time": "2021-12-11T11:52:38.563Z"
   },
   {
    "duration": 17,
    "start_time": "2021-12-11T11:52:38.609Z"
   },
   {
    "duration": 241,
    "start_time": "2021-12-11T11:52:38.628Z"
   },
   {
    "duration": 270,
    "start_time": "2021-12-11T11:52:38.871Z"
   },
   {
    "duration": 143,
    "start_time": "2021-12-11T11:52:39.143Z"
   },
   {
    "duration": 250,
    "start_time": "2021-12-11T11:52:39.288Z"
   },
   {
    "duration": 5,
    "start_time": "2021-12-11T11:52:39.539Z"
   },
   {
    "duration": 9,
    "start_time": "2021-12-11T11:52:39.545Z"
   },
   {
    "duration": 6,
    "start_time": "2021-12-11T11:52:39.556Z"
   },
   {
    "duration": 32,
    "start_time": "2021-12-11T11:52:39.564Z"
   },
   {
    "duration": 7,
    "start_time": "2021-12-11T11:52:39.597Z"
   },
   {
    "duration": 7,
    "start_time": "2021-12-11T11:52:39.611Z"
   },
   {
    "duration": 7,
    "start_time": "2021-12-11T11:52:39.620Z"
   },
   {
    "duration": 7,
    "start_time": "2021-12-11T11:52:39.629Z"
   },
   {
    "duration": 5,
    "start_time": "2021-12-11T11:52:39.637Z"
   },
   {
    "duration": 291,
    "start_time": "2021-12-11T11:52:39.643Z"
   },
   {
    "duration": 256,
    "start_time": "2021-12-11T11:52:39.935Z"
   },
   {
    "duration": 260,
    "start_time": "2021-12-11T11:52:40.194Z"
   },
   {
    "duration": 214,
    "start_time": "2021-12-11T11:52:40.455Z"
   },
   {
    "duration": 251,
    "start_time": "2021-12-11T11:52:40.671Z"
   },
   {
    "duration": 277,
    "start_time": "2021-12-11T11:52:40.924Z"
   },
   {
    "duration": 4,
    "start_time": "2021-12-11T11:52:41.204Z"
   },
   {
    "duration": 78,
    "start_time": "2021-12-11T11:52:41.210Z"
   },
   {
    "duration": 9,
    "start_time": "2021-12-11T11:52:41.291Z"
   },
   {
    "duration": 17,
    "start_time": "2021-12-11T11:52:41.302Z"
   },
   {
    "duration": 19,
    "start_time": "2021-12-11T11:52:41.321Z"
   },
   {
    "duration": 19,
    "start_time": "2021-12-11T11:52:41.345Z"
   },
   {
    "duration": 416,
    "start_time": "2021-12-11T11:52:41.366Z"
   },
   {
    "duration": 35990,
    "start_time": "2021-12-11T11:52:05.795Z"
   },
   {
    "duration": 35988,
    "start_time": "2021-12-11T11:52:05.798Z"
   },
   {
    "duration": 35986,
    "start_time": "2021-12-11T11:52:05.801Z"
   },
   {
    "duration": 35984,
    "start_time": "2021-12-11T11:52:05.804Z"
   },
   {
    "duration": 35972,
    "start_time": "2021-12-11T11:52:05.817Z"
   },
   {
    "duration": 35969,
    "start_time": "2021-12-11T11:52:05.821Z"
   },
   {
    "duration": 35968,
    "start_time": "2021-12-11T11:52:05.824Z"
   },
   {
    "duration": 4,
    "start_time": "2021-12-11T11:54:43.867Z"
   },
   {
    "duration": 747,
    "start_time": "2021-12-11T11:54:43.873Z"
   },
   {
    "duration": 3,
    "start_time": "2021-12-11T11:54:44.623Z"
   },
   {
    "duration": 26,
    "start_time": "2021-12-11T11:54:44.628Z"
   },
   {
    "duration": 42,
    "start_time": "2021-12-11T11:54:44.656Z"
   },
   {
    "duration": 27,
    "start_time": "2021-12-11T11:54:44.701Z"
   },
   {
    "duration": 19,
    "start_time": "2021-12-11T11:54:44.730Z"
   },
   {
    "duration": 42,
    "start_time": "2021-12-11T11:54:44.751Z"
   },
   {
    "duration": 20,
    "start_time": "2021-12-11T11:54:44.796Z"
   },
   {
    "duration": 232,
    "start_time": "2021-12-11T11:54:44.818Z"
   },
   {
    "duration": 274,
    "start_time": "2021-12-11T11:54:45.052Z"
   },
   {
    "duration": 140,
    "start_time": "2021-12-11T11:54:45.328Z"
   },
   {
    "duration": 272,
    "start_time": "2021-12-11T11:54:45.470Z"
   },
   {
    "duration": 4,
    "start_time": "2021-12-11T11:54:45.744Z"
   },
   {
    "duration": 9,
    "start_time": "2021-12-11T11:54:45.750Z"
   },
   {
    "duration": 8,
    "start_time": "2021-12-11T11:54:45.761Z"
   },
   {
    "duration": 33,
    "start_time": "2021-12-11T11:54:45.770Z"
   },
   {
    "duration": 3,
    "start_time": "2021-12-11T11:54:45.806Z"
   },
   {
    "duration": 10,
    "start_time": "2021-12-11T11:54:45.811Z"
   },
   {
    "duration": 6,
    "start_time": "2021-12-11T11:54:45.823Z"
   },
   {
    "duration": 7,
    "start_time": "2021-12-11T11:54:45.831Z"
   },
   {
    "duration": 6,
    "start_time": "2021-12-11T11:54:45.840Z"
   },
   {
    "duration": 315,
    "start_time": "2021-12-11T11:54:45.849Z"
   },
   {
    "duration": 266,
    "start_time": "2021-12-11T11:54:46.166Z"
   },
   {
    "duration": 272,
    "start_time": "2021-12-11T11:54:46.434Z"
   },
   {
    "duration": 306,
    "start_time": "2021-12-11T11:54:46.707Z"
   },
   {
    "duration": 261,
    "start_time": "2021-12-11T11:54:47.015Z"
   },
   {
    "duration": 300,
    "start_time": "2021-12-11T11:54:47.278Z"
   },
   {
    "duration": 10,
    "start_time": "2021-12-11T11:54:47.581Z"
   },
   {
    "duration": 229,
    "start_time": "2021-12-11T11:54:47.594Z"
   },
   {
    "duration": 36047,
    "start_time": "2021-12-11T11:54:11.778Z"
   },
   {
    "duration": 36046,
    "start_time": "2021-12-11T11:54:11.780Z"
   },
   {
    "duration": 36034,
    "start_time": "2021-12-11T11:54:11.793Z"
   },
   {
    "duration": 36032,
    "start_time": "2021-12-11T11:54:11.796Z"
   },
   {
    "duration": 36030,
    "start_time": "2021-12-11T11:54:11.799Z"
   },
   {
    "duration": 36029,
    "start_time": "2021-12-11T11:54:11.801Z"
   },
   {
    "duration": 36015,
    "start_time": "2021-12-11T11:54:11.816Z"
   },
   {
    "duration": 36013,
    "start_time": "2021-12-11T11:54:11.820Z"
   },
   {
    "duration": 36011,
    "start_time": "2021-12-11T11:54:11.823Z"
   },
   {
    "duration": 36009,
    "start_time": "2021-12-11T11:54:11.826Z"
   },
   {
    "duration": 36008,
    "start_time": "2021-12-11T11:54:11.828Z"
   },
   {
    "duration": 36006,
    "start_time": "2021-12-11T11:54:11.831Z"
   },
   {
    "duration": 183,
    "start_time": "2021-12-11T11:55:05.771Z"
   },
   {
    "duration": 4,
    "start_time": "2021-12-11T11:55:08.864Z"
   },
   {
    "duration": 717,
    "start_time": "2021-12-11T11:55:08.869Z"
   },
   {
    "duration": 5,
    "start_time": "2021-12-11T11:55:09.588Z"
   },
   {
    "duration": 29,
    "start_time": "2021-12-11T11:55:09.596Z"
   },
   {
    "duration": 23,
    "start_time": "2021-12-11T11:55:09.626Z"
   },
   {
    "duration": 62,
    "start_time": "2021-12-11T11:55:09.650Z"
   },
   {
    "duration": 17,
    "start_time": "2021-12-11T11:55:09.714Z"
   },
   {
    "duration": 10,
    "start_time": "2021-12-11T11:55:09.733Z"
   },
   {
    "duration": 14,
    "start_time": "2021-12-11T11:55:09.744Z"
   },
   {
    "duration": 245,
    "start_time": "2021-12-11T11:55:09.760Z"
   },
   {
    "duration": 269,
    "start_time": "2021-12-11T11:55:10.007Z"
   },
   {
    "duration": 151,
    "start_time": "2021-12-11T11:55:10.278Z"
   },
   {
    "duration": 247,
    "start_time": "2021-12-11T11:55:10.431Z"
   },
   {
    "duration": 12,
    "start_time": "2021-12-11T11:55:10.680Z"
   },
   {
    "duration": 12,
    "start_time": "2021-12-11T11:55:10.694Z"
   },
   {
    "duration": 8,
    "start_time": "2021-12-11T11:55:10.708Z"
   },
   {
    "duration": 7,
    "start_time": "2021-12-11T11:55:10.717Z"
   },
   {
    "duration": 2,
    "start_time": "2021-12-11T11:55:10.726Z"
   },
   {
    "duration": 8,
    "start_time": "2021-12-11T11:55:10.730Z"
   },
   {
    "duration": 6,
    "start_time": "2021-12-11T11:55:10.740Z"
   },
   {
    "duration": 49,
    "start_time": "2021-12-11T11:55:10.748Z"
   },
   {
    "duration": 4,
    "start_time": "2021-12-11T11:55:10.799Z"
   },
   {
    "duration": 264,
    "start_time": "2021-12-11T11:55:10.809Z"
   },
   {
    "duration": 248,
    "start_time": "2021-12-11T11:55:11.075Z"
   },
   {
    "duration": 267,
    "start_time": "2021-12-11T11:55:11.325Z"
   },
   {
    "duration": 215,
    "start_time": "2021-12-11T11:55:11.596Z"
   },
   {
    "duration": 274,
    "start_time": "2021-12-11T11:55:11.813Z"
   },
   {
    "duration": 286,
    "start_time": "2021-12-11T11:55:12.093Z"
   },
   {
    "duration": 4,
    "start_time": "2021-12-11T11:55:12.381Z"
   },
   {
    "duration": 42,
    "start_time": "2021-12-11T11:55:12.393Z"
   },
   {
    "duration": 11,
    "start_time": "2021-12-11T11:55:12.437Z"
   },
   {
    "duration": 7,
    "start_time": "2021-12-11T11:55:12.450Z"
   },
   {
    "duration": 4,
    "start_time": "2021-12-11T11:55:12.459Z"
   },
   {
    "duration": 5,
    "start_time": "2021-12-11T11:55:12.465Z"
   },
   {
    "duration": 2339,
    "start_time": "2021-12-11T11:55:12.494Z"
   },
   {
    "duration": 35974,
    "start_time": "2021-12-11T11:54:38.861Z"
   },
   {
    "duration": 35964,
    "start_time": "2021-12-11T11:54:38.872Z"
   },
   {
    "duration": 35962,
    "start_time": "2021-12-11T11:54:38.875Z"
   },
   {
    "duration": 35960,
    "start_time": "2021-12-11T11:54:38.878Z"
   },
   {
    "duration": 35957,
    "start_time": "2021-12-11T11:54:38.881Z"
   },
   {
    "duration": 35955,
    "start_time": "2021-12-11T11:54:38.884Z"
   },
   {
    "duration": 35954,
    "start_time": "2021-12-11T11:54:38.887Z"
   },
   {
    "duration": 5,
    "start_time": "2021-12-11T12:18:38.668Z"
   },
   {
    "duration": 258,
    "start_time": "2021-12-11T12:18:40.569Z"
   },
   {
    "duration": 5,
    "start_time": "2021-12-11T12:18:49.770Z"
   },
   {
    "duration": 732,
    "start_time": "2021-12-11T12:18:49.777Z"
   },
   {
    "duration": 4,
    "start_time": "2021-12-11T12:18:50.511Z"
   },
   {
    "duration": 28,
    "start_time": "2021-12-11T12:18:50.517Z"
   },
   {
    "duration": 23,
    "start_time": "2021-12-11T12:18:50.546Z"
   },
   {
    "duration": 23,
    "start_time": "2021-12-11T12:18:50.591Z"
   },
   {
    "duration": 120,
    "start_time": "2021-12-11T12:18:50.615Z"
   },
   {
    "duration": 11,
    "start_time": "2021-12-11T12:18:50.736Z"
   },
   {
    "duration": 15,
    "start_time": "2021-12-11T12:18:50.749Z"
   },
   {
    "duration": 225,
    "start_time": "2021-12-11T12:18:50.766Z"
   },
   {
    "duration": 254,
    "start_time": "2021-12-11T12:18:50.993Z"
   },
   {
    "duration": 143,
    "start_time": "2021-12-11T12:18:51.249Z"
   },
   {
    "duration": 237,
    "start_time": "2021-12-11T12:18:51.394Z"
   },
   {
    "duration": 4,
    "start_time": "2021-12-11T12:18:51.633Z"
   },
   {
    "duration": 14,
    "start_time": "2021-12-11T12:18:51.639Z"
   },
   {
    "duration": 7,
    "start_time": "2021-12-11T12:18:51.655Z"
   },
   {
    "duration": 31,
    "start_time": "2021-12-11T12:18:51.663Z"
   },
   {
    "duration": 3,
    "start_time": "2021-12-11T12:18:51.696Z"
   },
   {
    "duration": 9,
    "start_time": "2021-12-11T12:18:51.700Z"
   },
   {
    "duration": 5,
    "start_time": "2021-12-11T12:18:51.711Z"
   },
   {
    "duration": 8,
    "start_time": "2021-12-11T12:18:51.718Z"
   },
   {
    "duration": 4,
    "start_time": "2021-12-11T12:18:51.728Z"
   },
   {
    "duration": 284,
    "start_time": "2021-12-11T12:18:51.734Z"
   },
   {
    "duration": 246,
    "start_time": "2021-12-11T12:18:52.020Z"
   },
   {
    "duration": 261,
    "start_time": "2021-12-11T12:18:52.268Z"
   },
   {
    "duration": 209,
    "start_time": "2021-12-11T12:18:52.531Z"
   },
   {
    "duration": 246,
    "start_time": "2021-12-11T12:18:52.743Z"
   },
   {
    "duration": 4,
    "start_time": "2021-12-11T12:18:52.991Z"
   },
   {
    "duration": 259,
    "start_time": "2021-12-11T12:18:52.997Z"
   },
   {
    "duration": 3,
    "start_time": "2021-12-11T12:18:53.258Z"
   },
   {
    "duration": 46,
    "start_time": "2021-12-11T12:18:53.262Z"
   },
   {
    "duration": 4,
    "start_time": "2021-12-11T12:18:53.310Z"
   },
   {
    "duration": 5,
    "start_time": "2021-12-11T12:18:53.316Z"
   },
   {
    "duration": 6,
    "start_time": "2021-12-11T12:18:53.323Z"
   },
   {
    "duration": 5,
    "start_time": "2021-12-11T12:18:53.330Z"
   },
   {
    "duration": 558664,
    "start_time": "2021-12-11T12:18:53.336Z"
   },
   {
    "duration": 4,
    "start_time": "2021-12-11T12:28:12.002Z"
   },
   {
    "duration": 12,
    "start_time": "2021-12-11T12:28:12.008Z"
   },
   {
    "duration": 1087,
    "start_time": "2021-12-11T12:32:07.411Z"
   },
   {
    "duration": 726,
    "start_time": "2021-12-11T12:32:08.500Z"
   },
   {
    "duration": 4,
    "start_time": "2021-12-11T12:32:09.228Z"
   },
   {
    "duration": 27,
    "start_time": "2021-12-11T12:32:09.234Z"
   },
   {
    "duration": 34,
    "start_time": "2021-12-11T12:32:09.263Z"
   },
   {
    "duration": 23,
    "start_time": "2021-12-11T12:32:09.298Z"
   },
   {
    "duration": 15,
    "start_time": "2021-12-11T12:32:09.323Z"
   },
   {
    "duration": 10,
    "start_time": "2021-12-11T12:32:09.341Z"
   },
   {
    "duration": 42,
    "start_time": "2021-12-11T12:32:09.353Z"
   },
   {
    "duration": 220,
    "start_time": "2021-12-11T12:32:09.397Z"
   },
   {
    "duration": 251,
    "start_time": "2021-12-11T12:32:09.619Z"
   },
   {
    "duration": 135,
    "start_time": "2021-12-11T12:32:09.872Z"
   },
   {
    "duration": 232,
    "start_time": "2021-12-11T12:32:10.009Z"
   },
   {
    "duration": 4,
    "start_time": "2021-12-11T12:32:10.242Z"
   },
   {
    "duration": 10,
    "start_time": "2021-12-11T12:32:10.248Z"
   },
   {
    "duration": 8,
    "start_time": "2021-12-11T12:32:10.259Z"
   },
   {
    "duration": 9,
    "start_time": "2021-12-11T12:32:10.292Z"
   },
   {
    "duration": 3,
    "start_time": "2021-12-11T12:32:10.302Z"
   },
   {
    "duration": 10,
    "start_time": "2021-12-11T12:32:10.307Z"
   },
   {
    "duration": 6,
    "start_time": "2021-12-11T12:32:10.318Z"
   },
   {
    "duration": 6,
    "start_time": "2021-12-11T12:32:10.326Z"
   },
   {
    "duration": 8,
    "start_time": "2021-12-11T12:32:10.334Z"
   },
   {
    "duration": 276,
    "start_time": "2021-12-11T12:32:10.346Z"
   },
   {
    "duration": 236,
    "start_time": "2021-12-11T12:32:10.624Z"
   },
   {
    "duration": 246,
    "start_time": "2021-12-11T12:32:10.862Z"
   },
   {
    "duration": 200,
    "start_time": "2021-12-11T12:32:11.110Z"
   },
   {
    "duration": 301,
    "start_time": "2021-12-11T12:32:11.312Z"
   },
   {
    "duration": 4,
    "start_time": "2021-12-11T12:32:11.615Z"
   },
   {
    "duration": 259,
    "start_time": "2021-12-11T12:32:11.621Z"
   },
   {
    "duration": 3,
    "start_time": "2021-12-11T12:32:11.882Z"
   },
   {
    "duration": 36,
    "start_time": "2021-12-11T12:32:11.890Z"
   },
   {
    "duration": 4,
    "start_time": "2021-12-11T12:32:11.927Z"
   },
   {
    "duration": 5,
    "start_time": "2021-12-11T12:32:11.933Z"
   },
   {
    "duration": 7,
    "start_time": "2021-12-11T12:32:11.940Z"
   },
   {
    "duration": 6,
    "start_time": "2021-12-11T12:32:11.948Z"
   },
   {
    "duration": 545640,
    "start_time": "2021-12-11T12:32:11.956Z"
   },
   {
    "duration": 3,
    "start_time": "2021-12-11T12:41:17.598Z"
   },
   {
    "duration": 4,
    "start_time": "2021-12-11T12:41:17.603Z"
   },
   {
    "duration": 615984,
    "start_time": "2021-12-11T12:41:17.609Z"
   },
   {
    "duration": 4,
    "start_time": "2021-12-11T12:51:33.594Z"
   },
   {
    "duration": 592,
    "start_time": "2021-12-11T12:51:33.600Z"
   },
   {
    "duration": 498,
    "start_time": "2021-12-11T12:51:34.194Z"
   },
   {
    "duration": 4,
    "start_time": "2021-12-11T12:51:34.694Z"
   },
   {
    "duration": 266,
    "start_time": "2021-12-11T13:07:39.182Z"
   },
   {
    "duration": 5,
    "start_time": "2021-12-11T13:07:49.263Z"
   },
   {
    "duration": 174,
    "start_time": "2021-12-11T13:07:54.372Z"
   },
   {
    "duration": 11,
    "start_time": "2021-12-11T13:08:20.016Z"
   },
   {
    "duration": 11,
    "start_time": "2021-12-11T13:08:34.868Z"
   },
   {
    "duration": 184,
    "start_time": "2021-12-11T13:09:11.956Z"
   },
   {
    "duration": 215,
    "start_time": "2021-12-11T13:09:26.667Z"
   },
   {
    "duration": 11,
    "start_time": "2021-12-11T13:09:34.465Z"
   },
   {
    "duration": 11,
    "start_time": "2021-12-11T13:09:40.416Z"
   },
   {
    "duration": 11,
    "start_time": "2021-12-11T13:10:07.034Z"
   },
   {
    "duration": 11,
    "start_time": "2021-12-11T13:10:54.544Z"
   },
   {
    "duration": 13,
    "start_time": "2021-12-11T13:10:56.950Z"
   },
   {
    "duration": 11,
    "start_time": "2021-12-11T13:11:16.861Z"
   },
   {
    "duration": 17,
    "start_time": "2021-12-11T13:14:39.469Z"
   },
   {
    "duration": 208,
    "start_time": "2021-12-11T13:17:35.992Z"
   },
   {
    "duration": 4,
    "start_time": "2021-12-11T13:17:42.749Z"
   },
   {
    "duration": 14,
    "start_time": "2021-12-11T13:17:47.105Z"
   },
   {
    "duration": 15,
    "start_time": "2021-12-11T13:18:35.059Z"
   },
   {
    "duration": 4,
    "start_time": "2021-12-11T13:24:49.276Z"
   },
   {
    "duration": 4,
    "start_time": "2021-12-11T13:24:59.221Z"
   }
  ],
  "kernelspec": {
   "display_name": "Python 3",
   "language": "python",
   "name": "python3"
  },
  "language_info": {
   "codemirror_mode": {
    "name": "ipython",
    "version": 3
   },
   "file_extension": ".py",
   "mimetype": "text/x-python",
   "name": "python",
   "nbconvert_exporter": "python",
   "pygments_lexer": "ipython3",
   "version": "3.8.8"
  },
  "toc": {
   "base_numbering": 1,
   "nav_menu": {},
   "number_sections": true,
   "sideBar": true,
   "skip_h1_title": true,
   "title_cell": "Содержание",
   "title_sidebar": "Contents",
   "toc_cell": true,
   "toc_position": {
    "height": "calc(100% - 180px)",
    "left": "10px",
    "top": "150px",
    "width": "332.391px"
   },
   "toc_section_display": true,
   "toc_window_display": true
  }
 },
 "nbformat": 4,
 "nbformat_minor": 2
}
