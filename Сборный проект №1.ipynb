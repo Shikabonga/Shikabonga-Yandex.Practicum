{
 "cells": [
  {
   "cell_type": "markdown",
   "metadata": {},
   "source": [
    "# Описание проекта\n",
    "Нужно выявить определяющие успешность игры закономерности. Это позволит сделать ставку на потенциально популярный продукт и спланировать рекламные кампании.\n",
    "Перед вами данные до 2016 года. Представим, что сейчас декабрь 2016 г., и вы планируете кампанию на 2017-й. Нужно отработать принцип работы с данными. \n",
    "В наборе данных попадается аббревиатура ESRB (Entertainment Software Rating Board) — это ассоциация, определяющая возрастной рейтинг компьютерных игр. ESRB оценивает игровой контент и присваивает ему подходящую возрастную категорию, например, «Для взрослых», «Для детей младшего возраста» или «Для подростков».\n",
    "\n",
    "# План по выполнению проекта\n",
    "1. Открыть файл с данными и изучить общую информацию\n",
    "2. Подготовить данные\n",
    " 1. Заменить названия столбцов (привести к нижнему регистру);\n",
    " 2. Преобразовать данные в нужные типы;\n",
    " 3. Обработать пропуски при необходимости;\n",
    " 4. Посчитать суммарные продажи во всех регионах и записать их в отдельный столбец.\n",
    "3. Провести исследовательский анализ данных\n",
    " 1. Сколько игр выпускалось в разные годы. Важны ли данные за все периоды?\n",
    " 2. Как менялись продажи по платформам. Выбрать платформы с наибольшими суммарными продажами и построить распределение по годам. За какой характерный срок появляются новые и исчезают старые платформы?\n",
    " 3. Взять данные за соответствующий актуальный период. Основной фактор — эти данные помогут построить прогноз на 2017 год.\n",
    " 4. Какие платформы лидируют по продажам, растут или падают? Выбрать несколько потенциально прибыльных платформ.\n",
    " 5. Построить график «ящик с усами» по глобальным продажам игр в разбивке по платформам. \n",
    " 6. Как влияют на продажи внутри одной популярной платформы отзывы пользователей и критиков. Построить диаграмму рассеяния и посчитать корреляцию между отзывами и продажами.\n",
    " 7. Соотнести выводы с продажами игр на других платформах.\n",
    " 8. Посмотреть на общее распределение игр по жанрам. Что можно сказать о самых прибыльных жанрах? Выделяются ли жанры с высокими и низкими продажами?\n",
    "4. Составить портрет пользователя каждого региона.\n",
    "   Определить для пользователя каждого региона (NA, EU, JP):\n",
    "  1. Самые популярные платформы (топ-5). \n",
    "  2. Самые популярные жанры (топ-5). \n",
    "  3. Влияет ли рейтинг ESRB на продажи в отдельном регионе?\n",
    "5. Проверить гипотезы\n",
    " 1. Средние пользовательские рейтинги платформ Xbox One и PC одинаковые;\n",
    " 2. Средние пользовательские рейтинги жанров Action (англ. «действие», экшен-игры) и Sports (англ. «спортивные соревнования») разные.\n",
    "6. Общий вывод\n",
    " \n",
    "# Описание данных\n",
    "* Name — название игры\n",
    "* Platform — платформа\n",
    "* Year_of_Release — год выпуска\n",
    "* Genre — жанр игры\n",
    "* NA_sales — продажи в Северной Америке (миллионы проданных копий)\n",
    "* EU_sales — продажи в Европе (миллионы проданных копий)\n",
    "* JP_sales — продажи в Японии (миллионы проданных копий)\n",
    "* Other_sales — продажи в других странах (миллионы проданных копий)\n",
    "* Critic_Score — оценка критиков (максимум 100)\n",
    "* User_Score — оценка пользователей (максимум 10)\n",
    "* Rating — рейтинг от организации ESRB (англ. Entertainment Software Rating Board). Эта ассоциация определяет рейтинг компьютерных игр и присваивает им подходящую возрастную категорию."
   ]
  },
  {
   "cell_type": "markdown",
   "metadata": {},
   "source": [
    "<h2>Открыть файл с данными и изучить общую информацию</h2>"
   ]
  },
  {
   "cell_type": "code",
   "execution_count": 1,
   "metadata": {},
   "outputs": [],
   "source": [
    "#Импорт необходимых библиотек\n",
    "import pandas as pd\n",
    "import numpy as  np\n",
    "import matplotlib.pyplot as plt\n",
    "import seaborn as sns\n",
    "\n",
    "from scipy import stats as st"
   ]
  },
  {
   "cell_type": "code",
   "execution_count": 2,
   "metadata": {},
   "outputs": [
    {
     "name": "stdout",
     "output_type": "stream",
     "text": [
      "<class 'pandas.core.frame.DataFrame'>\n",
      "RangeIndex: 16715 entries, 0 to 16714\n",
      "Data columns (total 11 columns):\n",
      "Name               16713 non-null object\n",
      "Platform           16715 non-null object\n",
      "Year_of_Release    16446 non-null float64\n",
      "Genre              16713 non-null object\n",
      "NA_sales           16715 non-null float64\n",
      "EU_sales           16715 non-null float64\n",
      "JP_sales           16715 non-null float64\n",
      "Other_sales        16715 non-null float64\n",
      "Critic_Score       8137 non-null float64\n",
      "User_Score         10014 non-null object\n",
      "Rating             9949 non-null object\n",
      "dtypes: float64(6), object(5)\n",
      "memory usage: 1.4+ MB\n"
     ]
    }
   ],
   "source": [
    "#Загрузка данных\n",
    "data = pd.read_csv('/datasets/games.csv')\n",
    "data.info()\n",
    "forecast_year = 2017 #Прогнозируемый год"
   ]
  },
  {
   "cell_type": "code",
   "execution_count": 3,
   "metadata": {
    "scrolled": false
   },
   "outputs": [
    {
     "data": {
      "text/html": [
       "<div>\n",
       "<style scoped>\n",
       "    .dataframe tbody tr th:only-of-type {\n",
       "        vertical-align: middle;\n",
       "    }\n",
       "\n",
       "    .dataframe tbody tr th {\n",
       "        vertical-align: top;\n",
       "    }\n",
       "\n",
       "    .dataframe thead th {\n",
       "        text-align: right;\n",
       "    }\n",
       "</style>\n",
       "<table border=\"1\" class=\"dataframe\">\n",
       "  <thead>\n",
       "    <tr style=\"text-align: right;\">\n",
       "      <th></th>\n",
       "      <th>Name</th>\n",
       "      <th>Platform</th>\n",
       "      <th>Year_of_Release</th>\n",
       "      <th>Genre</th>\n",
       "      <th>NA_sales</th>\n",
       "      <th>EU_sales</th>\n",
       "      <th>JP_sales</th>\n",
       "      <th>Other_sales</th>\n",
       "      <th>Critic_Score</th>\n",
       "      <th>User_Score</th>\n",
       "      <th>Rating</th>\n",
       "    </tr>\n",
       "  </thead>\n",
       "  <tbody>\n",
       "    <tr>\n",
       "      <td>0</td>\n",
       "      <td>Wii Sports</td>\n",
       "      <td>Wii</td>\n",
       "      <td>2006.0</td>\n",
       "      <td>Sports</td>\n",
       "      <td>41.36</td>\n",
       "      <td>28.96</td>\n",
       "      <td>3.77</td>\n",
       "      <td>8.45</td>\n",
       "      <td>76.0</td>\n",
       "      <td>8</td>\n",
       "      <td>E</td>\n",
       "    </tr>\n",
       "    <tr>\n",
       "      <td>1</td>\n",
       "      <td>Super Mario Bros.</td>\n",
       "      <td>NES</td>\n",
       "      <td>1985.0</td>\n",
       "      <td>Platform</td>\n",
       "      <td>29.08</td>\n",
       "      <td>3.58</td>\n",
       "      <td>6.81</td>\n",
       "      <td>0.77</td>\n",
       "      <td>NaN</td>\n",
       "      <td>NaN</td>\n",
       "      <td>NaN</td>\n",
       "    </tr>\n",
       "    <tr>\n",
       "      <td>2</td>\n",
       "      <td>Mario Kart Wii</td>\n",
       "      <td>Wii</td>\n",
       "      <td>2008.0</td>\n",
       "      <td>Racing</td>\n",
       "      <td>15.68</td>\n",
       "      <td>12.76</td>\n",
       "      <td>3.79</td>\n",
       "      <td>3.29</td>\n",
       "      <td>82.0</td>\n",
       "      <td>8.3</td>\n",
       "      <td>E</td>\n",
       "    </tr>\n",
       "    <tr>\n",
       "      <td>3</td>\n",
       "      <td>Wii Sports Resort</td>\n",
       "      <td>Wii</td>\n",
       "      <td>2009.0</td>\n",
       "      <td>Sports</td>\n",
       "      <td>15.61</td>\n",
       "      <td>10.93</td>\n",
       "      <td>3.28</td>\n",
       "      <td>2.95</td>\n",
       "      <td>80.0</td>\n",
       "      <td>8</td>\n",
       "      <td>E</td>\n",
       "    </tr>\n",
       "    <tr>\n",
       "      <td>4</td>\n",
       "      <td>Pokemon Red/Pokemon Blue</td>\n",
       "      <td>GB</td>\n",
       "      <td>1996.0</td>\n",
       "      <td>Role-Playing</td>\n",
       "      <td>11.27</td>\n",
       "      <td>8.89</td>\n",
       "      <td>10.22</td>\n",
       "      <td>1.00</td>\n",
       "      <td>NaN</td>\n",
       "      <td>NaN</td>\n",
       "      <td>NaN</td>\n",
       "    </tr>\n",
       "  </tbody>\n",
       "</table>\n",
       "</div>"
      ],
      "text/plain": [
       "                       Name Platform  Year_of_Release         Genre  NA_sales  \\\n",
       "0                Wii Sports      Wii           2006.0        Sports     41.36   \n",
       "1         Super Mario Bros.      NES           1985.0      Platform     29.08   \n",
       "2            Mario Kart Wii      Wii           2008.0        Racing     15.68   \n",
       "3         Wii Sports Resort      Wii           2009.0        Sports     15.61   \n",
       "4  Pokemon Red/Pokemon Blue       GB           1996.0  Role-Playing     11.27   \n",
       "\n",
       "   EU_sales  JP_sales  Other_sales  Critic_Score User_Score Rating  \n",
       "0     28.96      3.77         8.45          76.0          8      E  \n",
       "1      3.58      6.81         0.77           NaN        NaN    NaN  \n",
       "2     12.76      3.79         3.29          82.0        8.3      E  \n",
       "3     10.93      3.28         2.95          80.0          8      E  \n",
       "4      8.89     10.22         1.00           NaN        NaN    NaN  "
      ]
     },
     "metadata": {},
     "output_type": "display_data"
    },
    {
     "data": {
      "text/html": [
       "<div>\n",
       "<style scoped>\n",
       "    .dataframe tbody tr th:only-of-type {\n",
       "        vertical-align: middle;\n",
       "    }\n",
       "\n",
       "    .dataframe tbody tr th {\n",
       "        vertical-align: top;\n",
       "    }\n",
       "\n",
       "    .dataframe thead th {\n",
       "        text-align: right;\n",
       "    }\n",
       "</style>\n",
       "<table border=\"1\" class=\"dataframe\">\n",
       "  <thead>\n",
       "    <tr style=\"text-align: right;\">\n",
       "      <th></th>\n",
       "      <th>Year_of_Release</th>\n",
       "      <th>NA_sales</th>\n",
       "      <th>EU_sales</th>\n",
       "      <th>JP_sales</th>\n",
       "      <th>Other_sales</th>\n",
       "      <th>Critic_Score</th>\n",
       "    </tr>\n",
       "  </thead>\n",
       "  <tbody>\n",
       "    <tr>\n",
       "      <td>count</td>\n",
       "      <td>16446.000000</td>\n",
       "      <td>16715.000000</td>\n",
       "      <td>16715.000000</td>\n",
       "      <td>16715.000000</td>\n",
       "      <td>16715.000000</td>\n",
       "      <td>8137.000000</td>\n",
       "    </tr>\n",
       "    <tr>\n",
       "      <td>mean</td>\n",
       "      <td>2006.484616</td>\n",
       "      <td>0.263377</td>\n",
       "      <td>0.145060</td>\n",
       "      <td>0.077617</td>\n",
       "      <td>0.047342</td>\n",
       "      <td>68.967679</td>\n",
       "    </tr>\n",
       "    <tr>\n",
       "      <td>std</td>\n",
       "      <td>5.877050</td>\n",
       "      <td>0.813604</td>\n",
       "      <td>0.503339</td>\n",
       "      <td>0.308853</td>\n",
       "      <td>0.186731</td>\n",
       "      <td>13.938165</td>\n",
       "    </tr>\n",
       "    <tr>\n",
       "      <td>min</td>\n",
       "      <td>1980.000000</td>\n",
       "      <td>0.000000</td>\n",
       "      <td>0.000000</td>\n",
       "      <td>0.000000</td>\n",
       "      <td>0.000000</td>\n",
       "      <td>13.000000</td>\n",
       "    </tr>\n",
       "    <tr>\n",
       "      <td>25%</td>\n",
       "      <td>2003.000000</td>\n",
       "      <td>0.000000</td>\n",
       "      <td>0.000000</td>\n",
       "      <td>0.000000</td>\n",
       "      <td>0.000000</td>\n",
       "      <td>60.000000</td>\n",
       "    </tr>\n",
       "    <tr>\n",
       "      <td>50%</td>\n",
       "      <td>2007.000000</td>\n",
       "      <td>0.080000</td>\n",
       "      <td>0.020000</td>\n",
       "      <td>0.000000</td>\n",
       "      <td>0.010000</td>\n",
       "      <td>71.000000</td>\n",
       "    </tr>\n",
       "    <tr>\n",
       "      <td>75%</td>\n",
       "      <td>2010.000000</td>\n",
       "      <td>0.240000</td>\n",
       "      <td>0.110000</td>\n",
       "      <td>0.040000</td>\n",
       "      <td>0.030000</td>\n",
       "      <td>79.000000</td>\n",
       "    </tr>\n",
       "    <tr>\n",
       "      <td>max</td>\n",
       "      <td>2016.000000</td>\n",
       "      <td>41.360000</td>\n",
       "      <td>28.960000</td>\n",
       "      <td>10.220000</td>\n",
       "      <td>10.570000</td>\n",
       "      <td>98.000000</td>\n",
       "    </tr>\n",
       "  </tbody>\n",
       "</table>\n",
       "</div>"
      ],
      "text/plain": [
       "       Year_of_Release      NA_sales      EU_sales      JP_sales  \\\n",
       "count     16446.000000  16715.000000  16715.000000  16715.000000   \n",
       "mean       2006.484616      0.263377      0.145060      0.077617   \n",
       "std           5.877050      0.813604      0.503339      0.308853   \n",
       "min        1980.000000      0.000000      0.000000      0.000000   \n",
       "25%        2003.000000      0.000000      0.000000      0.000000   \n",
       "50%        2007.000000      0.080000      0.020000      0.000000   \n",
       "75%        2010.000000      0.240000      0.110000      0.040000   \n",
       "max        2016.000000     41.360000     28.960000     10.220000   \n",
       "\n",
       "        Other_sales  Critic_Score  \n",
       "count  16715.000000   8137.000000  \n",
       "mean       0.047342     68.967679  \n",
       "std        0.186731     13.938165  \n",
       "min        0.000000     13.000000  \n",
       "25%        0.000000     60.000000  \n",
       "50%        0.010000     71.000000  \n",
       "75%        0.030000     79.000000  \n",
       "max       10.570000     98.000000  "
      ]
     },
     "execution_count": 3,
     "metadata": {},
     "output_type": "execute_result"
    }
   ],
   "source": [
    "display(data.head())#первые 10 записей\n",
    "data.describe()#сводная информация"
   ]
  },
  {
   "cell_type": "markdown",
   "metadata": {},
   "source": [
    "**Выводы:**\n",
    "1. Есть две записи без названия игры\n",
    "2. Nan-значения в дате реализа\n",
    "3. Не все игры подвергались оценке \n",
    "4. Не у всех записей есть возрастная категория ESRB, организация была основана в 1994 году\n",
    "5. Типы данных не корректны в столбцах: User_Score, Year_of_Release\n",
    "6. Формат оценки пользователей и критиков различен, нужно привести к одному"
   ]
  },
  {
   "cell_type": "markdown",
   "metadata": {},
   "source": [
    "<h2>Подготовка данных</h2>"
   ]
  },
  {
   "cell_type": "code",
   "execution_count": 4,
   "metadata": {},
   "outputs": [
    {
     "name": "stdout",
     "output_type": "stream",
     "text": [
      "<class 'pandas.core.frame.DataFrame'>\n",
      "RangeIndex: 16715 entries, 0 to 16714\n",
      "Data columns (total 11 columns):\n",
      "game_name          16713 non-null object\n",
      "platform_name      16715 non-null object\n",
      "year_of_release    16446 non-null float64\n",
      "genre_name         16713 non-null object\n",
      "na_sales_m         16715 non-null float64\n",
      "eu_sales_m         16715 non-null float64\n",
      "jp_sales_m         16715 non-null float64\n",
      "other_sales_m      16715 non-null float64\n",
      "critic_score       8137 non-null float64\n",
      "user_score         10014 non-null object\n",
      "rating             9949 non-null object\n",
      "dtypes: float64(6), object(5)\n",
      "memory usage: 1.4+ MB\n"
     ]
    }
   ],
   "source": [
    "#Переименнуем столбцы\n",
    "data = data.rename(columns={'Name':'game_name', 'Platform':'platform_name', 'Year_of_Release':'year_of_release',\n",
    "                            'Name':'game_name','Genre':'genre_name','NA_sales':'na_sales_m','EU_sales':'eu_sales_m',\n",
    "                            'JP_sales':'jp_sales_m', 'Other_sales':'other_sales_m','Critic_Score':'critic_score',\n",
    "                            'User_Score':'user_score','Rating':'rating'})\n",
    "data.info()"
   ]
  },
  {
   "cell_type": "code",
   "execution_count": 5,
   "metadata": {},
   "outputs": [
    {
     "data": {
      "text/plain": [
       "tbd    2424\n",
       "7.8     324\n",
       "8       290\n",
       "8.2     282\n",
       "8.3     254\n",
       "       ... \n",
       "1.1       2\n",
       "1.3       2\n",
       "1.9       2\n",
       "0         1\n",
       "9.7       1\n",
       "Name: user_score, Length: 96, dtype: int64"
      ]
     },
     "execution_count": 5,
     "metadata": {},
     "output_type": "execute_result"
    }
   ],
   "source": [
    "data['user_score'].value_counts()#посмотрим на значения в столбце user_score"
   ]
  },
  {
   "cell_type": "code",
   "execution_count": 6,
   "metadata": {},
   "outputs": [
    {
     "data": {
      "text/plain": [
       "2008.0    1427\n",
       "2009.0    1426\n",
       "2010.0    1255\n",
       "2007.0    1197\n",
       "2011.0    1136\n",
       "2006.0    1006\n",
       "2005.0     939\n",
       "2002.0     829\n",
       "2003.0     775\n",
       "2004.0     762\n",
       "2012.0     653\n",
       "2015.0     606\n",
       "2014.0     581\n",
       "2013.0     544\n",
       "2016.0     502\n",
       "2001.0     482\n",
       "1998.0     379\n",
       "2000.0     350\n",
       "1999.0     338\n",
       "1997.0     289\n",
       "1996.0     263\n",
       "1995.0     219\n",
       "1994.0     121\n",
       "1993.0      62\n",
       "1981.0      46\n",
       "1992.0      43\n",
       "1991.0      41\n",
       "1982.0      36\n",
       "1986.0      21\n",
       "1989.0      17\n",
       "1983.0      17\n",
       "1990.0      16\n",
       "1987.0      16\n",
       "1988.0      15\n",
       "1985.0      14\n",
       "1984.0      14\n",
       "1980.0       9\n",
       "Name: year_of_release, dtype: int64"
      ]
     },
     "execution_count": 6,
     "metadata": {},
     "output_type": "execute_result"
    }
   ],
   "source": [
    "data['year_of_release'].value_counts()#посмотрим на значения в столбце year_of_release"
   ]
  },
  {
   "cell_type": "code",
   "execution_count": 7,
   "metadata": {},
   "outputs": [
    {
     "name": "stdout",
     "output_type": "stream",
     "text": [
      "<class 'pandas.core.frame.DataFrame'>\n",
      "RangeIndex: 16715 entries, 0 to 16714\n",
      "Data columns (total 11 columns):\n",
      "game_name          16713 non-null object\n",
      "platform_name      16715 non-null object\n",
      "year_of_release    16715 non-null int64\n",
      "genre_name         16713 non-null object\n",
      "na_sales_m         16715 non-null float64\n",
      "eu_sales_m         16715 non-null float64\n",
      "jp_sales_m         16715 non-null float64\n",
      "other_sales_m      16715 non-null float64\n",
      "critic_score       8137 non-null float64\n",
      "user_score         10014 non-null float64\n",
      "rating             9949 non-null object\n",
      "dtypes: float64(6), int64(1), object(4)\n",
      "memory usage: 1.4+ MB\n"
     ]
    }
   ],
   "source": [
    "data['user_score'] = data['user_score'].replace('tbd',0) #заменим на 0, для перевода в тип float\n",
    "data['year_of_release'] = data['year_of_release'].fillna(0) #заменим пропуски на 0\n",
    "data = data.astype({\"user_score\" : \"float64\", 'year_of_release' : 'int'}) #приведем типы данных к нужным нам\n",
    "data['user_score'] = data['user_score'].apply(lambda x: x*10) #умножим на 10, чтоб оценка была в таком же виде,что и у критиков\n",
    "data.info()#проверим"
   ]
  },
  {
   "cell_type": "code",
   "execution_count": 8,
   "metadata": {
    "scrolled": false
   },
   "outputs": [
    {
     "data": {
      "text/plain": [
       "PS2     2161\n",
       "DS      2151\n",
       "PS3     1331\n",
       "Wii     1320\n",
       "X360    1262\n",
       "PSP     1209\n",
       "PS      1197\n",
       "PC       974\n",
       "XB       824\n",
       "GBA      822\n",
       "GC       556\n",
       "3DS      520\n",
       "PSV      430\n",
       "PS4      392\n",
       "N64      319\n",
       "XOne     247\n",
       "SNES     239\n",
       "SAT      173\n",
       "WiiU     147\n",
       "2600     133\n",
       "GB        98\n",
       "NES       98\n",
       "DC        52\n",
       "GEN       29\n",
       "NG        12\n",
       "SCD        6\n",
       "WS         6\n",
       "3DO        3\n",
       "TG16       2\n",
       "PCFX       1\n",
       "GG         1\n",
       "Name: platform_name, dtype: int64"
      ]
     },
     "execution_count": 8,
     "metadata": {},
     "output_type": "execute_result"
    }
   ],
   "source": [
    "data['platform_name'].value_counts() #посмотрим на значения в столбце platform_name"
   ]
  },
  {
   "cell_type": "code",
   "execution_count": 9,
   "metadata": {},
   "outputs": [
    {
     "data": {
      "text/plain": [
       "Action          3369\n",
       "Sports          2348\n",
       "Misc            1750\n",
       "Role-Playing    1498\n",
       "Shooter         1323\n",
       "Adventure       1303\n",
       "Racing          1249\n",
       "Platform         888\n",
       "Simulation       873\n",
       "Fighting         849\n",
       "Strategy         683\n",
       "Puzzle           580\n",
       "Name: genre_name, dtype: int64"
      ]
     },
     "execution_count": 9,
     "metadata": {},
     "output_type": "execute_result"
    }
   ],
   "source": [
    "data['genre_name'].value_counts() #посмотрим на значения в столбце genre_name"
   ]
  },
  {
   "cell_type": "code",
   "execution_count": 10,
   "metadata": {},
   "outputs": [
    {
     "data": {
      "text/plain": [
       "E       3990\n",
       "T       2961\n",
       "M       1563\n",
       "E10+    1420\n",
       "EC         8\n",
       "RP         3\n",
       "K-A        3\n",
       "AO         1\n",
       "Name: rating, dtype: int64"
      ]
     },
     "execution_count": 10,
     "metadata": {},
     "output_type": "execute_result"
    }
   ],
   "source": [
    "data['rating'].value_counts()#посмотрим на значения в столбце rating"
   ]
  },
  {
   "cell_type": "code",
   "execution_count": 11,
   "metadata": {},
   "outputs": [
    {
     "data": {
      "text/plain": [
       "RP      6769\n",
       "E       3990\n",
       "T       2961\n",
       "M       1563\n",
       "E10+    1420\n",
       "EC         8\n",
       "K-A        3\n",
       "AO         1\n",
       "Name: rating, dtype: int64"
      ]
     },
     "execution_count": 11,
     "metadata": {},
     "output_type": "execute_result"
    }
   ],
   "source": [
    "data['rating'] = data['rating'].fillna('RP') #заменим Nan значения на \"RP\" - без рейтинга\n",
    "data['rating'].value_counts()"
   ]
  },
  {
   "cell_type": "code",
   "execution_count": 12,
   "metadata": {},
   "outputs": [
    {
     "name": "stdout",
     "output_type": "stream",
     "text": [
      "<class 'pandas.core.frame.DataFrame'>\n",
      "Int64Index: 16713 entries, 0 to 16714\n",
      "Data columns (total 11 columns):\n",
      "game_name          16713 non-null object\n",
      "platform_name      16713 non-null object\n",
      "year_of_release    16713 non-null int64\n",
      "genre_name         16713 non-null object\n",
      "na_sales_m         16713 non-null float64\n",
      "eu_sales_m         16713 non-null float64\n",
      "jp_sales_m         16713 non-null float64\n",
      "other_sales_m      16713 non-null float64\n",
      "critic_score       8137 non-null float64\n",
      "user_score         10014 non-null float64\n",
      "rating             16713 non-null object\n",
      "dtypes: float64(6), int64(1), object(4)\n",
      "memory usage: 1.5+ MB\n"
     ]
    }
   ],
   "source": [
    "data.dropna(subset = ['game_name'],inplace = True) #Пожертвуем двумя записями, для статистики - это не потеря\n",
    "data.info()"
   ]
  },
  {
   "cell_type": "code",
   "execution_count": 13,
   "metadata": {},
   "outputs": [],
   "source": [
    "#Суммарные продажи во всех регионах\n",
    "data['total_sales_m'] = data['na_sales_m']+data['eu_sales_m']+data['jp_sales_m']+data['other_sales_m']"
   ]
  },
  {
   "cell_type": "code",
   "execution_count": 14,
   "metadata": {},
   "outputs": [
    {
     "name": "stdout",
     "output_type": "stream",
     "text": [
      "<class 'pandas.core.frame.DataFrame'>\n",
      "Int64Index: 16713 entries, 0 to 16714\n",
      "Data columns (total 12 columns):\n",
      "game_name          16713 non-null object\n",
      "platform_name      16713 non-null object\n",
      "year_of_release    16713 non-null int64\n",
      "genre_name         16713 non-null object\n",
      "na_sales_m         16713 non-null float64\n",
      "eu_sales_m         16713 non-null float64\n",
      "jp_sales_m         16713 non-null float64\n",
      "other_sales_m      16713 non-null float64\n",
      "critic_score       8137 non-null float64\n",
      "user_score         10014 non-null float64\n",
      "rating             16713 non-null object\n",
      "total_sales_m      16713 non-null float64\n",
      "dtypes: float64(7), int64(1), object(4)\n",
      "memory usage: 1.7+ MB\n"
     ]
    }
   ],
   "source": [
    "data.info()"
   ]
  },
  {
   "cell_type": "markdown",
   "metadata": {},
   "source": [
    "Данные стали \"тяжелее\" на 0.3 Мб)"
   ]
  },
  {
   "cell_type": "markdown",
   "metadata": {},
   "source": [
    "## Исследовательский анализ данных"
   ]
  },
  {
   "cell_type": "markdown",
   "metadata": {},
   "source": [
    "### Сколько игр выпускалось в разные годы. Важны ли данные за все периоды?"
   ]
  },
  {
   "cell_type": "code",
   "execution_count": 15,
   "metadata": {},
   "outputs": [
    {
     "data": {
      "text/plain": [
       "Text(0, 0.5, 'Количество выпущенных игр')"
      ]
     },
     "execution_count": 15,
     "metadata": {},
     "output_type": "execute_result"
    },
    {
     "data": {
      "image/png": "[encoded data removed]",
      "text/plain": [
       "<Figure size 864x432 with 1 Axes>"
      ]
     },
     "metadata": {
      "needs_background": "light"
     },
     "output_type": "display_data"
    }
   ],
   "source": [
    "plt.figure(figsize=(12,6))\n",
    "plt.xlim(1985,2017)\n",
    "sns.lineplot(data=data.pivot_table(index='year_of_release', values = 'rating', aggfunc='count'))\n",
    "plt.xlabel(\"Год выпуска\")\n",
    "plt.ylabel(\"Количество выпущенных игр\")"
   ]
  },
  {
   "cell_type": "markdown",
   "metadata": {},
   "source": [
    "По этим данным можно остледить прогресс в развитии технологий, кризисы в индустрии и открытие новых \"полей\"(Мобильные устройства, которые стоят не так дорого как новая PS4). Возможно провал в 2013 году связан с биткоинтом, был первый скачек, от сюда рост цен на видеокарты. Так же разработчики начали уходить от такой монетизации в сторону продажи внутриигровых товаров за реальные деньги."
   ]
  },
  {
   "cell_type": "markdown",
   "metadata": {},
   "source": [
    "### Как менялись продажи по платформам. Выбрать платформы с наибольшими суммарными продажами и построить распределение по годам. За какой характерный срок появляются новые и исчезают старые платформы?"
   ]
  },
  {
   "cell_type": "code",
   "execution_count": 16,
   "metadata": {
    "scrolled": false
   },
   "outputs": [
    {
     "name": "stdout",
     "output_type": "stream",
     "text": [
      "<class 'pandas.core.frame.DataFrame'>\n",
      "Int64Index: 12615 entries, 0 to 16713\n",
      "Data columns (total 12 columns):\n",
      "game_name          12615 non-null object\n",
      "platform_name      12615 non-null object\n",
      "year_of_release    12615 non-null int64\n",
      "genre_name         12615 non-null object\n",
      "na_sales_m         12615 non-null float64\n",
      "eu_sales_m         12615 non-null float64\n",
      "jp_sales_m         12615 non-null float64\n",
      "other_sales_m      12615 non-null float64\n",
      "critic_score       6282 non-null float64\n",
      "user_score         7979 non-null float64\n",
      "rating             12615 non-null object\n",
      "total_sales_m      12615 non-null float64\n",
      "dtypes: float64(7), int64(1), object(4)\n",
      "memory usage: 1.3+ MB\n"
     ]
    },
    {
     "data": {
      "text/html": [
       "<div>\n",
       "<style scoped>\n",
       "    .dataframe tbody tr th:only-of-type {\n",
       "        vertical-align: middle;\n",
       "    }\n",
       "\n",
       "    .dataframe tbody tr th {\n",
       "        vertical-align: top;\n",
       "    }\n",
       "\n",
       "    .dataframe thead th {\n",
       "        text-align: right;\n",
       "    }\n",
       "</style>\n",
       "<table border=\"1\" class=\"dataframe\">\n",
       "  <thead>\n",
       "    <tr style=\"text-align: right;\">\n",
       "      <th></th>\n",
       "      <th>year_of_release</th>\n",
       "      <th>na_sales_m</th>\n",
       "      <th>eu_sales_m</th>\n",
       "      <th>jp_sales_m</th>\n",
       "      <th>other_sales_m</th>\n",
       "      <th>critic_score</th>\n",
       "      <th>user_score</th>\n",
       "      <th>total_sales_m</th>\n",
       "    </tr>\n",
       "  </thead>\n",
       "  <tbody>\n",
       "    <tr>\n",
       "      <td>count</td>\n",
       "      <td>12615.000000</td>\n",
       "      <td>12615.000000</td>\n",
       "      <td>12615.000000</td>\n",
       "      <td>12615.000000</td>\n",
       "      <td>12615.000000</td>\n",
       "      <td>6282.000000</td>\n",
       "      <td>7979.000000</td>\n",
       "      <td>12615.000000</td>\n",
       "    </tr>\n",
       "    <tr>\n",
       "      <td>mean</td>\n",
       "      <td>2007.141419</td>\n",
       "      <td>0.257960</td>\n",
       "      <td>0.159251</td>\n",
       "      <td>0.059524</td>\n",
       "      <td>0.055964</td>\n",
       "      <td>68.682267</td>\n",
       "      <td>52.585913</td>\n",
       "      <td>0.532698</td>\n",
       "    </tr>\n",
       "    <tr>\n",
       "      <td>std</td>\n",
       "      <td>4.570569</td>\n",
       "      <td>0.752134</td>\n",
       "      <td>0.547979</td>\n",
       "      <td>0.253301</td>\n",
       "      <td>0.210814</td>\n",
       "      <td>14.021987</td>\n",
       "      <td>33.557070</td>\n",
       "      <td>1.543152</td>\n",
       "    </tr>\n",
       "    <tr>\n",
       "      <td>min</td>\n",
       "      <td>1985.000000</td>\n",
       "      <td>0.000000</td>\n",
       "      <td>0.000000</td>\n",
       "      <td>0.000000</td>\n",
       "      <td>0.000000</td>\n",
       "      <td>13.000000</td>\n",
       "      <td>0.000000</td>\n",
       "      <td>0.000000</td>\n",
       "    </tr>\n",
       "    <tr>\n",
       "      <td>25%</td>\n",
       "      <td>2005.000000</td>\n",
       "      <td>0.000000</td>\n",
       "      <td>0.000000</td>\n",
       "      <td>0.000000</td>\n",
       "      <td>0.000000</td>\n",
       "      <td>60.000000</td>\n",
       "      <td>0.000000</td>\n",
       "      <td>0.060000</td>\n",
       "    </tr>\n",
       "    <tr>\n",
       "      <td>50%</td>\n",
       "      <td>2008.000000</td>\n",
       "      <td>0.080000</td>\n",
       "      <td>0.020000</td>\n",
       "      <td>0.000000</td>\n",
       "      <td>0.010000</td>\n",
       "      <td>70.000000</td>\n",
       "      <td>68.000000</td>\n",
       "      <td>0.170000</td>\n",
       "    </tr>\n",
       "    <tr>\n",
       "      <td>75%</td>\n",
       "      <td>2010.000000</td>\n",
       "      <td>0.240000</td>\n",
       "      <td>0.120000</td>\n",
       "      <td>0.030000</td>\n",
       "      <td>0.040000</td>\n",
       "      <td>79.000000</td>\n",
       "      <td>79.000000</td>\n",
       "      <td>0.470000</td>\n",
       "    </tr>\n",
       "    <tr>\n",
       "      <td>max</td>\n",
       "      <td>2016.000000</td>\n",
       "      <td>41.360000</td>\n",
       "      <td>28.960000</td>\n",
       "      <td>6.500000</td>\n",
       "      <td>10.570000</td>\n",
       "      <td>98.000000</td>\n",
       "      <td>97.000000</td>\n",
       "      <td>82.540000</td>\n",
       "    </tr>\n",
       "  </tbody>\n",
       "</table>\n",
       "</div>"
      ],
      "text/plain": [
       "       year_of_release    na_sales_m    eu_sales_m    jp_sales_m  \\\n",
       "count     12615.000000  12615.000000  12615.000000  12615.000000   \n",
       "mean       2007.141419      0.257960      0.159251      0.059524   \n",
       "std           4.570569      0.752134      0.547979      0.253301   \n",
       "min        1985.000000      0.000000      0.000000      0.000000   \n",
       "25%        2005.000000      0.000000      0.000000      0.000000   \n",
       "50%        2008.000000      0.080000      0.020000      0.000000   \n",
       "75%        2010.000000      0.240000      0.120000      0.030000   \n",
       "max        2016.000000     41.360000     28.960000      6.500000   \n",
       "\n",
       "       other_sales_m  critic_score   user_score  total_sales_m  \n",
       "count   12615.000000   6282.000000  7979.000000   12615.000000  \n",
       "mean        0.055964     68.682267    52.585913       0.532698  \n",
       "std         0.210814     14.021987    33.557070       1.543152  \n",
       "min         0.000000     13.000000     0.000000       0.000000  \n",
       "25%         0.000000     60.000000     0.000000       0.060000  \n",
       "50%         0.010000     70.000000    68.000000       0.170000  \n",
       "75%         0.040000     79.000000    79.000000       0.470000  \n",
       "max        10.570000     98.000000    97.000000      82.540000  "
      ]
     },
     "metadata": {},
     "output_type": "display_data"
    },
    {
     "data": {
      "text/html": [
       "<div>\n",
       "<style scoped>\n",
       "    .dataframe tbody tr th:only-of-type {\n",
       "        vertical-align: middle;\n",
       "    }\n",
       "\n",
       "    .dataframe tbody tr th {\n",
       "        vertical-align: top;\n",
       "    }\n",
       "\n",
       "    .dataframe thead th {\n",
       "        text-align: right;\n",
       "    }\n",
       "</style>\n",
       "<table border=\"1\" class=\"dataframe\">\n",
       "  <thead>\n",
       "    <tr style=\"text-align: right;\">\n",
       "      <th></th>\n",
       "      <th>platform_name</th>\n",
       "      <th>year_of_release</th>\n",
       "      <th>total_sales_m</th>\n",
       "    </tr>\n",
       "  </thead>\n",
       "  <tbody>\n",
       "    <tr>\n",
       "      <td>0</td>\n",
       "      <td>DS</td>\n",
       "      <td>1985</td>\n",
       "      <td>0.020000</td>\n",
       "    </tr>\n",
       "    <tr>\n",
       "      <td>1</td>\n",
       "      <td>DS</td>\n",
       "      <td>2004</td>\n",
       "      <td>0.750870</td>\n",
       "    </tr>\n",
       "    <tr>\n",
       "      <td>2</td>\n",
       "      <td>DS</td>\n",
       "      <td>2005</td>\n",
       "      <td>1.102881</td>\n",
       "    </tr>\n",
       "    <tr>\n",
       "      <td>3</td>\n",
       "      <td>DS</td>\n",
       "      <td>2006</td>\n",
       "      <td>0.596070</td>\n",
       "    </tr>\n",
       "    <tr>\n",
       "      <td>4</td>\n",
       "      <td>DS</td>\n",
       "      <td>2007</td>\n",
       "      <td>0.390798</td>\n",
       "    </tr>\n",
       "    <tr>\n",
       "      <td>...</td>\n",
       "      <td>...</td>\n",
       "      <td>...</td>\n",
       "      <td>...</td>\n",
       "    </tr>\n",
       "    <tr>\n",
       "      <td>112</td>\n",
       "      <td>X360</td>\n",
       "      <td>2012</td>\n",
       "      <td>0.940943</td>\n",
       "    </tr>\n",
       "    <tr>\n",
       "      <td>113</td>\n",
       "      <td>X360</td>\n",
       "      <td>2013</td>\n",
       "      <td>1.181067</td>\n",
       "    </tr>\n",
       "    <tr>\n",
       "      <td>114</td>\n",
       "      <td>X360</td>\n",
       "      <td>2014</td>\n",
       "      <td>0.551429</td>\n",
       "    </tr>\n",
       "    <tr>\n",
       "      <td>115</td>\n",
       "      <td>X360</td>\n",
       "      <td>2015</td>\n",
       "      <td>0.341714</td>\n",
       "    </tr>\n",
       "    <tr>\n",
       "      <td>116</td>\n",
       "      <td>X360</td>\n",
       "      <td>2016</td>\n",
       "      <td>0.116923</td>\n",
       "    </tr>\n",
       "  </tbody>\n",
       "</table>\n",
       "<p>117 rows × 3 columns</p>\n",
       "</div>"
      ],
      "text/plain": [
       "    platform_name  year_of_release  total_sales_m\n",
       "0              DS             1985       0.020000\n",
       "1              DS             2004       0.750870\n",
       "2              DS             2005       1.102881\n",
       "3              DS             2006       0.596070\n",
       "4              DS             2007       0.390798\n",
       "..            ...              ...            ...\n",
       "112          X360             2012       0.940943\n",
       "113          X360             2013       1.181067\n",
       "114          X360             2014       0.551429\n",
       "115          X360             2015       0.341714\n",
       "116          X360             2016       0.116923\n",
       "\n",
       "[117 rows x 3 columns]"
      ]
     },
     "metadata": {},
     "output_type": "display_data"
    },
    {
     "name": "stdout",
     "output_type": "stream",
     "text": [
      "Срок \"жизни\" игровой консоли в среднем: year_of_release    11.7\n",
      "dtype: float64\n",
      "Медиана \"жизни\" игровой консоли: year_of_release    11.0\n",
      "dtype: float64\n",
      "Даты выпуска:\n",
      "                year_of_release\n",
      "platform_name                 \n",
      "DS                        1985\n",
      "PC                        1985\n",
      "PS                        1994\n",
      "GBA                       2000\n",
      "PS2                       2000\n",
      "PSP                       2004\n",
      "X360                      2005\n",
      "PS3                       2006\n",
      "Wii                       2006\n",
      "PS4                       2013\n"
     ]
    }
   ],
   "source": [
    "platform_top = data.groupby(\n",
    "    ['platform_name']).agg({'total_sales_m' : 'sum'}).sort_values(by = 'total_sales_m', ascending = False).head(10)#топ по продажам\n",
    "top_stats = data.query('platform_name in @platform_top.index & year_of_release > 0')#выделяем только записи по топ платформам\n",
    "top_stats.info()\n",
    "display(top_stats.describe())\n",
    "top_stats_years = top_stats.pivot_table(\n",
    "    index=['platform_name','year_of_release'], values = 'total_sales_m'\n",
    ").reset_index()\n",
    "display(top_stats_years)\n",
    "median_duration = top_stats_years.groupby('platform_name').agg({'year_of_release':'count'}).median()\n",
    "mean_duration = top_stats_years.groupby('platform_name').agg({'year_of_release':'count'}).mean()\n",
    "\n",
    "print('Срок \"жизни\" игровой консоли в среднем:', mean_duration)\n",
    "print('Медиана \"жизни\" игровой консоли:', median_duration)\n",
    "print('Даты выпуска:\\n', top_stats_years.groupby('platform_name').agg({'year_of_release':'first'}).sort_values(by = 'year_of_release'))"
   ]
  },
  {
   "cell_type": "markdown",
   "metadata": {},
   "source": [
    "Присутсвуют долгожители, такие как \"PC\", но эта патформа универсальна. Sony выпускают обновленную платформу каждые 6 лет. Nintendo так же выпускают разные платформы примерно раз в 6 лет, первая запись от них в 1985 году(DS), хотя в википедии дата выпуска первой модели в 2004 году. Хоть и выходит новая платформа, продажи для прошлых моделей продолжаются. Продажи длятся для каждой платформы - 11 лет, судя по медиане."
   ]
  },
  {
   "cell_type": "code",
   "execution_count": 17,
   "metadata": {},
   "outputs": [
    {
     "data": {
      "text/plain": [
       "Text(0, 0.5, 'Продажи, м.')"
      ]
     },
     "execution_count": 17,
     "metadata": {},
     "output_type": "execute_result"
    },
    {
     "data": {
      "image/png": "[encoded data removed]",
      "text/plain": [
       "<Figure size 864x432 with 1 Axes>"
      ]
     },
     "metadata": {
      "needs_background": "light"
     },
     "output_type": "display_data"
    }
   ],
   "source": [
    "plt.figure(figsize=(12,6))\n",
    "sns.lineplot(data=top_stats_years, x = 'year_of_release', y = 'total_sales_m',ci=None)\n",
    "plt.xlabel(\"Год выпуска\")\n",
    "plt.ylabel(\"Продажи, м.\")"
   ]
  },
  {
   "cell_type": "markdown",
   "metadata": {},
   "source": [
    "### Взять данные за соответствующий актуальный период. Основной фактор — эти данные помогут построить прогноз на 2017 год."
   ]
  },
  {
   "cell_type": "code",
   "execution_count": 18,
   "metadata": {},
   "outputs": [
    {
     "data": {
      "text/html": [
       "<div>\n",
       "<style scoped>\n",
       "    .dataframe tbody tr th:only-of-type {\n",
       "        vertical-align: middle;\n",
       "    }\n",
       "\n",
       "    .dataframe tbody tr th {\n",
       "        vertical-align: top;\n",
       "    }\n",
       "\n",
       "    .dataframe thead th {\n",
       "        text-align: right;\n",
       "    }\n",
       "</style>\n",
       "<table border=\"1\" class=\"dataframe\">\n",
       "  <thead>\n",
       "    <tr style=\"text-align: right;\">\n",
       "      <th></th>\n",
       "      <th>game_name</th>\n",
       "      <th>platform_name</th>\n",
       "      <th>year_of_release</th>\n",
       "      <th>genre_name</th>\n",
       "      <th>na_sales_m</th>\n",
       "      <th>eu_sales_m</th>\n",
       "      <th>jp_sales_m</th>\n",
       "      <th>other_sales_m</th>\n",
       "      <th>critic_score</th>\n",
       "      <th>user_score</th>\n",
       "      <th>rating</th>\n",
       "      <th>total_sales_m</th>\n",
       "      <th>relevance</th>\n",
       "    </tr>\n",
       "  </thead>\n",
       "  <tbody>\n",
       "    <tr>\n",
       "      <td>16</td>\n",
       "      <td>Grand Theft Auto V</td>\n",
       "      <td>PS3</td>\n",
       "      <td>2013</td>\n",
       "      <td>Action</td>\n",
       "      <td>7.02</td>\n",
       "      <td>9.09</td>\n",
       "      <td>0.98</td>\n",
       "      <td>3.96</td>\n",
       "      <td>97.0</td>\n",
       "      <td>82.0</td>\n",
       "      <td>M</td>\n",
       "      <td>21.05</td>\n",
       "      <td>True</td>\n",
       "    </tr>\n",
       "    <tr>\n",
       "      <td>23</td>\n",
       "      <td>Grand Theft Auto V</td>\n",
       "      <td>X360</td>\n",
       "      <td>2013</td>\n",
       "      <td>Action</td>\n",
       "      <td>9.66</td>\n",
       "      <td>5.14</td>\n",
       "      <td>0.06</td>\n",
       "      <td>1.41</td>\n",
       "      <td>97.0</td>\n",
       "      <td>81.0</td>\n",
       "      <td>M</td>\n",
       "      <td>16.27</td>\n",
       "      <td>True</td>\n",
       "    </tr>\n",
       "    <tr>\n",
       "      <td>31</td>\n",
       "      <td>Call of Duty: Black Ops 3</td>\n",
       "      <td>PS4</td>\n",
       "      <td>2015</td>\n",
       "      <td>Shooter</td>\n",
       "      <td>6.03</td>\n",
       "      <td>5.86</td>\n",
       "      <td>0.36</td>\n",
       "      <td>2.38</td>\n",
       "      <td>NaN</td>\n",
       "      <td>NaN</td>\n",
       "      <td>RP</td>\n",
       "      <td>14.63</td>\n",
       "      <td>True</td>\n",
       "    </tr>\n",
       "    <tr>\n",
       "      <td>33</td>\n",
       "      <td>Pokemon X/Pokemon Y</td>\n",
       "      <td>3DS</td>\n",
       "      <td>2013</td>\n",
       "      <td>Role-Playing</td>\n",
       "      <td>5.28</td>\n",
       "      <td>4.19</td>\n",
       "      <td>4.35</td>\n",
       "      <td>0.78</td>\n",
       "      <td>NaN</td>\n",
       "      <td>NaN</td>\n",
       "      <td>RP</td>\n",
       "      <td>14.60</td>\n",
       "      <td>True</td>\n",
       "    </tr>\n",
       "    <tr>\n",
       "      <td>34</td>\n",
       "      <td>Call of Duty: Black Ops II</td>\n",
       "      <td>PS3</td>\n",
       "      <td>2012</td>\n",
       "      <td>Shooter</td>\n",
       "      <td>4.99</td>\n",
       "      <td>5.73</td>\n",
       "      <td>0.65</td>\n",
       "      <td>2.42</td>\n",
       "      <td>83.0</td>\n",
       "      <td>53.0</td>\n",
       "      <td>M</td>\n",
       "      <td>13.79</td>\n",
       "      <td>True</td>\n",
       "    </tr>\n",
       "    <tr>\n",
       "      <td>...</td>\n",
       "      <td>...</td>\n",
       "      <td>...</td>\n",
       "      <td>...</td>\n",
       "      <td>...</td>\n",
       "      <td>...</td>\n",
       "      <td>...</td>\n",
       "      <td>...</td>\n",
       "      <td>...</td>\n",
       "      <td>...</td>\n",
       "      <td>...</td>\n",
       "      <td>...</td>\n",
       "      <td>...</td>\n",
       "      <td>...</td>\n",
       "    </tr>\n",
       "    <tr>\n",
       "      <td>16703</td>\n",
       "      <td>Strawberry Nauts</td>\n",
       "      <td>PSV</td>\n",
       "      <td>2016</td>\n",
       "      <td>Adventure</td>\n",
       "      <td>0.00</td>\n",
       "      <td>0.00</td>\n",
       "      <td>0.01</td>\n",
       "      <td>0.00</td>\n",
       "      <td>NaN</td>\n",
       "      <td>NaN</td>\n",
       "      <td>RP</td>\n",
       "      <td>0.01</td>\n",
       "      <td>True</td>\n",
       "    </tr>\n",
       "    <tr>\n",
       "      <td>16707</td>\n",
       "      <td>Aiyoku no Eustia</td>\n",
       "      <td>PSV</td>\n",
       "      <td>2014</td>\n",
       "      <td>Misc</td>\n",
       "      <td>0.00</td>\n",
       "      <td>0.00</td>\n",
       "      <td>0.01</td>\n",
       "      <td>0.00</td>\n",
       "      <td>NaN</td>\n",
       "      <td>NaN</td>\n",
       "      <td>RP</td>\n",
       "      <td>0.01</td>\n",
       "      <td>True</td>\n",
       "    </tr>\n",
       "    <tr>\n",
       "      <td>16710</td>\n",
       "      <td>Samurai Warriors: Sanada Maru</td>\n",
       "      <td>PS3</td>\n",
       "      <td>2016</td>\n",
       "      <td>Action</td>\n",
       "      <td>0.00</td>\n",
       "      <td>0.00</td>\n",
       "      <td>0.01</td>\n",
       "      <td>0.00</td>\n",
       "      <td>NaN</td>\n",
       "      <td>NaN</td>\n",
       "      <td>RP</td>\n",
       "      <td>0.01</td>\n",
       "      <td>True</td>\n",
       "    </tr>\n",
       "    <tr>\n",
       "      <td>16712</td>\n",
       "      <td>Haitaka no Psychedelica</td>\n",
       "      <td>PSV</td>\n",
       "      <td>2016</td>\n",
       "      <td>Adventure</td>\n",
       "      <td>0.00</td>\n",
       "      <td>0.00</td>\n",
       "      <td>0.01</td>\n",
       "      <td>0.00</td>\n",
       "      <td>NaN</td>\n",
       "      <td>NaN</td>\n",
       "      <td>RP</td>\n",
       "      <td>0.01</td>\n",
       "      <td>True</td>\n",
       "    </tr>\n",
       "    <tr>\n",
       "      <td>16714</td>\n",
       "      <td>Winning Post 8 2016</td>\n",
       "      <td>PSV</td>\n",
       "      <td>2016</td>\n",
       "      <td>Simulation</td>\n",
       "      <td>0.00</td>\n",
       "      <td>0.00</td>\n",
       "      <td>0.01</td>\n",
       "      <td>0.00</td>\n",
       "      <td>NaN</td>\n",
       "      <td>NaN</td>\n",
       "      <td>RP</td>\n",
       "      <td>0.01</td>\n",
       "      <td>True</td>\n",
       "    </tr>\n",
       "  </tbody>\n",
       "</table>\n",
       "<p>2886 rows × 13 columns</p>\n",
       "</div>"
      ],
      "text/plain": [
       "                           game_name platform_name  year_of_release  \\\n",
       "16                Grand Theft Auto V           PS3             2013   \n",
       "23                Grand Theft Auto V          X360             2013   \n",
       "31         Call of Duty: Black Ops 3           PS4             2015   \n",
       "33               Pokemon X/Pokemon Y           3DS             2013   \n",
       "34        Call of Duty: Black Ops II           PS3             2012   \n",
       "...                              ...           ...              ...   \n",
       "16703               Strawberry Nauts           PSV             2016   \n",
       "16707               Aiyoku no Eustia           PSV             2014   \n",
       "16710  Samurai Warriors: Sanada Maru           PS3             2016   \n",
       "16712        Haitaka no Psychedelica           PSV             2016   \n",
       "16714            Winning Post 8 2016           PSV             2016   \n",
       "\n",
       "         genre_name  na_sales_m  eu_sales_m  jp_sales_m  other_sales_m  \\\n",
       "16           Action        7.02        9.09        0.98           3.96   \n",
       "23           Action        9.66        5.14        0.06           1.41   \n",
       "31          Shooter        6.03        5.86        0.36           2.38   \n",
       "33     Role-Playing        5.28        4.19        4.35           0.78   \n",
       "34          Shooter        4.99        5.73        0.65           2.42   \n",
       "...             ...         ...         ...         ...            ...   \n",
       "16703     Adventure        0.00        0.00        0.01           0.00   \n",
       "16707          Misc        0.00        0.00        0.01           0.00   \n",
       "16710        Action        0.00        0.00        0.01           0.00   \n",
       "16712     Adventure        0.00        0.00        0.01           0.00   \n",
       "16714    Simulation        0.00        0.00        0.01           0.00   \n",
       "\n",
       "       critic_score  user_score rating  total_sales_m  relevance  \n",
       "16             97.0        82.0      M          21.05       True  \n",
       "23             97.0        81.0      M          16.27       True  \n",
       "31              NaN         NaN     RP          14.63       True  \n",
       "33              NaN         NaN     RP          14.60       True  \n",
       "34             83.0        53.0      M          13.79       True  \n",
       "...             ...         ...    ...            ...        ...  \n",
       "16703           NaN         NaN     RP           0.01       True  \n",
       "16707           NaN         NaN     RP           0.01       True  \n",
       "16710           NaN         NaN     RP           0.01       True  \n",
       "16712           NaN         NaN     RP           0.01       True  \n",
       "16714           NaN         NaN     RP           0.01       True  \n",
       "\n",
       "[2886 rows x 13 columns]"
      ]
     },
     "execution_count": 18,
     "metadata": {},
     "output_type": "execute_result"
    }
   ],
   "source": [
    "#Посмотрим данные за отчетный период в 6.5 лет\n",
    "condition = int(forecast_year - (median_duration/2))\n",
    "data['relevance'] = data['year_of_release'] > condition \n",
    "actual_data = data.query('relevance == True').copy(deep=True)\n",
    "actual_data"
   ]
  },
  {
   "cell_type": "markdown",
   "metadata": {},
   "source": [
    "### Какие платформы лидируют по продажам, растут или падают? Выберите несколько потенциально прибыльных платформ."
   ]
  },
  {
   "cell_type": "markdown",
   "metadata": {},
   "source": [
    "Так как весь рынок продаж компьютерных игр в упадке, то продажи на всех платформах падают.\n",
    "Посчитаем отталкиваясь от доли рынка занимаемой платформой."
   ]
  },
  {
   "cell_type": "code",
   "execution_count": 19,
   "metadata": {},
   "outputs": [
    {
     "data": {
      "text/html": [
       "<div>\n",
       "<style scoped>\n",
       "    .dataframe tbody tr th:only-of-type {\n",
       "        vertical-align: middle;\n",
       "    }\n",
       "\n",
       "    .dataframe tbody tr th {\n",
       "        vertical-align: top;\n",
       "    }\n",
       "\n",
       "    .dataframe thead th {\n",
       "        text-align: right;\n",
       "    }\n",
       "</style>\n",
       "<table border=\"1\" class=\"dataframe\">\n",
       "  <thead>\n",
       "    <tr style=\"text-align: right;\">\n",
       "      <th></th>\n",
       "      <th>game_name</th>\n",
       "      <th>platform_name</th>\n",
       "      <th>year_of_release</th>\n",
       "      <th>genre_name</th>\n",
       "      <th>na_sales_m</th>\n",
       "      <th>eu_sales_m</th>\n",
       "      <th>jp_sales_m</th>\n",
       "      <th>other_sales_m</th>\n",
       "      <th>critic_score</th>\n",
       "      <th>user_score</th>\n",
       "      <th>rating</th>\n",
       "      <th>total_sales_m_x</th>\n",
       "      <th>relevance</th>\n",
       "      <th>total_sales_m_y</th>\n",
       "      <th>market_share_year</th>\n",
       "    </tr>\n",
       "  </thead>\n",
       "  <tbody>\n",
       "    <tr>\n",
       "      <td>0</td>\n",
       "      <td>Grand Theft Auto V</td>\n",
       "      <td>PS3</td>\n",
       "      <td>2013</td>\n",
       "      <td>Action</td>\n",
       "      <td>7.02</td>\n",
       "      <td>9.09</td>\n",
       "      <td>0.98</td>\n",
       "      <td>3.96</td>\n",
       "      <td>97.0</td>\n",
       "      <td>82.0</td>\n",
       "      <td>M</td>\n",
       "      <td>21.05</td>\n",
       "      <td>True</td>\n",
       "      <td>361.24</td>\n",
       "      <td>0.058272</td>\n",
       "    </tr>\n",
       "    <tr>\n",
       "      <td>1</td>\n",
       "      <td>Grand Theft Auto V</td>\n",
       "      <td>X360</td>\n",
       "      <td>2013</td>\n",
       "      <td>Action</td>\n",
       "      <td>9.66</td>\n",
       "      <td>5.14</td>\n",
       "      <td>0.06</td>\n",
       "      <td>1.41</td>\n",
       "      <td>97.0</td>\n",
       "      <td>81.0</td>\n",
       "      <td>M</td>\n",
       "      <td>16.27</td>\n",
       "      <td>True</td>\n",
       "      <td>361.24</td>\n",
       "      <td>0.045039</td>\n",
       "    </tr>\n",
       "    <tr>\n",
       "      <td>2</td>\n",
       "      <td>Pokemon X/Pokemon Y</td>\n",
       "      <td>3DS</td>\n",
       "      <td>2013</td>\n",
       "      <td>Role-Playing</td>\n",
       "      <td>5.28</td>\n",
       "      <td>4.19</td>\n",
       "      <td>4.35</td>\n",
       "      <td>0.78</td>\n",
       "      <td>NaN</td>\n",
       "      <td>NaN</td>\n",
       "      <td>RP</td>\n",
       "      <td>14.60</td>\n",
       "      <td>True</td>\n",
       "      <td>361.24</td>\n",
       "      <td>0.040416</td>\n",
       "    </tr>\n",
       "    <tr>\n",
       "      <td>3</td>\n",
       "      <td>Call of Duty: Ghosts</td>\n",
       "      <td>X360</td>\n",
       "      <td>2013</td>\n",
       "      <td>Shooter</td>\n",
       "      <td>6.73</td>\n",
       "      <td>2.56</td>\n",
       "      <td>0.04</td>\n",
       "      <td>0.91</td>\n",
       "      <td>73.0</td>\n",
       "      <td>26.0</td>\n",
       "      <td>M</td>\n",
       "      <td>10.24</td>\n",
       "      <td>True</td>\n",
       "      <td>361.24</td>\n",
       "      <td>0.028347</td>\n",
       "    </tr>\n",
       "    <tr>\n",
       "      <td>4</td>\n",
       "      <td>Call of Duty: Ghosts</td>\n",
       "      <td>PS3</td>\n",
       "      <td>2013</td>\n",
       "      <td>Shooter</td>\n",
       "      <td>4.10</td>\n",
       "      <td>3.63</td>\n",
       "      <td>0.38</td>\n",
       "      <td>1.25</td>\n",
       "      <td>71.0</td>\n",
       "      <td>26.0</td>\n",
       "      <td>M</td>\n",
       "      <td>9.36</td>\n",
       "      <td>True</td>\n",
       "      <td>361.24</td>\n",
       "      <td>0.025911</td>\n",
       "    </tr>\n",
       "    <tr>\n",
       "      <td>...</td>\n",
       "      <td>...</td>\n",
       "      <td>...</td>\n",
       "      <td>...</td>\n",
       "      <td>...</td>\n",
       "      <td>...</td>\n",
       "      <td>...</td>\n",
       "      <td>...</td>\n",
       "      <td>...</td>\n",
       "      <td>...</td>\n",
       "      <td>...</td>\n",
       "      <td>...</td>\n",
       "      <td>...</td>\n",
       "      <td>...</td>\n",
       "      <td>...</td>\n",
       "      <td>...</td>\n",
       "    </tr>\n",
       "    <tr>\n",
       "      <td>2881</td>\n",
       "      <td>The Longest 5 Minutes</td>\n",
       "      <td>PSV</td>\n",
       "      <td>2016</td>\n",
       "      <td>Action</td>\n",
       "      <td>0.00</td>\n",
       "      <td>0.00</td>\n",
       "      <td>0.01</td>\n",
       "      <td>0.00</td>\n",
       "      <td>NaN</td>\n",
       "      <td>NaN</td>\n",
       "      <td>RP</td>\n",
       "      <td>0.01</td>\n",
       "      <td>True</td>\n",
       "      <td>129.94</td>\n",
       "      <td>0.000077</td>\n",
       "    </tr>\n",
       "    <tr>\n",
       "      <td>2882</td>\n",
       "      <td>Strawberry Nauts</td>\n",
       "      <td>PSV</td>\n",
       "      <td>2016</td>\n",
       "      <td>Adventure</td>\n",
       "      <td>0.00</td>\n",
       "      <td>0.00</td>\n",
       "      <td>0.01</td>\n",
       "      <td>0.00</td>\n",
       "      <td>NaN</td>\n",
       "      <td>NaN</td>\n",
       "      <td>RP</td>\n",
       "      <td>0.01</td>\n",
       "      <td>True</td>\n",
       "      <td>129.94</td>\n",
       "      <td>0.000077</td>\n",
       "    </tr>\n",
       "    <tr>\n",
       "      <td>2883</td>\n",
       "      <td>Samurai Warriors: Sanada Maru</td>\n",
       "      <td>PS3</td>\n",
       "      <td>2016</td>\n",
       "      <td>Action</td>\n",
       "      <td>0.00</td>\n",
       "      <td>0.00</td>\n",
       "      <td>0.01</td>\n",
       "      <td>0.00</td>\n",
       "      <td>NaN</td>\n",
       "      <td>NaN</td>\n",
       "      <td>RP</td>\n",
       "      <td>0.01</td>\n",
       "      <td>True</td>\n",
       "      <td>129.94</td>\n",
       "      <td>0.000077</td>\n",
       "    </tr>\n",
       "    <tr>\n",
       "      <td>2884</td>\n",
       "      <td>Haitaka no Psychedelica</td>\n",
       "      <td>PSV</td>\n",
       "      <td>2016</td>\n",
       "      <td>Adventure</td>\n",
       "      <td>0.00</td>\n",
       "      <td>0.00</td>\n",
       "      <td>0.01</td>\n",
       "      <td>0.00</td>\n",
       "      <td>NaN</td>\n",
       "      <td>NaN</td>\n",
       "      <td>RP</td>\n",
       "      <td>0.01</td>\n",
       "      <td>True</td>\n",
       "      <td>129.94</td>\n",
       "      <td>0.000077</td>\n",
       "    </tr>\n",
       "    <tr>\n",
       "      <td>2885</td>\n",
       "      <td>Winning Post 8 2016</td>\n",
       "      <td>PSV</td>\n",
       "      <td>2016</td>\n",
       "      <td>Simulation</td>\n",
       "      <td>0.00</td>\n",
       "      <td>0.00</td>\n",
       "      <td>0.01</td>\n",
       "      <td>0.00</td>\n",
       "      <td>NaN</td>\n",
       "      <td>NaN</td>\n",
       "      <td>RP</td>\n",
       "      <td>0.01</td>\n",
       "      <td>True</td>\n",
       "      <td>129.94</td>\n",
       "      <td>0.000077</td>\n",
       "    </tr>\n",
       "  </tbody>\n",
       "</table>\n",
       "<p>2886 rows × 15 columns</p>\n",
       "</div>"
      ],
      "text/plain": [
       "                          game_name platform_name  year_of_release  \\\n",
       "0                Grand Theft Auto V           PS3             2013   \n",
       "1                Grand Theft Auto V          X360             2013   \n",
       "2               Pokemon X/Pokemon Y           3DS             2013   \n",
       "3              Call of Duty: Ghosts          X360             2013   \n",
       "4              Call of Duty: Ghosts           PS3             2013   \n",
       "...                             ...           ...              ...   \n",
       "2881          The Longest 5 Minutes           PSV             2016   \n",
       "2882               Strawberry Nauts           PSV             2016   \n",
       "2883  Samurai Warriors: Sanada Maru           PS3             2016   \n",
       "2884        Haitaka no Psychedelica           PSV             2016   \n",
       "2885            Winning Post 8 2016           PSV             2016   \n",
       "\n",
       "        genre_name  na_sales_m  eu_sales_m  jp_sales_m  other_sales_m  \\\n",
       "0           Action        7.02        9.09        0.98           3.96   \n",
       "1           Action        9.66        5.14        0.06           1.41   \n",
       "2     Role-Playing        5.28        4.19        4.35           0.78   \n",
       "3          Shooter        6.73        2.56        0.04           0.91   \n",
       "4          Shooter        4.10        3.63        0.38           1.25   \n",
       "...            ...         ...         ...         ...            ...   \n",
       "2881        Action        0.00        0.00        0.01           0.00   \n",
       "2882     Adventure        0.00        0.00        0.01           0.00   \n",
       "2883        Action        0.00        0.00        0.01           0.00   \n",
       "2884     Adventure        0.00        0.00        0.01           0.00   \n",
       "2885    Simulation        0.00        0.00        0.01           0.00   \n",
       "\n",
       "      critic_score  user_score rating  total_sales_m_x  relevance  \\\n",
       "0             97.0        82.0      M            21.05       True   \n",
       "1             97.0        81.0      M            16.27       True   \n",
       "2              NaN         NaN     RP            14.60       True   \n",
       "3             73.0        26.0      M            10.24       True   \n",
       "4             71.0        26.0      M             9.36       True   \n",
       "...            ...         ...    ...              ...        ...   \n",
       "2881           NaN         NaN     RP             0.01       True   \n",
       "2882           NaN         NaN     RP             0.01       True   \n",
       "2883           NaN         NaN     RP             0.01       True   \n",
       "2884           NaN         NaN     RP             0.01       True   \n",
       "2885           NaN         NaN     RP             0.01       True   \n",
       "\n",
       "      total_sales_m_y  market_share_year  \n",
       "0              361.24           0.058272  \n",
       "1              361.24           0.045039  \n",
       "2              361.24           0.040416  \n",
       "3              361.24           0.028347  \n",
       "4              361.24           0.025911  \n",
       "...               ...                ...  \n",
       "2881           129.94           0.000077  \n",
       "2882           129.94           0.000077  \n",
       "2883           129.94           0.000077  \n",
       "2884           129.94           0.000077  \n",
       "2885           129.94           0.000077  \n",
       "\n",
       "[2886 rows x 15 columns]"
      ]
     },
     "execution_count": 19,
     "metadata": {},
     "output_type": "execute_result"
    }
   ],
   "source": [
    "sum_total_sales_m = actual_data.groupby('year_of_release').agg({'total_sales_m':'sum'}) #оборот за периоды\n",
    "actual_data = actual_data.merge(sum_total_sales_m, on='year_of_release')#склеиваем с основной таблицей\n",
    "actual_data['market_share_year'] = actual_data['total_sales_m_x'] / actual_data['total_sales_m_y']#рассчитываем долю за год каждой записи\n",
    "actual_data"
   ]
  },
  {
   "cell_type": "code",
   "execution_count": 20,
   "metadata": {},
   "outputs": [
    {
     "data": {
      "text/html": [
       "<div>\n",
       "<style scoped>\n",
       "    .dataframe tbody tr th:only-of-type {\n",
       "        vertical-align: middle;\n",
       "    }\n",
       "\n",
       "    .dataframe tbody tr th {\n",
       "        vertical-align: top;\n",
       "    }\n",
       "\n",
       "    .dataframe thead th {\n",
       "        text-align: right;\n",
       "    }\n",
       "</style>\n",
       "<table border=\"1\" class=\"dataframe\">\n",
       "  <thead>\n",
       "    <tr style=\"text-align: right;\">\n",
       "      <th></th>\n",
       "      <th>platform_name</th>\n",
       "      <th>year_of_release</th>\n",
       "      <th>market_share_year</th>\n",
       "      <th>total_sales</th>\n",
       "    </tr>\n",
       "  </thead>\n",
       "  <tbody>\n",
       "    <tr>\n",
       "      <td>0</td>\n",
       "      <td>3DS</td>\n",
       "      <td>2012</td>\n",
       "      <td>0.144335</td>\n",
       "      <td>51.36</td>\n",
       "    </tr>\n",
       "    <tr>\n",
       "      <td>1</td>\n",
       "      <td>3DS</td>\n",
       "      <td>2013</td>\n",
       "      <td>0.156599</td>\n",
       "      <td>56.57</td>\n",
       "    </tr>\n",
       "    <tr>\n",
       "      <td>2</td>\n",
       "      <td>3DS</td>\n",
       "      <td>2014</td>\n",
       "      <td>0.131994</td>\n",
       "      <td>43.76</td>\n",
       "    </tr>\n",
       "    <tr>\n",
       "      <td>3</td>\n",
       "      <td>3DS</td>\n",
       "      <td>2015</td>\n",
       "      <td>0.103664</td>\n",
       "      <td>27.78</td>\n",
       "    </tr>\n",
       "    <tr>\n",
       "      <td>4</td>\n",
       "      <td>3DS</td>\n",
       "      <td>2016</td>\n",
       "      <td>0.116515</td>\n",
       "      <td>15.14</td>\n",
       "    </tr>\n",
       "    <tr>\n",
       "      <td>7</td>\n",
       "      <td>PC</td>\n",
       "      <td>2012</td>\n",
       "      <td>0.065254</td>\n",
       "      <td>23.22</td>\n",
       "    </tr>\n",
       "    <tr>\n",
       "      <td>8</td>\n",
       "      <td>PC</td>\n",
       "      <td>2013</td>\n",
       "      <td>0.034271</td>\n",
       "      <td>12.38</td>\n",
       "    </tr>\n",
       "    <tr>\n",
       "      <td>9</td>\n",
       "      <td>PC</td>\n",
       "      <td>2014</td>\n",
       "      <td>0.040057</td>\n",
       "      <td>13.28</td>\n",
       "    </tr>\n",
       "    <tr>\n",
       "      <td>10</td>\n",
       "      <td>PC</td>\n",
       "      <td>2015</td>\n",
       "      <td>0.031793</td>\n",
       "      <td>8.52</td>\n",
       "    </tr>\n",
       "    <tr>\n",
       "      <td>11</td>\n",
       "      <td>PC</td>\n",
       "      <td>2016</td>\n",
       "      <td>0.040403</td>\n",
       "      <td>5.25</td>\n",
       "    </tr>\n",
       "    <tr>\n",
       "      <td>12</td>\n",
       "      <td>PS3</td>\n",
       "      <td>2012</td>\n",
       "      <td>0.301709</td>\n",
       "      <td>107.36</td>\n",
       "    </tr>\n",
       "    <tr>\n",
       "      <td>13</td>\n",
       "      <td>PS3</td>\n",
       "      <td>2013</td>\n",
       "      <td>0.313503</td>\n",
       "      <td>113.25</td>\n",
       "    </tr>\n",
       "    <tr>\n",
       "      <td>14</td>\n",
       "      <td>PS3</td>\n",
       "      <td>2014</td>\n",
       "      <td>0.144059</td>\n",
       "      <td>47.76</td>\n",
       "    </tr>\n",
       "    <tr>\n",
       "      <td>15</td>\n",
       "      <td>PS3</td>\n",
       "      <td>2015</td>\n",
       "      <td>0.062766</td>\n",
       "      <td>16.82</td>\n",
       "    </tr>\n",
       "    <tr>\n",
       "      <td>16</td>\n",
       "      <td>PS3</td>\n",
       "      <td>2016</td>\n",
       "      <td>0.027705</td>\n",
       "      <td>3.60</td>\n",
       "    </tr>\n",
       "    <tr>\n",
       "      <td>17</td>\n",
       "      <td>PS4</td>\n",
       "      <td>2013</td>\n",
       "      <td>0.071947</td>\n",
       "      <td>25.99</td>\n",
       "    </tr>\n",
       "    <tr>\n",
       "      <td>18</td>\n",
       "      <td>PS4</td>\n",
       "      <td>2014</td>\n",
       "      <td>0.301632</td>\n",
       "      <td>100.00</td>\n",
       "    </tr>\n",
       "    <tr>\n",
       "      <td>19</td>\n",
       "      <td>PS4</td>\n",
       "      <td>2015</td>\n",
       "      <td>0.443690</td>\n",
       "      <td>118.90</td>\n",
       "    </tr>\n",
       "    <tr>\n",
       "      <td>20</td>\n",
       "      <td>PS4</td>\n",
       "      <td>2016</td>\n",
       "      <td>0.532938</td>\n",
       "      <td>69.25</td>\n",
       "    </tr>\n",
       "    <tr>\n",
       "      <td>25</td>\n",
       "      <td>PSV</td>\n",
       "      <td>2012</td>\n",
       "      <td>0.045498</td>\n",
       "      <td>16.19</td>\n",
       "    </tr>\n",
       "    <tr>\n",
       "      <td>26</td>\n",
       "      <td>PSV</td>\n",
       "      <td>2013</td>\n",
       "      <td>0.029316</td>\n",
       "      <td>10.59</td>\n",
       "    </tr>\n",
       "    <tr>\n",
       "      <td>27</td>\n",
       "      <td>PSV</td>\n",
       "      <td>2014</td>\n",
       "      <td>0.035894</td>\n",
       "      <td>11.90</td>\n",
       "    </tr>\n",
       "    <tr>\n",
       "      <td>28</td>\n",
       "      <td>PSV</td>\n",
       "      <td>2015</td>\n",
       "      <td>0.023323</td>\n",
       "      <td>6.25</td>\n",
       "    </tr>\n",
       "    <tr>\n",
       "      <td>29</td>\n",
       "      <td>PSV</td>\n",
       "      <td>2016</td>\n",
       "      <td>0.032707</td>\n",
       "      <td>4.25</td>\n",
       "    </tr>\n",
       "    <tr>\n",
       "      <td>30</td>\n",
       "      <td>Wii</td>\n",
       "      <td>2012</td>\n",
       "      <td>0.061011</td>\n",
       "      <td>21.71</td>\n",
       "    </tr>\n",
       "    <tr>\n",
       "      <td>31</td>\n",
       "      <td>Wii</td>\n",
       "      <td>2013</td>\n",
       "      <td>0.023779</td>\n",
       "      <td>8.59</td>\n",
       "    </tr>\n",
       "    <tr>\n",
       "      <td>32</td>\n",
       "      <td>Wii</td>\n",
       "      <td>2014</td>\n",
       "      <td>0.011311</td>\n",
       "      <td>3.75</td>\n",
       "    </tr>\n",
       "    <tr>\n",
       "      <td>33</td>\n",
       "      <td>Wii</td>\n",
       "      <td>2015</td>\n",
       "      <td>0.004254</td>\n",
       "      <td>1.14</td>\n",
       "    </tr>\n",
       "    <tr>\n",
       "      <td>34</td>\n",
       "      <td>Wii</td>\n",
       "      <td>2016</td>\n",
       "      <td>0.001385</td>\n",
       "      <td>0.18</td>\n",
       "    </tr>\n",
       "    <tr>\n",
       "      <td>35</td>\n",
       "      <td>WiiU</td>\n",
       "      <td>2012</td>\n",
       "      <td>0.049348</td>\n",
       "      <td>17.56</td>\n",
       "    </tr>\n",
       "    <tr>\n",
       "      <td>36</td>\n",
       "      <td>WiiU</td>\n",
       "      <td>2013</td>\n",
       "      <td>0.059932</td>\n",
       "      <td>21.65</td>\n",
       "    </tr>\n",
       "    <tr>\n",
       "      <td>37</td>\n",
       "      <td>WiiU</td>\n",
       "      <td>2014</td>\n",
       "      <td>0.066449</td>\n",
       "      <td>22.03</td>\n",
       "    </tr>\n",
       "    <tr>\n",
       "      <td>38</td>\n",
       "      <td>WiiU</td>\n",
       "      <td>2015</td>\n",
       "      <td>0.061012</td>\n",
       "      <td>16.35</td>\n",
       "    </tr>\n",
       "    <tr>\n",
       "      <td>39</td>\n",
       "      <td>WiiU</td>\n",
       "      <td>2016</td>\n",
       "      <td>0.035401</td>\n",
       "      <td>4.60</td>\n",
       "    </tr>\n",
       "    <tr>\n",
       "      <td>40</td>\n",
       "      <td>X360</td>\n",
       "      <td>2012</td>\n",
       "      <td>0.280295</td>\n",
       "      <td>99.74</td>\n",
       "    </tr>\n",
       "    <tr>\n",
       "      <td>41</td>\n",
       "      <td>X360</td>\n",
       "      <td>2013</td>\n",
       "      <td>0.245211</td>\n",
       "      <td>88.58</td>\n",
       "    </tr>\n",
       "    <tr>\n",
       "      <td>42</td>\n",
       "      <td>X360</td>\n",
       "      <td>2014</td>\n",
       "      <td>0.104787</td>\n",
       "      <td>34.74</td>\n",
       "    </tr>\n",
       "    <tr>\n",
       "      <td>43</td>\n",
       "      <td>X360</td>\n",
       "      <td>2015</td>\n",
       "      <td>0.044630</td>\n",
       "      <td>11.96</td>\n",
       "    </tr>\n",
       "    <tr>\n",
       "      <td>44</td>\n",
       "      <td>X360</td>\n",
       "      <td>2016</td>\n",
       "      <td>0.011698</td>\n",
       "      <td>1.52</td>\n",
       "    </tr>\n",
       "    <tr>\n",
       "      <td>45</td>\n",
       "      <td>XOne</td>\n",
       "      <td>2013</td>\n",
       "      <td>0.052486</td>\n",
       "      <td>18.96</td>\n",
       "    </tr>\n",
       "    <tr>\n",
       "      <td>46</td>\n",
       "      <td>XOne</td>\n",
       "      <td>2014</td>\n",
       "      <td>0.163092</td>\n",
       "      <td>54.07</td>\n",
       "    </tr>\n",
       "    <tr>\n",
       "      <td>47</td>\n",
       "      <td>XOne</td>\n",
       "      <td>2015</td>\n",
       "      <td>0.224420</td>\n",
       "      <td>60.14</td>\n",
       "    </tr>\n",
       "    <tr>\n",
       "      <td>48</td>\n",
       "      <td>XOne</td>\n",
       "      <td>2016</td>\n",
       "      <td>0.201247</td>\n",
       "      <td>26.15</td>\n",
       "    </tr>\n",
       "  </tbody>\n",
       "</table>\n",
       "</div>"
      ],
      "text/plain": [
       "   platform_name  year_of_release  market_share_year  total_sales\n",
       "0            3DS             2012           0.144335        51.36\n",
       "1            3DS             2013           0.156599        56.57\n",
       "2            3DS             2014           0.131994        43.76\n",
       "3            3DS             2015           0.103664        27.78\n",
       "4            3DS             2016           0.116515        15.14\n",
       "7             PC             2012           0.065254        23.22\n",
       "8             PC             2013           0.034271        12.38\n",
       "9             PC             2014           0.040057        13.28\n",
       "10            PC             2015           0.031793         8.52\n",
       "11            PC             2016           0.040403         5.25\n",
       "12           PS3             2012           0.301709       107.36\n",
       "13           PS3             2013           0.313503       113.25\n",
       "14           PS3             2014           0.144059        47.76\n",
       "15           PS3             2015           0.062766        16.82\n",
       "16           PS3             2016           0.027705         3.60\n",
       "17           PS4             2013           0.071947        25.99\n",
       "18           PS4             2014           0.301632       100.00\n",
       "19           PS4             2015           0.443690       118.90\n",
       "20           PS4             2016           0.532938        69.25\n",
       "25           PSV             2012           0.045498        16.19\n",
       "26           PSV             2013           0.029316        10.59\n",
       "27           PSV             2014           0.035894        11.90\n",
       "28           PSV             2015           0.023323         6.25\n",
       "29           PSV             2016           0.032707         4.25\n",
       "30           Wii             2012           0.061011        21.71\n",
       "31           Wii             2013           0.023779         8.59\n",
       "32           Wii             2014           0.011311         3.75\n",
       "33           Wii             2015           0.004254         1.14\n",
       "34           Wii             2016           0.001385         0.18\n",
       "35          WiiU             2012           0.049348        17.56\n",
       "36          WiiU             2013           0.059932        21.65\n",
       "37          WiiU             2014           0.066449        22.03\n",
       "38          WiiU             2015           0.061012        16.35\n",
       "39          WiiU             2016           0.035401         4.60\n",
       "40          X360             2012           0.280295        99.74\n",
       "41          X360             2013           0.245211        88.58\n",
       "42          X360             2014           0.104787        34.74\n",
       "43          X360             2015           0.044630        11.96\n",
       "44          X360             2016           0.011698         1.52\n",
       "45          XOne             2013           0.052486        18.96\n",
       "46          XOne             2014           0.163092        54.07\n",
       "47          XOne             2015           0.224420        60.14\n",
       "48          XOne             2016           0.201247        26.15"
      ]
     },
     "execution_count": 20,
     "metadata": {},
     "output_type": "execute_result"
    }
   ],
   "source": [
    "top_actual_data = actual_data.groupby(\n",
    "    ['platform_name','year_of_release']).agg({'market_share_year':'sum','total_sales_m_x' :'sum'}).rename(\n",
    "    columns={'total_sales_m_x':'total_sales'}).reset_index()\n",
    "top_actual_data = top_actual_data[(top_actual_data['platform_name']!='DS')&((top_actual_data['platform_name']!='PSP'))]\n",
    "top_actual_data"
   ]
  },
  {
   "cell_type": "code",
   "execution_count": 21,
   "metadata": {
    "scrolled": false
   },
   "outputs": [
    {
     "data": {
      "image/png": "[encoded data removed]",
      "text/plain": [
       "<Figure size 432x288 with 1 Axes>"
      ]
     },
     "metadata": {
      "needs_background": "light"
     },
     "output_type": "display_data"
    },
    {
     "data": {
      "image/png": "[encoded data removed]",
      "text/plain": [
       "<Figure size 432x288 with 1 Axes>"
      ]
     },
     "metadata": {
      "needs_background": "light"
     },
     "output_type": "display_data"
    },
    {
     "data": {
      "image/png": "[encoded data removed]",
      "text/plain": [
       "<Figure size 432x288 with 1 Axes>"
      ]
     },
     "metadata": {
      "needs_background": "light"
     },
     "output_type": "display_data"
    },
    {
     "data": {
      "image/png": "[encoded data removed]",
      "text/plain": [
       "<Figure size 432x288 with 1 Axes>"
      ]
     },
     "metadata": {
      "needs_background": "light"
     },
     "output_type": "display_data"
    },
    {
     "data": {
      "image/png": "[encoded data removed]",
      "text/plain": [
       "<Figure size 432x288 with 1 Axes>"
      ]
     },
     "metadata": {
      "needs_background": "light"
     },
     "output_type": "display_data"
    },
    {
     "data": {
      "image/png": "[encoded data removed]",
      "text/plain": [
       "<Figure size 432x288 with 1 Axes>"
      ]
     },
     "metadata": {
      "needs_background": "light"
     },
     "output_type": "display_data"
    },
    {
     "data": {
      "image/png": "[encoded data removed]",
      "text/plain": [
       "<Figure size 432x288 with 1 Axes>"
      ]
     },
     "metadata": {
      "needs_background": "light"
     },
     "output_type": "display_data"
    },
    {
     "data": {
      "image/png": "[encoded data removed]",
      "text/plain": [
       "<Figure size 432x288 with 1 Axes>"
      ]
     },
     "metadata": {
      "needs_background": "light"
     },
     "output_type": "display_data"
    },
    {
     "data": {
      "image/png": "[encoded data removed]",
      "text/plain": [
       "<Figure size 432x288 with 1 Axes>"
      ]
     },
     "metadata": {
      "needs_background": "light"
     },
     "output_type": "display_data"
    },
    {
     "name": "stdout",
     "output_type": "stream",
     "text": [
      "Потенциально прибыльные платформы: ['PS4', 'XOne']\n"
     ]
    }
   ],
   "source": [
    "promising_platforms = []\n",
    "for i in top_actual_data['platform_name'].unique():\n",
    "    max_year_sales = top_actual_data[(top_actual_data['platform_name'] == i)&(top_actual_data['year_of_release'] == forecast_year-1)]['market_share_year'].sum()\n",
    "    max_penultimate_sales = top_actual_data[(top_actual_data['platform_name'] == i)&(top_actual_data['year_of_release'] < forecast_year-1)]['market_share_year'].mean()\n",
    "    top_actual_data[top_actual_data['platform_name'] == i].pivot_table(\n",
    "        index = 'year_of_release',values='market_share_year').plot(title = i)\n",
    "    plt.show()\n",
    "    if max_year_sales.sum() >= max_penultimate_sales:\n",
    "        promising_platforms.append(i)\n",
    "print('Потенциально прибыльные платформы:',promising_platforms)"
   ]
  },
  {
   "cell_type": "markdown",
   "metadata": {},
   "source": [
    "### Построить график «ящик с усами» по глобальным продажам игр в разбивке по платформам"
   ]
  },
  {
   "cell_type": "code",
   "execution_count": 22,
   "metadata": {
    "scrolled": false
   },
   "outputs": [
    {
     "data": {
      "text/plain": [
       "Text(0, 0.5, 'Глобальные продажи')"
      ]
     },
     "execution_count": 22,
     "metadata": {},
     "output_type": "execute_result"
    },
    {
     "data": {
      "image/png": "[encoded data removed]",
      "text/plain": [
       "<Figure size 1080x720 with 1 Axes>"
      ]
     },
     "metadata": {
      "needs_background": "light"
     },
     "output_type": "display_data"
    }
   ],
   "source": [
    "plt.figure(figsize=(15,10))\n",
    "plt.ylim(0,3)\n",
    "sns.boxplot(data=actual_data, x='platform_name', y='total_sales_m_x')\n",
    "plt.xlabel('Платформы')\n",
    "plt.ylabel('Глобальные продажи')"
   ]
  },
  {
   "cell_type": "markdown",
   "metadata": {},
   "source": [
    "Выбросов не много, это экслюзивы на платформах или хиты. У популярных платформ медиана практически на одном уровне, это говорит о том,что обычно платформы ведущие произовдители выпускают в одно время, игры выпускают на всех популярных платформах, а поклонников примерно одинаково."
   ]
  },
  {
   "cell_type": "markdown",
   "metadata": {},
   "source": [
    "### Как влияют на продажи внутри одной популярной платформы отзывы пользователей и критиков. Построить диаграмму рассеяния и посчитать корреляцию между отзывами и продажами."
   ]
  },
  {
   "cell_type": "code",
   "execution_count": 23,
   "metadata": {},
   "outputs": [
    {
     "data": {
      "text/plain": [
       "critic_score       0.406568\n",
       "user_score         0.023279\n",
       "total_sales_m_x    1.000000\n",
       "dtype: float64"
      ]
     },
     "execution_count": 23,
     "metadata": {},
     "output_type": "execute_result"
    }
   ],
   "source": [
    "platform_PS4 = actual_data[actual_data['platform_name']=='PS4'][['critic_score','user_score','total_sales_m_x']]\n",
    "platform_PS4.corrwith(platform_PS4['total_sales_m_x'])"
   ]
  },
  {
   "cell_type": "code",
   "execution_count": 24,
   "metadata": {},
   "outputs": [
    {
     "data": {
      "image/png": "[encoded data removed]",
      "text/plain": [
       "<Figure size 1080x360 with 2 Axes>"
      ]
     },
     "metadata": {
      "needs_background": "light"
     },
     "output_type": "display_data"
    }
   ],
   "source": [
    "fig, ax = plt.subplots(1 ,2, figsize=(15,5))\n",
    "sns.scatterplot(x='user_score', y='total_sales_m_x', data=platform_PS4, ax=ax[0])\n",
    "sns.scatterplot(x='critic_score', y='total_sales_m_x', data=platform_PS4, ax=ax[1])\n",
    "fig.suptitle('PS4', fontsize=15)\n",
    "ax[0].set(xlabel='Оценка пользователей')\n",
    "ax[1].set(xlabel='Оценка критиков')\n",
    "ax[0].set(ylabel='Количество продаж')\n",
    "ax[1].set(ylabel='Количество продаж')\n",
    "plt.show()"
   ]
  },
  {
   "cell_type": "markdown",
   "metadata": {},
   "source": [
    "В целом оценка пользователей практически никак не влияет на продажи, больше верят критикам. Но даже мнение критиков не сильно влияют на продажи. Мнение пользователей более субъективно."
   ]
  },
  {
   "cell_type": "markdown",
   "metadata": {},
   "source": [
    "### Соотнести выводы с продажами игр на других платформах."
   ]
  },
  {
   "cell_type": "code",
   "execution_count": 25,
   "metadata": {},
   "outputs": [
    {
     "name": "stdout",
     "output_type": "stream",
     "text": [
      "critic_score       0.284773\n",
      "user_score         0.104126\n",
      "total_sales_m_x    1.000000\n",
      "dtype: float64\n"
     ]
    },
    {
     "data": {
      "image/png": "[encoded data removed]",
      "text/plain": [
       "<Figure size 1080x360 with 2 Axes>"
      ]
     },
     "metadata": {
      "needs_background": "light"
     },
     "output_type": "display_data"
    }
   ],
   "source": [
    "platform_not_PS4 = actual_data[actual_data['platform_name']!='PS4'][['critic_score','user_score','total_sales_m_x']]\n",
    "print(platform_not_PS4.corrwith(platform_not_PS4['total_sales_m_x']))\n",
    "fig, ax = plt.subplots(1 ,2, figsize=(15,5))\n",
    "sns.scatterplot(x='user_score', y='total_sales_m_x', data=platform_not_PS4, ax=ax[0])\n",
    "sns.scatterplot(x='critic_score', y='total_sales_m_x', data=platform_not_PS4, ax=ax[1])\n",
    "fig.suptitle('Остальные платформы, в совокупности', fontsize=15)\n",
    "ax[0].set(xlabel='Оценка пользователей')\n",
    "ax[1].set(xlabel='Оценка критиков')\n",
    "ax[0].set(ylabel='Количество продаж')\n",
    "ax[1].set(ylabel='Количество продаж')\n",
    "plt.show()"
   ]
  },
  {
   "cell_type": "markdown",
   "metadata": {},
   "source": [
    "Можно сказать, что количество выборок выросло, данные усреднились. Все еще критики больше влияют на продажи, чем оценки пользователей."
   ]
  },
  {
   "cell_type": "markdown",
   "metadata": {},
   "source": [
    "### Посмотреть на общее распределение игр по жанрам. Что можно сказать о самых прибыльных жанрах? Выделяются ли жанры с высокими и низкими продажами?"
   ]
  },
  {
   "cell_type": "code",
   "execution_count": 26,
   "metadata": {},
   "outputs": [
    {
     "data": {
      "text/html": [
       "<div>\n",
       "<style scoped>\n",
       "    .dataframe tbody tr th:only-of-type {\n",
       "        vertical-align: middle;\n",
       "    }\n",
       "\n",
       "    .dataframe tbody tr th {\n",
       "        vertical-align: top;\n",
       "    }\n",
       "\n",
       "    .dataframe thead th {\n",
       "        text-align: right;\n",
       "    }\n",
       "</style>\n",
       "<table border=\"1\" class=\"dataframe\">\n",
       "  <thead>\n",
       "    <tr style=\"text-align: right;\">\n",
       "      <th></th>\n",
       "      <th>genre_name</th>\n",
       "      <th>count_game</th>\n",
       "      <th>total_sales</th>\n",
       "    </tr>\n",
       "  </thead>\n",
       "  <tbody>\n",
       "    <tr>\n",
       "      <td>0</td>\n",
       "      <td>Action</td>\n",
       "      <td>1031</td>\n",
       "      <td>441.12</td>\n",
       "    </tr>\n",
       "    <tr>\n",
       "      <td>7</td>\n",
       "      <td>Role-Playing</td>\n",
       "      <td>370</td>\n",
       "      <td>192.80</td>\n",
       "    </tr>\n",
       "    <tr>\n",
       "      <td>1</td>\n",
       "      <td>Adventure</td>\n",
       "      <td>302</td>\n",
       "      <td>29.43</td>\n",
       "    </tr>\n",
       "    <tr>\n",
       "      <td>10</td>\n",
       "      <td>Sports</td>\n",
       "      <td>268</td>\n",
       "      <td>181.07</td>\n",
       "    </tr>\n",
       "    <tr>\n",
       "      <td>8</td>\n",
       "      <td>Shooter</td>\n",
       "      <td>235</td>\n",
       "      <td>304.73</td>\n",
       "    </tr>\n",
       "    <tr>\n",
       "      <td>3</td>\n",
       "      <td>Misc</td>\n",
       "      <td>192</td>\n",
       "      <td>85.04</td>\n",
       "    </tr>\n",
       "    <tr>\n",
       "      <td>6</td>\n",
       "      <td>Racing</td>\n",
       "      <td>115</td>\n",
       "      <td>53.50</td>\n",
       "    </tr>\n",
       "    <tr>\n",
       "      <td>2</td>\n",
       "      <td>Fighting</td>\n",
       "      <td>109</td>\n",
       "      <td>44.49</td>\n",
       "    </tr>\n",
       "    <tr>\n",
       "      <td>4</td>\n",
       "      <td>Platform</td>\n",
       "      <td>85</td>\n",
       "      <td>61.00</td>\n",
       "    </tr>\n",
       "    <tr>\n",
       "      <td>9</td>\n",
       "      <td>Simulation</td>\n",
       "      <td>80</td>\n",
       "      <td>35.12</td>\n",
       "    </tr>\n",
       "    <tr>\n",
       "      <td>11</td>\n",
       "      <td>Strategy</td>\n",
       "      <td>71</td>\n",
       "      <td>13.34</td>\n",
       "    </tr>\n",
       "    <tr>\n",
       "      <td>5</td>\n",
       "      <td>Puzzle</td>\n",
       "      <td>28</td>\n",
       "      <td>4.89</td>\n",
       "    </tr>\n",
       "  </tbody>\n",
       "</table>\n",
       "</div>"
      ],
      "text/plain": [
       "      genre_name  count_game  total_sales\n",
       "0         Action        1031       441.12\n",
       "7   Role-Playing         370       192.80\n",
       "1      Adventure         302        29.43\n",
       "10        Sports         268       181.07\n",
       "8        Shooter         235       304.73\n",
       "3           Misc         192        85.04\n",
       "6         Racing         115        53.50\n",
       "2       Fighting         109        44.49\n",
       "4       Platform          85        61.00\n",
       "9     Simulation          80        35.12\n",
       "11      Strategy          71        13.34\n",
       "5         Puzzle          28         4.89"
      ]
     },
     "execution_count": 26,
     "metadata": {},
     "output_type": "execute_result"
    }
   ],
   "source": [
    "genre_top = actual_data.groupby(\n",
    "    ['genre_name']).agg({'game_name':'count','total_sales_m_x' :'sum'}).rename(\n",
    "    columns={'game_name':'count_game','total_sales_m_x':'total_sales'}).reset_index()\n",
    "genre_top.sort_values(by='count_game', ascending = False)"
   ]
  },
  {
   "cell_type": "code",
   "execution_count": 27,
   "metadata": {},
   "outputs": [
    {
     "data": {
      "text/html": [
       "<div>\n",
       "<style scoped>\n",
       "    .dataframe tbody tr th:only-of-type {\n",
       "        vertical-align: middle;\n",
       "    }\n",
       "\n",
       "    .dataframe tbody tr th {\n",
       "        vertical-align: top;\n",
       "    }\n",
       "\n",
       "    .dataframe thead th {\n",
       "        text-align: right;\n",
       "    }\n",
       "</style>\n",
       "<table border=\"1\" class=\"dataframe\">\n",
       "  <thead>\n",
       "    <tr style=\"text-align: right;\">\n",
       "      <th></th>\n",
       "      <th>genre_name</th>\n",
       "      <th>count_game</th>\n",
       "      <th>total_sales</th>\n",
       "    </tr>\n",
       "  </thead>\n",
       "  <tbody>\n",
       "    <tr>\n",
       "      <td>0</td>\n",
       "      <td>Action</td>\n",
       "      <td>1031</td>\n",
       "      <td>441.12</td>\n",
       "    </tr>\n",
       "    <tr>\n",
       "      <td>8</td>\n",
       "      <td>Shooter</td>\n",
       "      <td>235</td>\n",
       "      <td>304.73</td>\n",
       "    </tr>\n",
       "    <tr>\n",
       "      <td>7</td>\n",
       "      <td>Role-Playing</td>\n",
       "      <td>370</td>\n",
       "      <td>192.80</td>\n",
       "    </tr>\n",
       "    <tr>\n",
       "      <td>10</td>\n",
       "      <td>Sports</td>\n",
       "      <td>268</td>\n",
       "      <td>181.07</td>\n",
       "    </tr>\n",
       "    <tr>\n",
       "      <td>3</td>\n",
       "      <td>Misc</td>\n",
       "      <td>192</td>\n",
       "      <td>85.04</td>\n",
       "    </tr>\n",
       "    <tr>\n",
       "      <td>4</td>\n",
       "      <td>Platform</td>\n",
       "      <td>85</td>\n",
       "      <td>61.00</td>\n",
       "    </tr>\n",
       "    <tr>\n",
       "      <td>6</td>\n",
       "      <td>Racing</td>\n",
       "      <td>115</td>\n",
       "      <td>53.50</td>\n",
       "    </tr>\n",
       "    <tr>\n",
       "      <td>2</td>\n",
       "      <td>Fighting</td>\n",
       "      <td>109</td>\n",
       "      <td>44.49</td>\n",
       "    </tr>\n",
       "    <tr>\n",
       "      <td>9</td>\n",
       "      <td>Simulation</td>\n",
       "      <td>80</td>\n",
       "      <td>35.12</td>\n",
       "    </tr>\n",
       "    <tr>\n",
       "      <td>1</td>\n",
       "      <td>Adventure</td>\n",
       "      <td>302</td>\n",
       "      <td>29.43</td>\n",
       "    </tr>\n",
       "    <tr>\n",
       "      <td>11</td>\n",
       "      <td>Strategy</td>\n",
       "      <td>71</td>\n",
       "      <td>13.34</td>\n",
       "    </tr>\n",
       "    <tr>\n",
       "      <td>5</td>\n",
       "      <td>Puzzle</td>\n",
       "      <td>28</td>\n",
       "      <td>4.89</td>\n",
       "    </tr>\n",
       "  </tbody>\n",
       "</table>\n",
       "</div>"
      ],
      "text/plain": [
       "      genre_name  count_game  total_sales\n",
       "0         Action        1031       441.12\n",
       "8        Shooter         235       304.73\n",
       "7   Role-Playing         370       192.80\n",
       "10        Sports         268       181.07\n",
       "3           Misc         192        85.04\n",
       "4       Platform          85        61.00\n",
       "6         Racing         115        53.50\n",
       "2       Fighting         109        44.49\n",
       "9     Simulation          80        35.12\n",
       "1      Adventure         302        29.43\n",
       "11      Strategy          71        13.34\n",
       "5         Puzzle          28         4.89"
      ]
     },
     "execution_count": 27,
     "metadata": {},
     "output_type": "execute_result"
    }
   ],
   "source": [
    "genre_top.sort_values(by='total_sales', ascending = False)"
   ]
  },
  {
   "cell_type": "code",
   "execution_count": 28,
   "metadata": {},
   "outputs": [
    {
     "data": {
      "text/plain": [
       "count_game     0.853865\n",
       "total_sales    1.000000\n",
       "dtype: float64"
      ]
     },
     "execution_count": 28,
     "metadata": {},
     "output_type": "execute_result"
    }
   ],
   "source": [
    "genre_top.corrwith(genre_top['total_sales'])"
   ]
  },
  {
   "cell_type": "markdown",
   "metadata": {},
   "source": [
    "Не удивительно,что сильная зависимость от кол-ва проданных копий. Игр в жанре Action больше всего и их покупают. Игр в жанре Adventure много, но они не так прибыльны. Role-Playing в соотношении кол-ва и заработанных денег занимает первое место."
   ]
  },
  {
   "cell_type": "code",
   "execution_count": 29,
   "metadata": {},
   "outputs": [
    {
     "data": {
      "text/html": [
       "<div>\n",
       "<style scoped>\n",
       "    .dataframe tbody tr th:only-of-type {\n",
       "        vertical-align: middle;\n",
       "    }\n",
       "\n",
       "    .dataframe tbody tr th {\n",
       "        vertical-align: top;\n",
       "    }\n",
       "\n",
       "    .dataframe thead th {\n",
       "        text-align: right;\n",
       "    }\n",
       "</style>\n",
       "<table border=\"1\" class=\"dataframe\">\n",
       "  <thead>\n",
       "    <tr style=\"text-align: right;\">\n",
       "      <th></th>\n",
       "      <th>genre_name</th>\n",
       "      <th>count_game</th>\n",
       "      <th>total_sales_median</th>\n",
       "    </tr>\n",
       "  </thead>\n",
       "  <tbody>\n",
       "    <tr>\n",
       "      <td>8</td>\n",
       "      <td>Shooter</td>\n",
       "      <td>235</td>\n",
       "      <td>0.440</td>\n",
       "    </tr>\n",
       "    <tr>\n",
       "      <td>10</td>\n",
       "      <td>Sports</td>\n",
       "      <td>268</td>\n",
       "      <td>0.240</td>\n",
       "    </tr>\n",
       "    <tr>\n",
       "      <td>4</td>\n",
       "      <td>Platform</td>\n",
       "      <td>85</td>\n",
       "      <td>0.210</td>\n",
       "    </tr>\n",
       "    <tr>\n",
       "      <td>7</td>\n",
       "      <td>Role-Playing</td>\n",
       "      <td>370</td>\n",
       "      <td>0.140</td>\n",
       "    </tr>\n",
       "    <tr>\n",
       "      <td>6</td>\n",
       "      <td>Racing</td>\n",
       "      <td>115</td>\n",
       "      <td>0.140</td>\n",
       "    </tr>\n",
       "    <tr>\n",
       "      <td>2</td>\n",
       "      <td>Fighting</td>\n",
       "      <td>109</td>\n",
       "      <td>0.130</td>\n",
       "    </tr>\n",
       "    <tr>\n",
       "      <td>0</td>\n",
       "      <td>Action</td>\n",
       "      <td>1031</td>\n",
       "      <td>0.120</td>\n",
       "    </tr>\n",
       "    <tr>\n",
       "      <td>3</td>\n",
       "      <td>Misc</td>\n",
       "      <td>192</td>\n",
       "      <td>0.120</td>\n",
       "    </tr>\n",
       "    <tr>\n",
       "      <td>9</td>\n",
       "      <td>Simulation</td>\n",
       "      <td>80</td>\n",
       "      <td>0.120</td>\n",
       "    </tr>\n",
       "    <tr>\n",
       "      <td>11</td>\n",
       "      <td>Strategy</td>\n",
       "      <td>71</td>\n",
       "      <td>0.080</td>\n",
       "    </tr>\n",
       "    <tr>\n",
       "      <td>5</td>\n",
       "      <td>Puzzle</td>\n",
       "      <td>28</td>\n",
       "      <td>0.045</td>\n",
       "    </tr>\n",
       "    <tr>\n",
       "      <td>1</td>\n",
       "      <td>Adventure</td>\n",
       "      <td>302</td>\n",
       "      <td>0.030</td>\n",
       "    </tr>\n",
       "  </tbody>\n",
       "</table>\n",
       "</div>"
      ],
      "text/plain": [
       "      genre_name  count_game  total_sales_median\n",
       "8        Shooter         235               0.440\n",
       "10        Sports         268               0.240\n",
       "4       Platform          85               0.210\n",
       "7   Role-Playing         370               0.140\n",
       "6         Racing         115               0.140\n",
       "2       Fighting         109               0.130\n",
       "0         Action        1031               0.120\n",
       "3           Misc         192               0.120\n",
       "9     Simulation          80               0.120\n",
       "11      Strategy          71               0.080\n",
       "5         Puzzle          28               0.045\n",
       "1      Adventure         302               0.030"
      ]
     },
     "execution_count": 29,
     "metadata": {},
     "output_type": "execute_result"
    }
   ],
   "source": [
    "genre_top_median = actual_data.groupby(\n",
    "    ['genre_name']).agg({'game_name':'count','total_sales_m_x':'median'}).rename(\n",
    "    columns={'game_name':'count_game','total_sales_m_x':'total_sales_median'}).reset_index()\n",
    "genre_top_median.sort_values(by='total_sales_median', ascending = False)"
   ]
  },
  {
   "cell_type": "markdown",
   "metadata": {},
   "source": [
    "## Составить портрет пользователя каждого региона. Определить для пользователя каждого региона (NA, EU, JP):"
   ]
  },
  {
   "cell_type": "markdown",
   "metadata": {},
   "source": [
    "###  Самые популярные платформы (топ-5)."
   ]
  },
  {
   "cell_type": "code",
   "execution_count": 30,
   "metadata": {},
   "outputs": [
    {
     "data": {
      "image/png": "[encoded data removed]",
      "text/plain": [
       "<Figure size 1440x360 with 3 Axes>"
      ]
     },
     "metadata": {
      "needs_background": "light"
     },
     "output_type": "display_data"
    }
   ],
   "source": [
    "def view_hist(df, col, title):\n",
    "    fig, axes = plt.subplots(1,3, figsize=(20,5))\n",
    "    rows = ['na_sales_m','eu_sales_m','jp_sales_m']\n",
    "    i_ax = 0\n",
    "    for r in rows:\n",
    "        dt = df.groupby([col]).agg({r:'sum'}).sort_values(by = r,ascending = False).head().reset_index()\n",
    "        sns.barplot(data = dt, x = col, y = r, ax = axes[i_ax])\n",
    "        i_ax+=1\n",
    "    axes[0].set_xlabel(title + ' в NA')\n",
    "    axes[1].set_xlabel(title + ' в EU')\n",
    "    axes[2].set_xlabel(title + ' в JP')    \n",
    "    plt.show()\n",
    "    \n",
    "view_hist(actual_data, 'platform_name', 'Самые популярные платформы')\n"
   ]
  },
  {
   "cell_type": "markdown",
   "metadata": {},
   "source": [
    "В америке - Microsoft, в Европе - Sony, в Японии сильно доминирует Nintendo. "
   ]
  },
  {
   "cell_type": "markdown",
   "metadata": {},
   "source": [
    "### Самые популярные жанры (топ-5)."
   ]
  },
  {
   "cell_type": "code",
   "execution_count": 31,
   "metadata": {},
   "outputs": [
    {
     "data": {
      "image/png": "[encoded data removed]",
      "text/plain": [
       "<Figure size 1440x360 with 3 Axes>"
      ]
     },
     "metadata": {
      "needs_background": "light"
     },
     "output_type": "display_data"
    }
   ],
   "source": [
    "view_hist(actual_data, 'genre_name', 'Самые популярные жанры')"
   ]
  },
  {
   "cell_type": "markdown",
   "metadata": {},
   "source": [
    "Вкусы в регионах NA и UA - практически идентичны. В Японии же самый поплуярный жанр - Role-Playing, дальше Action. Action во всех регионах является рентабельным жанром."
   ]
  },
  {
   "cell_type": "markdown",
   "metadata": {},
   "source": [
    "### Влияет ли рейтинг ESRB на продажи в отдельном регионе?"
   ]
  },
  {
   "cell_type": "code",
   "execution_count": 32,
   "metadata": {},
   "outputs": [
    {
     "data": {
      "image/png": "[encoded data removed]",
      "text/plain": [
       "<Figure size 1440x360 with 3 Axes>"
      ]
     },
     "metadata": {
      "needs_background": "light"
     },
     "output_type": "display_data"
    }
   ],
   "source": [
    "view_hist(actual_data, 'rating', 'Самые популярные жанры')"
   ]
  },
  {
   "cell_type": "markdown",
   "metadata": {},
   "source": [
    "Опять же, регионы NA и EU очень похожи. График Японии возможно пострадал, из за пропущенных значений, которые мы перевели в RP, много игр произведеных Японскими разработчиками не выходят на другие рынки."
   ]
  },
  {
   "cell_type": "markdown",
   "metadata": {},
   "source": [
    "## Проверить гипотезы\n",
    "### Средние пользовательские рейтинги платформ Xbox One и PC одинаковые"
   ]
  },
  {
   "cell_type": "code",
   "execution_count": 33,
   "metadata": {},
   "outputs": [],
   "source": [
    "def h0_test(df_1,df_2,hyp, alpha): #функция для проверки гипотезы\n",
    "    result = st.ttest_ind(df_1,df_2)\n",
    "    print('Нулевая гипотеза:',hyp)\n",
    "    print('p-значение:', result.pvalue)\n",
    "    if result.pvalue < alpha:\n",
    "        return 'Отвергаем нулевую гипотезу'\n",
    "    else:\n",
    "        return 'Не получилось отвергнуть нулевую гипотезу'"
   ]
  },
  {
   "cell_type": "markdown",
   "metadata": {},
   "source": [
    "Нулевая гипотеза: Средние пользовательские рейтинги платформ Xbox One и PC одинаковые\n",
    "\n",
    "Альтернативная гипотеза: Средние пользовательские рейтинги платформ Xbox One и PC различаются"
   ]
  },
  {
   "cell_type": "code",
   "execution_count": 34,
   "metadata": {},
   "outputs": [
    {
     "name": "stdout",
     "output_type": "stream",
     "text": [
      "Нулевая гипотеза: Средние пользовательские рейтинги платформ Xbox One и PC одинаковые\n",
      "p-значение: 0.5187355060176121\n"
     ]
    },
    {
     "data": {
      "text/plain": [
       "'Не получилось отвергнуть нулевую гипотезу'"
      ]
     },
     "execution_count": 34,
     "metadata": {},
     "output_type": "execute_result"
    }
   ],
   "source": [
    "hyp = 'Средние пользовательские рейтинги платформ Xbox One и PC одинаковые'\n",
    "alpha = 0.05\n",
    "df_1 = actual_data[actual_data['platform_name'] == 'XOne']['user_score'].dropna()\n",
    "df_2 = actual_data[actual_data['platform_name'] == 'PC']['user_score'].dropna()\n",
    "h0_test(df_1,df_2,hyp,alpha)"
   ]
  },
  {
   "cell_type": "markdown",
   "metadata": {},
   "source": [
    "### Средние пользовательские рейтинги жанров Action (англ. «действие», экшен-игры) и Sports (англ. «спортивные соревнования») разные"
   ]
  },
  {
   "cell_type": "markdown",
   "metadata": {},
   "source": [
    "Нулевая гипотеза: Средние пользовательские рейтинги жанров Action и Sports одинаковые\n",
    "\n",
    "Альтернативная гипотеза: Средние пользовательские рейтинги жанров Action и Sports различаются"
   ]
  },
  {
   "cell_type": "code",
   "execution_count": 35,
   "metadata": {},
   "outputs": [
    {
     "name": "stdout",
     "output_type": "stream",
     "text": [
      "Нулевая гипотеза: Средние пользовательские рейтинги жанров Action и Sports одинаковые\n",
      "p-значение: 7.819142547903223e-12\n"
     ]
    },
    {
     "data": {
      "text/plain": [
       "'Отвергаем нулевую гипотезу'"
      ]
     },
     "execution_count": 35,
     "metadata": {},
     "output_type": "execute_result"
    }
   ],
   "source": [
    "hyp = 'Средние пользовательские рейтинги жанров Action и Sports одинаковые'\n",
    "df_1 = actual_data[actual_data['genre_name'] == 'Action']['user_score'].dropna()\n",
    "df_2 = actual_data[actual_data['genre_name'] == 'Sports']['user_score'].dropna()\n",
    "h0_test(df_1,df_2,hyp,alpha)"
   ]
  },
  {
   "cell_type": "markdown",
   "metadata": {},
   "source": [
    "Выводы по гипотезам:\n",
    "Не удивительно,что не получилось отвергнуть первую гипотезу, одна и та же игра выпускается на разных платформах, геймплей редко как то различается. Оптимизация влияет на игру на определенной платформе, но не так сильно.\n",
    "Вторая гипотеза отвергнута, Action - самый популярный жанр, играют все, от мала до велика. Жанр Sprot специфический, отзывы имеют субъективный характер "
   ]
  },
  {
   "cell_type": "markdown",
   "metadata": {},
   "source": [
    "## Общий вывод"
   ]
  },
  {
   "cell_type": "markdown",
   "metadata": {},
   "source": [
    "Рынок, именно продаж, компьютерных игр в упадке. Разработчики находят другие способы монетизации: платные аккаунты, подписки и др. Стоит рассмотреть продажу доп.контента.\n",
    "\n",
    "Японский сегмент, очень различается от двух других. Как по платформам, так и по жанрам. Восточная культура."
   ]
  }
 ],
 "metadata": {
  "ExecuteTimeLog": [
   {
    "duration": 296,
    "start_time": "2021-10-11T09:09:23.581Z"
   },
   {
    "duration": 850,
    "start_time": "2021-10-11T09:09:27.913Z"
   },
   {
    "duration": 11499,
    "start_time": "2021-10-11T09:09:17.267Z"
   },
   {
    "duration": 437,
    "start_time": "2021-10-11T09:09:38.877Z"
   },
   {
    "duration": 48,
    "start_time": "2021-10-11T09:09:39.316Z"
   },
   {
    "duration": 276,
    "start_time": "2021-10-11T09:11:44.273Z"
   },
   {
    "duration": 139,
    "start_time": "2021-10-11T09:11:51.407Z"
   },
   {
    "duration": 14,
    "start_time": "2021-10-11T09:15:18.677Z"
   },
   {
    "duration": 29,
    "start_time": "2021-10-11T09:15:37.561Z"
   },
   {
    "duration": 15,
    "start_time": "2021-10-11T09:25:24.152Z"
   },
   {
    "duration": 13,
    "start_time": "2021-10-11T09:27:28.225Z"
   },
   {
    "duration": 7,
    "start_time": "2021-10-11T09:32:48.549Z"
   },
   {
    "duration": 6,
    "start_time": "2021-10-11T09:33:11.557Z"
   },
   {
    "duration": 6,
    "start_time": "2021-10-11T09:33:25.025Z"
   },
   {
    "duration": 15,
    "start_time": "2021-10-11T09:33:50.269Z"
   },
   {
    "duration": 5,
    "start_time": "2021-10-11T09:34:37.486Z"
   },
   {
    "duration": 6,
    "start_time": "2021-10-11T09:34:44.453Z"
   },
   {
    "duration": 6,
    "start_time": "2021-10-11T09:38:04.941Z"
   },
   {
    "duration": 6,
    "start_time": "2021-10-11T09:38:13.382Z"
   },
   {
    "duration": 6,
    "start_time": "2021-10-11T09:43:34.084Z"
   },
   {
    "duration": 14,
    "start_time": "2021-10-11T09:50:19.016Z"
   },
   {
    "duration": 7,
    "start_time": "2021-10-11T09:51:00.393Z"
   },
   {
    "duration": 5,
    "start_time": "2021-10-11T09:51:41.753Z"
   },
   {
    "duration": 6,
    "start_time": "2021-10-11T09:51:46.817Z"
   },
   {
    "duration": 5,
    "start_time": "2021-10-11T09:52:16.176Z"
   },
   {
    "duration": 5,
    "start_time": "2021-10-11T09:52:22.749Z"
   },
   {
    "duration": 243,
    "start_time": "2021-10-11T09:59:30.750Z"
   },
   {
    "duration": 2,
    "start_time": "2021-10-11T09:59:33.098Z"
   },
   {
    "duration": 47,
    "start_time": "2021-10-11T09:59:33.102Z"
   },
   {
    "duration": 10,
    "start_time": "2021-10-11T09:59:33.151Z"
   },
   {
    "duration": 25,
    "start_time": "2021-10-11T09:59:33.163Z"
   },
   {
    "duration": 11,
    "start_time": "2021-10-11T09:59:33.190Z"
   },
   {
    "duration": 13,
    "start_time": "2021-10-11T09:59:33.202Z"
   },
   {
    "duration": 476,
    "start_time": "2021-10-11T09:59:33.217Z"
   },
   {
    "duration": 390,
    "start_time": "2021-10-11T10:00:03.979Z"
   },
   {
    "duration": 255,
    "start_time": "2021-10-11T10:02:24.180Z"
   },
   {
    "duration": 7,
    "start_time": "2021-10-11T10:03:22.645Z"
   },
   {
    "duration": 9,
    "start_time": "2021-10-11T10:07:58.484Z"
   },
   {
    "duration": 236,
    "start_time": "2021-10-11T10:15:05.869Z"
   },
   {
    "duration": 12,
    "start_time": "2021-10-11T10:15:38.437Z"
   },
   {
    "duration": 14,
    "start_time": "2021-10-11T10:17:29.879Z"
   },
   {
    "duration": 13,
    "start_time": "2021-10-11T10:19:02.375Z"
   },
   {
    "duration": 13,
    "start_time": "2021-10-11T10:21:13.853Z"
   },
   {
    "duration": 15,
    "start_time": "2021-10-11T10:22:34.258Z"
   },
   {
    "duration": 21,
    "start_time": "2021-10-11T10:23:41.750Z"
   },
   {
    "duration": 18,
    "start_time": "2021-10-11T10:23:52.883Z"
   },
   {
    "duration": 14,
    "start_time": "2021-10-11T10:24:04.067Z"
   },
   {
    "duration": 18,
    "start_time": "2021-10-11T10:24:10.199Z"
   },
   {
    "duration": 3,
    "start_time": "2021-10-11T10:24:19.632Z"
   },
   {
    "duration": 44,
    "start_time": "2021-10-11T10:24:19.637Z"
   },
   {
    "duration": 11,
    "start_time": "2021-10-11T10:24:19.683Z"
   },
   {
    "duration": 30,
    "start_time": "2021-10-11T10:24:19.696Z"
   },
   {
    "duration": 22,
    "start_time": "2021-10-11T10:24:19.727Z"
   },
   {
    "duration": 17,
    "start_time": "2021-10-11T10:24:19.751Z"
   },
   {
    "duration": 6,
    "start_time": "2021-10-11T10:24:19.770Z"
   },
   {
    "duration": 9,
    "start_time": "2021-10-11T10:24:19.778Z"
   },
   {
    "duration": 19,
    "start_time": "2021-10-11T10:24:19.789Z"
   },
   {
    "duration": 14,
    "start_time": "2021-10-11T10:25:34.316Z"
   },
   {
    "duration": 3,
    "start_time": "2021-10-11T10:25:39.202Z"
   },
   {
    "duration": 46,
    "start_time": "2021-10-11T10:25:39.207Z"
   },
   {
    "duration": 13,
    "start_time": "2021-10-11T10:25:39.255Z"
   },
   {
    "duration": 26,
    "start_time": "2021-10-11T10:25:39.270Z"
   },
   {
    "duration": 13,
    "start_time": "2021-10-11T10:25:39.297Z"
   },
   {
    "duration": 35,
    "start_time": "2021-10-11T10:25:39.311Z"
   },
   {
    "duration": 8,
    "start_time": "2021-10-11T10:25:39.350Z"
   },
   {
    "duration": 14,
    "start_time": "2021-10-11T10:25:39.360Z"
   },
   {
    "duration": 234,
    "start_time": "2021-10-11T10:25:39.377Z"
   },
   {
    "duration": 11,
    "start_time": "2021-10-11T10:26:04.137Z"
   },
   {
    "duration": 10,
    "start_time": "2021-10-11T10:26:18.020Z"
   },
   {
    "duration": 11,
    "start_time": "2021-10-11T10:26:25.140Z"
   },
   {
    "duration": 10,
    "start_time": "2021-10-11T10:26:33.372Z"
   },
   {
    "duration": 16,
    "start_time": "2021-10-11T10:26:54.241Z"
   },
   {
    "duration": 14,
    "start_time": "2021-10-11T10:27:05.387Z"
   },
   {
    "duration": 3,
    "start_time": "2021-10-11T10:27:11.954Z"
   },
   {
    "duration": 49,
    "start_time": "2021-10-11T10:27:11.959Z"
   },
   {
    "duration": 11,
    "start_time": "2021-10-11T10:27:12.010Z"
   },
   {
    "duration": 29,
    "start_time": "2021-10-11T10:27:12.023Z"
   },
   {
    "duration": 13,
    "start_time": "2021-10-11T10:27:12.054Z"
   },
   {
    "duration": 13,
    "start_time": "2021-10-11T10:27:12.069Z"
   },
   {
    "duration": 6,
    "start_time": "2021-10-11T10:27:12.084Z"
   },
   {
    "duration": 10,
    "start_time": "2021-10-11T10:27:12.092Z"
   },
   {
    "duration": 40,
    "start_time": "2021-10-11T10:27:12.104Z"
   },
   {
    "duration": 10,
    "start_time": "2021-10-11T10:27:26.517Z"
   },
   {
    "duration": 9,
    "start_time": "2021-10-11T10:27:42.157Z"
   },
   {
    "duration": 15,
    "start_time": "2021-10-11T10:28:55.279Z"
   },
   {
    "duration": 3,
    "start_time": "2021-10-11T10:29:02.571Z"
   },
   {
    "duration": 45,
    "start_time": "2021-10-11T10:29:02.576Z"
   },
   {
    "duration": 11,
    "start_time": "2021-10-11T10:29:02.623Z"
   },
   {
    "duration": 32,
    "start_time": "2021-10-11T10:29:02.636Z"
   },
   {
    "duration": 12,
    "start_time": "2021-10-11T10:29:02.670Z"
   },
   {
    "duration": 13,
    "start_time": "2021-10-11T10:29:02.684Z"
   },
   {
    "duration": 6,
    "start_time": "2021-10-11T10:29:02.698Z"
   },
   {
    "duration": 12,
    "start_time": "2021-10-11T10:29:02.706Z"
   },
   {
    "duration": 38,
    "start_time": "2021-10-11T10:29:02.720Z"
   },
   {
    "duration": 6,
    "start_time": "2021-10-11T10:29:02.761Z"
   },
   {
    "duration": 14,
    "start_time": "2021-10-11T10:29:13.418Z"
   },
   {
    "duration": 2,
    "start_time": "2021-10-11T10:29:23.017Z"
   },
   {
    "duration": 49,
    "start_time": "2021-10-11T10:29:23.021Z"
   },
   {
    "duration": 11,
    "start_time": "2021-10-11T10:29:23.073Z"
   },
   {
    "duration": 40,
    "start_time": "2021-10-11T10:29:23.085Z"
   },
   {
    "duration": 10,
    "start_time": "2021-10-11T10:29:23.127Z"
   },
   {
    "duration": 19,
    "start_time": "2021-10-11T10:29:23.139Z"
   },
   {
    "duration": 10,
    "start_time": "2021-10-11T10:29:23.160Z"
   },
   {
    "duration": 9,
    "start_time": "2021-10-11T10:29:23.171Z"
   },
   {
    "duration": 19,
    "start_time": "2021-10-11T10:29:23.182Z"
   },
   {
    "duration": 5,
    "start_time": "2021-10-11T10:29:23.202Z"
   },
   {
    "duration": 19,
    "start_time": "2021-10-11T10:31:33.184Z"
   },
   {
    "duration": 3,
    "start_time": "2021-10-11T10:31:52.346Z"
   },
   {
    "duration": 59,
    "start_time": "2021-10-11T10:31:52.351Z"
   },
   {
    "duration": 11,
    "start_time": "2021-10-11T10:31:52.412Z"
   },
   {
    "duration": 40,
    "start_time": "2021-10-11T10:31:52.425Z"
   },
   {
    "duration": 12,
    "start_time": "2021-10-11T10:31:52.467Z"
   },
   {
    "duration": 17,
    "start_time": "2021-10-11T10:31:52.481Z"
   },
   {
    "duration": 9,
    "start_time": "2021-10-11T10:31:52.500Z"
   },
   {
    "duration": 36,
    "start_time": "2021-10-11T10:31:52.510Z"
   },
   {
    "duration": 27,
    "start_time": "2021-10-11T10:31:52.549Z"
   },
   {
    "duration": 6,
    "start_time": "2021-10-11T10:31:52.577Z"
   },
   {
    "duration": 15,
    "start_time": "2021-10-11T10:33:19.905Z"
   },
   {
    "duration": 17,
    "start_time": "2021-10-11T10:33:35.955Z"
   },
   {
    "duration": 2,
    "start_time": "2021-10-11T10:33:39.968Z"
   },
   {
    "duration": 45,
    "start_time": "2021-10-11T10:33:39.972Z"
   },
   {
    "duration": 12,
    "start_time": "2021-10-11T10:33:40.019Z"
   },
   {
    "duration": 40,
    "start_time": "2021-10-11T10:33:40.032Z"
   },
   {
    "duration": 12,
    "start_time": "2021-10-11T10:33:40.073Z"
   },
   {
    "duration": 12,
    "start_time": "2021-10-11T10:33:40.086Z"
   },
   {
    "duration": 6,
    "start_time": "2021-10-11T10:33:40.099Z"
   },
   {
    "duration": 8,
    "start_time": "2021-10-11T10:33:40.107Z"
   },
   {
    "duration": 43,
    "start_time": "2021-10-11T10:33:40.117Z"
   },
   {
    "duration": 9,
    "start_time": "2021-10-11T10:33:40.163Z"
   },
   {
    "duration": 16,
    "start_time": "2021-10-11T10:33:50.033Z"
   },
   {
    "duration": 9,
    "start_time": "2021-10-11T10:37:08.456Z"
   },
   {
    "duration": 11,
    "start_time": "2021-10-11T10:37:43.940Z"
   },
   {
    "duration": 8,
    "start_time": "2021-10-11T10:41:43.999Z"
   },
   {
    "duration": 3,
    "start_time": "2021-10-11T11:10:57.615Z"
   },
   {
    "duration": 44,
    "start_time": "2021-10-11T11:11:10.010Z"
   },
   {
    "duration": 13,
    "start_time": "2021-10-11T11:11:34.106Z"
   },
   {
    "duration": 7,
    "start_time": "2021-10-11T11:35:35.533Z"
   },
   {
    "duration": 12,
    "start_time": "2021-10-11T11:37:41.090Z"
   },
   {
    "duration": 5,
    "start_time": "2021-10-11T11:40:20.229Z"
   },
   {
    "duration": 10,
    "start_time": "2021-10-11T11:40:58.249Z"
   },
   {
    "duration": 10,
    "start_time": "2021-10-11T11:41:06.599Z"
   },
   {
    "duration": 4,
    "start_time": "2021-10-11T11:41:13.939Z"
   },
   {
    "duration": 74,
    "start_time": "2021-10-11T11:41:13.945Z"
   },
   {
    "duration": 44,
    "start_time": "2021-10-11T11:41:14.022Z"
   },
   {
    "duration": 18,
    "start_time": "2021-10-11T11:41:14.069Z"
   },
   {
    "duration": 9,
    "start_time": "2021-10-11T11:41:14.089Z"
   },
   {
    "duration": 23,
    "start_time": "2021-10-11T11:41:14.100Z"
   },
   {
    "duration": 12,
    "start_time": "2021-10-11T11:41:14.145Z"
   },
   {
    "duration": 13,
    "start_time": "2021-10-11T11:41:14.159Z"
   },
   {
    "duration": 13,
    "start_time": "2021-10-11T11:41:14.174Z"
   },
   {
    "duration": 14,
    "start_time": "2021-10-11T11:41:14.189Z"
   },
   {
    "duration": 19,
    "start_time": "2021-10-11T11:41:14.205Z"
   },
   {
    "duration": 21,
    "start_time": "2021-10-11T11:41:14.226Z"
   },
   {
    "duration": 16,
    "start_time": "2021-10-11T11:41:14.250Z"
   },
   {
    "duration": 6,
    "start_time": "2021-10-11T11:42:43.277Z"
   },
   {
    "duration": 7,
    "start_time": "2021-10-11T11:45:38.428Z"
   },
   {
    "duration": 7,
    "start_time": "2021-10-11T11:46:04.479Z"
   },
   {
    "duration": 3,
    "start_time": "2021-10-11T11:46:37.100Z"
   },
   {
    "duration": 54,
    "start_time": "2021-10-11T11:46:37.104Z"
   },
   {
    "duration": 29,
    "start_time": "2021-10-11T11:46:37.161Z"
   },
   {
    "duration": 14,
    "start_time": "2021-10-11T11:46:37.191Z"
   },
   {
    "duration": 8,
    "start_time": "2021-10-11T11:46:37.207Z"
   },
   {
    "duration": 29,
    "start_time": "2021-10-11T11:46:37.217Z"
   },
   {
    "duration": 21,
    "start_time": "2021-10-11T11:46:37.248Z"
   },
   {
    "duration": 7,
    "start_time": "2021-10-11T11:46:37.271Z"
   },
   {
    "duration": 7,
    "start_time": "2021-10-11T11:46:37.281Z"
   },
   {
    "duration": 10,
    "start_time": "2021-10-11T11:46:37.290Z"
   },
   {
    "duration": 11,
    "start_time": "2021-10-11T11:46:37.302Z"
   },
   {
    "duration": 50,
    "start_time": "2021-10-11T11:46:37.315Z"
   },
   {
    "duration": 5,
    "start_time": "2021-10-11T11:46:37.367Z"
   },
   {
    "duration": 20,
    "start_time": "2021-10-11T11:46:37.373Z"
   },
   {
    "duration": 3,
    "start_time": "2021-10-11T11:47:25.791Z"
   },
   {
    "duration": 70,
    "start_time": "2021-10-11T11:47:25.796Z"
   },
   {
    "duration": 28,
    "start_time": "2021-10-11T11:47:25.869Z"
   },
   {
    "duration": 13,
    "start_time": "2021-10-11T11:47:25.899Z"
   },
   {
    "duration": 8,
    "start_time": "2021-10-11T11:47:25.913Z"
   },
   {
    "duration": 29,
    "start_time": "2021-10-11T11:47:25.923Z"
   },
   {
    "duration": 268,
    "start_time": "2021-10-11T11:47:25.955Z"
   },
   {
    "duration": 11394,
    "start_time": "2021-10-11T11:47:14.831Z"
   },
   {
    "duration": 11393,
    "start_time": "2021-10-11T11:47:14.833Z"
   },
   {
    "duration": 11392,
    "start_time": "2021-10-11T11:47:14.835Z"
   },
   {
    "duration": 11391,
    "start_time": "2021-10-11T11:47:14.837Z"
   },
   {
    "duration": 11390,
    "start_time": "2021-10-11T11:47:14.839Z"
   },
   {
    "duration": 11389,
    "start_time": "2021-10-11T11:47:14.840Z"
   },
   {
    "duration": 11388,
    "start_time": "2021-10-11T11:47:14.842Z"
   },
   {
    "duration": 4,
    "start_time": "2021-10-11T11:47:36.257Z"
   },
   {
    "duration": 47,
    "start_time": "2021-10-11T11:47:36.263Z"
   },
   {
    "duration": 28,
    "start_time": "2021-10-11T11:47:36.312Z"
   },
   {
    "duration": 18,
    "start_time": "2021-10-11T11:47:36.341Z"
   },
   {
    "duration": 8,
    "start_time": "2021-10-11T11:47:36.361Z"
   },
   {
    "duration": 12,
    "start_time": "2021-10-11T11:47:36.371Z"
   },
   {
    "duration": 15,
    "start_time": "2021-10-11T11:47:36.385Z"
   },
   {
    "duration": 6,
    "start_time": "2021-10-11T11:47:36.403Z"
   },
   {
    "duration": 40,
    "start_time": "2021-10-11T11:47:36.411Z"
   },
   {
    "duration": 12,
    "start_time": "2021-10-11T11:47:36.453Z"
   },
   {
    "duration": 15,
    "start_time": "2021-10-11T11:47:36.466Z"
   },
   {
    "duration": 24,
    "start_time": "2021-10-11T11:47:36.483Z"
   },
   {
    "duration": 4,
    "start_time": "2021-10-11T11:47:36.509Z"
   },
   {
    "duration": 34,
    "start_time": "2021-10-11T11:47:36.515Z"
   },
   {
    "duration": 231,
    "start_time": "2021-10-11T11:54:15.754Z"
   },
   {
    "duration": 9,
    "start_time": "2021-10-11T11:54:19.949Z"
   },
   {
    "duration": 223,
    "start_time": "2021-10-11T11:59:07.907Z"
   },
   {
    "duration": 8,
    "start_time": "2021-10-11T12:16:42.737Z"
   },
   {
    "duration": 6191,
    "start_time": "2021-10-11T12:24:35.272Z"
   },
   {
    "duration": 6,
    "start_time": "2021-10-11T12:24:57.814Z"
   },
   {
    "duration": 14,
    "start_time": "2021-10-11T12:25:35.089Z"
   },
   {
    "duration": 177,
    "start_time": "2021-10-11T12:26:24.319Z"
   },
   {
    "duration": 10,
    "start_time": "2021-10-11T12:26:55.377Z"
   },
   {
    "duration": 235,
    "start_time": "2021-10-11T12:27:06.793Z"
   },
   {
    "duration": 12,
    "start_time": "2021-10-11T12:27:26.479Z"
   },
   {
    "duration": 11,
    "start_time": "2021-10-11T12:28:38.355Z"
   },
   {
    "duration": 6,
    "start_time": "2021-10-11T12:28:51.133Z"
   },
   {
    "duration": 12,
    "start_time": "2021-10-11T12:28:56.088Z"
   },
   {
    "duration": 6,
    "start_time": "2021-10-11T12:37:23.763Z"
   },
   {
    "duration": 12,
    "start_time": "2021-10-11T12:46:33.455Z"
   },
   {
    "duration": 11,
    "start_time": "2021-10-11T12:46:58.858Z"
   },
   {
    "duration": 11,
    "start_time": "2021-10-11T12:49:19.458Z"
   },
   {
    "duration": 3,
    "start_time": "2021-10-11T13:04:23.056Z"
   },
   {
    "duration": 327,
    "start_time": "2021-10-11T13:04:41.556Z"
   },
   {
    "duration": 4,
    "start_time": "2021-10-11T13:04:50.060Z"
   },
   {
    "duration": 11386,
    "start_time": "2021-10-11T13:06:06.755Z"
   },
   {
    "duration": 6529,
    "start_time": "2021-10-11T13:06:26.765Z"
   },
   {
    "duration": 4,
    "start_time": "2021-10-11T13:07:28.570Z"
   },
   {
    "duration": 5,
    "start_time": "2021-10-11T13:09:23.747Z"
   },
   {
    "duration": 3,
    "start_time": "2021-10-11T13:09:52.932Z"
   },
   {
    "duration": 6880,
    "start_time": "2021-10-11T13:13:26.959Z"
   },
   {
    "duration": 7745,
    "start_time": "2021-10-11T13:13:45.206Z"
   },
   {
    "duration": 334,
    "start_time": "2021-10-11T13:14:16.870Z"
   },
   {
    "duration": 479,
    "start_time": "2021-10-11T13:14:45.647Z"
   },
   {
    "duration": 1265,
    "start_time": "2021-10-11T13:14:58.291Z"
   },
   {
    "duration": 476,
    "start_time": "2021-10-11T13:19:22.906Z"
   },
   {
    "duration": 238,
    "start_time": "2021-10-11T13:23:12.421Z"
   },
   {
    "duration": 584,
    "start_time": "2021-10-11T13:26:21.048Z"
   },
   {
    "duration": 481,
    "start_time": "2021-10-11T13:26:36.052Z"
   },
   {
    "duration": 12,
    "start_time": "2021-10-11T13:27:50.286Z"
   },
   {
    "duration": 15,
    "start_time": "2021-10-11T13:28:26.779Z"
   },
   {
    "duration": 13,
    "start_time": "2021-10-11T13:28:38.013Z"
   },
   {
    "duration": 13,
    "start_time": "2021-10-11T13:30:39.006Z"
   },
   {
    "duration": 20,
    "start_time": "2021-10-11T13:30:46.304Z"
   },
   {
    "duration": 7383,
    "start_time": "2021-10-11T13:34:31.404Z"
   },
   {
    "duration": 7560,
    "start_time": "2021-10-11T13:35:25.393Z"
   },
   {
    "duration": 1635,
    "start_time": "2021-10-11T13:35:44.869Z"
   },
   {
    "duration": 393,
    "start_time": "2021-10-11T13:36:06.357Z"
   },
   {
    "duration": 5936,
    "start_time": "2021-10-11T13:36:20.710Z"
   },
   {
    "duration": 463,
    "start_time": "2021-10-11T13:36:59.758Z"
   },
   {
    "duration": 3,
    "start_time": "2021-10-11T13:37:13.990Z"
   },
   {
    "duration": 64,
    "start_time": "2021-10-11T13:37:13.994Z"
   },
   {
    "duration": 30,
    "start_time": "2021-10-11T13:37:14.060Z"
   },
   {
    "duration": 13,
    "start_time": "2021-10-11T13:37:14.091Z"
   },
   {
    "duration": 16,
    "start_time": "2021-10-11T13:37:14.106Z"
   },
   {
    "duration": 25,
    "start_time": "2021-10-11T13:37:14.123Z"
   },
   {
    "duration": 22,
    "start_time": "2021-10-11T13:37:14.150Z"
   },
   {
    "duration": 16,
    "start_time": "2021-10-11T13:37:14.175Z"
   },
   {
    "duration": 10,
    "start_time": "2021-10-11T13:37:14.193Z"
   },
   {
    "duration": 10,
    "start_time": "2021-10-11T13:37:14.204Z"
   },
   {
    "duration": 11,
    "start_time": "2021-10-11T13:37:14.216Z"
   },
   {
    "duration": 28,
    "start_time": "2021-10-11T13:37:14.228Z"
   },
   {
    "duration": 6,
    "start_time": "2021-10-11T13:37:14.257Z"
   },
   {
    "duration": 14,
    "start_time": "2021-10-11T13:37:14.264Z"
   },
   {
    "duration": 317,
    "start_time": "2021-10-11T13:37:14.280Z"
   },
   {
    "duration": 13,
    "start_time": "2021-10-11T13:37:14.599Z"
   },
   {
    "duration": 1618,
    "start_time": "2021-10-11T13:37:14.614Z"
   },
   {
    "duration": 3624,
    "start_time": "2021-10-11T13:38:44.655Z"
   },
   {
    "duration": 3857,
    "start_time": "2021-10-11T13:40:33.968Z"
   },
   {
    "duration": 2935,
    "start_time": "2021-10-11T13:40:48.324Z"
   },
   {
    "duration": 2775,
    "start_time": "2021-10-11T13:40:55.029Z"
   },
   {
    "duration": 76,
    "start_time": "2021-10-11T13:43:04.986Z"
   },
   {
    "duration": 88,
    "start_time": "2021-10-11T13:43:15.626Z"
   },
   {
    "duration": 2817,
    "start_time": "2021-10-11T13:43:46.670Z"
   },
   {
    "duration": 2996,
    "start_time": "2021-10-11T13:45:12.197Z"
   },
   {
    "duration": 3479,
    "start_time": "2021-10-11T13:45:49.955Z"
   },
   {
    "duration": 3254,
    "start_time": "2021-10-11T13:46:00.371Z"
   },
   {
    "duration": 2858,
    "start_time": "2021-10-11T13:46:59.432Z"
   },
   {
    "duration": 2996,
    "start_time": "2021-10-11T13:47:06.540Z"
   },
   {
    "duration": 2961,
    "start_time": "2021-10-11T13:47:42.706Z"
   },
   {
    "duration": 385,
    "start_time": "2021-10-11T13:49:21.138Z"
   },
   {
    "duration": 539,
    "start_time": "2021-10-11T13:49:55.050Z"
   },
   {
    "duration": 655,
    "start_time": "2021-10-11T13:53:26.880Z"
   },
   {
    "duration": 380,
    "start_time": "2021-10-11T13:54:42.341Z"
   },
   {
    "duration": 1643,
    "start_time": "2021-10-11T13:56:27.478Z"
   },
   {
    "duration": 2115,
    "start_time": "2021-10-11T13:57:09.764Z"
   },
   {
    "duration": 1834,
    "start_time": "2021-10-11T13:57:25.732Z"
   },
   {
    "duration": 11,
    "start_time": "2021-10-11T13:58:24.964Z"
   },
   {
    "duration": 3,
    "start_time": "2021-10-11T13:58:31.264Z"
   },
   {
    "duration": 62,
    "start_time": "2021-10-11T13:58:31.269Z"
   },
   {
    "duration": 33,
    "start_time": "2021-10-11T13:58:31.333Z"
   },
   {
    "duration": 13,
    "start_time": "2021-10-11T13:58:31.368Z"
   },
   {
    "duration": 34,
    "start_time": "2021-10-11T13:58:31.383Z"
   },
   {
    "duration": 34,
    "start_time": "2021-10-11T13:58:31.419Z"
   },
   {
    "duration": 31,
    "start_time": "2021-10-11T13:58:31.455Z"
   },
   {
    "duration": 22,
    "start_time": "2021-10-11T13:58:31.488Z"
   },
   {
    "duration": 39,
    "start_time": "2021-10-11T13:58:31.513Z"
   },
   {
    "duration": 32,
    "start_time": "2021-10-11T13:58:31.554Z"
   },
   {
    "duration": 37,
    "start_time": "2021-10-11T13:58:31.587Z"
   },
   {
    "duration": 46,
    "start_time": "2021-10-11T13:58:31.625Z"
   },
   {
    "duration": 24,
    "start_time": "2021-10-11T13:58:31.673Z"
   },
   {
    "duration": 35,
    "start_time": "2021-10-11T13:58:31.699Z"
   },
   {
    "duration": 257,
    "start_time": "2021-10-11T13:58:31.736Z"
   },
   {
    "duration": 11,
    "start_time": "2021-10-11T13:58:31.995Z"
   },
   {
    "duration": 988,
    "start_time": "2021-10-11T13:58:32.008Z"
   },
   {
    "duration": 501,
    "start_time": "2021-10-11T14:01:29.532Z"
   },
   {
    "duration": 377,
    "start_time": "2021-10-11T14:01:42.874Z"
   },
   {
    "duration": 369,
    "start_time": "2021-10-11T14:02:46.110Z"
   },
   {
    "duration": 346,
    "start_time": "2021-10-11T14:03:05.814Z"
   },
   {
    "duration": 351,
    "start_time": "2021-10-11T14:03:14.454Z"
   },
   {
    "duration": 373,
    "start_time": "2021-10-11T14:09:04.295Z"
   },
   {
    "duration": 571,
    "start_time": "2021-10-11T14:14:53.995Z"
   },
   {
    "duration": 3,
    "start_time": "2021-10-11T14:15:08.321Z"
   },
   {
    "duration": 61,
    "start_time": "2021-10-11T14:15:08.326Z"
   },
   {
    "duration": 27,
    "start_time": "2021-10-11T14:15:08.389Z"
   },
   {
    "duration": 11,
    "start_time": "2021-10-11T14:15:08.418Z"
   },
   {
    "duration": 26,
    "start_time": "2021-10-11T14:15:08.431Z"
   },
   {
    "duration": 23,
    "start_time": "2021-10-11T14:15:08.459Z"
   },
   {
    "duration": 20,
    "start_time": "2021-10-11T14:15:08.484Z"
   },
   {
    "duration": 25,
    "start_time": "2021-10-11T14:15:08.506Z"
   },
   {
    "duration": 8,
    "start_time": "2021-10-11T14:15:08.533Z"
   },
   {
    "duration": 13,
    "start_time": "2021-10-11T14:15:08.543Z"
   },
   {
    "duration": 11,
    "start_time": "2021-10-11T14:15:08.558Z"
   },
   {
    "duration": 16,
    "start_time": "2021-10-11T14:15:08.571Z"
   },
   {
    "duration": 4,
    "start_time": "2021-10-11T14:15:08.589Z"
   },
   {
    "duration": 14,
    "start_time": "2021-10-11T14:15:08.594Z"
   },
   {
    "duration": 268,
    "start_time": "2021-10-11T14:15:08.610Z"
   },
   {
    "duration": 10,
    "start_time": "2021-10-11T14:15:08.879Z"
   },
   {
    "duration": 252,
    "start_time": "2021-10-11T14:15:08.891Z"
   },
   {
    "duration": 255,
    "start_time": "2021-10-11T14:15:18.944Z"
   },
   {
    "duration": 412,
    "start_time": "2021-10-11T14:15:35.179Z"
   },
   {
    "duration": 935,
    "start_time": "2021-10-11T14:15:51.944Z"
   },
   {
    "duration": 1643,
    "start_time": "2021-10-11T14:20:28.847Z"
   },
   {
    "duration": 1547,
    "start_time": "2021-10-11T14:20:37.119Z"
   },
   {
    "duration": 1701,
    "start_time": "2021-10-11T14:20:52.791Z"
   },
   {
    "duration": 627,
    "start_time": "2021-10-11T14:21:05.431Z"
   },
   {
    "duration": 1773,
    "start_time": "2021-10-11T14:21:12.063Z"
   },
   {
    "duration": 386,
    "start_time": "2021-10-11T14:26:16.099Z"
   },
   {
    "duration": 376,
    "start_time": "2021-10-11T14:27:10.951Z"
   },
   {
    "duration": 1814,
    "start_time": "2021-10-11T14:28:05.684Z"
   },
   {
    "duration": 256,
    "start_time": "2021-10-11T14:28:21.544Z"
   },
   {
    "duration": 2060,
    "start_time": "2021-10-11T14:28:39.628Z"
   },
   {
    "duration": 451,
    "start_time": "2021-10-11T14:29:19.037Z"
   },
   {
    "duration": 1708,
    "start_time": "2021-10-11T14:29:38.861Z"
   },
   {
    "duration": 394,
    "start_time": "2021-10-11T14:30:30.238Z"
   },
   {
    "duration": 157,
    "start_time": "2021-10-11T14:32:34.482Z"
   },
   {
    "duration": 171,
    "start_time": "2021-10-11T14:34:28.104Z"
   },
   {
    "duration": 172,
    "start_time": "2021-10-11T14:34:53.628Z"
   },
   {
    "duration": 10,
    "start_time": "2021-10-11T14:35:22.813Z"
   },
   {
    "duration": 157,
    "start_time": "2021-10-11T14:35:30.904Z"
   },
   {
    "duration": 182,
    "start_time": "2021-10-11T14:35:59.856Z"
   },
   {
    "duration": 183,
    "start_time": "2021-10-11T14:36:16.662Z"
   },
   {
    "duration": 13,
    "start_time": "2021-10-11T14:36:51.898Z"
   },
   {
    "duration": 16,
    "start_time": "2021-10-11T15:17:47.537Z"
   },
   {
    "duration": 243,
    "start_time": "2021-10-11T15:19:33.887Z"
   },
   {
    "duration": 16,
    "start_time": "2021-10-11T15:19:55.238Z"
   },
   {
    "duration": 17,
    "start_time": "2021-10-11T15:20:53.175Z"
   },
   {
    "duration": 18,
    "start_time": "2021-10-11T15:21:52.090Z"
   },
   {
    "duration": 16,
    "start_time": "2021-10-11T15:22:41.688Z"
   },
   {
    "duration": 12,
    "start_time": "2021-10-11T15:22:47.728Z"
   },
   {
    "duration": 16,
    "start_time": "2021-10-11T15:23:17.651Z"
   },
   {
    "duration": 15,
    "start_time": "2021-10-11T15:23:29.136Z"
   },
   {
    "duration": 24,
    "start_time": "2021-10-11T15:25:13.143Z"
   },
   {
    "duration": 15,
    "start_time": "2021-10-11T15:25:55.454Z"
   },
   {
    "duration": 16,
    "start_time": "2021-10-11T15:26:04.166Z"
   },
   {
    "duration": 245,
    "start_time": "2021-10-11T15:27:03.463Z"
   },
   {
    "duration": 267,
    "start_time": "2021-10-11T15:27:28.901Z"
   },
   {
    "duration": 17,
    "start_time": "2021-10-11T15:28:25.389Z"
   },
   {
    "duration": 18,
    "start_time": "2021-10-11T15:28:41.028Z"
   },
   {
    "duration": 18,
    "start_time": "2021-10-11T15:28:52.236Z"
   },
   {
    "duration": 26,
    "start_time": "2021-10-11T15:28:59.028Z"
   },
   {
    "duration": 215,
    "start_time": "2021-10-11T15:30:53.162Z"
   },
   {
    "duration": 451,
    "start_time": "2021-10-11T15:31:11.655Z"
   },
   {
    "duration": 225,
    "start_time": "2021-10-11T15:31:35.466Z"
   },
   {
    "duration": 26,
    "start_time": "2021-10-11T15:32:09.246Z"
   },
   {
    "duration": 253,
    "start_time": "2021-10-11T15:33:59.244Z"
   },
   {
    "duration": 1223,
    "start_time": "2021-10-11T15:34:06.366Z"
   },
   {
    "duration": 199,
    "start_time": "2021-10-11T15:34:24.010Z"
   },
   {
    "duration": 191,
    "start_time": "2021-10-11T15:34:40.496Z"
   },
   {
    "duration": 178,
    "start_time": "2021-10-11T15:34:54.300Z"
   },
   {
    "duration": 193,
    "start_time": "2021-10-11T15:35:02.340Z"
   },
   {
    "duration": 282,
    "start_time": "2021-10-11T15:35:10.181Z"
   },
   {
    "duration": 239,
    "start_time": "2021-10-11T15:36:48.126Z"
   },
   {
    "duration": 13,
    "start_time": "2021-10-11T15:36:58.798Z"
   },
   {
    "duration": 205,
    "start_time": "2021-10-11T15:40:24.020Z"
   },
   {
    "duration": 966,
    "start_time": "2021-10-11T15:46:33.692Z"
   },
   {
    "duration": 38,
    "start_time": "2021-10-11T15:51:33.967Z"
   },
   {
    "duration": 437,
    "start_time": "2021-10-11T15:51:52.295Z"
   },
   {
    "duration": 296,
    "start_time": "2021-10-11T15:52:23.764Z"
   },
   {
    "duration": 239,
    "start_time": "2021-10-11T15:52:34.856Z"
   },
   {
    "duration": 248,
    "start_time": "2021-10-11T15:53:09.145Z"
   },
   {
    "duration": 401,
    "start_time": "2021-10-11T15:53:24.685Z"
   },
   {
    "duration": 236,
    "start_time": "2021-10-11T15:53:34.361Z"
   },
   {
    "duration": 40,
    "start_time": "2021-10-11T15:53:43.693Z"
   },
   {
    "duration": 927,
    "start_time": "2021-10-11T15:53:52.077Z"
   },
   {
    "duration": 972,
    "start_time": "2021-10-11T15:54:08.397Z"
   },
   {
    "duration": 11,
    "start_time": "2021-10-11T15:58:08.687Z"
   },
   {
    "duration": 31,
    "start_time": "2021-10-11T16:03:54.816Z"
   },
   {
    "duration": 10,
    "start_time": "2021-10-11T16:18:11.472Z"
   },
   {
    "duration": 13,
    "start_time": "2021-10-11T16:18:29.311Z"
   },
   {
    "duration": 23,
    "start_time": "2021-10-11T16:19:21.354Z"
   },
   {
    "duration": 22,
    "start_time": "2021-10-11T16:21:04.052Z"
   },
   {
    "duration": 24,
    "start_time": "2021-10-11T16:21:08.039Z"
   },
   {
    "duration": 18,
    "start_time": "2021-10-11T16:21:23.785Z"
   },
   {
    "duration": 19,
    "start_time": "2021-10-11T16:21:30.495Z"
   },
   {
    "duration": 19,
    "start_time": "2021-10-11T16:21:38.567Z"
   },
   {
    "duration": 208,
    "start_time": "2021-10-11T16:22:33.790Z"
   },
   {
    "duration": 425,
    "start_time": "2021-10-11T16:23:02.588Z"
   },
   {
    "duration": 255,
    "start_time": "2021-10-11T16:25:05.086Z"
   },
   {
    "duration": 184,
    "start_time": "2021-10-11T16:25:55.166Z"
   },
   {
    "duration": 42,
    "start_time": "2021-10-11T16:26:14.592Z"
   },
   {
    "duration": 36,
    "start_time": "2021-10-11T16:26:45.060Z"
   },
   {
    "duration": 198,
    "start_time": "2021-10-11T16:26:54.490Z"
   },
   {
    "duration": 34,
    "start_time": "2021-10-11T16:27:04.195Z"
   },
   {
    "duration": 98,
    "start_time": "2021-10-11T16:32:54.352Z"
   },
   {
    "duration": 7659,
    "start_time": "2021-10-11T16:33:24.147Z"
   },
   {
    "duration": 6301,
    "start_time": "2021-10-11T16:35:18.432Z"
   },
   {
    "duration": 77,
    "start_time": "2021-10-11T16:35:39.776Z"
   },
   {
    "duration": 5976,
    "start_time": "2021-10-11T16:35:46.449Z"
   },
   {
    "duration": 33,
    "start_time": "2021-10-11T16:36:22.736Z"
   },
   {
    "duration": 1026,
    "start_time": "2021-10-11T16:37:23.849Z"
   },
   {
    "duration": 32,
    "start_time": "2021-10-11T16:37:57.773Z"
   },
   {
    "duration": 195,
    "start_time": "2021-10-11T16:38:30.278Z"
   },
   {
    "duration": 406,
    "start_time": "2021-10-11T16:38:46.983Z"
   },
   {
    "duration": 259,
    "start_time": "2021-10-11T16:41:51.013Z"
   },
   {
    "duration": 601,
    "start_time": "2021-10-11T16:42:04.812Z"
   },
   {
    "duration": 337,
    "start_time": "2021-10-11T16:42:14.512Z"
   },
   {
    "duration": 37,
    "start_time": "2021-10-11T16:48:37.077Z"
   },
   {
    "duration": 12,
    "start_time": "2021-10-11T16:52:39.256Z"
   },
   {
    "duration": 14,
    "start_time": "2021-10-11T16:53:16.471Z"
   },
   {
    "duration": 33,
    "start_time": "2021-10-11T16:53:39.624Z"
   },
   {
    "duration": 33,
    "start_time": "2021-10-11T16:54:09.709Z"
   },
   {
    "duration": 33,
    "start_time": "2021-10-11T16:55:05.137Z"
   },
   {
    "duration": 29,
    "start_time": "2021-10-11T17:00:08.653Z"
   },
   {
    "duration": 1974,
    "start_time": "2021-10-11T17:08:55.698Z"
   },
   {
    "duration": 1960,
    "start_time": "2021-10-11T17:09:21.419Z"
   },
   {
    "duration": 1667,
    "start_time": "2021-10-11T17:10:54.888Z"
   },
   {
    "duration": 1708,
    "start_time": "2021-10-11T17:14:04.718Z"
   },
   {
    "duration": 368,
    "start_time": "2021-10-11T17:14:49.555Z"
   },
   {
    "duration": 153,
    "start_time": "2021-10-11T17:15:06.899Z"
   },
   {
    "duration": 224,
    "start_time": "2021-10-11T17:15:19.383Z"
   },
   {
    "duration": 25,
    "start_time": "2021-10-11T17:15:28.344Z"
   },
   {
    "duration": 258,
    "start_time": "2021-10-11T17:26:21.326Z"
   },
   {
    "duration": 408,
    "start_time": "2021-10-11T17:27:13.919Z"
   },
   {
    "duration": 76,
    "start_time": "2021-10-11T17:27:27.961Z"
   },
   {
    "duration": 188,
    "start_time": "2021-10-11T17:27:55.899Z"
   },
   {
    "duration": 197,
    "start_time": "2021-10-11T17:28:17.947Z"
   },
   {
    "duration": 6159,
    "start_time": "2021-10-11T17:28:34.891Z"
   },
   {
    "duration": 273,
    "start_time": "2021-10-11T17:28:51.387Z"
   },
   {
    "duration": 388,
    "start_time": "2021-10-11T17:29:37.388Z"
   },
   {
    "duration": 269,
    "start_time": "2021-10-11T17:29:45.526Z"
   },
   {
    "duration": 375,
    "start_time": "2021-10-11T17:31:02.064Z"
   },
   {
    "duration": 341,
    "start_time": "2021-10-11T17:31:31.496Z"
   },
   {
    "duration": 252,
    "start_time": "2021-10-11T17:31:51.058Z"
   },
   {
    "duration": 221,
    "start_time": "2021-10-11T17:33:56.258Z"
   },
   {
    "duration": 268,
    "start_time": "2021-10-11T17:34:38.979Z"
   },
   {
    "duration": 251,
    "start_time": "2021-10-11T17:35:33.822Z"
   },
   {
    "duration": 357,
    "start_time": "2021-10-11T17:35:44.308Z"
   },
   {
    "duration": 451,
    "start_time": "2021-10-11T17:35:51.843Z"
   },
   {
    "duration": 542,
    "start_time": "2021-10-11T17:36:10.276Z"
   },
   {
    "duration": 257,
    "start_time": "2021-10-11T17:36:35.809Z"
   },
   {
    "duration": 549,
    "start_time": "2021-10-11T17:36:49.114Z"
   },
   {
    "duration": 23,
    "start_time": "2021-10-11T17:37:54.398Z"
   },
   {
    "duration": 30,
    "start_time": "2021-10-11T17:38:03.389Z"
   },
   {
    "duration": 186,
    "start_time": "2021-10-11T17:39:24.878Z"
   },
   {
    "duration": 31,
    "start_time": "2021-10-11T17:39:38.574Z"
   },
   {
    "duration": 164,
    "start_time": "2021-10-11T17:42:16.281Z"
   },
   {
    "duration": 414,
    "start_time": "2021-10-11T17:42:57.821Z"
   },
   {
    "duration": 600,
    "start_time": "2021-10-11T17:43:22.464Z"
   },
   {
    "duration": 180,
    "start_time": "2021-10-11T17:44:00.044Z"
   },
   {
    "duration": 175,
    "start_time": "2021-10-11T17:44:23.042Z"
   },
   {
    "duration": 402,
    "start_time": "2021-10-11T17:44:39.784Z"
   },
   {
    "duration": 22,
    "start_time": "2021-10-11T17:44:56.354Z"
   },
   {
    "duration": 30,
    "start_time": "2021-10-11T17:45:04.058Z"
   },
   {
    "duration": 178,
    "start_time": "2021-10-11T17:45:16.362Z"
   },
   {
    "duration": 168,
    "start_time": "2021-10-11T17:45:31.817Z"
   },
   {
    "duration": 424,
    "start_time": "2021-10-11T17:47:59.174Z"
   },
   {
    "duration": 184,
    "start_time": "2021-10-11T17:48:09.000Z"
   },
   {
    "duration": 199,
    "start_time": "2021-10-11T17:48:51.145Z"
   },
   {
    "duration": 201,
    "start_time": "2021-10-11T17:48:59.043Z"
   },
   {
    "duration": 404,
    "start_time": "2021-10-11T17:49:46.765Z"
   },
   {
    "duration": 516,
    "start_time": "2021-10-11T17:51:02.552Z"
   },
   {
    "duration": 401,
    "start_time": "2021-10-11T17:51:08.244Z"
   },
   {
    "duration": 246,
    "start_time": "2021-10-11T17:51:47.384Z"
   },
   {
    "duration": 339,
    "start_time": "2021-10-11T17:51:55.538Z"
   },
   {
    "duration": 339,
    "start_time": "2021-10-11T17:52:30.663Z"
   },
   {
    "duration": 371,
    "start_time": "2021-10-11T17:52:47.361Z"
   },
   {
    "duration": 248,
    "start_time": "2021-10-11T17:55:35.128Z"
   },
   {
    "duration": 526,
    "start_time": "2021-10-11T17:56:34.874Z"
   },
   {
    "duration": 373,
    "start_time": "2021-10-11T17:56:55.281Z"
   },
   {
    "duration": 694,
    "start_time": "2021-10-11T17:58:40.824Z"
   },
   {
    "duration": 397,
    "start_time": "2021-10-11T17:59:14.012Z"
   },
   {
    "duration": 271,
    "start_time": "2021-10-11T17:59:59.308Z"
   },
   {
    "duration": 522,
    "start_time": "2021-10-11T18:00:19.400Z"
   },
   {
    "duration": 648,
    "start_time": "2021-10-11T18:01:20.768Z"
   },
   {
    "duration": 538,
    "start_time": "2021-10-11T18:05:02.462Z"
   },
   {
    "duration": 670,
    "start_time": "2021-10-11T18:08:13.754Z"
   },
   {
    "duration": 510,
    "start_time": "2021-10-11T18:08:27.322Z"
   },
   {
    "duration": 947,
    "start_time": "2021-10-11T18:09:07.000Z"
   },
   {
    "duration": 632,
    "start_time": "2021-10-11T18:09:35.154Z"
   },
   {
    "duration": 770,
    "start_time": "2021-10-11T18:10:11.623Z"
   },
   {
    "duration": 814,
    "start_time": "2021-10-11T18:10:45.024Z"
   },
   {
    "duration": 11,
    "start_time": "2021-10-11T18:12:17.916Z"
   },
   {
    "duration": 25,
    "start_time": "2021-10-11T18:12:25.900Z"
   },
   {
    "duration": 31,
    "start_time": "2021-10-11T18:12:45.661Z"
   },
   {
    "duration": 31,
    "start_time": "2021-10-11T18:13:07.417Z"
   },
   {
    "duration": 32,
    "start_time": "2021-10-11T18:13:21.681Z"
   },
   {
    "duration": 30,
    "start_time": "2021-10-11T18:13:32.802Z"
   },
   {
    "duration": 33,
    "start_time": "2021-10-11T18:13:54.433Z"
   },
   {
    "duration": 108,
    "start_time": "2021-10-11T18:28:48.355Z"
   },
   {
    "duration": 14,
    "start_time": "2021-10-11T18:29:03.835Z"
   },
   {
    "duration": 16,
    "start_time": "2021-10-11T18:29:10.358Z"
   },
   {
    "duration": 19,
    "start_time": "2021-10-11T18:29:26.539Z"
   },
   {
    "duration": 17,
    "start_time": "2021-10-11T18:29:34.199Z"
   },
   {
    "duration": 50,
    "start_time": "2021-10-11T18:30:10.658Z"
   },
   {
    "duration": 18,
    "start_time": "2021-10-11T18:30:16.804Z"
   },
   {
    "duration": 537,
    "start_time": "2021-10-11T18:31:11.665Z"
   },
   {
    "duration": 224,
    "start_time": "2021-10-11T18:31:57.385Z"
   },
   {
    "duration": 256,
    "start_time": "2021-10-11T18:32:19.850Z"
   },
   {
    "duration": 20,
    "start_time": "2021-10-11T18:32:31.867Z"
   },
   {
    "duration": 24,
    "start_time": "2021-10-11T18:32:45.945Z"
   },
   {
    "duration": 24,
    "start_time": "2021-10-11T18:33:20.219Z"
   },
   {
    "duration": 34,
    "start_time": "2021-10-11T18:33:25.530Z"
   },
   {
    "duration": 31,
    "start_time": "2021-10-11T18:34:08.646Z"
   },
   {
    "duration": 31,
    "start_time": "2021-10-11T18:34:28.339Z"
   },
   {
    "duration": 28,
    "start_time": "2021-10-11T18:36:56.862Z"
   },
   {
    "duration": 27,
    "start_time": "2021-10-11T18:37:04.844Z"
   },
   {
    "duration": 335,
    "start_time": "2021-10-12T07:39:45.848Z"
   },
   {
    "duration": 1387,
    "start_time": "2021-10-12T07:39:58.789Z"
   },
   {
    "duration": 62,
    "start_time": "2021-10-12T07:40:00.179Z"
   },
   {
    "duration": 61,
    "start_time": "2021-10-12T07:40:00.244Z"
   },
   {
    "duration": 21,
    "start_time": "2021-10-12T07:40:00.308Z"
   },
   {
    "duration": 11,
    "start_time": "2021-10-12T07:40:00.332Z"
   },
   {
    "duration": 23,
    "start_time": "2021-10-12T07:40:00.346Z"
   },
   {
    "duration": 53,
    "start_time": "2021-10-12T07:40:00.372Z"
   },
   {
    "duration": 17,
    "start_time": "2021-10-12T07:40:00.429Z"
   },
   {
    "duration": 18,
    "start_time": "2021-10-12T07:40:00.449Z"
   },
   {
    "duration": 31,
    "start_time": "2021-10-12T07:40:00.469Z"
   },
   {
    "duration": 12,
    "start_time": "2021-10-12T07:40:00.503Z"
   },
   {
    "duration": 30,
    "start_time": "2021-10-12T07:40:00.517Z"
   },
   {
    "duration": 10,
    "start_time": "2021-10-12T07:40:00.549Z"
   },
   {
    "duration": 41,
    "start_time": "2021-10-12T07:40:00.561Z"
   },
   {
    "duration": 398,
    "start_time": "2021-10-12T07:40:00.605Z"
   },
   {
    "duration": 376,
    "start_time": "2021-10-12T07:40:01.005Z"
   },
   {
    "duration": 50,
    "start_time": "2021-10-12T08:35:44.885Z"
   },
   {
    "duration": 48,
    "start_time": "2021-10-12T08:36:13.130Z"
   },
   {
    "duration": 322,
    "start_time": "2021-10-12T08:36:32.993Z"
   },
   {
    "duration": 49,
    "start_time": "2021-10-12T08:36:45.201Z"
   },
   {
    "duration": 60,
    "start_time": "2021-10-12T08:52:43.586Z"
   },
   {
    "duration": 62,
    "start_time": "2021-10-12T09:01:15.089Z"
   },
   {
    "duration": 57,
    "start_time": "2021-10-12T09:01:44.009Z"
   },
   {
    "duration": 108,
    "start_time": "2021-10-12T09:18:50.620Z"
   },
   {
    "duration": 123,
    "start_time": "2021-10-12T09:50:42.603Z"
   },
   {
    "duration": 307,
    "start_time": "2021-10-12T10:16:46.570Z"
   },
   {
    "duration": 4,
    "start_time": "2021-10-12T10:16:54.761Z"
   },
   {
    "duration": 65,
    "start_time": "2021-10-12T10:16:54.768Z"
   },
   {
    "duration": 42,
    "start_time": "2021-10-12T10:16:54.836Z"
   },
   {
    "duration": 18,
    "start_time": "2021-10-12T10:16:54.900Z"
   },
   {
    "duration": 10,
    "start_time": "2021-10-12T10:16:54.920Z"
   },
   {
    "duration": 14,
    "start_time": "2021-10-12T10:16:54.932Z"
   },
   {
    "duration": 50,
    "start_time": "2021-10-12T10:16:54.950Z"
   },
   {
    "duration": 11,
    "start_time": "2021-10-12T10:16:55.003Z"
   },
   {
    "duration": 24,
    "start_time": "2021-10-12T10:16:55.016Z"
   },
   {
    "duration": 29,
    "start_time": "2021-10-12T10:16:55.043Z"
   },
   {
    "duration": 15,
    "start_time": "2021-10-12T10:16:55.074Z"
   },
   {
    "duration": 22,
    "start_time": "2021-10-12T10:16:55.101Z"
   },
   {
    "duration": 5,
    "start_time": "2021-10-12T10:16:55.125Z"
   },
   {
    "duration": 18,
    "start_time": "2021-10-12T10:16:55.132Z"
   },
   {
    "duration": 413,
    "start_time": "2021-10-12T10:16:55.152Z"
   },
   {
    "duration": 135,
    "start_time": "2021-10-12T10:16:55.568Z"
   },
   {
    "duration": 304,
    "start_time": "2021-10-12T10:16:55.705Z"
   },
   {
    "duration": 285,
    "start_time": "2021-10-12T10:17:58.214Z"
   },
   {
    "duration": 89,
    "start_time": "2021-10-12T10:18:16.920Z"
   },
   {
    "duration": 94,
    "start_time": "2021-10-12T10:18:26.386Z"
   },
   {
    "duration": 279,
    "start_time": "2021-10-12T10:18:42.800Z"
   },
   {
    "duration": 97,
    "start_time": "2021-10-12T10:38:16.783Z"
   },
   {
    "duration": 106,
    "start_time": "2021-10-12T10:38:41.663Z"
   },
   {
    "duration": 459,
    "start_time": "2021-10-12T10:38:49.102Z"
   },
   {
    "duration": 678,
    "start_time": "2021-10-12T10:39:05.493Z"
   },
   {
    "duration": 722,
    "start_time": "2021-10-12T10:39:44.508Z"
   },
   {
    "duration": 648,
    "start_time": "2021-10-12T10:42:18.823Z"
   },
   {
    "duration": 4,
    "start_time": "2021-10-12T10:42:24.437Z"
   },
   {
    "duration": 67,
    "start_time": "2021-10-12T10:42:24.443Z"
   },
   {
    "duration": 50,
    "start_time": "2021-10-12T10:42:24.515Z"
   },
   {
    "duration": 44,
    "start_time": "2021-10-12T10:42:24.568Z"
   },
   {
    "duration": 10,
    "start_time": "2021-10-12T10:42:24.615Z"
   },
   {
    "duration": 9,
    "start_time": "2021-10-12T10:42:24.628Z"
   },
   {
    "duration": 23,
    "start_time": "2021-10-12T10:42:24.639Z"
   },
   {
    "duration": 44,
    "start_time": "2021-10-12T10:42:24.665Z"
   },
   {
    "duration": 9,
    "start_time": "2021-10-12T10:42:24.713Z"
   },
   {
    "duration": 14,
    "start_time": "2021-10-12T10:42:24.724Z"
   },
   {
    "duration": 15,
    "start_time": "2021-10-12T10:42:24.740Z"
   },
   {
    "duration": 51,
    "start_time": "2021-10-12T10:42:24.758Z"
   },
   {
    "duration": 5,
    "start_time": "2021-10-12T10:42:24.812Z"
   },
   {
    "duration": 16,
    "start_time": "2021-10-12T10:42:24.819Z"
   },
   {
    "duration": 412,
    "start_time": "2021-10-12T10:42:24.837Z"
   },
   {
    "duration": 122,
    "start_time": "2021-10-12T10:42:25.252Z"
   },
   {
    "duration": 678,
    "start_time": "2021-10-12T10:42:25.376Z"
   },
   {
    "duration": 663,
    "start_time": "2021-10-12T10:42:49.232Z"
   },
   {
    "duration": 279,
    "start_time": "2021-10-12T10:44:13.987Z"
   },
   {
    "duration": 298,
    "start_time": "2021-10-12T10:44:28.376Z"
   },
   {
    "duration": 291,
    "start_time": "2021-10-12T10:44:43.809Z"
   },
   {
    "duration": 278,
    "start_time": "2021-10-12T10:44:50.120Z"
   },
   {
    "duration": 567,
    "start_time": "2021-10-12T10:44:59.157Z"
   },
   {
    "duration": 9478,
    "start_time": "2021-10-12T10:48:09.042Z"
   },
   {
    "duration": 916,
    "start_time": "2021-10-12T10:50:52.258Z"
   },
   {
    "duration": 14,
    "start_time": "2021-10-12T10:51:35.901Z"
   },
   {
    "duration": 277,
    "start_time": "2021-10-12T10:51:56.205Z"
   },
   {
    "duration": 19,
    "start_time": "2021-10-12T10:52:32.697Z"
   },
   {
    "duration": 22,
    "start_time": "2021-10-12T10:53:17.803Z"
   },
   {
    "duration": 37,
    "start_time": "2021-10-12T10:55:51.314Z"
   },
   {
    "duration": 14,
    "start_time": "2021-10-12T10:56:08.685Z"
   },
   {
    "duration": 17,
    "start_time": "2021-10-12T12:05:55.196Z"
   },
   {
    "duration": 62,
    "start_time": "2021-10-12T12:06:23.536Z"
   },
   {
    "duration": 19,
    "start_time": "2021-10-12T12:09:16.424Z"
   },
   {
    "duration": 30,
    "start_time": "2021-10-12T12:09:35.783Z"
   },
   {
    "duration": 4100,
    "start_time": "2021-10-12T12:49:18.068Z"
   },
   {
    "duration": 456,
    "start_time": "2021-10-12T12:49:36.823Z"
   },
   {
    "duration": 3031,
    "start_time": "2021-10-12T12:50:12.849Z"
   },
   {
    "duration": 3457,
    "start_time": "2021-10-12T12:51:09.483Z"
   },
   {
    "duration": 3307,
    "start_time": "2021-10-12T12:51:18.293Z"
   },
   {
    "duration": 4051,
    "start_time": "2021-10-12T12:51:31.489Z"
   },
   {
    "duration": 39,
    "start_time": "2021-10-12T12:58:13.646Z"
   },
   {
    "duration": 4,
    "start_time": "2021-10-12T12:58:24.772Z"
   },
   {
    "duration": 65,
    "start_time": "2021-10-12T12:58:24.778Z"
   },
   {
    "duration": 61,
    "start_time": "2021-10-12T12:58:24.846Z"
   },
   {
    "duration": 20,
    "start_time": "2021-10-12T12:58:24.910Z"
   },
   {
    "duration": 10,
    "start_time": "2021-10-12T12:58:24.932Z"
   },
   {
    "duration": 18,
    "start_time": "2021-10-12T12:58:24.945Z"
   },
   {
    "duration": 53,
    "start_time": "2021-10-12T12:58:24.965Z"
   },
   {
    "duration": 9,
    "start_time": "2021-10-12T12:58:25.021Z"
   },
   {
    "duration": 10,
    "start_time": "2021-10-12T12:58:25.034Z"
   },
   {
    "duration": 14,
    "start_time": "2021-10-12T12:58:25.047Z"
   },
   {
    "duration": 12,
    "start_time": "2021-10-12T12:58:25.100Z"
   },
   {
    "duration": 21,
    "start_time": "2021-10-12T12:58:25.115Z"
   },
   {
    "duration": 6,
    "start_time": "2021-10-12T12:58:25.138Z"
   },
   {
    "duration": 16,
    "start_time": "2021-10-12T12:58:25.146Z"
   },
   {
    "duration": 383,
    "start_time": "2021-10-12T12:58:25.200Z"
   },
   {
    "duration": 126,
    "start_time": "2021-10-12T12:58:25.586Z"
   },
   {
    "duration": 38,
    "start_time": "2021-10-12T12:58:25.714Z"
   },
   {
    "duration": 14,
    "start_time": "2021-10-12T12:58:25.755Z"
   },
   {
    "duration": 66,
    "start_time": "2021-10-12T12:58:25.800Z"
   },
   {
    "duration": 46,
    "start_time": "2021-10-12T12:58:25.869Z"
   },
   {
    "duration": 3145,
    "start_time": "2021-10-12T12:58:25.918Z"
   },
   {
    "duration": 4,
    "start_time": "2021-10-12T12:59:37.185Z"
   },
   {
    "duration": 64,
    "start_time": "2021-10-12T12:59:37.194Z"
   },
   {
    "duration": 56,
    "start_time": "2021-10-12T12:59:37.261Z"
   },
   {
    "duration": 19,
    "start_time": "2021-10-12T12:59:37.320Z"
   },
   {
    "duration": 10,
    "start_time": "2021-10-12T12:59:37.342Z"
   },
   {
    "duration": 9,
    "start_time": "2021-10-12T12:59:37.354Z"
   },
   {
    "duration": 24,
    "start_time": "2021-10-12T12:59:37.401Z"
   },
   {
    "duration": 9,
    "start_time": "2021-10-12T12:59:37.427Z"
   },
   {
    "duration": 18,
    "start_time": "2021-10-12T12:59:37.440Z"
   },
   {
    "duration": 42,
    "start_time": "2021-10-12T12:59:37.460Z"
   },
   {
    "duration": 16,
    "start_time": "2021-10-12T12:59:37.504Z"
   },
   {
    "duration": 27,
    "start_time": "2021-10-12T12:59:37.522Z"
   },
   {
    "duration": 5,
    "start_time": "2021-10-12T12:59:37.552Z"
   },
   {
    "duration": 18,
    "start_time": "2021-10-12T12:59:37.559Z"
   },
   {
    "duration": 392,
    "start_time": "2021-10-12T12:59:37.601Z"
   },
   {
    "duration": 130,
    "start_time": "2021-10-12T12:59:37.996Z"
   },
   {
    "duration": 38,
    "start_time": "2021-10-12T12:59:38.129Z"
   },
   {
    "duration": 34,
    "start_time": "2021-10-12T12:59:38.169Z"
   },
   {
    "duration": 64,
    "start_time": "2021-10-12T12:59:38.205Z"
   },
   {
    "duration": 49,
    "start_time": "2021-10-12T12:59:38.272Z"
   },
   {
    "duration": 3388,
    "start_time": "2021-10-12T12:59:38.324Z"
   },
   {
    "duration": 7577,
    "start_time": "2021-10-12T13:12:51.796Z"
   },
   {
    "duration": 7094,
    "start_time": "2021-10-12T13:13:18.776Z"
   },
   {
    "duration": 6933,
    "start_time": "2021-10-12T13:15:04.627Z"
   },
   {
    "duration": 9,
    "start_time": "2021-10-12T13:17:25.775Z"
   },
   {
    "duration": 382,
    "start_time": "2021-10-12T13:26:56.985Z"
   },
   {
    "duration": 39,
    "start_time": "2021-10-12T13:47:10.211Z"
   },
   {
    "duration": 36,
    "start_time": "2021-10-12T13:48:48.716Z"
   },
   {
    "duration": 4,
    "start_time": "2021-10-12T13:48:53.657Z"
   },
   {
    "duration": 59,
    "start_time": "2021-10-12T13:48:53.664Z"
   },
   {
    "duration": 44,
    "start_time": "2021-10-12T13:48:53.726Z"
   },
   {
    "duration": 40,
    "start_time": "2021-10-12T13:48:53.773Z"
   },
   {
    "duration": 10,
    "start_time": "2021-10-12T13:48:53.816Z"
   },
   {
    "duration": 11,
    "start_time": "2021-10-12T13:48:53.828Z"
   },
   {
    "duration": 23,
    "start_time": "2021-10-12T13:48:53.841Z"
   },
   {
    "duration": 43,
    "start_time": "2021-10-12T13:48:53.866Z"
   },
   {
    "duration": 9,
    "start_time": "2021-10-12T13:48:53.913Z"
   },
   {
    "duration": 14,
    "start_time": "2021-10-12T13:48:53.924Z"
   },
   {
    "duration": 19,
    "start_time": "2021-10-12T13:48:53.940Z"
   },
   {
    "duration": 55,
    "start_time": "2021-10-12T13:48:53.961Z"
   },
   {
    "duration": 5,
    "start_time": "2021-10-12T13:48:54.019Z"
   },
   {
    "duration": 18,
    "start_time": "2021-10-12T13:48:54.026Z"
   },
   {
    "duration": 405,
    "start_time": "2021-10-12T13:48:54.046Z"
   },
   {
    "duration": 123,
    "start_time": "2021-10-12T13:48:54.453Z"
   },
   {
    "duration": 54,
    "start_time": "2021-10-12T13:48:54.579Z"
   },
   {
    "duration": 8,
    "start_time": "2021-10-12T13:48:54.636Z"
   },
   {
    "duration": 83,
    "start_time": "2021-10-12T13:48:54.646Z"
   },
   {
    "duration": 29,
    "start_time": "2021-10-12T13:48:54.732Z"
   },
   {
    "duration": 3254,
    "start_time": "2021-10-12T13:48:54.764Z"
   },
   {
    "duration": 41,
    "start_time": "2021-10-12T13:48:58.021Z"
   },
   {
    "duration": 43,
    "start_time": "2021-10-12T13:50:43.979Z"
   },
   {
    "duration": 4,
    "start_time": "2021-10-12T13:50:55.854Z"
   },
   {
    "duration": 77,
    "start_time": "2021-10-12T13:50:55.861Z"
   },
   {
    "duration": 59,
    "start_time": "2021-10-12T13:50:55.942Z"
   },
   {
    "duration": 20,
    "start_time": "2021-10-12T13:50:56.004Z"
   },
   {
    "duration": 13,
    "start_time": "2021-10-12T13:50:56.027Z"
   },
   {
    "duration": 26,
    "start_time": "2021-10-12T13:50:56.043Z"
   },
   {
    "duration": 52,
    "start_time": "2021-10-12T13:50:56.074Z"
   },
   {
    "duration": 15,
    "start_time": "2021-10-12T13:50:56.130Z"
   },
   {
    "duration": 19,
    "start_time": "2021-10-12T13:50:56.148Z"
   },
   {
    "duration": 34,
    "start_time": "2021-10-12T13:50:56.169Z"
   },
   {
    "duration": 17,
    "start_time": "2021-10-12T13:50:56.206Z"
   },
   {
    "duration": 22,
    "start_time": "2021-10-12T13:50:56.226Z"
   },
   {
    "duration": 5,
    "start_time": "2021-10-12T13:50:56.251Z"
   },
   {
    "duration": 57,
    "start_time": "2021-10-12T13:50:56.259Z"
   },
   {
    "duration": 409,
    "start_time": "2021-10-12T13:50:56.319Z"
   },
   {
    "duration": 239,
    "start_time": "2021-10-12T13:50:56.730Z"
   },
   {
    "duration": 58,
    "start_time": "2021-10-12T13:50:56.971Z"
   },
   {
    "duration": 8,
    "start_time": "2021-10-12T13:50:57.031Z"
   },
   {
    "duration": 82,
    "start_time": "2021-10-12T13:50:57.043Z"
   },
   {
    "duration": 28,
    "start_time": "2021-10-12T13:50:57.128Z"
   },
   {
    "duration": 3286,
    "start_time": "2021-10-12T13:50:57.158Z"
   },
   {
    "duration": 53,
    "start_time": "2021-10-12T13:51:00.447Z"
   },
   {
    "duration": 6,
    "start_time": "2021-10-12T13:51:10.908Z"
   },
   {
    "duration": 61,
    "start_time": "2021-10-12T13:51:10.916Z"
   },
   {
    "duration": 55,
    "start_time": "2021-10-12T13:51:10.980Z"
   },
   {
    "duration": 19,
    "start_time": "2021-10-12T13:51:11.038Z"
   },
   {
    "duration": 10,
    "start_time": "2021-10-12T13:51:11.060Z"
   },
   {
    "duration": 10,
    "start_time": "2021-10-12T13:51:11.100Z"
   },
   {
    "duration": 24,
    "start_time": "2021-10-12T13:51:11.112Z"
   },
   {
    "duration": 11,
    "start_time": "2021-10-12T13:51:11.139Z"
   },
   {
    "duration": 49,
    "start_time": "2021-10-12T13:51:11.156Z"
   },
   {
    "duration": 11,
    "start_time": "2021-10-12T13:51:11.209Z"
   },
   {
    "duration": 13,
    "start_time": "2021-10-12T13:51:11.223Z"
   },
   {
    "duration": 18,
    "start_time": "2021-10-12T13:51:11.239Z"
   },
   {
    "duration": 44,
    "start_time": "2021-10-12T13:51:11.259Z"
   },
   {
    "duration": 22,
    "start_time": "2021-10-12T13:51:11.305Z"
   },
   {
    "duration": 496,
    "start_time": "2021-10-12T13:51:11.330Z"
   },
   {
    "duration": 122,
    "start_time": "2021-10-12T13:51:11.828Z"
   },
   {
    "duration": 54,
    "start_time": "2021-10-12T13:51:11.952Z"
   },
   {
    "duration": 9,
    "start_time": "2021-10-12T13:51:12.008Z"
   },
   {
    "duration": 83,
    "start_time": "2021-10-12T13:51:12.019Z"
   },
   {
    "duration": 30,
    "start_time": "2021-10-12T13:51:12.105Z"
   },
   {
    "duration": 3252,
    "start_time": "2021-10-12T13:51:12.138Z"
   },
   {
    "duration": 37,
    "start_time": "2021-10-12T13:51:15.400Z"
   },
   {
    "duration": 42,
    "start_time": "2021-10-12T13:53:05.279Z"
   },
   {
    "duration": 4,
    "start_time": "2021-10-12T13:53:20.562Z"
   },
   {
    "duration": 65,
    "start_time": "2021-10-12T13:53:20.570Z"
   },
   {
    "duration": 45,
    "start_time": "2021-10-12T13:53:20.639Z"
   },
   {
    "duration": 18,
    "start_time": "2021-10-12T13:53:20.701Z"
   },
   {
    "duration": 11,
    "start_time": "2021-10-12T13:53:20.721Z"
   },
   {
    "duration": 19,
    "start_time": "2021-10-12T13:53:20.734Z"
   },
   {
    "duration": 173,
    "start_time": "2021-10-12T13:53:20.755Z"
   },
   {
    "duration": 9,
    "start_time": "2021-10-12T13:53:20.932Z"
   },
   {
    "duration": 21,
    "start_time": "2021-10-12T13:53:20.945Z"
   },
   {
    "duration": 39,
    "start_time": "2021-10-12T13:53:20.969Z"
   },
   {
    "duration": 22,
    "start_time": "2021-10-12T13:53:21.012Z"
   },
   {
    "duration": 37,
    "start_time": "2021-10-12T13:53:21.037Z"
   },
   {
    "duration": 25,
    "start_time": "2021-10-12T13:53:21.077Z"
   },
   {
    "duration": 32,
    "start_time": "2021-10-12T13:53:21.105Z"
   },
   {
    "duration": 441,
    "start_time": "2021-10-12T13:53:21.140Z"
   },
   {
    "duration": 134,
    "start_time": "2021-10-12T13:53:21.584Z"
   },
   {
    "duration": 40,
    "start_time": "2021-10-12T13:53:21.721Z"
   },
   {
    "duration": 8,
    "start_time": "2021-10-12T13:53:21.764Z"
   },
   {
    "duration": 61,
    "start_time": "2021-10-12T13:53:21.801Z"
   },
   {
    "duration": 52,
    "start_time": "2021-10-12T13:53:21.864Z"
   },
   {
    "duration": 3391,
    "start_time": "2021-10-12T13:53:21.918Z"
   },
   {
    "duration": 33,
    "start_time": "2021-10-12T13:53:25.312Z"
   },
   {
    "duration": 4,
    "start_time": "2021-10-12T13:53:38.788Z"
   },
   {
    "duration": 152,
    "start_time": "2021-10-12T13:53:38.795Z"
   },
   {
    "duration": 55,
    "start_time": "2021-10-12T13:53:38.950Z"
   },
   {
    "duration": 24,
    "start_time": "2021-10-12T13:53:39.008Z"
   },
   {
    "duration": 15,
    "start_time": "2021-10-12T13:53:39.035Z"
   },
   {
    "duration": 49,
    "start_time": "2021-10-12T13:53:39.053Z"
   },
   {
    "duration": 26,
    "start_time": "2021-10-12T13:53:39.107Z"
   },
   {
    "duration": 11,
    "start_time": "2021-10-12T13:53:39.137Z"
   },
   {
    "duration": 51,
    "start_time": "2021-10-12T13:53:39.151Z"
   },
   {
    "duration": 16,
    "start_time": "2021-10-12T13:53:39.206Z"
   },
   {
    "duration": 16,
    "start_time": "2021-10-12T13:53:39.225Z"
   },
   {
    "duration": 23,
    "start_time": "2021-10-12T13:53:39.244Z"
   },
   {
    "duration": 8,
    "start_time": "2021-10-12T13:53:39.302Z"
   },
   {
    "duration": 19,
    "start_time": "2021-10-12T13:53:39.312Z"
   },
   {
    "duration": 439,
    "start_time": "2021-10-12T13:53:39.334Z"
   },
   {
    "duration": 186,
    "start_time": "2021-10-12T13:53:39.777Z"
   },
   {
    "duration": 76,
    "start_time": "2021-10-12T13:53:39.966Z"
   },
   {
    "duration": 9,
    "start_time": "2021-10-12T13:53:40.044Z"
   },
   {
    "duration": 85,
    "start_time": "2021-10-12T13:53:40.057Z"
   },
   {
    "duration": 55,
    "start_time": "2021-10-12T13:53:40.146Z"
   },
   {
    "duration": 3550,
    "start_time": "2021-10-12T13:53:40.204Z"
   },
   {
    "duration": 46,
    "start_time": "2021-10-12T13:53:43.756Z"
   },
   {
    "duration": 4,
    "start_time": "2021-10-12T13:54:08.640Z"
   },
   {
    "duration": 64,
    "start_time": "2021-10-12T13:54:08.646Z"
   },
   {
    "duration": 41,
    "start_time": "2021-10-12T13:54:08.713Z"
   },
   {
    "duration": 16,
    "start_time": "2021-10-12T13:54:08.757Z"
   },
   {
    "duration": 30,
    "start_time": "2021-10-12T13:54:08.776Z"
   },
   {
    "duration": 11,
    "start_time": "2021-10-12T13:54:08.808Z"
   },
   {
    "duration": 23,
    "start_time": "2021-10-12T13:54:08.821Z"
   },
   {
    "duration": 9,
    "start_time": "2021-10-12T13:54:08.846Z"
   },
   {
    "duration": 46,
    "start_time": "2021-10-12T13:54:08.859Z"
   },
   {
    "duration": 11,
    "start_time": "2021-10-12T13:54:08.907Z"
   },
   {
    "duration": 12,
    "start_time": "2021-10-12T13:54:08.920Z"
   },
   {
    "duration": 20,
    "start_time": "2021-10-12T13:54:08.935Z"
   },
   {
    "duration": 5,
    "start_time": "2021-10-12T13:54:08.957Z"
   },
   {
    "duration": 15,
    "start_time": "2021-10-12T13:54:09.000Z"
   },
   {
    "duration": 410,
    "start_time": "2021-10-12T13:54:09.017Z"
   },
   {
    "duration": 125,
    "start_time": "2021-10-12T13:54:09.429Z"
   },
   {
    "duration": 64,
    "start_time": "2021-10-12T13:54:09.556Z"
   },
   {
    "duration": 9,
    "start_time": "2021-10-12T13:54:09.622Z"
   },
   {
    "duration": 88,
    "start_time": "2021-10-12T13:54:09.633Z"
   },
   {
    "duration": 29,
    "start_time": "2021-10-12T13:54:09.723Z"
   },
   {
    "duration": 3352,
    "start_time": "2021-10-12T13:54:09.755Z"
   },
   {
    "duration": 34,
    "start_time": "2021-10-12T13:54:13.109Z"
   },
   {
    "duration": 3,
    "start_time": "2021-10-12T13:54:45.665Z"
   },
   {
    "duration": 65,
    "start_time": "2021-10-12T13:54:45.671Z"
   },
   {
    "duration": 44,
    "start_time": "2021-10-12T13:54:45.739Z"
   },
   {
    "duration": 31,
    "start_time": "2021-10-12T13:54:45.786Z"
   },
   {
    "duration": 9,
    "start_time": "2021-10-12T13:54:45.820Z"
   },
   {
    "duration": 10,
    "start_time": "2021-10-12T13:54:45.832Z"
   },
   {
    "duration": 63,
    "start_time": "2021-10-12T13:54:45.844Z"
   },
   {
    "duration": 12,
    "start_time": "2021-10-12T13:54:45.909Z"
   },
   {
    "duration": 9,
    "start_time": "2021-10-12T13:54:45.925Z"
   },
   {
    "duration": 11,
    "start_time": "2021-10-12T13:54:45.937Z"
   },
   {
    "duration": 50,
    "start_time": "2021-10-12T13:54:45.950Z"
   },
   {
    "duration": 21,
    "start_time": "2021-10-12T13:54:46.003Z"
   },
   {
    "duration": 6,
    "start_time": "2021-10-12T13:54:46.026Z"
   },
   {
    "duration": 19,
    "start_time": "2021-10-12T13:54:46.034Z"
   },
   {
    "duration": 420,
    "start_time": "2021-10-12T13:54:46.055Z"
   },
   {
    "duration": 136,
    "start_time": "2021-10-12T13:54:46.477Z"
   },
   {
    "duration": 38,
    "start_time": "2021-10-12T13:54:46.616Z"
   },
   {
    "duration": 8,
    "start_time": "2021-10-12T13:54:46.657Z"
   },
   {
    "duration": 88,
    "start_time": "2021-10-12T13:54:46.667Z"
   },
   {
    "duration": 49,
    "start_time": "2021-10-12T13:54:46.757Z"
   },
   {
    "duration": 3513,
    "start_time": "2021-10-12T13:54:46.808Z"
   },
   {
    "duration": 37,
    "start_time": "2021-10-12T13:54:50.323Z"
   },
   {
    "duration": 10,
    "start_time": "2021-10-12T13:58:48.591Z"
   },
   {
    "duration": 16,
    "start_time": "2021-10-12T13:58:57.309Z"
   },
   {
    "duration": 65,
    "start_time": "2021-10-12T14:01:34.172Z"
   },
   {
    "duration": 3464,
    "start_time": "2021-10-12T14:02:28.641Z"
   },
   {
    "duration": 41,
    "start_time": "2021-10-12T14:17:12.877Z"
   },
   {
    "duration": 30,
    "start_time": "2021-10-12T14:31:45.034Z"
   },
   {
    "duration": 113,
    "start_time": "2021-10-12T14:42:48.137Z"
   },
   {
    "duration": 8,
    "start_time": "2021-10-12T14:43:12.320Z"
   },
   {
    "duration": 13,
    "start_time": "2021-10-12T14:43:22.489Z"
   },
   {
    "duration": 20,
    "start_time": "2021-10-12T14:48:04.924Z"
   },
   {
    "duration": 22,
    "start_time": "2021-10-12T14:48:17.950Z"
   },
   {
    "duration": 25,
    "start_time": "2021-10-12T14:49:17.065Z"
   },
   {
    "duration": 4,
    "start_time": "2021-10-12T14:49:36.373Z"
   },
   {
    "duration": 62,
    "start_time": "2021-10-12T14:49:36.380Z"
   },
   {
    "duration": 42,
    "start_time": "2021-10-12T14:49:36.445Z"
   },
   {
    "duration": 18,
    "start_time": "2021-10-12T14:49:36.500Z"
   },
   {
    "duration": 10,
    "start_time": "2021-10-12T14:49:36.520Z"
   },
   {
    "duration": 16,
    "start_time": "2021-10-12T14:49:36.532Z"
   },
   {
    "duration": 57,
    "start_time": "2021-10-12T14:49:36.550Z"
   },
   {
    "duration": 9,
    "start_time": "2021-10-12T14:49:36.609Z"
   },
   {
    "duration": 15,
    "start_time": "2021-10-12T14:49:36.622Z"
   },
   {
    "duration": 13,
    "start_time": "2021-10-12T14:49:36.640Z"
   },
   {
    "duration": 16,
    "start_time": "2021-10-12T14:49:36.656Z"
   },
   {
    "duration": 21,
    "start_time": "2021-10-12T14:49:36.701Z"
   },
   {
    "duration": 5,
    "start_time": "2021-10-12T14:49:36.725Z"
   },
   {
    "duration": 18,
    "start_time": "2021-10-12T14:49:36.732Z"
   },
   {
    "duration": 422,
    "start_time": "2021-10-12T14:49:36.752Z"
   },
   {
    "duration": 134,
    "start_time": "2021-10-12T14:49:37.176Z"
   },
   {
    "duration": 38,
    "start_time": "2021-10-12T14:49:37.312Z"
   },
   {
    "duration": 71,
    "start_time": "2021-10-12T14:49:37.353Z"
   },
   {
    "duration": 6968,
    "start_time": "2021-10-12T14:56:20.325Z"
   },
   {
    "duration": 7056,
    "start_time": "2021-10-12T14:57:11.016Z"
   },
   {
    "duration": 12506,
    "start_time": "2021-10-12T14:58:17.003Z"
   },
   {
    "duration": 12503,
    "start_time": "2021-10-12T14:58:17.007Z"
   },
   {
    "duration": 12504,
    "start_time": "2021-10-12T14:58:17.008Z"
   },
   {
    "duration": 12504,
    "start_time": "2021-10-12T14:58:17.010Z"
   },
   {
    "duration": 12504,
    "start_time": "2021-10-12T14:58:17.011Z"
   },
   {
    "duration": 12502,
    "start_time": "2021-10-12T14:58:17.015Z"
   },
   {
    "duration": 12500,
    "start_time": "2021-10-12T14:58:17.018Z"
   },
   {
    "duration": 12500,
    "start_time": "2021-10-12T14:58:17.019Z"
   },
   {
    "duration": 12487,
    "start_time": "2021-10-12T14:58:17.034Z"
   },
   {
    "duration": 12487,
    "start_time": "2021-10-12T14:58:17.035Z"
   },
   {
    "duration": 12488,
    "start_time": "2021-10-12T14:58:17.036Z"
   },
   {
    "duration": 12489,
    "start_time": "2021-10-12T14:58:17.037Z"
   },
   {
    "duration": 12488,
    "start_time": "2021-10-12T14:58:17.039Z"
   },
   {
    "duration": 12488,
    "start_time": "2021-10-12T14:58:17.041Z"
   },
   {
    "duration": 12483,
    "start_time": "2021-10-12T14:58:17.047Z"
   },
   {
    "duration": 12484,
    "start_time": "2021-10-12T14:58:17.048Z"
   },
   {
    "duration": 12485,
    "start_time": "2021-10-12T14:58:17.049Z"
   },
   {
    "duration": 12484,
    "start_time": "2021-10-12T14:58:17.051Z"
   },
   {
    "duration": 4,
    "start_time": "2021-10-12T14:59:25.692Z"
   },
   {
    "duration": 62,
    "start_time": "2021-10-12T14:59:25.699Z"
   },
   {
    "duration": 55,
    "start_time": "2021-10-12T14:59:25.765Z"
   },
   {
    "duration": 18,
    "start_time": "2021-10-12T14:59:25.824Z"
   },
   {
    "duration": 11,
    "start_time": "2021-10-12T14:59:25.844Z"
   },
   {
    "duration": 9,
    "start_time": "2021-10-12T14:59:25.857Z"
   },
   {
    "duration": 51,
    "start_time": "2021-10-12T14:59:25.870Z"
   },
   {
    "duration": 9,
    "start_time": "2021-10-12T14:59:25.924Z"
   },
   {
    "duration": 16,
    "start_time": "2021-10-12T14:59:25.935Z"
   },
   {
    "duration": 11,
    "start_time": "2021-10-12T14:59:25.954Z"
   },
   {
    "duration": 12,
    "start_time": "2021-10-12T14:59:26.001Z"
   },
   {
    "duration": 21,
    "start_time": "2021-10-12T14:59:26.016Z"
   },
   {
    "duration": 5,
    "start_time": "2021-10-12T14:59:26.040Z"
   },
   {
    "duration": 17,
    "start_time": "2021-10-12T14:59:26.047Z"
   },
   {
    "duration": 396,
    "start_time": "2021-10-12T14:59:26.100Z"
   },
   {
    "duration": 132,
    "start_time": "2021-10-12T14:59:26.501Z"
   },
   {
    "duration": 39,
    "start_time": "2021-10-12T14:59:26.635Z"
   },
   {
    "duration": 7049,
    "start_time": "2021-10-12T14:59:26.676Z"
   },
   {
    "duration": 6738,
    "start_time": "2021-10-12T14:59:53.569Z"
   },
   {
    "duration": 49,
    "start_time": "2021-10-12T15:00:12.303Z"
   },
   {
    "duration": 49,
    "start_time": "2021-10-12T15:02:20.159Z"
   },
   {
    "duration": 4,
    "start_time": "2021-10-12T15:02:30.198Z"
   },
   {
    "duration": 68,
    "start_time": "2021-10-12T15:02:30.205Z"
   },
   {
    "duration": 61,
    "start_time": "2021-10-12T15:02:30.277Z"
   },
   {
    "duration": 18,
    "start_time": "2021-10-12T15:02:30.342Z"
   },
   {
    "duration": 11,
    "start_time": "2021-10-12T15:02:30.362Z"
   },
   {
    "duration": 8,
    "start_time": "2021-10-12T15:02:30.402Z"
   },
   {
    "duration": 33,
    "start_time": "2021-10-12T15:02:30.413Z"
   },
   {
    "duration": 10,
    "start_time": "2021-10-12T15:02:30.449Z"
   },
   {
    "duration": 44,
    "start_time": "2021-10-12T15:02:30.462Z"
   },
   {
    "duration": 10,
    "start_time": "2021-10-12T15:02:30.509Z"
   },
   {
    "duration": 27,
    "start_time": "2021-10-12T15:02:30.521Z"
   },
   {
    "duration": 39,
    "start_time": "2021-10-12T15:02:30.551Z"
   },
   {
    "duration": 15,
    "start_time": "2021-10-12T15:02:30.593Z"
   },
   {
    "duration": 24,
    "start_time": "2021-10-12T15:02:30.611Z"
   },
   {
    "duration": 399,
    "start_time": "2021-10-12T15:02:30.638Z"
   },
   {
    "duration": 123,
    "start_time": "2021-10-12T15:02:31.040Z"
   },
   {
    "duration": 58,
    "start_time": "2021-10-12T15:02:31.165Z"
   },
   {
    "duration": 44,
    "start_time": "2021-10-12T15:02:31.225Z"
   },
   {
    "duration": 4,
    "start_time": "2021-10-12T15:03:14.590Z"
   },
   {
    "duration": 66,
    "start_time": "2021-10-12T15:03:14.597Z"
   },
   {
    "duration": 46,
    "start_time": "2021-10-12T15:03:14.666Z"
   },
   {
    "duration": 19,
    "start_time": "2021-10-12T15:03:14.715Z"
   },
   {
    "duration": 10,
    "start_time": "2021-10-12T15:03:14.736Z"
   },
   {
    "duration": 12,
    "start_time": "2021-10-12T15:03:14.748Z"
   },
   {
    "duration": 56,
    "start_time": "2021-10-12T15:03:14.762Z"
   },
   {
    "duration": 9,
    "start_time": "2021-10-12T15:03:14.821Z"
   },
   {
    "duration": 11,
    "start_time": "2021-10-12T15:03:14.833Z"
   },
   {
    "duration": 11,
    "start_time": "2021-10-12T15:03:14.846Z"
   },
   {
    "duration": 49,
    "start_time": "2021-10-12T15:03:14.859Z"
   },
   {
    "duration": 20,
    "start_time": "2021-10-12T15:03:14.910Z"
   },
   {
    "duration": 11,
    "start_time": "2021-10-12T15:03:14.932Z"
   },
   {
    "duration": 20,
    "start_time": "2021-10-12T15:03:14.945Z"
   },
   {
    "duration": 422,
    "start_time": "2021-10-12T15:03:14.967Z"
   },
   {
    "duration": 273,
    "start_time": "2021-10-12T15:03:15.391Z"
   },
   {
    "duration": 58,
    "start_time": "2021-10-12T15:03:15.666Z"
   },
   {
    "duration": 47,
    "start_time": "2021-10-12T15:03:15.726Z"
   },
   {
    "duration": 5,
    "start_time": "2021-10-12T15:05:45.359Z"
   },
   {
    "duration": 82,
    "start_time": "2021-10-12T15:05:45.367Z"
   },
   {
    "duration": 69,
    "start_time": "2021-10-12T15:05:45.453Z"
   },
   {
    "duration": 26,
    "start_time": "2021-10-12T15:05:45.526Z"
   },
   {
    "duration": 14,
    "start_time": "2021-10-12T15:05:45.555Z"
   },
   {
    "duration": 35,
    "start_time": "2021-10-12T15:05:45.572Z"
   },
   {
    "duration": 26,
    "start_time": "2021-10-12T15:05:45.610Z"
   },
   {
    "duration": 11,
    "start_time": "2021-10-12T15:05:45.638Z"
   },
   {
    "duration": 49,
    "start_time": "2021-10-12T15:05:45.653Z"
   },
   {
    "duration": 10,
    "start_time": "2021-10-12T15:05:45.705Z"
   },
   {
    "duration": 14,
    "start_time": "2021-10-12T15:05:45.718Z"
   },
   {
    "duration": 21,
    "start_time": "2021-10-12T15:05:45.734Z"
   },
   {
    "duration": 5,
    "start_time": "2021-10-12T15:05:45.758Z"
   },
   {
    "duration": 14,
    "start_time": "2021-10-12T15:05:45.802Z"
   },
   {
    "duration": 427,
    "start_time": "2021-10-12T15:05:45.819Z"
   },
   {
    "duration": 128,
    "start_time": "2021-10-12T15:05:46.249Z"
   },
   {
    "duration": 56,
    "start_time": "2021-10-12T15:05:46.379Z"
   },
   {
    "duration": 76,
    "start_time": "2021-10-12T15:05:46.437Z"
   },
   {
    "duration": 31,
    "start_time": "2021-10-12T15:05:46.516Z"
   },
   {
    "duration": 31,
    "start_time": "2021-10-12T15:07:48.809Z"
   },
   {
    "duration": 322,
    "start_time": "2021-10-12T15:09:00.450Z"
   },
   {
    "duration": 36,
    "start_time": "2021-10-12T15:09:07.782Z"
   },
   {
    "duration": 36,
    "start_time": "2021-10-12T15:11:46.908Z"
   },
   {
    "duration": 291,
    "start_time": "2021-10-12T15:15:15.019Z"
   },
   {
    "duration": 302,
    "start_time": "2021-10-12T15:15:25.274Z"
   },
   {
    "duration": 306,
    "start_time": "2021-10-12T15:16:25.257Z"
   },
   {
    "duration": 4,
    "start_time": "2021-10-12T15:16:31.414Z"
   },
   {
    "duration": 66,
    "start_time": "2021-10-12T15:16:31.421Z"
   },
   {
    "duration": 47,
    "start_time": "2021-10-12T15:16:31.490Z"
   },
   {
    "duration": 17,
    "start_time": "2021-10-12T15:16:31.540Z"
   },
   {
    "duration": 10,
    "start_time": "2021-10-12T15:16:31.559Z"
   },
   {
    "duration": 35,
    "start_time": "2021-10-12T15:16:31.571Z"
   },
   {
    "duration": 28,
    "start_time": "2021-10-12T15:16:31.608Z"
   },
   {
    "duration": 9,
    "start_time": "2021-10-12T15:16:31.638Z"
   },
   {
    "duration": 17,
    "start_time": "2021-10-12T15:16:31.651Z"
   },
   {
    "duration": 34,
    "start_time": "2021-10-12T15:16:31.671Z"
   },
   {
    "duration": 18,
    "start_time": "2021-10-12T15:16:31.707Z"
   },
   {
    "duration": 24,
    "start_time": "2021-10-12T15:16:31.727Z"
   },
   {
    "duration": 6,
    "start_time": "2021-10-12T15:16:31.755Z"
   },
   {
    "duration": 48,
    "start_time": "2021-10-12T15:16:31.764Z"
   },
   {
    "duration": 399,
    "start_time": "2021-10-12T15:16:31.815Z"
   },
   {
    "duration": 124,
    "start_time": "2021-10-12T15:16:32.216Z"
   },
   {
    "duration": 58,
    "start_time": "2021-10-12T15:16:32.343Z"
   },
   {
    "duration": 48,
    "start_time": "2021-10-12T15:16:32.403Z"
   },
   {
    "duration": 332,
    "start_time": "2021-10-12T15:16:32.454Z"
   },
   {
    "duration": 4,
    "start_time": "2021-10-12T15:17:46.261Z"
   },
   {
    "duration": 64,
    "start_time": "2021-10-12T15:17:46.268Z"
   },
   {
    "duration": 44,
    "start_time": "2021-10-12T15:17:46.335Z"
   },
   {
    "duration": 18,
    "start_time": "2021-10-12T15:17:46.402Z"
   },
   {
    "duration": 10,
    "start_time": "2021-10-12T15:17:46.423Z"
   },
   {
    "duration": 21,
    "start_time": "2021-10-12T15:17:46.436Z"
   },
   {
    "duration": 55,
    "start_time": "2021-10-12T15:17:46.459Z"
   },
   {
    "duration": 10,
    "start_time": "2021-10-12T15:17:46.518Z"
   },
   {
    "duration": 20,
    "start_time": "2021-10-12T15:17:46.530Z"
   },
   {
    "duration": 27,
    "start_time": "2021-10-12T15:17:46.552Z"
   },
   {
    "duration": 25,
    "start_time": "2021-10-12T15:17:46.582Z"
   },
   {
    "duration": 35,
    "start_time": "2021-10-12T15:17:46.609Z"
   },
   {
    "duration": 6,
    "start_time": "2021-10-12T15:17:46.646Z"
   },
   {
    "duration": 27,
    "start_time": "2021-10-12T15:17:46.654Z"
   },
   {
    "duration": 408,
    "start_time": "2021-10-12T15:17:46.684Z"
   },
   {
    "duration": 131,
    "start_time": "2021-10-12T15:17:47.095Z"
   },
   {
    "duration": 38,
    "start_time": "2021-10-12T15:17:47.228Z"
   },
   {
    "duration": 71,
    "start_time": "2021-10-12T15:17:47.269Z"
   },
   {
    "duration": 31,
    "start_time": "2021-10-12T15:17:47.342Z"
   },
   {
    "duration": 397,
    "start_time": "2021-10-12T15:18:52.292Z"
   },
   {
    "duration": 34,
    "start_time": "2021-10-12T15:23:20.434Z"
   },
   {
    "duration": 22,
    "start_time": "2021-10-12T15:23:55.248Z"
   },
   {
    "duration": 22,
    "start_time": "2021-10-12T15:27:39.196Z"
   },
   {
    "duration": 23,
    "start_time": "2021-10-12T15:27:52.255Z"
   },
   {
    "duration": 36,
    "start_time": "2021-10-12T15:30:42.313Z"
   },
   {
    "duration": 13,
    "start_time": "2021-10-12T15:31:24.902Z"
   },
   {
    "duration": 285,
    "start_time": "2021-10-12T15:32:24.819Z"
   },
   {
    "duration": 49,
    "start_time": "2021-10-12T15:32:43.394Z"
   },
   {
    "duration": 31,
    "start_time": "2021-10-12T15:33:36.671Z"
   },
   {
    "duration": 5,
    "start_time": "2021-10-12T15:33:39.803Z"
   },
   {
    "duration": 62,
    "start_time": "2021-10-12T15:33:39.810Z"
   },
   {
    "duration": 61,
    "start_time": "2021-10-12T15:33:39.874Z"
   },
   {
    "duration": 17,
    "start_time": "2021-10-12T15:33:39.938Z"
   },
   {
    "duration": 10,
    "start_time": "2021-10-12T15:33:39.958Z"
   },
   {
    "duration": 34,
    "start_time": "2021-10-12T15:33:39.970Z"
   },
   {
    "duration": 28,
    "start_time": "2021-10-12T15:33:40.007Z"
   },
   {
    "duration": 11,
    "start_time": "2021-10-12T15:33:40.038Z"
   },
   {
    "duration": 53,
    "start_time": "2021-10-12T15:33:40.055Z"
   },
   {
    "duration": 14,
    "start_time": "2021-10-12T15:33:40.111Z"
   },
   {
    "duration": 14,
    "start_time": "2021-10-12T15:33:40.128Z"
   },
   {
    "duration": 21,
    "start_time": "2021-10-12T15:33:40.144Z"
   },
   {
    "duration": 35,
    "start_time": "2021-10-12T15:33:40.168Z"
   },
   {
    "duration": 17,
    "start_time": "2021-10-12T15:33:40.205Z"
   },
   {
    "duration": 411,
    "start_time": "2021-10-12T15:33:40.224Z"
   },
   {
    "duration": 121,
    "start_time": "2021-10-12T15:33:40.638Z"
   },
   {
    "duration": 61,
    "start_time": "2021-10-12T15:33:40.761Z"
   },
   {
    "duration": 48,
    "start_time": "2021-10-12T15:33:40.824Z"
   },
   {
    "duration": 53,
    "start_time": "2021-10-12T15:33:40.874Z"
   },
   {
    "duration": 73,
    "start_time": "2021-10-12T15:33:40.929Z"
   },
   {
    "duration": 323,
    "start_time": "2021-10-12T15:37:15.466Z"
   },
   {
    "duration": 5561,
    "start_time": "2021-10-12T15:37:42.189Z"
   },
   {
    "duration": 5,
    "start_time": "2021-10-12T15:37:51.478Z"
   },
   {
    "duration": 61,
    "start_time": "2021-10-12T15:37:51.486Z"
   },
   {
    "duration": 54,
    "start_time": "2021-10-12T15:37:51.550Z"
   },
   {
    "duration": 22,
    "start_time": "2021-10-12T15:37:51.606Z"
   },
   {
    "duration": 11,
    "start_time": "2021-10-12T15:37:51.630Z"
   },
   {
    "duration": 12,
    "start_time": "2021-10-12T15:37:51.643Z"
   },
   {
    "duration": 65,
    "start_time": "2021-10-12T15:37:51.657Z"
   },
   {
    "duration": 10,
    "start_time": "2021-10-12T15:37:51.726Z"
   },
   {
    "duration": 10,
    "start_time": "2021-10-12T15:37:51.738Z"
   },
   {
    "duration": 10,
    "start_time": "2021-10-12T15:37:51.751Z"
   },
   {
    "duration": 46,
    "start_time": "2021-10-12T15:37:51.764Z"
   },
   {
    "duration": 25,
    "start_time": "2021-10-12T15:37:51.812Z"
   },
   {
    "duration": 5,
    "start_time": "2021-10-12T15:37:51.839Z"
   },
   {
    "duration": 18,
    "start_time": "2021-10-12T15:37:51.846Z"
   },
   {
    "duration": 422,
    "start_time": "2021-10-12T15:37:51.867Z"
   },
   {
    "duration": 128,
    "start_time": "2021-10-12T15:37:52.292Z"
   },
   {
    "duration": 37,
    "start_time": "2021-10-12T15:37:52.422Z"
   },
   {
    "duration": 75,
    "start_time": "2021-10-12T15:37:52.462Z"
   },
   {
    "duration": 5894,
    "start_time": "2021-10-12T15:37:52.539Z"
   },
   {
    "duration": 12481,
    "start_time": "2021-10-12T15:37:45.955Z"
   },
   {
    "duration": 3,
    "start_time": "2021-10-12T15:38:17.518Z"
   },
   {
    "duration": 76,
    "start_time": "2021-10-12T15:38:17.524Z"
   },
   {
    "duration": 44,
    "start_time": "2021-10-12T15:38:17.603Z"
   },
   {
    "duration": 17,
    "start_time": "2021-10-12T15:38:17.650Z"
   },
   {
    "duration": 38,
    "start_time": "2021-10-12T15:38:17.670Z"
   },
   {
    "duration": 27,
    "start_time": "2021-10-12T15:38:17.711Z"
   },
   {
    "duration": 37,
    "start_time": "2021-10-12T15:38:17.741Z"
   },
   {
    "duration": 10,
    "start_time": "2021-10-12T15:38:17.781Z"
   },
   {
    "duration": 23,
    "start_time": "2021-10-12T15:38:17.803Z"
   },
   {
    "duration": 23,
    "start_time": "2021-10-12T15:38:17.829Z"
   },
   {
    "duration": 22,
    "start_time": "2021-10-12T15:38:17.855Z"
   },
   {
    "duration": 35,
    "start_time": "2021-10-12T15:38:17.880Z"
   },
   {
    "duration": 7,
    "start_time": "2021-10-12T15:38:17.917Z"
   },
   {
    "duration": 33,
    "start_time": "2021-10-12T15:38:17.926Z"
   },
   {
    "duration": 415,
    "start_time": "2021-10-12T15:38:17.962Z"
   },
   {
    "duration": 134,
    "start_time": "2021-10-12T15:38:18.379Z"
   },
   {
    "duration": 37,
    "start_time": "2021-10-12T15:38:18.516Z"
   },
   {
    "duration": 78,
    "start_time": "2021-10-12T15:38:18.556Z"
   },
   {
    "duration": 32,
    "start_time": "2021-10-12T15:38:18.636Z"
   },
   {
    "duration": 75,
    "start_time": "2021-10-12T15:38:18.671Z"
   },
   {
    "duration": 300,
    "start_time": "2021-10-12T15:48:56.750Z"
   },
   {
    "duration": 615,
    "start_time": "2021-10-12T15:49:21.702Z"
   },
   {
    "duration": 305,
    "start_time": "2021-10-12T15:49:31.011Z"
   },
   {
    "duration": 284,
    "start_time": "2021-10-12T15:49:35.917Z"
   },
   {
    "duration": 275,
    "start_time": "2021-10-12T15:49:45.986Z"
   },
   {
    "duration": 9,
    "start_time": "2021-10-12T15:50:03.317Z"
   },
   {
    "duration": 11,
    "start_time": "2021-10-12T15:50:12.321Z"
   },
   {
    "duration": 31,
    "start_time": "2021-10-12T15:52:06.460Z"
   },
   {
    "duration": 6,
    "start_time": "2021-10-12T15:58:45.084Z"
   },
   {
    "duration": 336,
    "start_time": "2021-10-12T16:02:52.655Z"
   },
   {
    "duration": 277,
    "start_time": "2021-10-12T16:09:36.769Z"
   },
   {
    "duration": 276,
    "start_time": "2021-10-12T16:11:09.920Z"
   },
   {
    "duration": 281,
    "start_time": "2021-10-12T16:13:08.678Z"
   },
   {
    "duration": 34,
    "start_time": "2021-10-12T16:13:16.267Z"
   },
   {
    "duration": 38,
    "start_time": "2021-10-12T16:14:30.428Z"
   },
   {
    "duration": 38,
    "start_time": "2021-10-12T16:15:43.645Z"
   },
   {
    "duration": 38,
    "start_time": "2021-10-12T16:15:50.517Z"
   },
   {
    "duration": 4,
    "start_time": "2021-10-12T16:15:53.927Z"
   },
   {
    "duration": 65,
    "start_time": "2021-10-12T16:15:53.934Z"
   },
   {
    "duration": 51,
    "start_time": "2021-10-12T16:15:54.003Z"
   },
   {
    "duration": 47,
    "start_time": "2021-10-12T16:15:54.057Z"
   },
   {
    "duration": 10,
    "start_time": "2021-10-12T16:15:54.107Z"
   },
   {
    "duration": 22,
    "start_time": "2021-10-12T16:15:54.119Z"
   },
   {
    "duration": 34,
    "start_time": "2021-10-12T16:15:54.147Z"
   },
   {
    "duration": 22,
    "start_time": "2021-10-12T16:15:54.184Z"
   },
   {
    "duration": 23,
    "start_time": "2021-10-12T16:15:54.209Z"
   },
   {
    "duration": 23,
    "start_time": "2021-10-12T16:15:54.235Z"
   },
   {
    "duration": 25,
    "start_time": "2021-10-12T16:15:54.260Z"
   },
   {
    "duration": 48,
    "start_time": "2021-10-12T16:15:54.288Z"
   },
   {
    "duration": 6,
    "start_time": "2021-10-12T16:15:54.338Z"
   },
   {
    "duration": 31,
    "start_time": "2021-10-12T16:15:54.346Z"
   },
   {
    "duration": 419,
    "start_time": "2021-10-12T16:15:54.381Z"
   },
   {
    "duration": 136,
    "start_time": "2021-10-12T16:15:54.802Z"
   },
   {
    "duration": 59,
    "start_time": "2021-10-12T16:15:54.941Z"
   },
   {
    "duration": 54,
    "start_time": "2021-10-12T16:15:55.003Z"
   },
   {
    "duration": 59,
    "start_time": "2021-10-12T16:15:55.061Z"
   },
   {
    "duration": 37,
    "start_time": "2021-10-12T16:15:55.123Z"
   },
   {
    "duration": 37,
    "start_time": "2021-10-12T16:16:13.648Z"
   },
   {
    "duration": 37,
    "start_time": "2021-10-12T16:16:38.406Z"
   },
   {
    "duration": 36,
    "start_time": "2021-10-12T16:17:12.403Z"
   },
   {
    "duration": 40,
    "start_time": "2021-10-12T16:18:38.663Z"
   },
   {
    "duration": 3196,
    "start_time": "2021-10-12T16:21:00.118Z"
   },
   {
    "duration": 428,
    "start_time": "2021-10-12T16:21:19.511Z"
   },
   {
    "duration": 11520,
    "start_time": "2021-10-12T16:22:05.878Z"
   },
   {
    "duration": 424,
    "start_time": "2021-10-12T16:22:26.704Z"
   },
   {
    "duration": 397,
    "start_time": "2021-10-12T16:22:55.013Z"
   },
   {
    "duration": 967,
    "start_time": "2021-10-13T08:39:10.098Z"
   },
   {
    "duration": 85,
    "start_time": "2021-10-13T08:39:11.067Z"
   },
   {
    "duration": 30,
    "start_time": "2021-10-13T08:39:11.155Z"
   },
   {
    "duration": 13,
    "start_time": "2021-10-13T08:39:11.187Z"
   },
   {
    "duration": 7,
    "start_time": "2021-10-13T08:39:11.201Z"
   },
   {
    "duration": 36,
    "start_time": "2021-10-13T08:39:11.210Z"
   },
   {
    "duration": 16,
    "start_time": "2021-10-13T08:39:11.248Z"
   },
   {
    "duration": 7,
    "start_time": "2021-10-13T08:39:11.267Z"
   },
   {
    "duration": 14,
    "start_time": "2021-10-13T08:39:11.275Z"
   },
   {
    "duration": 61,
    "start_time": "2021-10-13T08:39:11.290Z"
   },
   {
    "duration": 11,
    "start_time": "2021-10-13T08:39:11.353Z"
   },
   {
    "duration": 14,
    "start_time": "2021-10-13T08:39:11.366Z"
   },
   {
    "duration": 9,
    "start_time": "2021-10-13T08:39:11.381Z"
   },
   {
    "duration": 61,
    "start_time": "2021-10-13T08:39:11.392Z"
   },
   {
    "duration": 381,
    "start_time": "2021-10-13T08:39:11.454Z"
   },
   {
    "duration": 66,
    "start_time": "2021-10-13T08:39:11.844Z"
   },
   {
    "duration": 46,
    "start_time": "2021-10-13T08:39:11.912Z"
   },
   {
    "duration": 37,
    "start_time": "2021-10-13T08:39:11.960Z"
   },
   {
    "duration": 21,
    "start_time": "2021-10-13T08:39:11.999Z"
   },
   {
    "duration": 20,
    "start_time": "2021-10-13T08:39:12.045Z"
   },
   {
    "duration": 323,
    "start_time": "2021-10-13T08:41:12.353Z"
   },
   {
    "duration": 234,
    "start_time": "2021-10-13T08:41:43.665Z"
   },
   {
    "duration": 1843,
    "start_time": "2021-10-13T08:41:53.517Z"
   },
   {
    "duration": 7756,
    "start_time": "2021-10-13T08:42:12.521Z"
   },
   {
    "duration": 593,
    "start_time": "2021-10-13T08:43:14.413Z"
   },
   {
    "duration": 1652,
    "start_time": "2021-10-13T08:44:18.234Z"
   },
   {
    "duration": 424,
    "start_time": "2021-10-13T08:44:39.990Z"
   },
   {
    "duration": 1716,
    "start_time": "2021-10-13T08:44:47.747Z"
   },
   {
    "duration": 1663,
    "start_time": "2021-10-13T08:45:32.794Z"
   },
   {
    "duration": 1713,
    "start_time": "2021-10-13T08:45:50.601Z"
   },
   {
    "duration": 392,
    "start_time": "2021-10-13T08:59:58.223Z"
   },
   {
    "duration": 1689,
    "start_time": "2021-10-13T09:01:00.543Z"
   },
   {
    "duration": 111,
    "start_time": "2021-10-13T09:14:05.465Z"
   },
   {
    "duration": 3528,
    "start_time": "2021-10-13T09:14:15.585Z"
   },
   {
    "duration": 236,
    "start_time": "2021-10-13T09:15:34.578Z"
   },
   {
    "duration": 72,
    "start_time": "2021-10-13T09:15:46.845Z"
   },
   {
    "duration": 118,
    "start_time": "2021-10-13T09:16:07.556Z"
   },
   {
    "duration": 78,
    "start_time": "2021-10-13T09:16:20.612Z"
   },
   {
    "duration": 146,
    "start_time": "2021-10-13T09:16:34.492Z"
   },
   {
    "duration": 76,
    "start_time": "2021-10-13T09:16:43.951Z"
   },
   {
    "duration": 87,
    "start_time": "2021-10-13T09:16:52.281Z"
   },
   {
    "duration": 2923,
    "start_time": "2021-10-13T09:17:00.744Z"
   },
   {
    "duration": 458,
    "start_time": "2021-10-13T09:17:23.181Z"
   },
   {
    "duration": 423,
    "start_time": "2021-10-13T09:17:43.310Z"
   },
   {
    "duration": 512,
    "start_time": "2021-10-13T09:17:53.634Z"
   },
   {
    "duration": 5734,
    "start_time": "2021-10-13T09:18:29.606Z"
   },
   {
    "duration": 3,
    "start_time": "2021-10-13T09:18:36.221Z"
   },
   {
    "duration": 48,
    "start_time": "2021-10-13T09:18:36.226Z"
   },
   {
    "duration": 28,
    "start_time": "2021-10-13T09:18:36.277Z"
   },
   {
    "duration": 13,
    "start_time": "2021-10-13T09:18:36.307Z"
   },
   {
    "duration": 26,
    "start_time": "2021-10-13T09:18:36.322Z"
   },
   {
    "duration": 8,
    "start_time": "2021-10-13T09:18:36.350Z"
   },
   {
    "duration": 93,
    "start_time": "2021-10-13T09:18:36.359Z"
   },
   {
    "duration": 7,
    "start_time": "2021-10-13T09:18:36.453Z"
   },
   {
    "duration": 9,
    "start_time": "2021-10-13T09:18:36.462Z"
   },
   {
    "duration": 12,
    "start_time": "2021-10-13T09:18:36.473Z"
   },
   {
    "duration": 13,
    "start_time": "2021-10-13T09:18:36.486Z"
   },
   {
    "duration": 14,
    "start_time": "2021-10-13T09:18:36.500Z"
   },
   {
    "duration": 4,
    "start_time": "2021-10-13T09:18:36.516Z"
   },
   {
    "duration": 33,
    "start_time": "2021-10-13T09:18:36.522Z"
   },
   {
    "duration": 234,
    "start_time": "2021-10-13T09:18:36.556Z"
   },
   {
    "duration": 79,
    "start_time": "2021-10-13T09:18:36.791Z"
   },
   {
    "duration": 23,
    "start_time": "2021-10-13T09:18:36.872Z"
   },
   {
    "duration": 49,
    "start_time": "2021-10-13T09:18:36.896Z"
   },
   {
    "duration": 22,
    "start_time": "2021-10-13T09:18:36.947Z"
   },
   {
    "duration": 5662,
    "start_time": "2021-10-13T09:18:36.970Z"
   },
   {
    "duration": 8170,
    "start_time": "2021-10-13T09:19:07.194Z"
   },
   {
    "duration": 3951,
    "start_time": "2021-10-13T09:19:29.486Z"
   },
   {
    "duration": 3297,
    "start_time": "2021-10-13T09:19:37.645Z"
   },
   {
    "duration": 409,
    "start_time": "2021-10-13T09:19:47.675Z"
   },
   {
    "duration": 412,
    "start_time": "2021-10-13T09:19:56.735Z"
   },
   {
    "duration": 4398,
    "start_time": "2021-10-13T09:20:09.039Z"
   },
   {
    "duration": 5871,
    "start_time": "2021-10-13T09:20:15.307Z"
   },
   {
    "duration": 3995,
    "start_time": "2021-10-13T09:20:29.258Z"
   },
   {
    "duration": 3999,
    "start_time": "2021-10-13T09:20:52.863Z"
   },
   {
    "duration": 3787,
    "start_time": "2021-10-13T09:21:02.090Z"
   },
   {
    "duration": 4021,
    "start_time": "2021-10-13T09:21:18.090Z"
   },
   {
    "duration": 4102,
    "start_time": "2021-10-13T09:21:31.044Z"
   },
   {
    "duration": 407,
    "start_time": "2021-10-13T09:21:59.908Z"
   },
   {
    "duration": 417,
    "start_time": "2021-10-13T09:22:03.888Z"
   },
   {
    "duration": 415,
    "start_time": "2021-10-13T09:22:11.280Z"
   },
   {
    "duration": 415,
    "start_time": "2021-10-13T09:22:17.387Z"
   },
   {
    "duration": 3897,
    "start_time": "2021-10-13T09:24:11.539Z"
   },
   {
    "duration": 409,
    "start_time": "2021-10-13T09:24:38.786Z"
   },
   {
    "duration": 407,
    "start_time": "2021-10-13T09:24:51.750Z"
   },
   {
    "duration": 3658,
    "start_time": "2021-10-13T09:25:22.201Z"
   },
   {
    "duration": 458,
    "start_time": "2021-10-13T09:26:57.729Z"
   },
   {
    "duration": 412,
    "start_time": "2021-10-13T09:27:05.444Z"
   },
   {
    "duration": 516,
    "start_time": "2021-10-13T09:27:27.686Z"
   },
   {
    "duration": 520,
    "start_time": "2021-10-13T09:27:39.474Z"
   },
   {
    "duration": 1808,
    "start_time": "2021-10-13T09:28:07.636Z"
   },
   {
    "duration": 1611,
    "start_time": "2021-10-13T09:28:59.983Z"
   },
   {
    "duration": 1702,
    "start_time": "2021-10-13T09:32:24.898Z"
   },
   {
    "duration": 1833,
    "start_time": "2021-10-13T09:32:47.948Z"
   },
   {
    "duration": 1670,
    "start_time": "2021-10-13T09:33:28.836Z"
   },
   {
    "duration": 224,
    "start_time": "2021-10-13T09:33:47.755Z"
   },
   {
    "duration": 243,
    "start_time": "2021-10-13T09:34:18.791Z"
   },
   {
    "duration": 1659,
    "start_time": "2021-10-13T09:34:26.089Z"
   },
   {
    "duration": 3,
    "start_time": "2021-10-13T09:38:47.934Z"
   },
   {
    "duration": 57,
    "start_time": "2021-10-13T09:38:47.939Z"
   },
   {
    "duration": 29,
    "start_time": "2021-10-13T09:38:47.998Z"
   },
   {
    "duration": 14,
    "start_time": "2021-10-13T09:38:48.029Z"
   },
   {
    "duration": 7,
    "start_time": "2021-10-13T09:38:48.044Z"
   },
   {
    "duration": 9,
    "start_time": "2021-10-13T09:38:48.053Z"
   },
   {
    "duration": 17,
    "start_time": "2021-10-13T09:38:48.064Z"
   },
   {
    "duration": 6,
    "start_time": "2021-10-13T09:38:48.083Z"
   },
   {
    "duration": 13,
    "start_time": "2021-10-13T09:38:48.091Z"
   },
   {
    "duration": 8,
    "start_time": "2021-10-13T09:38:48.106Z"
   },
   {
    "duration": 36,
    "start_time": "2021-10-13T09:38:48.115Z"
   },
   {
    "duration": 15,
    "start_time": "2021-10-13T09:38:48.153Z"
   },
   {
    "duration": 5,
    "start_time": "2021-10-13T09:38:48.170Z"
   },
   {
    "duration": 12,
    "start_time": "2021-10-13T09:38:48.176Z"
   },
   {
    "duration": 259,
    "start_time": "2021-10-13T09:38:48.191Z"
   },
   {
    "duration": 146,
    "start_time": "2021-10-13T09:38:48.451Z"
   },
   {
    "duration": 22,
    "start_time": "2021-10-13T09:38:48.598Z"
   },
   {
    "duration": 50,
    "start_time": "2021-10-13T09:38:48.622Z"
   },
   {
    "duration": 20,
    "start_time": "2021-10-13T09:38:48.674Z"
   },
   {
    "duration": 1701,
    "start_time": "2021-10-13T09:38:48.696Z"
   },
   {
    "duration": 228,
    "start_time": "2021-10-13T09:43:45.735Z"
   },
   {
    "duration": 439,
    "start_time": "2021-10-13T09:43:52.029Z"
   },
   {
    "duration": 223,
    "start_time": "2021-10-13T09:44:02.340Z"
   },
   {
    "duration": 478,
    "start_time": "2021-10-13T09:44:09.182Z"
   },
   {
    "duration": 241,
    "start_time": "2021-10-13T09:45:19.064Z"
   },
   {
    "duration": 23,
    "start_time": "2021-10-13T09:45:30.266Z"
   },
   {
    "duration": 206,
    "start_time": "2021-10-13T09:46:12.947Z"
   },
   {
    "duration": 84,
    "start_time": "2021-10-13T09:49:37.059Z"
   },
   {
    "duration": 3,
    "start_time": "2021-10-13T09:49:38.724Z"
   },
   {
    "duration": 57,
    "start_time": "2021-10-13T09:49:38.728Z"
   },
   {
    "duration": 28,
    "start_time": "2021-10-13T09:49:38.786Z"
   },
   {
    "duration": 11,
    "start_time": "2021-10-13T09:49:38.816Z"
   },
   {
    "duration": 19,
    "start_time": "2021-10-13T09:49:38.828Z"
   },
   {
    "duration": 26,
    "start_time": "2021-10-13T09:49:38.848Z"
   },
   {
    "duration": 20,
    "start_time": "2021-10-13T09:49:38.876Z"
   },
   {
    "duration": 21,
    "start_time": "2021-10-13T09:49:38.898Z"
   },
   {
    "duration": 16,
    "start_time": "2021-10-13T09:49:38.921Z"
   },
   {
    "duration": 28,
    "start_time": "2021-10-13T09:49:38.939Z"
   },
   {
    "duration": 27,
    "start_time": "2021-10-13T09:49:38.968Z"
   },
   {
    "duration": 34,
    "start_time": "2021-10-13T09:49:38.996Z"
   },
   {
    "duration": 38,
    "start_time": "2021-10-13T09:49:39.032Z"
   },
   {
    "duration": 28,
    "start_time": "2021-10-13T09:49:39.072Z"
   },
   {
    "duration": 229,
    "start_time": "2021-10-13T09:49:39.102Z"
   },
   {
    "duration": 77,
    "start_time": "2021-10-13T09:49:39.333Z"
   },
   {
    "duration": 39,
    "start_time": "2021-10-13T09:49:39.412Z"
   },
   {
    "duration": 29,
    "start_time": "2021-10-13T09:49:39.453Z"
   },
   {
    "duration": 20,
    "start_time": "2021-10-13T09:49:39.483Z"
   },
   {
    "duration": 1841,
    "start_time": "2021-10-13T09:49:39.505Z"
   },
   {
    "duration": 243,
    "start_time": "2021-10-13T09:49:41.348Z"
   },
   {
    "duration": 231,
    "start_time": "2021-10-13T09:50:20.966Z"
   },
   {
    "duration": 229,
    "start_time": "2021-10-13T09:51:18.126Z"
   },
   {
    "duration": 537,
    "start_time": "2021-10-13T09:51:46.602Z"
   },
   {
    "duration": 532,
    "start_time": "2021-10-13T09:52:07.292Z"
   },
   {
    "duration": 219,
    "start_time": "2021-10-13T09:57:31.558Z"
   },
   {
    "duration": 72,
    "start_time": "2021-10-13T09:57:48.402Z"
   },
   {
    "duration": 19,
    "start_time": "2021-10-13T09:58:09.895Z"
   },
   {
    "duration": 18,
    "start_time": "2021-10-13T10:00:12.538Z"
   },
   {
    "duration": 280,
    "start_time": "2021-10-13T10:00:23.497Z"
   },
   {
    "duration": 506,
    "start_time": "2021-10-13T10:00:45.217Z"
   },
   {
    "duration": 271,
    "start_time": "2021-10-13T10:01:07.788Z"
   },
   {
    "duration": 394,
    "start_time": "2021-10-13T10:02:51.324Z"
   },
   {
    "duration": 1539,
    "start_time": "2021-10-13T10:03:19.406Z"
   },
   {
    "duration": 426,
    "start_time": "2021-10-13T10:03:43.795Z"
   },
   {
    "duration": 1950,
    "start_time": "2021-10-13T10:04:57.758Z"
   },
   {
    "duration": 1677,
    "start_time": "2021-10-13T10:05:26.568Z"
   },
   {
    "duration": 237,
    "start_time": "2021-10-13T10:05:47.507Z"
   },
   {
    "duration": 1778,
    "start_time": "2021-10-13T10:05:59.089Z"
   },
   {
    "duration": 1924,
    "start_time": "2021-10-13T10:07:40.499Z"
   },
   {
    "duration": 1704,
    "start_time": "2021-10-13T10:08:07.709Z"
   },
   {
    "duration": 441,
    "start_time": "2021-10-13T10:09:24.885Z"
   },
   {
    "duration": 6105,
    "start_time": "2021-10-13T10:09:50.234Z"
   },
   {
    "duration": 4,
    "start_time": "2021-10-13T10:10:14.104Z"
   },
   {
    "duration": 48,
    "start_time": "2021-10-13T10:10:14.110Z"
   },
   {
    "duration": 30,
    "start_time": "2021-10-13T10:10:14.161Z"
   },
   {
    "duration": 14,
    "start_time": "2021-10-13T10:10:14.193Z"
   },
   {
    "duration": 36,
    "start_time": "2021-10-13T10:10:14.209Z"
   },
   {
    "duration": 8,
    "start_time": "2021-10-13T10:10:14.247Z"
   },
   {
    "duration": 31,
    "start_time": "2021-10-13T10:10:14.257Z"
   },
   {
    "duration": 7,
    "start_time": "2021-10-13T10:10:14.290Z"
   },
   {
    "duration": 9,
    "start_time": "2021-10-13T10:10:14.299Z"
   },
   {
    "duration": 10,
    "start_time": "2021-10-13T10:10:14.310Z"
   },
   {
    "duration": 23,
    "start_time": "2021-10-13T10:10:14.322Z"
   },
   {
    "duration": 13,
    "start_time": "2021-10-13T10:10:14.347Z"
   },
   {
    "duration": 4,
    "start_time": "2021-10-13T10:10:14.362Z"
   },
   {
    "duration": 20,
    "start_time": "2021-10-13T10:10:14.367Z"
   },
   {
    "duration": 237,
    "start_time": "2021-10-13T10:10:14.389Z"
   },
   {
    "duration": 176,
    "start_time": "2021-10-13T10:10:14.627Z"
   },
   {
    "duration": 41,
    "start_time": "2021-10-13T10:10:14.804Z"
   },
   {
    "duration": 31,
    "start_time": "2021-10-13T10:10:14.847Z"
   },
   {
    "duration": 19,
    "start_time": "2021-10-13T10:10:14.879Z"
   },
   {
    "duration": 1705,
    "start_time": "2021-10-13T10:10:14.899Z"
   },
   {
    "duration": 321,
    "start_time": "2021-10-13T10:10:16.605Z"
   },
   {
    "duration": 197,
    "start_time": "2021-10-13T10:14:28.726Z"
   },
   {
    "duration": 239,
    "start_time": "2021-10-13T10:15:59.911Z"
   },
   {
    "duration": 391,
    "start_time": "2021-10-13T10:16:34.690Z"
   },
   {
    "duration": 310,
    "start_time": "2021-10-13T10:16:42.119Z"
   },
   {
    "duration": 543,
    "start_time": "2021-10-13T10:17:53.888Z"
   },
   {
    "duration": 242,
    "start_time": "2021-10-13T10:18:26.721Z"
   },
   {
    "duration": 1175,
    "start_time": "2021-10-13T10:18:42.108Z"
   },
   {
    "duration": 348,
    "start_time": "2021-10-13T10:19:01.174Z"
   },
   {
    "duration": 437,
    "start_time": "2021-10-13T10:20:54.622Z"
   },
   {
    "duration": 1972,
    "start_time": "2021-10-13T10:21:27.398Z"
   },
   {
    "duration": 8687,
    "start_time": "2021-10-13T10:22:52.651Z"
   },
   {
    "duration": 8673,
    "start_time": "2021-10-13T10:23:04.871Z"
   },
   {
    "duration": 717,
    "start_time": "2021-10-13T10:23:15.972Z"
   },
   {
    "duration": 341,
    "start_time": "2021-10-13T10:36:45.857Z"
   },
   {
    "duration": 77,
    "start_time": "2021-10-13T10:37:07.989Z"
   },
   {
    "duration": 79,
    "start_time": "2021-10-13T10:37:16.337Z"
   },
   {
    "duration": 345,
    "start_time": "2021-10-13T10:37:23.090Z"
   },
   {
    "duration": 1575,
    "start_time": "2021-10-13T10:37:28.661Z"
   },
   {
    "duration": 1130,
    "start_time": "2021-10-13T10:38:10.356Z"
   },
   {
    "duration": 423,
    "start_time": "2021-10-13T10:38:26.174Z"
   },
   {
    "duration": 383,
    "start_time": "2021-10-13T10:38:35.546Z"
   },
   {
    "duration": 355,
    "start_time": "2021-10-13T10:38:51.026Z"
   },
   {
    "duration": 343,
    "start_time": "2021-10-13T10:39:05.153Z"
   },
   {
    "duration": 1267,
    "start_time": "2021-10-13T10:39:13.026Z"
   },
   {
    "duration": 1155,
    "start_time": "2021-10-13T10:39:21.074Z"
   },
   {
    "duration": 1961,
    "start_time": "2021-10-13T10:39:52.778Z"
   },
   {
    "duration": 1868,
    "start_time": "2021-10-13T10:40:56.726Z"
   },
   {
    "duration": 1789,
    "start_time": "2021-10-13T10:41:40.560Z"
   },
   {
    "duration": 1806,
    "start_time": "2021-10-13T10:42:02.222Z"
   },
   {
    "duration": 1793,
    "start_time": "2021-10-13T10:42:32.044Z"
   },
   {
    "duration": 219,
    "start_time": "2021-10-13T10:42:58.693Z"
   },
   {
    "duration": 1874,
    "start_time": "2021-10-13T10:43:32.328Z"
   },
   {
    "duration": 227,
    "start_time": "2021-10-13T10:43:49.577Z"
   },
   {
    "duration": 244,
    "start_time": "2021-10-13T10:44:18.484Z"
   },
   {
    "duration": 320,
    "start_time": "2021-10-13T10:44:35.486Z"
   },
   {
    "duration": 182,
    "start_time": "2021-10-13T10:44:48.609Z"
   },
   {
    "duration": 194,
    "start_time": "2021-10-13T10:45:32.398Z"
   },
   {
    "duration": 1170,
    "start_time": "2021-10-13T10:45:47.390Z"
   },
   {
    "duration": 203,
    "start_time": "2021-10-13T10:46:00.020Z"
   },
   {
    "duration": 256,
    "start_time": "2021-10-13T10:47:37.245Z"
   },
   {
    "duration": 232,
    "start_time": "2021-10-13T10:47:55.985Z"
   },
   {
    "duration": 239,
    "start_time": "2021-10-13T10:48:10.136Z"
   },
   {
    "duration": 246,
    "start_time": "2021-10-13T10:48:36.416Z"
   },
   {
    "duration": 448,
    "start_time": "2021-10-13T10:48:43.180Z"
   },
   {
    "duration": 368,
    "start_time": "2021-10-13T10:49:01.600Z"
   },
   {
    "duration": 257,
    "start_time": "2021-10-13T10:55:39.524Z"
   },
   {
    "duration": 234,
    "start_time": "2021-10-13T10:55:48.469Z"
   },
   {
    "duration": 1272,
    "start_time": "2021-10-13T10:55:53.729Z"
   },
   {
    "duration": 363,
    "start_time": "2021-10-13T10:56:13.309Z"
   },
   {
    "duration": 385,
    "start_time": "2021-10-13T10:56:31.224Z"
   },
   {
    "duration": 359,
    "start_time": "2021-10-13T10:56:42.041Z"
   },
   {
    "duration": 1127,
    "start_time": "2021-10-13T10:56:47.977Z"
   },
   {
    "duration": 1839,
    "start_time": "2021-10-13T10:57:09.886Z"
   },
   {
    "duration": 1984,
    "start_time": "2021-10-13T10:57:41.546Z"
   },
   {
    "duration": 203,
    "start_time": "2021-10-13T11:02:08.941Z"
   },
   {
    "duration": 306,
    "start_time": "2021-10-13T11:02:27.869Z"
   },
   {
    "duration": 667,
    "start_time": "2021-10-13T11:03:22.678Z"
   },
   {
    "duration": 759,
    "start_time": "2021-10-13T11:03:38.906Z"
   },
   {
    "duration": 3221,
    "start_time": "2021-10-13T11:04:10.129Z"
   },
   {
    "duration": 305,
    "start_time": "2021-10-13T11:04:19.690Z"
   },
   {
    "duration": 312,
    "start_time": "2021-10-13T11:05:22.489Z"
   },
   {
    "duration": 513,
    "start_time": "2021-10-13T11:06:52.376Z"
   },
   {
    "duration": 367,
    "start_time": "2021-10-13T11:07:12.856Z"
   },
   {
    "duration": 612,
    "start_time": "2021-10-13T11:07:19.697Z"
   },
   {
    "duration": 517,
    "start_time": "2021-10-13T11:07:25.666Z"
   },
   {
    "duration": 563,
    "start_time": "2021-10-13T11:07:52.787Z"
   },
   {
    "duration": 515,
    "start_time": "2021-10-13T11:08:24.688Z"
   },
   {
    "duration": 509,
    "start_time": "2021-10-13T11:08:40.880Z"
   },
   {
    "duration": 526,
    "start_time": "2021-10-13T11:08:50.349Z"
   },
   {
    "duration": 522,
    "start_time": "2021-10-13T11:08:54.941Z"
   },
   {
    "duration": 235,
    "start_time": "2021-10-13T11:12:17.259Z"
   },
   {
    "duration": 447,
    "start_time": "2021-10-13T11:12:52.547Z"
   },
   {
    "duration": 581,
    "start_time": "2021-10-13T11:13:18.028Z"
   },
   {
    "duration": 24,
    "start_time": "2021-10-13T11:13:32.224Z"
   },
   {
    "duration": 413,
    "start_time": "2021-10-13T11:13:47.984Z"
   },
   {
    "duration": 380,
    "start_time": "2021-10-13T11:13:58.768Z"
   },
   {
    "duration": 384,
    "start_time": "2021-10-13T11:16:29.285Z"
   },
   {
    "duration": 383,
    "start_time": "2021-10-13T11:16:37.461Z"
   },
   {
    "duration": 328,
    "start_time": "2021-10-13T11:16:48.250Z"
   },
   {
    "duration": 561,
    "start_time": "2021-10-13T11:16:53.226Z"
   },
   {
    "duration": 3,
    "start_time": "2021-10-13T11:20:24.612Z"
   },
   {
    "duration": 53,
    "start_time": "2021-10-13T11:20:24.617Z"
   },
   {
    "duration": 29,
    "start_time": "2021-10-13T11:20:24.672Z"
   },
   {
    "duration": 14,
    "start_time": "2021-10-13T11:20:24.703Z"
   },
   {
    "duration": 29,
    "start_time": "2021-10-13T11:20:24.718Z"
   },
   {
    "duration": 12,
    "start_time": "2021-10-13T11:20:24.749Z"
   },
   {
    "duration": 29,
    "start_time": "2021-10-13T11:20:24.763Z"
   },
   {
    "duration": 7,
    "start_time": "2021-10-13T11:20:24.795Z"
   },
   {
    "duration": 19,
    "start_time": "2021-10-13T11:20:24.804Z"
   },
   {
    "duration": 35,
    "start_time": "2021-10-13T11:20:24.825Z"
   },
   {
    "duration": 27,
    "start_time": "2021-10-13T11:20:24.862Z"
   },
   {
    "duration": 32,
    "start_time": "2021-10-13T11:20:24.891Z"
   },
   {
    "duration": 13,
    "start_time": "2021-10-13T11:20:24.924Z"
   },
   {
    "duration": 11,
    "start_time": "2021-10-13T11:20:24.938Z"
   },
   {
    "duration": 239,
    "start_time": "2021-10-13T11:20:24.951Z"
   },
   {
    "duration": 78,
    "start_time": "2021-10-13T11:20:25.191Z"
   },
   {
    "duration": 23,
    "start_time": "2021-10-13T11:20:25.270Z"
   },
   {
    "duration": 51,
    "start_time": "2021-10-13T11:20:25.294Z"
   },
   {
    "duration": 19,
    "start_time": "2021-10-13T11:20:25.347Z"
   },
   {
    "duration": 1692,
    "start_time": "2021-10-13T11:20:25.368Z"
   },
   {
    "duration": 300,
    "start_time": "2021-10-13T11:20:27.062Z"
   },
   {
    "duration": 399,
    "start_time": "2021-10-13T11:21:08.236Z"
   },
   {
    "duration": 394,
    "start_time": "2021-10-13T11:21:17.657Z"
   },
   {
    "duration": 415,
    "start_time": "2021-10-13T11:21:24.933Z"
   },
   {
    "duration": 222,
    "start_time": "2021-10-13T11:21:50.955Z"
   },
   {
    "duration": 208,
    "start_time": "2021-10-13T11:23:43.354Z"
   },
   {
    "duration": 399,
    "start_time": "2021-10-13T11:24:07.684Z"
   },
   {
    "duration": 415,
    "start_time": "2021-10-13T11:24:34.023Z"
   },
   {
    "duration": 397,
    "start_time": "2021-10-13T11:25:07.993Z"
   },
   {
    "duration": 3,
    "start_time": "2021-10-13T11:25:14.123Z"
   },
   {
    "duration": 64,
    "start_time": "2021-10-13T11:25:14.128Z"
   },
   {
    "duration": 30,
    "start_time": "2021-10-13T11:25:14.195Z"
   },
   {
    "duration": 18,
    "start_time": "2021-10-13T11:25:14.227Z"
   },
   {
    "duration": 14,
    "start_time": "2021-10-13T11:25:14.247Z"
   },
   {
    "duration": 32,
    "start_time": "2021-10-13T11:25:14.263Z"
   },
   {
    "duration": 53,
    "start_time": "2021-10-13T11:25:14.297Z"
   },
   {
    "duration": 8,
    "start_time": "2021-10-13T11:25:14.354Z"
   },
   {
    "duration": 24,
    "start_time": "2021-10-13T11:25:14.364Z"
   },
   {
    "duration": 25,
    "start_time": "2021-10-13T11:25:14.390Z"
   },
   {
    "duration": 19,
    "start_time": "2021-10-13T11:25:14.417Z"
   },
   {
    "duration": 37,
    "start_time": "2021-10-13T11:25:14.438Z"
   },
   {
    "duration": 13,
    "start_time": "2021-10-13T11:25:14.477Z"
   },
   {
    "duration": 25,
    "start_time": "2021-10-13T11:25:14.491Z"
   },
   {
    "duration": 238,
    "start_time": "2021-10-13T11:25:14.518Z"
   },
   {
    "duration": 92,
    "start_time": "2021-10-13T11:25:14.758Z"
   },
   {
    "duration": 25,
    "start_time": "2021-10-13T11:25:14.852Z"
   },
   {
    "duration": 29,
    "start_time": "2021-10-13T11:25:14.879Z"
   },
   {
    "duration": 44,
    "start_time": "2021-10-13T11:25:14.910Z"
   },
   {
    "duration": 2035,
    "start_time": "2021-10-13T11:25:14.955Z"
   },
   {
    "duration": 428,
    "start_time": "2021-10-13T11:25:16.992Z"
   },
   {
    "duration": 397,
    "start_time": "2021-10-13T11:25:29.460Z"
   },
   {
    "duration": 416,
    "start_time": "2021-10-13T11:25:55.283Z"
   },
   {
    "duration": 433,
    "start_time": "2021-10-13T11:26:20.660Z"
   },
   {
    "duration": 1876,
    "start_time": "2021-10-13T11:30:03.686Z"
   },
   {
    "duration": 227,
    "start_time": "2021-10-13T11:31:34.955Z"
   },
   {
    "duration": 489,
    "start_time": "2021-10-13T11:31:46.879Z"
   },
   {
    "duration": 392,
    "start_time": "2021-10-13T11:31:56.765Z"
   },
   {
    "duration": 253,
    "start_time": "2021-10-13T11:32:20.897Z"
   },
   {
    "duration": 343,
    "start_time": "2021-10-13T11:32:44.424Z"
   },
   {
    "duration": 239,
    "start_time": "2021-10-13T11:34:15.833Z"
   },
   {
    "duration": 458,
    "start_time": "2021-10-13T11:34:34.401Z"
   },
   {
    "duration": 412,
    "start_time": "2021-10-13T11:34:42.636Z"
   },
   {
    "duration": 414,
    "start_time": "2021-10-13T11:34:55.653Z"
   },
   {
    "duration": 426,
    "start_time": "2021-10-13T11:35:00.016Z"
   },
   {
    "duration": 392,
    "start_time": "2021-10-13T11:35:07.244Z"
   },
   {
    "duration": 256,
    "start_time": "2021-10-13T11:35:23.246Z"
   },
   {
    "duration": 256,
    "start_time": "2021-10-13T11:35:40.143Z"
   },
   {
    "duration": 471,
    "start_time": "2021-10-13T11:35:46.086Z"
   },
   {
    "duration": 488,
    "start_time": "2021-10-13T11:37:00.645Z"
   },
   {
    "duration": 497,
    "start_time": "2021-10-13T11:37:06.047Z"
   },
   {
    "duration": 452,
    "start_time": "2021-10-13T11:37:28.439Z"
   },
   {
    "duration": 430,
    "start_time": "2021-10-13T11:38:05.708Z"
   },
   {
    "duration": 502,
    "start_time": "2021-10-13T11:38:25.229Z"
   },
   {
    "duration": 246,
    "start_time": "2021-10-13T11:38:33.987Z"
   },
   {
    "duration": 3,
    "start_time": "2021-10-13T11:40:26.281Z"
   },
   {
    "duration": 1795,
    "start_time": "2021-10-13T11:41:05.197Z"
   },
   {
    "duration": 13,
    "start_time": "2021-10-13T12:19:46.770Z"
   },
   {
    "duration": 241,
    "start_time": "2021-10-13T12:20:27.278Z"
   },
   {
    "duration": 12,
    "start_time": "2021-10-13T12:20:44.847Z"
   },
   {
    "duration": 517,
    "start_time": "2021-10-13T12:23:47.716Z"
   },
   {
    "duration": 590,
    "start_time": "2021-10-13T12:24:19.686Z"
   },
   {
    "duration": 523,
    "start_time": "2021-10-13T12:24:44.698Z"
   },
   {
    "duration": 46,
    "start_time": "2021-10-13T12:26:59.559Z"
   },
   {
    "duration": 3,
    "start_time": "2021-10-13T12:28:05.111Z"
   },
   {
    "duration": 18,
    "start_time": "2021-10-13T12:28:29.340Z"
   },
   {
    "duration": 3,
    "start_time": "2021-10-13T12:28:32.897Z"
   },
   {
    "duration": 46,
    "start_time": "2021-10-13T12:28:32.901Z"
   },
   {
    "duration": 36,
    "start_time": "2021-10-13T12:28:32.949Z"
   },
   {
    "duration": 12,
    "start_time": "2021-10-13T12:28:32.987Z"
   },
   {
    "duration": 6,
    "start_time": "2021-10-13T12:28:33.001Z"
   },
   {
    "duration": 8,
    "start_time": "2021-10-13T12:28:33.009Z"
   },
   {
    "duration": 259,
    "start_time": "2021-10-13T12:28:33.018Z"
   },
   {
    "duration": 12693,
    "start_time": "2021-10-13T12:28:20.586Z"
   },
   {
    "duration": 12693,
    "start_time": "2021-10-13T12:28:20.588Z"
   },
   {
    "duration": 12692,
    "start_time": "2021-10-13T12:28:20.589Z"
   },
   {
    "duration": 12691,
    "start_time": "2021-10-13T12:28:20.591Z"
   },
   {
    "duration": 12691,
    "start_time": "2021-10-13T12:28:20.593Z"
   },
   {
    "duration": 12690,
    "start_time": "2021-10-13T12:28:20.594Z"
   },
   {
    "duration": 12691,
    "start_time": "2021-10-13T12:28:20.595Z"
   },
   {
    "duration": 12691,
    "start_time": "2021-10-13T12:28:20.596Z"
   },
   {
    "duration": 12686,
    "start_time": "2021-10-13T12:28:20.602Z"
   },
   {
    "duration": 12685,
    "start_time": "2021-10-13T12:28:20.604Z"
   },
   {
    "duration": 12685,
    "start_time": "2021-10-13T12:28:20.605Z"
   },
   {
    "duration": 12685,
    "start_time": "2021-10-13T12:28:20.606Z"
   },
   {
    "duration": 12684,
    "start_time": "2021-10-13T12:28:20.608Z"
   },
   {
    "duration": 12684,
    "start_time": "2021-10-13T12:28:20.609Z"
   },
   {
    "duration": 12684,
    "start_time": "2021-10-13T12:28:20.610Z"
   },
   {
    "duration": 12681,
    "start_time": "2021-10-13T12:28:20.614Z"
   },
   {
    "duration": 3,
    "start_time": "2021-10-13T12:28:59.228Z"
   },
   {
    "duration": 56,
    "start_time": "2021-10-13T12:28:59.233Z"
   },
   {
    "duration": 34,
    "start_time": "2021-10-13T12:28:59.291Z"
   },
   {
    "duration": 13,
    "start_time": "2021-10-13T12:28:59.327Z"
   },
   {
    "duration": 12,
    "start_time": "2021-10-13T12:28:59.342Z"
   },
   {
    "duration": 28,
    "start_time": "2021-10-13T12:28:59.356Z"
   },
   {
    "duration": 232,
    "start_time": "2021-10-13T12:28:59.386Z"
   },
   {
    "duration": 12696,
    "start_time": "2021-10-13T12:28:46.924Z"
   },
   {
    "duration": 12694,
    "start_time": "2021-10-13T12:28:46.926Z"
   },
   {
    "duration": 12692,
    "start_time": "2021-10-13T12:28:46.929Z"
   },
   {
    "duration": 12692,
    "start_time": "2021-10-13T12:28:46.930Z"
   },
   {
    "duration": 12687,
    "start_time": "2021-10-13T12:28:46.936Z"
   },
   {
    "duration": 12687,
    "start_time": "2021-10-13T12:28:46.937Z"
   },
   {
    "duration": 12686,
    "start_time": "2021-10-13T12:28:46.939Z"
   },
   {
    "duration": 12685,
    "start_time": "2021-10-13T12:28:46.940Z"
   },
   {
    "duration": 12685,
    "start_time": "2021-10-13T12:28:46.941Z"
   },
   {
    "duration": 12684,
    "start_time": "2021-10-13T12:28:46.943Z"
   },
   {
    "duration": 12684,
    "start_time": "2021-10-13T12:28:46.944Z"
   },
   {
    "duration": 12682,
    "start_time": "2021-10-13T12:28:46.946Z"
   },
   {
    "duration": 12682,
    "start_time": "2021-10-13T12:28:46.947Z"
   },
   {
    "duration": 12682,
    "start_time": "2021-10-13T12:28:46.948Z"
   },
   {
    "duration": 12681,
    "start_time": "2021-10-13T12:28:46.950Z"
   },
   {
    "duration": 12675,
    "start_time": "2021-10-13T12:28:46.957Z"
   },
   {
    "duration": 322,
    "start_time": "2021-10-13T12:29:37.590Z"
   },
   {
    "duration": 254,
    "start_time": "2021-10-13T12:31:26.902Z"
   },
   {
    "duration": 3,
    "start_time": "2021-10-13T12:31:32.658Z"
   },
   {
    "duration": 53,
    "start_time": "2021-10-13T12:31:32.663Z"
   },
   {
    "duration": 37,
    "start_time": "2021-10-13T12:31:32.718Z"
   },
   {
    "duration": 13,
    "start_time": "2021-10-13T12:31:32.757Z"
   },
   {
    "duration": 7,
    "start_time": "2021-10-13T12:31:32.771Z"
   },
   {
    "duration": 14,
    "start_time": "2021-10-13T12:31:32.780Z"
   },
   {
    "duration": 231,
    "start_time": "2021-10-13T12:31:32.796Z"
   },
   {
    "duration": 12717,
    "start_time": "2021-10-13T12:31:20.312Z"
   },
   {
    "duration": 12714,
    "start_time": "2021-10-13T12:31:20.316Z"
   },
   {
    "duration": 12713,
    "start_time": "2021-10-13T12:31:20.318Z"
   },
   {
    "duration": 12703,
    "start_time": "2021-10-13T12:31:20.329Z"
   },
   {
    "duration": 12701,
    "start_time": "2021-10-13T12:31:20.331Z"
   },
   {
    "duration": 12686,
    "start_time": "2021-10-13T12:31:20.347Z"
   },
   {
    "duration": 12683,
    "start_time": "2021-10-13T12:31:20.351Z"
   },
   {
    "duration": 12683,
    "start_time": "2021-10-13T12:31:20.352Z"
   },
   {
    "duration": 12679,
    "start_time": "2021-10-13T12:31:20.357Z"
   },
   {
    "duration": 12673,
    "start_time": "2021-10-13T12:31:20.364Z"
   },
   {
    "duration": 12671,
    "start_time": "2021-10-13T12:31:20.367Z"
   },
   {
    "duration": 12668,
    "start_time": "2021-10-13T12:31:20.371Z"
   },
   {
    "duration": 12666,
    "start_time": "2021-10-13T12:31:20.374Z"
   },
   {
    "duration": 12663,
    "start_time": "2021-10-13T12:31:20.378Z"
   },
   {
    "duration": 12660,
    "start_time": "2021-10-13T12:31:20.381Z"
   },
   {
    "duration": 12658,
    "start_time": "2021-10-13T12:31:20.384Z"
   },
   {
    "duration": 3,
    "start_time": "2021-10-13T12:32:02.414Z"
   },
   {
    "duration": 53,
    "start_time": "2021-10-13T12:32:02.419Z"
   },
   {
    "duration": 38,
    "start_time": "2021-10-13T12:32:02.474Z"
   },
   {
    "duration": 12,
    "start_time": "2021-10-13T12:32:02.513Z"
   },
   {
    "duration": 24,
    "start_time": "2021-10-13T12:32:02.527Z"
   },
   {
    "duration": 17,
    "start_time": "2021-10-13T12:32:02.552Z"
   },
   {
    "duration": 24,
    "start_time": "2021-10-13T12:32:02.570Z"
   },
   {
    "duration": 8,
    "start_time": "2021-10-13T12:32:02.597Z"
   },
   {
    "duration": 14,
    "start_time": "2021-10-13T12:32:02.608Z"
   },
   {
    "duration": 23,
    "start_time": "2021-10-13T12:32:02.624Z"
   },
   {
    "duration": 10,
    "start_time": "2021-10-13T12:32:02.649Z"
   },
   {
    "duration": 14,
    "start_time": "2021-10-13T12:32:02.661Z"
   },
   {
    "duration": 5,
    "start_time": "2021-10-13T12:32:02.677Z"
   },
   {
    "duration": 15,
    "start_time": "2021-10-13T12:32:02.684Z"
   },
   {
    "duration": 292,
    "start_time": "2021-10-13T12:32:02.700Z"
   },
   {
    "duration": 81,
    "start_time": "2021-10-13T12:32:02.994Z"
   },
   {
    "duration": 23,
    "start_time": "2021-10-13T12:32:03.077Z"
   },
   {
    "duration": 54,
    "start_time": "2021-10-13T12:32:03.102Z"
   },
   {
    "duration": 22,
    "start_time": "2021-10-13T12:32:03.158Z"
   },
   {
    "duration": 1684,
    "start_time": "2021-10-13T12:32:03.182Z"
   },
   {
    "duration": 398,
    "start_time": "2021-10-13T12:32:04.867Z"
   },
   {
    "duration": 12,
    "start_time": "2021-10-13T12:32:05.267Z"
   },
   {
    "duration": 515,
    "start_time": "2021-10-13T12:32:05.282Z"
   },
   {
    "duration": 6124,
    "start_time": "2021-10-13T12:49:26.586Z"
   },
   {
    "duration": 6285,
    "start_time": "2021-10-13T12:50:04.481Z"
   },
   {
    "duration": 225,
    "start_time": "2021-10-13T12:50:55.295Z"
   },
   {
    "duration": 13,
    "start_time": "2021-10-13T12:51:05.744Z"
   },
   {
    "duration": 5593,
    "start_time": "2021-10-13T12:51:51.702Z"
   },
   {
    "duration": 6918,
    "start_time": "2021-10-13T12:51:57.651Z"
   },
   {
    "duration": 10,
    "start_time": "2021-10-13T12:52:19.348Z"
   },
   {
    "duration": 3,
    "start_time": "2021-10-13T12:55:59.682Z"
   },
   {
    "duration": 45,
    "start_time": "2021-10-13T12:55:59.687Z"
   },
   {
    "duration": 37,
    "start_time": "2021-10-13T12:55:59.735Z"
   },
   {
    "duration": 11,
    "start_time": "2021-10-13T12:55:59.774Z"
   },
   {
    "duration": 6,
    "start_time": "2021-10-13T12:55:59.787Z"
   },
   {
    "duration": 8,
    "start_time": "2021-10-13T12:55:59.795Z"
   },
   {
    "duration": 50,
    "start_time": "2021-10-13T12:55:59.805Z"
   },
   {
    "duration": 6,
    "start_time": "2021-10-13T12:55:59.858Z"
   },
   {
    "duration": 9,
    "start_time": "2021-10-13T12:55:59.866Z"
   },
   {
    "duration": 8,
    "start_time": "2021-10-13T12:55:59.877Z"
   },
   {
    "duration": 10,
    "start_time": "2021-10-13T12:55:59.887Z"
   },
   {
    "duration": 14,
    "start_time": "2021-10-13T12:55:59.899Z"
   },
   {
    "duration": 31,
    "start_time": "2021-10-13T12:55:59.915Z"
   },
   {
    "duration": 13,
    "start_time": "2021-10-13T12:55:59.948Z"
   },
   {
    "duration": 265,
    "start_time": "2021-10-13T12:55:59.963Z"
   },
   {
    "duration": 80,
    "start_time": "2021-10-13T12:56:00.230Z"
   },
   {
    "duration": 45,
    "start_time": "2021-10-13T12:56:00.312Z"
   },
   {
    "duration": 27,
    "start_time": "2021-10-13T12:56:00.358Z"
   },
   {
    "duration": 17,
    "start_time": "2021-10-13T12:56:00.387Z"
   },
   {
    "duration": 1915,
    "start_time": "2021-10-13T12:56:00.406Z"
   },
   {
    "duration": 401,
    "start_time": "2021-10-13T12:56:02.323Z"
   },
   {
    "duration": 9,
    "start_time": "2021-10-13T12:56:02.726Z"
   },
   {
    "duration": 551,
    "start_time": "2021-10-13T12:56:02.746Z"
   },
   {
    "duration": 506,
    "start_time": "2021-10-13T12:56:03.298Z"
   },
   {
    "duration": 545,
    "start_time": "2021-10-13T12:56:12.358Z"
   },
   {
    "duration": 234,
    "start_time": "2021-10-13T12:56:25.179Z"
   },
   {
    "duration": 261,
    "start_time": "2021-10-13T12:56:31.473Z"
   },
   {
    "duration": 541,
    "start_time": "2021-10-13T12:56:40.954Z"
   },
   {
    "duration": 509,
    "start_time": "2021-10-13T12:57:03.191Z"
   },
   {
    "duration": 550,
    "start_time": "2021-10-13T12:59:07.760Z"
   },
   {
    "duration": 529,
    "start_time": "2021-10-13T12:59:25.568Z"
   },
   {
    "duration": 87,
    "start_time": "2021-10-13T18:59:44.560Z"
   },
   {
    "duration": 13,
    "start_time": "2021-10-13T18:59:55.026Z"
   },
   {
    "duration": 14,
    "start_time": "2021-10-13T19:00:48.056Z"
   },
   {
    "duration": 18,
    "start_time": "2021-10-13T19:04:18.898Z"
   },
   {
    "duration": 13,
    "start_time": "2021-10-13T19:05:06.746Z"
   },
   {
    "duration": 8,
    "start_time": "2021-10-13T19:05:24.742Z"
   },
   {
    "duration": 9,
    "start_time": "2021-10-13T19:06:11.897Z"
   },
   {
    "duration": 13,
    "start_time": "2021-10-13T19:06:21.515Z"
   },
   {
    "duration": 8045,
    "start_time": "2021-10-13T19:09:27.442Z"
   },
   {
    "duration": 8,
    "start_time": "2021-10-13T19:09:36.832Z"
   },
   {
    "duration": 1728,
    "start_time": "2021-10-13T19:10:02.560Z"
   },
   {
    "duration": 7,
    "start_time": "2021-10-13T19:10:23.211Z"
   },
   {
    "duration": 15,
    "start_time": "2021-10-13T19:17:44.831Z"
   },
   {
    "duration": 3,
    "start_time": "2021-10-13T19:17:49.347Z"
   },
   {
    "duration": 41,
    "start_time": "2021-10-13T19:17:49.352Z"
   },
   {
    "duration": 50,
    "start_time": "2021-10-13T19:17:49.395Z"
   },
   {
    "duration": 11,
    "start_time": "2021-10-13T19:17:49.447Z"
   },
   {
    "duration": 6,
    "start_time": "2021-10-13T19:17:49.460Z"
   },
   {
    "duration": 7,
    "start_time": "2021-10-13T19:17:49.468Z"
   },
   {
    "duration": 20,
    "start_time": "2021-10-13T19:17:49.476Z"
   },
   {
    "duration": 6,
    "start_time": "2021-10-13T19:17:49.498Z"
   },
   {
    "duration": 6,
    "start_time": "2021-10-13T19:17:49.545Z"
   },
   {
    "duration": 8,
    "start_time": "2021-10-13T19:17:49.553Z"
   },
   {
    "duration": 9,
    "start_time": "2021-10-13T19:17:49.563Z"
   },
   {
    "duration": 15,
    "start_time": "2021-10-13T19:17:49.574Z"
   },
   {
    "duration": 5,
    "start_time": "2021-10-13T19:17:49.590Z"
   },
   {
    "duration": 12,
    "start_time": "2021-10-13T19:17:49.597Z"
   },
   {
    "duration": 271,
    "start_time": "2021-10-13T19:17:49.611Z"
   },
   {
    "duration": 78,
    "start_time": "2021-10-13T19:17:49.883Z"
   },
   {
    "duration": 22,
    "start_time": "2021-10-13T19:17:49.962Z"
   },
   {
    "duration": 28,
    "start_time": "2021-10-13T19:17:49.986Z"
   },
   {
    "duration": 42,
    "start_time": "2021-10-13T19:17:50.016Z"
   },
   {
    "duration": 1744,
    "start_time": "2021-10-13T19:17:50.059Z"
   },
   {
    "duration": 395,
    "start_time": "2021-10-13T19:17:51.805Z"
   },
   {
    "duration": 9,
    "start_time": "2021-10-13T19:17:52.202Z"
   },
   {
    "duration": 574,
    "start_time": "2021-10-13T19:17:52.214Z"
   },
   {
    "duration": 490,
    "start_time": "2021-10-13T19:17:52.790Z"
   },
   {
    "duration": 13,
    "start_time": "2021-10-13T19:17:53.281Z"
   },
   {
    "duration": 9,
    "start_time": "2021-10-13T19:17:53.296Z"
   },
   {
    "duration": 8,
    "start_time": "2021-10-13T19:17:53.306Z"
   },
   {
    "duration": 3,
    "start_time": "2021-10-15T09:20:50.960Z"
   },
   {
    "duration": 46,
    "start_time": "2021-10-15T09:20:50.965Z"
   },
   {
    "duration": 42,
    "start_time": "2021-10-15T09:20:51.013Z"
   },
   {
    "duration": 12,
    "start_time": "2021-10-15T09:20:51.057Z"
   },
   {
    "duration": 7,
    "start_time": "2021-10-15T09:20:51.071Z"
   },
   {
    "duration": 27,
    "start_time": "2021-10-15T09:20:51.080Z"
   },
   {
    "duration": 20,
    "start_time": "2021-10-15T09:20:51.109Z"
   },
   {
    "duration": 16,
    "start_time": "2021-10-15T09:20:51.132Z"
   },
   {
    "duration": 21,
    "start_time": "2021-10-15T09:20:51.150Z"
   },
   {
    "duration": 11,
    "start_time": "2021-10-15T09:20:51.173Z"
   },
   {
    "duration": 15,
    "start_time": "2021-10-15T09:20:51.186Z"
   },
   {
    "duration": 17,
    "start_time": "2021-10-15T09:20:51.202Z"
   },
   {
    "duration": 5,
    "start_time": "2021-10-15T09:20:51.220Z"
   },
   {
    "duration": 23,
    "start_time": "2021-10-15T09:20:51.227Z"
   },
   {
    "duration": 264,
    "start_time": "2021-10-15T09:20:51.252Z"
   },
   {
    "duration": 88,
    "start_time": "2021-10-15T09:20:51.518Z"
   },
   {
    "duration": 42,
    "start_time": "2021-10-15T09:20:51.608Z"
   },
   {
    "duration": 30,
    "start_time": "2021-10-15T09:20:51.652Z"
   },
   {
    "duration": 21,
    "start_time": "2021-10-15T09:20:51.684Z"
   },
   {
    "duration": 1669,
    "start_time": "2021-10-15T09:20:51.707Z"
   },
   {
    "duration": 403,
    "start_time": "2021-10-15T09:20:53.378Z"
   },
   {
    "duration": 9,
    "start_time": "2021-10-15T09:20:53.783Z"
   },
   {
    "duration": 502,
    "start_time": "2021-10-15T09:20:53.795Z"
   },
   {
    "duration": 513,
    "start_time": "2021-10-15T09:20:54.298Z"
   },
   {
    "duration": 14,
    "start_time": "2021-10-15T09:20:54.812Z"
   },
   {
    "duration": 20,
    "start_time": "2021-10-15T09:20:54.827Z"
   },
   {
    "duration": 14,
    "start_time": "2021-10-15T09:20:54.849Z"
   },
   {
    "duration": 84,
    "start_time": "2021-10-15T09:20:54.864Z"
   },
   {
    "duration": 808,
    "start_time": "2021-10-15T09:21:06.783Z"
   },
   {
    "duration": 1010,
    "start_time": "2021-10-15T09:21:54.022Z"
   },
   {
    "duration": 791,
    "start_time": "2021-10-15T09:22:15.694Z"
   },
   {
    "duration": 550,
    "start_time": "2021-10-15T09:22:49.666Z"
   },
   {
    "duration": 548,
    "start_time": "2021-10-15T09:23:43.713Z"
   },
   {
    "duration": 312,
    "start_time": "2021-10-15T09:24:38.385Z"
   },
   {
    "duration": 270,
    "start_time": "2021-10-15T09:24:48.068Z"
   },
   {
    "duration": 217,
    "start_time": "2021-10-15T09:25:01.574Z"
   },
   {
    "duration": 208,
    "start_time": "2021-10-15T09:25:49.461Z"
   },
   {
    "duration": 209,
    "start_time": "2021-10-15T09:26:13.274Z"
   },
   {
    "duration": 507,
    "start_time": "2021-10-15T09:26:29.227Z"
   },
   {
    "duration": 223,
    "start_time": "2021-10-15T09:26:34.016Z"
   },
   {
    "duration": 3,
    "start_time": "2021-10-15T09:26:39.865Z"
   },
   {
    "duration": 45,
    "start_time": "2021-10-15T09:26:39.870Z"
   },
   {
    "duration": 37,
    "start_time": "2021-10-15T09:26:39.917Z"
   },
   {
    "duration": 11,
    "start_time": "2021-10-15T09:26:39.956Z"
   },
   {
    "duration": 7,
    "start_time": "2021-10-15T09:26:39.969Z"
   },
   {
    "duration": 10,
    "start_time": "2021-10-15T09:26:39.978Z"
   },
   {
    "duration": 21,
    "start_time": "2021-10-15T09:26:39.990Z"
   },
   {
    "duration": 33,
    "start_time": "2021-10-15T09:26:40.013Z"
   },
   {
    "duration": 10,
    "start_time": "2021-10-15T09:26:40.048Z"
   },
   {
    "duration": 14,
    "start_time": "2021-10-15T09:26:40.059Z"
   },
   {
    "duration": 14,
    "start_time": "2021-10-15T09:26:40.075Z"
   },
   {
    "duration": 17,
    "start_time": "2021-10-15T09:26:40.091Z"
   },
   {
    "duration": 4,
    "start_time": "2021-10-15T09:26:40.109Z"
   },
   {
    "duration": 29,
    "start_time": "2021-10-15T09:26:40.115Z"
   },
   {
    "duration": 267,
    "start_time": "2021-10-15T09:26:40.146Z"
   },
   {
    "duration": 75,
    "start_time": "2021-10-15T09:26:40.415Z"
   },
   {
    "duration": 21,
    "start_time": "2021-10-15T09:26:40.492Z"
   },
   {
    "duration": 47,
    "start_time": "2021-10-15T09:26:40.515Z"
   },
   {
    "duration": 17,
    "start_time": "2021-10-15T09:26:40.564Z"
   },
   {
    "duration": 1842,
    "start_time": "2021-10-15T09:26:40.583Z"
   },
   {
    "duration": 410,
    "start_time": "2021-10-15T09:26:42.426Z"
   },
   {
    "duration": 12,
    "start_time": "2021-10-15T09:26:42.837Z"
   },
   {
    "duration": 568,
    "start_time": "2021-10-15T09:26:42.851Z"
   },
   {
    "duration": 491,
    "start_time": "2021-10-15T09:26:43.421Z"
   },
   {
    "duration": 14,
    "start_time": "2021-10-15T09:26:43.914Z"
   },
   {
    "duration": 20,
    "start_time": "2021-10-15T09:26:43.930Z"
   },
   {
    "duration": 6,
    "start_time": "2021-10-15T09:26:43.952Z"
   },
   {
    "duration": 236,
    "start_time": "2021-10-15T09:26:43.960Z"
   },
   {
    "duration": 312,
    "start_time": "2021-10-15T09:27:03.397Z"
   },
   {
    "duration": 221,
    "start_time": "2021-10-15T09:27:13.286Z"
   },
   {
    "duration": 12,
    "start_time": "2021-10-15T09:27:44.962Z"
   },
   {
    "duration": 216,
    "start_time": "2021-10-15T09:28:13.758Z"
   },
   {
    "duration": 11,
    "start_time": "2021-10-15T09:28:31.942Z"
   },
   {
    "duration": 11,
    "start_time": "2021-10-15T09:29:14.220Z"
   },
   {
    "duration": 11,
    "start_time": "2021-10-15T09:29:25.188Z"
   },
   {
    "duration": 12,
    "start_time": "2021-10-15T09:30:11.811Z"
   },
   {
    "duration": 12,
    "start_time": "2021-10-15T09:30:32.878Z"
   },
   {
    "duration": 246,
    "start_time": "2021-10-15T09:30:58.887Z"
   },
   {
    "duration": 11,
    "start_time": "2021-10-15T09:31:09.621Z"
   },
   {
    "duration": 13,
    "start_time": "2021-10-15T09:31:23.701Z"
   },
   {
    "duration": 13,
    "start_time": "2021-10-15T09:31:48.129Z"
   },
   {
    "duration": 11,
    "start_time": "2021-10-15T09:31:58.025Z"
   },
   {
    "duration": 11,
    "start_time": "2021-10-15T09:32:09.261Z"
   },
   {
    "duration": 12,
    "start_time": "2021-10-15T09:33:31.175Z"
   },
   {
    "duration": 11,
    "start_time": "2021-10-15T09:34:26.083Z"
   },
   {
    "duration": 715,
    "start_time": "2021-10-15T09:51:21.579Z"
   },
   {
    "duration": 8,
    "start_time": "2021-10-15T09:51:29.751Z"
   },
   {
    "duration": 4,
    "start_time": "2021-10-15T09:51:44.123Z"
   },
   {
    "duration": 5,
    "start_time": "2021-10-15T09:51:46.458Z"
   },
   {
    "duration": 826,
    "start_time": "2021-10-15T09:51:51.679Z"
   },
   {
    "duration": 980,
    "start_time": "2021-10-15T09:52:20.773Z"
   },
   {
    "duration": 824,
    "start_time": "2021-10-15T09:52:49.892Z"
   },
   {
    "duration": 669,
    "start_time": "2021-10-15T09:53:04.469Z"
   },
   {
    "duration": 708,
    "start_time": "2021-10-15T09:53:13.004Z"
   },
   {
    "duration": 1097,
    "start_time": "2021-10-15T09:53:39.116Z"
   },
   {
    "duration": 1541,
    "start_time": "2021-10-15T09:54:16.484Z"
   },
   {
    "duration": 1250,
    "start_time": "2021-10-15T09:55:03.256Z"
   },
   {
    "duration": 903,
    "start_time": "2021-10-15T09:55:24.566Z"
   },
   {
    "duration": 842,
    "start_time": "2021-10-15T09:59:57.508Z"
   },
   {
    "duration": 1188,
    "start_time": "2021-10-15T10:00:56.587Z"
   },
   {
    "duration": 826,
    "start_time": "2021-10-15T10:01:08.161Z"
   },
   {
    "duration": 5,
    "start_time": "2021-10-15T10:01:15.957Z"
   },
   {
    "duration": 51,
    "start_time": "2021-10-15T10:01:15.964Z"
   },
   {
    "duration": 37,
    "start_time": "2021-10-15T10:01:16.017Z"
   },
   {
    "duration": 14,
    "start_time": "2021-10-15T10:01:16.057Z"
   },
   {
    "duration": 7,
    "start_time": "2021-10-15T10:01:16.073Z"
   },
   {
    "duration": 9,
    "start_time": "2021-10-15T10:01:16.081Z"
   },
   {
    "duration": 20,
    "start_time": "2021-10-15T10:01:16.091Z"
   },
   {
    "duration": 43,
    "start_time": "2021-10-15T10:01:16.113Z"
   },
   {
    "duration": 10,
    "start_time": "2021-10-15T10:01:16.159Z"
   },
   {
    "duration": 13,
    "start_time": "2021-10-15T10:01:16.171Z"
   },
   {
    "duration": 15,
    "start_time": "2021-10-15T10:01:16.186Z"
   },
   {
    "duration": 14,
    "start_time": "2021-10-15T10:01:16.203Z"
   },
   {
    "duration": 4,
    "start_time": "2021-10-15T10:01:16.218Z"
   },
   {
    "duration": 38,
    "start_time": "2021-10-15T10:01:16.224Z"
   },
   {
    "duration": 272,
    "start_time": "2021-10-15T10:01:16.264Z"
   },
   {
    "duration": 73,
    "start_time": "2021-10-15T10:01:16.537Z"
   },
   {
    "duration": 42,
    "start_time": "2021-10-15T10:01:16.612Z"
   },
   {
    "duration": 28,
    "start_time": "2021-10-15T10:01:16.657Z"
   },
   {
    "duration": 19,
    "start_time": "2021-10-15T10:01:16.687Z"
   },
   {
    "duration": 1935,
    "start_time": "2021-10-15T10:01:16.708Z"
   },
   {
    "duration": 414,
    "start_time": "2021-10-15T10:01:18.649Z"
   },
   {
    "duration": 9,
    "start_time": "2021-10-15T10:01:19.064Z"
   },
   {
    "duration": 583,
    "start_time": "2021-10-15T10:01:19.077Z"
   },
   {
    "duration": 666,
    "start_time": "2021-10-15T10:01:19.662Z"
   },
   {
    "duration": 23,
    "start_time": "2021-10-15T10:01:20.330Z"
   },
   {
    "duration": 9,
    "start_time": "2021-10-15T10:01:20.354Z"
   },
   {
    "duration": 9,
    "start_time": "2021-10-15T10:01:20.365Z"
   },
   {
    "duration": 1214,
    "start_time": "2021-10-15T10:01:20.375Z"
   },
   {
    "duration": 1053,
    "start_time": "2021-10-15T10:04:36.425Z"
   },
   {
    "duration": 836,
    "start_time": "2021-10-15T10:05:03.504Z"
   },
   {
    "duration": 398,
    "start_time": "2021-10-15T10:05:14.534Z"
   },
   {
    "duration": 395,
    "start_time": "2021-10-15T10:05:20.652Z"
   },
   {
    "duration": 399,
    "start_time": "2021-10-15T10:07:50.490Z"
   },
   {
    "duration": 429,
    "start_time": "2021-10-15T10:08:22.738Z"
   },
   {
    "duration": 407,
    "start_time": "2021-10-15T10:08:40.177Z"
   },
   {
    "duration": 440,
    "start_time": "2021-10-15T10:09:02.095Z"
   },
   {
    "duration": 411,
    "start_time": "2021-10-15T10:09:10.609Z"
   },
   {
    "duration": 388,
    "start_time": "2021-10-15T10:09:16.704Z"
   },
   {
    "duration": 428,
    "start_time": "2021-10-15T10:09:33.939Z"
   },
   {
    "duration": 429,
    "start_time": "2021-10-15T10:09:46.546Z"
   },
   {
    "duration": 467,
    "start_time": "2021-10-15T10:10:20.346Z"
   },
   {
    "duration": 409,
    "start_time": "2021-10-15T10:10:25.424Z"
   },
   {
    "duration": 711,
    "start_time": "2021-10-15T10:11:04.480Z"
   },
   {
    "duration": 415,
    "start_time": "2021-10-15T10:11:13.986Z"
   },
   {
    "duration": 1021,
    "start_time": "2021-10-15T10:11:22.328Z"
   },
   {
    "duration": 433,
    "start_time": "2021-10-15T10:11:51.088Z"
   },
   {
    "duration": 441,
    "start_time": "2021-10-15T10:12:51.941Z"
   },
   {
    "duration": 273,
    "start_time": "2021-10-15T10:13:05.704Z"
   },
   {
    "duration": 425,
    "start_time": "2021-10-15T10:13:18.034Z"
   },
   {
    "duration": 423,
    "start_time": "2021-10-15T10:13:40.969Z"
   },
   {
    "duration": 427,
    "start_time": "2021-10-15T10:14:11.726Z"
   },
   {
    "duration": 889,
    "start_time": "2021-10-15T10:21:14.327Z"
   },
   {
    "duration": 434,
    "start_time": "2021-10-15T10:21:21.854Z"
   },
   {
    "duration": 456,
    "start_time": "2021-10-15T10:23:18.831Z"
   },
   {
    "duration": 488,
    "start_time": "2021-10-15T10:23:30.902Z"
   },
   {
    "duration": 794,
    "start_time": "2021-10-15T10:23:44.276Z"
   },
   {
    "duration": 932,
    "start_time": "2021-10-15T10:27:46.247Z"
   },
   {
    "duration": 432,
    "start_time": "2021-10-15T10:27:53.695Z"
   },
   {
    "duration": 282,
    "start_time": "2021-10-15T10:42:16.382Z"
   },
   {
    "duration": 3,
    "start_time": "2021-10-15T10:42:24.296Z"
   },
   {
    "duration": 63,
    "start_time": "2021-10-15T10:42:24.301Z"
   },
   {
    "duration": 38,
    "start_time": "2021-10-15T10:42:24.368Z"
   },
   {
    "duration": 38,
    "start_time": "2021-10-15T10:42:24.409Z"
   },
   {
    "duration": 7,
    "start_time": "2021-10-15T10:42:24.449Z"
   },
   {
    "duration": 9,
    "start_time": "2021-10-15T10:42:24.466Z"
   },
   {
    "duration": 25,
    "start_time": "2021-10-15T10:42:24.478Z"
   },
   {
    "duration": 7,
    "start_time": "2021-10-15T10:42:24.506Z"
   },
   {
    "duration": 45,
    "start_time": "2021-10-15T10:42:24.515Z"
   },
   {
    "duration": 9,
    "start_time": "2021-10-15T10:42:24.562Z"
   },
   {
    "duration": 12,
    "start_time": "2021-10-15T10:42:24.573Z"
   },
   {
    "duration": 16,
    "start_time": "2021-10-15T10:42:24.587Z"
   },
   {
    "duration": 4,
    "start_time": "2021-10-15T10:42:24.605Z"
   },
   {
    "duration": 13,
    "start_time": "2021-10-15T10:42:24.611Z"
   },
   {
    "duration": 310,
    "start_time": "2021-10-15T10:42:24.626Z"
   },
   {
    "duration": 84,
    "start_time": "2021-10-15T10:42:24.938Z"
   },
   {
    "duration": 42,
    "start_time": "2021-10-15T10:42:25.024Z"
   },
   {
    "duration": 27,
    "start_time": "2021-10-15T10:42:25.068Z"
   },
   {
    "duration": 26,
    "start_time": "2021-10-15T10:42:25.098Z"
   },
   {
    "duration": 1849,
    "start_time": "2021-10-15T10:42:25.126Z"
   },
   {
    "duration": 458,
    "start_time": "2021-10-15T10:42:26.976Z"
   },
   {
    "duration": 18,
    "start_time": "2021-10-15T10:42:27.436Z"
   },
   {
    "duration": 572,
    "start_time": "2021-10-15T10:42:27.456Z"
   },
   {
    "duration": 506,
    "start_time": "2021-10-15T10:42:28.030Z"
   },
   {
    "duration": 19,
    "start_time": "2021-10-15T10:42:28.538Z"
   },
   {
    "duration": 9,
    "start_time": "2021-10-15T10:42:28.559Z"
   },
   {
    "duration": 15,
    "start_time": "2021-10-15T10:42:28.570Z"
   },
   {
    "duration": 472,
    "start_time": "2021-10-15T10:42:28.587Z"
   },
   {
    "duration": 512,
    "start_time": "2021-10-15T10:42:29.061Z"
   },
   {
    "duration": 480,
    "start_time": "2021-10-15T10:42:29.575Z"
   },
   {
    "duration": 4,
    "start_time": "2021-10-15T10:42:30.057Z"
   },
   {
    "duration": 56,
    "start_time": "2021-10-15T10:42:30.062Z"
   },
   {
    "duration": 10,
    "start_time": "2021-10-15T10:42:41.839Z"
   },
   {
    "duration": 8,
    "start_time": "2021-10-15T10:43:20.305Z"
   },
   {
    "duration": 8,
    "start_time": "2021-10-15T10:43:40.373Z"
   },
   {
    "duration": 9,
    "start_time": "2021-10-15T10:43:43.502Z"
   },
   {
    "duration": 10,
    "start_time": "2021-10-15T10:43:54.991Z"
   },
   {
    "duration": 10,
    "start_time": "2021-10-15T10:44:09.333Z"
   },
   {
    "duration": 8,
    "start_time": "2021-10-15T10:47:27.194Z"
   },
   {
    "duration": 356,
    "start_time": "2021-10-15T10:48:20.129Z"
   },
   {
    "duration": 257,
    "start_time": "2021-10-15T10:48:36.654Z"
   },
   {
    "duration": 10,
    "start_time": "2021-10-15T10:49:31.508Z"
   },
   {
    "duration": 4,
    "start_time": "2021-10-15T10:51:32.206Z"
   },
   {
    "duration": 79,
    "start_time": "2021-10-15T10:51:32.211Z"
   },
   {
    "duration": 36,
    "start_time": "2021-10-15T10:51:32.292Z"
   },
   {
    "duration": 24,
    "start_time": "2021-10-15T10:51:32.329Z"
   },
   {
    "duration": 7,
    "start_time": "2021-10-15T10:51:32.354Z"
   },
   {
    "duration": 11,
    "start_time": "2021-10-15T10:51:32.362Z"
   },
   {
    "duration": 20,
    "start_time": "2021-10-15T10:51:32.375Z"
   },
   {
    "duration": 6,
    "start_time": "2021-10-15T10:51:32.396Z"
   },
   {
    "duration": 19,
    "start_time": "2021-10-15T10:51:32.405Z"
   },
   {
    "duration": 24,
    "start_time": "2021-10-15T10:51:32.425Z"
   },
   {
    "duration": 14,
    "start_time": "2021-10-15T10:51:32.450Z"
   },
   {
    "duration": 14,
    "start_time": "2021-10-15T10:51:32.465Z"
   },
   {
    "duration": 6,
    "start_time": "2021-10-15T10:51:32.480Z"
   },
   {
    "duration": 22,
    "start_time": "2021-10-15T10:51:32.487Z"
   },
   {
    "duration": 260,
    "start_time": "2021-10-15T10:51:32.511Z"
   },
   {
    "duration": 77,
    "start_time": "2021-10-15T10:51:32.773Z"
   },
   {
    "duration": 23,
    "start_time": "2021-10-15T10:51:32.851Z"
   },
   {
    "duration": 29,
    "start_time": "2021-10-15T10:51:32.875Z"
   },
   {
    "duration": 43,
    "start_time": "2021-10-15T10:51:32.906Z"
   },
   {
    "duration": 1854,
    "start_time": "2021-10-15T10:51:32.951Z"
   },
   {
    "duration": 391,
    "start_time": "2021-10-15T10:51:34.807Z"
   },
   {
    "duration": 9,
    "start_time": "2021-10-15T10:51:35.200Z"
   },
   {
    "duration": 588,
    "start_time": "2021-10-15T10:51:35.211Z"
   },
   {
    "duration": 509,
    "start_time": "2021-10-15T10:51:35.801Z"
   },
   {
    "duration": 13,
    "start_time": "2021-10-15T10:51:36.312Z"
   },
   {
    "duration": 21,
    "start_time": "2021-10-15T10:51:36.326Z"
   },
   {
    "duration": 8,
    "start_time": "2021-10-15T10:51:36.350Z"
   },
   {
    "duration": 423,
    "start_time": "2021-10-15T10:51:36.359Z"
   },
   {
    "duration": 433,
    "start_time": "2021-10-15T10:51:36.784Z"
   },
   {
    "duration": 404,
    "start_time": "2021-10-15T10:51:37.218Z"
   },
   {
    "duration": 3,
    "start_time": "2021-10-15T10:51:37.624Z"
   },
   {
    "duration": 24,
    "start_time": "2021-10-15T10:51:37.644Z"
   },
   {
    "duration": 211,
    "start_time": "2021-10-15T10:51:37.669Z"
   },
   {
    "duration": 11742,
    "start_time": "2021-10-15T10:51:26.140Z"
   },
   {
    "duration": 3,
    "start_time": "2021-10-15T10:51:48.736Z"
   },
   {
    "duration": 50,
    "start_time": "2021-10-15T10:51:48.741Z"
   },
   {
    "duration": 37,
    "start_time": "2021-10-15T10:51:48.793Z"
   },
   {
    "duration": 21,
    "start_time": "2021-10-15T10:51:48.832Z"
   },
   {
    "duration": 7,
    "start_time": "2021-10-15T10:51:48.855Z"
   },
   {
    "duration": 11,
    "start_time": "2021-10-15T10:51:48.863Z"
   },
   {
    "duration": 26,
    "start_time": "2021-10-15T10:51:48.875Z"
   },
   {
    "duration": 7,
    "start_time": "2021-10-15T10:51:48.903Z"
   },
   {
    "duration": 33,
    "start_time": "2021-10-15T10:51:48.912Z"
   },
   {
    "duration": 15,
    "start_time": "2021-10-15T10:51:48.947Z"
   },
   {
    "duration": 16,
    "start_time": "2021-10-15T10:51:48.964Z"
   },
   {
    "duration": 21,
    "start_time": "2021-10-15T10:51:48.982Z"
   },
   {
    "duration": 4,
    "start_time": "2021-10-15T10:51:49.005Z"
   },
   {
    "duration": 18,
    "start_time": "2021-10-15T10:51:49.011Z"
   },
   {
    "duration": 254,
    "start_time": "2021-10-15T10:51:49.031Z"
   },
   {
    "duration": 79,
    "start_time": "2021-10-15T10:51:49.287Z"
   },
   {
    "duration": 22,
    "start_time": "2021-10-15T10:51:49.368Z"
   },
   {
    "duration": 26,
    "start_time": "2021-10-15T10:51:49.392Z"
   },
   {
    "duration": 39,
    "start_time": "2021-10-15T10:51:49.420Z"
   },
   {
    "duration": 1570,
    "start_time": "2021-10-15T10:51:49.461Z"
   },
   {
    "duration": 650,
    "start_time": "2021-10-15T10:51:51.033Z"
   },
   {
    "duration": 10,
    "start_time": "2021-10-15T10:51:51.684Z"
   },
   {
    "duration": 513,
    "start_time": "2021-10-15T10:51:51.697Z"
   },
   {
    "duration": 596,
    "start_time": "2021-10-15T10:51:52.212Z"
   },
   {
    "duration": 14,
    "start_time": "2021-10-15T10:51:52.809Z"
   },
   {
    "duration": 26,
    "start_time": "2021-10-15T10:51:52.825Z"
   },
   {
    "duration": 17,
    "start_time": "2021-10-15T10:51:52.853Z"
   },
   {
    "duration": 428,
    "start_time": "2021-10-15T10:51:52.871Z"
   },
   {
    "duration": 444,
    "start_time": "2021-10-15T10:51:53.300Z"
   },
   {
    "duration": 416,
    "start_time": "2021-10-15T10:51:53.746Z"
   },
   {
    "duration": 3,
    "start_time": "2021-10-15T10:51:54.163Z"
   },
   {
    "duration": 12,
    "start_time": "2021-10-15T10:51:54.167Z"
   },
   {
    "duration": 10,
    "start_time": "2021-10-15T10:51:54.181Z"
   },
   {
    "duration": 11,
    "start_time": "2021-10-15T11:22:40.298Z"
   },
   {
    "duration": 1467,
    "start_time": "2021-10-16T06:27:00.106Z"
   },
   {
    "duration": 57,
    "start_time": "2021-10-16T06:27:01.576Z"
   },
   {
    "duration": 76,
    "start_time": "2021-10-16T06:27:01.636Z"
   },
   {
    "duration": 18,
    "start_time": "2021-10-16T06:27:01.715Z"
   },
   {
    "duration": 9,
    "start_time": "2021-10-16T06:27:01.735Z"
   },
   {
    "duration": 38,
    "start_time": "2021-10-16T06:27:01.747Z"
   },
   {
    "duration": 39,
    "start_time": "2021-10-16T06:27:01.788Z"
   },
   {
    "duration": 9,
    "start_time": "2021-10-16T06:27:01.831Z"
   },
   {
    "duration": 41,
    "start_time": "2021-10-16T06:27:01.843Z"
   },
   {
    "duration": 16,
    "start_time": "2021-10-16T06:27:01.887Z"
   },
   {
    "duration": 13,
    "start_time": "2021-10-16T06:27:01.906Z"
   },
   {
    "duration": 24,
    "start_time": "2021-10-16T06:27:01.921Z"
   },
   {
    "duration": 6,
    "start_time": "2021-10-16T06:27:01.947Z"
   },
   {
    "duration": 14,
    "start_time": "2021-10-16T06:27:01.982Z"
   },
   {
    "duration": 445,
    "start_time": "2021-10-16T06:27:01.999Z"
   },
   {
    "duration": 119,
    "start_time": "2021-10-16T06:27:02.447Z"
   },
   {
    "duration": 37,
    "start_time": "2021-10-16T06:27:02.581Z"
   },
   {
    "duration": 73,
    "start_time": "2021-10-16T06:27:02.620Z"
   },
   {
    "duration": 40,
    "start_time": "2021-10-16T06:27:02.696Z"
   },
   {
    "duration": 2879,
    "start_time": "2021-10-16T06:27:02.739Z"
   },
   {
    "duration": 715,
    "start_time": "2021-10-16T06:27:05.620Z"
   },
   {
    "duration": 15,
    "start_time": "2021-10-16T06:27:06.338Z"
   },
   {
    "duration": 810,
    "start_time": "2021-10-16T06:27:06.359Z"
   },
   {
    "duration": 779,
    "start_time": "2021-10-16T06:27:07.172Z"
   },
   {
    "duration": 40,
    "start_time": "2021-10-16T06:27:07.955Z"
   },
   {
    "duration": 13,
    "start_time": "2021-10-16T06:27:07.998Z"
   },
   {
    "duration": 12,
    "start_time": "2021-10-16T06:27:08.014Z"
   },
   {
    "duration": 842,
    "start_time": "2021-10-16T06:27:08.029Z"
   },
   {
    "duration": 820,
    "start_time": "2021-10-16T06:27:08.873Z"
   },
   {
    "duration": 722,
    "start_time": "2021-10-16T06:27:09.696Z"
   },
   {
    "duration": 5,
    "start_time": "2021-10-16T06:27:10.421Z"
   },
   {
    "duration": 30,
    "start_time": "2021-10-16T06:27:10.428Z"
   },
   {
    "duration": 30,
    "start_time": "2021-10-16T06:27:10.460Z"
   },
   {
    "duration": 5,
    "start_time": "2021-10-16T06:41:41.686Z"
   },
   {
    "duration": 6,
    "start_time": "2021-10-16T06:46:45.646Z"
   },
   {
    "duration": 9,
    "start_time": "2021-10-16T06:47:25.784Z"
   },
   {
    "duration": 408,
    "start_time": "2021-10-16T06:47:55.048Z"
   },
   {
    "duration": 32,
    "start_time": "2021-10-16T06:48:06.718Z"
   },
   {
    "duration": 5,
    "start_time": "2021-10-16T06:49:28.659Z"
   },
   {
    "duration": 509,
    "start_time": "2021-10-16T06:51:04.831Z"
   },
   {
    "duration": 6,
    "start_time": "2021-10-16T06:51:24.995Z"
   },
   {
    "duration": 6,
    "start_time": "2021-10-16T06:51:42.952Z"
   },
   {
    "duration": 5,
    "start_time": "2021-10-16T06:52:14.827Z"
   },
   {
    "duration": 60,
    "start_time": "2021-10-16T06:52:31.531Z"
   },
   {
    "duration": 53,
    "start_time": "2021-10-16T06:52:48.510Z"
   },
   {
    "duration": 281,
    "start_time": "2021-10-16T06:53:40.830Z"
   },
   {
    "duration": 446,
    "start_time": "2021-10-16T06:53:48.536Z"
   },
   {
    "duration": 413,
    "start_time": "2021-10-16T06:57:28.974Z"
   },
   {
    "duration": 214,
    "start_time": "2021-10-16T13:58:26.012Z"
   },
   {
    "duration": 1117,
    "start_time": "2021-10-16T13:58:34.095Z"
   },
   {
    "duration": 44,
    "start_time": "2021-10-16T13:58:35.214Z"
   },
   {
    "duration": 43,
    "start_time": "2021-10-16T13:58:35.260Z"
   },
   {
    "duration": 12,
    "start_time": "2021-10-16T13:58:35.305Z"
   },
   {
    "duration": 7,
    "start_time": "2021-10-16T13:58:35.319Z"
   },
   {
    "duration": 7,
    "start_time": "2021-10-16T13:58:35.327Z"
   },
   {
    "duration": 55,
    "start_time": "2021-10-16T13:58:35.336Z"
   },
   {
    "duration": 7,
    "start_time": "2021-10-16T13:58:35.394Z"
   },
   {
    "duration": 13,
    "start_time": "2021-10-16T13:58:35.403Z"
   },
   {
    "duration": 12,
    "start_time": "2021-10-16T13:58:35.418Z"
   },
   {
    "duration": 9,
    "start_time": "2021-10-16T13:58:35.431Z"
   },
   {
    "duration": 16,
    "start_time": "2021-10-16T13:58:35.441Z"
   },
   {
    "duration": 34,
    "start_time": "2021-10-16T13:58:35.458Z"
   },
   {
    "duration": 13,
    "start_time": "2021-10-16T13:58:35.494Z"
   },
   {
    "duration": 274,
    "start_time": "2021-10-16T13:58:35.509Z"
   },
   {
    "duration": 70,
    "start_time": "2021-10-16T13:58:35.784Z"
   },
   {
    "duration": 439,
    "start_time": "2021-10-16T13:58:35.855Z"
   },
   {
    "duration": 14985,
    "start_time": "2021-10-16T13:58:21.311Z"
   },
   {
    "duration": 14982,
    "start_time": "2021-10-16T13:58:21.315Z"
   },
   {
    "duration": 14968,
    "start_time": "2021-10-16T13:58:21.330Z"
   },
   {
    "duration": 14961,
    "start_time": "2021-10-16T13:58:21.338Z"
   },
   {
    "duration": 14958,
    "start_time": "2021-10-16T13:58:21.342Z"
   },
   {
    "duration": 14950,
    "start_time": "2021-10-16T13:58:21.351Z"
   },
   {
    "duration": 14949,
    "start_time": "2021-10-16T13:58:21.353Z"
   },
   {
    "duration": 14939,
    "start_time": "2021-10-16T13:58:21.364Z"
   },
   {
    "duration": 14938,
    "start_time": "2021-10-16T13:58:21.366Z"
   },
   {
    "duration": 14926,
    "start_time": "2021-10-16T13:58:21.379Z"
   },
   {
    "duration": 14923,
    "start_time": "2021-10-16T13:58:21.383Z"
   },
   {
    "duration": 14916,
    "start_time": "2021-10-16T13:58:21.391Z"
   },
   {
    "duration": 14913,
    "start_time": "2021-10-16T13:58:21.395Z"
   },
   {
    "duration": 14907,
    "start_time": "2021-10-16T13:58:21.402Z"
   },
   {
    "duration": 14905,
    "start_time": "2021-10-16T13:58:21.405Z"
   },
   {
    "duration": 14901,
    "start_time": "2021-10-16T13:58:21.410Z"
   },
   {
    "duration": 14894,
    "start_time": "2021-10-16T13:58:21.418Z"
   },
   {
    "duration": 185,
    "start_time": "2021-10-16T13:59:14.047Z"
   },
   {
    "duration": 10,
    "start_time": "2021-10-16T14:00:29.817Z"
   },
   {
    "duration": 609,
    "start_time": "2021-10-16T14:03:38.371Z"
   },
   {
    "duration": 233,
    "start_time": "2021-10-16T14:06:28.079Z"
   },
   {
    "duration": 4,
    "start_time": "2021-10-16T14:13:41.161Z"
   },
   {
    "duration": 62,
    "start_time": "2021-10-16T14:13:41.167Z"
   },
   {
    "duration": 61,
    "start_time": "2021-10-16T14:13:41.231Z"
   },
   {
    "duration": 13,
    "start_time": "2021-10-16T14:13:41.295Z"
   },
   {
    "duration": 8,
    "start_time": "2021-10-16T14:13:41.310Z"
   },
   {
    "duration": 7,
    "start_time": "2021-10-16T14:13:41.320Z"
   },
   {
    "duration": 20,
    "start_time": "2021-10-16T14:13:41.329Z"
   },
   {
    "duration": 43,
    "start_time": "2021-10-16T14:13:41.351Z"
   },
   {
    "duration": 8,
    "start_time": "2021-10-16T14:13:41.398Z"
   },
   {
    "duration": 7,
    "start_time": "2021-10-16T14:13:41.409Z"
   },
   {
    "duration": 9,
    "start_time": "2021-10-16T14:13:41.418Z"
   },
   {
    "duration": 13,
    "start_time": "2021-10-16T14:13:41.429Z"
   },
   {
    "duration": 5,
    "start_time": "2021-10-16T14:13:41.444Z"
   },
   {
    "duration": 47,
    "start_time": "2021-10-16T14:13:41.450Z"
   },
   {
    "duration": 273,
    "start_time": "2021-10-16T14:13:41.499Z"
   },
   {
    "duration": 74,
    "start_time": "2021-10-16T14:13:41.774Z"
   },
   {
    "duration": 251,
    "start_time": "2021-10-16T14:13:41.850Z"
   },
   {
    "duration": 24,
    "start_time": "2021-10-16T14:13:42.103Z"
   },
   {
    "duration": 28,
    "start_time": "2021-10-16T14:13:42.128Z"
   },
   {
    "duration": 42,
    "start_time": "2021-10-16T14:13:42.158Z"
   },
   {
    "duration": 1804,
    "start_time": "2021-10-16T14:13:42.202Z"
   },
   {
    "duration": 439,
    "start_time": "2021-10-16T14:13:44.008Z"
   },
   {
    "duration": 11,
    "start_time": "2021-10-16T14:13:44.449Z"
   },
   {
    "duration": 509,
    "start_time": "2021-10-16T14:13:44.462Z"
   },
   {
    "duration": 573,
    "start_time": "2021-10-16T14:13:44.973Z"
   },
   {
    "duration": 15,
    "start_time": "2021-10-16T14:13:45.548Z"
   },
   {
    "duration": 8,
    "start_time": "2021-10-16T14:13:45.566Z"
   },
   {
    "duration": 7,
    "start_time": "2021-10-16T14:13:45.592Z"
   },
   {
    "duration": 453,
    "start_time": "2021-10-16T14:13:45.601Z"
   },
   {
    "duration": 471,
    "start_time": "2021-10-16T14:13:46.056Z"
   },
   {
    "duration": 473,
    "start_time": "2021-10-16T14:13:46.529Z"
   },
   {
    "duration": 4,
    "start_time": "2021-10-16T14:13:47.005Z"
   },
   {
    "duration": 16,
    "start_time": "2021-10-16T14:13:47.011Z"
   },
   {
    "duration": 12,
    "start_time": "2021-10-16T14:13:47.029Z"
   },
   {
    "duration": 14,
    "start_time": "2021-10-16T14:16:33.416Z"
   },
   {
    "duration": 15,
    "start_time": "2021-10-16T14:16:36.580Z"
   },
   {
    "duration": 4,
    "start_time": "2021-10-16T14:16:40.757Z"
   },
   {
    "duration": 53,
    "start_time": "2021-10-16T14:16:40.763Z"
   },
   {
    "duration": 42,
    "start_time": "2021-10-16T14:16:40.818Z"
   },
   {
    "duration": 38,
    "start_time": "2021-10-16T14:16:40.862Z"
   },
   {
    "duration": 6,
    "start_time": "2021-10-16T14:16:40.902Z"
   },
   {
    "duration": 8,
    "start_time": "2021-10-16T14:16:40.910Z"
   },
   {
    "duration": 20,
    "start_time": "2021-10-16T14:16:40.920Z"
   },
   {
    "duration": 6,
    "start_time": "2021-10-16T14:16:40.942Z"
   },
   {
    "duration": 48,
    "start_time": "2021-10-16T14:16:40.950Z"
   },
   {
    "duration": 8,
    "start_time": "2021-10-16T14:16:41.000Z"
   },
   {
    "duration": 9,
    "start_time": "2021-10-16T14:16:41.009Z"
   },
   {
    "duration": 13,
    "start_time": "2021-10-16T14:16:41.020Z"
   },
   {
    "duration": 3,
    "start_time": "2021-10-16T14:16:41.035Z"
   },
   {
    "duration": 11,
    "start_time": "2021-10-16T14:16:41.040Z"
   },
   {
    "duration": 287,
    "start_time": "2021-10-16T14:16:41.052Z"
   },
   {
    "duration": 73,
    "start_time": "2021-10-16T14:16:41.340Z"
   },
   {
    "duration": 246,
    "start_time": "2021-10-16T14:16:41.415Z"
   },
   {
    "duration": 35,
    "start_time": "2021-10-16T14:16:41.662Z"
   },
   {
    "duration": 27,
    "start_time": "2021-10-16T14:16:41.700Z"
   },
   {
    "duration": 17,
    "start_time": "2021-10-16T14:16:41.729Z"
   },
   {
    "duration": 1801,
    "start_time": "2021-10-16T14:16:41.748Z"
   },
   {
    "duration": 404,
    "start_time": "2021-10-16T14:16:43.551Z"
   },
   {
    "duration": 10,
    "start_time": "2021-10-16T14:16:43.956Z"
   },
   {
    "duration": 487,
    "start_time": "2021-10-16T14:16:43.967Z"
   },
   {
    "duration": 514,
    "start_time": "2021-10-16T14:16:44.456Z"
   },
   {
    "duration": 23,
    "start_time": "2021-10-16T14:16:44.972Z"
   },
   {
    "duration": 8,
    "start_time": "2021-10-16T14:16:44.996Z"
   },
   {
    "duration": 14,
    "start_time": "2021-10-16T14:16:45.006Z"
   },
   {
    "duration": 541,
    "start_time": "2021-10-16T14:16:45.021Z"
   },
   {
    "duration": 470,
    "start_time": "2021-10-16T14:16:45.564Z"
   },
   {
    "duration": 444,
    "start_time": "2021-10-16T14:16:46.036Z"
   },
   {
    "duration": 9,
    "start_time": "2021-10-16T14:16:46.482Z"
   },
   {
    "duration": 11,
    "start_time": "2021-10-16T14:16:46.493Z"
   },
   {
    "duration": 10,
    "start_time": "2021-10-16T14:16:46.506Z"
   },
   {
    "duration": 19,
    "start_time": "2021-10-16T14:17:08.637Z"
   },
   {
    "duration": 14,
    "start_time": "2021-10-16T14:17:59.997Z"
   },
   {
    "duration": 14,
    "start_time": "2021-10-16T14:18:19.757Z"
   },
   {
    "duration": 14,
    "start_time": "2021-10-16T14:18:41.333Z"
   },
   {
    "duration": 1526,
    "start_time": "2021-10-17T12:39:32.344Z"
   },
   {
    "duration": 63,
    "start_time": "2021-10-17T12:39:33.877Z"
   },
   {
    "duration": 100,
    "start_time": "2021-10-17T12:39:33.943Z"
   },
   {
    "duration": 38,
    "start_time": "2021-10-17T12:39:34.047Z"
   },
   {
    "duration": 15,
    "start_time": "2021-10-17T12:39:34.088Z"
   },
   {
    "duration": 17,
    "start_time": "2021-10-17T12:39:34.106Z"
   },
   {
    "duration": 65,
    "start_time": "2021-10-17T12:39:34.126Z"
   },
   {
    "duration": 9,
    "start_time": "2021-10-17T12:39:34.195Z"
   },
   {
    "duration": 15,
    "start_time": "2021-10-17T12:39:34.207Z"
   },
   {
    "duration": 38,
    "start_time": "2021-10-17T12:39:34.225Z"
   },
   {
    "duration": 12,
    "start_time": "2021-10-17T12:39:34.267Z"
   },
   {
    "duration": 22,
    "start_time": "2021-10-17T12:39:34.282Z"
   },
   {
    "duration": 13,
    "start_time": "2021-10-17T12:39:34.307Z"
   },
   {
    "duration": 47,
    "start_time": "2021-10-17T12:39:34.327Z"
   },
   {
    "duration": 457,
    "start_time": "2021-10-17T12:39:34.376Z"
   },
   {
    "duration": 137,
    "start_time": "2021-10-17T12:39:34.836Z"
   },
   {
    "duration": 430,
    "start_time": "2021-10-17T12:39:34.975Z"
   },
   {
    "duration": 55,
    "start_time": "2021-10-17T12:39:35.407Z"
   },
   {
    "duration": 49,
    "start_time": "2021-10-17T12:39:35.465Z"
   },
   {
    "duration": 73,
    "start_time": "2021-10-17T12:39:35.517Z"
   },
   {
    "duration": 3149,
    "start_time": "2021-10-17T12:39:35.593Z"
   },
   {
    "duration": 757,
    "start_time": "2021-10-17T12:39:38.745Z"
   },
   {
    "duration": 19,
    "start_time": "2021-10-17T12:39:39.505Z"
   },
   {
    "duration": 1130,
    "start_time": "2021-10-17T12:39:39.527Z"
   },
   {
    "duration": 1104,
    "start_time": "2021-10-17T12:39:40.663Z"
   },
   {
    "duration": 29,
    "start_time": "2021-10-17T12:39:41.775Z"
   },
   {
    "duration": 16,
    "start_time": "2021-10-17T12:39:41.808Z"
   },
   {
    "duration": 41,
    "start_time": "2021-10-17T12:39:41.827Z"
   },
   {
    "duration": 20,
    "start_time": "2021-10-17T12:39:41.870Z"
   },
   {
    "duration": 901,
    "start_time": "2021-10-17T12:39:41.892Z"
   },
   {
    "duration": 1250,
    "start_time": "2021-10-17T12:39:42.796Z"
   },
   {
    "duration": 837,
    "start_time": "2021-10-17T12:39:44.048Z"
   },
   {
    "duration": 4,
    "start_time": "2021-10-17T12:39:44.888Z"
   },
   {
    "duration": 17,
    "start_time": "2021-10-17T12:39:44.894Z"
   },
   {
    "duration": 15,
    "start_time": "2021-10-17T12:39:44.914Z"
   },
   {
    "duration": 6,
    "start_time": "2021-10-17T12:43:46.012Z"
   },
   {
    "duration": 21,
    "start_time": "2021-10-17T12:44:51.360Z"
   },
   {
    "duration": 7,
    "start_time": "2021-10-17T12:44:59.171Z"
   },
   {
    "duration": 487,
    "start_time": "2021-10-17T12:45:07.813Z"
   },
   {
    "duration": 50,
    "start_time": "2021-10-17T12:45:14.485Z"
   },
   {
    "duration": 40,
    "start_time": "2021-10-17T12:45:20.786Z"
   },
   {
    "duration": 56,
    "start_time": "2021-10-17T12:46:23.277Z"
   },
   {
    "duration": 853,
    "start_time": "2021-10-17T12:46:31.159Z"
   },
   {
    "duration": 413,
    "start_time": "2021-10-17T12:46:46.551Z"
   },
   {
    "duration": 686,
    "start_time": "2021-10-17T12:47:03.436Z"
   }
  ],
  "kernelspec": {
   "display_name": "Python 3",
   "language": "python",
   "name": "python3"
  },
  "language_info": {
   "codemirror_mode": {
    "name": "ipython",
    "version": 3
   },
   "file_extension": ".py",
   "mimetype": "text/x-python",
   "name": "python",
   "nbconvert_exporter": "python",
   "pygments_lexer": "ipython3",
   "version": "3.8.8"
  },
  "toc": {
   "base_numbering": 1,
   "nav_menu": {},
   "number_sections": true,
   "sideBar": true,
   "skip_h1_title": true,
   "title_cell": "Table of Contents",
   "title_sidebar": "Contents",
   "toc_cell": false,
   "toc_position": {},
   "toc_section_display": true,
   "toc_window_display": false
  }
 },
 "nbformat": 4,
 "nbformat_minor": 2
}
