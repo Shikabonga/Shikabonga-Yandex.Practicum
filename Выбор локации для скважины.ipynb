{
 "cells": [
  {
   "cell_type": "markdown",
   "metadata": {},
   "source": [
    "# Выбор локации для скважины"
   ]
  },
  {
   "cell_type": "markdown",
   "metadata": {},
   "source": [
    "Допустим, вы работаете в добывающей компании «ГлавРосГосНефть». Нужно решить, где бурить новую скважину.\n",
    "\n",
    "Вам предоставлены пробы нефти в трёх регионах: в каждом 10 000 месторождений, где измерили качество нефти и объём её запасов. Постройте модель машинного обучения, которая поможет определить регион, где добыча принесёт наибольшую прибыль. Проанализируйте возможную прибыль и риски техникой *Bootstrap.*\n",
    "\n",
    "Шаги для выбора локации:\n",
    "\n",
    "- В избранном регионе ищут месторождения, для каждого определяют значения признаков;\n",
    "- Строят модель и оценивают объём запасов;\n",
    "- Выбирают месторождения с самым высокими оценками значений. Количество месторождений зависит от бюджета компании и стоимости разработки одной скважины;\n",
    "- Прибыль равна суммарной прибыли отобранных месторождений."
   ]
  },
  {
   "cell_type": "markdown",
   "metadata": {},
   "source": [
    "## Загрузка и подготовка данных"
   ]
  },
  {
   "cell_type": "code",
   "execution_count": 54,
   "metadata": {},
   "outputs": [],
   "source": [
    "import pandas as pd\n",
    "import matplotlib.pyplot as plt\n",
    "import numpy as np\n",
    "import seaborn as sns\n",
    "\n",
    "from sklearn.linear_model import LinearRegression\n",
    "from sklearn.model_selection import train_test_split\n",
    "from sklearn.metrics import mean_absolute_error, r2_score, mean_squared_error"
   ]
  },
  {
   "cell_type": "code",
   "execution_count": 55,
   "metadata": {},
   "outputs": [],
   "source": [
    "df_data0 = pd.read_csv('/datasets/geo_data_0.csv')\n",
    "df_data1 = pd.read_csv('/datasets/geo_data_1.csv')\n",
    "df_data2 = pd.read_csv('/datasets/geo_data_2.csv')"
   ]
  },
  {
   "cell_type": "code",
   "execution_count": 56,
   "metadata": {},
   "outputs": [
    {
     "data": {
      "text/html": [
       "<div>\n",
       "<style scoped>\n",
       "    .dataframe tbody tr th:only-of-type {\n",
       "        vertical-align: middle;\n",
       "    }\n",
       "\n",
       "    .dataframe tbody tr th {\n",
       "        vertical-align: top;\n",
       "    }\n",
       "\n",
       "    .dataframe thead th {\n",
       "        text-align: right;\n",
       "    }\n",
       "</style>\n",
       "<table border=\"1\" class=\"dataframe\">\n",
       "  <thead>\n",
       "    <tr style=\"text-align: right;\">\n",
       "      <th></th>\n",
       "      <th>f0</th>\n",
       "      <th>f1</th>\n",
       "      <th>f2</th>\n",
       "      <th>product</th>\n",
       "    </tr>\n",
       "  </thead>\n",
       "  <tbody>\n",
       "    <tr>\n",
       "      <td>count</td>\n",
       "      <td>100000.000000</td>\n",
       "      <td>100000.000000</td>\n",
       "      <td>100000.000000</td>\n",
       "      <td>100000.000000</td>\n",
       "    </tr>\n",
       "    <tr>\n",
       "      <td>mean</td>\n",
       "      <td>0.500419</td>\n",
       "      <td>0.250143</td>\n",
       "      <td>2.502647</td>\n",
       "      <td>92.500000</td>\n",
       "    </tr>\n",
       "    <tr>\n",
       "      <td>std</td>\n",
       "      <td>0.871832</td>\n",
       "      <td>0.504433</td>\n",
       "      <td>3.248248</td>\n",
       "      <td>44.288691</td>\n",
       "    </tr>\n",
       "    <tr>\n",
       "      <td>min</td>\n",
       "      <td>-1.408605</td>\n",
       "      <td>-0.848218</td>\n",
       "      <td>-12.088328</td>\n",
       "      <td>0.000000</td>\n",
       "    </tr>\n",
       "    <tr>\n",
       "      <td>25%</td>\n",
       "      <td>-0.072580</td>\n",
       "      <td>-0.200881</td>\n",
       "      <td>0.287748</td>\n",
       "      <td>56.497507</td>\n",
       "    </tr>\n",
       "    <tr>\n",
       "      <td>50%</td>\n",
       "      <td>0.502360</td>\n",
       "      <td>0.250252</td>\n",
       "      <td>2.515969</td>\n",
       "      <td>91.849972</td>\n",
       "    </tr>\n",
       "    <tr>\n",
       "      <td>75%</td>\n",
       "      <td>1.073581</td>\n",
       "      <td>0.700646</td>\n",
       "      <td>4.715088</td>\n",
       "      <td>128.564089</td>\n",
       "    </tr>\n",
       "    <tr>\n",
       "      <td>max</td>\n",
       "      <td>2.362331</td>\n",
       "      <td>1.343769</td>\n",
       "      <td>16.003790</td>\n",
       "      <td>185.364347</td>\n",
       "    </tr>\n",
       "  </tbody>\n",
       "</table>\n",
       "</div>"
      ],
      "text/plain": [
       "                  f0             f1             f2        product\n",
       "count  100000.000000  100000.000000  100000.000000  100000.000000\n",
       "mean        0.500419       0.250143       2.502647      92.500000\n",
       "std         0.871832       0.504433       3.248248      44.288691\n",
       "min        -1.408605      -0.848218     -12.088328       0.000000\n",
       "25%        -0.072580      -0.200881       0.287748      56.497507\n",
       "50%         0.502360       0.250252       2.515969      91.849972\n",
       "75%         1.073581       0.700646       4.715088     128.564089\n",
       "max         2.362331       1.343769      16.003790     185.364347"
      ]
     },
     "metadata": {},
     "output_type": "display_data"
    },
    {
     "data": {
      "text/html": [
       "<div>\n",
       "<style scoped>\n",
       "    .dataframe tbody tr th:only-of-type {\n",
       "        vertical-align: middle;\n",
       "    }\n",
       "\n",
       "    .dataframe tbody tr th {\n",
       "        vertical-align: top;\n",
       "    }\n",
       "\n",
       "    .dataframe thead th {\n",
       "        text-align: right;\n",
       "    }\n",
       "</style>\n",
       "<table border=\"1\" class=\"dataframe\">\n",
       "  <thead>\n",
       "    <tr style=\"text-align: right;\">\n",
       "      <th></th>\n",
       "      <th>f0</th>\n",
       "      <th>f1</th>\n",
       "      <th>f2</th>\n",
       "      <th>product</th>\n",
       "    </tr>\n",
       "  </thead>\n",
       "  <tbody>\n",
       "    <tr>\n",
       "      <td>count</td>\n",
       "      <td>100000.000000</td>\n",
       "      <td>100000.000000</td>\n",
       "      <td>100000.000000</td>\n",
       "      <td>100000.000000</td>\n",
       "    </tr>\n",
       "    <tr>\n",
       "      <td>mean</td>\n",
       "      <td>1.141296</td>\n",
       "      <td>-4.796579</td>\n",
       "      <td>2.494541</td>\n",
       "      <td>68.825000</td>\n",
       "    </tr>\n",
       "    <tr>\n",
       "      <td>std</td>\n",
       "      <td>8.965932</td>\n",
       "      <td>5.119872</td>\n",
       "      <td>1.703572</td>\n",
       "      <td>45.944423</td>\n",
       "    </tr>\n",
       "    <tr>\n",
       "      <td>min</td>\n",
       "      <td>-31.609576</td>\n",
       "      <td>-26.358598</td>\n",
       "      <td>-0.018144</td>\n",
       "      <td>0.000000</td>\n",
       "    </tr>\n",
       "    <tr>\n",
       "      <td>25%</td>\n",
       "      <td>-6.298551</td>\n",
       "      <td>-8.267985</td>\n",
       "      <td>1.000021</td>\n",
       "      <td>26.953261</td>\n",
       "    </tr>\n",
       "    <tr>\n",
       "      <td>50%</td>\n",
       "      <td>1.153055</td>\n",
       "      <td>-4.813172</td>\n",
       "      <td>2.011479</td>\n",
       "      <td>57.085625</td>\n",
       "    </tr>\n",
       "    <tr>\n",
       "      <td>75%</td>\n",
       "      <td>8.621015</td>\n",
       "      <td>-1.332816</td>\n",
       "      <td>3.999904</td>\n",
       "      <td>107.813044</td>\n",
       "    </tr>\n",
       "    <tr>\n",
       "      <td>max</td>\n",
       "      <td>29.421755</td>\n",
       "      <td>18.734063</td>\n",
       "      <td>5.019721</td>\n",
       "      <td>137.945408</td>\n",
       "    </tr>\n",
       "  </tbody>\n",
       "</table>\n",
       "</div>"
      ],
      "text/plain": [
       "                  f0             f1             f2        product\n",
       "count  100000.000000  100000.000000  100000.000000  100000.000000\n",
       "mean        1.141296      -4.796579       2.494541      68.825000\n",
       "std         8.965932       5.119872       1.703572      45.944423\n",
       "min       -31.609576     -26.358598      -0.018144       0.000000\n",
       "25%        -6.298551      -8.267985       1.000021      26.953261\n",
       "50%         1.153055      -4.813172       2.011479      57.085625\n",
       "75%         8.621015      -1.332816       3.999904     107.813044\n",
       "max        29.421755      18.734063       5.019721     137.945408"
      ]
     },
     "metadata": {},
     "output_type": "display_data"
    },
    {
     "data": {
      "text/html": [
       "<div>\n",
       "<style scoped>\n",
       "    .dataframe tbody tr th:only-of-type {\n",
       "        vertical-align: middle;\n",
       "    }\n",
       "\n",
       "    .dataframe tbody tr th {\n",
       "        vertical-align: top;\n",
       "    }\n",
       "\n",
       "    .dataframe thead th {\n",
       "        text-align: right;\n",
       "    }\n",
       "</style>\n",
       "<table border=\"1\" class=\"dataframe\">\n",
       "  <thead>\n",
       "    <tr style=\"text-align: right;\">\n",
       "      <th></th>\n",
       "      <th>f0</th>\n",
       "      <th>f1</th>\n",
       "      <th>f2</th>\n",
       "      <th>product</th>\n",
       "    </tr>\n",
       "  </thead>\n",
       "  <tbody>\n",
       "    <tr>\n",
       "      <td>count</td>\n",
       "      <td>100000.000000</td>\n",
       "      <td>100000.000000</td>\n",
       "      <td>100000.000000</td>\n",
       "      <td>100000.000000</td>\n",
       "    </tr>\n",
       "    <tr>\n",
       "      <td>mean</td>\n",
       "      <td>0.002023</td>\n",
       "      <td>-0.002081</td>\n",
       "      <td>2.495128</td>\n",
       "      <td>95.000000</td>\n",
       "    </tr>\n",
       "    <tr>\n",
       "      <td>std</td>\n",
       "      <td>1.732045</td>\n",
       "      <td>1.730417</td>\n",
       "      <td>3.473445</td>\n",
       "      <td>44.749921</td>\n",
       "    </tr>\n",
       "    <tr>\n",
       "      <td>min</td>\n",
       "      <td>-8.760004</td>\n",
       "      <td>-7.084020</td>\n",
       "      <td>-11.970335</td>\n",
       "      <td>0.000000</td>\n",
       "    </tr>\n",
       "    <tr>\n",
       "      <td>25%</td>\n",
       "      <td>-1.162288</td>\n",
       "      <td>-1.174820</td>\n",
       "      <td>0.130359</td>\n",
       "      <td>59.450441</td>\n",
       "    </tr>\n",
       "    <tr>\n",
       "      <td>50%</td>\n",
       "      <td>0.009424</td>\n",
       "      <td>-0.009482</td>\n",
       "      <td>2.484236</td>\n",
       "      <td>94.925613</td>\n",
       "    </tr>\n",
       "    <tr>\n",
       "      <td>75%</td>\n",
       "      <td>1.158535</td>\n",
       "      <td>1.163678</td>\n",
       "      <td>4.858794</td>\n",
       "      <td>130.595027</td>\n",
       "    </tr>\n",
       "    <tr>\n",
       "      <td>max</td>\n",
       "      <td>7.238262</td>\n",
       "      <td>7.844801</td>\n",
       "      <td>16.739402</td>\n",
       "      <td>190.029838</td>\n",
       "    </tr>\n",
       "  </tbody>\n",
       "</table>\n",
       "</div>"
      ],
      "text/plain": [
       "                  f0             f1             f2        product\n",
       "count  100000.000000  100000.000000  100000.000000  100000.000000\n",
       "mean        0.002023      -0.002081       2.495128      95.000000\n",
       "std         1.732045       1.730417       3.473445      44.749921\n",
       "min        -8.760004      -7.084020     -11.970335       0.000000\n",
       "25%        -1.162288      -1.174820       0.130359      59.450441\n",
       "50%         0.009424      -0.009482       2.484236      94.925613\n",
       "75%         1.158535       1.163678       4.858794     130.595027\n",
       "max         7.238262       7.844801      16.739402     190.029838"
      ]
     },
     "metadata": {},
     "output_type": "display_data"
    }
   ],
   "source": [
    "display(df_data0.describe())\n",
    "display(df_data1.describe())\n",
    "display(df_data2.describe())"
   ]
  },
  {
   "cell_type": "code",
   "execution_count": 57,
   "metadata": {},
   "outputs": [
    {
     "name": "stdout",
     "output_type": "stream",
     "text": [
      "Дубликаты в data0: 0\n",
      "Дубликаты в data1: 0\n",
      "Дубликаты в data2: 0\n"
     ]
    }
   ],
   "source": [
    "print('Дубликаты в data0:',df_data0.duplicated().sum())\n",
    "print('Дубликаты в data1:',df_data1.duplicated().sum())\n",
    "print('Дубликаты в data2:',df_data2.duplicated().sum())"
   ]
  },
  {
   "cell_type": "code",
   "execution_count": 58,
   "metadata": {},
   "outputs": [
    {
     "data": {
      "text/plain": [
       "id          99990\n",
       "f0         100000\n",
       "f1         100000\n",
       "f2         100000\n",
       "product    100000\n",
       "dtype: int64"
      ]
     },
     "metadata": {},
     "output_type": "display_data"
    },
    {
     "data": {
      "text/plain": [
       "id          99996\n",
       "f0         100000\n",
       "f1         100000\n",
       "f2         100000\n",
       "product        12\n",
       "dtype: int64"
      ]
     },
     "metadata": {},
     "output_type": "display_data"
    },
    {
     "data": {
      "text/plain": [
       "id          99996\n",
       "f0         100000\n",
       "f1         100000\n",
       "f2         100000\n",
       "product    100000\n",
       "dtype: int64"
      ]
     },
     "metadata": {},
     "output_type": "display_data"
    }
   ],
   "source": [
    "display(df_data0.nunique())\n",
    "display(df_data1.nunique())\n",
    "display(df_data2.nunique())"
   ]
  },
  {
   "cell_type": "code",
   "execution_count": 59,
   "metadata": {},
   "outputs": [
    {
     "data": {
      "text/plain": [
       "53.906522     8472\n",
       "26.953261     8468\n",
       "84.038886     8431\n",
       "57.085625     8390\n",
       "3.179103      8337\n",
       "80.859783     8320\n",
       "30.132364     8306\n",
       "134.766305    8304\n",
       "110.992147    8303\n",
       "0.000000      8235\n",
       "137.945408    8233\n",
       "107.813044    8201\n",
       "Name: product, dtype: int64"
      ]
     },
     "execution_count": 59,
     "metadata": {},
     "output_type": "execute_result"
    }
   ],
   "source": [
    "df_data1['product'].value_counts()"
   ]
  },
  {
   "cell_type": "code",
   "execution_count": 60,
   "metadata": {},
   "outputs": [
    {
     "name": "stdout",
     "output_type": "stream",
     "text": [
      "Общий объем по региону №0 = 9250000.00 тыс. баррелей\n",
      "Общий объем по региону №1 = 6882500.00 тыс. баррелей\n",
      "Общий объем по региону №2 = 9500000.00 тыс. баррелей\n"
     ]
    }
   ],
   "source": [
    "print('Общий объем по региону №0 = {:.2f} тыс. баррелей'.format(df_data0['product'].sum()))\n",
    "print('Общий объем по региону №1 = {:.2f} тыс. баррелей'.format(df_data1['product'].sum()))\n",
    "print('Общий объем по региону №2 = {:.2f} тыс. баррелей'.format(df_data2['product'].sum()))"
   ]
  },
  {
   "cell_type": "code",
   "execution_count": 73,
   "metadata": {},
   "outputs": [
    {
     "data": {
      "image/png": "[encoded data removed]",
      "text/plain": [
       "<Figure size 504x504 with 3 Axes>"
      ]
     },
     "metadata": {
      "needs_background": "light"
     },
     "output_type": "display_data"
    }
   ],
   "source": [
    "fig, axes = plt.subplots(3,1, sharex=True, figsize=(7,7))\n",
    "\n",
    "sns.boxplot(df_data0['product'], ax=axes[0])\n",
    "sns.boxplot(df_data1['product'], ax=axes[1], color='orange')\n",
    "sns.boxplot(df_data2['product'], ax=axes[2], color='green')\n",
    "\n",
    "axes[0].set_xlabel('Регион 0')\n",
    "axes[1].set_xlabel('Регион 1')\n",
    "axes[2].set_xlabel('Регион 2')\n",
    "\n",
    "fig.suptitle('Распределение запасов нефти в месторождениях по регионам', size=14, y=1, x=0.6)\n",
    "plt.show()"
   ]
  },
  {
   "cell_type": "markdown",
   "metadata": {},
   "source": [
    "### Выводы:\n",
    " - Данные подготовлены, пропусков и дублей нет, формат данных нормальный.\n",
    " - Вопрос по региону№1, данные по всей видимости категоризированны, всего 12 значений. Результаты буду не коррктены по этому региону.\n",
    " - Лидируют по запасам регионы 0 и 1"
   ]
  },
  {
   "cell_type": "markdown",
   "metadata": {},
   "source": [
    "## Обучение и проверка модели"
   ]
  },
  {
   "cell_type": "code",
   "execution_count": 62,
   "metadata": {},
   "outputs": [],
   "source": [
    "def predictoins_region(df):\n",
    "    features = df.drop(['product','id'],axis = 1) \n",
    "    target = df['product']\n",
    "    \n",
    "    features_train, features_valid, target_train, target_valid = train_test_split(features, target, test_size = 0.25, random_state=1234)\n",
    "    model = LinearRegression(n_jobs=-1).fit(features_train, target_train)\n",
    "    predictions = model.predict(features_valid)\n",
    "    \n",
    "    mse = mean_squared_error(target_valid, predictions)\n",
    "    rmse = mse ** 0.5\n",
    "\n",
    "    stock_mean = df['product'].mean()\n",
    "    stock_mean_pred = predictions.mean()\n",
    "    \n",
    "    target_valid = target_valid.reset_index(drop=True)\n",
    "    \n",
    "    return predictions, rmse, stock_mean_pred, target_valid"
   ]
  },
  {
   "cell_type": "code",
   "execution_count": 63,
   "metadata": {},
   "outputs": [
    {
     "name": "stdout",
     "output_type": "stream",
     "text": [
      "RMSE модели в регионе №0 = 37.562\n",
      "Средний запас предсказанного сырья в регионе №0 = 92.430 тыс. баррелей\n",
      "Реальный средний запас сырья в регионе №0 = 92.580 тыс. баррелей\n"
     ]
    }
   ],
   "source": [
    "predictions_0, rmse_0, stock_mean_pred_0, target_valid_0 = predictoins_region(df_data0)\n",
    "\n",
    "print('RMSE модели в регионе №0 = {:.3f}'.format(rmse_0))\n",
    "print('Средний запас предсказанного сырья в регионе №0 = {:.3f} тыс. баррелей'.format(stock_mean_pred_0)) \n",
    "print('Реальный средний запас сырья в регионе №0 = {:.3f} тыс. баррелей'.format(target_valid_0.mean())) "
   ]
  },
  {
   "cell_type": "code",
   "execution_count": 64,
   "metadata": {},
   "outputs": [
    {
     "name": "stdout",
     "output_type": "stream",
     "text": [
      "RMSE модели в регионе №1 = 0.894\n",
      "Средний запас предсказанного сырья в регионе №1 = 68.802 тыс. баррелей\n",
      "Реальный средний запас сырья в регионе №1 = 68.803 тыс. баррелей\n"
     ]
    }
   ],
   "source": [
    "predictions_1, rmse_1, stock_mean_pred_1, target_valid_1 = predictoins_region(df_data1)\n",
    "\n",
    "print('RMSE модели в регионе №1 = {:.3f}'.format(rmse_1))\n",
    "print('Средний запас предсказанного сырья в регионе №1 = {:.3f} тыс. баррелей'.format(stock_mean_pred_1)) \n",
    "print('Реальный средний запас сырья в регионе №1 = {:.3f} тыс. баррелей'.format(target_valid_1.mean())) "
   ]
  },
  {
   "cell_type": "code",
   "execution_count": 65,
   "metadata": {},
   "outputs": [
    {
     "name": "stdout",
     "output_type": "stream",
     "text": [
      "RMSE модели в регионе №2 = 40.103\n",
      "Средний запас предсказанного сырья в регионе №2 = 94.916 тыс. баррелей\n",
      "Реальный средний запас сырья в регионе №2 = 94.972 тыс. баррелей\n"
     ]
    }
   ],
   "source": [
    "predictions_2, rmse_2, stock_mean_pred_2, target_valid_2 = predictoins_region(df_data2)\n",
    "\n",
    "print('RMSE модели в регионе №2 = {:.3f}'.format(rmse_2))\n",
    "print('Средний запас предсказанного сырья в регионе №2 = {:.3f} тыс. баррелей'.format(stock_mean_pred_2)) \n",
    "print('Реальный средний запас сырья в регионе №2 = {:.3f} тыс. баррелей'.format(target_valid_2.mean())) "
   ]
  },
  {
   "cell_type": "markdown",
   "metadata": {},
   "source": [
    "### Вывод:\n",
    " - Модель региона №1 показала наилучший результат RMSE, не удивительно, предсказывать проще \n",
    " - Возможно для обучения можно объеденить обучающие выборки для все регионов, показатели то имеют общий смысл...наверное\n",
    " - Самые богатые регионы по запасам, это регионы №0 и №2"
   ]
  },
  {
   "cell_type": "markdown",
   "metadata": {},
   "source": [
    "## Подготовка к расчёту прибыли"
   ]
  },
  {
   "cell_type": "code",
   "execution_count": 66,
   "metadata": {},
   "outputs": [],
   "source": [
    "budget = 10000000000   #Бюджет \n",
    "total_points = 500 #при разведке региона исследуют 500 точек\n",
    "total_best_points = 200  # 200 лучших скважин \n",
    "profit_from_one_product = 450000   #Доход с каждой единицы продукта 450 000 рублей"
   ]
  },
  {
   "cell_type": "code",
   "execution_count": 67,
   "metadata": {},
   "outputs": [
    {
     "name": "stdout",
     "output_type": "stream",
     "text": [
      "Средний объем сырья для безубыточной разработки новой скважины 111.11 тыс. баррелей\n"
     ]
    }
   ],
   "source": [
    "required_volume_mean = budget / total_best_points / profit_from_one_product\n",
    "print('Средний объем сырья для безубыточной разработки новой скважины {:.2f} тыс. баррелей'.format(required_volume_mean))"
   ]
  },
  {
   "cell_type": "code",
   "execution_count": 68,
   "metadata": {},
   "outputs": [
    {
     "name": "stdout",
     "output_type": "stream",
     "text": [
      "Общий объем сырья для безубыточной разработки в регионе 22222.22 тыс. баррелей на 200 месторождений\n"
     ]
    }
   ],
   "source": [
    "required_volume_sum = budget / profit_from_one_product\n",
    "print('Общий объем сырья для безубыточной разработки в регионе {:.2f} тыс. баррелей на 200 месторождений'.format(required_volume_sum))"
   ]
  },
  {
   "cell_type": "code",
   "execution_count": 74,
   "metadata": {},
   "outputs": [],
   "source": [
    "def revenue(target, probabilities, count):\n",
    "    probs_sorted = probabilities.sort_values(ascending=False)\n",
    "    selected = target[probs_sorted.index][:count]\n",
    "    return (profit_from_one_product * selected.sum() - budget)\n"
   ]
  },
  {
   "cell_type": "markdown",
   "metadata": {},
   "source": [
    "### Вывод:\n",
    " - Средний объем сырья для безубыточной разработки новой скважины 111.11 тыс. баррелей, по среднему ниодин регион не проходит, найдем 200 лучших месторождений в каждом регионе\n",
    " "
   ]
  },
  {
   "cell_type": "markdown",
   "metadata": {},
   "source": [
    "## Расчёт прибыли и рисков "
   ]
  },
  {
   "cell_type": "code",
   "execution_count": 69,
   "metadata": {
    "scrolled": false
   },
   "outputs": [
    {
     "name": "stdout",
     "output_type": "stream",
     "text": [
      "Прибыль региона №0: 3424.03 млн. рублей\n",
      "Прибыль региона №1: 2415.09 млн. рублей\n",
      "Прибыль региона №2: 2554.96 млн. рублей\n"
     ]
    }
   ],
   "source": [
    "print('Прибыль региона №0: {:.2f} млн. рублей'.format(revenue(target_valid_0, pd.Series(predictions_0),200)/10**6))\n",
    "print('Прибыль региона №1: {:.2f} млн. рублей'.format(revenue(target_valid_1, pd.Series(predictions_1),200)/10**6))\n",
    "print('Прибыль региона №2: {:.2f} млн. рублей'.format(revenue(target_valid_2, pd.Series(predictions_2),200)/10**6))"
   ]
  },
  {
   "cell_type": "code",
   "execution_count": 71,
   "metadata": {},
   "outputs": [
    {
     "name": "stdout",
     "output_type": "stream",
     "text": [
      "Регион№0\n",
      "Средняя прибыль:411.854 млн. рублей\n",
      "Доверительный интервал среднего:(-153036113.10503384, 909822726.6300966)\n",
      "2.5%-квантиль:-153.036 млн. рублей\n",
      "Риск:6.50%\n",
      "\n",
      "\n",
      "Регион№1\n",
      "Средняя прибыль:475.927 млн. рублей\n",
      "Доверительный интервал среднего:(74247290.95463684, 906509048.4226354)\n",
      "2.5%-квантиль:74.247 млн. рублей\n",
      "Риск:1.30%\n",
      "\n",
      "\n",
      "Регион№2\n",
      "Средняя прибыль:382.102 млн. рублей\n",
      "Доверительный интервал среднего:(-183916236.36915794, 946554521.4354271)\n",
      "2.5%-квантиль:-183.916 млн. рублей\n",
      "Риск:9.70%\n",
      "\n",
      "\n"
     ]
    }
   ],
   "source": [
    "state = np.random.RandomState(12345)\n",
    "def calc_bootstrap(target,probabilities, reg):\n",
    "    values = []\n",
    "    for i in range(1000):\n",
    "        target_subsample = target.sample(500, replace = True, random_state = state)\n",
    "        probs_subsample = probabilities[target_subsample.index] \n",
    "        values.append(revenue(target_subsample, probs_subsample, 200))\n",
    "\n",
    "    values = pd.Series(values)\n",
    "    lower = values.quantile(0.025)\n",
    "    chance_loss = (values < 0).mean()\n",
    "    interval = (values.quantile(0.025), values.quantile(0.975))\n",
    "    mean = values.mean()\n",
    "    print(reg)\n",
    "    print('Средняя прибыль:{:.3f} млн. рублей'.format(mean/10**6))\n",
    "    print('Доверительный интервал среднего:{}'.format(interval))\n",
    "    print('2.5%-квантиль:{:.3f} млн. рублей'.format(lower/10**6))\n",
    "    print('Риск:{:.2%}'.format(chance_loss))\n",
    "    print('\\n')\n",
    "    \n",
    "calc_bootstrap(target_valid_0, pd.Series(predictions_0), 'Регион №0')\n",
    "calc_bootstrap(target_valid_1, pd.Series(predictions_1), 'Регион №1')\n",
    "calc_bootstrap(target_valid_2, pd.Series(predictions_2), 'Регион №2')"
   ]
  },
  {
   "cell_type": "markdown",
   "metadata": {},
   "source": [
    "### Вывод:\n",
    " - Самый \"верный\" выбор: Регион №1, но там данные разбиты на 12 категорий, это ставит под сомнение выбор."
   ]
  },
  {
   "cell_type": "markdown",
   "metadata": {},
   "source": [
    "## Общий вывод:\n",
    "- По всем метрикам следует выбрать для разработки Регион №1, но для этого нужно уточнить по показателям у заказчика, о идентичности происхождения, тогда можно будет перемешать обучающие выборки, обучить модель и сделать прогноз основываясь на этих данных, либо уточнить значения.\n",
    "- \"Самый средний\" регион - №0, по общим запасам он близок к №2, который является крупнейшим. Риск меньше, чем у того же №2."
   ]
  },
  {
   "cell_type": "markdown",
   "metadata": {},
   "source": [
    "## Чек-лист готовности проекта"
   ]
  },
  {
   "cell_type": "markdown",
   "metadata": {},
   "source": [
    "Поставьте 'x' в выполненных пунктах. Далее нажмите Shift+Enter."
   ]
  },
  {
   "cell_type": "markdown",
   "metadata": {},
   "source": [
    "- [x]  Jupyter Notebook открыт\n",
    "- [x]  Весь код выполняется без ошибок\n",
    "- [x]  Ячейки с кодом расположены в порядке исполнения\n",
    "- [x]  Выполнен шаг 1: данные подготовлены\n",
    "- [x]  Выполнен шаг 2: модели обучены и проверены\n",
    "    - [x]  Данные корректно разбиты на обучающую и валидационную выборки\n",
    "    - [x]  Модели обучены, предсказания сделаны\n",
    "    - [x]  Предсказания и правильные ответы на валидационной выборке сохранены\n",
    "    - [x]  На экране напечатаны результаты\n",
    "    - [x]  Сделаны выводы\n",
    "- [x]  Выполнен шаг 3: проведена подготовка к расчёту прибыли\n",
    "    - [x]  Для всех ключевых значений созданы константы Python\n",
    "    - [x]  Посчитано минимальное среднее количество продукта в месторождениях региона, достаточное для разработки\n",
    "    - [x]  По предыдущему пункту сделаны выводы\n",
    "    - [x]  Написана функция расчёта прибыли\n",
    "- [x]  Выполнен шаг 4: посчитаны риски и прибыль\n",
    "    - [x]  Проведена процедура *Bootstrap*\n",
    "    - [x]  Все параметры бутстрепа соответствуют условию\n",
    "    - [x]  Найдены все нужные величины\n",
    "    - [x]  Предложен регион для разработки месторождения\n",
    "    - [x]  Выбор региона обоснован"
   ]
  },
  {
   "cell_type": "code",
   "execution_count": null,
   "metadata": {},
   "outputs": [],
   "source": []
  }
 ],
 "metadata": {
  "ExecuteTimeLog": [
   {
    "duration": 233,
    "start_time": "2021-11-29T06:20:30.554Z"
   },
   {
    "duration": 559,
    "start_time": "2021-11-29T06:20:33.200Z"
   },
   {
    "duration": 60,
    "start_time": "2021-11-29T06:20:33.760Z"
   },
   {
    "duration": 32638,
    "start_time": "2021-11-29T06:20:01.184Z"
   },
   {
    "duration": 791,
    "start_time": "2021-11-29T06:20:49.163Z"
   },
   {
    "duration": 316,
    "start_time": "2021-11-29T06:24:43.980Z"
   },
   {
    "duration": 319,
    "start_time": "2021-11-29T06:25:01.255Z"
   },
   {
    "duration": 165,
    "start_time": "2021-11-29T06:34:20.445Z"
   },
   {
    "duration": 3,
    "start_time": "2021-11-29T06:34:24.721Z"
   },
   {
    "duration": 400,
    "start_time": "2021-11-29T06:34:24.726Z"
   },
   {
    "duration": 45,
    "start_time": "2021-11-29T06:34:25.128Z"
   },
   {
    "duration": 299,
    "start_time": "2021-11-29T06:35:09.070Z"
   },
   {
    "duration": 55,
    "start_time": "2021-11-29T06:35:14.838Z"
   },
   {
    "duration": 189,
    "start_time": "2021-11-29T06:35:21.086Z"
   },
   {
    "duration": 40,
    "start_time": "2021-11-29T06:35:40.710Z"
   },
   {
    "duration": 2247,
    "start_time": "2021-11-29T06:36:12.795Z"
   },
   {
    "duration": 184,
    "start_time": "2021-11-29T06:36:23.047Z"
   },
   {
    "duration": 171,
    "start_time": "2021-11-29T06:36:35.372Z"
   },
   {
    "duration": 327,
    "start_time": "2021-11-29T06:36:53.416Z"
   },
   {
    "duration": 309,
    "start_time": "2021-11-29T06:38:36.954Z"
   },
   {
    "duration": 403,
    "start_time": "2021-11-29T06:43:57.545Z"
   },
   {
    "duration": 5125,
    "start_time": "2021-11-29T06:44:32.739Z"
   },
   {
    "duration": 2,
    "start_time": "2021-11-29T06:44:49.234Z"
   },
   {
    "duration": 467,
    "start_time": "2021-11-29T06:44:49.238Z"
   },
   {
    "duration": 51,
    "start_time": "2021-11-29T06:44:49.706Z"
   },
   {
    "duration": 59,
    "start_time": "2021-11-29T06:44:49.760Z"
   },
   {
    "duration": 366,
    "start_time": "2021-11-29T06:44:49.821Z"
   },
   {
    "duration": 54,
    "start_time": "2021-11-29T07:00:21.042Z"
   },
   {
    "duration": 364,
    "start_time": "2021-11-29T07:01:09.943Z"
   },
   {
    "duration": 39,
    "start_time": "2021-11-29T07:01:25.583Z"
   },
   {
    "duration": 100,
    "start_time": "2021-11-29T07:01:46.267Z"
   },
   {
    "duration": 97,
    "start_time": "2021-11-29T07:02:59.468Z"
   },
   {
    "duration": 203,
    "start_time": "2021-11-29T07:03:46.453Z"
   },
   {
    "duration": 328,
    "start_time": "2021-11-29T07:04:08.553Z"
   },
   {
    "duration": 958,
    "start_time": "2021-11-29T07:04:19.400Z"
   },
   {
    "duration": 879,
    "start_time": "2021-11-29T07:04:50.697Z"
   },
   {
    "duration": 7,
    "start_time": "2021-11-29T07:05:46.710Z"
   },
   {
    "duration": 63,
    "start_time": "2021-11-29T09:27:17.396Z"
   },
   {
    "duration": 497,
    "start_time": "2021-11-29T09:27:24.110Z"
   },
   {
    "duration": 380,
    "start_time": "2021-11-29T09:27:24.609Z"
   },
   {
    "duration": 113,
    "start_time": "2021-11-29T09:27:24.992Z"
   },
   {
    "duration": 109,
    "start_time": "2021-11-29T09:27:25.107Z"
   },
   {
    "duration": 954,
    "start_time": "2021-11-29T09:27:25.218Z"
   },
   {
    "duration": 6,
    "start_time": "2021-11-29T09:27:26.174Z"
   },
   {
    "duration": 4,
    "start_time": "2021-11-29T09:27:26.192Z"
   },
   {
    "duration": 65,
    "start_time": "2021-11-29T09:27:26.198Z"
   },
   {
    "duration": 58,
    "start_time": "2021-11-29T09:27:40.429Z"
   },
   {
    "duration": 378,
    "start_time": "2021-11-29T09:27:49.364Z"
   },
   {
    "duration": 3,
    "start_time": "2021-11-29T09:54:49.857Z"
   },
   {
    "duration": 395,
    "start_time": "2021-11-29T09:54:49.862Z"
   },
   {
    "duration": 107,
    "start_time": "2021-11-29T09:54:50.260Z"
   },
   {
    "duration": 122,
    "start_time": "2021-11-29T09:54:50.369Z"
   },
   {
    "duration": 887,
    "start_time": "2021-11-29T09:54:50.493Z"
   },
   {
    "duration": 10,
    "start_time": "2021-11-29T09:54:51.382Z"
   },
   {
    "duration": 3,
    "start_time": "2021-11-29T09:54:51.394Z"
   },
   {
    "duration": 95,
    "start_time": "2021-11-29T09:54:51.399Z"
   },
   {
    "duration": 3,
    "start_time": "2021-11-29T11:23:42.300Z"
   },
   {
    "duration": 395,
    "start_time": "2021-11-29T11:23:42.305Z"
   },
   {
    "duration": 110,
    "start_time": "2021-11-29T11:23:42.702Z"
   },
   {
    "duration": 113,
    "start_time": "2021-11-29T11:23:42.814Z"
   },
   {
    "duration": 935,
    "start_time": "2021-11-29T11:23:42.929Z"
   },
   {
    "duration": 8,
    "start_time": "2021-11-29T11:23:43.866Z"
   },
   {
    "duration": 20,
    "start_time": "2021-11-29T11:23:43.876Z"
   },
   {
    "duration": 54,
    "start_time": "2021-11-29T11:23:43.898Z"
   },
   {
    "duration": 200,
    "start_time": "2021-11-29T11:23:43.993Z"
   },
   {
    "duration": 199,
    "start_time": "2021-11-29T11:23:44.195Z"
   },
   {
    "duration": 344,
    "start_time": "2021-11-30T07:59:35.983Z"
   },
   {
    "duration": 1140,
    "start_time": "2021-11-30T07:59:41.452Z"
   },
   {
    "duration": 393,
    "start_time": "2021-11-30T07:59:42.594Z"
   },
   {
    "duration": 132,
    "start_time": "2021-11-30T07:59:42.990Z"
   },
   {
    "duration": 162,
    "start_time": "2021-11-30T07:59:43.124Z"
   },
   {
    "duration": 1008,
    "start_time": "2021-11-30T07:59:43.287Z"
   },
   {
    "duration": 8,
    "start_time": "2021-11-30T07:59:44.297Z"
   },
   {
    "duration": 4,
    "start_time": "2021-11-30T07:59:44.307Z"
   },
   {
    "duration": 60,
    "start_time": "2021-11-30T07:59:44.313Z"
   },
   {
    "duration": 99,
    "start_time": "2021-11-30T07:59:44.466Z"
   },
   {
    "duration": 113,
    "start_time": "2021-11-30T07:59:44.567Z"
   },
   {
    "duration": 3,
    "start_time": "2021-11-30T07:59:44.683Z"
   },
   {
    "duration": 308,
    "start_time": "2021-11-30T07:59:44.765Z"
   },
   {
    "duration": 3,
    "start_time": "2021-11-30T08:02:35.725Z"
   },
   {
    "duration": 4,
    "start_time": "2021-11-30T08:02:44.933Z"
   },
   {
    "duration": 6,
    "start_time": "2021-11-30T08:03:51.179Z"
   },
   {
    "duration": 4,
    "start_time": "2021-11-30T08:04:16.899Z"
   },
   {
    "duration": 4,
    "start_time": "2021-11-30T08:04:54.035Z"
   },
   {
    "duration": 4,
    "start_time": "2021-11-30T08:05:05.335Z"
   },
   {
    "duration": 84,
    "start_time": "2021-11-30T08:07:22.361Z"
   },
   {
    "duration": 249,
    "start_time": "2021-11-30T08:07:30.848Z"
   },
   {
    "duration": 284,
    "start_time": "2021-11-30T08:07:52.223Z"
   },
   {
    "duration": 3,
    "start_time": "2021-11-30T08:07:59.628Z"
   },
   {
    "duration": 425,
    "start_time": "2021-11-30T08:07:59.633Z"
   },
   {
    "duration": 124,
    "start_time": "2021-11-30T08:08:00.061Z"
   },
   {
    "duration": 134,
    "start_time": "2021-11-30T08:08:00.187Z"
   },
   {
    "duration": 1093,
    "start_time": "2021-11-30T08:08:00.323Z"
   },
   {
    "duration": 6,
    "start_time": "2021-11-30T08:08:01.418Z"
   },
   {
    "duration": 11,
    "start_time": "2021-11-30T08:08:01.426Z"
   },
   {
    "duration": 55,
    "start_time": "2021-11-30T08:08:01.438Z"
   },
   {
    "duration": 115,
    "start_time": "2021-11-30T08:08:01.566Z"
   },
   {
    "duration": 209,
    "start_time": "2021-11-30T08:08:01.685Z"
   },
   {
    "duration": 5,
    "start_time": "2021-11-30T08:08:01.964Z"
   },
   {
    "duration": 352,
    "start_time": "2021-11-30T08:08:01.972Z"
   },
   {
    "duration": 32943,
    "start_time": "2021-11-30T08:07:29.383Z"
   },
   {
    "duration": 4,
    "start_time": "2021-11-30T08:08:17.353Z"
   },
   {
    "duration": 4,
    "start_time": "2021-11-30T08:08:57.758Z"
   },
   {
    "duration": 1068,
    "start_time": "2021-11-30T08:19:25.240Z"
   },
   {
    "duration": 1012,
    "start_time": "2021-11-30T08:19:40.516Z"
   },
   {
    "duration": 7,
    "start_time": "2021-11-30T08:25:55.200Z"
   },
   {
    "duration": 10,
    "start_time": "2021-11-30T08:26:10.169Z"
   },
   {
    "duration": 9,
    "start_time": "2021-11-30T08:27:50.973Z"
   },
   {
    "duration": 4,
    "start_time": "2021-11-30T08:31:13.798Z"
   },
   {
    "duration": 13,
    "start_time": "2021-11-30T08:36:57.288Z"
   },
   {
    "duration": 13,
    "start_time": "2021-11-30T08:37:15.765Z"
   },
   {
    "duration": 9,
    "start_time": "2021-11-30T08:37:36.685Z"
   },
   {
    "duration": 11,
    "start_time": "2021-11-30T08:37:46.035Z"
   },
   {
    "duration": 364,
    "start_time": "2021-11-30T08:38:18.013Z"
   },
   {
    "duration": 251,
    "start_time": "2021-11-30T08:38:44.741Z"
   },
   {
    "duration": 3203,
    "start_time": "2021-11-30T08:38:50.844Z"
   },
   {
    "duration": 3321,
    "start_time": "2021-11-30T08:39:14.557Z"
   },
   {
    "duration": 554,
    "start_time": "2021-11-30T08:39:28.881Z"
   },
   {
    "duration": 7,
    "start_time": "2021-11-30T08:39:44.586Z"
   },
   {
    "duration": 5,
    "start_time": "2021-11-30T08:40:10.179Z"
   },
   {
    "duration": 9,
    "start_time": "2021-11-30T08:40:34.770Z"
   },
   {
    "duration": 4,
    "start_time": "2021-11-30T08:40:46.139Z"
   },
   {
    "duration": 6,
    "start_time": "2021-11-30T08:40:51.638Z"
   },
   {
    "duration": 4,
    "start_time": "2021-11-30T08:41:53.316Z"
   },
   {
    "duration": 7,
    "start_time": "2021-11-30T08:42:02.557Z"
   },
   {
    "duration": 7,
    "start_time": "2021-11-30T08:42:30.273Z"
   },
   {
    "duration": 3,
    "start_time": "2021-11-30T08:42:37.132Z"
   },
   {
    "duration": 408,
    "start_time": "2021-11-30T08:42:37.137Z"
   },
   {
    "duration": 130,
    "start_time": "2021-11-30T08:42:37.547Z"
   },
   {
    "duration": 140,
    "start_time": "2021-11-30T08:42:37.680Z"
   },
   {
    "duration": 1195,
    "start_time": "2021-11-30T08:42:37.821Z"
   },
   {
    "duration": 7,
    "start_time": "2021-11-30T08:42:39.018Z"
   },
   {
    "duration": 9,
    "start_time": "2021-11-30T08:42:39.027Z"
   },
   {
    "duration": 5,
    "start_time": "2021-11-30T08:42:39.037Z"
   },
   {
    "duration": 103,
    "start_time": "2021-11-30T08:42:39.066Z"
   },
   {
    "duration": 192,
    "start_time": "2021-11-30T08:42:39.172Z"
   },
   {
    "duration": 124,
    "start_time": "2021-11-30T08:42:39.366Z"
   },
   {
    "duration": 5,
    "start_time": "2021-11-30T08:42:39.565Z"
   },
   {
    "duration": 92,
    "start_time": "2021-11-30T08:42:39.573Z"
   },
   {
    "duration": 9,
    "start_time": "2021-11-30T08:42:39.668Z"
   },
   {
    "duration": 18,
    "start_time": "2021-11-30T08:42:39.679Z"
   },
   {
    "duration": 5,
    "start_time": "2021-11-30T08:42:39.699Z"
   },
   {
    "duration": 25,
    "start_time": "2021-11-30T08:42:39.705Z"
   },
   {
    "duration": 5,
    "start_time": "2021-11-30T08:42:39.732Z"
   },
   {
    "duration": 35,
    "start_time": "2021-11-30T08:42:39.739Z"
   },
   {
    "duration": 7,
    "start_time": "2021-11-30T08:42:39.776Z"
   },
   {
    "duration": 245,
    "start_time": "2021-11-30T08:51:46.473Z"
   },
   {
    "duration": 417,
    "start_time": "2021-11-30T08:52:05.674Z"
   },
   {
    "duration": 502,
    "start_time": "2021-11-30T08:52:29.858Z"
   },
   {
    "duration": 458,
    "start_time": "2021-11-30T08:52:36.262Z"
   },
   {
    "duration": 403,
    "start_time": "2021-11-30T08:53:11.458Z"
   },
   {
    "duration": 11,
    "start_time": "2021-11-30T08:55:47.597Z"
   },
   {
    "duration": 11,
    "start_time": "2021-11-30T08:56:01.683Z"
   },
   {
    "duration": 639,
    "start_time": "2021-11-30T08:56:13.354Z"
   },
   {
    "duration": 11,
    "start_time": "2021-11-30T08:56:20.010Z"
   },
   {
    "duration": 11,
    "start_time": "2021-11-30T08:56:55.896Z"
   },
   {
    "duration": 28,
    "start_time": "2021-11-30T08:58:05.678Z"
   },
   {
    "duration": 39,
    "start_time": "2021-11-30T09:00:26.551Z"
   },
   {
    "duration": 26,
    "start_time": "2021-11-30T09:00:39.108Z"
   },
   {
    "duration": 33,
    "start_time": "2021-11-30T09:02:13.755Z"
   },
   {
    "duration": 24,
    "start_time": "2021-11-30T09:02:21.397Z"
   },
   {
    "duration": 25,
    "start_time": "2021-11-30T09:03:01.310Z"
   },
   {
    "duration": 24,
    "start_time": "2021-11-30T09:03:15.790Z"
   },
   {
    "duration": 17,
    "start_time": "2021-11-30T09:04:40.167Z"
   },
   {
    "duration": 12,
    "start_time": "2021-11-30T09:05:52.295Z"
   },
   {
    "duration": 11,
    "start_time": "2021-11-30T09:05:57.944Z"
   },
   {
    "duration": 10,
    "start_time": "2021-11-30T09:08:22.186Z"
   },
   {
    "duration": 12,
    "start_time": "2021-11-30T09:09:06.345Z"
   },
   {
    "duration": 14,
    "start_time": "2021-11-30T09:09:27.022Z"
   },
   {
    "duration": 21,
    "start_time": "2021-11-30T09:09:37.966Z"
   },
   {
    "duration": 12,
    "start_time": "2021-11-30T09:09:45.614Z"
   },
   {
    "duration": 14,
    "start_time": "2021-11-30T09:10:35.038Z"
   },
   {
    "duration": 13,
    "start_time": "2021-11-30T09:11:22.831Z"
   },
   {
    "duration": 24,
    "start_time": "2021-11-30T09:12:32.116Z"
   },
   {
    "duration": 24,
    "start_time": "2021-11-30T09:12:43.120Z"
   },
   {
    "duration": 25,
    "start_time": "2021-11-30T09:12:51.100Z"
   },
   {
    "duration": 32,
    "start_time": "2021-11-30T09:16:12.149Z"
   },
   {
    "duration": 38,
    "start_time": "2021-11-30T09:16:21.869Z"
   },
   {
    "duration": 95,
    "start_time": "2021-11-30T09:16:42.071Z"
   },
   {
    "duration": 27,
    "start_time": "2021-11-30T09:16:46.589Z"
   },
   {
    "duration": 28,
    "start_time": "2021-11-30T09:16:54.506Z"
   },
   {
    "duration": 29,
    "start_time": "2021-11-30T09:17:34.442Z"
   },
   {
    "duration": 28,
    "start_time": "2021-11-30T09:19:06.913Z"
   },
   {
    "duration": 29,
    "start_time": "2021-11-30T09:20:19.285Z"
   },
   {
    "duration": 28,
    "start_time": "2021-11-30T09:20:40.986Z"
   },
   {
    "duration": 37,
    "start_time": "2021-11-30T09:21:15.466Z"
   },
   {
    "duration": 468,
    "start_time": "2021-11-30T09:24:10.724Z"
   },
   {
    "duration": 458,
    "start_time": "2021-11-30T09:25:16.332Z"
   },
   {
    "duration": 437,
    "start_time": "2021-11-30T09:25:45.617Z"
   },
   {
    "duration": 40,
    "start_time": "2021-11-30T09:26:21.153Z"
   },
   {
    "duration": 40,
    "start_time": "2021-11-30T09:27:49.838Z"
   },
   {
    "duration": 38,
    "start_time": "2021-11-30T09:27:58.966Z"
   },
   {
    "duration": 445,
    "start_time": "2021-11-30T09:29:47.975Z"
   },
   {
    "duration": 44,
    "start_time": "2021-11-30T09:29:57.556Z"
   },
   {
    "duration": 25,
    "start_time": "2021-11-30T09:30:21.832Z"
   },
   {
    "duration": 35,
    "start_time": "2021-11-30T09:30:49.165Z"
   },
   {
    "duration": 25,
    "start_time": "2021-11-30T09:31:06.125Z"
   },
   {
    "duration": 4,
    "start_time": "2021-11-30T09:31:55.704Z"
   },
   {
    "duration": 470,
    "start_time": "2021-11-30T09:31:55.710Z"
   },
   {
    "duration": 131,
    "start_time": "2021-11-30T09:31:56.183Z"
   },
   {
    "duration": 153,
    "start_time": "2021-11-30T09:31:56.316Z"
   },
   {
    "duration": 1277,
    "start_time": "2021-11-30T09:31:56.471Z"
   },
   {
    "duration": 16,
    "start_time": "2021-11-30T09:31:57.750Z"
   },
   {
    "duration": 56,
    "start_time": "2021-11-30T09:31:57.769Z"
   },
   {
    "duration": 56,
    "start_time": "2021-11-30T09:31:57.827Z"
   },
   {
    "duration": 96,
    "start_time": "2021-11-30T09:31:57.887Z"
   },
   {
    "duration": 194,
    "start_time": "2021-11-30T09:31:57.988Z"
   },
   {
    "duration": 198,
    "start_time": "2021-11-30T09:31:58.186Z"
   },
   {
    "duration": 80,
    "start_time": "2021-11-30T09:31:58.387Z"
   },
   {
    "duration": 10,
    "start_time": "2021-11-30T09:31:58.477Z"
   },
   {
    "duration": 78,
    "start_time": "2021-11-30T09:31:58.490Z"
   },
   {
    "duration": 30,
    "start_time": "2021-11-30T09:31:58.572Z"
   },
   {
    "duration": 280,
    "start_time": "2021-11-30T09:31:58.604Z"
   },
   {
    "duration": 25,
    "start_time": "2021-11-30T09:32:16.987Z"
   },
   {
    "duration": 30,
    "start_time": "2021-11-30T09:32:22.069Z"
   },
   {
    "duration": 453,
    "start_time": "2021-11-30T09:32:46.174Z"
   },
   {
    "duration": 28,
    "start_time": "2021-11-30T09:33:04.843Z"
   },
   {
    "duration": 508,
    "start_time": "2021-11-30T09:33:31.904Z"
   },
   {
    "duration": 26,
    "start_time": "2021-11-30T09:33:44.614Z"
   },
   {
    "duration": 26,
    "start_time": "2021-11-30T09:34:00.803Z"
   },
   {
    "duration": 28,
    "start_time": "2021-11-30T09:34:32.219Z"
   },
   {
    "duration": 37,
    "start_time": "2021-11-30T09:35:14.776Z"
   },
   {
    "duration": 44,
    "start_time": "2021-11-30T09:35:39.818Z"
   },
   {
    "duration": 29,
    "start_time": "2021-11-30T09:35:58.279Z"
   },
   {
    "duration": 36,
    "start_time": "2021-11-30T09:36:38.588Z"
   },
   {
    "duration": 90,
    "start_time": "2021-11-30T09:36:57.872Z"
   },
   {
    "duration": 27,
    "start_time": "2021-11-30T09:37:03.028Z"
   },
   {
    "duration": 38,
    "start_time": "2021-11-30T09:37:19.172Z"
   },
   {
    "duration": 30,
    "start_time": "2021-11-30T09:37:26.229Z"
   },
   {
    "duration": 83,
    "start_time": "2021-11-30T09:37:39.099Z"
   },
   {
    "duration": 552,
    "start_time": "2021-11-30T09:37:53.909Z"
   },
   {
    "duration": 35,
    "start_time": "2021-11-30T09:38:03.533Z"
   },
   {
    "duration": 40,
    "start_time": "2021-11-30T09:38:13.565Z"
   },
   {
    "duration": 30,
    "start_time": "2021-11-30T09:38:29.892Z"
   },
   {
    "duration": 27,
    "start_time": "2021-11-30T09:38:44.842Z"
   },
   {
    "duration": 33,
    "start_time": "2021-11-30T09:39:00.786Z"
   },
   {
    "duration": 81,
    "start_time": "2021-11-30T13:20:17.951Z"
   },
   {
    "duration": 122,
    "start_time": "2021-11-30T13:20:27.803Z"
   },
   {
    "duration": 682,
    "start_time": "2021-11-30T13:20:36.787Z"
   },
   {
    "duration": 437,
    "start_time": "2021-11-30T13:21:08.051Z"
   },
   {
    "duration": 465,
    "start_time": "2021-11-30T13:23:08.324Z"
   },
   {
    "duration": 474,
    "start_time": "2021-11-30T13:24:20.116Z"
   },
   {
    "duration": 832,
    "start_time": "2021-11-30T13:25:37.147Z"
   },
   {
    "duration": 24,
    "start_time": "2021-11-30T13:27:12.685Z"
   },
   {
    "duration": 4,
    "start_time": "2021-11-30T13:27:15.898Z"
   },
   {
    "duration": 372,
    "start_time": "2021-11-30T13:27:15.903Z"
   },
   {
    "duration": 111,
    "start_time": "2021-11-30T13:27:16.277Z"
   },
   {
    "duration": 120,
    "start_time": "2021-11-30T13:27:16.390Z"
   },
   {
    "duration": 1000,
    "start_time": "2021-11-30T13:27:16.512Z"
   },
   {
    "duration": 6,
    "start_time": "2021-11-30T13:27:17.514Z"
   },
   {
    "duration": 31,
    "start_time": "2021-11-30T13:27:17.522Z"
   },
   {
    "duration": 22,
    "start_time": "2021-11-30T13:27:17.555Z"
   },
   {
    "duration": 37,
    "start_time": "2021-11-30T13:27:17.580Z"
   },
   {
    "duration": 199,
    "start_time": "2021-11-30T13:27:17.664Z"
   },
   {
    "duration": 118,
    "start_time": "2021-11-30T13:27:17.867Z"
   },
   {
    "duration": 98,
    "start_time": "2021-11-30T13:27:18.066Z"
   },
   {
    "duration": 28,
    "start_time": "2021-11-30T13:27:18.166Z"
   },
   {
    "duration": 25,
    "start_time": "2021-11-30T13:27:18.196Z"
   },
   {
    "duration": 54,
    "start_time": "2021-11-30T13:27:18.222Z"
   },
   {
    "duration": 3160,
    "start_time": "2021-11-30T13:27:18.278Z"
   },
   {
    "duration": 20,
    "start_time": "2021-11-30T13:27:28.580Z"
   },
   {
    "duration": 722,
    "start_time": "2021-11-30T13:27:33.048Z"
   },
   {
    "duration": 28,
    "start_time": "2021-11-30T13:28:21.216Z"
   },
   {
    "duration": 3195,
    "start_time": "2021-11-30T13:28:34.188Z"
   },
   {
    "duration": 93,
    "start_time": "2021-11-30T13:31:07.954Z"
   },
   {
    "duration": 262,
    "start_time": "2021-11-30T13:31:22.187Z"
   },
   {
    "duration": 30,
    "start_time": "2021-11-30T13:31:52.802Z"
   },
   {
    "duration": 32,
    "start_time": "2021-11-30T13:32:31.968Z"
   },
   {
    "duration": 24,
    "start_time": "2021-11-30T13:33:17.516Z"
   },
   {
    "duration": 555,
    "start_time": "2021-11-30T13:33:38.108Z"
   },
   {
    "duration": 441,
    "start_time": "2021-11-30T13:34:18.916Z"
   },
   {
    "duration": 26,
    "start_time": "2021-11-30T13:34:54.801Z"
   },
   {
    "duration": 27,
    "start_time": "2021-11-30T13:35:03.201Z"
   },
   {
    "duration": 25,
    "start_time": "2021-11-30T13:35:24.207Z"
   },
   {
    "duration": 25,
    "start_time": "2021-11-30T13:35:45.394Z"
   },
   {
    "duration": 23,
    "start_time": "2021-11-30T13:40:07.432Z"
   },
   {
    "duration": 3,
    "start_time": "2021-11-30T13:40:23.511Z"
   },
   {
    "duration": 399,
    "start_time": "2021-11-30T13:40:23.516Z"
   },
   {
    "duration": 111,
    "start_time": "2021-11-30T13:40:23.918Z"
   },
   {
    "duration": 146,
    "start_time": "2021-11-30T13:40:24.030Z"
   },
   {
    "duration": 1140,
    "start_time": "2021-11-30T13:40:24.178Z"
   },
   {
    "duration": 8,
    "start_time": "2021-11-30T13:40:25.321Z"
   },
   {
    "duration": 23,
    "start_time": "2021-11-30T13:40:25.330Z"
   },
   {
    "duration": 20,
    "start_time": "2021-11-30T13:40:25.355Z"
   },
   {
    "duration": 90,
    "start_time": "2021-11-30T13:40:25.378Z"
   },
   {
    "duration": 117,
    "start_time": "2021-11-30T13:40:25.471Z"
   },
   {
    "duration": 120,
    "start_time": "2021-11-30T13:40:25.666Z"
   },
   {
    "duration": 4,
    "start_time": "2021-11-30T13:40:25.865Z"
   },
   {
    "duration": 99,
    "start_time": "2021-11-30T13:40:25.872Z"
   },
   {
    "duration": 8,
    "start_time": "2021-11-30T13:40:25.973Z"
   },
   {
    "duration": 27,
    "start_time": "2021-11-30T13:40:25.983Z"
   },
   {
    "duration": 793,
    "start_time": "2021-11-30T13:40:26.012Z"
   },
   {
    "duration": 427,
    "start_time": "2021-11-30T13:40:50.585Z"
   },
   {
    "duration": 843,
    "start_time": "2021-11-30T13:41:11.101Z"
   },
   {
    "duration": 581,
    "start_time": "2021-11-30T13:41:46.982Z"
   },
   {
    "duration": 23,
    "start_time": "2021-11-30T13:42:04.838Z"
   },
   {
    "duration": 666,
    "start_time": "2021-11-30T13:42:34.941Z"
   },
   {
    "duration": 2894,
    "start_time": "2021-11-30T13:42:49.041Z"
   },
   {
    "duration": 2981,
    "start_time": "2021-11-30T13:43:25.437Z"
   },
   {
    "duration": 4,
    "start_time": "2021-11-30T13:43:33.362Z"
   },
   {
    "duration": 390,
    "start_time": "2021-11-30T13:43:33.368Z"
   },
   {
    "duration": 133,
    "start_time": "2021-11-30T13:43:33.761Z"
   },
   {
    "duration": 141,
    "start_time": "2021-11-30T13:43:33.897Z"
   },
   {
    "duration": 1114,
    "start_time": "2021-11-30T13:43:34.040Z"
   },
   {
    "duration": 13,
    "start_time": "2021-11-30T13:43:35.156Z"
   },
   {
    "duration": 36,
    "start_time": "2021-11-30T13:43:35.170Z"
   },
   {
    "duration": 24,
    "start_time": "2021-11-30T13:43:35.208Z"
   },
   {
    "duration": 63,
    "start_time": "2021-11-30T13:43:35.235Z"
   },
   {
    "duration": 264,
    "start_time": "2021-11-30T13:43:35.300Z"
   },
   {
    "duration": 120,
    "start_time": "2021-11-30T13:43:35.567Z"
   },
   {
    "duration": 82,
    "start_time": "2021-11-30T13:43:35.690Z"
   },
   {
    "duration": 4,
    "start_time": "2021-11-30T13:43:35.864Z"
   },
   {
    "duration": 15,
    "start_time": "2021-11-30T13:43:35.870Z"
   },
   {
    "duration": 24,
    "start_time": "2021-11-30T13:43:35.888Z"
   },
   {
    "duration": 3009,
    "start_time": "2021-11-30T13:43:35.914Z"
   },
   {
    "duration": 3154,
    "start_time": "2021-11-30T13:44:11.476Z"
   },
   {
    "duration": 2865,
    "start_time": "2021-11-30T13:44:38.205Z"
   },
   {
    "duration": 3354,
    "start_time": "2021-11-30T13:45:25.209Z"
   },
   {
    "duration": 9066,
    "start_time": "2021-11-30T13:46:06.117Z"
   },
   {
    "duration": 9091,
    "start_time": "2021-11-30T13:47:00.152Z"
   },
   {
    "duration": 8866,
    "start_time": "2021-11-30T13:47:56.311Z"
   },
   {
    "duration": 8798,
    "start_time": "2021-11-30T13:48:56.875Z"
   },
   {
    "duration": 3,
    "start_time": "2021-11-30T13:50:24.167Z"
   },
   {
    "duration": 404,
    "start_time": "2021-11-30T13:50:24.172Z"
   },
   {
    "duration": 118,
    "start_time": "2021-11-30T13:50:24.579Z"
   },
   {
    "duration": 130,
    "start_time": "2021-11-30T13:50:24.699Z"
   },
   {
    "duration": 1052,
    "start_time": "2021-11-30T13:50:24.831Z"
   },
   {
    "duration": 7,
    "start_time": "2021-11-30T13:50:25.885Z"
   },
   {
    "duration": 6,
    "start_time": "2021-11-30T13:50:25.894Z"
   },
   {
    "duration": 6,
    "start_time": "2021-11-30T13:50:25.902Z"
   },
   {
    "duration": 62,
    "start_time": "2021-11-30T13:50:25.910Z"
   },
   {
    "duration": 103,
    "start_time": "2021-11-30T13:50:26.063Z"
   },
   {
    "duration": 115,
    "start_time": "2021-11-30T13:50:26.169Z"
   },
   {
    "duration": 79,
    "start_time": "2021-11-30T13:50:26.287Z"
   },
   {
    "duration": 96,
    "start_time": "2021-11-30T13:50:26.368Z"
   },
   {
    "duration": 6,
    "start_time": "2021-11-30T13:50:26.467Z"
   },
   {
    "duration": 27,
    "start_time": "2021-11-30T13:50:26.475Z"
   },
   {
    "duration": 9770,
    "start_time": "2021-11-30T13:50:26.504Z"
   },
   {
    "duration": 3,
    "start_time": "2021-11-30T13:51:06.206Z"
   },
   {
    "duration": 369,
    "start_time": "2021-11-30T13:51:06.211Z"
   },
   {
    "duration": 105,
    "start_time": "2021-11-30T13:51:06.583Z"
   },
   {
    "duration": 123,
    "start_time": "2021-11-30T13:51:06.690Z"
   },
   {
    "duration": 992,
    "start_time": "2021-11-30T13:51:06.815Z"
   },
   {
    "duration": 8,
    "start_time": "2021-11-30T13:51:07.809Z"
   },
   {
    "duration": 14,
    "start_time": "2021-11-30T13:51:07.820Z"
   },
   {
    "duration": 27,
    "start_time": "2021-11-30T13:51:07.836Z"
   },
   {
    "duration": 97,
    "start_time": "2021-11-30T13:51:07.866Z"
   },
   {
    "duration": 119,
    "start_time": "2021-11-30T13:51:07.967Z"
   },
   {
    "duration": 190,
    "start_time": "2021-11-30T13:51:08.089Z"
   },
   {
    "duration": 4,
    "start_time": "2021-11-30T13:51:08.281Z"
   },
   {
    "duration": 106,
    "start_time": "2021-11-30T13:51:08.365Z"
   },
   {
    "duration": 7,
    "start_time": "2021-11-30T13:51:08.473Z"
   },
   {
    "duration": 26,
    "start_time": "2021-11-30T13:51:08.482Z"
   },
   {
    "duration": 9835,
    "start_time": "2021-11-30T13:51:08.509Z"
   },
   {
    "duration": 4,
    "start_time": "2021-11-30T13:52:19.422Z"
   },
   {
    "duration": 364,
    "start_time": "2021-11-30T13:52:19.427Z"
   },
   {
    "duration": 110,
    "start_time": "2021-11-30T13:52:19.794Z"
   },
   {
    "duration": 130,
    "start_time": "2021-11-30T13:52:19.907Z"
   },
   {
    "duration": 1107,
    "start_time": "2021-11-30T13:52:20.040Z"
   },
   {
    "duration": 7,
    "start_time": "2021-11-30T13:52:21.149Z"
   },
   {
    "duration": 42,
    "start_time": "2021-11-30T13:52:21.157Z"
   },
   {
    "duration": 19,
    "start_time": "2021-11-30T13:52:21.201Z"
   },
   {
    "duration": 78,
    "start_time": "2021-11-30T13:52:21.223Z"
   },
   {
    "duration": 172,
    "start_time": "2021-11-30T13:52:21.303Z"
   },
   {
    "duration": 204,
    "start_time": "2021-11-30T13:52:21.478Z"
   },
   {
    "duration": 92,
    "start_time": "2021-11-30T13:52:21.771Z"
   },
   {
    "duration": 12,
    "start_time": "2021-11-30T13:52:21.866Z"
   },
   {
    "duration": 9,
    "start_time": "2021-11-30T13:52:21.880Z"
   },
   {
    "duration": 42,
    "start_time": "2021-11-30T13:52:21.891Z"
   },
   {
    "duration": 9688,
    "start_time": "2021-11-30T13:52:21.935Z"
   },
   {
    "duration": 9688,
    "start_time": "2021-11-30T13:53:59.922Z"
   },
   {
    "duration": 9659,
    "start_time": "2021-11-30T13:54:18.889Z"
   },
   {
    "duration": 9724,
    "start_time": "2021-11-30T13:55:08.830Z"
   },
   {
    "duration": 9872,
    "start_time": "2021-11-30T13:55:59.279Z"
   },
   {
    "duration": 11244,
    "start_time": "2021-11-30T13:58:28.765Z"
   },
   {
    "duration": 10970,
    "start_time": "2021-11-30T13:58:41.538Z"
   },
   {
    "duration": 1507,
    "start_time": "2021-12-01T08:22:49.349Z"
   },
   {
    "duration": 452,
    "start_time": "2021-12-01T08:22:50.859Z"
   },
   {
    "duration": 149,
    "start_time": "2021-12-01T08:22:51.314Z"
   },
   {
    "duration": 195,
    "start_time": "2021-12-01T08:22:51.466Z"
   },
   {
    "duration": 1397,
    "start_time": "2021-12-01T08:22:51.664Z"
   },
   {
    "duration": 9,
    "start_time": "2021-12-01T08:22:53.063Z"
   },
   {
    "duration": 8,
    "start_time": "2021-12-01T08:22:53.074Z"
   },
   {
    "duration": 1368,
    "start_time": "2021-12-01T08:22:53.085Z"
   },
   {
    "duration": 33481,
    "start_time": "2021-12-01T08:22:20.976Z"
   },
   {
    "duration": 33480,
    "start_time": "2021-12-01T08:22:20.979Z"
   },
   {
    "duration": 33481,
    "start_time": "2021-12-01T08:22:20.980Z"
   },
   {
    "duration": 33481,
    "start_time": "2021-12-01T08:22:20.982Z"
   },
   {
    "duration": 33482,
    "start_time": "2021-12-01T08:22:20.984Z"
   },
   {
    "duration": 33482,
    "start_time": "2021-12-01T08:22:20.986Z"
   },
   {
    "duration": 33483,
    "start_time": "2021-12-01T08:22:20.987Z"
   },
   {
    "duration": 33483,
    "start_time": "2021-12-01T08:22:20.989Z"
   },
   {
    "duration": 33484,
    "start_time": "2021-12-01T08:22:20.990Z"
   },
   {
    "duration": 726,
    "start_time": "2021-12-01T08:23:19.746Z"
   },
   {
    "duration": 5,
    "start_time": "2021-12-01T08:33:37.800Z"
   },
   {
    "duration": 515,
    "start_time": "2021-12-01T08:33:37.807Z"
   },
   {
    "duration": 175,
    "start_time": "2021-12-01T08:33:38.325Z"
   },
   {
    "duration": 213,
    "start_time": "2021-12-01T08:33:38.504Z"
   },
   {
    "duration": 1348,
    "start_time": "2021-12-01T08:33:38.719Z"
   },
   {
    "duration": 9,
    "start_time": "2021-12-01T08:33:40.069Z"
   },
   {
    "duration": 19,
    "start_time": "2021-12-01T08:33:40.081Z"
   },
   {
    "duration": 770,
    "start_time": "2021-12-01T08:33:40.103Z"
   },
   {
    "duration": 6,
    "start_time": "2021-12-01T08:33:40.876Z"
   },
   {
    "duration": 144,
    "start_time": "2021-12-01T08:33:40.885Z"
   },
   {
    "duration": 197,
    "start_time": "2021-12-01T08:33:41.033Z"
   },
   {
    "duration": 196,
    "start_time": "2021-12-01T08:33:41.234Z"
   },
   {
    "duration": 95,
    "start_time": "2021-12-01T08:33:41.434Z"
   },
   {
    "duration": 9,
    "start_time": "2021-12-01T08:33:41.531Z"
   },
   {
    "duration": 7,
    "start_time": "2021-12-01T08:33:41.542Z"
   },
   {
    "duration": 126,
    "start_time": "2021-12-01T08:33:41.551Z"
   },
   {
    "duration": 16121,
    "start_time": "2021-12-01T08:33:41.680Z"
   },
   {
    "duration": 5,
    "start_time": "2021-12-01T08:38:39.731Z"
   },
   {
    "duration": 486,
    "start_time": "2021-12-01T08:38:39.738Z"
   },
   {
    "duration": 140,
    "start_time": "2021-12-01T08:38:40.227Z"
   },
   {
    "duration": 201,
    "start_time": "2021-12-01T08:38:40.369Z"
   },
   {
    "duration": 1326,
    "start_time": "2021-12-01T08:38:40.573Z"
   },
   {
    "duration": 10,
    "start_time": "2021-12-01T08:38:41.902Z"
   },
   {
    "duration": 21,
    "start_time": "2021-12-01T08:38:41.915Z"
   },
   {
    "duration": 749,
    "start_time": "2021-12-01T08:38:41.941Z"
   },
   {
    "duration": 8,
    "start_time": "2021-12-01T08:38:42.694Z"
   },
   {
    "duration": 417,
    "start_time": "2021-12-01T08:38:42.704Z"
   },
   {
    "duration": 33495,
    "start_time": "2021-12-01T08:38:09.628Z"
   },
   {
    "duration": 33495,
    "start_time": "2021-12-01T08:38:09.629Z"
   },
   {
    "duration": 33491,
    "start_time": "2021-12-01T08:38:09.634Z"
   },
   {
    "duration": 33492,
    "start_time": "2021-12-01T08:38:09.635Z"
   },
   {
    "duration": 33483,
    "start_time": "2021-12-01T08:38:09.645Z"
   },
   {
    "duration": 33482,
    "start_time": "2021-12-01T08:38:09.647Z"
   },
   {
    "duration": 33481,
    "start_time": "2021-12-01T08:38:09.650Z"
   },
   {
    "duration": 5,
    "start_time": "2021-12-01T08:39:13.368Z"
   },
   {
    "duration": 477,
    "start_time": "2021-12-01T08:39:13.376Z"
   },
   {
    "duration": 149,
    "start_time": "2021-12-01T08:39:13.856Z"
   },
   {
    "duration": 196,
    "start_time": "2021-12-01T08:39:14.008Z"
   },
   {
    "duration": 1349,
    "start_time": "2021-12-01T08:39:14.206Z"
   },
   {
    "duration": 9,
    "start_time": "2021-12-01T08:39:15.557Z"
   },
   {
    "duration": 7,
    "start_time": "2021-12-01T08:39:15.570Z"
   },
   {
    "duration": 772,
    "start_time": "2021-12-01T08:39:15.580Z"
   },
   {
    "duration": 7,
    "start_time": "2021-12-01T08:39:16.354Z"
   },
   {
    "duration": 75,
    "start_time": "2021-12-01T08:39:16.363Z"
   },
   {
    "duration": 98,
    "start_time": "2021-12-01T08:39:16.531Z"
   },
   {
    "duration": 196,
    "start_time": "2021-12-01T08:39:16.633Z"
   },
   {
    "duration": 95,
    "start_time": "2021-12-01T08:39:16.833Z"
   },
   {
    "duration": 10,
    "start_time": "2021-12-01T08:39:16.931Z"
   },
   {
    "duration": 10,
    "start_time": "2021-12-01T08:39:16.943Z"
   },
   {
    "duration": 32,
    "start_time": "2021-12-01T08:39:16.956Z"
   },
   {
    "duration": 16047,
    "start_time": "2021-12-01T08:39:16.991Z"
   },
   {
    "duration": 5,
    "start_time": "2021-12-01T09:11:46.214Z"
   },
   {
    "duration": 471,
    "start_time": "2021-12-01T09:11:46.221Z"
   },
   {
    "duration": 149,
    "start_time": "2021-12-01T09:11:46.695Z"
   },
   {
    "duration": 218,
    "start_time": "2021-12-01T09:11:46.847Z"
   },
   {
    "duration": 1469,
    "start_time": "2021-12-01T09:11:47.068Z"
   },
   {
    "duration": 9,
    "start_time": "2021-12-01T09:11:48.540Z"
   },
   {
    "duration": 8,
    "start_time": "2021-12-01T09:11:48.551Z"
   },
   {
    "duration": 879,
    "start_time": "2021-12-01T09:11:48.561Z"
   },
   {
    "duration": 7,
    "start_time": "2021-12-01T09:11:49.443Z"
   },
   {
    "duration": 87,
    "start_time": "2021-12-01T09:11:49.452Z"
   },
   {
    "duration": 106,
    "start_time": "2021-12-01T09:11:49.630Z"
   },
   {
    "duration": 102,
    "start_time": "2021-12-01T09:11:49.828Z"
   },
   {
    "duration": 5,
    "start_time": "2021-12-01T09:11:49.934Z"
   },
   {
    "duration": 6,
    "start_time": "2021-12-01T09:11:50.029Z"
   },
   {
    "duration": 14,
    "start_time": "2021-12-01T09:11:50.037Z"
   },
   {
    "duration": 41,
    "start_time": "2021-12-01T09:11:50.053Z"
   },
   {
    "duration": 15660,
    "start_time": "2021-12-01T09:11:50.097Z"
   },
   {
    "duration": 15651,
    "start_time": "2021-12-01T09:12:54.155Z"
   },
   {
    "duration": 796,
    "start_time": "2021-12-01T09:15:53.312Z"
   },
   {
    "duration": 841,
    "start_time": "2021-12-01T09:16:03.512Z"
   },
   {
    "duration": 4,
    "start_time": "2021-12-01T09:17:49.947Z"
   }
  ],
  "kernelspec": {
   "display_name": "Python 3",
   "language": "python",
   "name": "python3"
  },
  "language_info": {
   "codemirror_mode": {
    "name": "ipython",
    "version": 3
   },
   "file_extension": ".py",
   "mimetype": "text/x-python",
   "name": "python",
   "nbconvert_exporter": "python",
   "pygments_lexer": "ipython3",
   "version": "3.8.8"
  },
  "toc": {
   "base_numbering": 1,
   "nav_menu": {},
   "number_sections": true,
   "sideBar": true,
   "skip_h1_title": true,
   "title_cell": "Table of Contents",
   "title_sidebar": "Contents",
   "toc_cell": false,
   "toc_position": {},
   "toc_section_display": true,
   "toc_window_display": false
  }
 },
 "nbformat": 4,
 "nbformat_minor": 2
}
