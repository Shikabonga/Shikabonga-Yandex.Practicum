{
 "cells": [
  {
   "cell_type": "markdown",
   "metadata": {},
   "source": [
    "# Определение стоимости автомобилей"
   ]
  },
  {
   "cell_type": "markdown",
   "metadata": {},
   "source": [
    "Сервис по продаже автомобилей с пробегом «Не бит, не крашен» разрабатывает приложение для привлечения новых клиентов. В нём можно быстро узнать рыночную стоимость своего автомобиля. В вашем распоряжении исторические данные: технические характеристики, комплектации и цены автомобилей. Вам нужно построить модель для определения стоимости. \n",
    "\n",
    "Заказчику важны:\n",
    "\n",
    "- качество предсказания;\n",
    "- скорость предсказания;\n",
    "- время обучения."
   ]
  },
  {
   "cell_type": "markdown",
   "metadata": {},
   "source": [
    "План по выполнению проекта:\n",
    "- Загрузить и подготовь данные.\n",
    "- Обучить разные модели.\n",
    "- Проанализирвать скорость работы и качество моделей."
   ]
  },
  {
   "cell_type": "markdown",
   "metadata": {},
   "source": [
    "###### Описание данных:\n",
    "\n",
    "###### Признаки:\n",
    " - DateCrawled — дата скачивания анкеты из базы\n",
    " - VehicleType — тип автомобильного кузова\n",
    " - RegistrationYear — год регистрации автомобиля\n",
    " - Gearbox — тип коробки передач\n",
    " - Power — мощность (л. с.)\n",
    " - Model — модель автомобиля\n",
    " - Kilometer — пробег (км)\n",
    " - RegistrationMonth — месяц регистрации автомобиля\n",
    " - FuelType — тип топлива\n",
    " - Brand — марка автомобиля\n",
    " - NotRepaired — была машина в ремонте или нет\n",
    " - DateCreated — дата создания анкеты\n",
    " - NumberOfPictures — количество фотографий автомобиля\n",
    " - PostalCode — почтовый индекс владельца анкеты (пользователя)\n",
    " - LastSeen — дата последней активности пользователя\n",
    "###### Целевой признак:\n",
    " - Price — цена (евро)"
   ]
  },
  {
   "cell_type": "markdown",
   "metadata": {},
   "source": [
    "## Подготовка данных"
   ]
  },
  {
   "cell_type": "code",
   "execution_count": 1,
   "metadata": {},
   "outputs": [
    {
     "name": "stdout",
     "output_type": "stream",
     "text": [
      "Defaulting to user installation because normal site-packages is not writeable\n",
      "Collecting category-encoders\n",
      "  Downloading category_encoders-2.3.0-py2.py3-none-any.whl (82 kB)\n",
      "\u001b[K     |████████████████████████████████| 82 kB 492 kB/s eta 0:00:011\n",
      "\u001b[?25hRequirement already satisfied: pandas>=0.21.1 in /opt/conda/lib/python3.7/site-packages (from category-encoders) (0.25.1)\n",
      "Requirement already satisfied: statsmodels>=0.9.0 in /opt/conda/lib/python3.7/site-packages (from category-encoders) (0.10.1)\n",
      "Requirement already satisfied: scipy>=1.0.0 in /opt/conda/lib/python3.7/site-packages (from category-encoders) (1.4.1)\n",
      "Requirement already satisfied: scikit-learn>=0.20.0 in /opt/conda/lib/python3.7/site-packages (from category-encoders) (0.21.2)\n",
      "Requirement already satisfied: patsy>=0.5.1 in /opt/conda/lib/python3.7/site-packages (from category-encoders) (0.5.1)\n",
      "Requirement already satisfied: numpy>=1.14.0 in /opt/conda/lib/python3.7/site-packages (from category-encoders) (1.19.5)\n",
      "Requirement already satisfied: pytz>=2017.2 in /opt/conda/lib/python3.7/site-packages (from pandas>=0.21.1->category-encoders) (2021.1)\n",
      "Requirement already satisfied: python-dateutil>=2.6.1 in /opt/conda/lib/python3.7/site-packages (from pandas>=0.21.1->category-encoders) (2.8.1)\n",
      "Requirement already satisfied: joblib>=0.11 in /opt/conda/lib/python3.7/site-packages (from scikit-learn>=0.20.0->category-encoders) (1.0.1)\n",
      "Requirement already satisfied: six in /opt/conda/lib/python3.7/site-packages (from patsy>=0.5.1->category-encoders) (1.15.0)\n",
      "Installing collected packages: category-encoders\n",
      "Successfully installed category-encoders-2.3.0\n"
     ]
    }
   ],
   "source": [
    "!pip install category-encoders"
   ]
  },
  {
   "cell_type": "code",
   "execution_count": 2,
   "metadata": {},
   "outputs": [],
   "source": [
    "import pandas as pd\n",
    "import seaborn as sns\n",
    "import matplotlib.pyplot as plt\n",
    "import datetime\n",
    "import time\n",
    "import numpy as np\n",
    "\n",
    "import lightgbm as lgb\n",
    "from catboost import CatBoostRegressor\n",
    "from sklearn.linear_model import LinearRegression\n",
    "\n",
    "import category_encoders as ce\n",
    "\n",
    "from sklearn.model_selection import train_test_split\n",
    "from sklearn.metrics import mean_squared_error\n",
    "\n",
    "import warnings\n",
    "warnings.filterwarnings('ignore')"
   ]
  },
  {
   "cell_type": "code",
   "execution_count": 3,
   "metadata": {},
   "outputs": [],
   "source": [
    "df = pd.read_csv('/datasets/autos.csv')"
   ]
  },
  {
   "cell_type": "code",
   "execution_count": 4,
   "metadata": {},
   "outputs": [
    {
     "name": "stdout",
     "output_type": "stream",
     "text": [
      "<class 'pandas.core.frame.DataFrame'>\n",
      "RangeIndex: 354369 entries, 0 to 354368\n",
      "Data columns (total 16 columns):\n",
      "DateCrawled          354369 non-null object\n",
      "Price                354369 non-null int64\n",
      "VehicleType          316879 non-null object\n",
      "RegistrationYear     354369 non-null int64\n",
      "Gearbox              334536 non-null object\n",
      "Power                354369 non-null int64\n",
      "Model                334664 non-null object\n",
      "Kilometer            354369 non-null int64\n",
      "RegistrationMonth    354369 non-null int64\n",
      "FuelType             321474 non-null object\n",
      "Brand                354369 non-null object\n",
      "NotRepaired          283215 non-null object\n",
      "DateCreated          354369 non-null object\n",
      "NumberOfPictures     354369 non-null int64\n",
      "PostalCode           354369 non-null int64\n",
      "LastSeen             354369 non-null object\n",
      "dtypes: int64(7), object(9)\n",
      "memory usage: 43.3+ MB\n"
     ]
    }
   ],
   "source": [
    "df.info()"
   ]
  },
  {
   "cell_type": "markdown",
   "metadata": {},
   "source": [
    "Смотрим дубликаты:"
   ]
  },
  {
   "cell_type": "code",
   "execution_count": 5,
   "metadata": {},
   "outputs": [
    {
     "data": {
      "text/plain": [
       "4"
      ]
     },
     "execution_count": 5,
     "metadata": {},
     "output_type": "execute_result"
    }
   ],
   "source": [
    "df.duplicated().sum()"
   ]
  },
  {
   "cell_type": "code",
   "execution_count": 6,
   "metadata": {},
   "outputs": [
    {
     "data": {
      "text/plain": [
       "0"
      ]
     },
     "execution_count": 6,
     "metadata": {},
     "output_type": "execute_result"
    }
   ],
   "source": [
    "df = df.drop_duplicates()\n",
    "df.duplicated().sum()"
   ]
  },
  {
   "cell_type": "markdown",
   "metadata": {},
   "source": [
    "Удаляем столбца, которые нам не нужны для обучения модели"
   ]
  },
  {
   "cell_type": "code",
   "execution_count": 7,
   "metadata": {},
   "outputs": [],
   "source": [
    "df=df.drop(['DateCrawled','RegistrationMonth','DateCreated','PostalCode','LastSeen','NumberOfPictures'], axis=1)"
   ]
  },
  {
   "cell_type": "markdown",
   "metadata": {},
   "source": [
    "Смотрим что получилось:"
   ]
  },
  {
   "cell_type": "code",
   "execution_count": 8,
   "metadata": {},
   "outputs": [
    {
     "data": {
      "text/html": [
       "<div>\n",
       "<style scoped>\n",
       "    .dataframe tbody tr th:only-of-type {\n",
       "        vertical-align: middle;\n",
       "    }\n",
       "\n",
       "    .dataframe tbody tr th {\n",
       "        vertical-align: top;\n",
       "    }\n",
       "\n",
       "    .dataframe thead th {\n",
       "        text-align: right;\n",
       "    }\n",
       "</style>\n",
       "<table border=\"1\" class=\"dataframe\">\n",
       "  <thead>\n",
       "    <tr style=\"text-align: right;\">\n",
       "      <th></th>\n",
       "      <th>Price</th>\n",
       "      <th>VehicleType</th>\n",
       "      <th>RegistrationYear</th>\n",
       "      <th>Gearbox</th>\n",
       "      <th>Power</th>\n",
       "      <th>Model</th>\n",
       "      <th>Kilometer</th>\n",
       "      <th>FuelType</th>\n",
       "      <th>Brand</th>\n",
       "      <th>NotRepaired</th>\n",
       "    </tr>\n",
       "  </thead>\n",
       "  <tbody>\n",
       "    <tr>\n",
       "      <td>count</td>\n",
       "      <td>354365.000000</td>\n",
       "      <td>316875</td>\n",
       "      <td>354365.000000</td>\n",
       "      <td>334532</td>\n",
       "      <td>354365.000000</td>\n",
       "      <td>334660</td>\n",
       "      <td>354365.000000</td>\n",
       "      <td>321470</td>\n",
       "      <td>354365</td>\n",
       "      <td>283211</td>\n",
       "    </tr>\n",
       "    <tr>\n",
       "      <td>unique</td>\n",
       "      <td>NaN</td>\n",
       "      <td>8</td>\n",
       "      <td>NaN</td>\n",
       "      <td>2</td>\n",
       "      <td>NaN</td>\n",
       "      <td>250</td>\n",
       "      <td>NaN</td>\n",
       "      <td>7</td>\n",
       "      <td>40</td>\n",
       "      <td>2</td>\n",
       "    </tr>\n",
       "    <tr>\n",
       "      <td>top</td>\n",
       "      <td>NaN</td>\n",
       "      <td>sedan</td>\n",
       "      <td>NaN</td>\n",
       "      <td>manual</td>\n",
       "      <td>NaN</td>\n",
       "      <td>golf</td>\n",
       "      <td>NaN</td>\n",
       "      <td>petrol</td>\n",
       "      <td>volkswagen</td>\n",
       "      <td>no</td>\n",
       "    </tr>\n",
       "    <tr>\n",
       "      <td>freq</td>\n",
       "      <td>NaN</td>\n",
       "      <td>91457</td>\n",
       "      <td>NaN</td>\n",
       "      <td>268249</td>\n",
       "      <td>NaN</td>\n",
       "      <td>29232</td>\n",
       "      <td>NaN</td>\n",
       "      <td>216349</td>\n",
       "      <td>77012</td>\n",
       "      <td>247158</td>\n",
       "    </tr>\n",
       "    <tr>\n",
       "      <td>mean</td>\n",
       "      <td>4416.679830</td>\n",
       "      <td>NaN</td>\n",
       "      <td>2004.234481</td>\n",
       "      <td>NaN</td>\n",
       "      <td>110.093816</td>\n",
       "      <td>NaN</td>\n",
       "      <td>128211.363989</td>\n",
       "      <td>NaN</td>\n",
       "      <td>NaN</td>\n",
       "      <td>NaN</td>\n",
       "    </tr>\n",
       "    <tr>\n",
       "      <td>std</td>\n",
       "      <td>4514.176349</td>\n",
       "      <td>NaN</td>\n",
       "      <td>90.228466</td>\n",
       "      <td>NaN</td>\n",
       "      <td>189.851330</td>\n",
       "      <td>NaN</td>\n",
       "      <td>37905.083858</td>\n",
       "      <td>NaN</td>\n",
       "      <td>NaN</td>\n",
       "      <td>NaN</td>\n",
       "    </tr>\n",
       "    <tr>\n",
       "      <td>min</td>\n",
       "      <td>0.000000</td>\n",
       "      <td>NaN</td>\n",
       "      <td>1000.000000</td>\n",
       "      <td>NaN</td>\n",
       "      <td>0.000000</td>\n",
       "      <td>NaN</td>\n",
       "      <td>5000.000000</td>\n",
       "      <td>NaN</td>\n",
       "      <td>NaN</td>\n",
       "      <td>NaN</td>\n",
       "    </tr>\n",
       "    <tr>\n",
       "      <td>25%</td>\n",
       "      <td>1050.000000</td>\n",
       "      <td>NaN</td>\n",
       "      <td>1999.000000</td>\n",
       "      <td>NaN</td>\n",
       "      <td>69.000000</td>\n",
       "      <td>NaN</td>\n",
       "      <td>125000.000000</td>\n",
       "      <td>NaN</td>\n",
       "      <td>NaN</td>\n",
       "      <td>NaN</td>\n",
       "    </tr>\n",
       "    <tr>\n",
       "      <td>50%</td>\n",
       "      <td>2700.000000</td>\n",
       "      <td>NaN</td>\n",
       "      <td>2003.000000</td>\n",
       "      <td>NaN</td>\n",
       "      <td>105.000000</td>\n",
       "      <td>NaN</td>\n",
       "      <td>150000.000000</td>\n",
       "      <td>NaN</td>\n",
       "      <td>NaN</td>\n",
       "      <td>NaN</td>\n",
       "    </tr>\n",
       "    <tr>\n",
       "      <td>75%</td>\n",
       "      <td>6400.000000</td>\n",
       "      <td>NaN</td>\n",
       "      <td>2008.000000</td>\n",
       "      <td>NaN</td>\n",
       "      <td>143.000000</td>\n",
       "      <td>NaN</td>\n",
       "      <td>150000.000000</td>\n",
       "      <td>NaN</td>\n",
       "      <td>NaN</td>\n",
       "      <td>NaN</td>\n",
       "    </tr>\n",
       "    <tr>\n",
       "      <td>max</td>\n",
       "      <td>20000.000000</td>\n",
       "      <td>NaN</td>\n",
       "      <td>9999.000000</td>\n",
       "      <td>NaN</td>\n",
       "      <td>20000.000000</td>\n",
       "      <td>NaN</td>\n",
       "      <td>150000.000000</td>\n",
       "      <td>NaN</td>\n",
       "      <td>NaN</td>\n",
       "      <td>NaN</td>\n",
       "    </tr>\n",
       "  </tbody>\n",
       "</table>\n",
       "</div>"
      ],
      "text/plain": [
       "                Price VehicleType  RegistrationYear Gearbox          Power  \\\n",
       "count   354365.000000      316875     354365.000000  334532  354365.000000   \n",
       "unique            NaN           8               NaN       2            NaN   \n",
       "top               NaN       sedan               NaN  manual            NaN   \n",
       "freq              NaN       91457               NaN  268249            NaN   \n",
       "mean      4416.679830         NaN       2004.234481     NaN     110.093816   \n",
       "std       4514.176349         NaN         90.228466     NaN     189.851330   \n",
       "min          0.000000         NaN       1000.000000     NaN       0.000000   \n",
       "25%       1050.000000         NaN       1999.000000     NaN      69.000000   \n",
       "50%       2700.000000         NaN       2003.000000     NaN     105.000000   \n",
       "75%       6400.000000         NaN       2008.000000     NaN     143.000000   \n",
       "max      20000.000000         NaN       9999.000000     NaN   20000.000000   \n",
       "\n",
       "         Model      Kilometer FuelType       Brand NotRepaired  \n",
       "count   334660  354365.000000   321470      354365      283211  \n",
       "unique     250            NaN        7          40           2  \n",
       "top       golf            NaN   petrol  volkswagen          no  \n",
       "freq     29232            NaN   216349       77012      247158  \n",
       "mean       NaN  128211.363989      NaN         NaN         NaN  \n",
       "std        NaN   37905.083858      NaN         NaN         NaN  \n",
       "min        NaN    5000.000000      NaN         NaN         NaN  \n",
       "25%        NaN  125000.000000      NaN         NaN         NaN  \n",
       "50%        NaN  150000.000000      NaN         NaN         NaN  \n",
       "75%        NaN  150000.000000      NaN         NaN         NaN  \n",
       "max        NaN  150000.000000      NaN         NaN         NaN  "
      ]
     },
     "execution_count": 8,
     "metadata": {},
     "output_type": "execute_result"
    }
   ],
   "source": [
    "df.describe(include='all')  "
   ]
  },
  {
   "cell_type": "markdown",
   "metadata": {},
   "source": [
    "Посмотрим \"ближе\""
   ]
  },
  {
   "cell_type": "code",
   "execution_count": 9,
   "metadata": {},
   "outputs": [
    {
     "data": {
      "text/plain": [
       "sedan          91457\n",
       "small          79830\n",
       "wagon          65165\n",
       "NaN            37490\n",
       "bus            28775\n",
       "convertible    20203\n",
       "coupe          16161\n",
       "suv            11996\n",
       "other           3288\n",
       "Name: VehicleType, dtype: int64"
      ]
     },
     "execution_count": 9,
     "metadata": {},
     "output_type": "execute_result"
    }
   ],
   "source": [
    "df['VehicleType'].value_counts(dropna = False)\n",
    "#df['VehicleType'] = df['VehicleType'].fillna('other')"
   ]
  },
  {
   "cell_type": "code",
   "execution_count": 10,
   "metadata": {},
   "outputs": [
    {
     "data": {
      "text/plain": [
       "count    354365.000000\n",
       "mean       2004.234481\n",
       "std          90.228466\n",
       "min        1000.000000\n",
       "25%        1999.000000\n",
       "50%        2003.000000\n",
       "75%        2008.000000\n",
       "max        9999.000000\n",
       "Name: RegistrationYear, dtype: float64"
      ]
     },
     "execution_count": 10,
     "metadata": {},
     "output_type": "execute_result"
    }
   ],
   "source": [
    "df['RegistrationYear'].describe()"
   ]
  },
  {
   "cell_type": "markdown",
   "metadata": {},
   "source": [
    "Есть выбросы, откинем их."
   ]
  },
  {
   "cell_type": "code",
   "execution_count": 11,
   "metadata": {},
   "outputs": [
    {
     "data": {
      "text/plain": [
       "2000    24490\n",
       "1999    22727\n",
       "2005    22109\n",
       "2001    20123\n",
       "2006    19900\n",
       "2003    19762\n",
       "2004    19611\n",
       "2002    19091\n",
       "1998    17899\n",
       "2007    17183\n",
       "2008    15391\n",
       "1997    14666\n",
       "2009    14503\n",
       "1996    10835\n",
       "2010    10764\n",
       "2017    10441\n",
       "2011     9909\n",
       "1995     9607\n",
       "2016     9599\n",
       "2012     7178\n",
       "1994     4841\n",
       "2013     4131\n",
       "2018     3959\n",
       "1993     3438\n",
       "1992     3002\n",
       "1990     2806\n",
       "1991     2762\n",
       "2014     2537\n",
       "1989     1318\n",
       "2015     1302\n",
       "1988      942\n",
       "1987      667\n",
       "1986      538\n",
       "2019       25\n",
       "Name: RegistrationYear, dtype: int64"
      ]
     },
     "metadata": {},
     "output_type": "display_data"
    },
    {
     "data": {
      "text/plain": [
       "count    348056.000000\n",
       "mean       2003.586523\n",
       "std           6.373410\n",
       "min        1986.000000\n",
       "25%        1999.000000\n",
       "50%        2003.000000\n",
       "75%        2008.000000\n",
       "max        2019.000000\n",
       "Name: RegistrationYear, dtype: float64"
      ]
     },
     "execution_count": 11,
     "metadata": {},
     "output_type": "execute_result"
    }
   ],
   "source": [
    "dt_year = datetime.datetime.today().year\n",
    "df = df.query('RegistrationYear > 1985 & RegistrationYear < @dt_year')\n",
    "display(df['RegistrationYear'].value_counts())\n",
    "df['RegistrationYear'].describe()"
   ]
  },
  {
   "cell_type": "code",
   "execution_count": 12,
   "metadata": {},
   "outputs": [
    {
     "data": {
      "text/plain": [
       "manual    264547\n",
       "auto       65070\n",
       "NaN        18439\n",
       "Name: Gearbox, dtype: int64"
      ]
     },
     "execution_count": 12,
     "metadata": {},
     "output_type": "execute_result"
    }
   ],
   "source": [
    "df['Gearbox'].value_counts(dropna = False)"
   ]
  },
  {
   "cell_type": "code",
   "execution_count": 13,
   "metadata": {},
   "outputs": [
    {
     "data": {
      "text/plain": [
       "count    348056.000000\n",
       "mean        110.694518\n",
       "std         188.893320\n",
       "min           0.000000\n",
       "25%          69.000000\n",
       "50%         105.000000\n",
       "75%         143.000000\n",
       "max       20000.000000\n",
       "Name: Power, dtype: float64"
      ]
     },
     "execution_count": 13,
     "metadata": {},
     "output_type": "execute_result"
    }
   ],
   "source": [
    "df['Power'].describe()"
   ]
  },
  {
   "cell_type": "markdown",
   "metadata": {},
   "source": [
    "Так же присутствуют какие то нереальные мощности, отбросим лишнее, ограничим по 50 л.с.(ниже только мопеды) и 2000 л.с.(самый мощный автомобиль имеет столько сил)"
   ]
  },
  {
   "cell_type": "code",
   "execution_count": 14,
   "metadata": {},
   "outputs": [
    {
     "data": {
      "text/plain": [
       "count    304509.000000\n",
       "mean        122.667839\n",
       "std          63.377748\n",
       "min          50.000000\n",
       "25%          80.000000\n",
       "50%         114.000000\n",
       "75%         150.000000\n",
       "max        2000.000000\n",
       "Name: Power, dtype: float64"
      ]
     },
     "execution_count": 14,
     "metadata": {},
     "output_type": "execute_result"
    }
   ],
   "source": [
    "df = df.query('Power >= 50 & Power <= 2000')\n",
    "df['Power'].describe()"
   ]
  },
  {
   "cell_type": "code",
   "execution_count": 15,
   "metadata": {},
   "outputs": [
    {
     "data": {
      "text/plain": [
       "golf                  26474\n",
       "other                 19076\n",
       "3er                   18144\n",
       "NaN                   12162\n",
       "polo                  10438\n",
       "                      ...  \n",
       "i3                        5\n",
       "samara                    5\n",
       "rangerover                3\n",
       "range_rover_evoque        2\n",
       "601                       1\n",
       "Name: Model, Length: 248, dtype: int64"
      ]
     },
     "execution_count": 15,
     "metadata": {},
     "output_type": "execute_result"
    }
   ],
   "source": [
    "df['Model'].value_counts(dropna = False)"
   ]
  },
  {
   "cell_type": "code",
   "execution_count": 16,
   "metadata": {},
   "outputs": [
    {
     "data": {
      "text/plain": [
       "count    304509.000000\n",
       "mean     128983.626100\n",
       "std       36341.411409\n",
       "min        5000.000000\n",
       "25%      125000.000000\n",
       "50%      150000.000000\n",
       "75%      150000.000000\n",
       "max      150000.000000\n",
       "Name: Kilometer, dtype: float64"
      ]
     },
     "execution_count": 16,
     "metadata": {},
     "output_type": "execute_result"
    }
   ],
   "source": [
    "df['Kilometer'].describe()"
   ]
  },
  {
   "cell_type": "code",
   "execution_count": 17,
   "metadata": {},
   "outputs": [
    {
     "data": {
      "text/plain": [
       "petrol      189057\n",
       "gasoline     89627\n",
       "NaN          20169\n",
       "lpg           4856\n",
       "cng            501\n",
       "hybrid         205\n",
       "other           58\n",
       "electric        36\n",
       "Name: FuelType, dtype: int64"
      ]
     },
     "execution_count": 17,
     "metadata": {},
     "output_type": "execute_result"
    }
   ],
   "source": [
    "df['FuelType'].value_counts(dropna = False)"
   ]
  },
  {
   "cell_type": "code",
   "execution_count": 18,
   "metadata": {},
   "outputs": [
    {
     "data": {
      "text/plain": [
       "volkswagen        66662\n",
       "bmw               33641\n",
       "opel              33123\n",
       "mercedes_benz     27712\n",
       "audi              26930\n",
       "ford              21430\n",
       "renault           14690\n",
       "peugeot            9550\n",
       "fiat               7698\n",
       "seat               6221\n",
       "skoda              5081\n",
       "mazda              4955\n",
       "citroen            4351\n",
       "nissan             4207\n",
       "toyota             4132\n",
       "smart              3758\n",
       "hyundai            3215\n",
       "mini               3058\n",
       "volvo              2876\n",
       "mitsubishi         2645\n",
       "honda              2531\n",
       "kia                2199\n",
       "alfa_romeo         2018\n",
       "suzuki             1997\n",
       "chevrolet          1413\n",
       "sonstige_autos     1279\n",
       "chrysler           1216\n",
       "dacia               827\n",
       "subaru              674\n",
       "daihatsu            583\n",
       "jeep                570\n",
       "porsche             550\n",
       "saab                482\n",
       "land_rover          448\n",
       "daewoo              428\n",
       "jaguar              424\n",
       "rover               398\n",
       "lancia              389\n",
       "lada                139\n",
       "trabant               9\n",
       "Name: Brand, dtype: int64"
      ]
     },
     "execution_count": 18,
     "metadata": {},
     "output_type": "execute_result"
    }
   ],
   "source": [
    "df['Brand'].value_counts(dropna = False)"
   ]
  },
  {
   "cell_type": "code",
   "execution_count": 19,
   "metadata": {},
   "outputs": [
    {
     "data": {
      "text/plain": [
       "no     227127\n",
       "NaN     47336\n",
       "yes     30046\n",
       "Name: NotRepaired, dtype: int64"
      ]
     },
     "execution_count": 19,
     "metadata": {},
     "output_type": "execute_result"
    }
   ],
   "source": [
    "df['NotRepaired'].value_counts(dropna = False)"
   ]
  },
  {
   "cell_type": "markdown",
   "metadata": {},
   "source": [
    "Здесь пропуски заменим на 0, скорее всего просто не заполненое поле при отсутствии ремонта. Так же переведем yes-1 и no-0"
   ]
  },
  {
   "cell_type": "code",
   "execution_count": 20,
   "metadata": {},
   "outputs": [
    {
     "data": {
      "text/plain": [
       "0    274463\n",
       "1     30046\n",
       "Name: NotRepaired, dtype: int64"
      ]
     },
     "execution_count": 20,
     "metadata": {},
     "output_type": "execute_result"
    }
   ],
   "source": [
    "df['NotRepaired'] = df['NotRepaired'].map({'yes':1, 'no':0})\n",
    "df['NotRepaired'] = df['NotRepaired'].fillna(0)\n",
    "df['NotRepaired'] = df['NotRepaired'].astype('int64')\n",
    "df['NotRepaired'].value_counts(dropna = False)"
   ]
  },
  {
   "cell_type": "markdown",
   "metadata": {},
   "source": [
    "Смотрим остальные пропуски"
   ]
  },
  {
   "cell_type": "code",
   "execution_count": 21,
   "metadata": {},
   "outputs": [
    {
     "data": {
      "text/plain": [
       "Price                   0\n",
       "VehicleType         21953\n",
       "RegistrationYear        0\n",
       "Gearbox              5939\n",
       "Power                   0\n",
       "Model               12162\n",
       "Kilometer               0\n",
       "FuelType            20169\n",
       "Brand                   0\n",
       "NotRepaired             0\n",
       "dtype: int64"
      ]
     },
     "execution_count": 21,
     "metadata": {},
     "output_type": "execute_result"
    }
   ],
   "source": [
    "df.isnull().sum()"
   ]
  },
  {
   "cell_type": "markdown",
   "metadata": {},
   "source": [
    "Как заполнить поля Gearbox и Model не придумал ничего, кроме как закрыть заглушкой. Тип топлива и кузов, попробуем подобрать по признакам...но заведомо знаю, что будут ошибки. Может быть что их так же закрыть заглушкой..."
   ]
  },
  {
   "cell_type": "code",
   "execution_count": 22,
   "metadata": {},
   "outputs": [],
   "source": [
    "df['Gearbox'] = df['Gearbox'].fillna('unknown')\n",
    "df['Model'] = df['Model'].fillna('unknown')\n",
    "df['FuelType'] = df.groupby(['Model', 'Power','RegistrationYear'])['FuelType'].transform(lambda x: x.fillna((x.mode()[0] if not x.mode().empty else 'unknown')))\n",
    "df['VehicleType'] = df.groupby(['Model', 'Power','RegistrationYear'])['VehicleType'].transform(lambda x: x.fillna((x.mode()[0] if not x.mode().empty else 'other')))"
   ]
  },
  {
   "cell_type": "code",
   "execution_count": 23,
   "metadata": {},
   "outputs": [
    {
     "name": "stdout",
     "output_type": "stream",
     "text": [
      "<class 'pandas.core.frame.DataFrame'>\n",
      "Int64Index: 304509 entries, 1 to 354368\n",
      "Data columns (total 10 columns):\n",
      "Price               304509 non-null int64\n",
      "VehicleType         304509 non-null object\n",
      "RegistrationYear    304509 non-null int64\n",
      "Gearbox             304509 non-null object\n",
      "Power               304509 non-null int64\n",
      "Model               304509 non-null object\n",
      "Kilometer           304509 non-null int64\n",
      "FuelType            304509 non-null object\n",
      "Brand               304509 non-null object\n",
      "NotRepaired         304509 non-null int64\n",
      "dtypes: int64(5), object(5)\n",
      "memory usage: 25.6+ MB\n"
     ]
    }
   ],
   "source": [
    "df.info()"
   ]
  },
  {
   "cell_type": "markdown",
   "metadata": {},
   "source": [
    "## Обучение моделей"
   ]
  },
  {
   "cell_type": "markdown",
   "metadata": {},
   "source": [
    "Использовать будем модели:CatBoost, LightGBM и линейную регрессию"
   ]
  },
  {
   "cell_type": "markdown",
   "metadata": {},
   "source": [
    "Определим категориальные признаки и раздели выборку на обучающую и тестовую в соотношении 70/30"
   ]
  },
  {
   "cell_type": "code",
   "execution_count": 24,
   "metadata": {},
   "outputs": [
    {
     "name": "stdout",
     "output_type": "stream",
     "text": [
      "Размер обучающей выборки: 213156\n",
      "Размер тестовой выборки: 91353\n"
     ]
    }
   ],
   "source": [
    "cat = ['VehicleType','Gearbox', 'Model', 'FuelType', 'Brand']\n",
    "df[cat] = df[cat].astype('category')\n",
    "features = df.drop('Price', axis = 1) \n",
    "target = df['Price']\n",
    "features_train, features_test, target_train, target_test = train_test_split(features, target, test_size=0.3, random_state=12345)\n",
    "print('Размер обучающей выборки: {}'.format(features_train.shape[0]))\n",
    "print('Размер тестовой выборки: {}'.format(features_test.shape[0]))"
   ]
  },
  {
   "cell_type": "markdown",
   "metadata": {},
   "source": [
    "### CatBoost"
   ]
  },
  {
   "cell_type": "code",
   "execution_count": 25,
   "metadata": {},
   "outputs": [],
   "source": [
    "model_catboost = CatBoostRegressor(learning_rate = 0.8, iterations = 1200, eval_metric = 'RMSE', cat_features=cat, verbose = 200)"
   ]
  },
  {
   "cell_type": "code",
   "execution_count": 26,
   "metadata": {},
   "outputs": [
    {
     "name": "stdout",
     "output_type": "stream",
     "text": [
      "0:\tlearn: 2789.5138417\ttest: 2787.9894269\tbest: 2787.9894269 (0)\ttotal: 566ms\tremaining: 11m 19s\n",
      "200:\tlearn: 1606.5254795\ttest: 1708.6846620\tbest: 1708.4244367 (199)\ttotal: 1m 33s\tremaining: 7m 46s\n",
      "400:\tlearn: 1539.6470081\ttest: 1694.0099914\tbest: 1693.9954566 (393)\ttotal: 3m 6s\tremaining: 6m 11s\n",
      "600:\tlearn: 1496.9788919\ttest: 1683.9138524\tbest: 1683.8785099 (599)\ttotal: 4m 38s\tremaining: 4m 37s\n",
      "800:\tlearn: 1464.4644598\ttest: 1682.3139047\tbest: 1681.7128564 (710)\ttotal: 6m 10s\tremaining: 3m 4s\n",
      "1000:\tlearn: 1438.5259782\ttest: 1679.2323489\tbest: 1678.5581486 (973)\ttotal: 7m 44s\tremaining: 1m 32s\n",
      "1199:\tlearn: 1417.9561742\ttest: 1678.0128268\tbest: 1677.1269099 (1147)\ttotal: 9m 19s\tremaining: 0us\n",
      "\n",
      "bestTest = 1677.12691\n",
      "bestIteration = 1147\n",
      "\n",
      "Shrink model to first 1148 iterations.\n",
      "Время потраченное на обчучение:9.413 минут\n",
      "CPU times: user 8min 15s, sys: 1min 5s, total: 9min 21s\n",
      "Wall time: 9min 24s\n"
     ]
    }
   ],
   "source": [
    "%%time\n",
    "start = time.time()\n",
    "model_catboost.fit(features_train, target_train, eval_set = (features_test, target_test))\n",
    "end = time.time()\n",
    "catboost_time = end - start\n",
    "print('Время потраченное на обчучение:{:.3f} минут'.format(catboost_time / 60))"
   ]
  },
  {
   "cell_type": "code",
   "execution_count": 27,
   "metadata": {},
   "outputs": [
    {
     "data": {
      "text/plain": [
       "1677.126909898357"
      ]
     },
     "execution_count": 27,
     "metadata": {},
     "output_type": "execute_result"
    }
   ],
   "source": [
    "catboost_score = model_catboost.get_best_score()\n",
    "catboost_rmse = catboost_score['validation']['RMSE']\n",
    "catboost_rmse"
   ]
  },
  {
   "cell_type": "markdown",
   "metadata": {},
   "source": [
    "Гиперпараметры подбирал ручками, можно было бы сделать перебором, но это очень долго)"
   ]
  },
  {
   "cell_type": "markdown",
   "metadata": {},
   "source": [
    " - RMSE при CatBoost: 1665.339024\n",
    " - Время на обучение: ~15 минут"
   ]
  },
  {
   "cell_type": "markdown",
   "metadata": {},
   "source": [
    "### LightGBM"
   ]
  },
  {
   "cell_type": "code",
   "execution_count": 28,
   "metadata": {},
   "outputs": [],
   "source": [
    "model_gbm = lgb.LGBMRegressor(learning_rate=0.2, verbose = 200)"
   ]
  },
  {
   "cell_type": "code",
   "execution_count": 1,
   "metadata": {
    "scrolled": true
   },
   "outputs": [
    {
     "ename": "NameError",
     "evalue": "name 'time' is not defined",
     "output_type": "error",
     "traceback": [
      "\u001b[0;31m---------------------------------------------------------------------------\u001b[0m",
      "\u001b[0;31mNameError\u001b[0m                                 Traceback (most recent call last)",
      "\u001b[0;32m<timed exec>\u001b[0m in \u001b[0;36m<module>\u001b[0;34m\u001b[0m\n",
      "\u001b[0;31mNameError\u001b[0m: name 'time' is not defined"
     ]
    }
   ],
   "source": [
    "%%time\n",
    "start = time.time()\n",
    "model_gbm.fit(\n",
    "    features_train, target_train, \n",
    "    eval_set=[(features_test, target_test)],\n",
    "    eval_metric='rmse', \n",
    "    categorical_feature=cat,\n",
    "    \n",
    ")\n",
    "end = time.time()\n",
    "gbm_time = end - start\n",
    "print('Время потраченное на обчучение:{}'.format(gbm_time))"
   ]
  },
  {
   "cell_type": "code",
   "execution_count": 30,
   "metadata": {},
   "outputs": [
    {
     "data": {
      "text/plain": [
       "1678.561088918866"
      ]
     },
     "execution_count": 30,
     "metadata": {},
     "output_type": "execute_result"
    }
   ],
   "source": [
    "predictions_test = model_gbm.predict(features_test)\n",
    "gbm_rmse = np.sqrt(mean_squared_error(target_test, predictions_test))\n",
    "gbm_rmse "
   ]
  },
  {
   "cell_type": "markdown",
   "metadata": {},
   "source": [
    " - RMSE при LightGBM:1668.63\n",
    " - Время затраченное на обучение: ~12 секунд"
   ]
  },
  {
   "cell_type": "markdown",
   "metadata": {},
   "source": [
    "### Линейная регрессия"
   ]
  },
  {
   "cell_type": "markdown",
   "metadata": {},
   "source": [
    "Применим Catboost Encoder для категориальных признаков"
   ]
  },
  {
   "cell_type": "code",
   "execution_count": 31,
   "metadata": {},
   "outputs": [],
   "source": [
    "cbe_encoder = ce.cat_boost.CatBoostEncoder()\n",
    "cbe_encoder.fit(features_train, target_train)\n",
    "train_cbe = cbe_encoder.transform(features_train)\n",
    "test_cbe = cbe_encoder.transform(features_test)"
   ]
  },
  {
   "cell_type": "code",
   "execution_count": 32,
   "metadata": {},
   "outputs": [],
   "source": [
    "model_lr = LinearRegression()"
   ]
  },
  {
   "cell_type": "code",
   "execution_count": 33,
   "metadata": {},
   "outputs": [
    {
     "name": "stdout",
     "output_type": "stream",
     "text": [
      "Время потраченное на обчучение:0.05102825164794922\n",
      "CPU times: user 43.4 ms, sys: 13.2 ms, total: 56.6 ms\n",
      "Wall time: 51.3 ms\n"
     ]
    }
   ],
   "source": [
    "%%time\n",
    "start = time.time()\n",
    "model_lr.fit(train_cbe, target_train)\n",
    "end = time.time()\n",
    "lr_time = end - start\n",
    "print('Время потраченное на обчучение:{}'.format(lr_time))"
   ]
  },
  {
   "cell_type": "code",
   "execution_count": 34,
   "metadata": {},
   "outputs": [
    {
     "name": "stdout",
     "output_type": "stream",
     "text": [
      "RMSE:2836.71\n"
     ]
    }
   ],
   "source": [
    "predictions_test = model_lr.predict(test_cbe)\n",
    "lr_rmse = np.sqrt(mean_squared_error(target_test, predictions_test))\n",
    "\n",
    "print('RMSE:{:.2f}'.format(lr_rmse))"
   ]
  },
  {
   "cell_type": "markdown",
   "metadata": {},
   "source": [
    "## Анализ моделей"
   ]
  },
  {
   "cell_type": "markdown",
   "metadata": {},
   "source": [
    "Соберем все данные вместе"
   ]
  },
  {
   "cell_type": "code",
   "execution_count": 35,
   "metadata": {},
   "outputs": [
    {
     "data": {
      "text/html": [
       "<div>\n",
       "<style scoped>\n",
       "    .dataframe tbody tr th:only-of-type {\n",
       "        vertical-align: middle;\n",
       "    }\n",
       "\n",
       "    .dataframe tbody tr th {\n",
       "        vertical-align: top;\n",
       "    }\n",
       "\n",
       "    .dataframe thead th {\n",
       "        text-align: right;\n",
       "    }\n",
       "</style>\n",
       "<table border=\"1\" class=\"dataframe\">\n",
       "  <thead>\n",
       "    <tr style=\"text-align: right;\">\n",
       "      <th></th>\n",
       "      <th>index</th>\n",
       "      <th>time</th>\n",
       "      <th>RMSE</th>\n",
       "    </tr>\n",
       "  </thead>\n",
       "  <tbody>\n",
       "    <tr>\n",
       "      <td>0</td>\n",
       "      <td>CatBoost</td>\n",
       "      <td>564.775741</td>\n",
       "      <td>1677.126910</td>\n",
       "    </tr>\n",
       "    <tr>\n",
       "      <td>1</td>\n",
       "      <td>LightGBM</td>\n",
       "      <td>398.758782</td>\n",
       "      <td>1678.561089</td>\n",
       "    </tr>\n",
       "    <tr>\n",
       "      <td>2</td>\n",
       "      <td>Линейная регрессия</td>\n",
       "      <td>0.051028</td>\n",
       "      <td>2836.709917</td>\n",
       "    </tr>\n",
       "  </tbody>\n",
       "</table>\n",
       "</div>"
      ],
      "text/plain": [
       "                index        time         RMSE\n",
       "0            CatBoost  564.775741  1677.126910\n",
       "1            LightGBM  398.758782  1678.561089\n",
       "2  Линейная регрессия    0.051028  2836.709917"
      ]
     },
     "execution_count": 35,
     "metadata": {},
     "output_type": "execute_result"
    }
   ],
   "source": [
    "res = {'time':pd.Series([catboost_time, gbm_time, lr_time], index = ['CatBoost', 'LightGBM', 'Линейная регрессия']),\n",
    "       'RMSE':pd.Series([catboost_rmse, gbm_rmse, lr_rmse], index = ['CatBoost', 'LightGBM', 'Линейная регрессия']),\n",
    "      }\n",
    "df_res = pd.DataFrame(res).reset_index()\n",
    "df_res"
   ]
  },
  {
   "cell_type": "code",
   "execution_count": 36,
   "metadata": {
    "scrolled": false
   },
   "outputs": [
    {
     "data": {
      "image/png": "[encoded data removed]",
      "text/plain": [
       "<Figure size 360x360 with 1 Axes>"
      ]
     },
     "metadata": {
      "needs_background": "light"
     },
     "output_type": "display_data"
    },
    {
     "data": {
      "image/png": "[encoded data removed]",
      "text/plain": [
       "<Figure size 360x360 with 1 Axes>"
      ]
     },
     "metadata": {
      "needs_background": "light"
     },
     "output_type": "display_data"
    }
   ],
   "source": [
    "sns.catplot(x='time', y='index', kind=\"bar\", data=df_res)\n",
    "sns.catplot(x='RMSE', y='index', kind='bar', data=df_res)\n",
    "plt.show()"
   ]
  },
  {
   "cell_type": "markdown",
   "metadata": {},
   "source": [
    "### Вывод:\n",
    " - Лучше всех отработала LightGBM: быстро и RMSE на уровне CatBoost\n",
    " - CatBoost долше всех обучался, но результат относительно не плохой\n",
    " - Линейная регрессия отработала молниеносно, но RMSE чуть ли не в два раза превышает"
   ]
  },
  {
   "cell_type": "markdown",
   "metadata": {},
   "source": [
    "P.S.: Можно было еще перебором гиперпараметров или gridsearchcv попробовать улучшить результат, но это было бы на много дольше..."
   ]
  },
  {
   "cell_type": "markdown",
   "metadata": {},
   "source": [
    "## Чек-лист проверки"
   ]
  },
  {
   "cell_type": "markdown",
   "metadata": {},
   "source": [
    "Поставьте 'x' в выполненных пунктах. Далее нажмите Shift+Enter."
   ]
  },
  {
   "cell_type": "markdown",
   "metadata": {},
   "source": [
    "- [x]  Jupyter Notebook открыт\n",
    "- [ ]  Весь код выполняется без ошибок\n",
    "- [ ]  Ячейки с кодом расположены в порядке исполнения\n",
    "- [ ]  Выполнена загрузка и подготовка данных\n",
    "- [ ]  Выполнено обучение моделей\n",
    "- [ ]  Есть анализ скорости работы и качества моделей"
   ]
  },
  {
   "cell_type": "code",
   "execution_count": null,
   "metadata": {},
   "outputs": [],
   "source": []
  }
 ],
 "metadata": {
  "ExecuteTimeLog": [
   {
    "duration": 558,
    "start_time": "2022-01-16T18:23:49.489Z"
   },
   {
    "duration": 698,
    "start_time": "2022-01-16T18:23:50.049Z"
   },
   {
    "duration": 112,
    "start_time": "2022-01-16T18:23:50.749Z"
   },
   {
    "duration": 263,
    "start_time": "2022-01-16T18:24:37.276Z"
   },
   {
    "duration": 422,
    "start_time": "2022-01-16T18:25:03.159Z"
   },
   {
    "duration": 362,
    "start_time": "2022-01-17T09:20:00.889Z"
   },
   {
    "duration": 785,
    "start_time": "2022-01-17T09:20:06.389Z"
   },
   {
    "duration": 1419,
    "start_time": "2022-01-17T09:20:07.177Z"
   },
   {
    "duration": 166,
    "start_time": "2022-01-17T09:20:08.600Z"
   },
   {
    "duration": 343,
    "start_time": "2022-01-17T09:20:08.768Z"
   },
   {
    "duration": 11325,
    "start_time": "2022-01-17T09:19:57.788Z"
   },
   {
    "duration": 11320,
    "start_time": "2022-01-17T09:19:57.794Z"
   },
   {
    "duration": 126,
    "start_time": "2022-01-17T09:20:23.425Z"
   },
   {
    "duration": 3,
    "start_time": "2022-01-17T09:22:38.022Z"
   },
   {
    "duration": 1133,
    "start_time": "2022-01-17T09:22:38.028Z"
   },
   {
    "duration": 168,
    "start_time": "2022-01-17T09:22:39.164Z"
   },
   {
    "duration": 140,
    "start_time": "2022-01-17T09:22:39.334Z"
   },
   {
    "duration": 624,
    "start_time": "2022-01-17T09:22:39.477Z"
   },
   {
    "duration": 834,
    "start_time": "2022-01-17T09:22:40.104Z"
   },
   {
    "duration": 62,
    "start_time": "2022-01-17T09:24:58.275Z"
   },
   {
    "duration": 102,
    "start_time": "2022-01-17T09:25:36.592Z"
   },
   {
    "duration": 30,
    "start_time": "2022-01-17T09:26:08.854Z"
   },
   {
    "duration": 507,
    "start_time": "2022-01-17T09:26:47.498Z"
   },
   {
    "duration": 102,
    "start_time": "2022-01-17T09:27:03.067Z"
   },
   {
    "duration": 394,
    "start_time": "2022-01-17T09:27:14.415Z"
   },
   {
    "duration": 264,
    "start_time": "2022-01-17T09:28:11.551Z"
   },
   {
    "duration": 262,
    "start_time": "2022-01-17T09:29:28.624Z"
   },
   {
    "duration": 722,
    "start_time": "2022-01-17T09:29:43.600Z"
   },
   {
    "duration": 1123,
    "start_time": "2022-01-17T09:29:44.325Z"
   },
   {
    "duration": 159,
    "start_time": "2022-01-17T09:29:45.451Z"
   },
   {
    "duration": 586,
    "start_time": "2022-01-17T09:29:45.612Z"
   },
   {
    "duration": 684,
    "start_time": "2022-01-17T09:29:46.201Z"
   },
   {
    "duration": 108,
    "start_time": "2022-01-17T09:29:46.888Z"
   },
   {
    "duration": 515,
    "start_time": "2022-01-17T09:29:46.998Z"
   },
   {
    "duration": 493,
    "start_time": "2022-01-17T09:29:56.866Z"
   },
   {
    "duration": 321,
    "start_time": "2022-01-17T09:30:31.338Z"
   },
   {
    "duration": 346,
    "start_time": "2022-01-17T09:31:26.382Z"
   },
   {
    "duration": 263,
    "start_time": "2022-01-17T09:32:39.474Z"
   },
   {
    "duration": 286,
    "start_time": "2022-01-17T09:33:24.374Z"
   },
   {
    "duration": 260,
    "start_time": "2022-01-17T09:33:44.049Z"
   },
   {
    "duration": 540,
    "start_time": "2022-01-17T09:33:52.879Z"
   },
   {
    "duration": 655,
    "start_time": "2022-01-17T09:34:41.360Z"
   },
   {
    "duration": 284,
    "start_time": "2022-01-17T09:34:53.228Z"
   },
   {
    "duration": 2573,
    "start_time": "2022-01-17T09:35:06.228Z"
   },
   {
    "duration": 9707,
    "start_time": "2022-01-17T09:43:45.710Z"
   },
   {
    "duration": 791,
    "start_time": "2022-01-17T09:44:26.630Z"
   },
   {
    "duration": 150,
    "start_time": "2022-01-17T09:45:54.747Z"
   },
   {
    "duration": 152,
    "start_time": "2022-01-17T09:46:09.052Z"
   },
   {
    "duration": 20,
    "start_time": "2022-01-17T09:46:54.017Z"
   },
   {
    "duration": 1317,
    "start_time": "2022-01-17T09:49:47.846Z"
   },
   {
    "duration": 4,
    "start_time": "2022-01-17T09:53:54.358Z"
   },
   {
    "duration": 1040,
    "start_time": "2022-01-17T09:53:54.365Z"
   },
   {
    "duration": 165,
    "start_time": "2022-01-17T09:53:55.408Z"
   },
   {
    "duration": 71,
    "start_time": "2022-01-17T09:53:55.576Z"
   },
   {
    "duration": 403,
    "start_time": "2022-01-17T09:53:55.650Z"
   },
   {
    "duration": 218,
    "start_time": "2022-01-17T09:53:56.055Z"
   },
   {
    "duration": 252,
    "start_time": "2022-01-17T09:53:56.276Z"
   },
   {
    "duration": 97,
    "start_time": "2022-01-17T09:53:56.530Z"
   },
   {
    "duration": 190,
    "start_time": "2022-01-17T10:00:39.309Z"
   },
   {
    "duration": 215,
    "start_time": "2022-01-17T10:00:43.941Z"
   },
   {
    "duration": 3,
    "start_time": "2022-01-17T10:00:47.049Z"
   },
   {
    "duration": 1069,
    "start_time": "2022-01-17T10:00:47.055Z"
   },
   {
    "duration": 162,
    "start_time": "2022-01-17T10:00:48.127Z"
   },
   {
    "duration": 67,
    "start_time": "2022-01-17T10:00:48.292Z"
   },
   {
    "duration": 420,
    "start_time": "2022-01-17T10:00:48.362Z"
   },
   {
    "duration": 215,
    "start_time": "2022-01-17T10:00:48.785Z"
   },
   {
    "duration": 271,
    "start_time": "2022-01-17T10:00:49.003Z"
   },
   {
    "duration": 99,
    "start_time": "2022-01-17T10:00:49.277Z"
   },
   {
    "duration": 4,
    "start_time": "2022-01-17T10:01:29.116Z"
   },
   {
    "duration": 1172,
    "start_time": "2022-01-17T10:01:29.124Z"
   },
   {
    "duration": 165,
    "start_time": "2022-01-17T10:01:30.299Z"
   },
   {
    "duration": 633,
    "start_time": "2022-01-17T10:01:30.467Z"
   },
   {
    "duration": 734,
    "start_time": "2022-01-17T10:01:31.102Z"
   },
   {
    "duration": 62,
    "start_time": "2022-01-17T10:01:31.839Z"
   },
   {
    "duration": 422,
    "start_time": "2022-01-17T10:01:31.917Z"
   },
   {
    "duration": 101,
    "start_time": "2022-01-17T10:01:32.341Z"
   },
   {
    "duration": 43,
    "start_time": "2022-01-17T10:03:49.584Z"
   },
   {
    "duration": 13,
    "start_time": "2022-01-17T10:04:08.552Z"
   },
   {
    "duration": 262,
    "start_time": "2022-01-17T10:13:58.530Z"
   },
   {
    "duration": 274,
    "start_time": "2022-01-17T10:14:10.346Z"
   },
   {
    "duration": 721,
    "start_time": "2022-01-17T10:14:35.261Z"
   },
   {
    "duration": 276,
    "start_time": "2022-01-17T10:15:18.425Z"
   },
   {
    "duration": 277,
    "start_time": "2022-01-17T10:16:16.196Z"
   },
   {
    "duration": 304,
    "start_time": "2022-01-17T10:16:53.631Z"
   },
   {
    "duration": 21,
    "start_time": "2022-01-17T10:17:29.385Z"
   },
   {
    "duration": 452,
    "start_time": "2022-01-17T10:17:46.635Z"
   },
   {
    "duration": 536,
    "start_time": "2022-01-17T10:17:57.208Z"
   },
   {
    "duration": 562,
    "start_time": "2022-01-17T10:18:42.269Z"
   },
   {
    "duration": 490,
    "start_time": "2022-01-17T10:23:08.457Z"
   },
   {
    "duration": 247,
    "start_time": "2022-01-17T10:23:15.609Z"
   },
   {
    "duration": 480,
    "start_time": "2022-01-17T10:26:13.551Z"
   },
   {
    "duration": 974,
    "start_time": "2022-01-17T10:26:49.255Z"
   },
   {
    "duration": 23,
    "start_time": "2022-01-17T10:27:22.060Z"
   },
   {
    "duration": 4,
    "start_time": "2022-01-17T10:37:28.735Z"
   },
   {
    "duration": 1147,
    "start_time": "2022-01-17T10:37:28.743Z"
   },
   {
    "duration": 167,
    "start_time": "2022-01-17T10:37:29.894Z"
   },
   {
    "duration": 728,
    "start_time": "2022-01-17T10:37:30.063Z"
   },
   {
    "duration": 1549,
    "start_time": "2022-01-17T10:37:30.793Z"
   },
   {
    "duration": 74,
    "start_time": "2022-01-17T10:37:32.344Z"
   },
   {
    "duration": 408,
    "start_time": "2022-01-17T10:37:32.420Z"
   },
   {
    "duration": 106,
    "start_time": "2022-01-17T10:37:32.830Z"
   },
   {
    "duration": 43,
    "start_time": "2022-01-17T10:37:32.939Z"
   },
   {
    "duration": 48,
    "start_time": "2022-01-17T10:37:32.985Z"
   },
   {
    "duration": 4,
    "start_time": "2022-01-17T10:37:33.035Z"
   },
   {
    "duration": 99,
    "start_time": "2022-01-17T10:37:33.042Z"
   },
   {
    "duration": 89,
    "start_time": "2022-01-17T10:37:48.470Z"
   },
   {
    "duration": 14967,
    "start_time": "2022-01-17T10:38:07.463Z"
   },
   {
    "duration": 276,
    "start_time": "2022-01-17T10:43:17.263Z"
   },
   {
    "duration": 4,
    "start_time": "2022-01-17T10:43:32.532Z"
   },
   {
    "duration": 1033,
    "start_time": "2022-01-17T10:43:32.539Z"
   },
   {
    "duration": 164,
    "start_time": "2022-01-17T10:43:33.575Z"
   },
   {
    "duration": 599,
    "start_time": "2022-01-17T10:43:33.741Z"
   },
   {
    "duration": 1313,
    "start_time": "2022-01-17T10:43:34.342Z"
   },
   {
    "duration": 63,
    "start_time": "2022-01-17T10:43:35.657Z"
   },
   {
    "duration": 421,
    "start_time": "2022-01-17T10:43:35.723Z"
   },
   {
    "duration": 108,
    "start_time": "2022-01-17T10:43:36.146Z"
   },
   {
    "duration": 61,
    "start_time": "2022-01-17T10:43:36.257Z"
   },
   {
    "duration": 23,
    "start_time": "2022-01-17T10:43:36.321Z"
   },
   {
    "duration": 312,
    "start_time": "2022-01-17T10:43:36.347Z"
   },
   {
    "duration": 50,
    "start_time": "2022-01-17T10:44:03.511Z"
   },
   {
    "duration": 67,
    "start_time": "2022-01-17T10:44:26.759Z"
   },
   {
    "duration": 70,
    "start_time": "2022-01-17T10:44:47.503Z"
   },
   {
    "duration": 70,
    "start_time": "2022-01-17T10:44:55.119Z"
   },
   {
    "duration": 80,
    "start_time": "2022-01-17T10:46:51.065Z"
   },
   {
    "duration": 98,
    "start_time": "2022-01-17T10:48:04.447Z"
   },
   {
    "duration": 43,
    "start_time": "2022-01-17T10:49:03.532Z"
   },
   {
    "duration": 45,
    "start_time": "2022-01-17T10:49:47.831Z"
   },
   {
    "duration": 21,
    "start_time": "2022-01-17T10:50:35.184Z"
   },
   {
    "duration": 13,
    "start_time": "2022-01-17T10:51:31.673Z"
   },
   {
    "duration": 20,
    "start_time": "2022-01-17T10:51:46.401Z"
   },
   {
    "duration": 77,
    "start_time": "2022-01-17T10:54:14.986Z"
   },
   {
    "duration": 84,
    "start_time": "2022-01-17T10:56:50.994Z"
   },
   {
    "duration": 41,
    "start_time": "2022-01-17T10:57:40.323Z"
   },
   {
    "duration": 16,
    "start_time": "2022-01-17T10:58:26.138Z"
   },
   {
    "duration": 40,
    "start_time": "2022-01-17T10:59:17.441Z"
   },
   {
    "duration": 40,
    "start_time": "2022-01-17T10:59:58.328Z"
   },
   {
    "duration": 40,
    "start_time": "2022-01-17T11:00:40.329Z"
   },
   {
    "duration": 63,
    "start_time": "2022-01-17T11:04:01.048Z"
   },
   {
    "duration": 4,
    "start_time": "2022-01-17T11:05:22.372Z"
   },
   {
    "duration": 1236,
    "start_time": "2022-01-17T11:05:22.378Z"
   },
   {
    "duration": 157,
    "start_time": "2022-01-17T11:05:23.618Z"
   },
   {
    "duration": 597,
    "start_time": "2022-01-17T11:05:23.778Z"
   },
   {
    "duration": 1351,
    "start_time": "2022-01-17T11:05:24.378Z"
   },
   {
    "duration": 56,
    "start_time": "2022-01-17T11:05:25.732Z"
   },
   {
    "duration": 421,
    "start_time": "2022-01-17T11:05:25.791Z"
   },
   {
    "duration": 44,
    "start_time": "2022-01-17T11:05:26.217Z"
   },
   {
    "duration": 24,
    "start_time": "2022-01-17T11:05:26.265Z"
   },
   {
    "duration": 98,
    "start_time": "2022-01-17T11:05:26.291Z"
   },
   {
    "duration": 61,
    "start_time": "2022-01-17T11:05:26.391Z"
   },
   {
    "duration": 23,
    "start_time": "2022-01-17T11:05:26.455Z"
   },
   {
    "duration": 96,
    "start_time": "2022-01-17T11:05:26.481Z"
   },
   {
    "duration": 60,
    "start_time": "2022-01-17T11:05:26.579Z"
   },
   {
    "duration": 19,
    "start_time": "2022-01-17T11:05:26.641Z"
   },
   {
    "duration": 66,
    "start_time": "2022-01-17T11:05:26.663Z"
   },
   {
    "duration": 43,
    "start_time": "2022-01-17T11:05:26.731Z"
   },
   {
    "duration": 73,
    "start_time": "2022-01-17T11:05:26.776Z"
   },
   {
    "duration": 81,
    "start_time": "2022-01-17T11:05:26.853Z"
   },
   {
    "duration": 95,
    "start_time": "2022-01-17T11:05:26.937Z"
   },
   {
    "duration": 165,
    "start_time": "2022-01-17T11:06:46.017Z"
   },
   {
    "duration": 5,
    "start_time": "2022-01-17T11:07:36.435Z"
   },
   {
    "duration": 1062,
    "start_time": "2022-01-17T11:07:36.442Z"
   },
   {
    "duration": 179,
    "start_time": "2022-01-17T11:07:37.507Z"
   },
   {
    "duration": 770,
    "start_time": "2022-01-17T11:07:37.689Z"
   },
   {
    "duration": 1461,
    "start_time": "2022-01-17T11:07:38.461Z"
   },
   {
    "duration": 56,
    "start_time": "2022-01-17T11:07:39.925Z"
   },
   {
    "duration": 539,
    "start_time": "2022-01-17T11:07:39.983Z"
   },
   {
    "duration": 51,
    "start_time": "2022-01-17T11:07:40.525Z"
   },
   {
    "duration": 47,
    "start_time": "2022-01-17T11:07:40.579Z"
   },
   {
    "duration": 94,
    "start_time": "2022-01-17T11:07:40.628Z"
   },
   {
    "duration": 43,
    "start_time": "2022-01-17T11:07:40.724Z"
   },
   {
    "duration": 21,
    "start_time": "2022-01-17T11:07:40.769Z"
   },
   {
    "duration": 61,
    "start_time": "2022-01-17T11:07:40.817Z"
   },
   {
    "duration": 56,
    "start_time": "2022-01-17T11:07:40.881Z"
   },
   {
    "duration": 17,
    "start_time": "2022-01-17T11:07:40.940Z"
   },
   {
    "duration": 60,
    "start_time": "2022-01-17T11:07:40.959Z"
   },
   {
    "duration": 41,
    "start_time": "2022-01-17T11:07:41.022Z"
   },
   {
    "duration": 65,
    "start_time": "2022-01-17T11:07:41.066Z"
   },
   {
    "duration": 64,
    "start_time": "2022-01-17T11:07:41.134Z"
   },
   {
    "duration": 80,
    "start_time": "2022-01-17T11:07:41.218Z"
   },
   {
    "duration": 192,
    "start_time": "2022-01-17T11:07:41.300Z"
   },
   {
    "duration": 70,
    "start_time": "2022-01-17T11:08:55.202Z"
   },
   {
    "duration": 4,
    "start_time": "2022-01-17T11:08:58.974Z"
   },
   {
    "duration": 1066,
    "start_time": "2022-01-17T11:08:58.980Z"
   },
   {
    "duration": 177,
    "start_time": "2022-01-17T11:09:00.049Z"
   },
   {
    "duration": 657,
    "start_time": "2022-01-17T11:09:00.229Z"
   },
   {
    "duration": 1458,
    "start_time": "2022-01-17T11:09:00.889Z"
   },
   {
    "duration": 68,
    "start_time": "2022-01-17T11:09:02.349Z"
   },
   {
    "duration": 410,
    "start_time": "2022-01-17T11:09:02.420Z"
   },
   {
    "duration": 44,
    "start_time": "2022-01-17T11:09:02.832Z"
   },
   {
    "duration": 42,
    "start_time": "2022-01-17T11:09:02.881Z"
   },
   {
    "duration": 93,
    "start_time": "2022-01-17T11:09:02.926Z"
   },
   {
    "duration": 46,
    "start_time": "2022-01-17T11:09:03.022Z"
   },
   {
    "duration": 45,
    "start_time": "2022-01-17T11:09:03.071Z"
   },
   {
    "duration": 65,
    "start_time": "2022-01-17T11:09:03.118Z"
   },
   {
    "duration": 57,
    "start_time": "2022-01-17T11:09:03.185Z"
   },
   {
    "duration": 24,
    "start_time": "2022-01-17T11:09:03.245Z"
   },
   {
    "duration": 60,
    "start_time": "2022-01-17T11:09:03.271Z"
   },
   {
    "duration": 48,
    "start_time": "2022-01-17T11:09:03.333Z"
   },
   {
    "duration": 55,
    "start_time": "2022-01-17T11:09:03.384Z"
   },
   {
    "duration": 82,
    "start_time": "2022-01-17T11:09:03.442Z"
   },
   {
    "duration": 92,
    "start_time": "2022-01-17T11:09:03.526Z"
   },
   {
    "duration": 76,
    "start_time": "2022-01-17T11:09:03.621Z"
   },
   {
    "duration": 168,
    "start_time": "2022-01-17T11:09:41.527Z"
   },
   {
    "duration": 164,
    "start_time": "2022-01-17T11:09:55.241Z"
   },
   {
    "duration": 50,
    "start_time": "2022-01-17T11:12:26.955Z"
   },
   {
    "duration": 4,
    "start_time": "2022-01-17T11:12:46.668Z"
   },
   {
    "duration": 1160,
    "start_time": "2022-01-17T11:12:46.674Z"
   },
   {
    "duration": 179,
    "start_time": "2022-01-17T11:12:47.838Z"
   },
   {
    "duration": 629,
    "start_time": "2022-01-17T11:12:48.021Z"
   },
   {
    "duration": 1457,
    "start_time": "2022-01-17T11:12:48.653Z"
   },
   {
    "duration": 56,
    "start_time": "2022-01-17T11:12:50.117Z"
   },
   {
    "duration": 428,
    "start_time": "2022-01-17T11:12:50.176Z"
   },
   {
    "duration": 50,
    "start_time": "2022-01-17T11:12:50.606Z"
   },
   {
    "duration": 21,
    "start_time": "2022-01-17T11:12:50.662Z"
   },
   {
    "duration": 111,
    "start_time": "2022-01-17T11:12:50.685Z"
   },
   {
    "duration": 46,
    "start_time": "2022-01-17T11:12:50.818Z"
   },
   {
    "duration": 38,
    "start_time": "2022-01-17T11:12:50.867Z"
   },
   {
    "duration": 65,
    "start_time": "2022-01-17T11:12:50.917Z"
   },
   {
    "duration": 59,
    "start_time": "2022-01-17T11:12:50.984Z"
   },
   {
    "duration": 17,
    "start_time": "2022-01-17T11:12:51.045Z"
   },
   {
    "duration": 66,
    "start_time": "2022-01-17T11:12:51.064Z"
   },
   {
    "duration": 47,
    "start_time": "2022-01-17T11:12:51.132Z"
   },
   {
    "duration": 60,
    "start_time": "2022-01-17T11:12:51.182Z"
   },
   {
    "duration": 74,
    "start_time": "2022-01-17T11:12:51.245Z"
   },
   {
    "duration": 97,
    "start_time": "2022-01-17T11:12:51.322Z"
   },
   {
    "duration": 78,
    "start_time": "2022-01-17T11:12:51.422Z"
   },
   {
    "duration": 188,
    "start_time": "2022-01-17T11:12:51.502Z"
   },
   {
    "duration": 35,
    "start_time": "2022-01-17T11:13:20.417Z"
   },
   {
    "duration": 39,
    "start_time": "2022-01-17T11:13:26.745Z"
   },
   {
    "duration": 4,
    "start_time": "2022-01-17T11:13:34.738Z"
   },
   {
    "duration": 1143,
    "start_time": "2022-01-17T11:13:34.745Z"
   },
   {
    "duration": 171,
    "start_time": "2022-01-17T11:13:35.892Z"
   },
   {
    "duration": 645,
    "start_time": "2022-01-17T11:13:36.067Z"
   },
   {
    "duration": 1485,
    "start_time": "2022-01-17T11:13:36.717Z"
   },
   {
    "duration": 61,
    "start_time": "2022-01-17T11:13:38.204Z"
   },
   {
    "duration": 425,
    "start_time": "2022-01-17T11:13:38.267Z"
   },
   {
    "duration": 54,
    "start_time": "2022-01-17T11:13:38.694Z"
   },
   {
    "duration": 21,
    "start_time": "2022-01-17T11:13:38.751Z"
   },
   {
    "duration": 98,
    "start_time": "2022-01-17T11:13:38.774Z"
   },
   {
    "duration": 53,
    "start_time": "2022-01-17T11:13:38.874Z"
   },
   {
    "duration": 31,
    "start_time": "2022-01-17T11:13:38.930Z"
   },
   {
    "duration": 80,
    "start_time": "2022-01-17T11:13:38.963Z"
   },
   {
    "duration": 42,
    "start_time": "2022-01-17T11:13:39.045Z"
   },
   {
    "duration": 38,
    "start_time": "2022-01-17T11:13:39.090Z"
   },
   {
    "duration": 40,
    "start_time": "2022-01-17T11:13:39.131Z"
   },
   {
    "duration": 60,
    "start_time": "2022-01-17T11:13:39.174Z"
   },
   {
    "duration": 39,
    "start_time": "2022-01-17T11:13:39.236Z"
   },
   {
    "duration": 85,
    "start_time": "2022-01-17T11:13:39.277Z"
   },
   {
    "duration": 88,
    "start_time": "2022-01-17T11:13:39.364Z"
   },
   {
    "duration": 78,
    "start_time": "2022-01-17T11:13:39.455Z"
   },
   {
    "duration": 182,
    "start_time": "2022-01-17T11:13:39.535Z"
   },
   {
    "duration": 23,
    "start_time": "2022-01-17T11:14:39.042Z"
   },
   {
    "duration": 3376,
    "start_time": "2022-01-17T11:14:45.535Z"
   },
   {
    "duration": 4653,
    "start_time": "2022-01-17T11:15:06.651Z"
   },
   {
    "duration": 4,
    "start_time": "2022-01-17T11:15:17.366Z"
   },
   {
    "duration": 1274,
    "start_time": "2022-01-17T11:15:17.373Z"
   },
   {
    "duration": 208,
    "start_time": "2022-01-17T11:15:18.651Z"
   },
   {
    "duration": 649,
    "start_time": "2022-01-17T11:15:18.862Z"
   },
   {
    "duration": 1321,
    "start_time": "2022-01-17T11:15:19.516Z"
   },
   {
    "duration": 56,
    "start_time": "2022-01-17T11:15:20.839Z"
   },
   {
    "duration": 436,
    "start_time": "2022-01-17T11:15:20.897Z"
   },
   {
    "duration": 44,
    "start_time": "2022-01-17T11:15:21.336Z"
   },
   {
    "duration": 88,
    "start_time": "2022-01-17T11:15:21.384Z"
   },
   {
    "duration": 19,
    "start_time": "2022-01-17T11:15:21.475Z"
   },
   {
    "duration": 100,
    "start_time": "2022-01-17T11:15:21.497Z"
   },
   {
    "duration": 56,
    "start_time": "2022-01-17T11:15:21.599Z"
   },
   {
    "duration": 20,
    "start_time": "2022-01-17T11:15:21.657Z"
   },
   {
    "duration": 88,
    "start_time": "2022-01-17T11:15:21.679Z"
   },
   {
    "duration": 49,
    "start_time": "2022-01-17T11:15:21.770Z"
   },
   {
    "duration": 17,
    "start_time": "2022-01-17T11:15:21.821Z"
   },
   {
    "duration": 40,
    "start_time": "2022-01-17T11:15:21.840Z"
   },
   {
    "duration": 74,
    "start_time": "2022-01-17T11:15:21.883Z"
   },
   {
    "duration": 45,
    "start_time": "2022-01-17T11:15:21.959Z"
   },
   {
    "duration": 69,
    "start_time": "2022-01-17T11:15:22.018Z"
   },
   {
    "duration": 99,
    "start_time": "2022-01-17T11:15:22.090Z"
   },
   {
    "duration": 102,
    "start_time": "2022-01-17T11:15:22.192Z"
   },
   {
    "duration": 201,
    "start_time": "2022-01-17T11:15:22.298Z"
   },
   {
    "duration": 1615,
    "start_time": "2022-01-19T06:09:22.571Z"
   },
   {
    "duration": 4930,
    "start_time": "2022-01-19T06:09:24.188Z"
   },
   {
    "duration": 159,
    "start_time": "2022-01-19T06:09:29.121Z"
   },
   {
    "duration": 591,
    "start_time": "2022-01-19T06:09:29.283Z"
   },
   {
    "duration": 1366,
    "start_time": "2022-01-19T06:09:29.877Z"
   },
   {
    "duration": 65,
    "start_time": "2022-01-19T06:09:31.245Z"
   },
   {
    "duration": 413,
    "start_time": "2022-01-19T06:09:31.312Z"
   },
   {
    "duration": 5,
    "start_time": "2022-01-19T06:09:31.728Z"
   },
   {
    "duration": 57,
    "start_time": "2022-01-19T06:09:31.737Z"
   },
   {
    "duration": 3122,
    "start_time": "2022-01-19T06:09:31.797Z"
   },
   {
    "duration": 11767,
    "start_time": "2022-01-19T06:09:23.155Z"
   },
   {
    "duration": 11757,
    "start_time": "2022-01-19T06:09:23.167Z"
   },
   {
    "duration": 11753,
    "start_time": "2022-01-19T06:09:23.172Z"
   },
   {
    "duration": 11750,
    "start_time": "2022-01-19T06:09:23.177Z"
   },
   {
    "duration": 11747,
    "start_time": "2022-01-19T06:09:23.181Z"
   },
   {
    "duration": 11746,
    "start_time": "2022-01-19T06:09:23.184Z"
   },
   {
    "duration": 11742,
    "start_time": "2022-01-19T06:09:23.189Z"
   },
   {
    "duration": 11741,
    "start_time": "2022-01-19T06:09:23.192Z"
   },
   {
    "duration": 11738,
    "start_time": "2022-01-19T06:09:23.196Z"
   },
   {
    "duration": 11737,
    "start_time": "2022-01-19T06:09:23.199Z"
   },
   {
    "duration": 11736,
    "start_time": "2022-01-19T06:09:23.201Z"
   },
   {
    "duration": 11736,
    "start_time": "2022-01-19T06:09:23.203Z"
   },
   {
    "duration": 11735,
    "start_time": "2022-01-19T06:09:23.205Z"
   },
   {
    "duration": 11734,
    "start_time": "2022-01-19T06:09:23.207Z"
   },
   {
    "duration": 4,
    "start_time": "2022-01-19T06:10:35.504Z"
   },
   {
    "duration": 1073,
    "start_time": "2022-01-19T06:10:35.511Z"
   },
   {
    "duration": 174,
    "start_time": "2022-01-19T06:10:36.588Z"
   },
   {
    "duration": 562,
    "start_time": "2022-01-19T06:10:36.764Z"
   },
   {
    "duration": 1221,
    "start_time": "2022-01-19T06:10:37.328Z"
   },
   {
    "duration": 52,
    "start_time": "2022-01-19T06:10:38.552Z"
   },
   {
    "duration": 397,
    "start_time": "2022-01-19T06:10:38.607Z"
   },
   {
    "duration": 4,
    "start_time": "2022-01-19T06:10:39.006Z"
   },
   {
    "duration": 46,
    "start_time": "2022-01-19T06:10:39.014Z"
   },
   {
    "duration": 4035,
    "start_time": "2022-01-19T06:10:39.063Z"
   },
   {
    "duration": 11775,
    "start_time": "2022-01-19T06:10:31.326Z"
   },
   {
    "duration": 11773,
    "start_time": "2022-01-19T06:10:31.329Z"
   },
   {
    "duration": 11766,
    "start_time": "2022-01-19T06:10:31.338Z"
   },
   {
    "duration": 11763,
    "start_time": "2022-01-19T06:10:31.342Z"
   },
   {
    "duration": 11757,
    "start_time": "2022-01-19T06:10:31.349Z"
   },
   {
    "duration": 11758,
    "start_time": "2022-01-19T06:10:31.350Z"
   },
   {
    "duration": 11758,
    "start_time": "2022-01-19T06:10:31.351Z"
   },
   {
    "duration": 11757,
    "start_time": "2022-01-19T06:10:31.353Z"
   },
   {
    "duration": 11758,
    "start_time": "2022-01-19T06:10:31.354Z"
   },
   {
    "duration": 11758,
    "start_time": "2022-01-19T06:10:31.355Z"
   },
   {
    "duration": 11757,
    "start_time": "2022-01-19T06:10:31.357Z"
   },
   {
    "duration": 11752,
    "start_time": "2022-01-19T06:10:31.364Z"
   },
   {
    "duration": 11752,
    "start_time": "2022-01-19T06:10:31.365Z"
   },
   {
    "duration": 11751,
    "start_time": "2022-01-19T06:10:31.367Z"
   },
   {
    "duration": 4,
    "start_time": "2022-01-19T06:12:27.024Z"
   },
   {
    "duration": 1146,
    "start_time": "2022-01-19T06:12:27.030Z"
   },
   {
    "duration": 161,
    "start_time": "2022-01-19T06:12:28.179Z"
   },
   {
    "duration": 587,
    "start_time": "2022-01-19T06:12:28.343Z"
   },
   {
    "duration": 1326,
    "start_time": "2022-01-19T06:12:28.933Z"
   },
   {
    "duration": 60,
    "start_time": "2022-01-19T06:12:30.262Z"
   },
   {
    "duration": 411,
    "start_time": "2022-01-19T06:12:30.324Z"
   },
   {
    "duration": 4,
    "start_time": "2022-01-19T06:12:30.738Z"
   },
   {
    "duration": 55,
    "start_time": "2022-01-19T06:12:30.746Z"
   },
   {
    "duration": 2726,
    "start_time": "2022-01-19T06:12:30.804Z"
   },
   {
    "duration": 11777,
    "start_time": "2022-01-19T06:12:21.756Z"
   },
   {
    "duration": 11777,
    "start_time": "2022-01-19T06:12:21.757Z"
   },
   {
    "duration": 11777,
    "start_time": "2022-01-19T06:12:21.758Z"
   },
   {
    "duration": 11778,
    "start_time": "2022-01-19T06:12:21.759Z"
   },
   {
    "duration": 11778,
    "start_time": "2022-01-19T06:12:21.760Z"
   },
   {
    "duration": 11777,
    "start_time": "2022-01-19T06:12:21.762Z"
   },
   {
    "duration": 11777,
    "start_time": "2022-01-19T06:12:21.764Z"
   },
   {
    "duration": 11777,
    "start_time": "2022-01-19T06:12:21.765Z"
   },
   {
    "duration": 11777,
    "start_time": "2022-01-19T06:12:21.766Z"
   },
   {
    "duration": 11777,
    "start_time": "2022-01-19T06:12:21.767Z"
   },
   {
    "duration": 11778,
    "start_time": "2022-01-19T06:12:21.768Z"
   },
   {
    "duration": 11778,
    "start_time": "2022-01-19T06:12:21.769Z"
   },
   {
    "duration": 11778,
    "start_time": "2022-01-19T06:12:21.770Z"
   },
   {
    "duration": 11780,
    "start_time": "2022-01-19T06:12:21.771Z"
   },
   {
    "duration": 2825,
    "start_time": "2022-01-19T06:13:05.230Z"
   },
   {
    "duration": 4,
    "start_time": "2022-01-19T06:17:23.957Z"
   },
   {
    "duration": 1040,
    "start_time": "2022-01-19T06:17:23.964Z"
   },
   {
    "duration": 160,
    "start_time": "2022-01-19T06:17:25.007Z"
   },
   {
    "duration": 540,
    "start_time": "2022-01-19T06:17:25.169Z"
   },
   {
    "duration": 1483,
    "start_time": "2022-01-19T06:17:25.711Z"
   },
   {
    "duration": 63,
    "start_time": "2022-01-19T06:17:27.196Z"
   },
   {
    "duration": 406,
    "start_time": "2022-01-19T06:17:27.261Z"
   },
   {
    "duration": 4,
    "start_time": "2022-01-19T06:17:27.673Z"
   },
   {
    "duration": 46,
    "start_time": "2022-01-19T06:17:27.681Z"
   },
   {
    "duration": 67,
    "start_time": "2022-01-19T06:17:27.758Z"
   },
   {
    "duration": 47,
    "start_time": "2022-01-19T06:17:27.828Z"
   },
   {
    "duration": 98,
    "start_time": "2022-01-19T06:17:27.878Z"
   },
   {
    "duration": 45,
    "start_time": "2022-01-19T06:17:27.979Z"
   },
   {
    "duration": 41,
    "start_time": "2022-01-19T06:17:28.026Z"
   },
   {
    "duration": 63,
    "start_time": "2022-01-19T06:17:28.069Z"
   },
   {
    "duration": 61,
    "start_time": "2022-01-19T06:17:28.134Z"
   },
   {
    "duration": 16,
    "start_time": "2022-01-19T06:17:28.198Z"
   },
   {
    "duration": 64,
    "start_time": "2022-01-19T06:17:28.216Z"
   },
   {
    "duration": 42,
    "start_time": "2022-01-19T06:17:28.283Z"
   },
   {
    "duration": 64,
    "start_time": "2022-01-19T06:17:28.327Z"
   },
   {
    "duration": 71,
    "start_time": "2022-01-19T06:17:28.394Z"
   },
   {
    "duration": 93,
    "start_time": "2022-01-19T06:17:28.468Z"
   },
   {
    "duration": 76,
    "start_time": "2022-01-19T06:17:28.565Z"
   },
   {
    "duration": 191,
    "start_time": "2022-01-19T06:17:28.643Z"
   },
   {
    "duration": 128,
    "start_time": "2022-01-19T06:21:33.766Z"
   },
   {
    "duration": 154,
    "start_time": "2022-01-19T06:22:12.623Z"
   },
   {
    "duration": 11462,
    "start_time": "2022-01-19T06:22:31.237Z"
   },
   {
    "duration": 384,
    "start_time": "2022-01-19T06:23:30.245Z"
   },
   {
    "duration": 4,
    "start_time": "2022-01-19T06:24:06.634Z"
   },
   {
    "duration": 1005,
    "start_time": "2022-01-19T06:24:06.641Z"
   },
   {
    "duration": 160,
    "start_time": "2022-01-19T06:24:07.649Z"
   },
   {
    "duration": 567,
    "start_time": "2022-01-19T06:24:07.812Z"
   },
   {
    "duration": 1183,
    "start_time": "2022-01-19T06:24:08.382Z"
   },
   {
    "duration": 53,
    "start_time": "2022-01-19T06:24:09.568Z"
   },
   {
    "duration": 491,
    "start_time": "2022-01-19T06:24:09.624Z"
   },
   {
    "duration": 6,
    "start_time": "2022-01-19T06:24:10.118Z"
   },
   {
    "duration": 65,
    "start_time": "2022-01-19T06:24:10.130Z"
   },
   {
    "duration": 83,
    "start_time": "2022-01-19T06:24:10.199Z"
   },
   {
    "duration": 23,
    "start_time": "2022-01-19T06:24:10.285Z"
   },
   {
    "duration": 103,
    "start_time": "2022-01-19T06:24:10.312Z"
   },
   {
    "duration": 51,
    "start_time": "2022-01-19T06:24:10.417Z"
   },
   {
    "duration": 20,
    "start_time": "2022-01-19T06:24:10.470Z"
   },
   {
    "duration": 90,
    "start_time": "2022-01-19T06:24:10.492Z"
   },
   {
    "duration": 40,
    "start_time": "2022-01-19T06:24:10.584Z"
   },
   {
    "duration": 37,
    "start_time": "2022-01-19T06:24:10.627Z"
   },
   {
    "duration": 39,
    "start_time": "2022-01-19T06:24:10.666Z"
   },
   {
    "duration": 58,
    "start_time": "2022-01-19T06:24:10.708Z"
   },
   {
    "duration": 39,
    "start_time": "2022-01-19T06:24:10.768Z"
   },
   {
    "duration": 79,
    "start_time": "2022-01-19T06:24:10.810Z"
   },
   {
    "duration": 93,
    "start_time": "2022-01-19T06:24:10.892Z"
   },
   {
    "duration": 13965,
    "start_time": "2022-01-19T06:24:10.988Z"
   },
   {
    "duration": 11760,
    "start_time": "2022-01-19T06:24:13.195Z"
   },
   {
    "duration": 11759,
    "start_time": "2022-01-19T06:24:13.198Z"
   },
   {
    "duration": 15144,
    "start_time": "2022-01-19T06:25:11.710Z"
   },
   {
    "duration": 14989,
    "start_time": "2022-01-19T06:25:39.064Z"
   },
   {
    "duration": 4,
    "start_time": "2022-01-19T06:26:25.454Z"
   },
   {
    "duration": 1087,
    "start_time": "2022-01-19T06:26:25.461Z"
   },
   {
    "duration": 166,
    "start_time": "2022-01-19T06:26:26.551Z"
   },
   {
    "duration": 650,
    "start_time": "2022-01-19T06:26:26.719Z"
   },
   {
    "duration": 1289,
    "start_time": "2022-01-19T06:26:27.371Z"
   },
   {
    "duration": 56,
    "start_time": "2022-01-19T06:26:28.663Z"
   },
   {
    "duration": 456,
    "start_time": "2022-01-19T06:26:28.722Z"
   },
   {
    "duration": 4,
    "start_time": "2022-01-19T06:26:29.180Z"
   },
   {
    "duration": 47,
    "start_time": "2022-01-19T06:26:29.188Z"
   },
   {
    "duration": 89,
    "start_time": "2022-01-19T06:26:29.238Z"
   },
   {
    "duration": 38,
    "start_time": "2022-01-19T06:26:29.329Z"
   },
   {
    "duration": 106,
    "start_time": "2022-01-19T06:26:29.370Z"
   },
   {
    "duration": 42,
    "start_time": "2022-01-19T06:26:29.478Z"
   },
   {
    "duration": 42,
    "start_time": "2022-01-19T06:26:29.522Z"
   },
   {
    "duration": 61,
    "start_time": "2022-01-19T06:26:29.566Z"
   },
   {
    "duration": 58,
    "start_time": "2022-01-19T06:26:29.630Z"
   },
   {
    "duration": 16,
    "start_time": "2022-01-19T06:26:29.692Z"
   },
   {
    "duration": 60,
    "start_time": "2022-01-19T06:26:29.710Z"
   },
   {
    "duration": 43,
    "start_time": "2022-01-19T06:26:29.773Z"
   },
   {
    "duration": 67,
    "start_time": "2022-01-19T06:26:29.818Z"
   },
   {
    "duration": 78,
    "start_time": "2022-01-19T06:26:29.887Z"
   },
   {
    "duration": 95,
    "start_time": "2022-01-19T06:26:29.967Z"
   },
   {
    "duration": 14827,
    "start_time": "2022-01-19T06:26:30.064Z"
   },
   {
    "duration": 11754,
    "start_time": "2022-01-19T06:26:33.139Z"
   },
   {
    "duration": 11752,
    "start_time": "2022-01-19T06:26:33.142Z"
   },
   {
    "duration": 4,
    "start_time": "2022-01-19T06:27:02.679Z"
   },
   {
    "duration": 1198,
    "start_time": "2022-01-19T06:27:02.686Z"
   },
   {
    "duration": 166,
    "start_time": "2022-01-19T06:27:03.887Z"
   },
   {
    "duration": 550,
    "start_time": "2022-01-19T06:27:04.060Z"
   },
   {
    "duration": 1191,
    "start_time": "2022-01-19T06:27:04.613Z"
   },
   {
    "duration": 76,
    "start_time": "2022-01-19T06:27:05.806Z"
   },
   {
    "duration": 415,
    "start_time": "2022-01-19T06:27:05.884Z"
   },
   {
    "duration": 6,
    "start_time": "2022-01-19T06:27:06.302Z"
   },
   {
    "duration": 68,
    "start_time": "2022-01-19T06:27:06.314Z"
   },
   {
    "duration": 83,
    "start_time": "2022-01-19T06:27:06.385Z"
   },
   {
    "duration": 19,
    "start_time": "2022-01-19T06:27:06.471Z"
   },
   {
    "duration": 117,
    "start_time": "2022-01-19T06:27:06.493Z"
   },
   {
    "duration": 60,
    "start_time": "2022-01-19T06:27:06.613Z"
   },
   {
    "duration": 21,
    "start_time": "2022-01-19T06:27:06.676Z"
   },
   {
    "duration": 93,
    "start_time": "2022-01-19T06:27:06.699Z"
   },
   {
    "duration": 43,
    "start_time": "2022-01-19T06:27:06.794Z"
   },
   {
    "duration": 35,
    "start_time": "2022-01-19T06:27:06.839Z"
   },
   {
    "duration": 44,
    "start_time": "2022-01-19T06:27:06.877Z"
   },
   {
    "duration": 71,
    "start_time": "2022-01-19T06:27:06.924Z"
   },
   {
    "duration": 46,
    "start_time": "2022-01-19T06:27:06.998Z"
   },
   {
    "duration": 62,
    "start_time": "2022-01-19T06:27:07.059Z"
   },
   {
    "duration": 108,
    "start_time": "2022-01-19T06:27:07.123Z"
   },
   {
    "duration": 16224,
    "start_time": "2022-01-19T06:27:07.234Z"
   },
   {
    "duration": 11753,
    "start_time": "2022-01-19T06:27:11.707Z"
   },
   {
    "duration": 11740,
    "start_time": "2022-01-19T06:27:11.722Z"
   },
   {
    "duration": 5,
    "start_time": "2022-01-19T06:27:35.256Z"
   },
   {
    "duration": 1061,
    "start_time": "2022-01-19T06:27:35.264Z"
   },
   {
    "duration": 158,
    "start_time": "2022-01-19T06:27:36.328Z"
   },
   {
    "duration": 831,
    "start_time": "2022-01-19T06:27:36.490Z"
   },
   {
    "duration": 1986,
    "start_time": "2022-01-19T06:27:37.324Z"
   },
   {
    "duration": 84,
    "start_time": "2022-01-19T06:27:39.313Z"
   },
   {
    "duration": 705,
    "start_time": "2022-01-19T06:27:39.401Z"
   },
   {
    "duration": 6,
    "start_time": "2022-01-19T06:27:40.109Z"
   },
   {
    "duration": 96,
    "start_time": "2022-01-19T06:27:40.121Z"
   },
   {
    "duration": 91,
    "start_time": "2022-01-19T06:27:40.221Z"
   },
   {
    "duration": 20,
    "start_time": "2022-01-19T06:27:40.315Z"
   },
   {
    "duration": 101,
    "start_time": "2022-01-19T06:27:40.338Z"
   },
   {
    "duration": 60,
    "start_time": "2022-01-19T06:27:40.441Z"
   },
   {
    "duration": 20,
    "start_time": "2022-01-19T06:27:40.503Z"
   },
   {
    "duration": 89,
    "start_time": "2022-01-19T06:27:40.525Z"
   },
   {
    "duration": 46,
    "start_time": "2022-01-19T06:27:40.616Z"
   },
   {
    "duration": 16,
    "start_time": "2022-01-19T06:27:40.665Z"
   },
   {
    "duration": 40,
    "start_time": "2022-01-19T06:27:40.683Z"
   },
   {
    "duration": 73,
    "start_time": "2022-01-19T06:27:40.725Z"
   },
   {
    "duration": 39,
    "start_time": "2022-01-19T06:27:40.800Z"
   },
   {
    "duration": 61,
    "start_time": "2022-01-19T06:27:40.859Z"
   },
   {
    "duration": 114,
    "start_time": "2022-01-19T06:27:40.923Z"
   },
   {
    "duration": 15872,
    "start_time": "2022-01-19T06:27:41.040Z"
   },
   {
    "duration": 11761,
    "start_time": "2022-01-19T06:27:45.154Z"
   },
   {
    "duration": 11760,
    "start_time": "2022-01-19T06:27:45.158Z"
   },
   {
    "duration": 5,
    "start_time": "2022-01-19T06:29:27.128Z"
   },
   {
    "duration": 1023,
    "start_time": "2022-01-19T06:29:27.136Z"
   },
   {
    "duration": 174,
    "start_time": "2022-01-19T06:29:28.162Z"
   },
   {
    "duration": 707,
    "start_time": "2022-01-19T06:29:28.340Z"
   },
   {
    "duration": 1231,
    "start_time": "2022-01-19T06:29:29.050Z"
   },
   {
    "duration": 54,
    "start_time": "2022-01-19T06:29:30.284Z"
   },
   {
    "duration": 427,
    "start_time": "2022-01-19T06:29:30.340Z"
   },
   {
    "duration": 5,
    "start_time": "2022-01-19T06:29:30.771Z"
   },
   {
    "duration": 53,
    "start_time": "2022-01-19T06:29:30.778Z"
   },
   {
    "duration": 83,
    "start_time": "2022-01-19T06:29:30.834Z"
   },
   {
    "duration": 23,
    "start_time": "2022-01-19T06:29:30.920Z"
   },
   {
    "duration": 77,
    "start_time": "2022-01-19T06:29:30.960Z"
   },
   {
    "duration": 62,
    "start_time": "2022-01-19T06:29:31.039Z"
   },
   {
    "duration": 26,
    "start_time": "2022-01-19T06:29:31.103Z"
   },
   {
    "duration": 85,
    "start_time": "2022-01-19T06:29:31.131Z"
   },
   {
    "duration": 56,
    "start_time": "2022-01-19T06:29:31.218Z"
   },
   {
    "duration": 27,
    "start_time": "2022-01-19T06:29:31.277Z"
   },
   {
    "duration": 59,
    "start_time": "2022-01-19T06:29:31.306Z"
   },
   {
    "duration": 49,
    "start_time": "2022-01-19T06:29:31.368Z"
   },
   {
    "duration": 64,
    "start_time": "2022-01-19T06:29:31.420Z"
   },
   {
    "duration": 74,
    "start_time": "2022-01-19T06:29:31.486Z"
   },
   {
    "duration": 97,
    "start_time": "2022-01-19T06:29:31.563Z"
   },
   {
    "duration": 14812,
    "start_time": "2022-01-19T06:29:31.665Z"
   },
   {
    "duration": 11724,
    "start_time": "2022-01-19T06:29:34.755Z"
   },
   {
    "duration": 11721,
    "start_time": "2022-01-19T06:29:34.760Z"
   },
   {
    "duration": 14151,
    "start_time": "2022-01-19T06:30:38.235Z"
   },
   {
    "duration": 25,
    "start_time": "2022-01-19T06:31:17.797Z"
   },
   {
    "duration": 4,
    "start_time": "2022-01-19T06:31:25.410Z"
   },
   {
    "duration": 1015,
    "start_time": "2022-01-19T06:31:25.417Z"
   },
   {
    "duration": 162,
    "start_time": "2022-01-19T06:31:26.435Z"
   },
   {
    "duration": 567,
    "start_time": "2022-01-19T06:31:26.600Z"
   },
   {
    "duration": 1170,
    "start_time": "2022-01-19T06:31:27.169Z"
   },
   {
    "duration": 60,
    "start_time": "2022-01-19T06:31:28.341Z"
   },
   {
    "duration": 405,
    "start_time": "2022-01-19T06:31:28.404Z"
   },
   {
    "duration": 4,
    "start_time": "2022-01-19T06:31:28.813Z"
   },
   {
    "duration": 62,
    "start_time": "2022-01-19T06:31:28.820Z"
   },
   {
    "duration": 83,
    "start_time": "2022-01-19T06:31:28.885Z"
   },
   {
    "duration": 22,
    "start_time": "2022-01-19T06:31:28.970Z"
   },
   {
    "duration": 111,
    "start_time": "2022-01-19T06:31:28.995Z"
   },
   {
    "duration": 59,
    "start_time": "2022-01-19T06:31:29.109Z"
   },
   {
    "duration": 23,
    "start_time": "2022-01-19T06:31:29.171Z"
   },
   {
    "duration": 96,
    "start_time": "2022-01-19T06:31:29.196Z"
   },
   {
    "duration": 44,
    "start_time": "2022-01-19T06:31:29.294Z"
   },
   {
    "duration": 31,
    "start_time": "2022-01-19T06:31:29.340Z"
   },
   {
    "duration": 42,
    "start_time": "2022-01-19T06:31:29.374Z"
   },
   {
    "duration": 66,
    "start_time": "2022-01-19T06:31:29.419Z"
   },
   {
    "duration": 40,
    "start_time": "2022-01-19T06:31:29.487Z"
   },
   {
    "duration": 83,
    "start_time": "2022-01-19T06:31:29.529Z"
   },
   {
    "duration": 100,
    "start_time": "2022-01-19T06:31:29.614Z"
   },
   {
    "duration": 23,
    "start_time": "2022-01-19T06:31:29.718Z"
   },
   {
    "duration": 89,
    "start_time": "2022-01-19T06:31:29.743Z"
   },
   {
    "duration": 185,
    "start_time": "2022-01-19T06:31:29.834Z"
   },
   {
    "duration": 21,
    "start_time": "2022-01-19T06:31:48.846Z"
   },
   {
    "duration": 6,
    "start_time": "2022-01-19T06:32:02.398Z"
   },
   {
    "duration": 56,
    "start_time": "2022-01-19T06:32:07.820Z"
   },
   {
    "duration": 8,
    "start_time": "2022-01-19T06:32:26.940Z"
   },
   {
    "duration": 679,
    "start_time": "2022-01-19T06:32:32.018Z"
   },
   {
    "duration": 5,
    "start_time": "2022-01-19T06:32:42.903Z"
   },
   {
    "duration": 6,
    "start_time": "2022-01-19T06:32:55.833Z"
   },
   {
    "duration": 5,
    "start_time": "2022-01-19T06:33:18.679Z"
   },
   {
    "duration": 1218,
    "start_time": "2022-01-19T06:33:18.688Z"
   },
   {
    "duration": 184,
    "start_time": "2022-01-19T06:33:19.909Z"
   },
   {
    "duration": 616,
    "start_time": "2022-01-19T06:33:20.095Z"
   },
   {
    "duration": 1314,
    "start_time": "2022-01-19T06:33:20.714Z"
   },
   {
    "duration": 70,
    "start_time": "2022-01-19T06:33:22.031Z"
   },
   {
    "duration": 537,
    "start_time": "2022-01-19T06:33:22.103Z"
   },
   {
    "duration": 4,
    "start_time": "2022-01-19T06:33:22.642Z"
   },
   {
    "duration": 45,
    "start_time": "2022-01-19T06:33:22.659Z"
   },
   {
    "duration": 93,
    "start_time": "2022-01-19T06:33:22.707Z"
   },
   {
    "duration": 19,
    "start_time": "2022-01-19T06:33:22.803Z"
   },
   {
    "duration": 103,
    "start_time": "2022-01-19T06:33:22.824Z"
   },
   {
    "duration": 61,
    "start_time": "2022-01-19T06:33:22.930Z"
   },
   {
    "duration": 21,
    "start_time": "2022-01-19T06:33:22.993Z"
   },
   {
    "duration": 91,
    "start_time": "2022-01-19T06:33:23.016Z"
   },
   {
    "duration": 54,
    "start_time": "2022-01-19T06:33:23.109Z"
   },
   {
    "duration": 19,
    "start_time": "2022-01-19T06:33:23.165Z"
   },
   {
    "duration": 42,
    "start_time": "2022-01-19T06:33:23.187Z"
   },
   {
    "duration": 66,
    "start_time": "2022-01-19T06:33:23.232Z"
   },
   {
    "duration": 60,
    "start_time": "2022-01-19T06:33:23.301Z"
   },
   {
    "duration": 59,
    "start_time": "2022-01-19T06:33:23.364Z"
   },
   {
    "duration": 107,
    "start_time": "2022-01-19T06:33:23.426Z"
   },
   {
    "duration": 139,
    "start_time": "2022-01-19T06:33:23.536Z"
   },
   {
    "duration": 182,
    "start_time": "2022-01-19T06:33:23.677Z"
   },
   {
    "duration": 4,
    "start_time": "2022-01-19T07:51:31.710Z"
   },
   {
    "duration": 1003,
    "start_time": "2022-01-19T07:51:31.718Z"
   },
   {
    "duration": 176,
    "start_time": "2022-01-19T07:51:32.725Z"
   },
   {
    "duration": 576,
    "start_time": "2022-01-19T07:51:32.904Z"
   },
   {
    "duration": 1258,
    "start_time": "2022-01-19T07:51:33.483Z"
   },
   {
    "duration": 68,
    "start_time": "2022-01-19T07:51:34.744Z"
   },
   {
    "duration": 441,
    "start_time": "2022-01-19T07:51:34.814Z"
   },
   {
    "duration": 5,
    "start_time": "2022-01-19T07:51:35.259Z"
   },
   {
    "duration": 48,
    "start_time": "2022-01-19T07:51:35.270Z"
   },
   {
    "duration": 97,
    "start_time": "2022-01-19T07:51:35.322Z"
   },
   {
    "duration": 40,
    "start_time": "2022-01-19T07:51:35.422Z"
   },
   {
    "duration": 73,
    "start_time": "2022-01-19T07:51:35.464Z"
   },
   {
    "duration": 59,
    "start_time": "2022-01-19T07:51:35.540Z"
   },
   {
    "duration": 30,
    "start_time": "2022-01-19T07:51:35.601Z"
   },
   {
    "duration": 77,
    "start_time": "2022-01-19T07:51:35.633Z"
   },
   {
    "duration": 49,
    "start_time": "2022-01-19T07:51:35.712Z"
   },
   {
    "duration": 21,
    "start_time": "2022-01-19T07:51:35.763Z"
   },
   {
    "duration": 43,
    "start_time": "2022-01-19T07:51:35.786Z"
   },
   {
    "duration": 70,
    "start_time": "2022-01-19T07:51:35.832Z"
   },
   {
    "duration": 85,
    "start_time": "2022-01-19T07:51:35.906Z"
   },
   {
    "duration": 81,
    "start_time": "2022-01-19T07:51:35.994Z"
   },
   {
    "duration": 97,
    "start_time": "2022-01-19T07:51:36.077Z"
   },
   {
    "duration": 13557,
    "start_time": "2022-01-19T07:51:36.176Z"
   },
   {
    "duration": 136,
    "start_time": "2022-01-19T07:51:49.736Z"
   },
   {
    "duration": 192,
    "start_time": "2022-01-19T07:51:49.875Z"
   },
   {
    "duration": 51804,
    "start_time": "2022-01-19T07:54:18.396Z"
   },
   {
    "duration": 442,
    "start_time": "2022-01-19T08:03:31.479Z"
   },
   {
    "duration": 6,
    "start_time": "2022-01-19T08:04:07.209Z"
   },
   {
    "duration": 1467,
    "start_time": "2022-01-19T08:04:07.218Z"
   },
   {
    "duration": 171,
    "start_time": "2022-01-19T08:04:08.688Z"
   },
   {
    "duration": 596,
    "start_time": "2022-01-19T08:04:08.862Z"
   },
   {
    "duration": 1282,
    "start_time": "2022-01-19T08:04:09.460Z"
   },
   {
    "duration": 62,
    "start_time": "2022-01-19T08:04:10.745Z"
   },
   {
    "duration": 439,
    "start_time": "2022-01-19T08:04:10.810Z"
   },
   {
    "duration": 9,
    "start_time": "2022-01-19T08:04:11.251Z"
   },
   {
    "duration": 60,
    "start_time": "2022-01-19T08:04:11.264Z"
   },
   {
    "duration": 94,
    "start_time": "2022-01-19T08:04:11.326Z"
   },
   {
    "duration": 43,
    "start_time": "2022-01-19T08:04:11.422Z"
   },
   {
    "duration": 105,
    "start_time": "2022-01-19T08:04:11.468Z"
   },
   {
    "duration": 46,
    "start_time": "2022-01-19T08:04:11.576Z"
   },
   {
    "duration": 51,
    "start_time": "2022-01-19T08:04:11.625Z"
   },
   {
    "duration": 82,
    "start_time": "2022-01-19T08:04:11.679Z"
   },
   {
    "duration": 46,
    "start_time": "2022-01-19T08:04:11.764Z"
   },
   {
    "duration": 48,
    "start_time": "2022-01-19T08:04:11.812Z"
   },
   {
    "duration": 44,
    "start_time": "2022-01-19T08:04:11.863Z"
   },
   {
    "duration": 60,
    "start_time": "2022-01-19T08:04:11.910Z"
   },
   {
    "duration": 86,
    "start_time": "2022-01-19T08:04:11.973Z"
   },
   {
    "duration": 97,
    "start_time": "2022-01-19T08:04:12.062Z"
   },
   {
    "duration": 141,
    "start_time": "2022-01-19T08:04:12.162Z"
   },
   {
    "duration": 55710,
    "start_time": "2022-01-19T08:04:12.306Z"
   },
   {
    "duration": 84,
    "start_time": "2022-01-19T08:05:08.018Z"
   },
   {
    "duration": 386,
    "start_time": "2022-01-19T08:05:08.105Z"
   },
   {
    "duration": 143,
    "start_time": "2022-01-19T08:07:10.578Z"
   },
   {
    "duration": 4,
    "start_time": "2022-01-19T08:19:37.113Z"
   },
   {
    "duration": 1032,
    "start_time": "2022-01-19T08:19:37.120Z"
   },
   {
    "duration": 163,
    "start_time": "2022-01-19T08:19:38.155Z"
   },
   {
    "duration": 554,
    "start_time": "2022-01-19T08:19:38.321Z"
   },
   {
    "duration": 1307,
    "start_time": "2022-01-19T08:19:38.877Z"
   },
   {
    "duration": 73,
    "start_time": "2022-01-19T08:19:40.187Z"
   },
   {
    "duration": 408,
    "start_time": "2022-01-19T08:19:40.264Z"
   },
   {
    "duration": 5,
    "start_time": "2022-01-19T08:19:40.675Z"
   },
   {
    "duration": 74,
    "start_time": "2022-01-19T08:19:40.687Z"
   },
   {
    "duration": 71,
    "start_time": "2022-01-19T08:19:40.765Z"
   },
   {
    "duration": 39,
    "start_time": "2022-01-19T08:19:40.839Z"
   },
   {
    "duration": 94,
    "start_time": "2022-01-19T08:19:40.881Z"
   },
   {
    "duration": 45,
    "start_time": "2022-01-19T08:19:40.978Z"
   },
   {
    "duration": 42,
    "start_time": "2022-01-19T08:19:41.026Z"
   },
   {
    "duration": 63,
    "start_time": "2022-01-19T08:19:41.071Z"
   },
   {
    "duration": 58,
    "start_time": "2022-01-19T08:19:41.136Z"
   },
   {
    "duration": 17,
    "start_time": "2022-01-19T08:19:41.197Z"
   },
   {
    "duration": 64,
    "start_time": "2022-01-19T08:19:41.216Z"
   },
   {
    "duration": 42,
    "start_time": "2022-01-19T08:19:41.282Z"
   },
   {
    "duration": 60,
    "start_time": "2022-01-19T08:19:41.326Z"
   },
   {
    "duration": 75,
    "start_time": "2022-01-19T08:19:41.389Z"
   },
   {
    "duration": 92,
    "start_time": "2022-01-19T08:19:41.467Z"
   },
   {
    "duration": 51261,
    "start_time": "2022-01-19T08:19:41.561Z"
   },
   {
    "duration": 80,
    "start_time": "2022-01-19T08:20:32.825Z"
   },
   {
    "duration": 166,
    "start_time": "2022-01-19T08:20:32.908Z"
   },
   {
    "duration": 3,
    "start_time": "2022-01-19T08:20:33.077Z"
   },
   {
    "duration": 4,
    "start_time": "2022-01-19T08:20:33.085Z"
   },
   {
    "duration": 278,
    "start_time": "2022-01-19T08:20:33.091Z"
   },
   {
    "duration": 5,
    "start_time": "2022-01-19T08:21:12.574Z"
   },
   {
    "duration": 1063,
    "start_time": "2022-01-19T08:21:12.582Z"
   },
   {
    "duration": 176,
    "start_time": "2022-01-19T08:21:13.648Z"
   },
   {
    "duration": 554,
    "start_time": "2022-01-19T08:21:13.827Z"
   },
   {
    "duration": 1159,
    "start_time": "2022-01-19T08:21:14.383Z"
   },
   {
    "duration": 65,
    "start_time": "2022-01-19T08:21:15.545Z"
   },
   {
    "duration": 422,
    "start_time": "2022-01-19T08:21:15.612Z"
   },
   {
    "duration": 5,
    "start_time": "2022-01-19T08:21:16.037Z"
   },
   {
    "duration": 45,
    "start_time": "2022-01-19T08:21:16.060Z"
   },
   {
    "duration": 88,
    "start_time": "2022-01-19T08:21:16.109Z"
   },
   {
    "duration": 21,
    "start_time": "2022-01-19T08:21:16.199Z"
   },
   {
    "duration": 104,
    "start_time": "2022-01-19T08:21:16.222Z"
   },
   {
    "duration": 56,
    "start_time": "2022-01-19T08:21:16.328Z"
   },
   {
    "duration": 20,
    "start_time": "2022-01-19T08:21:16.387Z"
   },
   {
    "duration": 86,
    "start_time": "2022-01-19T08:21:16.410Z"
   },
   {
    "duration": 45,
    "start_time": "2022-01-19T08:21:16.498Z"
   },
   {
    "duration": 31,
    "start_time": "2022-01-19T08:21:16.545Z"
   },
   {
    "duration": 43,
    "start_time": "2022-01-19T08:21:16.579Z"
   },
   {
    "duration": 74,
    "start_time": "2022-01-19T08:21:16.624Z"
   },
   {
    "duration": 61,
    "start_time": "2022-01-19T08:21:16.701Z"
   },
   {
    "duration": 60,
    "start_time": "2022-01-19T08:21:16.765Z"
   },
   {
    "duration": 105,
    "start_time": "2022-01-19T08:21:16.828Z"
   },
   {
    "duration": 51898,
    "start_time": "2022-01-19T08:21:16.936Z"
   },
   {
    "duration": 84,
    "start_time": "2022-01-19T08:22:08.837Z"
   },
   {
    "duration": 173,
    "start_time": "2022-01-19T08:22:08.924Z"
   },
   {
    "duration": 3,
    "start_time": "2022-01-19T08:22:09.099Z"
   },
   {
    "duration": 4,
    "start_time": "2022-01-19T08:22:09.107Z"
   },
   {
    "duration": 263,
    "start_time": "2022-01-19T08:22:09.113Z"
   },
   {
    "duration": 731514,
    "start_time": "2022-01-19T08:23:01.170Z"
   },
   {
    "duration": 377,
    "start_time": "2022-01-19T08:39:50.324Z"
   },
   {
    "duration": 3,
    "start_time": "2022-01-19T08:39:56.773Z"
   },
   {
    "duration": 470,
    "start_time": "2022-01-19T08:40:00.592Z"
   },
   {
    "duration": 157,
    "start_time": "2022-01-19T08:57:31.354Z"
   },
   {
    "duration": 394,
    "start_time": "2022-01-19T08:57:38.510Z"
   },
   {
    "duration": 5,
    "start_time": "2022-01-19T09:00:40.541Z"
   },
   {
    "duration": 1018,
    "start_time": "2022-01-19T09:00:40.549Z"
   },
   {
    "duration": 168,
    "start_time": "2022-01-19T09:00:41.570Z"
   },
   {
    "duration": 589,
    "start_time": "2022-01-19T09:00:41.742Z"
   },
   {
    "duration": 1142,
    "start_time": "2022-01-19T09:00:42.334Z"
   },
   {
    "duration": 54,
    "start_time": "2022-01-19T09:00:43.478Z"
   },
   {
    "duration": 411,
    "start_time": "2022-01-19T09:00:43.535Z"
   },
   {
    "duration": 12,
    "start_time": "2022-01-19T09:00:43.948Z"
   },
   {
    "duration": 47,
    "start_time": "2022-01-19T09:00:43.964Z"
   },
   {
    "duration": 85,
    "start_time": "2022-01-19T09:00:44.014Z"
   },
   {
    "duration": 19,
    "start_time": "2022-01-19T09:00:44.102Z"
   },
   {
    "duration": 111,
    "start_time": "2022-01-19T09:00:44.124Z"
   },
   {
    "duration": 53,
    "start_time": "2022-01-19T09:00:44.237Z"
   },
   {
    "duration": 19,
    "start_time": "2022-01-19T09:00:44.293Z"
   },
   {
    "duration": 92,
    "start_time": "2022-01-19T09:00:44.314Z"
   },
   {
    "duration": 54,
    "start_time": "2022-01-19T09:00:44.408Z"
   },
   {
    "duration": 16,
    "start_time": "2022-01-19T09:00:44.464Z"
   },
   {
    "duration": 45,
    "start_time": "2022-01-19T09:00:44.483Z"
   },
   {
    "duration": 65,
    "start_time": "2022-01-19T09:00:44.530Z"
   },
   {
    "duration": 39,
    "start_time": "2022-01-19T09:00:44.598Z"
   },
   {
    "duration": 60,
    "start_time": "2022-01-19T09:00:44.659Z"
   },
   {
    "duration": 95,
    "start_time": "2022-01-19T09:00:44.722Z"
   },
   {
    "duration": 53319,
    "start_time": "2022-01-19T09:00:44.820Z"
   },
   {
    "duration": 80,
    "start_time": "2022-01-19T09:01:38.141Z"
   },
   {
    "duration": 182,
    "start_time": "2022-01-19T09:01:38.224Z"
   },
   {
    "duration": 177,
    "start_time": "2022-01-19T09:01:38.408Z"
   },
   {
    "duration": 18,
    "start_time": "2022-01-19T09:01:38.590Z"
   },
   {
    "duration": 737157,
    "start_time": "2022-01-19T09:01:38.612Z"
   },
   {
    "duration": 4,
    "start_time": "2022-01-19T09:13:55.771Z"
   },
   {
    "duration": 399,
    "start_time": "2022-01-19T09:13:55.778Z"
   },
   {
    "duration": 20,
    "start_time": "2022-01-19T09:16:55.733Z"
   },
   {
    "duration": 666,
    "start_time": "2022-01-19T09:17:41.313Z"
   },
   {
    "duration": 27,
    "start_time": "2022-01-19T09:17:53.316Z"
   },
   {
    "duration": 26,
    "start_time": "2022-01-19T09:18:00.445Z"
   },
   {
    "duration": 80,
    "start_time": "2022-01-19T09:18:22.783Z"
   },
   {
    "duration": 4,
    "start_time": "2022-01-19T09:18:31.790Z"
   },
   {
    "duration": 13874,
    "start_time": "2022-01-19T09:18:35.286Z"
   },
   {
    "duration": 12856,
    "start_time": "2022-01-19T09:19:47.907Z"
   },
   {
    "duration": 382,
    "start_time": "2022-01-19T09:21:29.196Z"
   },
   {
    "duration": 409,
    "start_time": "2022-01-19T09:22:15.360Z"
   },
   {
    "duration": 381,
    "start_time": "2022-01-19T09:24:35.691Z"
   },
   {
    "duration": 374,
    "start_time": "2022-01-19T09:26:16.275Z"
   },
   {
    "duration": 5,
    "start_time": "2022-01-19T09:26:28.283Z"
   },
   {
    "duration": 106151,
    "start_time": "2022-01-19T09:26:29.708Z"
   },
   {
    "duration": 6,
    "start_time": "2022-01-19T09:29:24.111Z"
   },
   {
    "duration": 5,
    "start_time": "2022-01-19T09:29:31.311Z"
   },
   {
    "duration": 4,
    "start_time": "2022-01-19T09:29:35.620Z"
   },
   {
    "duration": 29486,
    "start_time": "2022-01-19T09:29:37.581Z"
   },
   {
    "duration": 4,
    "start_time": "2022-01-19T09:31:09.503Z"
   },
   {
    "duration": 888590,
    "start_time": "2022-01-19T09:31:10.069Z"
   },
   {
    "duration": 18,
    "start_time": "2022-01-19T09:46:15.525Z"
   },
   {
    "duration": 685325,
    "start_time": "2022-01-19T09:46:16.872Z"
   },
   {
    "duration": 5,
    "start_time": "2022-01-19T09:57:46.613Z"
   },
   {
    "duration": 998,
    "start_time": "2022-01-19T09:57:46.620Z"
   },
   {
    "duration": 172,
    "start_time": "2022-01-19T09:57:47.621Z"
   },
   {
    "duration": 570,
    "start_time": "2022-01-19T09:57:47.796Z"
   },
   {
    "duration": 1222,
    "start_time": "2022-01-19T09:57:48.368Z"
   },
   {
    "duration": 72,
    "start_time": "2022-01-19T09:57:49.593Z"
   },
   {
    "duration": 402,
    "start_time": "2022-01-19T09:57:49.668Z"
   },
   {
    "duration": 6,
    "start_time": "2022-01-19T09:57:50.073Z"
   },
   {
    "duration": 47,
    "start_time": "2022-01-19T09:57:50.085Z"
   },
   {
    "duration": 68,
    "start_time": "2022-01-19T09:57:50.161Z"
   },
   {
    "duration": 41,
    "start_time": "2022-01-19T09:57:50.232Z"
   },
   {
    "duration": 102,
    "start_time": "2022-01-19T09:57:50.276Z"
   },
   {
    "duration": 49,
    "start_time": "2022-01-19T09:57:50.381Z"
   },
   {
    "duration": 41,
    "start_time": "2022-01-19T09:57:50.433Z"
   },
   {
    "duration": 61,
    "start_time": "2022-01-19T09:57:50.477Z"
   },
   {
    "duration": 39,
    "start_time": "2022-01-19T09:57:50.560Z"
   },
   {
    "duration": 17,
    "start_time": "2022-01-19T09:57:50.602Z"
   },
   {
    "duration": 70,
    "start_time": "2022-01-19T09:57:50.622Z"
   },
   {
    "duration": 64,
    "start_time": "2022-01-19T09:57:50.695Z"
   },
   {
    "duration": 41,
    "start_time": "2022-01-19T09:57:50.762Z"
   },
   {
    "duration": 87,
    "start_time": "2022-01-19T09:57:50.806Z"
   },
   {
    "duration": 92,
    "start_time": "2022-01-19T09:57:50.895Z"
   },
   {
    "duration": 51718,
    "start_time": "2022-01-19T09:57:50.990Z"
   },
   {
    "duration": 82,
    "start_time": "2022-01-19T09:58:42.711Z"
   },
   {
    "duration": 222,
    "start_time": "2022-01-19T09:58:42.795Z"
   },
   {
    "duration": 4,
    "start_time": "2022-01-19T09:58:43.020Z"
   },
   {
    "duration": 1090737,
    "start_time": "2022-01-19T09:58:43.028Z"
   },
   {
    "duration": 3,
    "start_time": "2022-01-19T10:16:53.768Z"
   },
   {
    "duration": 9397,
    "start_time": "2022-01-19T10:16:53.773Z"
   },
   {
    "duration": 3,
    "start_time": "2022-01-19T10:19:25.919Z"
   },
   {
    "duration": 11736,
    "start_time": "2022-01-19T10:19:28.730Z"
   },
   {
    "duration": 5,
    "start_time": "2022-01-19T10:19:47.002Z"
   },
   {
    "duration": 12017,
    "start_time": "2022-01-19T10:19:50.049Z"
   },
   {
    "duration": 4,
    "start_time": "2022-01-19T10:20:07.523Z"
   },
   {
    "duration": 18898,
    "start_time": "2022-01-19T10:20:11.871Z"
   },
   {
    "duration": 5,
    "start_time": "2022-01-19T10:20:35.391Z"
   },
   {
    "duration": 14118,
    "start_time": "2022-01-19T10:20:38.152Z"
   },
   {
    "duration": 22,
    "start_time": "2022-01-19T10:21:06.760Z"
   },
   {
    "duration": 727802,
    "start_time": "2022-01-19T10:21:08.274Z"
   },
   {
    "duration": 15,
    "start_time": "2022-01-19T10:33:51.721Z"
   },
   {
    "duration": 745058,
    "start_time": "2022-01-19T10:33:52.308Z"
   },
   {
    "duration": 19,
    "start_time": "2022-01-19T10:46:40.008Z"
   },
   {
    "duration": 763100,
    "start_time": "2022-01-19T10:46:40.538Z"
   },
   {
    "duration": 19,
    "start_time": "2022-01-19T11:19:39.440Z"
   },
   {
    "duration": 727755,
    "start_time": "2022-01-19T11:19:46.121Z"
   },
   {
    "duration": 22,
    "start_time": "2022-01-19T11:32:11.293Z"
   },
   {
    "duration": 866212,
    "start_time": "2022-01-19T11:32:11.763Z"
   },
   {
    "duration": 24,
    "start_time": "2022-01-19T12:17:11.162Z"
   },
   {
    "duration": 4,
    "start_time": "2022-01-19T12:17:15.907Z"
   },
   {
    "duration": 376,
    "start_time": "2022-01-19T12:17:17.790Z"
   },
   {
    "duration": 4,
    "start_time": "2022-01-19T12:17:36.144Z"
   },
   {
    "duration": 378,
    "start_time": "2022-01-19T12:17:37.146Z"
   },
   {
    "duration": 419,
    "start_time": "2022-01-19T12:19:08.475Z"
   },
   {
    "duration": 486,
    "start_time": "2022-01-19T12:20:38.442Z"
   },
   {
    "duration": 373,
    "start_time": "2022-01-19T12:21:11.813Z"
   },
   {
    "duration": 424,
    "start_time": "2022-01-19T12:21:19.128Z"
   },
   {
    "duration": 4,
    "start_time": "2022-01-19T12:21:44.260Z"
   },
   {
    "duration": 420,
    "start_time": "2022-01-19T12:21:46.305Z"
   },
   {
    "duration": 424,
    "start_time": "2022-01-19T12:22:22.319Z"
   },
   {
    "duration": 374,
    "start_time": "2022-01-19T12:26:01.074Z"
   },
   {
    "duration": 16,
    "start_time": "2022-01-19T12:26:06.108Z"
   },
   {
    "duration": 949,
    "start_time": "2022-01-19T12:26:11.351Z"
   },
   {
    "duration": 13910,
    "start_time": "2022-01-19T12:26:17.174Z"
   },
   {
    "duration": 12937,
    "start_time": "2022-01-19T12:27:27.267Z"
   },
   {
    "duration": 125,
    "start_time": "2022-01-19T12:28:55.458Z"
   },
   {
    "duration": 371,
    "start_time": "2022-01-19T12:29:07.115Z"
   },
   {
    "duration": 4,
    "start_time": "2022-01-19T12:31:09.108Z"
   },
   {
    "duration": 447,
    "start_time": "2022-01-19T12:31:10.611Z"
   },
   {
    "duration": 11592,
    "start_time": "2022-01-19T12:30:59.470Z"
   },
   {
    "duration": 4,
    "start_time": "2022-01-19T12:31:54.196Z"
   },
   {
    "duration": 384,
    "start_time": "2022-01-19T12:31:56.383Z"
   },
   {
    "duration": 4,
    "start_time": "2022-01-19T12:32:05.324Z"
   },
   {
    "duration": 376,
    "start_time": "2022-01-19T12:32:06.366Z"
   },
   {
    "duration": 4,
    "start_time": "2022-01-19T12:32:18.107Z"
   },
   {
    "duration": 537,
    "start_time": "2022-01-19T12:32:19.046Z"
   },
   {
    "duration": 3,
    "start_time": "2022-01-19T12:36:08.312Z"
   },
   {
    "duration": 13343,
    "start_time": "2022-01-19T12:36:09.021Z"
   },
   {
    "duration": 429,
    "start_time": "2022-01-19T12:36:28.208Z"
   },
   {
    "duration": 361,
    "start_time": "2022-01-19T12:37:40.358Z"
   },
   {
    "duration": 365,
    "start_time": "2022-01-19T12:39:56.851Z"
   },
   {
    "duration": 5,
    "start_time": "2022-01-19T12:40:04.235Z"
   },
   {
    "duration": 8,
    "start_time": "2022-01-19T12:40:08.967Z"
   },
   {
    "duration": 8,
    "start_time": "2022-01-19T12:40:35.110Z"
   },
   {
    "duration": 16711,
    "start_time": "2022-01-19T12:43:37.555Z"
   },
   {
    "duration": 9,
    "start_time": "2022-01-19T12:44:05.698Z"
   },
   {
    "duration": 11761,
    "start_time": "2022-01-19T12:44:07.907Z"
   },
   {
    "duration": 11,
    "start_time": "2022-01-19T12:44:22.435Z"
   },
   {
    "duration": 3,
    "start_time": "2022-01-19T12:45:16.714Z"
   },
   {
    "duration": 17000,
    "start_time": "2022-01-19T12:48:16.592Z"
   },
   {
    "duration": 15644,
    "start_time": "2022-01-19T12:48:41.795Z"
   },
   {
    "duration": 14515,
    "start_time": "2022-01-19T12:49:10.347Z"
   },
   {
    "duration": 13575,
    "start_time": "2022-01-19T12:52:38.189Z"
   },
   {
    "duration": 13407,
    "start_time": "2022-01-19T12:55:21.860Z"
   },
   {
    "duration": 396,
    "start_time": "2022-01-19T12:55:46.105Z"
   },
   {
    "duration": 367,
    "start_time": "2022-01-19T12:56:08.849Z"
   },
   {
    "duration": 512,
    "start_time": "2022-01-19T12:56:20.995Z"
   },
   {
    "duration": 10,
    "start_time": "2022-01-19T12:57:03.301Z"
   },
   {
    "duration": 380,
    "start_time": "2022-01-19T12:57:16.725Z"
   },
   {
    "duration": 11,
    "start_time": "2022-01-19T12:57:22.670Z"
   },
   {
    "duration": 8,
    "start_time": "2022-01-19T12:59:24.343Z"
   },
   {
    "duration": 9,
    "start_time": "2022-01-19T12:59:29.643Z"
   },
   {
    "duration": 535,
    "start_time": "2022-01-20T07:46:44.624Z"
   },
   {
    "duration": 1516,
    "start_time": "2022-01-20T07:48:45.998Z"
   },
   {
    "duration": 1056,
    "start_time": "2022-01-20T07:48:47.517Z"
   },
   {
    "duration": 160,
    "start_time": "2022-01-20T07:48:48.577Z"
   },
   {
    "duration": 656,
    "start_time": "2022-01-20T07:48:48.740Z"
   },
   {
    "duration": 1304,
    "start_time": "2022-01-20T07:48:49.398Z"
   },
   {
    "duration": 67,
    "start_time": "2022-01-20T07:48:50.705Z"
   },
   {
    "duration": 424,
    "start_time": "2022-01-20T07:48:50.774Z"
   },
   {
    "duration": 43,
    "start_time": "2022-01-20T07:48:51.201Z"
   },
   {
    "duration": 54,
    "start_time": "2022-01-20T07:48:51.265Z"
   },
   {
    "duration": 23,
    "start_time": "2022-01-20T07:48:51.322Z"
   },
   {
    "duration": 85,
    "start_time": "2022-01-20T07:48:51.368Z"
   },
   {
    "duration": 50,
    "start_time": "2022-01-20T07:48:51.455Z"
   },
   {
    "duration": 22,
    "start_time": "2022-01-20T07:48:51.507Z"
   },
   {
    "duration": 106,
    "start_time": "2022-01-20T07:48:51.531Z"
   },
   {
    "duration": 72,
    "start_time": "2022-01-20T07:48:51.640Z"
   },
   {
    "duration": 24,
    "start_time": "2022-01-20T07:48:51.715Z"
   },
   {
    "duration": 85,
    "start_time": "2022-01-20T07:48:51.742Z"
   },
   {
    "duration": 87,
    "start_time": "2022-01-20T07:48:51.830Z"
   },
   {
    "duration": 53,
    "start_time": "2022-01-20T07:48:51.920Z"
   },
   {
    "duration": 105,
    "start_time": "2022-01-20T07:48:51.976Z"
   },
   {
    "duration": 114,
    "start_time": "2022-01-20T07:48:52.084Z"
   },
   {
    "duration": 101705,
    "start_time": "2022-01-20T07:48:52.201Z"
   },
   {
    "duration": 76,
    "start_time": "2022-01-20T07:50:33.909Z"
   },
   {
    "duration": 222,
    "start_time": "2022-01-20T07:50:33.987Z"
   },
   {
    "duration": 4,
    "start_time": "2022-01-20T07:50:34.212Z"
   },
   {
    "duration": 894471,
    "start_time": "2022-01-20T07:50:34.218Z"
   },
   {
    "duration": 4,
    "start_time": "2022-01-20T08:05:28.696Z"
   },
   {
    "duration": 15567,
    "start_time": "2022-01-20T08:05:28.703Z"
   },
   {
    "duration": 3,
    "start_time": "2022-01-20T08:05:44.273Z"
   },
   {
    "duration": 517,
    "start_time": "2022-01-20T08:05:44.279Z"
   },
   {
    "duration": 12574,
    "start_time": "2022-01-20T08:05:32.225Z"
   },
   {
    "duration": 4,
    "start_time": "2022-01-20T08:33:16.442Z"
   },
   {
    "duration": 355,
    "start_time": "2022-01-20T08:33:17.719Z"
   },
   {
    "duration": 6,
    "start_time": "2022-01-20T08:33:39.850Z"
   },
   {
    "duration": 1217,
    "start_time": "2022-01-20T08:33:39.858Z"
   },
   {
    "duration": 162,
    "start_time": "2022-01-20T08:33:41.078Z"
   },
   {
    "duration": 533,
    "start_time": "2022-01-20T08:33:41.243Z"
   },
   {
    "duration": 1293,
    "start_time": "2022-01-20T08:33:41.779Z"
   },
   {
    "duration": 59,
    "start_time": "2022-01-20T08:33:43.075Z"
   },
   {
    "duration": 410,
    "start_time": "2022-01-20T08:33:43.137Z"
   },
   {
    "duration": 54,
    "start_time": "2022-01-20T08:33:43.552Z"
   },
   {
    "duration": 40,
    "start_time": "2022-01-20T08:33:43.609Z"
   },
   {
    "duration": 76,
    "start_time": "2022-01-20T08:33:43.652Z"
   },
   {
    "duration": 46,
    "start_time": "2022-01-20T08:33:43.731Z"
   },
   {
    "duration": 54,
    "start_time": "2022-01-20T08:33:43.779Z"
   },
   {
    "duration": 87,
    "start_time": "2022-01-20T08:33:43.836Z"
   },
   {
    "duration": 44,
    "start_time": "2022-01-20T08:33:43.926Z"
   },
   {
    "duration": 27,
    "start_time": "2022-01-20T08:33:43.973Z"
   },
   {
    "duration": 38,
    "start_time": "2022-01-20T08:33:44.002Z"
   },
   {
    "duration": 59,
    "start_time": "2022-01-20T08:33:44.042Z"
   },
   {
    "duration": 46,
    "start_time": "2022-01-20T08:33:44.104Z"
   },
   {
    "duration": 75,
    "start_time": "2022-01-20T08:33:44.153Z"
   },
   {
    "duration": 148,
    "start_time": "2022-01-20T08:33:44.231Z"
   },
   {
    "duration": 100200,
    "start_time": "2022-01-20T08:33:44.381Z"
   },
   {
    "duration": 83,
    "start_time": "2022-01-20T08:35:24.584Z"
   },
   {
    "duration": 206,
    "start_time": "2022-01-20T08:35:24.672Z"
   },
   {
    "duration": 21,
    "start_time": "2022-01-20T08:35:24.880Z"
   },
   {
    "duration": 895369,
    "start_time": "2022-01-20T08:35:24.904Z"
   },
   {
    "duration": 6,
    "start_time": "2022-01-20T08:50:20.276Z"
   },
   {
    "duration": 11783,
    "start_time": "2022-01-20T08:50:20.285Z"
   },
   {
    "duration": 3,
    "start_time": "2022-01-20T08:50:32.071Z"
   },
   {
    "duration": 399,
    "start_time": "2022-01-20T08:50:32.077Z"
   },
   {
    "duration": 12549,
    "start_time": "2022-01-20T08:50:19.930Z"
   },
   {
    "duration": 13144,
    "start_time": "2022-01-20T08:50:49.235Z"
   },
   {
    "duration": 15,
    "start_time": "2022-01-20T08:55:42.429Z"
   },
   {
    "duration": 7,
    "start_time": "2022-01-20T08:56:02.708Z"
   },
   {
    "duration": 10,
    "start_time": "2022-01-20T08:56:26.380Z"
   },
   {
    "duration": 354,
    "start_time": "2022-01-20T08:58:36.763Z"
   },
   {
    "duration": 1526,
    "start_time": "2022-01-20T08:58:44.579Z"
   },
   {
    "duration": 1076,
    "start_time": "2022-01-20T08:58:46.108Z"
   },
   {
    "duration": 157,
    "start_time": "2022-01-20T08:58:47.187Z"
   },
   {
    "duration": 716,
    "start_time": "2022-01-20T08:58:47.348Z"
   },
   {
    "duration": 1461,
    "start_time": "2022-01-20T08:58:48.067Z"
   },
   {
    "duration": 75,
    "start_time": "2022-01-20T08:58:49.530Z"
   },
   {
    "duration": 401,
    "start_time": "2022-01-20T08:58:49.608Z"
   },
   {
    "duration": 54,
    "start_time": "2022-01-20T08:58:50.013Z"
   },
   {
    "duration": 26,
    "start_time": "2022-01-20T08:58:50.072Z"
   },
   {
    "duration": 108,
    "start_time": "2022-01-20T08:58:50.102Z"
   },
   {
    "duration": 70,
    "start_time": "2022-01-20T08:58:50.214Z"
   },
   {
    "duration": 39,
    "start_time": "2022-01-20T08:58:50.287Z"
   },
   {
    "duration": 78,
    "start_time": "2022-01-20T08:58:50.329Z"
   },
   {
    "duration": 61,
    "start_time": "2022-01-20T08:58:50.410Z"
   },
   {
    "duration": 20,
    "start_time": "2022-01-20T08:58:50.474Z"
   },
   {
    "duration": 55,
    "start_time": "2022-01-20T08:58:50.497Z"
   },
   {
    "duration": 75,
    "start_time": "2022-01-20T08:58:50.555Z"
   },
   {
    "duration": 61,
    "start_time": "2022-01-20T08:58:50.633Z"
   },
   {
    "duration": 79,
    "start_time": "2022-01-20T08:58:50.696Z"
   },
   {
    "duration": 90,
    "start_time": "2022-01-20T08:58:50.778Z"
   },
   {
    "duration": 102261,
    "start_time": "2022-01-20T08:58:50.870Z"
   },
   {
    "duration": 88,
    "start_time": "2022-01-20T09:00:33.134Z"
   },
   {
    "duration": 237,
    "start_time": "2022-01-20T09:00:33.225Z"
   },
   {
    "duration": 4,
    "start_time": "2022-01-20T09:00:33.466Z"
   },
   {
    "duration": 900259,
    "start_time": "2022-01-20T09:00:33.472Z"
   },
   {
    "duration": 4,
    "start_time": "2022-01-20T09:15:33.733Z"
   },
   {
    "duration": 12072,
    "start_time": "2022-01-20T09:15:33.741Z"
   },
   {
    "duration": 12563,
    "start_time": "2022-01-20T09:15:33.253Z"
   },
   {
    "duration": 12561,
    "start_time": "2022-01-20T09:15:33.257Z"
   },
   {
    "duration": 12553,
    "start_time": "2022-01-20T09:15:33.267Z"
   },
   {
    "duration": 11428,
    "start_time": "2022-01-20T09:29:21.042Z"
   },
   {
    "duration": 5,
    "start_time": "2022-01-20T09:30:10.995Z"
   },
   {
    "duration": 393,
    "start_time": "2022-01-20T09:30:11.539Z"
   },
   {
    "duration": 437,
    "start_time": "2022-01-20T09:30:12.046Z"
   },
   {
    "duration": 352,
    "start_time": "2022-01-20T09:30:19.199Z"
   },
   {
    "duration": 393,
    "start_time": "2022-01-20T09:30:34.233Z"
   },
   {
    "duration": 29,
    "start_time": "2022-01-20T09:31:50.664Z"
   },
   {
    "duration": 1082,
    "start_time": "2022-01-20T09:31:50.697Z"
   },
   {
    "duration": 155,
    "start_time": "2022-01-20T09:31:51.782Z"
   },
   {
    "duration": 541,
    "start_time": "2022-01-20T09:31:51.941Z"
   },
   {
    "duration": 1226,
    "start_time": "2022-01-20T09:31:52.485Z"
   },
   {
    "duration": 65,
    "start_time": "2022-01-20T09:31:53.714Z"
   },
   {
    "duration": 394,
    "start_time": "2022-01-20T09:31:53.782Z"
   },
   {
    "duration": 63,
    "start_time": "2022-01-20T09:31:54.179Z"
   },
   {
    "duration": 36,
    "start_time": "2022-01-20T09:31:54.246Z"
   },
   {
    "duration": 94,
    "start_time": "2022-01-20T09:31:54.285Z"
   },
   {
    "duration": 44,
    "start_time": "2022-01-20T09:31:54.381Z"
   },
   {
    "duration": 43,
    "start_time": "2022-01-20T09:31:54.427Z"
   },
   {
    "duration": 88,
    "start_time": "2022-01-20T09:31:54.472Z"
   },
   {
    "duration": 38,
    "start_time": "2022-01-20T09:31:54.563Z"
   },
   {
    "duration": 49,
    "start_time": "2022-01-20T09:31:54.604Z"
   },
   {
    "duration": 45,
    "start_time": "2022-01-20T09:31:54.655Z"
   },
   {
    "duration": 51,
    "start_time": "2022-01-20T09:31:54.702Z"
   },
   {
    "duration": 64,
    "start_time": "2022-01-20T09:31:54.755Z"
   },
   {
    "duration": 69,
    "start_time": "2022-01-20T09:31:54.822Z"
   },
   {
    "duration": 93,
    "start_time": "2022-01-20T09:31:54.893Z"
   },
   {
    "duration": 51311,
    "start_time": "2022-01-20T09:31:54.989Z"
   },
   {
    "duration": 85,
    "start_time": "2022-01-20T09:32:46.303Z"
   },
   {
    "duration": 217,
    "start_time": "2022-01-20T09:32:46.391Z"
   },
   {
    "duration": 21,
    "start_time": "2022-01-20T09:32:46.611Z"
   },
   {
    "duration": 886676,
    "start_time": "2022-01-20T09:32:46.634Z"
   },
   {
    "duration": 5,
    "start_time": "2022-01-20T09:47:33.313Z"
   },
   {
    "duration": 12251,
    "start_time": "2022-01-20T09:47:33.324Z"
   },
   {
    "duration": 3,
    "start_time": "2022-01-20T09:47:45.578Z"
   },
   {
    "duration": 345,
    "start_time": "2022-01-20T09:47:45.666Z"
   },
   {
    "duration": 12528,
    "start_time": "2022-01-20T09:47:33.485Z"
   },
   {
    "duration": 375,
    "start_time": "2022-01-20T11:29:09.767Z"
   },
   {
    "duration": 72,
    "start_time": "2022-01-20T11:29:37.628Z"
   },
   {
    "duration": 453,
    "start_time": "2022-01-20T11:29:38.875Z"
   },
   {
    "duration": 74,
    "start_time": "2022-01-20T11:30:02.057Z"
   },
   {
    "duration": 438,
    "start_time": "2022-01-20T11:30:03.264Z"
   },
   {
    "duration": 4,
    "start_time": "2022-01-20T11:41:00.000Z"
   },
   {
    "duration": 368,
    "start_time": "2022-01-20T11:41:10.736Z"
   },
   {
    "duration": 4,
    "start_time": "2022-01-20T11:48:19.749Z"
   },
   {
    "duration": 447,
    "start_time": "2022-01-20T11:48:21.202Z"
   },
   {
    "duration": 581,
    "start_time": "2022-01-20T12:00:44.920Z"
   },
   {
    "duration": 597,
    "start_time": "2022-01-20T12:01:53.899Z"
   },
   {
    "duration": 429,
    "start_time": "2022-01-20T12:03:32.018Z"
   },
   {
    "duration": 4963,
    "start_time": "2022-01-20T12:05:00.706Z"
   },
   {
    "duration": 164,
    "start_time": "2022-01-20T12:05:34.301Z"
   },
   {
    "duration": 787,
    "start_time": "2022-01-20T12:06:50.794Z"
   },
   {
    "duration": 792,
    "start_time": "2022-01-20T12:07:23.131Z"
   },
   {
    "duration": 4,
    "start_time": "2022-01-20T12:07:23.926Z"
   },
   {
    "duration": 131,
    "start_time": "2022-01-20T12:07:24.341Z"
   },
   {
    "duration": 52,
    "start_time": "2022-01-20T12:07:28.414Z"
   },
   {
    "duration": 317,
    "start_time": "2022-01-20T12:30:28.382Z"
   },
   {
    "duration": 52,
    "start_time": "2022-01-20T12:30:37.016Z"
   },
   {
    "duration": 12,
    "start_time": "2022-01-20T12:30:39.341Z"
   },
   {
    "duration": 291,
    "start_time": "2022-01-20T12:30:41.829Z"
   },
   {
    "duration": 468,
    "start_time": "2022-01-20T12:31:48.904Z"
   },
   {
    "duration": 434,
    "start_time": "2022-01-20T12:31:53.775Z"
   },
   {
    "duration": 301,
    "start_time": "2022-01-20T12:32:28.430Z"
   },
   {
    "duration": 327,
    "start_time": "2022-01-20T12:41:35.482Z"
   },
   {
    "duration": 965,
    "start_time": "2022-01-20T12:42:13.202Z"
   },
   {
    "duration": 5,
    "start_time": "2022-01-20T12:42:33.766Z"
   },
   {
    "duration": 14,
    "start_time": "2022-01-20T12:42:59.921Z"
   },
   {
    "duration": 428,
    "start_time": "2022-01-20T12:43:38.876Z"
   },
   {
    "duration": 10,
    "start_time": "2022-01-20T12:43:50.193Z"
   },
   {
    "duration": 404,
    "start_time": "2022-01-20T12:45:29.506Z"
   },
   {
    "duration": 291,
    "start_time": "2022-01-20T12:45:44.568Z"
   },
   {
    "duration": 304,
    "start_time": "2022-01-20T12:45:49.019Z"
   },
   {
    "duration": 10,
    "start_time": "2022-01-20T12:45:59.447Z"
   },
   {
    "duration": 8,
    "start_time": "2022-01-20T12:46:03.779Z"
   },
   {
    "duration": 10,
    "start_time": "2022-01-20T12:46:08.352Z"
   },
   {
    "duration": 302,
    "start_time": "2022-01-20T12:46:48.602Z"
   },
   {
    "duration": 11,
    "start_time": "2022-01-20T12:47:18.026Z"
   },
   {
    "duration": 322,
    "start_time": "2022-01-20T12:47:28.548Z"
   },
   {
    "duration": 303,
    "start_time": "2022-01-20T12:51:19.364Z"
   },
   {
    "duration": 6,
    "start_time": "2022-01-20T12:51:31.764Z"
   },
   {
    "duration": 285,
    "start_time": "2022-01-20T12:51:40.964Z"
   },
   {
    "duration": 304,
    "start_time": "2022-01-20T12:51:53.632Z"
   },
   {
    "duration": 7,
    "start_time": "2022-01-20T12:52:00.619Z"
   },
   {
    "duration": 5,
    "start_time": "2022-01-20T12:52:08.071Z"
   },
   {
    "duration": 22,
    "start_time": "2022-01-20T12:52:24.648Z"
   },
   {
    "duration": 1081,
    "start_time": "2022-01-20T12:56:06.022Z"
   },
   {
    "duration": 465,
    "start_time": "2022-01-20T12:56:25.675Z"
   },
   {
    "duration": 456,
    "start_time": "2022-01-20T12:56:40.640Z"
   },
   {
    "duration": 1036,
    "start_time": "2022-01-20T13:00:53.231Z"
   },
   {
    "duration": 1257,
    "start_time": "2022-01-20T13:01:10.670Z"
   },
   {
    "duration": 16,
    "start_time": "2022-01-20T13:02:28.320Z"
   },
   {
    "duration": 1194,
    "start_time": "2022-01-20T13:03:48.378Z"
   },
   {
    "duration": 943,
    "start_time": "2022-01-20T13:03:57.972Z"
   },
   {
    "duration": 1373,
    "start_time": "2022-01-20T13:04:42.932Z"
   },
   {
    "duration": 474,
    "start_time": "2022-01-20T13:04:51.763Z"
   },
   {
    "duration": 643,
    "start_time": "2022-01-20T13:04:56.488Z"
   },
   {
    "duration": 1585,
    "start_time": "2022-01-20T13:05:02.768Z"
   },
   {
    "duration": 837,
    "start_time": "2022-01-20T13:05:15.945Z"
   },
   {
    "duration": 1490,
    "start_time": "2022-01-20T13:05:25.196Z"
   },
   {
    "duration": 1503,
    "start_time": "2022-01-20T13:05:51.554Z"
   },
   {
    "duration": 815,
    "start_time": "2022-01-20T13:06:07.262Z"
   },
   {
    "duration": 1369,
    "start_time": "2022-01-20T13:06:33.442Z"
   },
   {
    "duration": 1450,
    "start_time": "2022-01-20T13:06:59.953Z"
   },
   {
    "duration": 1627,
    "start_time": "2022-01-20T13:07:21.391Z"
   },
   {
    "duration": 924,
    "start_time": "2022-01-20T13:07:36.630Z"
   },
   {
    "duration": 1265,
    "start_time": "2022-01-20T13:07:50.310Z"
   },
   {
    "duration": 1265,
    "start_time": "2022-01-20T13:07:55.883Z"
   },
   {
    "duration": 1342,
    "start_time": "2022-01-20T13:08:05.460Z"
   },
   {
    "duration": 1539,
    "start_time": "2022-01-20T13:08:14.928Z"
   },
   {
    "duration": 1444,
    "start_time": "2022-01-20T13:10:21.867Z"
   },
   {
    "duration": 1467,
    "start_time": "2022-01-20T13:11:20.644Z"
   },
   {
    "duration": 809,
    "start_time": "2022-01-20T13:11:48.929Z"
   },
   {
    "duration": 70156,
    "start_time": "2022-01-20T13:49:46.103Z"
   },
   {
    "duration": 1708,
    "start_time": "2022-01-20T13:50:56.262Z"
   },
   {
    "duration": 734,
    "start_time": "2022-01-20T13:50:57.973Z"
   },
   {
    "duration": 127,
    "start_time": "2022-01-20T13:50:58.708Z"
   },
   {
    "duration": 410,
    "start_time": "2022-01-20T13:50:58.836Z"
   },
   {
    "duration": 833,
    "start_time": "2022-01-20T13:50:59.248Z"
   },
   {
    "duration": 32,
    "start_time": "2022-01-20T13:51:35.615Z"
   },
   {
    "duration": 295,
    "start_time": "2022-01-20T13:51:39.788Z"
   },
   {
    "duration": 34,
    "start_time": "2022-01-20T13:51:49.565Z"
   },
   {
    "duration": 16,
    "start_time": "2022-01-20T13:51:50.362Z"
   },
   {
    "duration": 54,
    "start_time": "2022-01-20T13:51:53.979Z"
   },
   {
    "duration": 31,
    "start_time": "2022-01-20T13:51:54.815Z"
   },
   {
    "duration": 15,
    "start_time": "2022-01-20T13:51:55.431Z"
   },
   {
    "duration": 36,
    "start_time": "2022-01-20T13:51:55.804Z"
   },
   {
    "duration": 32,
    "start_time": "2022-01-20T13:51:55.972Z"
   },
   {
    "duration": 13,
    "start_time": "2022-01-20T13:51:56.140Z"
   },
   {
    "duration": 31,
    "start_time": "2022-01-20T13:51:56.305Z"
   },
   {
    "duration": 29,
    "start_time": "2022-01-20T13:51:56.472Z"
   },
   {
    "duration": 27,
    "start_time": "2022-01-20T13:51:56.648Z"
   },
   {
    "duration": 38,
    "start_time": "2022-01-20T13:51:57.257Z"
   },
   {
    "duration": 59,
    "start_time": "2022-01-20T13:51:57.579Z"
   },
   {
    "duration": 55900,
    "start_time": "2022-01-20T13:51:57.935Z"
   },
   {
    "duration": 61,
    "start_time": "2022-01-20T13:52:53.837Z"
   },
   {
    "duration": 129,
    "start_time": "2022-01-20T14:01:51.113Z"
   },
   {
    "duration": 2,
    "start_time": "2022-01-20T14:01:56.821Z"
   },
   {
    "duration": 564781,
    "start_time": "2022-01-20T14:02:04.892Z"
   },
   {
    "duration": 5,
    "start_time": "2022-01-20T14:11:29.675Z"
   },
   {
    "duration": 4,
    "start_time": "2022-01-20T14:17:58.263Z"
   },
   {
    "duration": 398763,
    "start_time": "2022-01-20T14:17:58.914Z"
   },
   {
    "duration": 704,
    "start_time": "2022-01-20T14:24:37.679Z"
   },
   {
    "duration": 642,
    "start_time": "2022-01-20T14:24:38.384Z"
   },
   {
    "duration": 3,
    "start_time": "2022-01-20T14:24:39.027Z"
   },
   {
    "duration": 58,
    "start_time": "2022-01-20T14:24:39.031Z"
   },
   {
    "duration": 10,
    "start_time": "2022-01-20T14:24:39.092Z"
   },
   {
    "duration": 9,
    "start_time": "2022-01-20T14:38:35.587Z"
   },
   {
    "duration": 539,
    "start_time": "2022-01-20T14:38:36.285Z"
   },
   {
    "duration": 158,
    "start_time": "2022-01-20T17:58:51.973Z"
   }
  ],
  "kernelspec": {
   "display_name": "Python 3",
   "language": "python",
   "name": "python3"
  },
  "language_info": {
   "codemirror_mode": {
    "name": "ipython",
    "version": 3
   },
   "file_extension": ".py",
   "mimetype": "text/x-python",
   "name": "python",
   "nbconvert_exporter": "python",
   "pygments_lexer": "ipython3",
   "version": "3.8.8"
  },
  "toc": {
   "base_numbering": 1,
   "nav_menu": {},
   "number_sections": true,
   "sideBar": true,
   "skip_h1_title": true,
   "title_cell": "Table of Contents",
   "title_sidebar": "Contents",
   "toc_cell": false,
   "toc_position": {},
   "toc_section_display": true,
   "toc_window_display": false
  }
 },
 "nbformat": 4,
 "nbformat_minor": 2
}
