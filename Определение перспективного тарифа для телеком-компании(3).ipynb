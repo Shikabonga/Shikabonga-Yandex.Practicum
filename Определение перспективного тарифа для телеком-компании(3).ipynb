{
 "cells": [
  {
   "cell_type": "markdown",
   "metadata": {},
   "source": [
    "<h2>Загрузка и исследование данных</h2>"
   ]
  },
  {
   "cell_type": "code",
   "execution_count": 1,
   "metadata": {},
   "outputs": [],
   "source": [
    "import pandas as pd\n",
    "import numpy as np\n",
    "import matplotlib.pyplot as plt\n",
    "from scipy import stats as st"
   ]
  },
  {
   "cell_type": "code",
   "execution_count": 2,
   "metadata": {},
   "outputs": [],
   "source": [
    "calls_df = pd.read_csv('/datasets/calls.csv') #загружаем таблицу со звонками\n",
    "internet_df = pd.read_csv('/datasets/internet.csv')#загружаем таблицу с трафиком\n",
    "message_df = pd.read_csv('/datasets/messages.csv')#таблица с сообщениями\n",
    "tariffs_df = pd.read_csv('/datasets/tariffs.csv')#таблица тарифов\n",
    "users_df = pd.read_csv('/datasets/users.csv')#таблица пользователей"
   ]
  },
  {
   "cell_type": "code",
   "execution_count": 3,
   "metadata": {},
   "outputs": [
    {
     "name": "stdout",
     "output_type": "stream",
     "text": [
      "<class 'pandas.core.frame.DataFrame'>\n",
      "RangeIndex: 202607 entries, 0 to 202606\n",
      "Data columns (total 4 columns):\n",
      "id           202607 non-null object\n",
      "call_date    202607 non-null object\n",
      "duration     202607 non-null float64\n",
      "user_id      202607 non-null int64\n",
      "dtypes: float64(1), int64(1), object(2)\n",
      "memory usage: 6.2+ MB\n"
     ]
    },
    {
     "data": {
      "text/html": [
       "<div>\n",
       "<style scoped>\n",
       "    .dataframe tbody tr th:only-of-type {\n",
       "        vertical-align: middle;\n",
       "    }\n",
       "\n",
       "    .dataframe tbody tr th {\n",
       "        vertical-align: top;\n",
       "    }\n",
       "\n",
       "    .dataframe thead th {\n",
       "        text-align: right;\n",
       "    }\n",
       "</style>\n",
       "<table border=\"1\" class=\"dataframe\">\n",
       "  <thead>\n",
       "    <tr style=\"text-align: right;\">\n",
       "      <th></th>\n",
       "      <th>duration</th>\n",
       "      <th>user_id</th>\n",
       "    </tr>\n",
       "  </thead>\n",
       "  <tbody>\n",
       "    <tr>\n",
       "      <td>count</td>\n",
       "      <td>202607.000000</td>\n",
       "      <td>202607.000000</td>\n",
       "    </tr>\n",
       "    <tr>\n",
       "      <td>mean</td>\n",
       "      <td>6.755887</td>\n",
       "      <td>1253.940619</td>\n",
       "    </tr>\n",
       "    <tr>\n",
       "      <td>std</td>\n",
       "      <td>5.843365</td>\n",
       "      <td>144.722751</td>\n",
       "    </tr>\n",
       "    <tr>\n",
       "      <td>min</td>\n",
       "      <td>0.000000</td>\n",
       "      <td>1000.000000</td>\n",
       "    </tr>\n",
       "    <tr>\n",
       "      <td>25%</td>\n",
       "      <td>1.300000</td>\n",
       "      <td>1126.000000</td>\n",
       "    </tr>\n",
       "    <tr>\n",
       "      <td>50%</td>\n",
       "      <td>6.000000</td>\n",
       "      <td>1260.000000</td>\n",
       "    </tr>\n",
       "    <tr>\n",
       "      <td>75%</td>\n",
       "      <td>10.700000</td>\n",
       "      <td>1379.000000</td>\n",
       "    </tr>\n",
       "    <tr>\n",
       "      <td>max</td>\n",
       "      <td>38.000000</td>\n",
       "      <td>1499.000000</td>\n",
       "    </tr>\n",
       "  </tbody>\n",
       "</table>\n",
       "</div>"
      ],
      "text/plain": [
       "            duration        user_id\n",
       "count  202607.000000  202607.000000\n",
       "mean        6.755887    1253.940619\n",
       "std         5.843365     144.722751\n",
       "min         0.000000    1000.000000\n",
       "25%         1.300000    1126.000000\n",
       "50%         6.000000    1260.000000\n",
       "75%        10.700000    1379.000000\n",
       "max        38.000000    1499.000000"
      ]
     },
     "metadata": {},
     "output_type": "display_data"
    },
    {
     "data": {
      "text/html": [
       "<div>\n",
       "<style scoped>\n",
       "    .dataframe tbody tr th:only-of-type {\n",
       "        vertical-align: middle;\n",
       "    }\n",
       "\n",
       "    .dataframe tbody tr th {\n",
       "        vertical-align: top;\n",
       "    }\n",
       "\n",
       "    .dataframe thead th {\n",
       "        text-align: right;\n",
       "    }\n",
       "</style>\n",
       "<table border=\"1\" class=\"dataframe\">\n",
       "  <thead>\n",
       "    <tr style=\"text-align: right;\">\n",
       "      <th></th>\n",
       "      <th>id</th>\n",
       "      <th>call_date</th>\n",
       "      <th>duration</th>\n",
       "      <th>user_id</th>\n",
       "    </tr>\n",
       "  </thead>\n",
       "  <tbody>\n",
       "    <tr>\n",
       "      <td>0</td>\n",
       "      <td>1000_0</td>\n",
       "      <td>2018-07-25</td>\n",
       "      <td>0.00</td>\n",
       "      <td>1000</td>\n",
       "    </tr>\n",
       "    <tr>\n",
       "      <td>1</td>\n",
       "      <td>1000_1</td>\n",
       "      <td>2018-08-17</td>\n",
       "      <td>0.00</td>\n",
       "      <td>1000</td>\n",
       "    </tr>\n",
       "    <tr>\n",
       "      <td>2</td>\n",
       "      <td>1000_2</td>\n",
       "      <td>2018-06-11</td>\n",
       "      <td>2.85</td>\n",
       "      <td>1000</td>\n",
       "    </tr>\n",
       "    <tr>\n",
       "      <td>3</td>\n",
       "      <td>1000_3</td>\n",
       "      <td>2018-09-21</td>\n",
       "      <td>13.80</td>\n",
       "      <td>1000</td>\n",
       "    </tr>\n",
       "    <tr>\n",
       "      <td>4</td>\n",
       "      <td>1000_4</td>\n",
       "      <td>2018-12-15</td>\n",
       "      <td>5.18</td>\n",
       "      <td>1000</td>\n",
       "    </tr>\n",
       "    <tr>\n",
       "      <td>...</td>\n",
       "      <td>...</td>\n",
       "      <td>...</td>\n",
       "      <td>...</td>\n",
       "      <td>...</td>\n",
       "    </tr>\n",
       "    <tr>\n",
       "      <td>202602</td>\n",
       "      <td>1499_215</td>\n",
       "      <td>2018-12-26</td>\n",
       "      <td>0.76</td>\n",
       "      <td>1499</td>\n",
       "    </tr>\n",
       "    <tr>\n",
       "      <td>202603</td>\n",
       "      <td>1499_216</td>\n",
       "      <td>2018-10-18</td>\n",
       "      <td>18.83</td>\n",
       "      <td>1499</td>\n",
       "    </tr>\n",
       "    <tr>\n",
       "      <td>202604</td>\n",
       "      <td>1499_217</td>\n",
       "      <td>2018-11-10</td>\n",
       "      <td>10.81</td>\n",
       "      <td>1499</td>\n",
       "    </tr>\n",
       "    <tr>\n",
       "      <td>202605</td>\n",
       "      <td>1499_218</td>\n",
       "      <td>2018-10-06</td>\n",
       "      <td>4.27</td>\n",
       "      <td>1499</td>\n",
       "    </tr>\n",
       "    <tr>\n",
       "      <td>202606</td>\n",
       "      <td>1499_219</td>\n",
       "      <td>2018-12-14</td>\n",
       "      <td>19.62</td>\n",
       "      <td>1499</td>\n",
       "    </tr>\n",
       "  </tbody>\n",
       "</table>\n",
       "<p>202607 rows × 4 columns</p>\n",
       "</div>"
      ],
      "text/plain": [
       "              id   call_date  duration  user_id\n",
       "0         1000_0  2018-07-25      0.00     1000\n",
       "1         1000_1  2018-08-17      0.00     1000\n",
       "2         1000_2  2018-06-11      2.85     1000\n",
       "3         1000_3  2018-09-21     13.80     1000\n",
       "4         1000_4  2018-12-15      5.18     1000\n",
       "...          ...         ...       ...      ...\n",
       "202602  1499_215  2018-12-26      0.76     1499\n",
       "202603  1499_216  2018-10-18     18.83     1499\n",
       "202604  1499_217  2018-11-10     10.81     1499\n",
       "202605  1499_218  2018-10-06      4.27     1499\n",
       "202606  1499_219  2018-12-14     19.62     1499\n",
       "\n",
       "[202607 rows x 4 columns]"
      ]
     },
     "metadata": {},
     "output_type": "display_data"
    }
   ],
   "source": [
    "#смотрим \"звонки\"\n",
    "calls_df.info()\n",
    "display(calls_df.describe())\n",
    "display(calls_df)"
   ]
  },
  {
   "cell_type": "code",
   "execution_count": 4,
   "metadata": {},
   "outputs": [
    {
     "name": "stdout",
     "output_type": "stream",
     "text": [
      "<class 'pandas.core.frame.DataFrame'>\n",
      "RangeIndex: 149396 entries, 0 to 149395\n",
      "Data columns (total 5 columns):\n",
      "Unnamed: 0      149396 non-null int64\n",
      "id              149396 non-null object\n",
      "mb_used         149396 non-null float64\n",
      "session_date    149396 non-null object\n",
      "user_id         149396 non-null int64\n",
      "dtypes: float64(1), int64(2), object(2)\n",
      "memory usage: 5.7+ MB\n"
     ]
    },
    {
     "data": {
      "text/html": [
       "<div>\n",
       "<style scoped>\n",
       "    .dataframe tbody tr th:only-of-type {\n",
       "        vertical-align: middle;\n",
       "    }\n",
       "\n",
       "    .dataframe tbody tr th {\n",
       "        vertical-align: top;\n",
       "    }\n",
       "\n",
       "    .dataframe thead th {\n",
       "        text-align: right;\n",
       "    }\n",
       "</style>\n",
       "<table border=\"1\" class=\"dataframe\">\n",
       "  <thead>\n",
       "    <tr style=\"text-align: right;\">\n",
       "      <th></th>\n",
       "      <th>Unnamed: 0</th>\n",
       "      <th>mb_used</th>\n",
       "      <th>user_id</th>\n",
       "    </tr>\n",
       "  </thead>\n",
       "  <tbody>\n",
       "    <tr>\n",
       "      <td>count</td>\n",
       "      <td>149396.000000</td>\n",
       "      <td>149396.000000</td>\n",
       "      <td>149396.000000</td>\n",
       "    </tr>\n",
       "    <tr>\n",
       "      <td>mean</td>\n",
       "      <td>74697.500000</td>\n",
       "      <td>370.192426</td>\n",
       "      <td>1252.099842</td>\n",
       "    </tr>\n",
       "    <tr>\n",
       "      <td>std</td>\n",
       "      <td>43127.054745</td>\n",
       "      <td>278.300951</td>\n",
       "      <td>144.050823</td>\n",
       "    </tr>\n",
       "    <tr>\n",
       "      <td>min</td>\n",
       "      <td>0.000000</td>\n",
       "      <td>0.000000</td>\n",
       "      <td>1000.000000</td>\n",
       "    </tr>\n",
       "    <tr>\n",
       "      <td>25%</td>\n",
       "      <td>37348.750000</td>\n",
       "      <td>138.187500</td>\n",
       "      <td>1130.000000</td>\n",
       "    </tr>\n",
       "    <tr>\n",
       "      <td>50%</td>\n",
       "      <td>74697.500000</td>\n",
       "      <td>348.015000</td>\n",
       "      <td>1251.000000</td>\n",
       "    </tr>\n",
       "    <tr>\n",
       "      <td>75%</td>\n",
       "      <td>112046.250000</td>\n",
       "      <td>559.552500</td>\n",
       "      <td>1380.000000</td>\n",
       "    </tr>\n",
       "    <tr>\n",
       "      <td>max</td>\n",
       "      <td>149395.000000</td>\n",
       "      <td>1724.830000</td>\n",
       "      <td>1499.000000</td>\n",
       "    </tr>\n",
       "  </tbody>\n",
       "</table>\n",
       "</div>"
      ],
      "text/plain": [
       "          Unnamed: 0        mb_used        user_id\n",
       "count  149396.000000  149396.000000  149396.000000\n",
       "mean    74697.500000     370.192426    1252.099842\n",
       "std     43127.054745     278.300951     144.050823\n",
       "min         0.000000       0.000000    1000.000000\n",
       "25%     37348.750000     138.187500    1130.000000\n",
       "50%     74697.500000     348.015000    1251.000000\n",
       "75%    112046.250000     559.552500    1380.000000\n",
       "max    149395.000000    1724.830000    1499.000000"
      ]
     },
     "metadata": {},
     "output_type": "display_data"
    },
    {
     "data": {
      "text/html": [
       "<div>\n",
       "<style scoped>\n",
       "    .dataframe tbody tr th:only-of-type {\n",
       "        vertical-align: middle;\n",
       "    }\n",
       "\n",
       "    .dataframe tbody tr th {\n",
       "        vertical-align: top;\n",
       "    }\n",
       "\n",
       "    .dataframe thead th {\n",
       "        text-align: right;\n",
       "    }\n",
       "</style>\n",
       "<table border=\"1\" class=\"dataframe\">\n",
       "  <thead>\n",
       "    <tr style=\"text-align: right;\">\n",
       "      <th></th>\n",
       "      <th>Unnamed: 0</th>\n",
       "      <th>id</th>\n",
       "      <th>mb_used</th>\n",
       "      <th>session_date</th>\n",
       "      <th>user_id</th>\n",
       "    </tr>\n",
       "  </thead>\n",
       "  <tbody>\n",
       "    <tr>\n",
       "      <td>0</td>\n",
       "      <td>0</td>\n",
       "      <td>1000_0</td>\n",
       "      <td>112.95</td>\n",
       "      <td>2018-11-25</td>\n",
       "      <td>1000</td>\n",
       "    </tr>\n",
       "    <tr>\n",
       "      <td>1</td>\n",
       "      <td>1</td>\n",
       "      <td>1000_1</td>\n",
       "      <td>1052.81</td>\n",
       "      <td>2018-09-07</td>\n",
       "      <td>1000</td>\n",
       "    </tr>\n",
       "    <tr>\n",
       "      <td>2</td>\n",
       "      <td>2</td>\n",
       "      <td>1000_2</td>\n",
       "      <td>1197.26</td>\n",
       "      <td>2018-06-25</td>\n",
       "      <td>1000</td>\n",
       "    </tr>\n",
       "    <tr>\n",
       "      <td>3</td>\n",
       "      <td>3</td>\n",
       "      <td>1000_3</td>\n",
       "      <td>550.27</td>\n",
       "      <td>2018-08-22</td>\n",
       "      <td>1000</td>\n",
       "    </tr>\n",
       "    <tr>\n",
       "      <td>4</td>\n",
       "      <td>4</td>\n",
       "      <td>1000_4</td>\n",
       "      <td>302.56</td>\n",
       "      <td>2018-09-24</td>\n",
       "      <td>1000</td>\n",
       "    </tr>\n",
       "    <tr>\n",
       "      <td>...</td>\n",
       "      <td>...</td>\n",
       "      <td>...</td>\n",
       "      <td>...</td>\n",
       "      <td>...</td>\n",
       "      <td>...</td>\n",
       "    </tr>\n",
       "    <tr>\n",
       "      <td>149391</td>\n",
       "      <td>149391</td>\n",
       "      <td>1499_152</td>\n",
       "      <td>318.90</td>\n",
       "      <td>2018-10-03</td>\n",
       "      <td>1499</td>\n",
       "    </tr>\n",
       "    <tr>\n",
       "      <td>149392</td>\n",
       "      <td>149392</td>\n",
       "      <td>1499_153</td>\n",
       "      <td>490.13</td>\n",
       "      <td>2018-12-14</td>\n",
       "      <td>1499</td>\n",
       "    </tr>\n",
       "    <tr>\n",
       "      <td>149393</td>\n",
       "      <td>149393</td>\n",
       "      <td>1499_154</td>\n",
       "      <td>0.00</td>\n",
       "      <td>2018-10-27</td>\n",
       "      <td>1499</td>\n",
       "    </tr>\n",
       "    <tr>\n",
       "      <td>149394</td>\n",
       "      <td>149394</td>\n",
       "      <td>1499_155</td>\n",
       "      <td>1246.32</td>\n",
       "      <td>2018-11-26</td>\n",
       "      <td>1499</td>\n",
       "    </tr>\n",
       "    <tr>\n",
       "      <td>149395</td>\n",
       "      <td>149395</td>\n",
       "      <td>1499_156</td>\n",
       "      <td>544.37</td>\n",
       "      <td>2018-10-26</td>\n",
       "      <td>1499</td>\n",
       "    </tr>\n",
       "  </tbody>\n",
       "</table>\n",
       "<p>149396 rows × 5 columns</p>\n",
       "</div>"
      ],
      "text/plain": [
       "        Unnamed: 0        id  mb_used session_date  user_id\n",
       "0                0    1000_0   112.95   2018-11-25     1000\n",
       "1                1    1000_1  1052.81   2018-09-07     1000\n",
       "2                2    1000_2  1197.26   2018-06-25     1000\n",
       "3                3    1000_3   550.27   2018-08-22     1000\n",
       "4                4    1000_4   302.56   2018-09-24     1000\n",
       "...            ...       ...      ...          ...      ...\n",
       "149391      149391  1499_152   318.90   2018-10-03     1499\n",
       "149392      149392  1499_153   490.13   2018-12-14     1499\n",
       "149393      149393  1499_154     0.00   2018-10-27     1499\n",
       "149394      149394  1499_155  1246.32   2018-11-26     1499\n",
       "149395      149395  1499_156   544.37   2018-10-26     1499\n",
       "\n",
       "[149396 rows x 5 columns]"
      ]
     },
     "metadata": {},
     "output_type": "display_data"
    }
   ],
   "source": [
    "#интернет\n",
    "internet_df.info()\n",
    "display(internet_df.describe())\n",
    "display(internet_df)"
   ]
  },
  {
   "cell_type": "code",
   "execution_count": 5,
   "metadata": {},
   "outputs": [
    {
     "name": "stdout",
     "output_type": "stream",
     "text": [
      "<class 'pandas.core.frame.DataFrame'>\n",
      "RangeIndex: 123036 entries, 0 to 123035\n",
      "Data columns (total 3 columns):\n",
      "id              123036 non-null object\n",
      "message_date    123036 non-null object\n",
      "user_id         123036 non-null int64\n",
      "dtypes: int64(1), object(2)\n",
      "memory usage: 2.8+ MB\n"
     ]
    },
    {
     "data": {
      "text/html": [
       "<div>\n",
       "<style scoped>\n",
       "    .dataframe tbody tr th:only-of-type {\n",
       "        vertical-align: middle;\n",
       "    }\n",
       "\n",
       "    .dataframe tbody tr th {\n",
       "        vertical-align: top;\n",
       "    }\n",
       "\n",
       "    .dataframe thead th {\n",
       "        text-align: right;\n",
       "    }\n",
       "</style>\n",
       "<table border=\"1\" class=\"dataframe\">\n",
       "  <thead>\n",
       "    <tr style=\"text-align: right;\">\n",
       "      <th></th>\n",
       "      <th>id</th>\n",
       "      <th>message_date</th>\n",
       "      <th>user_id</th>\n",
       "    </tr>\n",
       "  </thead>\n",
       "  <tbody>\n",
       "    <tr>\n",
       "      <td>0</td>\n",
       "      <td>1000_0</td>\n",
       "      <td>2018-06-27</td>\n",
       "      <td>1000</td>\n",
       "    </tr>\n",
       "    <tr>\n",
       "      <td>1</td>\n",
       "      <td>1000_1</td>\n",
       "      <td>2018-10-08</td>\n",
       "      <td>1000</td>\n",
       "    </tr>\n",
       "    <tr>\n",
       "      <td>2</td>\n",
       "      <td>1000_2</td>\n",
       "      <td>2018-08-04</td>\n",
       "      <td>1000</td>\n",
       "    </tr>\n",
       "    <tr>\n",
       "      <td>3</td>\n",
       "      <td>1000_3</td>\n",
       "      <td>2018-06-16</td>\n",
       "      <td>1000</td>\n",
       "    </tr>\n",
       "    <tr>\n",
       "      <td>4</td>\n",
       "      <td>1000_4</td>\n",
       "      <td>2018-12-05</td>\n",
       "      <td>1000</td>\n",
       "    </tr>\n",
       "    <tr>\n",
       "      <td>...</td>\n",
       "      <td>...</td>\n",
       "      <td>...</td>\n",
       "      <td>...</td>\n",
       "    </tr>\n",
       "    <tr>\n",
       "      <td>123031</td>\n",
       "      <td>1499_179</td>\n",
       "      <td>2018-12-12</td>\n",
       "      <td>1499</td>\n",
       "    </tr>\n",
       "    <tr>\n",
       "      <td>123032</td>\n",
       "      <td>1499_180</td>\n",
       "      <td>2018-09-28</td>\n",
       "      <td>1499</td>\n",
       "    </tr>\n",
       "    <tr>\n",
       "      <td>123033</td>\n",
       "      <td>1499_181</td>\n",
       "      <td>2018-09-27</td>\n",
       "      <td>1499</td>\n",
       "    </tr>\n",
       "    <tr>\n",
       "      <td>123034</td>\n",
       "      <td>1499_182</td>\n",
       "      <td>2018-11-15</td>\n",
       "      <td>1499</td>\n",
       "    </tr>\n",
       "    <tr>\n",
       "      <td>123035</td>\n",
       "      <td>1499_183</td>\n",
       "      <td>2018-11-16</td>\n",
       "      <td>1499</td>\n",
       "    </tr>\n",
       "  </tbody>\n",
       "</table>\n",
       "<p>123036 rows × 3 columns</p>\n",
       "</div>"
      ],
      "text/plain": [
       "              id message_date  user_id\n",
       "0         1000_0   2018-06-27     1000\n",
       "1         1000_1   2018-10-08     1000\n",
       "2         1000_2   2018-08-04     1000\n",
       "3         1000_3   2018-06-16     1000\n",
       "4         1000_4   2018-12-05     1000\n",
       "...          ...          ...      ...\n",
       "123031  1499_179   2018-12-12     1499\n",
       "123032  1499_180   2018-09-28     1499\n",
       "123033  1499_181   2018-09-27     1499\n",
       "123034  1499_182   2018-11-15     1499\n",
       "123035  1499_183   2018-11-16     1499\n",
       "\n",
       "[123036 rows x 3 columns]"
      ]
     },
     "metadata": {},
     "output_type": "display_data"
    }
   ],
   "source": [
    "#сообщения\n",
    "message_df.info()\n",
    "display(message_df)"
   ]
  },
  {
   "cell_type": "code",
   "execution_count": 6,
   "metadata": {},
   "outputs": [
    {
     "name": "stdout",
     "output_type": "stream",
     "text": [
      "<class 'pandas.core.frame.DataFrame'>\n",
      "RangeIndex: 2 entries, 0 to 1\n",
      "Data columns (total 8 columns):\n",
      "messages_included        2 non-null int64\n",
      "mb_per_month_included    2 non-null int64\n",
      "minutes_included         2 non-null int64\n",
      "rub_monthly_fee          2 non-null int64\n",
      "rub_per_gb               2 non-null int64\n",
      "rub_per_message          2 non-null int64\n",
      "rub_per_minute           2 non-null int64\n",
      "tariff_name              2 non-null object\n",
      "dtypes: int64(7), object(1)\n",
      "memory usage: 256.0+ bytes\n"
     ]
    },
    {
     "data": {
      "text/html": [
       "<div>\n",
       "<style scoped>\n",
       "    .dataframe tbody tr th:only-of-type {\n",
       "        vertical-align: middle;\n",
       "    }\n",
       "\n",
       "    .dataframe tbody tr th {\n",
       "        vertical-align: top;\n",
       "    }\n",
       "\n",
       "    .dataframe thead th {\n",
       "        text-align: right;\n",
       "    }\n",
       "</style>\n",
       "<table border=\"1\" class=\"dataframe\">\n",
       "  <thead>\n",
       "    <tr style=\"text-align: right;\">\n",
       "      <th></th>\n",
       "      <th>messages_included</th>\n",
       "      <th>mb_per_month_included</th>\n",
       "      <th>minutes_included</th>\n",
       "      <th>rub_monthly_fee</th>\n",
       "      <th>rub_per_gb</th>\n",
       "      <th>rub_per_message</th>\n",
       "      <th>rub_per_minute</th>\n",
       "      <th>tariff_name</th>\n",
       "    </tr>\n",
       "  </thead>\n",
       "  <tbody>\n",
       "    <tr>\n",
       "      <td>0</td>\n",
       "      <td>50</td>\n",
       "      <td>15360</td>\n",
       "      <td>500</td>\n",
       "      <td>550</td>\n",
       "      <td>200</td>\n",
       "      <td>3</td>\n",
       "      <td>3</td>\n",
       "      <td>smart</td>\n",
       "    </tr>\n",
       "    <tr>\n",
       "      <td>1</td>\n",
       "      <td>1000</td>\n",
       "      <td>30720</td>\n",
       "      <td>3000</td>\n",
       "      <td>1950</td>\n",
       "      <td>150</td>\n",
       "      <td>1</td>\n",
       "      <td>1</td>\n",
       "      <td>ultra</td>\n",
       "    </tr>\n",
       "  </tbody>\n",
       "</table>\n",
       "</div>"
      ],
      "text/plain": [
       "   messages_included  mb_per_month_included  minutes_included  \\\n",
       "0                 50                  15360               500   \n",
       "1               1000                  30720              3000   \n",
       "\n",
       "   rub_monthly_fee  rub_per_gb  rub_per_message  rub_per_minute tariff_name  \n",
       "0              550         200                3               3       smart  \n",
       "1             1950         150                1               1       ultra  "
      ]
     },
     "execution_count": 6,
     "metadata": {},
     "output_type": "execute_result"
    }
   ],
   "source": [
    "#тарифы\n",
    "tariffs_df.info()\n",
    "tariffs_df"
   ]
  },
  {
   "cell_type": "code",
   "execution_count": 7,
   "metadata": {},
   "outputs": [
    {
     "name": "stdout",
     "output_type": "stream",
     "text": [
      "<class 'pandas.core.frame.DataFrame'>\n",
      "RangeIndex: 500 entries, 0 to 499\n",
      "Data columns (total 8 columns):\n",
      "user_id       500 non-null int64\n",
      "age           500 non-null int64\n",
      "churn_date    38 non-null object\n",
      "city          500 non-null object\n",
      "first_name    500 non-null object\n",
      "last_name     500 non-null object\n",
      "reg_date      500 non-null object\n",
      "tariff        500 non-null object\n",
      "dtypes: int64(2), object(6)\n",
      "memory usage: 31.4+ KB\n"
     ]
    },
    {
     "data": {
      "text/html": [
       "<div>\n",
       "<style scoped>\n",
       "    .dataframe tbody tr th:only-of-type {\n",
       "        vertical-align: middle;\n",
       "    }\n",
       "\n",
       "    .dataframe tbody tr th {\n",
       "        vertical-align: top;\n",
       "    }\n",
       "\n",
       "    .dataframe thead th {\n",
       "        text-align: right;\n",
       "    }\n",
       "</style>\n",
       "<table border=\"1\" class=\"dataframe\">\n",
       "  <thead>\n",
       "    <tr style=\"text-align: right;\">\n",
       "      <th></th>\n",
       "      <th>user_id</th>\n",
       "      <th>age</th>\n",
       "      <th>churn_date</th>\n",
       "      <th>city</th>\n",
       "      <th>first_name</th>\n",
       "      <th>last_name</th>\n",
       "      <th>reg_date</th>\n",
       "      <th>tariff</th>\n",
       "    </tr>\n",
       "  </thead>\n",
       "  <tbody>\n",
       "    <tr>\n",
       "      <td>0</td>\n",
       "      <td>1000</td>\n",
       "      <td>52</td>\n",
       "      <td>NaN</td>\n",
       "      <td>Краснодар</td>\n",
       "      <td>Рафаил</td>\n",
       "      <td>Верещагин</td>\n",
       "      <td>2018-05-25</td>\n",
       "      <td>ultra</td>\n",
       "    </tr>\n",
       "    <tr>\n",
       "      <td>1</td>\n",
       "      <td>1001</td>\n",
       "      <td>41</td>\n",
       "      <td>NaN</td>\n",
       "      <td>Москва</td>\n",
       "      <td>Иван</td>\n",
       "      <td>Ежов</td>\n",
       "      <td>2018-11-01</td>\n",
       "      <td>smart</td>\n",
       "    </tr>\n",
       "    <tr>\n",
       "      <td>2</td>\n",
       "      <td>1002</td>\n",
       "      <td>59</td>\n",
       "      <td>NaN</td>\n",
       "      <td>Стерлитамак</td>\n",
       "      <td>Евгений</td>\n",
       "      <td>Абрамович</td>\n",
       "      <td>2018-06-17</td>\n",
       "      <td>smart</td>\n",
       "    </tr>\n",
       "    <tr>\n",
       "      <td>3</td>\n",
       "      <td>1003</td>\n",
       "      <td>23</td>\n",
       "      <td>NaN</td>\n",
       "      <td>Москва</td>\n",
       "      <td>Белла</td>\n",
       "      <td>Белякова</td>\n",
       "      <td>2018-08-17</td>\n",
       "      <td>ultra</td>\n",
       "    </tr>\n",
       "    <tr>\n",
       "      <td>4</td>\n",
       "      <td>1004</td>\n",
       "      <td>68</td>\n",
       "      <td>NaN</td>\n",
       "      <td>Новокузнецк</td>\n",
       "      <td>Татьяна</td>\n",
       "      <td>Авдеенко</td>\n",
       "      <td>2018-05-14</td>\n",
       "      <td>ultra</td>\n",
       "    </tr>\n",
       "    <tr>\n",
       "      <td>...</td>\n",
       "      <td>...</td>\n",
       "      <td>...</td>\n",
       "      <td>...</td>\n",
       "      <td>...</td>\n",
       "      <td>...</td>\n",
       "      <td>...</td>\n",
       "      <td>...</td>\n",
       "      <td>...</td>\n",
       "    </tr>\n",
       "    <tr>\n",
       "      <td>495</td>\n",
       "      <td>1495</td>\n",
       "      <td>65</td>\n",
       "      <td>NaN</td>\n",
       "      <td>Иркутск</td>\n",
       "      <td>Авксентий</td>\n",
       "      <td>Фокин</td>\n",
       "      <td>2018-08-28</td>\n",
       "      <td>ultra</td>\n",
       "    </tr>\n",
       "    <tr>\n",
       "      <td>496</td>\n",
       "      <td>1496</td>\n",
       "      <td>36</td>\n",
       "      <td>NaN</td>\n",
       "      <td>Вологда</td>\n",
       "      <td>Трифон</td>\n",
       "      <td>Блохин</td>\n",
       "      <td>2018-01-27</td>\n",
       "      <td>smart</td>\n",
       "    </tr>\n",
       "    <tr>\n",
       "      <td>497</td>\n",
       "      <td>1497</td>\n",
       "      <td>32</td>\n",
       "      <td>NaN</td>\n",
       "      <td>Челябинск</td>\n",
       "      <td>Каролина</td>\n",
       "      <td>Агеева</td>\n",
       "      <td>2018-10-09</td>\n",
       "      <td>smart</td>\n",
       "    </tr>\n",
       "    <tr>\n",
       "      <td>498</td>\n",
       "      <td>1498</td>\n",
       "      <td>68</td>\n",
       "      <td>2018-10-25</td>\n",
       "      <td>Владикавказ</td>\n",
       "      <td>Всеволод</td>\n",
       "      <td>Акимчин</td>\n",
       "      <td>2018-07-19</td>\n",
       "      <td>smart</td>\n",
       "    </tr>\n",
       "    <tr>\n",
       "      <td>499</td>\n",
       "      <td>1499</td>\n",
       "      <td>35</td>\n",
       "      <td>NaN</td>\n",
       "      <td>Пермь</td>\n",
       "      <td>Гектор</td>\n",
       "      <td>Корнилов</td>\n",
       "      <td>2018-09-27</td>\n",
       "      <td>smart</td>\n",
       "    </tr>\n",
       "  </tbody>\n",
       "</table>\n",
       "<p>500 rows × 8 columns</p>\n",
       "</div>"
      ],
      "text/plain": [
       "     user_id  age  churn_date         city first_name  last_name    reg_date  \\\n",
       "0       1000   52         NaN    Краснодар     Рафаил  Верещагин  2018-05-25   \n",
       "1       1001   41         NaN       Москва       Иван       Ежов  2018-11-01   \n",
       "2       1002   59         NaN  Стерлитамак    Евгений  Абрамович  2018-06-17   \n",
       "3       1003   23         NaN       Москва      Белла   Белякова  2018-08-17   \n",
       "4       1004   68         NaN  Новокузнецк    Татьяна   Авдеенко  2018-05-14   \n",
       "..       ...  ...         ...          ...        ...        ...         ...   \n",
       "495     1495   65         NaN      Иркутск  Авксентий      Фокин  2018-08-28   \n",
       "496     1496   36         NaN      Вологда     Трифон     Блохин  2018-01-27   \n",
       "497     1497   32         NaN    Челябинск   Каролина     Агеева  2018-10-09   \n",
       "498     1498   68  2018-10-25  Владикавказ   Всеволод    Акимчин  2018-07-19   \n",
       "499     1499   35         NaN        Пермь     Гектор   Корнилов  2018-09-27   \n",
       "\n",
       "    tariff  \n",
       "0    ultra  \n",
       "1    smart  \n",
       "2    smart  \n",
       "3    ultra  \n",
       "4    ultra  \n",
       "..     ...  \n",
       "495  ultra  \n",
       "496  smart  \n",
       "497  smart  \n",
       "498  smart  \n",
       "499  smart  \n",
       "\n",
       "[500 rows x 8 columns]"
      ]
     },
     "metadata": {},
     "output_type": "display_data"
    },
    {
     "data": {
      "text/html": [
       "<div>\n",
       "<style scoped>\n",
       "    .dataframe tbody tr th:only-of-type {\n",
       "        vertical-align: middle;\n",
       "    }\n",
       "\n",
       "    .dataframe tbody tr th {\n",
       "        vertical-align: top;\n",
       "    }\n",
       "\n",
       "    .dataframe thead th {\n",
       "        text-align: right;\n",
       "    }\n",
       "</style>\n",
       "<table border=\"1\" class=\"dataframe\">\n",
       "  <thead>\n",
       "    <tr style=\"text-align: right;\">\n",
       "      <th></th>\n",
       "      <th>user_id</th>\n",
       "      <th>age</th>\n",
       "    </tr>\n",
       "  </thead>\n",
       "  <tbody>\n",
       "    <tr>\n",
       "      <td>count</td>\n",
       "      <td>500.000000</td>\n",
       "      <td>500.00000</td>\n",
       "    </tr>\n",
       "    <tr>\n",
       "      <td>mean</td>\n",
       "      <td>1249.500000</td>\n",
       "      <td>46.58800</td>\n",
       "    </tr>\n",
       "    <tr>\n",
       "      <td>std</td>\n",
       "      <td>144.481833</td>\n",
       "      <td>16.66763</td>\n",
       "    </tr>\n",
       "    <tr>\n",
       "      <td>min</td>\n",
       "      <td>1000.000000</td>\n",
       "      <td>18.00000</td>\n",
       "    </tr>\n",
       "    <tr>\n",
       "      <td>25%</td>\n",
       "      <td>1124.750000</td>\n",
       "      <td>32.00000</td>\n",
       "    </tr>\n",
       "    <tr>\n",
       "      <td>50%</td>\n",
       "      <td>1249.500000</td>\n",
       "      <td>46.00000</td>\n",
       "    </tr>\n",
       "    <tr>\n",
       "      <td>75%</td>\n",
       "      <td>1374.250000</td>\n",
       "      <td>62.00000</td>\n",
       "    </tr>\n",
       "    <tr>\n",
       "      <td>max</td>\n",
       "      <td>1499.000000</td>\n",
       "      <td>75.00000</td>\n",
       "    </tr>\n",
       "  </tbody>\n",
       "</table>\n",
       "</div>"
      ],
      "text/plain": [
       "           user_id        age\n",
       "count   500.000000  500.00000\n",
       "mean   1249.500000   46.58800\n",
       "std     144.481833   16.66763\n",
       "min    1000.000000   18.00000\n",
       "25%    1124.750000   32.00000\n",
       "50%    1249.500000   46.00000\n",
       "75%    1374.250000   62.00000\n",
       "max    1499.000000   75.00000"
      ]
     },
     "metadata": {},
     "output_type": "display_data"
    }
   ],
   "source": [
    "#ползователей\n",
    "users_df.info()\n",
    "display(users_df)\n",
    "display(users_df.describe())"
   ]
  },
  {
   "cell_type": "markdown",
   "metadata": {},
   "source": [
    "<h3>Вывод</h3>\n",
    "<ol>\n",
    "    <li>Таблица calls:</li>\n",
    "        <ul>\n",
    "            <li>Столбец id имеет вид: \"<user_id>_<номер звонка>\" (является ли это проблемой...);</li>\n",
    "            <li>call_date имеет тип object;</li>\n",
    "            <li>duration имеет тип float64, не ясно зачем, если округляется в любом случае в большую сторону;</li>\n",
    "        </ul>\n",
    "    <li>Таблица internet:</li>\n",
    "        <ul>\n",
    "            <li>Столбец Unnamed, номер сессии, тот же id, только в непринятом тут виде. Возможно сгенерировался в процессе выгрузки;</li>\n",
    "            <li>session_date имеет тип object;</li>\n",
    "            <li>Трафик в мб;</li>\n",
    "        </ul>\n",
    "    <li>Таблица message:</li>\n",
    "        <ul>\n",
    "        <li>message_date имеет тип object;</li>\n",
    "        </ul>\n",
    "    <li>Таблица users:</li>\n",
    "    <ul>\n",
    "        <li>churn_date и reg_date тип object</li>\n",
    "        <li>Было бы лучше,чтоб было не имя тарифа, а его индефикатор. В наших условиях достаточно переименовать.</li>\n",
    "    </ul>\n",
    "    <li>Таблица tarifs имеет всего две записи, там проблем нет.</li>\n",
    "</ol>"
   ]
  },
  {
   "cell_type": "markdown",
   "metadata": {},
   "source": [
    "<h2>Подготовка данных</h2>"
   ]
  },
  {
   "cell_type": "code",
   "execution_count": 8,
   "metadata": {},
   "outputs": [
    {
     "name": "stdout",
     "output_type": "stream",
     "text": [
      "<class 'pandas.core.frame.DataFrame'>\n",
      "RangeIndex: 202607 entries, 0 to 202606\n",
      "Data columns (total 4 columns):\n",
      "id           202607 non-null object\n",
      "call_date    202607 non-null datetime64[ns]\n",
      "duration     202607 non-null int64\n",
      "user_id      202607 non-null int64\n",
      "dtypes: datetime64[ns](1), int64(2), object(1)\n",
      "memory usage: 6.2+ MB\n"
     ]
    }
   ],
   "source": [
    "calls_df['call_date'] = pd.to_datetime(calls_df['call_date'], format = \"%Y-%m-%d\") #переводим в datatime\n",
    "calls_df['duration'] = calls_df['duration'].apply(np.ceil).astype('int')#применяем округление \"вверх\" и перевод в int \n",
    "calls_df.info()#проверяем"
   ]
  },
  {
   "cell_type": "code",
   "execution_count": 9,
   "metadata": {},
   "outputs": [
    {
     "name": "stdout",
     "output_type": "stream",
     "text": [
      "<class 'pandas.core.frame.DataFrame'>\n",
      "RangeIndex: 149396 entries, 0 to 149395\n",
      "Data columns (total 4 columns):\n",
      "id              149396 non-null object\n",
      "mb_used         149396 non-null float64\n",
      "session_date    149396 non-null datetime64[ns]\n",
      "user_id         149396 non-null int64\n",
      "dtypes: datetime64[ns](1), float64(1), int64(1), object(1)\n",
      "memory usage: 4.6+ MB\n"
     ]
    }
   ],
   "source": [
    "internet_df['session_date'] = pd.to_datetime(internet_df['session_date'], format = \"%Y-%m-%d\")#переводим в datatime\n",
    "internet_df = internet_df.drop(internet_df.columns[0],1)#убираем первый столбец, не нужен\n",
    "internet_df.info()#проверяем"
   ]
  },
  {
   "cell_type": "code",
   "execution_count": 10,
   "metadata": {},
   "outputs": [
    {
     "name": "stdout",
     "output_type": "stream",
     "text": [
      "<class 'pandas.core.frame.DataFrame'>\n",
      "RangeIndex: 123036 entries, 0 to 123035\n",
      "Data columns (total 3 columns):\n",
      "id              123036 non-null object\n",
      "message_date    123036 non-null datetime64[ns]\n",
      "user_id         123036 non-null int64\n",
      "dtypes: datetime64[ns](1), int64(1), object(1)\n",
      "memory usage: 2.8+ MB\n"
     ]
    }
   ],
   "source": [
    "message_df['message_date'] = pd.to_datetime(message_df['message_date'], format = \"%Y-%m-%d\")#переводим в datatime\n",
    "message_df.info()#проверяем"
   ]
  },
  {
   "cell_type": "code",
   "execution_count": 11,
   "metadata": {},
   "outputs": [
    {
     "name": "stdout",
     "output_type": "stream",
     "text": [
      "<class 'pandas.core.frame.DataFrame'>\n",
      "RangeIndex: 500 entries, 0 to 499\n",
      "Data columns (total 8 columns):\n",
      "user_id        500 non-null int64\n",
      "age            500 non-null int64\n",
      "churn_date     38 non-null datetime64[ns]\n",
      "city           500 non-null object\n",
      "first_name     500 non-null object\n",
      "last_name      500 non-null object\n",
      "reg_date       500 non-null datetime64[ns]\n",
      "tariff_name    500 non-null object\n",
      "dtypes: datetime64[ns](2), int64(2), object(4)\n",
      "memory usage: 31.4+ KB\n"
     ]
    }
   ],
   "source": [
    "users_df['churn_date'] = pd.to_datetime(users_df['churn_date'],format = \"%Y-%m-%d\")#переводим в datatime\n",
    "users_df['reg_date'] = pd.to_datetime(users_df['reg_date'],format = \"%Y-%m-%d\")#переводим в datatime\n",
    "users_df = users_df.rename(columns={'tariff':'tariff_name'})#меняем имя столбца\n",
    "users_df.info()#проверяем"
   ]
  },
  {
   "cell_type": "code",
   "execution_count": 12,
   "metadata": {
    "scrolled": true
   },
   "outputs": [
    {
     "data": {
      "text/html": [
       "<div>\n",
       "<style scoped>\n",
       "    .dataframe tbody tr th:only-of-type {\n",
       "        vertical-align: middle;\n",
       "    }\n",
       "\n",
       "    .dataframe tbody tr th {\n",
       "        vertical-align: top;\n",
       "    }\n",
       "\n",
       "    .dataframe thead th {\n",
       "        text-align: right;\n",
       "    }\n",
       "</style>\n",
       "<table border=\"1\" class=\"dataframe\">\n",
       "  <thead>\n",
       "    <tr style=\"text-align: right;\">\n",
       "      <th></th>\n",
       "      <th>id</th>\n",
       "      <th>call_date</th>\n",
       "      <th>duration</th>\n",
       "      <th>user_id</th>\n",
       "      <th>call_month</th>\n",
       "    </tr>\n",
       "  </thead>\n",
       "  <tbody>\n",
       "    <tr>\n",
       "      <td>0</td>\n",
       "      <td>1000_0</td>\n",
       "      <td>2018-07-25</td>\n",
       "      <td>0</td>\n",
       "      <td>1000</td>\n",
       "      <td>7</td>\n",
       "    </tr>\n",
       "    <tr>\n",
       "      <td>1</td>\n",
       "      <td>1000_1</td>\n",
       "      <td>2018-08-17</td>\n",
       "      <td>0</td>\n",
       "      <td>1000</td>\n",
       "      <td>8</td>\n",
       "    </tr>\n",
       "    <tr>\n",
       "      <td>2</td>\n",
       "      <td>1000_2</td>\n",
       "      <td>2018-06-11</td>\n",
       "      <td>3</td>\n",
       "      <td>1000</td>\n",
       "      <td>6</td>\n",
       "    </tr>\n",
       "    <tr>\n",
       "      <td>3</td>\n",
       "      <td>1000_3</td>\n",
       "      <td>2018-09-21</td>\n",
       "      <td>14</td>\n",
       "      <td>1000</td>\n",
       "      <td>9</td>\n",
       "    </tr>\n",
       "    <tr>\n",
       "      <td>4</td>\n",
       "      <td>1000_4</td>\n",
       "      <td>2018-12-15</td>\n",
       "      <td>6</td>\n",
       "      <td>1000</td>\n",
       "      <td>12</td>\n",
       "    </tr>\n",
       "    <tr>\n",
       "      <td>...</td>\n",
       "      <td>...</td>\n",
       "      <td>...</td>\n",
       "      <td>...</td>\n",
       "      <td>...</td>\n",
       "      <td>...</td>\n",
       "    </tr>\n",
       "    <tr>\n",
       "      <td>202602</td>\n",
       "      <td>1499_215</td>\n",
       "      <td>2018-12-26</td>\n",
       "      <td>1</td>\n",
       "      <td>1499</td>\n",
       "      <td>12</td>\n",
       "    </tr>\n",
       "    <tr>\n",
       "      <td>202603</td>\n",
       "      <td>1499_216</td>\n",
       "      <td>2018-10-18</td>\n",
       "      <td>19</td>\n",
       "      <td>1499</td>\n",
       "      <td>10</td>\n",
       "    </tr>\n",
       "    <tr>\n",
       "      <td>202604</td>\n",
       "      <td>1499_217</td>\n",
       "      <td>2018-11-10</td>\n",
       "      <td>11</td>\n",
       "      <td>1499</td>\n",
       "      <td>11</td>\n",
       "    </tr>\n",
       "    <tr>\n",
       "      <td>202605</td>\n",
       "      <td>1499_218</td>\n",
       "      <td>2018-10-06</td>\n",
       "      <td>5</td>\n",
       "      <td>1499</td>\n",
       "      <td>10</td>\n",
       "    </tr>\n",
       "    <tr>\n",
       "      <td>202606</td>\n",
       "      <td>1499_219</td>\n",
       "      <td>2018-12-14</td>\n",
       "      <td>20</td>\n",
       "      <td>1499</td>\n",
       "      <td>12</td>\n",
       "    </tr>\n",
       "  </tbody>\n",
       "</table>\n",
       "<p>202607 rows × 5 columns</p>\n",
       "</div>"
      ],
      "text/plain": [
       "              id  call_date  duration  user_id  call_month\n",
       "0         1000_0 2018-07-25         0     1000           7\n",
       "1         1000_1 2018-08-17         0     1000           8\n",
       "2         1000_2 2018-06-11         3     1000           6\n",
       "3         1000_3 2018-09-21        14     1000           9\n",
       "4         1000_4 2018-12-15         6     1000          12\n",
       "...          ...        ...       ...      ...         ...\n",
       "202602  1499_215 2018-12-26         1     1499          12\n",
       "202603  1499_216 2018-10-18        19     1499          10\n",
       "202604  1499_217 2018-11-10        11     1499          11\n",
       "202605  1499_218 2018-10-06         5     1499          10\n",
       "202606  1499_219 2018-12-14        20     1499          12\n",
       "\n",
       "[202607 rows x 5 columns]"
      ]
     },
     "execution_count": 12,
     "metadata": {},
     "output_type": "execute_result"
    }
   ],
   "source": [
    "calls_df['call_month'] = calls_df['call_date'].dt.month#добавляем столбец с месяцем\n",
    "calls_df#проверяем"
   ]
  },
  {
   "cell_type": "markdown",
   "metadata": {},
   "source": [
    "<h3>Количество сделанных звонков и израсходованных минут разговора по месяцам</h3>"
   ]
  },
  {
   "cell_type": "code",
   "execution_count": 13,
   "metadata": {},
   "outputs": [
    {
     "data": {
      "text/html": [
       "<div>\n",
       "<style scoped>\n",
       "    .dataframe tbody tr th:only-of-type {\n",
       "        vertical-align: middle;\n",
       "    }\n",
       "\n",
       "    .dataframe tbody tr th {\n",
       "        vertical-align: top;\n",
       "    }\n",
       "\n",
       "    .dataframe thead th {\n",
       "        text-align: right;\n",
       "    }\n",
       "</style>\n",
       "<table border=\"1\" class=\"dataframe\">\n",
       "  <thead>\n",
       "    <tr style=\"text-align: right;\">\n",
       "      <th></th>\n",
       "      <th></th>\n",
       "      <th>month_duration</th>\n",
       "      <th>calls_total_in_month</th>\n",
       "    </tr>\n",
       "    <tr>\n",
       "      <th>user_id</th>\n",
       "      <th>call_month</th>\n",
       "      <th></th>\n",
       "      <th></th>\n",
       "    </tr>\n",
       "  </thead>\n",
       "  <tbody>\n",
       "    <tr>\n",
       "      <td rowspan=\"5\" valign=\"top\">1000</td>\n",
       "      <td>5</td>\n",
       "      <td>159</td>\n",
       "      <td>22</td>\n",
       "    </tr>\n",
       "    <tr>\n",
       "      <td>6</td>\n",
       "      <td>172</td>\n",
       "      <td>43</td>\n",
       "    </tr>\n",
       "    <tr>\n",
       "      <td>7</td>\n",
       "      <td>340</td>\n",
       "      <td>47</td>\n",
       "    </tr>\n",
       "    <tr>\n",
       "      <td>8</td>\n",
       "      <td>408</td>\n",
       "      <td>52</td>\n",
       "    </tr>\n",
       "    <tr>\n",
       "      <td>9</td>\n",
       "      <td>466</td>\n",
       "      <td>58</td>\n",
       "    </tr>\n",
       "    <tr>\n",
       "      <td>...</td>\n",
       "      <td>...</td>\n",
       "      <td>...</td>\n",
       "      <td>...</td>\n",
       "    </tr>\n",
       "    <tr>\n",
       "      <td>1498</td>\n",
       "      <td>10</td>\n",
       "      <td>247</td>\n",
       "      <td>41</td>\n",
       "    </tr>\n",
       "    <tr>\n",
       "      <td rowspan=\"4\" valign=\"top\">1499</td>\n",
       "      <td>9</td>\n",
       "      <td>70</td>\n",
       "      <td>9</td>\n",
       "    </tr>\n",
       "    <tr>\n",
       "      <td>10</td>\n",
       "      <td>449</td>\n",
       "      <td>68</td>\n",
       "    </tr>\n",
       "    <tr>\n",
       "      <td>11</td>\n",
       "      <td>612</td>\n",
       "      <td>74</td>\n",
       "    </tr>\n",
       "    <tr>\n",
       "      <td>12</td>\n",
       "      <td>492</td>\n",
       "      <td>69</td>\n",
       "    </tr>\n",
       "  </tbody>\n",
       "</table>\n",
       "<p>3174 rows × 2 columns</p>\n",
       "</div>"
      ],
      "text/plain": [
       "                    month_duration  calls_total_in_month\n",
       "user_id call_month                                      \n",
       "1000    5                      159                    22\n",
       "        6                      172                    43\n",
       "        7                      340                    47\n",
       "        8                      408                    52\n",
       "        9                      466                    58\n",
       "...                            ...                   ...\n",
       "1498    10                     247                    41\n",
       "1499    9                       70                     9\n",
       "        10                     449                    68\n",
       "        11                     612                    74\n",
       "        12                     492                    69\n",
       "\n",
       "[3174 rows x 2 columns]"
      ]
     },
     "execution_count": 13,
     "metadata": {},
     "output_type": "execute_result"
    }
   ],
   "source": [
    "calls_group = calls_df.groupby(\n",
    "    ['user_id', 'call_month']).agg({'duration':'sum', 'id':'count'}).rename(columns={'duration' : 'month_duration','id':'calls_total_in_month'})\n",
    "calls_group "
   ]
  },
  {
   "cell_type": "markdown",
   "metadata": {},
   "source": [
    "<h3>Количество отправленных сообщений по месяцам</h3>"
   ]
  },
  {
   "cell_type": "code",
   "execution_count": 14,
   "metadata": {},
   "outputs": [
    {
     "data": {
      "text/html": [
       "<div>\n",
       "<style scoped>\n",
       "    .dataframe tbody tr th:only-of-type {\n",
       "        vertical-align: middle;\n",
       "    }\n",
       "\n",
       "    .dataframe tbody tr th {\n",
       "        vertical-align: top;\n",
       "    }\n",
       "\n",
       "    .dataframe thead th {\n",
       "        text-align: right;\n",
       "    }\n",
       "</style>\n",
       "<table border=\"1\" class=\"dataframe\">\n",
       "  <thead>\n",
       "    <tr style=\"text-align: right;\">\n",
       "      <th></th>\n",
       "      <th></th>\n",
       "      <th>message_total_in_month</th>\n",
       "    </tr>\n",
       "    <tr>\n",
       "      <th>user_id</th>\n",
       "      <th>message_month</th>\n",
       "      <th></th>\n",
       "    </tr>\n",
       "  </thead>\n",
       "  <tbody>\n",
       "    <tr>\n",
       "      <td rowspan=\"5\" valign=\"top\">1000</td>\n",
       "      <td>5</td>\n",
       "      <td>22</td>\n",
       "    </tr>\n",
       "    <tr>\n",
       "      <td>6</td>\n",
       "      <td>60</td>\n",
       "    </tr>\n",
       "    <tr>\n",
       "      <td>7</td>\n",
       "      <td>75</td>\n",
       "    </tr>\n",
       "    <tr>\n",
       "      <td>8</td>\n",
       "      <td>81</td>\n",
       "    </tr>\n",
       "    <tr>\n",
       "      <td>9</td>\n",
       "      <td>57</td>\n",
       "    </tr>\n",
       "    <tr>\n",
       "      <td>...</td>\n",
       "      <td>...</td>\n",
       "      <td>...</td>\n",
       "    </tr>\n",
       "    <tr>\n",
       "      <td>1498</td>\n",
       "      <td>10</td>\n",
       "      <td>42</td>\n",
       "    </tr>\n",
       "    <tr>\n",
       "      <td rowspan=\"4\" valign=\"top\">1499</td>\n",
       "      <td>9</td>\n",
       "      <td>11</td>\n",
       "    </tr>\n",
       "    <tr>\n",
       "      <td>10</td>\n",
       "      <td>48</td>\n",
       "    </tr>\n",
       "    <tr>\n",
       "      <td>11</td>\n",
       "      <td>59</td>\n",
       "    </tr>\n",
       "    <tr>\n",
       "      <td>12</td>\n",
       "      <td>66</td>\n",
       "    </tr>\n",
       "  </tbody>\n",
       "</table>\n",
       "<p>2717 rows × 1 columns</p>\n",
       "</div>"
      ],
      "text/plain": [
       "                       message_total_in_month\n",
       "user_id message_month                        \n",
       "1000    5                                  22\n",
       "        6                                  60\n",
       "        7                                  75\n",
       "        8                                  81\n",
       "        9                                  57\n",
       "...                                       ...\n",
       "1498    10                                 42\n",
       "1499    9                                  11\n",
       "        10                                 48\n",
       "        11                                 59\n",
       "        12                                 66\n",
       "\n",
       "[2717 rows x 1 columns]"
      ]
     },
     "execution_count": 14,
     "metadata": {},
     "output_type": "execute_result"
    }
   ],
   "source": [
    "message_df['message_month'] = message_df['message_date'].dt.month\n",
    "message_group = message_df.groupby(\n",
    "    ['user_id', 'message_month']).agg({'id':'count'}).rename(columns={'id':'message_total_in_month'})\n",
    "message_group "
   ]
  },
  {
   "cell_type": "markdown",
   "metadata": {},
   "source": [
    "<h3>Объем израсходованного интернет-трафика по месяцам</h3>"
   ]
  },
  {
   "cell_type": "code",
   "execution_count": 15,
   "metadata": {},
   "outputs": [
    {
     "data": {
      "text/html": [
       "<div>\n",
       "<style scoped>\n",
       "    .dataframe tbody tr th:only-of-type {\n",
       "        vertical-align: middle;\n",
       "    }\n",
       "\n",
       "    .dataframe tbody tr th {\n",
       "        vertical-align: top;\n",
       "    }\n",
       "\n",
       "    .dataframe thead th {\n",
       "        text-align: right;\n",
       "    }\n",
       "</style>\n",
       "<table border=\"1\" class=\"dataframe\">\n",
       "  <thead>\n",
       "    <tr style=\"text-align: right;\">\n",
       "      <th></th>\n",
       "      <th></th>\n",
       "      <th>mb_total_in_month</th>\n",
       "    </tr>\n",
       "    <tr>\n",
       "      <th>user_id</th>\n",
       "      <th>session_month</th>\n",
       "      <th></th>\n",
       "    </tr>\n",
       "  </thead>\n",
       "  <tbody>\n",
       "    <tr>\n",
       "      <td rowspan=\"5\" valign=\"top\">1000</td>\n",
       "      <td>5</td>\n",
       "      <td>2253.49</td>\n",
       "    </tr>\n",
       "    <tr>\n",
       "      <td>6</td>\n",
       "      <td>23233.77</td>\n",
       "    </tr>\n",
       "    <tr>\n",
       "      <td>7</td>\n",
       "      <td>14003.64</td>\n",
       "    </tr>\n",
       "    <tr>\n",
       "      <td>8</td>\n",
       "      <td>14055.93</td>\n",
       "    </tr>\n",
       "    <tr>\n",
       "      <td>9</td>\n",
       "      <td>14568.91</td>\n",
       "    </tr>\n",
       "    <tr>\n",
       "      <td>...</td>\n",
       "      <td>...</td>\n",
       "      <td>...</td>\n",
       "    </tr>\n",
       "    <tr>\n",
       "      <td>1498</td>\n",
       "      <td>10</td>\n",
       "      <td>20579.36</td>\n",
       "    </tr>\n",
       "    <tr>\n",
       "      <td rowspan=\"4\" valign=\"top\">1499</td>\n",
       "      <td>9</td>\n",
       "      <td>1845.75</td>\n",
       "    </tr>\n",
       "    <tr>\n",
       "      <td>10</td>\n",
       "      <td>17788.51</td>\n",
       "    </tr>\n",
       "    <tr>\n",
       "      <td>11</td>\n",
       "      <td>17963.31</td>\n",
       "    </tr>\n",
       "    <tr>\n",
       "      <td>12</td>\n",
       "      <td>13055.58</td>\n",
       "    </tr>\n",
       "  </tbody>\n",
       "</table>\n",
       "<p>3203 rows × 1 columns</p>\n",
       "</div>"
      ],
      "text/plain": [
       "                       mb_total_in_month\n",
       "user_id session_month                   \n",
       "1000    5                        2253.49\n",
       "        6                       23233.77\n",
       "        7                       14003.64\n",
       "        8                       14055.93\n",
       "        9                       14568.91\n",
       "...                                  ...\n",
       "1498    10                      20579.36\n",
       "1499    9                        1845.75\n",
       "        10                      17788.51\n",
       "        11                      17963.31\n",
       "        12                      13055.58\n",
       "\n",
       "[3203 rows x 1 columns]"
      ]
     },
     "execution_count": 15,
     "metadata": {},
     "output_type": "execute_result"
    }
   ],
   "source": [
    "internet_df['session_month'] = internet_df['session_date'].dt.month\n",
    "internet_group = internet_df.groupby(\n",
    "    ['user_id', 'session_month']).agg({'mb_used':'sum'}).rename(columns={'mb_used':'mb_total_in_month'})\n",
    "#internet_group['gb_total_in_month'] = internet_group['mb_total_in_month']/1024\n",
    "#internet_group['gb_total_in_month'] = internet_group['gb_total_in_month'].apply(np.ceil).astype('int')\n",
    "internet_group "
   ]
  },
  {
   "cell_type": "markdown",
   "metadata": {},
   "source": [
    "<h3>Считаем помесячную выручку</h3>"
   ]
  },
  {
   "cell_type": "code",
   "execution_count": 16,
   "metadata": {},
   "outputs": [
    {
     "data": {
      "text/html": [
       "<div>\n",
       "<style scoped>\n",
       "    .dataframe tbody tr th:only-of-type {\n",
       "        vertical-align: middle;\n",
       "    }\n",
       "\n",
       "    .dataframe tbody tr th {\n",
       "        vertical-align: top;\n",
       "    }\n",
       "\n",
       "    .dataframe thead th {\n",
       "        text-align: right;\n",
       "    }\n",
       "</style>\n",
       "<table border=\"1\" class=\"dataframe\">\n",
       "  <thead>\n",
       "    <tr style=\"text-align: right;\">\n",
       "      <th></th>\n",
       "      <th>user_id</th>\n",
       "      <th>month_duration</th>\n",
       "      <th>calls_total_in_month</th>\n",
       "      <th>mb_total_in_month</th>\n",
       "      <th>message_total_in_month</th>\n",
       "      <th>age</th>\n",
       "      <th>churn_date</th>\n",
       "      <th>city</th>\n",
       "      <th>first_name</th>\n",
       "      <th>last_name</th>\n",
       "      <th>reg_date</th>\n",
       "      <th>tariff_name</th>\n",
       "      <th>messages_included</th>\n",
       "      <th>mb_per_month_included</th>\n",
       "      <th>minutes_included</th>\n",
       "      <th>rub_monthly_fee</th>\n",
       "      <th>rub_per_gb</th>\n",
       "      <th>rub_per_message</th>\n",
       "      <th>rub_per_minute</th>\n",
       "    </tr>\n",
       "  </thead>\n",
       "  <tbody>\n",
       "    <tr>\n",
       "      <td>0</td>\n",
       "      <td>1000</td>\n",
       "      <td>159.0</td>\n",
       "      <td>22.0</td>\n",
       "      <td>2253.49</td>\n",
       "      <td>22.0</td>\n",
       "      <td>52</td>\n",
       "      <td>NaT</td>\n",
       "      <td>Краснодар</td>\n",
       "      <td>Рафаил</td>\n",
       "      <td>Верещагин</td>\n",
       "      <td>2018-05-25</td>\n",
       "      <td>ultra</td>\n",
       "      <td>1000</td>\n",
       "      <td>30720</td>\n",
       "      <td>3000</td>\n",
       "      <td>1950</td>\n",
       "      <td>150</td>\n",
       "      <td>1</td>\n",
       "      <td>1</td>\n",
       "    </tr>\n",
       "    <tr>\n",
       "      <td>1</td>\n",
       "      <td>1000</td>\n",
       "      <td>172.0</td>\n",
       "      <td>43.0</td>\n",
       "      <td>23233.77</td>\n",
       "      <td>60.0</td>\n",
       "      <td>52</td>\n",
       "      <td>NaT</td>\n",
       "      <td>Краснодар</td>\n",
       "      <td>Рафаил</td>\n",
       "      <td>Верещагин</td>\n",
       "      <td>2018-05-25</td>\n",
       "      <td>ultra</td>\n",
       "      <td>1000</td>\n",
       "      <td>30720</td>\n",
       "      <td>3000</td>\n",
       "      <td>1950</td>\n",
       "      <td>150</td>\n",
       "      <td>1</td>\n",
       "      <td>1</td>\n",
       "    </tr>\n",
       "    <tr>\n",
       "      <td>2</td>\n",
       "      <td>1000</td>\n",
       "      <td>340.0</td>\n",
       "      <td>47.0</td>\n",
       "      <td>14003.64</td>\n",
       "      <td>75.0</td>\n",
       "      <td>52</td>\n",
       "      <td>NaT</td>\n",
       "      <td>Краснодар</td>\n",
       "      <td>Рафаил</td>\n",
       "      <td>Верещагин</td>\n",
       "      <td>2018-05-25</td>\n",
       "      <td>ultra</td>\n",
       "      <td>1000</td>\n",
       "      <td>30720</td>\n",
       "      <td>3000</td>\n",
       "      <td>1950</td>\n",
       "      <td>150</td>\n",
       "      <td>1</td>\n",
       "      <td>1</td>\n",
       "    </tr>\n",
       "    <tr>\n",
       "      <td>3</td>\n",
       "      <td>1000</td>\n",
       "      <td>408.0</td>\n",
       "      <td>52.0</td>\n",
       "      <td>14055.93</td>\n",
       "      <td>81.0</td>\n",
       "      <td>52</td>\n",
       "      <td>NaT</td>\n",
       "      <td>Краснодар</td>\n",
       "      <td>Рафаил</td>\n",
       "      <td>Верещагин</td>\n",
       "      <td>2018-05-25</td>\n",
       "      <td>ultra</td>\n",
       "      <td>1000</td>\n",
       "      <td>30720</td>\n",
       "      <td>3000</td>\n",
       "      <td>1950</td>\n",
       "      <td>150</td>\n",
       "      <td>1</td>\n",
       "      <td>1</td>\n",
       "    </tr>\n",
       "    <tr>\n",
       "      <td>4</td>\n",
       "      <td>1000</td>\n",
       "      <td>466.0</td>\n",
       "      <td>58.0</td>\n",
       "      <td>14568.91</td>\n",
       "      <td>57.0</td>\n",
       "      <td>52</td>\n",
       "      <td>NaT</td>\n",
       "      <td>Краснодар</td>\n",
       "      <td>Рафаил</td>\n",
       "      <td>Верещагин</td>\n",
       "      <td>2018-05-25</td>\n",
       "      <td>ultra</td>\n",
       "      <td>1000</td>\n",
       "      <td>30720</td>\n",
       "      <td>3000</td>\n",
       "      <td>1950</td>\n",
       "      <td>150</td>\n",
       "      <td>1</td>\n",
       "      <td>1</td>\n",
       "    </tr>\n",
       "    <tr>\n",
       "      <td>...</td>\n",
       "      <td>...</td>\n",
       "      <td>...</td>\n",
       "      <td>...</td>\n",
       "      <td>...</td>\n",
       "      <td>...</td>\n",
       "      <td>...</td>\n",
       "      <td>...</td>\n",
       "      <td>...</td>\n",
       "      <td>...</td>\n",
       "      <td>...</td>\n",
       "      <td>...</td>\n",
       "      <td>...</td>\n",
       "      <td>...</td>\n",
       "      <td>...</td>\n",
       "      <td>...</td>\n",
       "      <td>...</td>\n",
       "      <td>...</td>\n",
       "      <td>...</td>\n",
       "      <td>...</td>\n",
       "    </tr>\n",
       "    <tr>\n",
       "      <td>3169</td>\n",
       "      <td>1498</td>\n",
       "      <td>247.0</td>\n",
       "      <td>41.0</td>\n",
       "      <td>20579.36</td>\n",
       "      <td>42.0</td>\n",
       "      <td>68</td>\n",
       "      <td>2018-10-25</td>\n",
       "      <td>Владикавказ</td>\n",
       "      <td>Всеволод</td>\n",
       "      <td>Акимчин</td>\n",
       "      <td>2018-07-19</td>\n",
       "      <td>smart</td>\n",
       "      <td>50</td>\n",
       "      <td>15360</td>\n",
       "      <td>500</td>\n",
       "      <td>550</td>\n",
       "      <td>200</td>\n",
       "      <td>3</td>\n",
       "      <td>3</td>\n",
       "    </tr>\n",
       "    <tr>\n",
       "      <td>3170</td>\n",
       "      <td>1499</td>\n",
       "      <td>70.0</td>\n",
       "      <td>9.0</td>\n",
       "      <td>1845.75</td>\n",
       "      <td>11.0</td>\n",
       "      <td>35</td>\n",
       "      <td>NaT</td>\n",
       "      <td>Пермь</td>\n",
       "      <td>Гектор</td>\n",
       "      <td>Корнилов</td>\n",
       "      <td>2018-09-27</td>\n",
       "      <td>smart</td>\n",
       "      <td>50</td>\n",
       "      <td>15360</td>\n",
       "      <td>500</td>\n",
       "      <td>550</td>\n",
       "      <td>200</td>\n",
       "      <td>3</td>\n",
       "      <td>3</td>\n",
       "    </tr>\n",
       "    <tr>\n",
       "      <td>3171</td>\n",
       "      <td>1499</td>\n",
       "      <td>449.0</td>\n",
       "      <td>68.0</td>\n",
       "      <td>17788.51</td>\n",
       "      <td>48.0</td>\n",
       "      <td>35</td>\n",
       "      <td>NaT</td>\n",
       "      <td>Пермь</td>\n",
       "      <td>Гектор</td>\n",
       "      <td>Корнилов</td>\n",
       "      <td>2018-09-27</td>\n",
       "      <td>smart</td>\n",
       "      <td>50</td>\n",
       "      <td>15360</td>\n",
       "      <td>500</td>\n",
       "      <td>550</td>\n",
       "      <td>200</td>\n",
       "      <td>3</td>\n",
       "      <td>3</td>\n",
       "    </tr>\n",
       "    <tr>\n",
       "      <td>3172</td>\n",
       "      <td>1499</td>\n",
       "      <td>612.0</td>\n",
       "      <td>74.0</td>\n",
       "      <td>17963.31</td>\n",
       "      <td>59.0</td>\n",
       "      <td>35</td>\n",
       "      <td>NaT</td>\n",
       "      <td>Пермь</td>\n",
       "      <td>Гектор</td>\n",
       "      <td>Корнилов</td>\n",
       "      <td>2018-09-27</td>\n",
       "      <td>smart</td>\n",
       "      <td>50</td>\n",
       "      <td>15360</td>\n",
       "      <td>500</td>\n",
       "      <td>550</td>\n",
       "      <td>200</td>\n",
       "      <td>3</td>\n",
       "      <td>3</td>\n",
       "    </tr>\n",
       "    <tr>\n",
       "      <td>3173</td>\n",
       "      <td>1499</td>\n",
       "      <td>492.0</td>\n",
       "      <td>69.0</td>\n",
       "      <td>13055.58</td>\n",
       "      <td>66.0</td>\n",
       "      <td>35</td>\n",
       "      <td>NaT</td>\n",
       "      <td>Пермь</td>\n",
       "      <td>Гектор</td>\n",
       "      <td>Корнилов</td>\n",
       "      <td>2018-09-27</td>\n",
       "      <td>smart</td>\n",
       "      <td>50</td>\n",
       "      <td>15360</td>\n",
       "      <td>500</td>\n",
       "      <td>550</td>\n",
       "      <td>200</td>\n",
       "      <td>3</td>\n",
       "      <td>3</td>\n",
       "    </tr>\n",
       "  </tbody>\n",
       "</table>\n",
       "<p>3174 rows × 19 columns</p>\n",
       "</div>"
      ],
      "text/plain": [
       "      user_id  month_duration  calls_total_in_month  mb_total_in_month  \\\n",
       "0        1000           159.0                  22.0            2253.49   \n",
       "1        1000           172.0                  43.0           23233.77   \n",
       "2        1000           340.0                  47.0           14003.64   \n",
       "3        1000           408.0                  52.0           14055.93   \n",
       "4        1000           466.0                  58.0           14568.91   \n",
       "...       ...             ...                   ...                ...   \n",
       "3169     1498           247.0                  41.0           20579.36   \n",
       "3170     1499            70.0                   9.0            1845.75   \n",
       "3171     1499           449.0                  68.0           17788.51   \n",
       "3172     1499           612.0                  74.0           17963.31   \n",
       "3173     1499           492.0                  69.0           13055.58   \n",
       "\n",
       "      message_total_in_month  age churn_date         city first_name  \\\n",
       "0                       22.0   52        NaT    Краснодар     Рафаил   \n",
       "1                       60.0   52        NaT    Краснодар     Рафаил   \n",
       "2                       75.0   52        NaT    Краснодар     Рафаил   \n",
       "3                       81.0   52        NaT    Краснодар     Рафаил   \n",
       "4                       57.0   52        NaT    Краснодар     Рафаил   \n",
       "...                      ...  ...        ...          ...        ...   \n",
       "3169                    42.0   68 2018-10-25  Владикавказ   Всеволод   \n",
       "3170                    11.0   35        NaT        Пермь     Гектор   \n",
       "3171                    48.0   35        NaT        Пермь     Гектор   \n",
       "3172                    59.0   35        NaT        Пермь     Гектор   \n",
       "3173                    66.0   35        NaT        Пермь     Гектор   \n",
       "\n",
       "      last_name   reg_date tariff_name  messages_included  \\\n",
       "0     Верещагин 2018-05-25       ultra               1000   \n",
       "1     Верещагин 2018-05-25       ultra               1000   \n",
       "2     Верещагин 2018-05-25       ultra               1000   \n",
       "3     Верещагин 2018-05-25       ultra               1000   \n",
       "4     Верещагин 2018-05-25       ultra               1000   \n",
       "...         ...        ...         ...                ...   \n",
       "3169    Акимчин 2018-07-19       smart                 50   \n",
       "3170   Корнилов 2018-09-27       smart                 50   \n",
       "3171   Корнилов 2018-09-27       smart                 50   \n",
       "3172   Корнилов 2018-09-27       smart                 50   \n",
       "3173   Корнилов 2018-09-27       smart                 50   \n",
       "\n",
       "      mb_per_month_included  minutes_included  rub_monthly_fee  rub_per_gb  \\\n",
       "0                     30720              3000             1950         150   \n",
       "1                     30720              3000             1950         150   \n",
       "2                     30720              3000             1950         150   \n",
       "3                     30720              3000             1950         150   \n",
       "4                     30720              3000             1950         150   \n",
       "...                     ...               ...              ...         ...   \n",
       "3169                  15360               500              550         200   \n",
       "3170                  15360               500              550         200   \n",
       "3171                  15360               500              550         200   \n",
       "3172                  15360               500              550         200   \n",
       "3173                  15360               500              550         200   \n",
       "\n",
       "      rub_per_message  rub_per_minute  \n",
       "0                   1               1  \n",
       "1                   1               1  \n",
       "2                   1               1  \n",
       "3                   1               1  \n",
       "4                   1               1  \n",
       "...               ...             ...  \n",
       "3169                3               3  \n",
       "3170                3               3  \n",
       "3171                3               3  \n",
       "3172                3               3  \n",
       "3173                3               3  \n",
       "\n",
       "[3174 rows x 19 columns]"
      ]
     },
     "execution_count": 16,
     "metadata": {},
     "output_type": "execute_result"
    }
   ],
   "source": [
    "total_stats = calls_group.join([internet_group, message_group])#Собираем все три таблицы\n",
    "total_stats = total_stats.merge(users_df, on = 'user_id', how = 'left')#добавляем данные пользователей\n",
    "total_stats = total_stats.merge(tariffs_df, on = 'tariff_name', how = 'left')#тарифы\n",
    "total_stats"
   ]
  },
  {
   "cell_type": "code",
   "execution_count": 30,
   "metadata": {
    "scrolled": true
   },
   "outputs": [
    {
     "data": {
      "text/plain": [
       "492"
      ]
     },
     "execution_count": 30,
     "metadata": {},
     "output_type": "execute_result"
    }
   ],
   "source": [
    "total_stats.user_id.nunique()"
   ]
  },
  {
   "cell_type": "code",
   "execution_count": 17,
   "metadata": {},
   "outputs": [],
   "source": [
    "def income_month(row): #функция для подсчета выручки, принимает строку\n",
    "    message_income = ((row['message_total_in_month'] - row['messages_included']) * row['rub_per_message'])# по сообщениям\n",
    "    call_income = ((row['month_duration'] - row['minutes_included']) * row['rub_per_minute'])# по звонкам\n",
    "    gb = np.ceil((row['mb_total_in_month'] - row['mb_per_month_included'])/1024)#считаем израсходованный трафик, переводим в gb и округляем \"вверх\"\n",
    "    internet_income = gb * row['rub_per_gb']#считаем выручку по интернету\n",
    "    income = 0\n",
    "    \n",
    "    for i in [message_income, call_income,internet_income]: #цикл по переменным, для проверки каждого на положительные значение и сложения\n",
    "        if i>0:\n",
    "            income+=i\n",
    "    return income + row['rub_monthly_fee']\n"
   ]
  },
  {
   "cell_type": "code",
   "execution_count": 18,
   "metadata": {},
   "outputs": [
    {
     "data": {
      "text/html": [
       "<div>\n",
       "<style scoped>\n",
       "    .dataframe tbody tr th:only-of-type {\n",
       "        vertical-align: middle;\n",
       "    }\n",
       "\n",
       "    .dataframe tbody tr th {\n",
       "        vertical-align: top;\n",
       "    }\n",
       "\n",
       "    .dataframe thead th {\n",
       "        text-align: right;\n",
       "    }\n",
       "</style>\n",
       "<table border=\"1\" class=\"dataframe\">\n",
       "  <thead>\n",
       "    <tr style=\"text-align: right;\">\n",
       "      <th></th>\n",
       "      <th>user_id</th>\n",
       "      <th>month_duration</th>\n",
       "      <th>calls_total_in_month</th>\n",
       "      <th>mb_total_in_month</th>\n",
       "      <th>message_total_in_month</th>\n",
       "      <th>age</th>\n",
       "      <th>churn_date</th>\n",
       "      <th>city</th>\n",
       "      <th>first_name</th>\n",
       "      <th>last_name</th>\n",
       "      <th>reg_date</th>\n",
       "      <th>tariff_name</th>\n",
       "      <th>messages_included</th>\n",
       "      <th>mb_per_month_included</th>\n",
       "      <th>minutes_included</th>\n",
       "      <th>rub_monthly_fee</th>\n",
       "      <th>rub_per_gb</th>\n",
       "      <th>rub_per_message</th>\n",
       "      <th>rub_per_minute</th>\n",
       "      <th>income_month</th>\n",
       "    </tr>\n",
       "  </thead>\n",
       "  <tbody>\n",
       "    <tr>\n",
       "      <td>0</td>\n",
       "      <td>1000</td>\n",
       "      <td>159.0</td>\n",
       "      <td>22.0</td>\n",
       "      <td>2253.49</td>\n",
       "      <td>22.0</td>\n",
       "      <td>52</td>\n",
       "      <td>NaT</td>\n",
       "      <td>Краснодар</td>\n",
       "      <td>Рафаил</td>\n",
       "      <td>Верещагин</td>\n",
       "      <td>2018-05-25</td>\n",
       "      <td>ultra</td>\n",
       "      <td>1000</td>\n",
       "      <td>30720</td>\n",
       "      <td>3000</td>\n",
       "      <td>1950</td>\n",
       "      <td>150</td>\n",
       "      <td>1</td>\n",
       "      <td>1</td>\n",
       "      <td>1950.0</td>\n",
       "    </tr>\n",
       "    <tr>\n",
       "      <td>1</td>\n",
       "      <td>1000</td>\n",
       "      <td>172.0</td>\n",
       "      <td>43.0</td>\n",
       "      <td>23233.77</td>\n",
       "      <td>60.0</td>\n",
       "      <td>52</td>\n",
       "      <td>NaT</td>\n",
       "      <td>Краснодар</td>\n",
       "      <td>Рафаил</td>\n",
       "      <td>Верещагин</td>\n",
       "      <td>2018-05-25</td>\n",
       "      <td>ultra</td>\n",
       "      <td>1000</td>\n",
       "      <td>30720</td>\n",
       "      <td>3000</td>\n",
       "      <td>1950</td>\n",
       "      <td>150</td>\n",
       "      <td>1</td>\n",
       "      <td>1</td>\n",
       "      <td>1950.0</td>\n",
       "    </tr>\n",
       "    <tr>\n",
       "      <td>2</td>\n",
       "      <td>1000</td>\n",
       "      <td>340.0</td>\n",
       "      <td>47.0</td>\n",
       "      <td>14003.64</td>\n",
       "      <td>75.0</td>\n",
       "      <td>52</td>\n",
       "      <td>NaT</td>\n",
       "      <td>Краснодар</td>\n",
       "      <td>Рафаил</td>\n",
       "      <td>Верещагин</td>\n",
       "      <td>2018-05-25</td>\n",
       "      <td>ultra</td>\n",
       "      <td>1000</td>\n",
       "      <td>30720</td>\n",
       "      <td>3000</td>\n",
       "      <td>1950</td>\n",
       "      <td>150</td>\n",
       "      <td>1</td>\n",
       "      <td>1</td>\n",
       "      <td>1950.0</td>\n",
       "    </tr>\n",
       "    <tr>\n",
       "      <td>3</td>\n",
       "      <td>1000</td>\n",
       "      <td>408.0</td>\n",
       "      <td>52.0</td>\n",
       "      <td>14055.93</td>\n",
       "      <td>81.0</td>\n",
       "      <td>52</td>\n",
       "      <td>NaT</td>\n",
       "      <td>Краснодар</td>\n",
       "      <td>Рафаил</td>\n",
       "      <td>Верещагин</td>\n",
       "      <td>2018-05-25</td>\n",
       "      <td>ultra</td>\n",
       "      <td>1000</td>\n",
       "      <td>30720</td>\n",
       "      <td>3000</td>\n",
       "      <td>1950</td>\n",
       "      <td>150</td>\n",
       "      <td>1</td>\n",
       "      <td>1</td>\n",
       "      <td>1950.0</td>\n",
       "    </tr>\n",
       "    <tr>\n",
       "      <td>4</td>\n",
       "      <td>1000</td>\n",
       "      <td>466.0</td>\n",
       "      <td>58.0</td>\n",
       "      <td>14568.91</td>\n",
       "      <td>57.0</td>\n",
       "      <td>52</td>\n",
       "      <td>NaT</td>\n",
       "      <td>Краснодар</td>\n",
       "      <td>Рафаил</td>\n",
       "      <td>Верещагин</td>\n",
       "      <td>2018-05-25</td>\n",
       "      <td>ultra</td>\n",
       "      <td>1000</td>\n",
       "      <td>30720</td>\n",
       "      <td>3000</td>\n",
       "      <td>1950</td>\n",
       "      <td>150</td>\n",
       "      <td>1</td>\n",
       "      <td>1</td>\n",
       "      <td>1950.0</td>\n",
       "    </tr>\n",
       "    <tr>\n",
       "      <td>...</td>\n",
       "      <td>...</td>\n",
       "      <td>...</td>\n",
       "      <td>...</td>\n",
       "      <td>...</td>\n",
       "      <td>...</td>\n",
       "      <td>...</td>\n",
       "      <td>...</td>\n",
       "      <td>...</td>\n",
       "      <td>...</td>\n",
       "      <td>...</td>\n",
       "      <td>...</td>\n",
       "      <td>...</td>\n",
       "      <td>...</td>\n",
       "      <td>...</td>\n",
       "      <td>...</td>\n",
       "      <td>...</td>\n",
       "      <td>...</td>\n",
       "      <td>...</td>\n",
       "      <td>...</td>\n",
       "      <td>...</td>\n",
       "    </tr>\n",
       "    <tr>\n",
       "      <td>3169</td>\n",
       "      <td>1498</td>\n",
       "      <td>247.0</td>\n",
       "      <td>41.0</td>\n",
       "      <td>20579.36</td>\n",
       "      <td>42.0</td>\n",
       "      <td>68</td>\n",
       "      <td>2018-10-25</td>\n",
       "      <td>Владикавказ</td>\n",
       "      <td>Всеволод</td>\n",
       "      <td>Акимчин</td>\n",
       "      <td>2018-07-19</td>\n",
       "      <td>smart</td>\n",
       "      <td>50</td>\n",
       "      <td>15360</td>\n",
       "      <td>500</td>\n",
       "      <td>550</td>\n",
       "      <td>200</td>\n",
       "      <td>3</td>\n",
       "      <td>3</td>\n",
       "      <td>1750.0</td>\n",
       "    </tr>\n",
       "    <tr>\n",
       "      <td>3170</td>\n",
       "      <td>1499</td>\n",
       "      <td>70.0</td>\n",
       "      <td>9.0</td>\n",
       "      <td>1845.75</td>\n",
       "      <td>11.0</td>\n",
       "      <td>35</td>\n",
       "      <td>NaT</td>\n",
       "      <td>Пермь</td>\n",
       "      <td>Гектор</td>\n",
       "      <td>Корнилов</td>\n",
       "      <td>2018-09-27</td>\n",
       "      <td>smart</td>\n",
       "      <td>50</td>\n",
       "      <td>15360</td>\n",
       "      <td>500</td>\n",
       "      <td>550</td>\n",
       "      <td>200</td>\n",
       "      <td>3</td>\n",
       "      <td>3</td>\n",
       "      <td>550.0</td>\n",
       "    </tr>\n",
       "    <tr>\n",
       "      <td>3171</td>\n",
       "      <td>1499</td>\n",
       "      <td>449.0</td>\n",
       "      <td>68.0</td>\n",
       "      <td>17788.51</td>\n",
       "      <td>48.0</td>\n",
       "      <td>35</td>\n",
       "      <td>NaT</td>\n",
       "      <td>Пермь</td>\n",
       "      <td>Гектор</td>\n",
       "      <td>Корнилов</td>\n",
       "      <td>2018-09-27</td>\n",
       "      <td>smart</td>\n",
       "      <td>50</td>\n",
       "      <td>15360</td>\n",
       "      <td>500</td>\n",
       "      <td>550</td>\n",
       "      <td>200</td>\n",
       "      <td>3</td>\n",
       "      <td>3</td>\n",
       "      <td>1150.0</td>\n",
       "    </tr>\n",
       "    <tr>\n",
       "      <td>3172</td>\n",
       "      <td>1499</td>\n",
       "      <td>612.0</td>\n",
       "      <td>74.0</td>\n",
       "      <td>17963.31</td>\n",
       "      <td>59.0</td>\n",
       "      <td>35</td>\n",
       "      <td>NaT</td>\n",
       "      <td>Пермь</td>\n",
       "      <td>Гектор</td>\n",
       "      <td>Корнилов</td>\n",
       "      <td>2018-09-27</td>\n",
       "      <td>smart</td>\n",
       "      <td>50</td>\n",
       "      <td>15360</td>\n",
       "      <td>500</td>\n",
       "      <td>550</td>\n",
       "      <td>200</td>\n",
       "      <td>3</td>\n",
       "      <td>3</td>\n",
       "      <td>1513.0</td>\n",
       "    </tr>\n",
       "    <tr>\n",
       "      <td>3173</td>\n",
       "      <td>1499</td>\n",
       "      <td>492.0</td>\n",
       "      <td>69.0</td>\n",
       "      <td>13055.58</td>\n",
       "      <td>66.0</td>\n",
       "      <td>35</td>\n",
       "      <td>NaT</td>\n",
       "      <td>Пермь</td>\n",
       "      <td>Гектор</td>\n",
       "      <td>Корнилов</td>\n",
       "      <td>2018-09-27</td>\n",
       "      <td>smart</td>\n",
       "      <td>50</td>\n",
       "      <td>15360</td>\n",
       "      <td>500</td>\n",
       "      <td>550</td>\n",
       "      <td>200</td>\n",
       "      <td>3</td>\n",
       "      <td>3</td>\n",
       "      <td>598.0</td>\n",
       "    </tr>\n",
       "  </tbody>\n",
       "</table>\n",
       "<p>3174 rows × 20 columns</p>\n",
       "</div>"
      ],
      "text/plain": [
       "      user_id  month_duration  calls_total_in_month  mb_total_in_month  \\\n",
       "0        1000           159.0                  22.0            2253.49   \n",
       "1        1000           172.0                  43.0           23233.77   \n",
       "2        1000           340.0                  47.0           14003.64   \n",
       "3        1000           408.0                  52.0           14055.93   \n",
       "4        1000           466.0                  58.0           14568.91   \n",
       "...       ...             ...                   ...                ...   \n",
       "3169     1498           247.0                  41.0           20579.36   \n",
       "3170     1499            70.0                   9.0            1845.75   \n",
       "3171     1499           449.0                  68.0           17788.51   \n",
       "3172     1499           612.0                  74.0           17963.31   \n",
       "3173     1499           492.0                  69.0           13055.58   \n",
       "\n",
       "      message_total_in_month  age churn_date         city first_name  \\\n",
       "0                       22.0   52        NaT    Краснодар     Рафаил   \n",
       "1                       60.0   52        NaT    Краснодар     Рафаил   \n",
       "2                       75.0   52        NaT    Краснодар     Рафаил   \n",
       "3                       81.0   52        NaT    Краснодар     Рафаил   \n",
       "4                       57.0   52        NaT    Краснодар     Рафаил   \n",
       "...                      ...  ...        ...          ...        ...   \n",
       "3169                    42.0   68 2018-10-25  Владикавказ   Всеволод   \n",
       "3170                    11.0   35        NaT        Пермь     Гектор   \n",
       "3171                    48.0   35        NaT        Пермь     Гектор   \n",
       "3172                    59.0   35        NaT        Пермь     Гектор   \n",
       "3173                    66.0   35        NaT        Пермь     Гектор   \n",
       "\n",
       "      last_name   reg_date tariff_name  messages_included  \\\n",
       "0     Верещагин 2018-05-25       ultra               1000   \n",
       "1     Верещагин 2018-05-25       ultra               1000   \n",
       "2     Верещагин 2018-05-25       ultra               1000   \n",
       "3     Верещагин 2018-05-25       ultra               1000   \n",
       "4     Верещагин 2018-05-25       ultra               1000   \n",
       "...         ...        ...         ...                ...   \n",
       "3169    Акимчин 2018-07-19       smart                 50   \n",
       "3170   Корнилов 2018-09-27       smart                 50   \n",
       "3171   Корнилов 2018-09-27       smart                 50   \n",
       "3172   Корнилов 2018-09-27       smart                 50   \n",
       "3173   Корнилов 2018-09-27       smart                 50   \n",
       "\n",
       "      mb_per_month_included  minutes_included  rub_monthly_fee  rub_per_gb  \\\n",
       "0                     30720              3000             1950         150   \n",
       "1                     30720              3000             1950         150   \n",
       "2                     30720              3000             1950         150   \n",
       "3                     30720              3000             1950         150   \n",
       "4                     30720              3000             1950         150   \n",
       "...                     ...               ...              ...         ...   \n",
       "3169                  15360               500              550         200   \n",
       "3170                  15360               500              550         200   \n",
       "3171                  15360               500              550         200   \n",
       "3172                  15360               500              550         200   \n",
       "3173                  15360               500              550         200   \n",
       "\n",
       "      rub_per_message  rub_per_minute  income_month  \n",
       "0                   1               1        1950.0  \n",
       "1                   1               1        1950.0  \n",
       "2                   1               1        1950.0  \n",
       "3                   1               1        1950.0  \n",
       "4                   1               1        1950.0  \n",
       "...               ...             ...           ...  \n",
       "3169                3               3        1750.0  \n",
       "3170                3               3         550.0  \n",
       "3171                3               3        1150.0  \n",
       "3172                3               3        1513.0  \n",
       "3173                3               3         598.0  \n",
       "\n",
       "[3174 rows x 20 columns]"
      ]
     },
     "execution_count": 18,
     "metadata": {},
     "output_type": "execute_result"
    }
   ],
   "source": [
    "total_stats['income_month'] = total_stats.apply(lambda x: income_month(x), axis=1)#добовляем столбец и применяем к нему функцию income_month\n",
    "total_stats"
   ]
  },
  {
   "cell_type": "code",
   "execution_count": 31,
   "metadata": {},
   "outputs": [
    {
     "data": {
      "text/plain": [
       "count    3174.000000\n",
       "mean     1524.622243\n",
       "std       800.439524\n",
       "min       550.000000\n",
       "25%       750.000000\n",
       "50%      1623.000000\n",
       "75%      1950.000000\n",
       "max      6770.000000\n",
       "Name: income_month, dtype: float64"
      ]
     },
     "execution_count": 31,
     "metadata": {},
     "output_type": "execute_result"
    }
   ],
   "source": [
    "total_stats['income_month'].describe()"
   ]
  },
  {
   "cell_type": "markdown",
   "metadata": {},
   "source": [
    "<h2>Анализ данныз</h2>"
   ]
  },
  {
   "cell_type": "code",
   "execution_count": 19,
   "metadata": {},
   "outputs": [
    {
     "data": {
      "text/plain": [
       "user_id                      0\n",
       "month_duration               0\n",
       "calls_total_in_month         0\n",
       "mb_total_in_month           11\n",
       "message_total_in_month     496\n",
       "age                          0\n",
       "churn_date                2987\n",
       "city                         0\n",
       "first_name                   0\n",
       "last_name                    0\n",
       "reg_date                     0\n",
       "tariff_name                  0\n",
       "messages_included            0\n",
       "mb_per_month_included        0\n",
       "minutes_included             0\n",
       "rub_monthly_fee              0\n",
       "rub_per_gb                   0\n",
       "rub_per_message              0\n",
       "rub_per_minute               0\n",
       "income_month                 0\n",
       "dtype: int64"
      ]
     },
     "execution_count": 19,
     "metadata": {},
     "output_type": "execute_result"
    }
   ],
   "source": [
    "total_stats.isna().sum() #смотрим на наличие Nan значений"
   ]
  },
  {
   "cell_type": "markdown",
   "metadata": {},
   "source": [
    "Не удивительно, есть люди которые не пользуются sms,удобнее использовать мессенждеры, и интернетом, не поддерживает устройство.\n",
    "\"Занулим\" эти значения."
   ]
  },
  {
   "cell_type": "code",
   "execution_count": 20,
   "metadata": {},
   "outputs": [
    {
     "data": {
      "text/plain": [
       "user_id                      0\n",
       "month_duration               0\n",
       "calls_total_in_month         0\n",
       "mb_total_in_month            0\n",
       "message_total_in_month       0\n",
       "age                          0\n",
       "churn_date                2987\n",
       "city                         0\n",
       "first_name                   0\n",
       "last_name                    0\n",
       "reg_date                     0\n",
       "tariff_name                  0\n",
       "messages_included            0\n",
       "mb_per_month_included        0\n",
       "minutes_included             0\n",
       "rub_monthly_fee              0\n",
       "rub_per_gb                   0\n",
       "rub_per_message              0\n",
       "rub_per_minute               0\n",
       "income_month                 0\n",
       "dtype: int64"
      ]
     },
     "execution_count": 20,
     "metadata": {},
     "output_type": "execute_result"
    }
   ],
   "source": [
    "total_stats['mb_total_in_month'] = total_stats['mb_total_in_month'].fillna(0)\n",
    "total_stats['message_total_in_month'] = total_stats['message_total_in_month'].fillna(0)\n",
    "total_stats.isna().sum()"
   ]
  },
  {
   "cell_type": "code",
   "execution_count": 21,
   "metadata": {},
   "outputs": [
    {
     "data": {
      "text/plain": [
       "count    3174.000000\n",
       "mean     1524.622243\n",
       "std       800.439524\n",
       "min       550.000000\n",
       "25%       750.000000\n",
       "50%      1623.000000\n",
       "75%      1950.000000\n",
       "max      6770.000000\n",
       "Name: income_month, dtype: float64"
      ]
     },
     "execution_count": 21,
     "metadata": {},
     "output_type": "execute_result"
    }
   ],
   "source": [
    "total_stats['income_month'].describe()"
   ]
  },
  {
   "cell_type": "code",
   "execution_count": 22,
   "metadata": {},
   "outputs": [
    {
     "data": {
      "image/png": "[encoded data removed]",
      "text/plain": [
       "<Figure size 720x360 with 2 Axes>"
      ]
     },
     "metadata": {
      "needs_background": "light"
     },
     "output_type": "display_data"
    },
    {
     "data": {
      "text/html": [
       "<style  type=\"text/css\" >\n",
       "</style><table id=\"T_1ae1e45a_2809_11ec_8530_02420a394bdb\" ><thead>    <tr>        <th class=\"blank level0\" ></th>        <th class=\"col_heading level0 col0\" colspan=6>income_month</th>    </tr>    <tr>        <th class=\"blank level1\" ></th>        <th class=\"col_heading level1 col0\" >median</th>        <th class=\"col_heading level1 col1\" >mean</th>        <th class=\"col_heading level1 col2\" >var</th>        <th class=\"col_heading level1 col3\" >std</th>        <th class=\"col_heading level1 col4\" >count</th>        <th class=\"col_heading level1 col5\" >sum</th>    </tr>    <tr>        <th class=\"index_name level0\" >tariff_name</th>        <th class=\"blank\" ></th>        <th class=\"blank\" ></th>        <th class=\"blank\" ></th>        <th class=\"blank\" ></th>        <th class=\"blank\" ></th>        <th class=\"blank\" ></th>    </tr></thead><tbody>\n",
       "                <tr>\n",
       "                        <th id=\"T_1ae1e45a_2809_11ec_8530_02420a394bdblevel0_row0\" class=\"row_heading level0 row0\" >smart</th>\n",
       "                        <td id=\"T_1ae1e45a_2809_11ec_8530_02420a394bdbrow0_col0\" class=\"data row0 col0\" >1030.00</td>\n",
       "                        <td id=\"T_1ae1e45a_2809_11ec_8530_02420a394bdbrow0_col1\" class=\"data row0 col1\" >1290.89</td>\n",
       "                        <td id=\"T_1ae1e45a_2809_11ec_8530_02420a394bdbrow0_col2\" class=\"data row0 col2\" >670957.33</td>\n",
       "                        <td id=\"T_1ae1e45a_2809_11ec_8530_02420a394bdbrow0_col3\" class=\"data row0 col3\" >819.12</td>\n",
       "                        <td id=\"T_1ae1e45a_2809_11ec_8530_02420a394bdbrow0_col4\" class=\"data row0 col4\" >2223.00</td>\n",
       "                        <td id=\"T_1ae1e45a_2809_11ec_8530_02420a394bdbrow0_col5\" class=\"data row0 col5\" >2869651.00</td>\n",
       "            </tr>\n",
       "            <tr>\n",
       "                        <th id=\"T_1ae1e45a_2809_11ec_8530_02420a394bdblevel0_row1\" class=\"row_heading level0 row1\" >ultra</th>\n",
       "                        <td id=\"T_1ae1e45a_2809_11ec_8530_02420a394bdbrow1_col0\" class=\"data row1 col0\" >1950.00</td>\n",
       "                        <td id=\"T_1ae1e45a_2809_11ec_8530_02420a394bdbrow1_col1\" class=\"data row1 col1\" >2070.98</td>\n",
       "                        <td id=\"T_1ae1e45a_2809_11ec_8530_02420a394bdbrow1_col2\" class=\"data row1 col2\" >143962.10</td>\n",
       "                        <td id=\"T_1ae1e45a_2809_11ec_8530_02420a394bdbrow1_col3\" class=\"data row1 col3\" >379.42</td>\n",
       "                        <td id=\"T_1ae1e45a_2809_11ec_8530_02420a394bdbrow1_col4\" class=\"data row1 col4\" >951.00</td>\n",
       "                        <td id=\"T_1ae1e45a_2809_11ec_8530_02420a394bdbrow1_col5\" class=\"data row1 col5\" >1969500.00</td>\n",
       "            </tr>\n",
       "    </tbody></table>"
      ],
      "text/plain": [
       "<pandas.io.formats.style.Styler at 0x7f280749bbd0>"
      ]
     },
     "metadata": {},
     "output_type": "display_data"
    }
   ],
   "source": [
    "def view_hist_tarrif(df,col,b, title):\n",
    "    fig, axes = plt.subplots(1,2, figsize=(10,5))\n",
    "    df[df['tariff_name'] == 'ultra'][col].plot(\n",
    "        kind='hist',bins=b,title = 'Тариф \"Ultra\"', ax=axes[0])    \n",
    "    df[df['tariff_name'] == 'smart'][col].plot(\n",
    "        kind='hist',bins=b,title = 'Тариф \"Smart\"', ax=axes[1])\n",
    "    axes[0].set_xlabel(title)\n",
    "    axes[1].set_xlabel(title)\n",
    "    plt.show()\n",
    "    display(total_stats.groupby('tariff_name').agg({col : ['median','mean','var','std', 'count','sum']}).style.format('{:.2f}'))\n",
    "    \n",
    "view_hist_tarrif(total_stats,'income_month',20,'Выручка за месяц')\n"
   ]
  },
  {
   "cell_type": "markdown",
   "metadata": {},
   "source": [
    "В обоих случаях большенство не выходят за лимиты тарифа, но чаще пользователи тарифа \"Smart\" выходят за пределы тех самых лимитов"
   ]
  },
  {
   "cell_type": "code",
   "execution_count": 23,
   "metadata": {},
   "outputs": [
    {
     "data": {
      "image/png": "[encoded data removed]",
      "text/plain": [
       "<Figure size 720x360 with 2 Axes>"
      ]
     },
     "metadata": {
      "needs_background": "light"
     },
     "output_type": "display_data"
    },
    {
     "data": {
      "text/html": [
       "<style  type=\"text/css\" >\n",
       "</style><table id=\"T_1b57e0a6_2809_11ec_8530_02420a394bdb\" ><thead>    <tr>        <th class=\"blank level0\" ></th>        <th class=\"col_heading level0 col0\" colspan=6>month_duration</th>    </tr>    <tr>        <th class=\"blank level1\" ></th>        <th class=\"col_heading level1 col0\" >median</th>        <th class=\"col_heading level1 col1\" >mean</th>        <th class=\"col_heading level1 col2\" >var</th>        <th class=\"col_heading level1 col3\" >std</th>        <th class=\"col_heading level1 col4\" >count</th>        <th class=\"col_heading level1 col5\" >sum</th>    </tr>    <tr>        <th class=\"index_name level0\" >tariff_name</th>        <th class=\"blank\" ></th>        <th class=\"blank\" ></th>        <th class=\"blank\" ></th>        <th class=\"blank\" ></th>        <th class=\"blank\" ></th>        <th class=\"blank\" ></th>    </tr></thead><tbody>\n",
       "                <tr>\n",
       "                        <th id=\"T_1b57e0a6_2809_11ec_8530_02420a394bdblevel0_row0\" class=\"row_heading level0 row0\" >smart</th>\n",
       "                        <td id=\"T_1b57e0a6_2809_11ec_8530_02420a394bdbrow0_col0\" class=\"data row0 col0\" >423.00</td>\n",
       "                        <td id=\"T_1b57e0a6_2809_11ec_8530_02420a394bdbrow0_col1\" class=\"data row0 col1\" >419.06</td>\n",
       "                        <td id=\"T_1b57e0a6_2809_11ec_8530_02420a394bdbrow0_col2\" class=\"data row0 col2\" >35844.19</td>\n",
       "                        <td id=\"T_1b57e0a6_2809_11ec_8530_02420a394bdbrow0_col3\" class=\"data row0 col3\" >189.33</td>\n",
       "                        <td id=\"T_1b57e0a6_2809_11ec_8530_02420a394bdbrow0_col4\" class=\"data row0 col4\" >2223.00</td>\n",
       "                        <td id=\"T_1b57e0a6_2809_11ec_8530_02420a394bdbrow0_col5\" class=\"data row0 col5\" >931577.00</td>\n",
       "            </tr>\n",
       "            <tr>\n",
       "                        <th id=\"T_1b57e0a6_2809_11ec_8530_02420a394bdblevel0_row1\" class=\"row_heading level0 row1\" >ultra</th>\n",
       "                        <td id=\"T_1b57e0a6_2809_11ec_8530_02420a394bdbrow1_col0\" class=\"data row1 col0\" >528.00</td>\n",
       "                        <td id=\"T_1b57e0a6_2809_11ec_8530_02420a394bdbrow1_col1\" class=\"data row1 col1\" >545.45</td>\n",
       "                        <td id=\"T_1b57e0a6_2809_11ec_8530_02420a394bdbrow1_col2\" class=\"data row1 col2\" >94203.42</td>\n",
       "                        <td id=\"T_1b57e0a6_2809_11ec_8530_02420a394bdbrow1_col3\" class=\"data row1 col3\" >306.93</td>\n",
       "                        <td id=\"T_1b57e0a6_2809_11ec_8530_02420a394bdbrow1_col4\" class=\"data row1 col4\" >951.00</td>\n",
       "                        <td id=\"T_1b57e0a6_2809_11ec_8530_02420a394bdbrow1_col5\" class=\"data row1 col5\" >518724.00</td>\n",
       "            </tr>\n",
       "    </tbody></table>"
      ],
      "text/plain": [
       "<pandas.io.formats.style.Styler at 0x7f2807484090>"
      ]
     },
     "metadata": {},
     "output_type": "display_data"
    }
   ],
   "source": [
    "view_hist_tarrif(total_stats,'month_duration',100,'Кол-во минут в месяц')"
   ]
  },
  {
   "cell_type": "markdown",
   "metadata": {},
   "source": [
    "В целом разговаривают примерно одинаково, пользователи Ultra редко даже половину лимита выбирают, отклонение выше в 1.5 раза."
   ]
  },
  {
   "cell_type": "code",
   "execution_count": 24,
   "metadata": {},
   "outputs": [
    {
     "data": {
      "image/png": "[encoded data removed]",
      "text/plain": [
       "<Figure size 720x360 with 2 Axes>"
      ]
     },
     "metadata": {
      "needs_background": "light"
     },
     "output_type": "display_data"
    },
    {
     "data": {
      "text/html": [
       "<style  type=\"text/css\" >\n",
       "</style><table id=\"T_1ba34bb8_2809_11ec_8530_02420a394bdb\" ><thead>    <tr>        <th class=\"blank level0\" ></th>        <th class=\"col_heading level0 col0\" colspan=6>message_total_in_month</th>    </tr>    <tr>        <th class=\"blank level1\" ></th>        <th class=\"col_heading level1 col0\" >median</th>        <th class=\"col_heading level1 col1\" >mean</th>        <th class=\"col_heading level1 col2\" >var</th>        <th class=\"col_heading level1 col3\" >std</th>        <th class=\"col_heading level1 col4\" >count</th>        <th class=\"col_heading level1 col5\" >sum</th>    </tr>    <tr>        <th class=\"index_name level0\" >tariff_name</th>        <th class=\"blank\" ></th>        <th class=\"blank\" ></th>        <th class=\"blank\" ></th>        <th class=\"blank\" ></th>        <th class=\"blank\" ></th>        <th class=\"blank\" ></th>    </tr></thead><tbody>\n",
       "                <tr>\n",
       "                        <th id=\"T_1ba34bb8_2809_11ec_8530_02420a394bdblevel0_row0\" class=\"row_heading level0 row0\" >smart</th>\n",
       "                        <td id=\"T_1ba34bb8_2809_11ec_8530_02420a394bdbrow0_col0\" class=\"data row0 col0\" >28.00</td>\n",
       "                        <td id=\"T_1ba34bb8_2809_11ec_8530_02420a394bdbrow0_col1\" class=\"data row0 col1\" >33.40</td>\n",
       "                        <td id=\"T_1ba34bb8_2809_11ec_8530_02420a394bdbrow0_col2\" class=\"data row0 col2\" >798.60</td>\n",
       "                        <td id=\"T_1ba34bb8_2809_11ec_8530_02420a394bdbrow0_col3\" class=\"data row0 col3\" >28.26</td>\n",
       "                        <td id=\"T_1ba34bb8_2809_11ec_8530_02420a394bdbrow0_col4\" class=\"data row0 col4\" >2223.00</td>\n",
       "                        <td id=\"T_1ba34bb8_2809_11ec_8530_02420a394bdbrow0_col5\" class=\"data row0 col5\" >74240.00</td>\n",
       "            </tr>\n",
       "            <tr>\n",
       "                        <th id=\"T_1ba34bb8_2809_11ec_8530_02420a394bdblevel0_row1\" class=\"row_heading level0 row1\" >ultra</th>\n",
       "                        <td id=\"T_1ba34bb8_2809_11ec_8530_02420a394bdbrow1_col0\" class=\"data row1 col0\" >39.00</td>\n",
       "                        <td id=\"T_1ba34bb8_2809_11ec_8530_02420a394bdbrow1_col1\" class=\"data row1 col1\" >49.03</td>\n",
       "                        <td id=\"T_1ba34bb8_2809_11ec_8530_02420a394bdbrow1_col2\" class=\"data row1 col2\" >2198.73</td>\n",
       "                        <td id=\"T_1ba34bb8_2809_11ec_8530_02420a394bdbrow1_col3\" class=\"data row1 col3\" >46.89</td>\n",
       "                        <td id=\"T_1ba34bb8_2809_11ec_8530_02420a394bdbrow1_col4\" class=\"data row1 col4\" >951.00</td>\n",
       "                        <td id=\"T_1ba34bb8_2809_11ec_8530_02420a394bdbrow1_col5\" class=\"data row1 col5\" >46631.00</td>\n",
       "            </tr>\n",
       "    </tbody></table>"
      ],
      "text/plain": [
       "<pandas.io.formats.style.Styler at 0x7f2807394fd0>"
      ]
     },
     "metadata": {},
     "output_type": "display_data"
    }
   ],
   "source": [
    "view_hist_tarrif(total_stats,'message_total_in_month',50,'Кол-во сообщений в месяц')"
   ]
  },
  {
   "cell_type": "markdown",
   "metadata": {},
   "source": [
    "Очень не популярны sms в обоих группах"
   ]
  },
  {
   "cell_type": "code",
   "execution_count": 25,
   "metadata": {},
   "outputs": [
    {
     "data": {
      "image/png": "[encoded data removed]",
      "text/plain": [
       "<Figure size 720x360 with 2 Axes>"
      ]
     },
     "metadata": {
      "needs_background": "light"
     },
     "output_type": "display_data"
    },
    {
     "data": {
      "text/html": [
       "<style  type=\"text/css\" >\n",
       "</style><table id=\"T_1c048a40_2809_11ec_8530_02420a394bdb\" ><thead>    <tr>        <th class=\"blank level0\" ></th>        <th class=\"col_heading level0 col0\" colspan=6>mb_total_in_month</th>    </tr>    <tr>        <th class=\"blank level1\" ></th>        <th class=\"col_heading level1 col0\" >median</th>        <th class=\"col_heading level1 col1\" >mean</th>        <th class=\"col_heading level1 col2\" >var</th>        <th class=\"col_heading level1 col3\" >std</th>        <th class=\"col_heading level1 col4\" >count</th>        <th class=\"col_heading level1 col5\" >sum</th>    </tr>    <tr>        <th class=\"index_name level0\" >tariff_name</th>        <th class=\"blank\" ></th>        <th class=\"blank\" ></th>        <th class=\"blank\" ></th>        <th class=\"blank\" ></th>        <th class=\"blank\" ></th>        <th class=\"blank\" ></th>    </tr></thead><tbody>\n",
       "                <tr>\n",
       "                        <th id=\"T_1c048a40_2809_11ec_8530_02420a394bdblevel0_row0\" class=\"row_heading level0 row0\" >smart</th>\n",
       "                        <td id=\"T_1c048a40_2809_11ec_8530_02420a394bdbrow0_col0\" class=\"data row0 col0\" >16504.11</td>\n",
       "                        <td id=\"T_1c048a40_2809_11ec_8530_02420a394bdbrow0_col1\" class=\"data row0 col1\" >16209.37</td>\n",
       "                        <td id=\"T_1c048a40_2809_11ec_8530_02420a394bdbrow0_col2\" class=\"data row0 col2\" >34530398.10</td>\n",
       "                        <td id=\"T_1c048a40_2809_11ec_8530_02420a394bdbrow0_col3\" class=\"data row0 col3\" >5876.26</td>\n",
       "                        <td id=\"T_1c048a40_2809_11ec_8530_02420a394bdbrow0_col4\" class=\"data row0 col4\" >2223.00</td>\n",
       "                        <td id=\"T_1c048a40_2809_11ec_8530_02420a394bdbrow0_col5\" class=\"data row0 col5\" >36033421.35</td>\n",
       "            </tr>\n",
       "            <tr>\n",
       "                        <th id=\"T_1c048a40_2809_11ec_8530_02420a394bdblevel0_row1\" class=\"row_heading level0 row1\" >ultra</th>\n",
       "                        <td id=\"T_1c048a40_2809_11ec_8530_02420a394bdbrow1_col0\" class=\"data row1 col0\" >19352.48</td>\n",
       "                        <td id=\"T_1c048a40_2809_11ec_8530_02420a394bdbrow1_col1\" class=\"data row1 col1\" >19462.46</td>\n",
       "                        <td id=\"T_1c048a40_2809_11ec_8530_02420a394bdbrow1_col2\" class=\"data row1 col2\" >102552491.79</td>\n",
       "                        <td id=\"T_1c048a40_2809_11ec_8530_02420a394bdbrow1_col3\" class=\"data row1 col3\" >10126.82</td>\n",
       "                        <td id=\"T_1c048a40_2809_11ec_8530_02420a394bdbrow1_col4\" class=\"data row1 col4\" >951.00</td>\n",
       "                        <td id=\"T_1c048a40_2809_11ec_8530_02420a394bdbrow1_col5\" class=\"data row1 col5\" >18508795.87</td>\n",
       "            </tr>\n",
       "    </tbody></table>"
      ],
      "text/plain": [
       "<pandas.io.formats.style.Styler at 0x7f2869cbc310>"
      ]
     },
     "metadata": {},
     "output_type": "display_data"
    }
   ],
   "source": [
    "view_hist_tarrif(total_stats,'mb_total_in_month',100,'Кол-во трафика в месяц, мб')"
   ]
  },
  {
   "cell_type": "markdown",
   "metadata": {},
   "source": [
    "Графики очень похожи на графики по длительности звонков. Такое же распределение. Единственное 0 значений относительно много в Ultra, так же тут есть значения близкие к лимиту. В Smart пик как раз на лимите трафика. "
   ]
  },
  {
   "cell_type": "markdown",
   "metadata": {},
   "source": [
    "<h2>Проверка гипотез</h2>"
   ]
  },
  {
   "cell_type": "code",
   "execution_count": 26,
   "metadata": {},
   "outputs": [],
   "source": [
    "def clean_df(df): #функция очистки от выбросов методом 3х сигм\n",
    "    std_df = df.std() \n",
    "    mean_df = df.mean()\n",
    "    return df[(df >= (std_df*3)-mean_df) & (df <= (std_df*3)+mean_df)]\n",
    "    \n",
    "def h0_test(df_1,df_2,hyp, alpha): #функция для проверки гипотезы\n",
    "    result = st.ttest_ind(clean_df(df_1),clean_df(df_2))\n",
    "    print('Нулевая гипотеза:',hyp)\n",
    "    print('p-значение:', result.pvalue)\n",
    "    if (result.pvalue < alpha):\n",
    "        return 'Отвергаем нулевую гипотезу'\n",
    "    else:\n",
    "        return 'Не получилось отвергнуть нулевую гипотезу'"
   ]
  },
  {
   "cell_type": "markdown",
   "metadata": {},
   "source": [
    "Гипотеза №1:\n",
    "Средняя выручка пользователей тарифов «Ультра» и «Смарт» различаются\n",
    "\n",
    "Нулевая гипотеза: Средняя выручка пользователей тарифов «Ультра» и «Смарт» равна."
   ]
  },
  {
   "cell_type": "code",
   "execution_count": 27,
   "metadata": {},
   "outputs": [
    {
     "name": "stdout",
     "output_type": "stream",
     "text": [
      "Нулевая гипотеза: Средняя выручка пользователей тарифов «Ультра» и «Смарт» равны\n",
      "p-значение: 0.02578039969368108\n",
      "Отвергаем нулевую гипотезу\n"
     ]
    }
   ],
   "source": [
    "alpha = 0.05\n",
    "hyp0 = 'Средняя выручка пользователей тарифов «Ультра» и «Смарт» равны' #нулевая гипотеза \n",
    "smart_df = total_stats[total_stats['tariff_name'] == 'smart']['income_month']\n",
    "ultra_df = total_stats[total_stats['tariff_name'] == 'ultra']['income_month']\n",
    "\n",
    "print(h0_test(smart_df,ultra_df,hyp0,alpha))"
   ]
  },
  {
   "cell_type": "markdown",
   "metadata": {},
   "source": [
    "Это явно слишком большая вероятность, чтобы делать вывод о значимом различии между двумя тарифами."
   ]
  },
  {
   "cell_type": "markdown",
   "metadata": {},
   "source": [
    "Гипотеза №2:\n",
    "Средняя выручка пользователей из Москвы отличается от выручки пользователей из других регионов\n",
    "\n",
    "Нулевая гипотеза: Cредняя выручка пользователей из Москвы равна средней выручке пользователей из других регионов."
   ]
  },
  {
   "cell_type": "code",
   "execution_count": 28,
   "metadata": {},
   "outputs": [
    {
     "name": "stdout",
     "output_type": "stream",
     "text": [
      "Нулевая гипотеза: Cредняя выручка пользователей из Москвы равна средней выручке пользователей из других регионов.\n",
      "p-значение: 0.00171239049626856\n",
      "Отвергаем нулевую гипотезу\n"
     ]
    }
   ],
   "source": [
    "hyp0 = 'Cредняя выручка пользователей из Москвы равна средней выручке пользователей из других регионов.'\n",
    "moscow_df = total_stats[total_stats['city'] == 'Москва']['income_month']\n",
    "not_moscow_df = total_stats[total_stats['city'] != 'Москва']['income_month']\n",
    "\n",
    "print(h0_test(moscow_df,not_moscow_df,hyp0,alpha))"
   ]
  },
  {
   "cell_type": "markdown",
   "metadata": {},
   "source": [
    "От региона, практически не зависит выручка. "
   ]
  },
  {
   "cell_type": "markdown",
   "metadata": {},
   "source": [
    "<h2>Общий вывод</h2>"
   ]
  },
  {
   "cell_type": "markdown",
   "metadata": {},
   "source": [
    "1. Смс сообщения выходят из оборота, блягодаря мессенждерам. \n",
    "2. Мобильный интернет в данный момент самая востребованная услуга.\n",
    "3. Пользователи тарифа \"Ultra\" редко близко подходят к тарифам, кроме интернета, опять же. В то время, как Smart и по минутам, и по трафику выходят за лимит.\n",
    "4. По доходности, smart приносит больше денег из за охвата и превышением лимита абонентами."
   ]
  },
  {
   "cell_type": "code",
   "execution_count": null,
   "metadata": {},
   "outputs": [],
   "source": []
  }
 ],
 "metadata": {
  "ExecuteTimeLog": [
   {
    "duration": 286,
    "start_time": "2021-10-04T08:34:18.068Z"
   },
   {
    "duration": 272,
    "start_time": "2021-10-04T08:34:24.971Z"
   },
   {
    "duration": 8322,
    "start_time": "2021-10-04T08:34:16.923Z"
   },
   {
    "duration": 8314,
    "start_time": "2021-10-04T08:34:16.932Z"
   },
   {
    "duration": 727,
    "start_time": "2021-10-04T08:34:45.913Z"
   },
   {
    "duration": 3,
    "start_time": "2021-10-04T08:34:49.241Z"
   },
   {
    "duration": 434,
    "start_time": "2021-10-04T08:34:49.245Z"
   },
   {
    "duration": 38,
    "start_time": "2021-10-04T08:34:49.681Z"
   },
   {
    "duration": 50,
    "start_time": "2021-10-04T08:35:30.400Z"
   },
   {
    "duration": 47,
    "start_time": "2021-10-04T08:42:59.442Z"
   },
   {
    "duration": 29,
    "start_time": "2021-10-04T08:43:24.241Z"
   },
   {
    "duration": 265,
    "start_time": "2021-10-04T08:43:55.809Z"
   },
   {
    "duration": 31,
    "start_time": "2021-10-04T08:44:06.117Z"
   },
   {
    "duration": 38,
    "start_time": "2021-10-04T08:44:18.218Z"
   },
   {
    "duration": 58,
    "start_time": "2021-10-04T08:44:52.938Z"
   },
   {
    "duration": 3,
    "start_time": "2021-10-04T09:21:40.985Z"
   },
   {
    "duration": 434,
    "start_time": "2021-10-04T09:21:40.990Z"
   },
   {
    "duration": 53,
    "start_time": "2021-10-04T09:21:41.427Z"
   },
   {
    "duration": 42,
    "start_time": "2021-10-04T09:21:41.482Z"
   },
   {
    "duration": 37,
    "start_time": "2021-10-04T09:21:41.526Z"
   },
   {
    "duration": 10,
    "start_time": "2021-10-04T09:21:41.565Z"
   },
   {
    "duration": 18,
    "start_time": "2021-10-04T09:21:41.577Z"
   },
   {
    "duration": 322,
    "start_time": "2021-10-04T09:21:41.596Z"
   },
   {
    "duration": 52,
    "start_time": "2021-10-04T09:47:19.179Z"
   },
   {
    "duration": 31,
    "start_time": "2021-10-04T09:54:07.111Z"
   },
   {
    "duration": 275,
    "start_time": "2021-10-04T10:11:07.765Z"
   },
   {
    "duration": 258,
    "start_time": "2021-10-04T10:11:39.265Z"
   },
   {
    "duration": 20,
    "start_time": "2021-10-04T10:11:48.535Z"
   },
   {
    "duration": 273,
    "start_time": "2021-10-04T10:22:20.564Z"
   },
   {
    "duration": 316,
    "start_time": "2021-10-04T10:23:42.287Z"
   },
   {
    "duration": 235,
    "start_time": "2021-10-04T10:24:35.720Z"
   },
   {
    "duration": 415,
    "start_time": "2021-10-04T10:25:12.061Z"
   },
   {
    "duration": 296,
    "start_time": "2021-10-04T10:25:54.160Z"
   },
   {
    "duration": 409,
    "start_time": "2021-10-04T10:26:02.609Z"
   },
   {
    "duration": 17,
    "start_time": "2021-10-04T10:26:15.377Z"
   },
   {
    "duration": 12,
    "start_time": "2021-10-04T10:27:18.606Z"
   },
   {
    "duration": 13,
    "start_time": "2021-10-04T10:27:26.698Z"
   },
   {
    "duration": 13,
    "start_time": "2021-10-04T10:27:31.426Z"
   },
   {
    "duration": 2,
    "start_time": "2021-10-04T10:27:33.929Z"
   },
   {
    "duration": 454,
    "start_time": "2021-10-04T10:27:33.934Z"
   },
   {
    "duration": 55,
    "start_time": "2021-10-04T10:27:34.391Z"
   },
   {
    "duration": 53,
    "start_time": "2021-10-04T10:27:34.448Z"
   },
   {
    "duration": 21,
    "start_time": "2021-10-04T10:27:34.504Z"
   },
   {
    "duration": 34,
    "start_time": "2021-10-04T10:27:34.527Z"
   },
   {
    "duration": 32,
    "start_time": "2021-10-04T10:27:34.563Z"
   },
   {
    "duration": 79,
    "start_time": "2021-10-04T10:27:34.597Z"
   },
   {
    "duration": 34,
    "start_time": "2021-10-04T10:27:34.679Z"
   },
   {
    "duration": 4,
    "start_time": "2021-10-04T10:27:42.230Z"
   },
   {
    "duration": 440,
    "start_time": "2021-10-04T10:27:42.236Z"
   },
   {
    "duration": 53,
    "start_time": "2021-10-04T10:27:42.678Z"
   },
   {
    "duration": 53,
    "start_time": "2021-10-04T10:27:42.734Z"
   },
   {
    "duration": 23,
    "start_time": "2021-10-04T10:27:42.789Z"
   },
   {
    "duration": 11,
    "start_time": "2021-10-04T10:27:42.814Z"
   },
   {
    "duration": 31,
    "start_time": "2021-10-04T10:27:42.850Z"
   },
   {
    "duration": 71,
    "start_time": "2021-10-04T10:27:42.884Z"
   },
   {
    "duration": 40,
    "start_time": "2021-10-04T10:27:42.958Z"
   },
   {
    "duration": 8248,
    "start_time": "2021-10-04T10:31:11.024Z"
   },
   {
    "duration": 3,
    "start_time": "2021-10-04T10:31:23.380Z"
   },
   {
    "duration": 448,
    "start_time": "2021-10-04T10:31:23.384Z"
   },
   {
    "duration": 53,
    "start_time": "2021-10-04T10:31:23.834Z"
   },
   {
    "duration": 61,
    "start_time": "2021-10-04T10:31:23.889Z"
   },
   {
    "duration": 21,
    "start_time": "2021-10-04T10:31:23.952Z"
   },
   {
    "duration": 10,
    "start_time": "2021-10-04T10:31:23.975Z"
   },
   {
    "duration": 28,
    "start_time": "2021-10-04T10:31:23.987Z"
   },
   {
    "duration": 74,
    "start_time": "2021-10-04T10:31:24.017Z"
   },
   {
    "duration": 37,
    "start_time": "2021-10-04T10:31:24.094Z"
   },
   {
    "duration": 6543,
    "start_time": "2021-10-04T10:31:24.149Z"
   },
   {
    "duration": 27,
    "start_time": "2021-10-04T10:32:04.963Z"
   },
   {
    "duration": 245,
    "start_time": "2021-10-04T10:33:50.406Z"
   },
   {
    "duration": 11,
    "start_time": "2021-10-04T10:33:56.926Z"
   },
   {
    "duration": 22,
    "start_time": "2021-10-04T11:26:37.713Z"
   },
   {
    "duration": 21,
    "start_time": "2021-10-04T11:27:37.863Z"
   },
   {
    "duration": 288,
    "start_time": "2021-10-04T11:46:00.925Z"
   },
   {
    "duration": 71,
    "start_time": "2021-10-04T11:46:26.058Z"
   },
   {
    "duration": 242,
    "start_time": "2021-10-04T11:51:28.722Z"
   },
   {
    "duration": 986,
    "start_time": "2021-10-04T11:52:11.766Z"
   },
   {
    "duration": 109,
    "start_time": "2021-10-04T11:52:19.350Z"
   },
   {
    "duration": 331,
    "start_time": "2021-10-04T11:54:24.839Z"
   },
   {
    "duration": 1831,
    "start_time": "2021-10-04T11:54:34.852Z"
   },
   {
    "duration": 379,
    "start_time": "2021-10-04T11:54:51.567Z"
   },
   {
    "duration": 268,
    "start_time": "2021-10-04T12:01:30.097Z"
   },
   {
    "duration": 82,
    "start_time": "2021-10-04T12:01:54.709Z"
   },
   {
    "duration": 38,
    "start_time": "2021-10-04T12:02:05.801Z"
   },
   {
    "duration": 42,
    "start_time": "2021-10-04T12:02:16.517Z"
   },
   {
    "duration": 73,
    "start_time": "2021-10-04T12:32:04.917Z"
   },
   {
    "duration": 253,
    "start_time": "2021-10-04T12:37:41.385Z"
   },
   {
    "duration": 401,
    "start_time": "2021-10-04T12:38:14.949Z"
   },
   {
    "duration": 79,
    "start_time": "2021-10-04T12:38:48.336Z"
   },
   {
    "duration": 23,
    "start_time": "2021-10-04T12:39:51.070Z"
   },
   {
    "duration": 286,
    "start_time": "2021-10-04T12:43:18.337Z"
   },
   {
    "duration": 6136,
    "start_time": "2021-10-04T12:43:37.348Z"
   },
   {
    "duration": 81,
    "start_time": "2021-10-04T12:44:15.805Z"
   },
   {
    "duration": 74,
    "start_time": "2021-10-04T12:44:26.339Z"
   },
   {
    "duration": 76,
    "start_time": "2021-10-04T12:44:40.826Z"
   },
   {
    "duration": 267,
    "start_time": "2021-10-04T12:45:27.398Z"
   },
   {
    "duration": 39,
    "start_time": "2021-10-04T12:45:31.822Z"
   },
   {
    "duration": 2,
    "start_time": "2021-10-04T12:45:50.593Z"
   },
   {
    "duration": 440,
    "start_time": "2021-10-04T12:45:50.597Z"
   },
   {
    "duration": 54,
    "start_time": "2021-10-04T12:45:51.039Z"
   },
   {
    "duration": 67,
    "start_time": "2021-10-04T12:45:51.095Z"
   },
   {
    "duration": 21,
    "start_time": "2021-10-04T12:45:51.164Z"
   },
   {
    "duration": 12,
    "start_time": "2021-10-04T12:45:51.187Z"
   },
   {
    "duration": 57,
    "start_time": "2021-10-04T12:45:51.201Z"
   },
   {
    "duration": 46,
    "start_time": "2021-10-04T12:45:51.260Z"
   },
   {
    "duration": 64,
    "start_time": "2021-10-04T12:45:51.309Z"
   },
   {
    "duration": 29,
    "start_time": "2021-10-04T12:45:51.375Z"
   },
   {
    "duration": 10,
    "start_time": "2021-10-04T12:45:51.406Z"
   },
   {
    "duration": 300,
    "start_time": "2021-10-04T12:45:51.418Z"
   },
   {
    "duration": 8232,
    "start_time": "2021-10-04T12:45:43.487Z"
   },
   {
    "duration": 8232,
    "start_time": "2021-10-04T12:45:43.488Z"
   },
   {
    "duration": 8232,
    "start_time": "2021-10-04T12:45:43.489Z"
   },
   {
    "duration": 3,
    "start_time": "2021-10-04T12:46:01.530Z"
   },
   {
    "duration": 447,
    "start_time": "2021-10-04T12:46:01.535Z"
   },
   {
    "duration": 55,
    "start_time": "2021-10-04T12:46:01.984Z"
   },
   {
    "duration": 54,
    "start_time": "2021-10-04T12:46:02.042Z"
   },
   {
    "duration": 22,
    "start_time": "2021-10-04T12:46:02.098Z"
   },
   {
    "duration": 29,
    "start_time": "2021-10-04T12:46:02.122Z"
   },
   {
    "duration": 30,
    "start_time": "2021-10-04T12:46:02.153Z"
   },
   {
    "duration": 64,
    "start_time": "2021-10-04T12:46:02.185Z"
   },
   {
    "duration": 44,
    "start_time": "2021-10-04T12:46:02.252Z"
   },
   {
    "duration": 27,
    "start_time": "2021-10-04T12:46:02.298Z"
   },
   {
    "duration": 29,
    "start_time": "2021-10-04T12:46:02.327Z"
   },
   {
    "duration": 35,
    "start_time": "2021-10-04T12:46:02.358Z"
   },
   {
    "duration": 34,
    "start_time": "2021-10-04T12:46:02.395Z"
   },
   {
    "duration": 36,
    "start_time": "2021-10-04T12:46:02.450Z"
   },
   {
    "duration": 37,
    "start_time": "2021-10-04T12:46:02.488Z"
   },
   {
    "duration": 36,
    "start_time": "2021-10-04T12:47:43.767Z"
   },
   {
    "duration": 40,
    "start_time": "2021-10-04T12:48:24.336Z"
   },
   {
    "duration": 26,
    "start_time": "2021-10-04T12:50:14.369Z"
   },
   {
    "duration": 19,
    "start_time": "2021-10-04T12:53:18.487Z"
   },
   {
    "duration": 7732,
    "start_time": "2021-10-04T12:53:24.392Z"
   },
   {
    "duration": 3,
    "start_time": "2021-10-04T12:53:42.863Z"
   },
   {
    "duration": 443,
    "start_time": "2021-10-04T12:53:42.868Z"
   },
   {
    "duration": 52,
    "start_time": "2021-10-04T12:53:43.314Z"
   },
   {
    "duration": 52,
    "start_time": "2021-10-04T12:53:43.368Z"
   },
   {
    "duration": 34,
    "start_time": "2021-10-04T12:53:43.421Z"
   },
   {
    "duration": 10,
    "start_time": "2021-10-04T12:53:43.457Z"
   },
   {
    "duration": 29,
    "start_time": "2021-10-04T12:53:43.469Z"
   },
   {
    "duration": 72,
    "start_time": "2021-10-04T12:53:43.499Z"
   },
   {
    "duration": 43,
    "start_time": "2021-10-04T12:53:43.574Z"
   },
   {
    "duration": 42,
    "start_time": "2021-10-04T12:53:43.619Z"
   },
   {
    "duration": 10,
    "start_time": "2021-10-04T12:53:43.663Z"
   },
   {
    "duration": 40,
    "start_time": "2021-10-04T12:53:43.674Z"
   },
   {
    "duration": 48,
    "start_time": "2021-10-04T12:53:43.715Z"
   },
   {
    "duration": 38,
    "start_time": "2021-10-04T12:53:43.765Z"
   },
   {
    "duration": 57,
    "start_time": "2021-10-04T12:53:43.804Z"
   },
   {
    "duration": 82,
    "start_time": "2021-10-04T12:56:25.089Z"
   },
   {
    "duration": 8194,
    "start_time": "2021-10-04T12:56:36.969Z"
   },
   {
    "duration": 3,
    "start_time": "2021-10-04T12:56:51.829Z"
   },
   {
    "duration": 445,
    "start_time": "2021-10-04T12:56:51.834Z"
   },
   {
    "duration": 55,
    "start_time": "2021-10-04T12:56:52.281Z"
   },
   {
    "duration": 53,
    "start_time": "2021-10-04T12:56:52.338Z"
   },
   {
    "duration": 22,
    "start_time": "2021-10-04T12:56:52.393Z"
   },
   {
    "duration": 33,
    "start_time": "2021-10-04T12:56:52.417Z"
   },
   {
    "duration": 30,
    "start_time": "2021-10-04T12:56:52.452Z"
   },
   {
    "duration": 66,
    "start_time": "2021-10-04T12:56:52.484Z"
   },
   {
    "duration": 40,
    "start_time": "2021-10-04T12:56:52.551Z"
   },
   {
    "duration": 28,
    "start_time": "2021-10-04T12:56:52.593Z"
   },
   {
    "duration": 34,
    "start_time": "2021-10-04T12:56:52.623Z"
   },
   {
    "duration": 33,
    "start_time": "2021-10-04T12:56:52.659Z"
   },
   {
    "duration": 59,
    "start_time": "2021-10-04T12:56:52.694Z"
   },
   {
    "duration": 36,
    "start_time": "2021-10-04T12:56:52.754Z"
   },
   {
    "duration": 8354,
    "start_time": "2021-10-04T12:56:52.792Z"
   },
   {
    "duration": 39,
    "start_time": "2021-10-04T12:57:17.714Z"
   },
   {
    "duration": 977,
    "start_time": "2021-10-04T13:01:09.951Z"
   },
   {
    "duration": 3,
    "start_time": "2021-10-04T13:01:16.711Z"
   },
   {
    "duration": 439,
    "start_time": "2021-10-04T13:01:16.717Z"
   },
   {
    "duration": 56,
    "start_time": "2021-10-04T13:01:17.158Z"
   },
   {
    "duration": 70,
    "start_time": "2021-10-04T13:01:17.217Z"
   },
   {
    "duration": 22,
    "start_time": "2021-10-04T13:01:17.289Z"
   },
   {
    "duration": 36,
    "start_time": "2021-10-04T13:01:17.313Z"
   },
   {
    "duration": 30,
    "start_time": "2021-10-04T13:01:17.351Z"
   },
   {
    "duration": 72,
    "start_time": "2021-10-04T13:01:17.383Z"
   },
   {
    "duration": 41,
    "start_time": "2021-10-04T13:01:17.459Z"
   },
   {
    "duration": 52,
    "start_time": "2021-10-04T13:01:17.502Z"
   },
   {
    "duration": 11,
    "start_time": "2021-10-04T13:01:17.556Z"
   },
   {
    "duration": 36,
    "start_time": "2021-10-04T13:01:17.569Z"
   },
   {
    "duration": 58,
    "start_time": "2021-10-04T13:01:17.608Z"
   },
   {
    "duration": 39,
    "start_time": "2021-10-04T13:01:17.668Z"
   },
   {
    "duration": 66,
    "start_time": "2021-10-04T13:01:17.709Z"
   },
   {
    "duration": 367,
    "start_time": "2021-10-04T15:11:13.350Z"
   },
   {
    "duration": 580,
    "start_time": "2021-10-04T15:12:05.495Z"
   },
   {
    "duration": 3,
    "start_time": "2021-10-04T15:12:13.123Z"
   },
   {
    "duration": 420,
    "start_time": "2021-10-04T15:12:13.129Z"
   },
   {
    "duration": 53,
    "start_time": "2021-10-04T15:12:13.551Z"
   },
   {
    "duration": 69,
    "start_time": "2021-10-04T15:12:13.606Z"
   },
   {
    "duration": 21,
    "start_time": "2021-10-04T15:12:13.677Z"
   },
   {
    "duration": 10,
    "start_time": "2021-10-04T15:12:13.700Z"
   },
   {
    "duration": 60,
    "start_time": "2021-10-04T15:12:13.712Z"
   },
   {
    "duration": 46,
    "start_time": "2021-10-04T15:12:13.774Z"
   },
   {
    "duration": 57,
    "start_time": "2021-10-04T15:12:13.822Z"
   },
   {
    "duration": 26,
    "start_time": "2021-10-04T15:12:13.881Z"
   },
   {
    "duration": 11,
    "start_time": "2021-10-04T15:12:13.909Z"
   },
   {
    "duration": 52,
    "start_time": "2021-10-04T15:12:13.922Z"
   },
   {
    "duration": 37,
    "start_time": "2021-10-04T15:12:13.976Z"
   },
   {
    "duration": 50,
    "start_time": "2021-10-04T15:12:14.015Z"
   },
   {
    "duration": 40,
    "start_time": "2021-10-04T15:12:14.067Z"
   },
   {
    "duration": 912,
    "start_time": "2021-10-04T15:12:14.108Z"
   },
   {
    "duration": 963,
    "start_time": "2021-10-04T15:12:44.384Z"
   },
   {
    "duration": 3,
    "start_time": "2021-10-04T15:13:00.343Z"
   },
   {
    "duration": 457,
    "start_time": "2021-10-04T15:13:00.348Z"
   },
   {
    "duration": 56,
    "start_time": "2021-10-04T15:13:00.807Z"
   },
   {
    "duration": 55,
    "start_time": "2021-10-04T15:13:00.865Z"
   },
   {
    "duration": 44,
    "start_time": "2021-10-04T15:13:00.922Z"
   },
   {
    "duration": 19,
    "start_time": "2021-10-04T15:13:00.968Z"
   },
   {
    "duration": 33,
    "start_time": "2021-10-04T15:13:00.989Z"
   },
   {
    "duration": 69,
    "start_time": "2021-10-04T15:13:01.023Z"
   },
   {
    "duration": 56,
    "start_time": "2021-10-04T15:13:01.095Z"
   },
   {
    "duration": 28,
    "start_time": "2021-10-04T15:13:01.154Z"
   },
   {
    "duration": 11,
    "start_time": "2021-10-04T15:13:01.184Z"
   },
   {
    "duration": 54,
    "start_time": "2021-10-04T15:13:01.197Z"
   },
   {
    "duration": 39,
    "start_time": "2021-10-04T15:13:01.253Z"
   },
   {
    "duration": 55,
    "start_time": "2021-10-04T15:13:01.294Z"
   },
   {
    "duration": 42,
    "start_time": "2021-10-04T15:13:01.351Z"
   },
   {
    "duration": 1409,
    "start_time": "2021-10-04T15:13:01.395Z"
   },
   {
    "duration": 234,
    "start_time": "2021-10-04T15:13:55.100Z"
   },
   {
    "duration": 935,
    "start_time": "2021-10-04T15:14:13.193Z"
   },
   {
    "duration": 288,
    "start_time": "2021-10-04T15:14:20.341Z"
   },
   {
    "duration": 241,
    "start_time": "2021-10-04T15:15:49.698Z"
   },
   {
    "duration": 9,
    "start_time": "2021-10-04T15:24:27.473Z"
   },
   {
    "duration": 247,
    "start_time": "2021-10-04T15:24:56.475Z"
   },
   {
    "duration": 77,
    "start_time": "2021-10-04T15:25:18.912Z"
   },
   {
    "duration": 28,
    "start_time": "2021-10-04T15:25:32.632Z"
   },
   {
    "duration": 263,
    "start_time": "2021-10-04T15:26:22.556Z"
   },
   {
    "duration": 948,
    "start_time": "2021-10-04T15:26:33.568Z"
   },
   {
    "duration": 28,
    "start_time": "2021-10-04T15:26:47.417Z"
   },
   {
    "duration": 1998,
    "start_time": "2021-10-04T15:27:57.358Z"
   },
   {
    "duration": 288,
    "start_time": "2021-10-04T15:28:17.502Z"
   },
   {
    "duration": 967,
    "start_time": "2021-10-04T15:29:41.947Z"
   },
   {
    "duration": 29,
    "start_time": "2021-10-04T15:30:03.716Z"
   },
   {
    "duration": 36,
    "start_time": "2021-10-04T15:31:56.068Z"
   },
   {
    "duration": 300,
    "start_time": "2021-10-04T15:32:41.733Z"
   },
   {
    "duration": 275,
    "start_time": "2021-10-04T15:33:27.826Z"
   },
   {
    "duration": 11,
    "start_time": "2021-10-04T15:38:52.385Z"
   },
   {
    "duration": 31,
    "start_time": "2021-10-04T15:38:56.593Z"
   },
   {
    "duration": 2,
    "start_time": "2021-10-04T15:39:02.962Z"
   },
   {
    "duration": 418,
    "start_time": "2021-10-04T15:39:02.966Z"
   },
   {
    "duration": 52,
    "start_time": "2021-10-04T15:39:03.386Z"
   },
   {
    "duration": 51,
    "start_time": "2021-10-04T15:39:03.440Z"
   },
   {
    "duration": 21,
    "start_time": "2021-10-04T15:39:03.493Z"
   },
   {
    "duration": 10,
    "start_time": "2021-10-04T15:39:03.516Z"
   },
   {
    "duration": 51,
    "start_time": "2021-10-04T15:39:03.527Z"
   },
   {
    "duration": 43,
    "start_time": "2021-10-04T15:39:03.580Z"
   },
   {
    "duration": 38,
    "start_time": "2021-10-04T15:39:03.649Z"
   },
   {
    "duration": 26,
    "start_time": "2021-10-04T15:39:03.689Z"
   },
   {
    "duration": 14,
    "start_time": "2021-10-04T15:39:03.716Z"
   },
   {
    "duration": 29,
    "start_time": "2021-10-04T15:39:03.750Z"
   },
   {
    "duration": 33,
    "start_time": "2021-10-04T15:39:03.781Z"
   },
   {
    "duration": 57,
    "start_time": "2021-10-04T15:39:03.816Z"
   },
   {
    "duration": 39,
    "start_time": "2021-10-04T15:39:03.875Z"
   },
   {
    "duration": 299,
    "start_time": "2021-10-04T15:39:03.916Z"
   },
   {
    "duration": 11,
    "start_time": "2021-10-04T15:39:26.225Z"
   },
   {
    "duration": 3,
    "start_time": "2021-10-04T15:39:36.849Z"
   },
   {
    "duration": 421,
    "start_time": "2021-10-04T15:39:36.854Z"
   },
   {
    "duration": 52,
    "start_time": "2021-10-04T15:39:37.278Z"
   },
   {
    "duration": 53,
    "start_time": "2021-10-04T15:39:37.332Z"
   },
   {
    "duration": 21,
    "start_time": "2021-10-04T15:39:37.387Z"
   },
   {
    "duration": 14,
    "start_time": "2021-10-04T15:39:37.410Z"
   },
   {
    "duration": 41,
    "start_time": "2021-10-04T15:39:37.450Z"
   },
   {
    "duration": 87,
    "start_time": "2021-10-04T15:39:37.493Z"
   },
   {
    "duration": 55,
    "start_time": "2021-10-04T15:39:37.583Z"
   },
   {
    "duration": 46,
    "start_time": "2021-10-04T15:39:37.640Z"
   },
   {
    "duration": 16,
    "start_time": "2021-10-04T15:39:37.688Z"
   },
   {
    "duration": 65,
    "start_time": "2021-10-04T15:39:37.706Z"
   },
   {
    "duration": 54,
    "start_time": "2021-10-04T15:39:37.773Z"
   },
   {
    "duration": 66,
    "start_time": "2021-10-04T15:39:37.829Z"
   },
   {
    "duration": 66,
    "start_time": "2021-10-04T15:39:37.897Z"
   },
   {
    "duration": 102,
    "start_time": "2021-10-04T15:39:37.966Z"
   },
   {
    "duration": 60,
    "start_time": "2021-10-04T15:40:05.218Z"
   },
   {
    "duration": 8,
    "start_time": "2021-10-04T15:45:56.117Z"
   },
   {
    "duration": 4,
    "start_time": "2021-10-04T16:24:31.680Z"
   },
   {
    "duration": 247,
    "start_time": "2021-10-04T16:25:11.416Z"
   },
   {
    "duration": 762,
    "start_time": "2021-10-04T16:27:44.828Z"
   },
   {
    "duration": 3,
    "start_time": "2021-10-04T16:29:41.319Z"
   },
   {
    "duration": 438,
    "start_time": "2021-10-04T16:29:41.324Z"
   },
   {
    "duration": 51,
    "start_time": "2021-10-04T16:29:41.764Z"
   },
   {
    "duration": 59,
    "start_time": "2021-10-04T16:29:41.817Z"
   },
   {
    "duration": 20,
    "start_time": "2021-10-04T16:29:41.878Z"
   },
   {
    "duration": 12,
    "start_time": "2021-10-04T16:29:41.899Z"
   },
   {
    "duration": 54,
    "start_time": "2021-10-04T16:29:41.913Z"
   },
   {
    "duration": 44,
    "start_time": "2021-10-04T16:29:41.969Z"
   },
   {
    "duration": 58,
    "start_time": "2021-10-04T16:29:42.016Z"
   },
   {
    "duration": 27,
    "start_time": "2021-10-04T16:29:42.076Z"
   },
   {
    "duration": 11,
    "start_time": "2021-10-04T16:29:42.105Z"
   },
   {
    "duration": 59,
    "start_time": "2021-10-04T16:29:42.118Z"
   },
   {
    "duration": 38,
    "start_time": "2021-10-04T16:29:42.178Z"
   },
   {
    "duration": 50,
    "start_time": "2021-10-04T16:29:42.218Z"
   },
   {
    "duration": 38,
    "start_time": "2021-10-04T16:29:42.270Z"
   },
   {
    "duration": 72,
    "start_time": "2021-10-04T16:29:42.309Z"
   },
   {
    "duration": 4,
    "start_time": "2021-10-04T16:29:42.383Z"
   },
   {
    "duration": 1544,
    "start_time": "2021-10-04T16:29:42.388Z"
   },
   {
    "duration": 4,
    "start_time": "2021-10-04T16:30:06.920Z"
   },
   {
    "duration": 2,
    "start_time": "2021-10-04T16:30:25.324Z"
   },
   {
    "duration": 476,
    "start_time": "2021-10-04T16:30:25.328Z"
   },
   {
    "duration": 53,
    "start_time": "2021-10-04T16:30:25.806Z"
   },
   {
    "duration": 52,
    "start_time": "2021-10-04T16:30:25.861Z"
   },
   {
    "duration": 38,
    "start_time": "2021-10-04T16:30:25.915Z"
   },
   {
    "duration": 11,
    "start_time": "2021-10-04T16:30:25.954Z"
   },
   {
    "duration": 29,
    "start_time": "2021-10-04T16:30:25.966Z"
   },
   {
    "duration": 73,
    "start_time": "2021-10-04T16:30:25.998Z"
   },
   {
    "duration": 40,
    "start_time": "2021-10-04T16:30:26.073Z"
   },
   {
    "duration": 48,
    "start_time": "2021-10-04T16:30:26.114Z"
   },
   {
    "duration": 13,
    "start_time": "2021-10-04T16:30:26.163Z"
   },
   {
    "duration": 35,
    "start_time": "2021-10-04T16:30:26.177Z"
   },
   {
    "duration": 58,
    "start_time": "2021-10-04T16:30:26.213Z"
   },
   {
    "duration": 40,
    "start_time": "2021-10-04T16:30:26.272Z"
   },
   {
    "duration": 56,
    "start_time": "2021-10-04T16:30:26.313Z"
   },
   {
    "duration": 53,
    "start_time": "2021-10-04T16:30:26.371Z"
   },
   {
    "duration": 3,
    "start_time": "2021-10-04T16:30:26.426Z"
   },
   {
    "duration": 460,
    "start_time": "2021-10-04T16:30:26.431Z"
   },
   {
    "duration": 3,
    "start_time": "2021-10-04T16:30:42.691Z"
   },
   {
    "duration": 431,
    "start_time": "2021-10-04T16:30:42.696Z"
   },
   {
    "duration": 54,
    "start_time": "2021-10-04T16:30:43.130Z"
   },
   {
    "duration": 50,
    "start_time": "2021-10-04T16:30:43.186Z"
   },
   {
    "duration": 22,
    "start_time": "2021-10-04T16:30:43.250Z"
   },
   {
    "duration": 11,
    "start_time": "2021-10-04T16:30:43.274Z"
   },
   {
    "duration": 29,
    "start_time": "2021-10-04T16:30:43.287Z"
   },
   {
    "duration": 47,
    "start_time": "2021-10-04T16:30:43.350Z"
   },
   {
    "duration": 49,
    "start_time": "2021-10-04T16:30:43.400Z"
   },
   {
    "duration": 27,
    "start_time": "2021-10-04T16:30:43.452Z"
   },
   {
    "duration": 11,
    "start_time": "2021-10-04T16:30:43.481Z"
   },
   {
    "duration": 57,
    "start_time": "2021-10-04T16:30:43.493Z"
   },
   {
    "duration": 39,
    "start_time": "2021-10-04T16:30:43.552Z"
   },
   {
    "duration": 57,
    "start_time": "2021-10-04T16:30:43.593Z"
   },
   {
    "duration": 40,
    "start_time": "2021-10-04T16:30:43.652Z"
   },
   {
    "duration": 125,
    "start_time": "2021-10-04T16:30:43.695Z"
   },
   {
    "duration": 4,
    "start_time": "2021-10-04T16:30:43.822Z"
   },
   {
    "duration": 214,
    "start_time": "2021-10-04T16:30:43.828Z"
   },
   {
    "duration": 220,
    "start_time": "2021-10-04T16:31:11.456Z"
   },
   {
    "duration": 4,
    "start_time": "2021-10-04T16:33:05.002Z"
   },
   {
    "duration": 3,
    "start_time": "2021-10-04T16:33:08.127Z"
   },
   {
    "duration": 423,
    "start_time": "2021-10-04T16:33:08.132Z"
   },
   {
    "duration": 53,
    "start_time": "2021-10-04T16:33:08.557Z"
   },
   {
    "duration": 65,
    "start_time": "2021-10-04T16:33:08.612Z"
   },
   {
    "duration": 21,
    "start_time": "2021-10-04T16:33:08.679Z"
   },
   {
    "duration": 12,
    "start_time": "2021-10-04T16:33:08.701Z"
   },
   {
    "duration": 60,
    "start_time": "2021-10-04T16:33:08.715Z"
   },
   {
    "duration": 43,
    "start_time": "2021-10-04T16:33:08.777Z"
   },
   {
    "duration": 59,
    "start_time": "2021-10-04T16:33:08.823Z"
   },
   {
    "duration": 26,
    "start_time": "2021-10-04T16:33:08.884Z"
   },
   {
    "duration": 11,
    "start_time": "2021-10-04T16:33:08.912Z"
   },
   {
    "duration": 31,
    "start_time": "2021-10-04T16:33:08.949Z"
   },
   {
    "duration": 37,
    "start_time": "2021-10-04T16:33:08.982Z"
   },
   {
    "duration": 55,
    "start_time": "2021-10-04T16:33:09.021Z"
   },
   {
    "duration": 39,
    "start_time": "2021-10-04T16:33:09.078Z"
   },
   {
    "duration": 76,
    "start_time": "2021-10-04T16:33:09.119Z"
   },
   {
    "duration": 5,
    "start_time": "2021-10-04T16:33:09.197Z"
   },
   {
    "duration": 241,
    "start_time": "2021-10-04T16:33:09.204Z"
   },
   {
    "duration": 3,
    "start_time": "2021-10-04T16:34:22.004Z"
   },
   {
    "duration": 424,
    "start_time": "2021-10-04T16:34:22.009Z"
   },
   {
    "duration": 53,
    "start_time": "2021-10-04T16:34:22.435Z"
   },
   {
    "duration": 65,
    "start_time": "2021-10-04T16:34:22.490Z"
   },
   {
    "duration": 20,
    "start_time": "2021-10-04T16:34:22.557Z"
   },
   {
    "duration": 22,
    "start_time": "2021-10-04T16:34:22.579Z"
   },
   {
    "duration": 47,
    "start_time": "2021-10-04T16:34:22.603Z"
   },
   {
    "duration": 43,
    "start_time": "2021-10-04T16:34:22.652Z"
   },
   {
    "duration": 54,
    "start_time": "2021-10-04T16:34:22.698Z"
   },
   {
    "duration": 27,
    "start_time": "2021-10-04T16:34:22.754Z"
   },
   {
    "duration": 18,
    "start_time": "2021-10-04T16:34:22.783Z"
   },
   {
    "duration": 48,
    "start_time": "2021-10-04T16:34:22.802Z"
   },
   {
    "duration": 36,
    "start_time": "2021-10-04T16:34:22.852Z"
   },
   {
    "duration": 37,
    "start_time": "2021-10-04T16:34:22.889Z"
   },
   {
    "duration": 52,
    "start_time": "2021-10-04T16:34:22.928Z"
   },
   {
    "duration": 70,
    "start_time": "2021-10-04T16:34:22.982Z"
   },
   {
    "duration": 4,
    "start_time": "2021-10-04T16:34:23.054Z"
   },
   {
    "duration": 242,
    "start_time": "2021-10-04T16:34:23.059Z"
   },
   {
    "duration": 3,
    "start_time": "2021-10-04T16:34:58.410Z"
   },
   {
    "duration": 419,
    "start_time": "2021-10-04T16:34:58.415Z"
   },
   {
    "duration": 54,
    "start_time": "2021-10-04T16:34:58.836Z"
   },
   {
    "duration": 74,
    "start_time": "2021-10-04T16:34:58.893Z"
   },
   {
    "duration": 21,
    "start_time": "2021-10-04T16:34:58.969Z"
   },
   {
    "duration": 11,
    "start_time": "2021-10-04T16:34:58.992Z"
   },
   {
    "duration": 54,
    "start_time": "2021-10-04T16:34:59.005Z"
   },
   {
    "duration": 45,
    "start_time": "2021-10-04T16:34:59.062Z"
   },
   {
    "duration": 60,
    "start_time": "2021-10-04T16:34:59.109Z"
   },
   {
    "duration": 26,
    "start_time": "2021-10-04T16:34:59.171Z"
   },
   {
    "duration": 12,
    "start_time": "2021-10-04T16:34:59.199Z"
   },
   {
    "duration": 52,
    "start_time": "2021-10-04T16:34:59.213Z"
   },
   {
    "duration": 36,
    "start_time": "2021-10-04T16:34:59.267Z"
   },
   {
    "duration": 58,
    "start_time": "2021-10-04T16:34:59.305Z"
   },
   {
    "duration": 37,
    "start_time": "2021-10-04T16:34:59.366Z"
   },
   {
    "duration": 119,
    "start_time": "2021-10-04T16:34:59.405Z"
   },
   {
    "duration": 5,
    "start_time": "2021-10-04T16:34:59.526Z"
   },
   {
    "duration": 254,
    "start_time": "2021-10-04T16:34:59.533Z"
   },
   {
    "duration": 623,
    "start_time": "2021-10-06T09:08:21.561Z"
   },
   {
    "duration": 387,
    "start_time": "2021-10-06T09:08:22.186Z"
   },
   {
    "duration": 62,
    "start_time": "2021-10-06T09:08:22.574Z"
   },
   {
    "duration": 70,
    "start_time": "2021-10-06T09:08:22.638Z"
   },
   {
    "duration": 22,
    "start_time": "2021-10-06T09:08:22.710Z"
   },
   {
    "duration": 12,
    "start_time": "2021-10-06T09:08:22.733Z"
   },
   {
    "duration": 57,
    "start_time": "2021-10-06T09:08:22.747Z"
   },
   {
    "duration": 70,
    "start_time": "2021-10-06T09:08:22.807Z"
   },
   {
    "duration": 37,
    "start_time": "2021-10-06T09:08:22.879Z"
   },
   {
    "duration": 28,
    "start_time": "2021-10-06T09:08:22.919Z"
   },
   {
    "duration": 36,
    "start_time": "2021-10-06T09:08:22.950Z"
   },
   {
    "duration": 31,
    "start_time": "2021-10-06T09:08:22.987Z"
   },
   {
    "duration": 38,
    "start_time": "2021-10-06T09:08:23.020Z"
   },
   {
    "duration": 35,
    "start_time": "2021-10-06T09:08:23.076Z"
   },
   {
    "duration": 35,
    "start_time": "2021-10-06T09:08:23.112Z"
   },
   {
    "duration": 71,
    "start_time": "2021-10-06T09:08:23.149Z"
   },
   {
    "duration": 4,
    "start_time": "2021-10-06T09:08:23.221Z"
   },
   {
    "duration": 255,
    "start_time": "2021-10-06T09:08:23.226Z"
   },
   {
    "duration": 5,
    "start_time": "2021-10-06T09:08:23.483Z"
   },
   {
    "duration": 8,
    "start_time": "2021-10-06T09:11:05.893Z"
   },
   {
    "duration": 13,
    "start_time": "2021-10-06T09:11:57.048Z"
   },
   {
    "duration": 2,
    "start_time": "2021-10-06T09:12:04.820Z"
   },
   {
    "duration": 559,
    "start_time": "2021-10-06T09:12:04.824Z"
   },
   {
    "duration": 49,
    "start_time": "2021-10-06T09:12:05.385Z"
   },
   {
    "duration": 62,
    "start_time": "2021-10-06T09:12:05.436Z"
   },
   {
    "duration": 20,
    "start_time": "2021-10-06T09:12:05.499Z"
   },
   {
    "duration": 11,
    "start_time": "2021-10-06T09:12:05.520Z"
   },
   {
    "duration": 56,
    "start_time": "2021-10-06T09:12:05.533Z"
   },
   {
    "duration": 42,
    "start_time": "2021-10-06T09:12:05.591Z"
   },
   {
    "duration": 51,
    "start_time": "2021-10-06T09:12:05.635Z"
   },
   {
    "duration": 27,
    "start_time": "2021-10-06T09:12:05.688Z"
   },
   {
    "duration": 11,
    "start_time": "2021-10-06T09:12:05.716Z"
   },
   {
    "duration": 53,
    "start_time": "2021-10-06T09:12:05.729Z"
   },
   {
    "duration": 36,
    "start_time": "2021-10-06T09:12:05.784Z"
   },
   {
    "duration": 37,
    "start_time": "2021-10-06T09:12:05.821Z"
   },
   {
    "duration": 37,
    "start_time": "2021-10-06T09:12:05.877Z"
   },
   {
    "duration": 108,
    "start_time": "2021-10-06T09:12:05.915Z"
   },
   {
    "duration": 4,
    "start_time": "2021-10-06T09:12:06.025Z"
   },
   {
    "duration": 257,
    "start_time": "2021-10-06T09:12:06.030Z"
   },
   {
    "duration": 13,
    "start_time": "2021-10-06T09:12:06.288Z"
   },
   {
    "duration": 7,
    "start_time": "2021-10-06T09:12:06.303Z"
   },
   {
    "duration": 3,
    "start_time": "2021-10-06T09:12:16.546Z"
   },
   {
    "duration": 386,
    "start_time": "2021-10-06T09:12:16.551Z"
   },
   {
    "duration": 51,
    "start_time": "2021-10-06T09:12:16.939Z"
   },
   {
    "duration": 53,
    "start_time": "2021-10-06T09:12:16.992Z"
   },
   {
    "duration": 49,
    "start_time": "2021-10-06T09:12:17.047Z"
   },
   {
    "duration": 11,
    "start_time": "2021-10-06T09:12:17.099Z"
   },
   {
    "duration": 30,
    "start_time": "2021-10-06T09:12:17.112Z"
   },
   {
    "duration": 74,
    "start_time": "2021-10-06T09:12:17.145Z"
   },
   {
    "duration": 57,
    "start_time": "2021-10-06T09:12:17.221Z"
   },
   {
    "duration": 29,
    "start_time": "2021-10-06T09:12:17.280Z"
   },
   {
    "duration": 12,
    "start_time": "2021-10-06T09:12:17.311Z"
   },
   {
    "duration": 60,
    "start_time": "2021-10-06T09:12:17.325Z"
   },
   {
    "duration": 36,
    "start_time": "2021-10-06T09:12:17.387Z"
   },
   {
    "duration": 54,
    "start_time": "2021-10-06T09:12:17.425Z"
   },
   {
    "duration": 37,
    "start_time": "2021-10-06T09:12:17.482Z"
   },
   {
    "duration": 72,
    "start_time": "2021-10-06T09:12:17.521Z"
   },
   {
    "duration": 4,
    "start_time": "2021-10-06T09:12:17.596Z"
   },
   {
    "duration": 258,
    "start_time": "2021-10-06T09:12:17.602Z"
   },
   {
    "duration": 20,
    "start_time": "2021-10-06T09:12:17.862Z"
   },
   {
    "duration": 9,
    "start_time": "2021-10-06T09:12:17.884Z"
   },
   {
    "duration": 9,
    "start_time": "2021-10-06T09:16:26.604Z"
   },
   {
    "duration": 820,
    "start_time": "2021-10-06T09:30:56.296Z"
   },
   {
    "duration": 77,
    "start_time": "2021-10-06T09:31:27.772Z"
   },
   {
    "duration": 3,
    "start_time": "2021-10-06T09:31:30.198Z"
   },
   {
    "duration": 410,
    "start_time": "2021-10-06T09:31:30.204Z"
   },
   {
    "duration": 54,
    "start_time": "2021-10-06T09:31:30.616Z"
   },
   {
    "duration": 54,
    "start_time": "2021-10-06T09:31:30.672Z"
   },
   {
    "duration": 23,
    "start_time": "2021-10-06T09:31:30.729Z"
   },
   {
    "duration": 34,
    "start_time": "2021-10-06T09:31:30.754Z"
   },
   {
    "duration": 36,
    "start_time": "2021-10-06T09:31:30.790Z"
   },
   {
    "duration": 78,
    "start_time": "2021-10-06T09:31:30.828Z"
   },
   {
    "duration": 37,
    "start_time": "2021-10-06T09:31:30.910Z"
   },
   {
    "duration": 49,
    "start_time": "2021-10-06T09:31:30.950Z"
   },
   {
    "duration": 14,
    "start_time": "2021-10-06T09:31:31.002Z"
   },
   {
    "duration": 42,
    "start_time": "2021-10-06T09:31:31.018Z"
   },
   {
    "duration": 38,
    "start_time": "2021-10-06T09:31:31.076Z"
   },
   {
    "duration": 38,
    "start_time": "2021-10-06T09:31:31.117Z"
   },
   {
    "duration": 36,
    "start_time": "2021-10-06T09:31:31.178Z"
   },
   {
    "duration": 108,
    "start_time": "2021-10-06T09:31:31.216Z"
   },
   {
    "duration": 4,
    "start_time": "2021-10-06T09:31:31.326Z"
   },
   {
    "duration": 255,
    "start_time": "2021-10-06T09:31:31.332Z"
   },
   {
    "duration": 7,
    "start_time": "2021-10-06T09:31:31.588Z"
   },
   {
    "duration": 19,
    "start_time": "2021-10-06T09:31:31.597Z"
   },
   {
    "duration": 18,
    "start_time": "2021-10-06T09:31:31.618Z"
   },
   {
    "duration": 541,
    "start_time": "2021-10-06T09:31:31.638Z"
   },
   {
    "duration": 240,
    "start_time": "2021-10-06T09:31:50.700Z"
   },
   {
    "duration": 193,
    "start_time": "2021-10-06T09:36:15.358Z"
   },
   {
    "duration": 196,
    "start_time": "2021-10-06T09:36:31.607Z"
   },
   {
    "duration": 210,
    "start_time": "2021-10-06T09:36:36.527Z"
   },
   {
    "duration": 177,
    "start_time": "2021-10-06T09:36:41.225Z"
   },
   {
    "duration": 297,
    "start_time": "2021-10-06T09:46:08.012Z"
   },
   {
    "duration": 336,
    "start_time": "2021-10-06T09:46:31.642Z"
   },
   {
    "duration": 395,
    "start_time": "2021-10-06T09:47:26.047Z"
   },
   {
    "duration": 749,
    "start_time": "2021-10-06T09:50:21.305Z"
   },
   {
    "duration": 339,
    "start_time": "2021-10-06T09:50:36.736Z"
   },
   {
    "duration": 712,
    "start_time": "2021-10-06T09:51:07.651Z"
   },
   {
    "duration": 642,
    "start_time": "2021-10-06T09:51:32.586Z"
   },
   {
    "duration": 689,
    "start_time": "2021-10-06T09:51:50.822Z"
   },
   {
    "duration": 350,
    "start_time": "2021-10-06T09:51:57.581Z"
   },
   {
    "duration": 426,
    "start_time": "2021-10-06T09:55:26.243Z"
   },
   {
    "duration": 936,
    "start_time": "2021-10-06T09:57:42.040Z"
   },
   {
    "duration": 353,
    "start_time": "2021-10-06T09:58:37.074Z"
   },
   {
    "duration": 451,
    "start_time": "2021-10-06T10:01:03.444Z"
   },
   {
    "duration": 261,
    "start_time": "2021-10-07T08:02:04.825Z"
   },
   {
    "duration": 666,
    "start_time": "2021-10-07T08:02:11.421Z"
   },
   {
    "duration": 375,
    "start_time": "2021-10-07T08:02:12.089Z"
   },
   {
    "duration": 53,
    "start_time": "2021-10-07T08:02:12.466Z"
   },
   {
    "duration": 54,
    "start_time": "2021-10-07T08:02:12.520Z"
   },
   {
    "duration": 19,
    "start_time": "2021-10-07T08:02:12.575Z"
   },
   {
    "duration": 9,
    "start_time": "2021-10-07T08:02:12.596Z"
   },
   {
    "duration": 55,
    "start_time": "2021-10-07T08:02:12.606Z"
   },
   {
    "duration": 46,
    "start_time": "2021-10-07T08:02:12.663Z"
   },
   {
    "duration": 59,
    "start_time": "2021-10-07T08:02:12.711Z"
   },
   {
    "duration": 25,
    "start_time": "2021-10-07T08:02:12.771Z"
   },
   {
    "duration": 11,
    "start_time": "2021-10-07T08:02:12.797Z"
   },
   {
    "duration": 51,
    "start_time": "2021-10-07T08:02:12.809Z"
   },
   {
    "duration": 36,
    "start_time": "2021-10-07T08:02:12.861Z"
   },
   {
    "duration": 52,
    "start_time": "2021-10-07T08:02:12.899Z"
   },
   {
    "duration": 36,
    "start_time": "2021-10-07T08:02:12.954Z"
   },
   {
    "duration": 102,
    "start_time": "2021-10-07T08:02:12.991Z"
   },
   {
    "duration": 3,
    "start_time": "2021-10-07T08:02:13.095Z"
   },
   {
    "duration": 256,
    "start_time": "2021-10-07T08:02:13.100Z"
   },
   {
    "duration": 7,
    "start_time": "2021-10-07T08:02:13.358Z"
   },
   {
    "duration": 7,
    "start_time": "2021-10-07T08:02:13.366Z"
   },
   {
    "duration": 10,
    "start_time": "2021-10-07T08:02:13.374Z"
   },
   {
    "duration": 405,
    "start_time": "2021-10-07T08:02:13.386Z"
   },
   {
    "duration": 367,
    "start_time": "2021-10-07T08:03:58.129Z"
   },
   {
    "duration": 329,
    "start_time": "2021-10-07T08:04:15.096Z"
   },
   {
    "duration": 456,
    "start_time": "2021-10-07T08:06:57.421Z"
   },
   {
    "duration": 685,
    "start_time": "2021-10-07T08:07:19.175Z"
   },
   {
    "duration": 338,
    "start_time": "2021-10-07T08:07:41.302Z"
   },
   {
    "duration": 767,
    "start_time": "2021-10-07T08:08:03.799Z"
   },
   {
    "duration": 801,
    "start_time": "2021-10-07T08:08:14.213Z"
   },
   {
    "duration": 663,
    "start_time": "2021-10-07T08:08:38.320Z"
   },
   {
    "duration": 330,
    "start_time": "2021-10-07T08:09:03.579Z"
   },
   {
    "duration": 361,
    "start_time": "2021-10-07T08:09:18.117Z"
   },
   {
    "duration": 343,
    "start_time": "2021-10-07T08:09:31.826Z"
   },
   {
    "duration": 337,
    "start_time": "2021-10-07T08:09:47.208Z"
   },
   {
    "duration": 407,
    "start_time": "2021-10-07T08:12:39.503Z"
   },
   {
    "duration": 345,
    "start_time": "2021-10-07T08:12:51.536Z"
   },
   {
    "duration": 338,
    "start_time": "2021-10-07T08:13:06.053Z"
   },
   {
    "duration": 352,
    "start_time": "2021-10-07T08:13:34.053Z"
   },
   {
    "duration": 391,
    "start_time": "2021-10-07T08:13:46.966Z"
   },
   {
    "duration": 426,
    "start_time": "2021-10-07T08:14:19.410Z"
   },
   {
    "duration": 332,
    "start_time": "2021-10-07T08:15:48.699Z"
   },
   {
    "duration": 356,
    "start_time": "2021-10-07T08:17:15.168Z"
   },
   {
    "duration": 339,
    "start_time": "2021-10-07T08:17:18.964Z"
   },
   {
    "duration": 10495,
    "start_time": "2021-10-07T08:18:25.649Z"
   },
   {
    "duration": 10490,
    "start_time": "2021-10-07T08:18:25.655Z"
   },
   {
    "duration": 10478,
    "start_time": "2021-10-07T08:18:25.668Z"
   },
   {
    "duration": 10474,
    "start_time": "2021-10-07T08:18:25.673Z"
   },
   {
    "duration": 10470,
    "start_time": "2021-10-07T08:18:25.678Z"
   },
   {
    "duration": 10469,
    "start_time": "2021-10-07T08:18:25.680Z"
   },
   {
    "duration": 10468,
    "start_time": "2021-10-07T08:18:25.682Z"
   },
   {
    "duration": 10466,
    "start_time": "2021-10-07T08:18:25.685Z"
   },
   {
    "duration": 10465,
    "start_time": "2021-10-07T08:18:25.687Z"
   },
   {
    "duration": 10464,
    "start_time": "2021-10-07T08:18:25.689Z"
   },
   {
    "duration": 10463,
    "start_time": "2021-10-07T08:18:25.691Z"
   },
   {
    "duration": 10462,
    "start_time": "2021-10-07T08:18:25.693Z"
   },
   {
    "duration": 10461,
    "start_time": "2021-10-07T08:18:25.695Z"
   },
   {
    "duration": 10460,
    "start_time": "2021-10-07T08:18:25.697Z"
   },
   {
    "duration": 10459,
    "start_time": "2021-10-07T08:18:25.699Z"
   },
   {
    "duration": 10458,
    "start_time": "2021-10-07T08:18:25.701Z"
   },
   {
    "duration": 10457,
    "start_time": "2021-10-07T08:18:25.703Z"
   },
   {
    "duration": 10456,
    "start_time": "2021-10-07T08:18:25.705Z"
   },
   {
    "duration": 10455,
    "start_time": "2021-10-07T08:18:25.707Z"
   },
   {
    "duration": 10454,
    "start_time": "2021-10-07T08:18:25.709Z"
   },
   {
    "duration": 10451,
    "start_time": "2021-10-07T08:18:25.713Z"
   },
   {
    "duration": 10450,
    "start_time": "2021-10-07T08:18:25.715Z"
   },
   {
    "duration": 10440,
    "start_time": "2021-10-07T08:18:25.725Z"
   },
   {
    "duration": 10439,
    "start_time": "2021-10-07T08:18:25.727Z"
   },
   {
    "duration": 10437,
    "start_time": "2021-10-07T08:18:25.730Z"
   },
   {
    "duration": 3,
    "start_time": "2021-10-07T08:18:48.360Z"
   },
   {
    "duration": 421,
    "start_time": "2021-10-07T08:18:48.364Z"
   },
   {
    "duration": 51,
    "start_time": "2021-10-07T08:18:48.787Z"
   },
   {
    "duration": 49,
    "start_time": "2021-10-07T08:18:48.840Z"
   },
   {
    "duration": 20,
    "start_time": "2021-10-07T08:18:48.891Z"
   },
   {
    "duration": 11,
    "start_time": "2021-10-07T08:18:48.913Z"
   },
   {
    "duration": 48,
    "start_time": "2021-10-07T08:18:48.926Z"
   },
   {
    "duration": 42,
    "start_time": "2021-10-07T08:18:48.976Z"
   },
   {
    "duration": 52,
    "start_time": "2021-10-07T08:18:49.020Z"
   },
   {
    "duration": 27,
    "start_time": "2021-10-07T08:18:49.074Z"
   },
   {
    "duration": 12,
    "start_time": "2021-10-07T08:18:49.103Z"
   },
   {
    "duration": 59,
    "start_time": "2021-10-07T08:18:49.117Z"
   },
   {
    "duration": 34,
    "start_time": "2021-10-07T08:18:49.178Z"
   },
   {
    "duration": 62,
    "start_time": "2021-10-07T08:18:49.214Z"
   },
   {
    "duration": 36,
    "start_time": "2021-10-07T08:18:49.278Z"
   },
   {
    "duration": 162,
    "start_time": "2021-10-07T08:18:49.316Z"
   },
   {
    "duration": 5,
    "start_time": "2021-10-07T08:18:49.480Z"
   },
   {
    "duration": 260,
    "start_time": "2021-10-07T08:18:49.487Z"
   },
   {
    "duration": 7,
    "start_time": "2021-10-07T08:18:49.749Z"
   },
   {
    "duration": 8,
    "start_time": "2021-10-07T08:18:49.757Z"
   },
   {
    "duration": 8,
    "start_time": "2021-10-07T08:18:49.767Z"
   },
   {
    "duration": 397,
    "start_time": "2021-10-07T08:18:49.776Z"
   },
   {
    "duration": 374,
    "start_time": "2021-10-07T08:18:50.175Z"
   },
   {
    "duration": 358,
    "start_time": "2021-10-07T08:18:50.550Z"
   },
   {
    "duration": 340,
    "start_time": "2021-10-07T08:18:50.909Z"
   },
   {
    "duration": 225,
    "start_time": "2021-10-07T08:20:12.057Z"
   },
   {
    "duration": 232,
    "start_time": "2021-10-07T08:20:28.526Z"
   },
   {
    "duration": 326,
    "start_time": "2021-10-07T08:20:40.870Z"
   },
   {
    "duration": 230,
    "start_time": "2021-10-07T08:20:46.502Z"
   },
   {
    "duration": 258,
    "start_time": "2021-10-07T08:20:51.070Z"
   },
   {
    "duration": 2,
    "start_time": "2021-10-07T08:21:04.873Z"
   },
   {
    "duration": 397,
    "start_time": "2021-10-07T08:21:04.877Z"
   },
   {
    "duration": 49,
    "start_time": "2021-10-07T08:21:05.276Z"
   },
   {
    "duration": 52,
    "start_time": "2021-10-07T08:21:05.327Z"
   },
   {
    "duration": 22,
    "start_time": "2021-10-07T08:21:05.381Z"
   },
   {
    "duration": 89,
    "start_time": "2021-10-07T08:21:05.405Z"
   },
   {
    "duration": 29,
    "start_time": "2021-10-07T08:21:05.496Z"
   },
   {
    "duration": 43,
    "start_time": "2021-10-07T08:21:05.544Z"
   },
   {
    "duration": 38,
    "start_time": "2021-10-07T08:21:05.590Z"
   },
   {
    "duration": 27,
    "start_time": "2021-10-07T08:21:05.644Z"
   },
   {
    "duration": 13,
    "start_time": "2021-10-07T08:21:05.673Z"
   },
   {
    "duration": 57,
    "start_time": "2021-10-07T08:21:05.688Z"
   },
   {
    "duration": 35,
    "start_time": "2021-10-07T08:21:05.747Z"
   },
   {
    "duration": 37,
    "start_time": "2021-10-07T08:21:05.784Z"
   },
   {
    "duration": 53,
    "start_time": "2021-10-07T08:21:05.822Z"
   },
   {
    "duration": 52,
    "start_time": "2021-10-07T08:21:05.877Z"
   },
   {
    "duration": 4,
    "start_time": "2021-10-07T08:21:05.945Z"
   },
   {
    "duration": 269,
    "start_time": "2021-10-07T08:21:05.951Z"
   },
   {
    "duration": 7,
    "start_time": "2021-10-07T08:21:06.221Z"
   },
   {
    "duration": 21,
    "start_time": "2021-10-07T08:21:06.229Z"
   },
   {
    "duration": 14,
    "start_time": "2021-10-07T08:21:06.251Z"
   },
   {
    "duration": 429,
    "start_time": "2021-10-07T08:21:06.266Z"
   },
   {
    "duration": 10470,
    "start_time": "2021-10-07T08:20:56.227Z"
   },
   {
    "duration": 10467,
    "start_time": "2021-10-07T08:20:56.230Z"
   },
   {
    "duration": 10464,
    "start_time": "2021-10-07T08:20:56.234Z"
   },
   {
    "duration": 3,
    "start_time": "2021-10-07T08:21:26.037Z"
   },
   {
    "duration": 378,
    "start_time": "2021-10-07T08:21:26.042Z"
   },
   {
    "duration": 51,
    "start_time": "2021-10-07T08:21:26.422Z"
   },
   {
    "duration": 50,
    "start_time": "2021-10-07T08:21:26.475Z"
   },
   {
    "duration": 20,
    "start_time": "2021-10-07T08:21:26.545Z"
   },
   {
    "duration": 10,
    "start_time": "2021-10-07T08:21:26.567Z"
   },
   {
    "duration": 30,
    "start_time": "2021-10-07T08:21:26.579Z"
   },
   {
    "duration": 67,
    "start_time": "2021-10-07T08:21:26.611Z"
   },
   {
    "duration": 33,
    "start_time": "2021-10-07T08:21:26.681Z"
   },
   {
    "duration": 44,
    "start_time": "2021-10-07T08:21:26.717Z"
   },
   {
    "duration": 11,
    "start_time": "2021-10-07T08:21:26.763Z"
   },
   {
    "duration": 32,
    "start_time": "2021-10-07T08:21:26.775Z"
   },
   {
    "duration": 58,
    "start_time": "2021-10-07T08:21:26.809Z"
   },
   {
    "duration": 36,
    "start_time": "2021-10-07T08:21:26.869Z"
   },
   {
    "duration": 59,
    "start_time": "2021-10-07T08:21:26.907Z"
   },
   {
    "duration": 53,
    "start_time": "2021-10-07T08:21:26.968Z"
   },
   {
    "duration": 21,
    "start_time": "2021-10-07T08:21:27.023Z"
   },
   {
    "duration": 253,
    "start_time": "2021-10-07T08:21:27.046Z"
   },
   {
    "duration": 8,
    "start_time": "2021-10-07T08:21:27.301Z"
   },
   {
    "duration": 9,
    "start_time": "2021-10-07T08:21:27.311Z"
   },
   {
    "duration": 31,
    "start_time": "2021-10-07T08:21:27.321Z"
   },
   {
    "duration": 360,
    "start_time": "2021-10-07T08:21:27.353Z"
   },
   {
    "duration": 522,
    "start_time": "2021-10-07T08:21:27.714Z"
   },
   {
    "duration": 468,
    "start_time": "2021-10-07T08:21:28.238Z"
   },
   {
    "duration": 753,
    "start_time": "2021-10-07T08:21:28.708Z"
   },
   {
    "duration": 3,
    "start_time": "2021-10-07T08:25:14.985Z"
   },
   {
    "duration": 402,
    "start_time": "2021-10-07T08:25:14.990Z"
   },
   {
    "duration": 46,
    "start_time": "2021-10-07T08:25:15.394Z"
   },
   {
    "duration": 46,
    "start_time": "2021-10-07T08:25:15.442Z"
   },
   {
    "duration": 19,
    "start_time": "2021-10-07T08:25:15.489Z"
   },
   {
    "duration": 13,
    "start_time": "2021-10-07T08:25:15.509Z"
   },
   {
    "duration": 45,
    "start_time": "2021-10-07T08:25:15.524Z"
   },
   {
    "duration": 41,
    "start_time": "2021-10-07T08:25:15.571Z"
   },
   {
    "duration": 56,
    "start_time": "2021-10-07T08:25:15.614Z"
   },
   {
    "duration": 25,
    "start_time": "2021-10-07T08:25:15.671Z"
   },
   {
    "duration": 28,
    "start_time": "2021-10-07T08:25:15.698Z"
   },
   {
    "duration": 36,
    "start_time": "2021-10-07T08:25:15.727Z"
   },
   {
    "duration": 34,
    "start_time": "2021-10-07T08:25:15.765Z"
   },
   {
    "duration": 53,
    "start_time": "2021-10-07T08:25:15.800Z"
   },
   {
    "duration": 35,
    "start_time": "2021-10-07T08:25:15.855Z"
   },
   {
    "duration": 67,
    "start_time": "2021-10-07T08:25:15.892Z"
   },
   {
    "duration": 4,
    "start_time": "2021-10-07T08:25:15.960Z"
   },
   {
    "duration": 251,
    "start_time": "2021-10-07T08:25:15.965Z"
   },
   {
    "duration": 6,
    "start_time": "2021-10-07T08:25:16.217Z"
   },
   {
    "duration": 23,
    "start_time": "2021-10-07T08:25:16.225Z"
   },
   {
    "duration": 20,
    "start_time": "2021-10-07T08:25:16.249Z"
   },
   {
    "duration": 399,
    "start_time": "2021-10-07T08:25:16.271Z"
   },
   {
    "duration": 470,
    "start_time": "2021-10-07T08:25:16.674Z"
   },
   {
    "duration": 477,
    "start_time": "2021-10-07T08:25:17.146Z"
   },
   {
    "duration": 606,
    "start_time": "2021-10-07T08:25:17.625Z"
   },
   {
    "duration": 3,
    "start_time": "2021-10-07T08:25:35.543Z"
   },
   {
    "duration": 402,
    "start_time": "2021-10-07T08:25:35.548Z"
   },
   {
    "duration": 48,
    "start_time": "2021-10-07T08:25:35.952Z"
   },
   {
    "duration": 61,
    "start_time": "2021-10-07T08:25:36.001Z"
   },
   {
    "duration": 19,
    "start_time": "2021-10-07T08:25:36.064Z"
   },
   {
    "duration": 14,
    "start_time": "2021-10-07T08:25:36.084Z"
   },
   {
    "duration": 50,
    "start_time": "2021-10-07T08:25:36.099Z"
   },
   {
    "duration": 42,
    "start_time": "2021-10-07T08:25:36.151Z"
   },
   {
    "duration": 54,
    "start_time": "2021-10-07T08:25:36.196Z"
   },
   {
    "duration": 24,
    "start_time": "2021-10-07T08:25:36.252Z"
   },
   {
    "duration": 15,
    "start_time": "2021-10-07T08:25:36.278Z"
   },
   {
    "duration": 43,
    "start_time": "2021-10-07T08:25:36.294Z"
   },
   {
    "duration": 36,
    "start_time": "2021-10-07T08:25:36.338Z"
   },
   {
    "duration": 33,
    "start_time": "2021-10-07T08:25:36.375Z"
   },
   {
    "duration": 49,
    "start_time": "2021-10-07T08:25:36.410Z"
   },
   {
    "duration": 124,
    "start_time": "2021-10-07T08:25:36.461Z"
   },
   {
    "duration": 4,
    "start_time": "2021-10-07T08:25:36.586Z"
   },
   {
    "duration": 244,
    "start_time": "2021-10-07T08:25:36.592Z"
   },
   {
    "duration": 11,
    "start_time": "2021-10-07T08:25:36.838Z"
   },
   {
    "duration": 16,
    "start_time": "2021-10-07T08:25:36.851Z"
   },
   {
    "duration": 18,
    "start_time": "2021-10-07T08:25:36.869Z"
   },
   {
    "duration": 347,
    "start_time": "2021-10-07T08:25:36.889Z"
   },
   {
    "duration": 457,
    "start_time": "2021-10-07T08:25:37.245Z"
   },
   {
    "duration": 465,
    "start_time": "2021-10-07T08:25:37.703Z"
   },
   {
    "duration": 589,
    "start_time": "2021-10-07T08:25:38.169Z"
   },
   {
    "duration": 2,
    "start_time": "2021-10-07T08:27:01.123Z"
   },
   {
    "duration": 411,
    "start_time": "2021-10-07T08:27:01.127Z"
   },
   {
    "duration": 50,
    "start_time": "2021-10-07T08:27:01.540Z"
   },
   {
    "duration": 64,
    "start_time": "2021-10-07T08:27:01.592Z"
   },
   {
    "duration": 21,
    "start_time": "2021-10-07T08:27:01.658Z"
   },
   {
    "duration": 12,
    "start_time": "2021-10-07T08:27:01.681Z"
   },
   {
    "duration": 60,
    "start_time": "2021-10-07T08:27:01.695Z"
   },
   {
    "duration": 45,
    "start_time": "2021-10-07T08:27:01.757Z"
   },
   {
    "duration": 60,
    "start_time": "2021-10-07T08:27:01.805Z"
   },
   {
    "duration": 26,
    "start_time": "2021-10-07T08:27:01.868Z"
   },
   {
    "duration": 12,
    "start_time": "2021-10-07T08:27:01.896Z"
   },
   {
    "duration": 57,
    "start_time": "2021-10-07T08:27:01.910Z"
   },
   {
    "duration": 32,
    "start_time": "2021-10-07T08:27:01.969Z"
   },
   {
    "duration": 57,
    "start_time": "2021-10-07T08:27:02.003Z"
   },
   {
    "duration": 35,
    "start_time": "2021-10-07T08:27:02.062Z"
   },
   {
    "duration": 146,
    "start_time": "2021-10-07T08:27:02.099Z"
   },
   {
    "duration": 5,
    "start_time": "2021-10-07T08:27:02.247Z"
   },
   {
    "duration": 256,
    "start_time": "2021-10-07T08:27:02.253Z"
   },
   {
    "duration": 6,
    "start_time": "2021-10-07T08:27:02.511Z"
   },
   {
    "duration": 14,
    "start_time": "2021-10-07T08:27:02.518Z"
   },
   {
    "duration": 15,
    "start_time": "2021-10-07T08:27:02.534Z"
   },
   {
    "duration": 870,
    "start_time": "2021-10-07T08:27:02.551Z"
   },
   {
    "duration": 465,
    "start_time": "2021-10-07T08:27:03.423Z"
   },
   {
    "duration": 536,
    "start_time": "2021-10-07T08:27:03.890Z"
   },
   {
    "duration": 624,
    "start_time": "2021-10-07T08:27:04.428Z"
   },
   {
    "duration": 408,
    "start_time": "2021-10-07T08:54:57.792Z"
   },
   {
    "duration": 384,
    "start_time": "2021-10-07T08:55:08.638Z"
   },
   {
    "duration": 380,
    "start_time": "2021-10-07T08:56:16.092Z"
   },
   {
    "duration": 409,
    "start_time": "2021-10-07T08:56:16.474Z"
   },
   {
    "duration": 56,
    "start_time": "2021-10-07T08:56:16.885Z"
   },
   {
    "duration": 56,
    "start_time": "2021-10-07T08:56:16.944Z"
   },
   {
    "duration": 21,
    "start_time": "2021-10-07T08:56:17.002Z"
   },
   {
    "duration": 19,
    "start_time": "2021-10-07T08:56:17.045Z"
   },
   {
    "duration": 26,
    "start_time": "2021-10-07T08:56:17.065Z"
   },
   {
    "duration": 72,
    "start_time": "2021-10-07T08:56:17.093Z"
   },
   {
    "duration": 46,
    "start_time": "2021-10-07T08:56:17.167Z"
   },
   {
    "duration": 52,
    "start_time": "2021-10-07T08:56:17.215Z"
   },
   {
    "duration": 12,
    "start_time": "2021-10-07T08:56:17.269Z"
   },
   {
    "duration": 33,
    "start_time": "2021-10-07T08:56:17.282Z"
   },
   {
    "duration": 60,
    "start_time": "2021-10-07T08:56:17.317Z"
   },
   {
    "duration": 33,
    "start_time": "2021-10-07T08:56:17.379Z"
   },
   {
    "duration": 57,
    "start_time": "2021-10-07T08:56:17.414Z"
   },
   {
    "duration": 132,
    "start_time": "2021-10-07T08:56:17.473Z"
   },
   {
    "duration": 4,
    "start_time": "2021-10-07T08:56:17.606Z"
   },
   {
    "duration": 265,
    "start_time": "2021-10-07T08:56:17.612Z"
   },
   {
    "duration": 7,
    "start_time": "2021-10-07T08:56:17.879Z"
   },
   {
    "duration": 27,
    "start_time": "2021-10-07T08:56:17.887Z"
   },
   {
    "duration": 17,
    "start_time": "2021-10-07T08:56:17.915Z"
   },
   {
    "duration": 381,
    "start_time": "2021-10-07T08:56:17.933Z"
   },
   {
    "duration": 520,
    "start_time": "2021-10-07T08:56:18.316Z"
   },
   {
    "duration": 547,
    "start_time": "2021-10-07T08:56:18.838Z"
   },
   {
    "duration": 722,
    "start_time": "2021-10-07T08:56:19.386Z"
   },
   {
    "duration": 9,
    "start_time": "2021-10-07T08:56:20.110Z"
   },
   {
    "duration": 10,
    "start_time": "2021-10-07T08:58:37.063Z"
   },
   {
    "duration": 10,
    "start_time": "2021-10-07T08:58:57.800Z"
   },
   {
    "duration": 8,
    "start_time": "2021-10-07T09:01:52.064Z"
   },
   {
    "duration": 3,
    "start_time": "2021-10-07T16:31:09.451Z"
   },
   {
    "duration": 504,
    "start_time": "2021-10-07T16:31:09.456Z"
   },
   {
    "duration": 49,
    "start_time": "2021-10-07T16:31:09.962Z"
   },
   {
    "duration": 59,
    "start_time": "2021-10-07T16:31:10.013Z"
   },
   {
    "duration": 21,
    "start_time": "2021-10-07T16:31:10.074Z"
   },
   {
    "duration": 10,
    "start_time": "2021-10-07T16:31:10.097Z"
   },
   {
    "duration": 65,
    "start_time": "2021-10-07T16:31:10.108Z"
   },
   {
    "duration": 46,
    "start_time": "2021-10-07T16:31:10.176Z"
   },
   {
    "duration": 59,
    "start_time": "2021-10-07T16:31:10.224Z"
   },
   {
    "duration": 24,
    "start_time": "2021-10-07T16:31:10.285Z"
   },
   {
    "duration": 11,
    "start_time": "2021-10-07T16:31:10.310Z"
   },
   {
    "duration": 49,
    "start_time": "2021-10-07T16:31:10.322Z"
   },
   {
    "duration": 31,
    "start_time": "2021-10-07T16:31:10.372Z"
   },
   {
    "duration": 61,
    "start_time": "2021-10-07T16:31:10.404Z"
   },
   {
    "duration": 36,
    "start_time": "2021-10-07T16:31:10.466Z"
   },
   {
    "duration": 70,
    "start_time": "2021-10-07T16:31:10.503Z"
   },
   {
    "duration": 4,
    "start_time": "2021-10-07T16:31:10.575Z"
   },
   {
    "duration": 274,
    "start_time": "2021-10-07T16:31:10.580Z"
   },
   {
    "duration": 10,
    "start_time": "2021-10-07T16:31:10.856Z"
   },
   {
    "duration": 8,
    "start_time": "2021-10-07T16:31:10.867Z"
   },
   {
    "duration": 32,
    "start_time": "2021-10-07T16:31:10.876Z"
   },
   {
    "duration": 388,
    "start_time": "2021-10-07T16:31:10.910Z"
   },
   {
    "duration": 504,
    "start_time": "2021-10-07T16:31:11.302Z"
   },
   {
    "duration": 508,
    "start_time": "2021-10-07T16:31:11.807Z"
   },
   {
    "duration": 737,
    "start_time": "2021-10-07T16:31:12.316Z"
   },
   {
    "duration": 630,
    "start_time": "2021-10-07T16:31:13.055Z"
   },
   {
    "duration": 10297,
    "start_time": "2021-10-07T16:31:03.390Z"
   },
   {
    "duration": 828,
    "start_time": "2021-10-07T17:14:09.109Z"
   },
   {
    "duration": 1185,
    "start_time": "2021-10-07T17:15:30.420Z"
   },
   {
    "duration": 10,
    "start_time": "2021-10-07T17:16:09.508Z"
   },
   {
    "duration": 4728,
    "start_time": "2021-10-07T17:17:16.604Z"
   },
   {
    "duration": 719,
    "start_time": "2021-10-07T17:18:23.033Z"
   },
   {
    "duration": 4535,
    "start_time": "2021-10-07T17:18:46.883Z"
   },
   {
    "duration": 4608,
    "start_time": "2021-10-07T17:19:56.326Z"
   },
   {
    "duration": 4383,
    "start_time": "2021-10-07T17:20:24.186Z"
   },
   {
    "duration": 4036,
    "start_time": "2021-10-07T17:20:45.195Z"
   },
   {
    "duration": 584,
    "start_time": "2021-10-07T17:21:01.310Z"
   },
   {
    "duration": 6773,
    "start_time": "2021-10-07T17:21:19.308Z"
   },
   {
    "duration": 3110,
    "start_time": "2021-10-07T17:27:47.074Z"
   },
   {
    "duration": 12,
    "start_time": "2021-10-07T17:30:25.809Z"
   },
   {
    "duration": 16,
    "start_time": "2021-10-07T17:30:40.445Z"
   },
   {
    "duration": 11,
    "start_time": "2021-10-07T17:31:29.378Z"
   },
   {
    "duration": 121,
    "start_time": "2021-10-07T17:32:56.047Z"
   },
   {
    "duration": 12,
    "start_time": "2021-10-07T17:33:14.176Z"
   },
   {
    "duration": 79,
    "start_time": "2021-10-07T17:34:49.344Z"
   },
   {
    "duration": 230,
    "start_time": "2021-10-07T17:35:20.681Z"
   },
   {
    "duration": 380,
    "start_time": "2021-10-07T17:35:39.461Z"
   },
   {
    "duration": 444,
    "start_time": "2021-10-07T17:35:49.405Z"
   },
   {
    "duration": 382,
    "start_time": "2021-10-07T17:36:03.141Z"
   },
   {
    "duration": 1011,
    "start_time": "2021-10-07T17:36:26.057Z"
   },
   {
    "duration": 13,
    "start_time": "2021-10-07T17:37:11.377Z"
   },
   {
    "duration": 16,
    "start_time": "2021-10-07T17:38:19.453Z"
   },
   {
    "duration": 13,
    "start_time": "2021-10-07T17:38:49.763Z"
   },
   {
    "duration": 14,
    "start_time": "2021-10-07T17:39:13.728Z"
   },
   {
    "duration": 3,
    "start_time": "2021-10-07T17:40:05.156Z"
   },
   {
    "duration": 410,
    "start_time": "2021-10-07T17:40:05.160Z"
   },
   {
    "duration": 53,
    "start_time": "2021-10-07T17:40:05.572Z"
   },
   {
    "duration": 55,
    "start_time": "2021-10-07T17:40:05.626Z"
   },
   {
    "duration": 21,
    "start_time": "2021-10-07T17:40:05.683Z"
   },
   {
    "duration": 11,
    "start_time": "2021-10-07T17:40:05.706Z"
   },
   {
    "duration": 59,
    "start_time": "2021-10-07T17:40:05.718Z"
   },
   {
    "duration": 44,
    "start_time": "2021-10-07T17:40:05.780Z"
   },
   {
    "duration": 57,
    "start_time": "2021-10-07T17:40:05.826Z"
   },
   {
    "duration": 24,
    "start_time": "2021-10-07T17:40:05.885Z"
   },
   {
    "duration": 35,
    "start_time": "2021-10-07T17:40:05.911Z"
   },
   {
    "duration": 34,
    "start_time": "2021-10-07T17:40:05.948Z"
   },
   {
    "duration": 32,
    "start_time": "2021-10-07T17:40:05.983Z"
   },
   {
    "duration": 61,
    "start_time": "2021-10-07T17:40:06.016Z"
   },
   {
    "duration": 39,
    "start_time": "2021-10-07T17:40:06.078Z"
   },
   {
    "duration": 77,
    "start_time": "2021-10-07T17:40:06.119Z"
   },
   {
    "duration": 4,
    "start_time": "2021-10-07T17:40:06.197Z"
   },
   {
    "duration": 277,
    "start_time": "2021-10-07T17:40:06.203Z"
   },
   {
    "duration": 6,
    "start_time": "2021-10-07T17:40:06.482Z"
   },
   {
    "duration": 16,
    "start_time": "2021-10-07T17:40:06.490Z"
   },
   {
    "duration": 28,
    "start_time": "2021-10-07T17:40:06.507Z"
   },
   {
    "duration": 394,
    "start_time": "2021-10-07T17:40:06.537Z"
   },
   {
    "duration": 621,
    "start_time": "2021-10-07T17:40:06.934Z"
   },
   {
    "duration": 581,
    "start_time": "2021-10-07T17:40:07.557Z"
   },
   {
    "duration": 671,
    "start_time": "2021-10-07T17:40:08.145Z"
   },
   {
    "duration": 13,
    "start_time": "2021-10-07T17:40:08.818Z"
   },
   {
    "duration": 26,
    "start_time": "2021-10-07T17:40:08.833Z"
   },
   {
    "duration": 3,
    "start_time": "2021-10-07T17:41:23.968Z"
   },
   {
    "duration": 441,
    "start_time": "2021-10-07T17:41:23.973Z"
   },
   {
    "duration": 57,
    "start_time": "2021-10-07T17:41:24.416Z"
   },
   {
    "duration": 49,
    "start_time": "2021-10-07T17:41:24.475Z"
   },
   {
    "duration": 39,
    "start_time": "2021-10-07T17:41:24.526Z"
   },
   {
    "duration": 10,
    "start_time": "2021-10-07T17:41:24.567Z"
   },
   {
    "duration": 30,
    "start_time": "2021-10-07T17:41:24.579Z"
   },
   {
    "duration": 78,
    "start_time": "2021-10-07T17:41:24.611Z"
   },
   {
    "duration": 62,
    "start_time": "2021-10-07T17:41:24.692Z"
   },
   {
    "duration": 30,
    "start_time": "2021-10-07T17:41:24.757Z"
   },
   {
    "duration": 10,
    "start_time": "2021-10-07T17:41:24.789Z"
   },
   {
    "duration": 53,
    "start_time": "2021-10-07T17:41:24.801Z"
   },
   {
    "duration": 35,
    "start_time": "2021-10-07T17:41:24.856Z"
   },
   {
    "duration": 53,
    "start_time": "2021-10-07T17:41:24.893Z"
   },
   {
    "duration": 38,
    "start_time": "2021-10-07T17:41:24.948Z"
   },
   {
    "duration": 69,
    "start_time": "2021-10-07T17:41:24.987Z"
   },
   {
    "duration": 4,
    "start_time": "2021-10-07T17:41:25.059Z"
   },
   {
    "duration": 270,
    "start_time": "2021-10-07T17:41:25.065Z"
   },
   {
    "duration": 14,
    "start_time": "2021-10-07T17:41:25.336Z"
   },
   {
    "duration": 11,
    "start_time": "2021-10-07T17:41:25.353Z"
   },
   {
    "duration": 14,
    "start_time": "2021-10-07T17:41:25.366Z"
   },
   {
    "duration": 392,
    "start_time": "2021-10-07T17:41:25.382Z"
   },
   {
    "duration": 599,
    "start_time": "2021-10-07T17:41:25.777Z"
   },
   {
    "duration": 504,
    "start_time": "2021-10-07T17:41:26.378Z"
   },
   {
    "duration": 686,
    "start_time": "2021-10-07T17:41:26.883Z"
   },
   {
    "duration": 15,
    "start_time": "2021-10-07T17:41:27.571Z"
   },
   {
    "duration": 12,
    "start_time": "2021-10-07T17:41:27.587Z"
   },
   {
    "duration": 347,
    "start_time": "2021-10-08T05:38:54.507Z"
   },
   {
    "duration": 88,
    "start_time": "2021-10-08T05:38:57.067Z"
   },
   {
    "duration": 1387,
    "start_time": "2021-10-08T05:59:46.276Z"
   },
   {
    "duration": 687,
    "start_time": "2021-10-08T05:59:47.666Z"
   },
   {
    "duration": 125,
    "start_time": "2021-10-08T05:59:48.357Z"
   },
   {
    "duration": 132,
    "start_time": "2021-10-08T05:59:48.485Z"
   },
   {
    "duration": 45,
    "start_time": "2021-10-08T05:59:48.620Z"
   },
   {
    "duration": 49,
    "start_time": "2021-10-08T05:59:48.668Z"
   },
   {
    "duration": 86,
    "start_time": "2021-10-08T05:59:48.720Z"
   },
   {
    "duration": 132,
    "start_time": "2021-10-08T05:59:48.809Z"
   },
   {
    "duration": 89,
    "start_time": "2021-10-08T05:59:48.947Z"
   },
   {
    "duration": 62,
    "start_time": "2021-10-08T05:59:49.041Z"
   },
   {
    "duration": 15,
    "start_time": "2021-10-08T05:59:49.105Z"
   },
   {
    "duration": 45,
    "start_time": "2021-10-08T05:59:49.123Z"
   },
   {
    "duration": 78,
    "start_time": "2021-10-08T05:59:49.170Z"
   },
   {
    "duration": 71,
    "start_time": "2021-10-08T05:59:49.250Z"
   },
   {
    "duration": 53,
    "start_time": "2021-10-08T05:59:49.324Z"
   },
   {
    "duration": 98,
    "start_time": "2021-10-08T05:59:49.379Z"
   },
   {
    "duration": 7,
    "start_time": "2021-10-08T05:59:49.479Z"
   },
   {
    "duration": 440,
    "start_time": "2021-10-08T05:59:49.500Z"
   },
   {
    "duration": 9,
    "start_time": "2021-10-08T05:59:49.942Z"
   },
   {
    "duration": 15,
    "start_time": "2021-10-08T05:59:49.953Z"
   },
   {
    "duration": 42,
    "start_time": "2021-10-08T05:59:49.971Z"
   },
   {
    "duration": 1598,
    "start_time": "2021-10-08T05:59:50.016Z"
   },
   {
    "duration": 912,
    "start_time": "2021-10-08T05:59:51.617Z"
   },
   {
    "duration": 855,
    "start_time": "2021-10-08T05:59:52.532Z"
   },
   {
    "duration": 1111,
    "start_time": "2021-10-08T05:59:53.390Z"
   },
   {
    "duration": 22,
    "start_time": "2021-10-08T05:59:54.504Z"
   },
   {
    "duration": 15,
    "start_time": "2021-10-08T05:59:54.531Z"
   },
   {
    "duration": 1109,
    "start_time": "2021-10-08T06:00:24.946Z"
   },
   {
    "duration": 873,
    "start_time": "2021-10-08T06:01:19.946Z"
   },
   {
    "duration": 140,
    "start_time": "2021-10-08T06:26:23.639Z"
   },
   {
    "duration": 1698,
    "start_time": "2021-10-08T06:27:20.764Z"
   },
   {
    "duration": 1323,
    "start_time": "2021-10-08T06:29:33.790Z"
   },
   {
    "duration": 4,
    "start_time": "2021-10-08T06:47:07.968Z"
   },
   {
    "duration": 579,
    "start_time": "2021-10-08T06:47:07.974Z"
   },
   {
    "duration": 71,
    "start_time": "2021-10-08T06:47:08.556Z"
   },
   {
    "duration": 84,
    "start_time": "2021-10-08T06:47:08.630Z"
   },
   {
    "duration": 37,
    "start_time": "2021-10-08T06:47:08.718Z"
   },
   {
    "duration": 49,
    "start_time": "2021-10-08T06:47:08.758Z"
   },
   {
    "duration": 92,
    "start_time": "2021-10-08T06:47:08.810Z"
   },
   {
    "duration": 62,
    "start_time": "2021-10-08T06:47:08.904Z"
   },
   {
    "duration": 68,
    "start_time": "2021-10-08T06:47:08.970Z"
   },
   {
    "duration": 60,
    "start_time": "2021-10-08T06:47:09.041Z"
   },
   {
    "duration": 16,
    "start_time": "2021-10-08T06:47:09.104Z"
   },
   {
    "duration": 53,
    "start_time": "2021-10-08T06:47:09.122Z"
   },
   {
    "duration": 50,
    "start_time": "2021-10-08T06:47:09.200Z"
   },
   {
    "duration": 76,
    "start_time": "2021-10-08T06:47:09.252Z"
   },
   {
    "duration": 51,
    "start_time": "2021-10-08T06:47:09.331Z"
   },
   {
    "duration": 192,
    "start_time": "2021-10-08T06:47:09.400Z"
   },
   {
    "duration": 10,
    "start_time": "2021-10-08T06:47:09.595Z"
   },
   {
    "duration": 453,
    "start_time": "2021-10-08T06:47:09.607Z"
   },
   {
    "duration": 9,
    "start_time": "2021-10-08T06:47:10.062Z"
   },
   {
    "duration": 32,
    "start_time": "2021-10-08T06:47:10.073Z"
   },
   {
    "duration": 11,
    "start_time": "2021-10-08T06:47:10.107Z"
   },
   {
    "duration": 690,
    "start_time": "2021-10-08T06:47:10.120Z"
   },
   {
    "duration": 1273,
    "start_time": "2021-10-08T06:47:10.813Z"
   },
   {
    "duration": 820,
    "start_time": "2021-10-08T06:47:12.100Z"
   },
   {
    "duration": 1311,
    "start_time": "2021-10-08T06:47:12.922Z"
   },
   {
    "duration": 7,
    "start_time": "2021-10-08T06:47:14.236Z"
   },
   {
    "duration": 41,
    "start_time": "2021-10-08T06:47:14.247Z"
   },
   {
    "duration": 21,
    "start_time": "2021-10-08T06:47:14.291Z"
   },
   {
    "duration": 89,
    "start_time": "2021-10-08T06:56:11.119Z"
   },
   {
    "duration": 667,
    "start_time": "2021-10-08T07:12:45.098Z"
   },
   {
    "duration": 4,
    "start_time": "2021-10-08T07:13:16.946Z"
   },
   {
    "duration": 544,
    "start_time": "2021-10-08T07:13:16.953Z"
   },
   {
    "duration": 70,
    "start_time": "2021-10-08T07:13:17.500Z"
   },
   {
    "duration": 90,
    "start_time": "2021-10-08T07:13:17.573Z"
   },
   {
    "duration": 45,
    "start_time": "2021-10-08T07:13:17.666Z"
   },
   {
    "duration": 17,
    "start_time": "2021-10-08T07:13:17.714Z"
   },
   {
    "duration": 79,
    "start_time": "2021-10-08T07:13:17.734Z"
   },
   {
    "duration": 68,
    "start_time": "2021-10-08T07:13:17.817Z"
   },
   {
    "duration": 60,
    "start_time": "2021-10-08T07:13:17.888Z"
   },
   {
    "duration": 67,
    "start_time": "2021-10-08T07:13:17.951Z"
   },
   {
    "duration": 18,
    "start_time": "2021-10-08T07:13:18.021Z"
   },
   {
    "duration": 73,
    "start_time": "2021-10-08T07:13:18.042Z"
   },
   {
    "duration": 51,
    "start_time": "2021-10-08T07:13:18.117Z"
   },
   {
    "duration": 74,
    "start_time": "2021-10-08T07:13:18.171Z"
   },
   {
    "duration": 79,
    "start_time": "2021-10-08T07:13:18.248Z"
   },
   {
    "duration": 96,
    "start_time": "2021-10-08T07:13:18.330Z"
   },
   {
    "duration": 7,
    "start_time": "2021-10-08T07:13:18.429Z"
   },
   {
    "duration": 561,
    "start_time": "2021-10-08T07:13:18.439Z"
   },
   {
    "duration": 9,
    "start_time": "2021-10-08T07:13:19.003Z"
   },
   {
    "duration": 10,
    "start_time": "2021-10-08T07:13:19.015Z"
   },
   {
    "duration": 10,
    "start_time": "2021-10-08T07:13:19.028Z"
   },
   {
    "duration": 699,
    "start_time": "2021-10-08T07:13:19.040Z"
   },
   {
    "duration": 1525,
    "start_time": "2021-10-08T07:13:19.744Z"
   },
   {
    "duration": 864,
    "start_time": "2021-10-08T07:13:21.272Z"
   },
   {
    "duration": 1319,
    "start_time": "2021-10-08T07:13:22.139Z"
   },
   {
    "duration": 6,
    "start_time": "2021-10-08T07:13:23.461Z"
   },
   {
    "duration": 43,
    "start_time": "2021-10-08T07:13:23.470Z"
   },
   {
    "duration": 22,
    "start_time": "2021-10-08T07:13:23.515Z"
   },
   {
    "duration": 1110,
    "start_time": "2021-10-08T07:24:34.809Z"
   },
   {
    "duration": 386,
    "start_time": "2021-10-08T07:24:35.921Z"
   },
   {
    "duration": 58,
    "start_time": "2021-10-08T07:24:36.309Z"
   },
   {
    "duration": 52,
    "start_time": "2021-10-08T07:24:36.370Z"
   },
   {
    "duration": 40,
    "start_time": "2021-10-08T07:24:36.423Z"
   },
   {
    "duration": 10,
    "start_time": "2021-10-08T07:24:36.465Z"
   },
   {
    "duration": 31,
    "start_time": "2021-10-08T07:24:36.477Z"
   },
   {
    "duration": 77,
    "start_time": "2021-10-08T07:24:36.509Z"
   },
   {
    "duration": 34,
    "start_time": "2021-10-08T07:24:36.589Z"
   },
   {
    "duration": 37,
    "start_time": "2021-10-08T07:24:36.625Z"
   },
   {
    "duration": 11,
    "start_time": "2021-10-08T07:24:36.663Z"
   },
   {
    "duration": 47,
    "start_time": "2021-10-08T07:24:36.676Z"
   },
   {
    "duration": 40,
    "start_time": "2021-10-08T07:24:36.725Z"
   },
   {
    "duration": 35,
    "start_time": "2021-10-08T07:24:36.767Z"
   },
   {
    "duration": 52,
    "start_time": "2021-10-08T07:24:36.804Z"
   },
   {
    "duration": 51,
    "start_time": "2021-10-08T07:24:36.857Z"
   },
   {
    "duration": 4,
    "start_time": "2021-10-08T07:24:36.909Z"
   },
   {
    "duration": 251,
    "start_time": "2021-10-08T07:24:36.915Z"
   },
   {
    "duration": 7,
    "start_time": "2021-10-08T07:24:37.167Z"
   },
   {
    "duration": 13,
    "start_time": "2021-10-08T07:24:37.176Z"
   },
   {
    "duration": 7,
    "start_time": "2021-10-08T07:24:37.191Z"
   },
   {
    "duration": 134055,
    "start_time": "2021-10-08T07:24:37.199Z"
   },
   {
    "duration": 768,
    "start_time": "2021-10-08T07:26:51.256Z"
   },
   {
    "duration": 493,
    "start_time": "2021-10-08T07:26:52.025Z"
   },
   {
    "duration": 636,
    "start_time": "2021-10-08T07:26:52.520Z"
   },
   {
    "duration": 4,
    "start_time": "2021-10-08T07:26:53.157Z"
   },
   {
    "duration": 15,
    "start_time": "2021-10-08T07:26:53.164Z"
   },
   {
    "duration": 11,
    "start_time": "2021-10-08T07:26:53.180Z"
   },
   {
    "duration": 74,
    "start_time": "2021-10-08T07:26:53.193Z"
   },
   {
    "duration": 5,
    "start_time": "2021-10-08T07:27:40.520Z"
   },
   {
    "duration": 9,
    "start_time": "2021-10-08T07:29:04.347Z"
   }
  ],
  "kernelspec": {
   "display_name": "Python 3",
   "language": "python",
   "name": "python3"
  },
  "language_info": {
   "codemirror_mode": {
    "name": "ipython",
    "version": 3
   },
   "file_extension": ".py",
   "mimetype": "text/x-python",
   "name": "python",
   "nbconvert_exporter": "python",
   "pygments_lexer": "ipython3",
   "version": "3.8.8"
  },
  "toc": {
   "base_numbering": 1,
   "nav_menu": {},
   "number_sections": true,
   "sideBar": true,
   "skip_h1_title": true,
   "title_cell": "Table of Contents",
   "title_sidebar": "Contents",
   "toc_cell": false,
   "toc_position": {},
   "toc_section_display": true,
   "toc_window_display": false
  }
 },
 "nbformat": 4,
 "nbformat_minor": 2
}
