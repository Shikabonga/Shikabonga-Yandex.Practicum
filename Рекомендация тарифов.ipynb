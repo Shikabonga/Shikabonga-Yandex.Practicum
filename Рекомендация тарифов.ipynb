{
 "cells": [
  {
   "cell_type": "markdown",
   "metadata": {},
   "source": [
    "# Рекомендация тарифов"
   ]
  },
  {
   "cell_type": "markdown",
   "metadata": {},
   "source": [
    "В вашем распоряжении данные о поведении клиентов, которые уже перешли на эти тарифы (из проекта курса «Статистический анализ данных»). Нужно построить модель для задачи классификации, которая выберет подходящий тариф. Предобработка данных не понадобится — вы её уже сделали.\n",
    "\n",
    "Постройте модель с максимально большим значением *accuracy*. Чтобы сдать проект успешно, нужно довести долю правильных ответов по крайней мере до 0.75. Проверьте *accuracy* на тестовой выборке самостоятельно.\n",
    "\n",
    "# План:\n",
    "1. Открыть файл с данными и изучить его.\n",
    "2. Разделить исходные данные на обучающую, валидационную и тестовую выборки.\n",
    "3. Исследовать качество разных моделей, меняя гиперпараметры. Выводы исследования.\n",
    "4. Проверка качества модели на тестовой выборке.\n",
    "5. Дополнительно: проверка модели на вменяемость. "
   ]
  },
  {
   "cell_type": "markdown",
   "metadata": {},
   "source": [
    "## Откройте и изучите файл"
   ]
  },
  {
   "cell_type": "code",
   "execution_count": 3,
   "metadata": {},
   "outputs": [],
   "source": [
    "import pandas as pd\n",
    "import numpy as np \n",
    "\n",
    "from sklearn.tree import DecisionTreeClassifier\n",
    "from sklearn.ensemble import RandomForestClassifier \n",
    "from sklearn.linear_model import LogisticRegression\n",
    "from sklearn.model_selection import train_test_split\n",
    "from sklearn.metrics import accuracy_score \n",
    "from sklearn.model_selection import RandomizedSearchCV\n",
    "from sklearn.model_selection import cross_val_score\n",
    "from sklearn.dummy import DummyClassifier"
   ]
  },
  {
   "cell_type": "code",
   "execution_count": 4,
   "metadata": {},
   "outputs": [
    {
     "data": {
      "text/html": [
       "<div>\n",
       "<style scoped>\n",
       "    .dataframe tbody tr th:only-of-type {\n",
       "        vertical-align: middle;\n",
       "    }\n",
       "\n",
       "    .dataframe tbody tr th {\n",
       "        vertical-align: top;\n",
       "    }\n",
       "\n",
       "    .dataframe thead th {\n",
       "        text-align: right;\n",
       "    }\n",
       "</style>\n",
       "<table border=\"1\" class=\"dataframe\">\n",
       "  <thead>\n",
       "    <tr style=\"text-align: right;\">\n",
       "      <th></th>\n",
       "      <th>calls</th>\n",
       "      <th>minutes</th>\n",
       "      <th>messages</th>\n",
       "      <th>mb_used</th>\n",
       "      <th>is_ultra</th>\n",
       "    </tr>\n",
       "  </thead>\n",
       "  <tbody>\n",
       "    <tr>\n",
       "      <td>0</td>\n",
       "      <td>40.0</td>\n",
       "      <td>311.90</td>\n",
       "      <td>83.0</td>\n",
       "      <td>19915.42</td>\n",
       "      <td>0</td>\n",
       "    </tr>\n",
       "    <tr>\n",
       "      <td>1</td>\n",
       "      <td>85.0</td>\n",
       "      <td>516.75</td>\n",
       "      <td>56.0</td>\n",
       "      <td>22696.96</td>\n",
       "      <td>0</td>\n",
       "    </tr>\n",
       "    <tr>\n",
       "      <td>2</td>\n",
       "      <td>77.0</td>\n",
       "      <td>467.66</td>\n",
       "      <td>86.0</td>\n",
       "      <td>21060.45</td>\n",
       "      <td>0</td>\n",
       "    </tr>\n",
       "    <tr>\n",
       "      <td>3</td>\n",
       "      <td>106.0</td>\n",
       "      <td>745.53</td>\n",
       "      <td>81.0</td>\n",
       "      <td>8437.39</td>\n",
       "      <td>1</td>\n",
       "    </tr>\n",
       "    <tr>\n",
       "      <td>4</td>\n",
       "      <td>66.0</td>\n",
       "      <td>418.74</td>\n",
       "      <td>1.0</td>\n",
       "      <td>14502.75</td>\n",
       "      <td>0</td>\n",
       "    </tr>\n",
       "    <tr>\n",
       "      <td>...</td>\n",
       "      <td>...</td>\n",
       "      <td>...</td>\n",
       "      <td>...</td>\n",
       "      <td>...</td>\n",
       "      <td>...</td>\n",
       "    </tr>\n",
       "    <tr>\n",
       "      <td>3209</td>\n",
       "      <td>122.0</td>\n",
       "      <td>910.98</td>\n",
       "      <td>20.0</td>\n",
       "      <td>35124.90</td>\n",
       "      <td>1</td>\n",
       "    </tr>\n",
       "    <tr>\n",
       "      <td>3210</td>\n",
       "      <td>25.0</td>\n",
       "      <td>190.36</td>\n",
       "      <td>0.0</td>\n",
       "      <td>3275.61</td>\n",
       "      <td>0</td>\n",
       "    </tr>\n",
       "    <tr>\n",
       "      <td>3211</td>\n",
       "      <td>97.0</td>\n",
       "      <td>634.44</td>\n",
       "      <td>70.0</td>\n",
       "      <td>13974.06</td>\n",
       "      <td>0</td>\n",
       "    </tr>\n",
       "    <tr>\n",
       "      <td>3212</td>\n",
       "      <td>64.0</td>\n",
       "      <td>462.32</td>\n",
       "      <td>90.0</td>\n",
       "      <td>31239.78</td>\n",
       "      <td>0</td>\n",
       "    </tr>\n",
       "    <tr>\n",
       "      <td>3213</td>\n",
       "      <td>80.0</td>\n",
       "      <td>566.09</td>\n",
       "      <td>6.0</td>\n",
       "      <td>29480.52</td>\n",
       "      <td>1</td>\n",
       "    </tr>\n",
       "  </tbody>\n",
       "</table>\n",
       "<p>3214 rows × 5 columns</p>\n",
       "</div>"
      ],
      "text/plain": [
       "      calls  minutes  messages   mb_used  is_ultra\n",
       "0      40.0   311.90      83.0  19915.42         0\n",
       "1      85.0   516.75      56.0  22696.96         0\n",
       "2      77.0   467.66      86.0  21060.45         0\n",
       "3     106.0   745.53      81.0   8437.39         1\n",
       "4      66.0   418.74       1.0  14502.75         0\n",
       "...     ...      ...       ...       ...       ...\n",
       "3209  122.0   910.98      20.0  35124.90         1\n",
       "3210   25.0   190.36       0.0   3275.61         0\n",
       "3211   97.0   634.44      70.0  13974.06         0\n",
       "3212   64.0   462.32      90.0  31239.78         0\n",
       "3213   80.0   566.09       6.0  29480.52         1\n",
       "\n",
       "[3214 rows x 5 columns]"
      ]
     },
     "execution_count": 4,
     "metadata": {},
     "output_type": "execute_result"
    }
   ],
   "source": [
    "df = pd.read_csv('/datasets/users_behavior.csv')\n",
    "df"
   ]
  },
  {
   "cell_type": "markdown",
   "metadata": {},
   "source": [
    "### Каждый объект в наборе данных — это информация о поведении одного пользователя за месяц. Известно:\n",
    " - сalls — количество звонков,\n",
    " - minutes — суммарная длительность звонков в минутах,\n",
    " - messages — количество sms-сообщений,\n",
    " - mb_used — израсходованный интернет-трафик в Мб,\n",
    " - is_ultra — каким тарифом пользовался в течение месяца («Ультра» — 1, «Смарт» — 0)."
   ]
  },
  {
   "cell_type": "code",
   "execution_count": 5,
   "metadata": {},
   "outputs": [
    {
     "name": "stdout",
     "output_type": "stream",
     "text": [
      "<class 'pandas.core.frame.DataFrame'>\n",
      "RangeIndex: 3214 entries, 0 to 3213\n",
      "Data columns (total 5 columns):\n",
      "calls       3214 non-null float64\n",
      "minutes     3214 non-null float64\n",
      "messages    3214 non-null float64\n",
      "mb_used     3214 non-null float64\n",
      "is_ultra    3214 non-null int64\n",
      "dtypes: float64(4), int64(1)\n",
      "memory usage: 125.7 KB\n"
     ]
    }
   ],
   "source": [
    "df.info()"
   ]
  },
  {
   "cell_type": "code",
   "execution_count": 6,
   "metadata": {},
   "outputs": [
    {
     "data": {
      "text/plain": [
       "0.30647168637212197"
      ]
     },
     "execution_count": 6,
     "metadata": {},
     "output_type": "execute_result"
    }
   ],
   "source": [
    "df['is_ultra'].mean()"
   ]
  },
  {
   "cell_type": "markdown",
   "metadata": {},
   "source": [
    "## Разбейте данные на выборки"
   ]
  },
  {
   "cell_type": "code",
   "execution_count": 7,
   "metadata": {},
   "outputs": [
    {
     "name": "stdout",
     "output_type": "stream",
     "text": [
      "Размер обучающей выборки: 1928\n",
      "Размер валидационной выборки: 643\n",
      "Размер тестовой выборки: 643\n"
     ]
    }
   ],
   "source": [
    "features = df.drop('is_ultra',axis = 1) \n",
    "target = df['is_ultra']\n",
    "\n",
    "features_train, features_temp, target_train, target_temp  = train_test_split(features, target, test_size=0.40, random_state=12345)\n",
    "features_valid, features_test, target_valid, target_test = train_test_split(features_temp,target_temp, test_size=0.50, random_state=12345)\n",
    "\n",
    "print('Размер обучающей выборки:',features_train.shape[0])\n",
    "print('Размер валидационной выборки:',features_valid.shape[0])\n",
    "print('Размер тестовой выборки:',features_test.shape[0])"
   ]
  },
  {
   "cell_type": "markdown",
   "metadata": {},
   "source": [
    "## Исследуйте модели"
   ]
  },
  {
   "cell_type": "markdown",
   "metadata": {},
   "source": [
    "Целевой признак категориальный, решается задача классификации. Рассмотрим три вида модели:\n",
    "- дерево решений\n",
    "- случайный лес\n",
    "- логистическую регрессию"
   ]
  },
  {
   "cell_type": "markdown",
   "metadata": {},
   "source": [
    "### Дерево решений"
   ]
  },
  {
   "cell_type": "code",
   "execution_count": 8,
   "metadata": {},
   "outputs": [
    {
     "name": "stdout",
     "output_type": "stream",
     "text": [
      "Лучший результат точности: 0.7853810264385692, при max_depth = 3\n"
     ]
    }
   ],
   "source": [
    "best_res = 0\n",
    "best_depth = 0\n",
    "\n",
    "for depth in range(1,11):\n",
    "    model = DecisionTreeClassifier(random_state=12345, max_depth=depth)\n",
    "    model.fit(features_train, target_train)\n",
    "    predictions_valid = model.predict(features_valid)\n",
    "    result = accuracy_score(target_valid, predictions_valid)\n",
    "    if best_res<result:\n",
    "        best_res = result\n",
    "        best_depth = depth\n",
    "print('Лучший результат точности: {}, при max_depth = {}'.format(best_res,best_depth))"
   ]
  },
  {
   "cell_type": "markdown",
   "metadata": {},
   "source": [
    "### Cлучайный лес"
   ]
  },
  {
   "cell_type": "code",
   "execution_count": 9,
   "metadata": {
    "scrolled": true
   },
   "outputs": [
    {
     "name": "stdout",
     "output_type": "stream",
     "text": [
      "Лучший результат точности: 0.8087091757387247, при n_estimators = 40, max_depth = 8\n"
     ]
    }
   ],
   "source": [
    "best_res = 0\n",
    "best_est = 0\n",
    "best_depth = 0\n",
    "for est in range(10,100,10):\n",
    "    for depth in range(1,11):\n",
    "        model = RandomForestClassifier(random_state=12345, n_estimators=est, max_depth = depth).fit(features_train, target_train)\n",
    "        predictions_valid = model.predict(features_valid)\n",
    "        result = accuracy_score(target_valid, predictions_valid)\n",
    "        if best_res<result:\n",
    "            best_res = result\n",
    "            best_est = est\n",
    "            best_depth = depth\n",
    "print('Лучший результат точности: {}, при n_estimators = {}, max_depth = {}'.format(best_res,best_est,best_depth))"
   ]
  },
  {
   "cell_type": "markdown",
   "metadata": {},
   "source": [
    "### Логистическая регрессия"
   ]
  },
  {
   "cell_type": "code",
   "execution_count": 10,
   "metadata": {},
   "outputs": [
    {
     "data": {
      "text/plain": [
       "0.7107309486780715"
      ]
     },
     "execution_count": 10,
     "metadata": {},
     "output_type": "execute_result"
    }
   ],
   "source": [
    "model = LogisticRegression(random_state=12345,solver='lbfgs', multi_class='auto') \n",
    "model.fit(features_train, target_train)\n",
    "predictions_valid = model.predict(features_valid)\n",
    "result = accuracy_score(target_valid, predictions_valid)\n",
    "result"
   ]
  },
  {
   "cell_type": "markdown",
   "metadata": {},
   "source": [
    "Вывод: Идеальная модель это случайный лес с параметрами: n_estimators = 40, max_depth = 8.\n",
    "Нашел вот такой вариант перебора гиперпараметров, работает долго. Взято из этой статьи, метод \"случайного поиска\": https://www.machinelearningmastery.ru/hyperparameters-optimization-526348bb8e2d/"
   ]
  },
  {
   "cell_type": "code",
   "execution_count": 11,
   "metadata": {},
   "outputs": [
    {
     "name": "stdout",
     "output_type": "stream",
     "text": [
      "Fitting 4 folds for each of 80 candidates, totalling 320 fits\n"
     ]
    },
    {
     "name": "stderr",
     "output_type": "stream",
     "text": [
      "[Parallel(n_jobs=-1)]: Using backend SequentialBackend with 1 concurrent workers.\n",
      "[Parallel(n_jobs=-1)]: Done 320 out of 320 | elapsed: 11.2min finished\n"
     ]
    },
    {
     "name": "stdout",
     "output_type": "stream",
     "text": [
      "Самая высокая точность, которую удалось достигнуть на валидационной выборке: 0.7962674961119751\n"
     ]
    },
    {
     "data": {
      "text/plain": [
       "{'n_estimators': 966,\n",
       " 'min_samples_split': 10,\n",
       " 'min_samples_leaf': 4,\n",
       " 'max_features': 'sqrt',\n",
       " 'max_depth': 10,\n",
       " 'criterion': 'gini'}"
      ]
     },
     "execution_count": 11,
     "metadata": {},
     "output_type": "execute_result"
    }
   ],
   "source": [
    "random_search = {'criterion': ['entropy', 'gini'],\n",
    "               'max_depth': list(np.linspace(10, 1200, 10, dtype = int)) + [None],\n",
    "               'max_features': ['auto', 'sqrt','log2', None],\n",
    "               'min_samples_leaf': [4, 6, 8, 12],\n",
    "               'min_samples_split': [5, 7, 10, 14],\n",
    "               'n_estimators': list(np.linspace(151, 1200, 10, dtype = int))}\n",
    "\n",
    "clf = RandomForestClassifier()\n",
    "model = RandomizedSearchCV(estimator = clf, param_distributions = random_search, n_iter = 80, \n",
    "                               cv = 4, verbose= 1, random_state= 12345, n_jobs = -1)\n",
    "model.fit(features_train,target_train)\n",
    "predictions_valid = model.predict(features_valid)\n",
    "result = accuracy_score(target_valid, predictions_valid)\n",
    "print('Самая высокая точность, которую удалось достигнуть на валидационной выборке:',result)\n",
    "model.best_params_"
   ]
  },
  {
   "cell_type": "markdown",
   "metadata": {},
   "source": [
    "Вывод тот же, что и в практикуме: время и точность обратно пропорциональны. Модель \"Случайный лес\" - самая точная, а логическая регрессия - самая быстрая.\n",
    "Перебор гиперпараметров дело очень долгое, рекомендую уменьшить кол-во итераций n_iter, чтоб быстрее было, иначе не дождаться сдачи(20 минут перебора). Не до конца разобрался со всеми параметрами и возможностями. Каждый раз разные результаты, это понятно, но бывают ниже чем при простом переборе по значениям n_estimators и max_depth - это не понятно. При чем делал 4 цикла подряд, с 4мя параметрам: max_depth, n_estimators, min_samples_leaf и min_samples_split было быстрее, точнее, но показалось не красиво."
   ]
  },
  {
   "cell_type": "markdown",
   "metadata": {},
   "source": [
    "## Проверьте модель на тестовой выборке"
   ]
  },
  {
   "cell_type": "code",
   "execution_count": 12,
   "metadata": {},
   "outputs": [
    {
     "data": {
      "text/plain": [
       "0.8040435458786936"
      ]
     },
     "execution_count": 12,
     "metadata": {},
     "output_type": "execute_result"
    }
   ],
   "source": [
    "predictions_test = model.predict(features_test)\n",
    "result = accuracy_score(target_test, predictions_test)\n",
    "result"
   ]
  },
  {
   "cell_type": "markdown",
   "metadata": {},
   "source": [
    "Хотя на тестовой модели все работает не плохо."
   ]
  },
  {
   "cell_type": "markdown",
   "metadata": {},
   "source": [
    "## (бонус) Проверьте модели на адекватность"
   ]
  },
  {
   "cell_type": "code",
   "execution_count": 13,
   "metadata": {},
   "outputs": [
    {
     "data": {
      "text/plain": [
       "0.2317262830482115"
      ]
     },
     "execution_count": 13,
     "metadata": {},
     "output_type": "execute_result"
    }
   ],
   "source": [
    "predictions_test.mean()"
   ]
  },
  {
   "cell_type": "markdown",
   "metadata": {},
   "source": [
    "Соотношение осталось в принципе тем же, разница в 7%. Модель адекватна."
   ]
  },
  {
   "cell_type": "code",
   "execution_count": 17,
   "metadata": {},
   "outputs": [
    {
     "data": {
      "text/plain": [
       "0.6842923794712286"
      ]
     },
     "execution_count": 17,
     "metadata": {},
     "output_type": "execute_result"
    }
   ],
   "source": [
    "model = DummyClassifier(strategy='most_frequent', random_state=0)\n",
    "model.fit(features_train, target_train)\n",
    "predictions_test = model.predict(features_test)\n",
    "result = accuracy_score(target_test, predictions_test)\n",
    "result"
   ]
  },
  {
   "cell_type": "markdown",
   "metadata": {},
   "source": [
    "## Чек-лист готовности проекта"
   ]
  },
  {
   "cell_type": "markdown",
   "metadata": {},
   "source": [
    "Поставьте 'x' в выполненных пунктах. Далее нажмите Shift+Enter."
   ]
  },
  {
   "cell_type": "markdown",
   "metadata": {},
   "source": [
    "- [x] Jupyter Notebook открыт\n",
    "- [x] Весь код исполняется без ошибок\n",
    "- [x] Ячейки с кодом расположены в порядке исполнения\n",
    "- [x] Выполнено задание 1: данные загружены и изучены\n",
    "- [x] Выполнено задание 2: данные разбиты на три выборки\n",
    "- [x] Выполнено задание 3: проведено исследование моделей\n",
    "    - [x] Рассмотрено больше одной модели\n",
    "    - [x] Рассмотрено хотя бы 3 значения гипепараметров для какой-нибудь модели\n",
    "    - [x] Написаны выводы по результатам исследования\n",
    "- [x] Выполнено задание 3: Проведено тестирование\n",
    "- [x] Удалось достичь accuracy не меньше 0.75\n"
   ]
  },
  {
   "cell_type": "code",
   "execution_count": null,
   "metadata": {},
   "outputs": [],
   "source": []
  }
 ],
 "metadata": {
  "ExecuteTimeLog": [
   {
    "duration": 387,
    "start_time": "2021-10-28T05:24:32.157Z"
   },
   {
    "duration": 627,
    "start_time": "2021-10-28T05:24:36.970Z"
   },
   {
    "duration": 33,
    "start_time": "2021-10-28T05:24:37.599Z"
   },
   {
    "duration": 299,
    "start_time": "2021-10-28T05:29:32.938Z"
   },
   {
    "duration": 3,
    "start_time": "2021-10-28T05:29:39.192Z"
   },
   {
    "duration": 31,
    "start_time": "2021-10-28T05:29:39.197Z"
   },
   {
    "duration": 281,
    "start_time": "2021-10-28T05:29:39.230Z"
   },
   {
    "duration": 281,
    "start_time": "2021-10-28T05:29:48.037Z"
   },
   {
    "duration": 323,
    "start_time": "2021-10-28T05:29:59.960Z"
   },
   {
    "duration": 8,
    "start_time": "2021-10-28T05:30:35.341Z"
   },
   {
    "duration": 6,
    "start_time": "2021-10-28T05:30:49.073Z"
   },
   {
    "duration": 6,
    "start_time": "2021-10-28T05:31:09.722Z"
   },
   {
    "duration": 344,
    "start_time": "2021-10-28T05:51:29.023Z"
   },
   {
    "duration": 530,
    "start_time": "2021-10-28T05:51:34.471Z"
   },
   {
    "duration": 27,
    "start_time": "2021-10-28T05:51:35.003Z"
   },
   {
    "duration": 5,
    "start_time": "2021-10-28T05:51:35.032Z"
   },
   {
    "duration": 13,
    "start_time": "2021-10-28T05:51:35.039Z"
   },
   {
    "duration": 10,
    "start_time": "2021-10-28T05:53:16.525Z"
   },
   {
    "duration": 1710,
    "start_time": "2021-10-29T08:50:52.014Z"
   },
   {
    "duration": 514,
    "start_time": "2021-10-29T08:57:55.703Z"
   },
   {
    "duration": 5,
    "start_time": "2021-10-29T08:58:02.316Z"
   },
   {
    "duration": 50,
    "start_time": "2021-10-29T08:58:02.323Z"
   },
   {
    "duration": 8,
    "start_time": "2021-10-29T08:58:02.376Z"
   },
   {
    "duration": 17,
    "start_time": "2021-10-29T08:58:02.387Z"
   },
   {
    "duration": 431,
    "start_time": "2021-10-29T08:58:02.406Z"
   },
   {
    "duration": 4,
    "start_time": "2021-10-29T08:58:30.200Z"
   },
   {
    "duration": 4,
    "start_time": "2021-10-29T08:58:32.400Z"
   },
   {
    "duration": 41,
    "start_time": "2021-10-29T08:58:32.407Z"
   },
   {
    "duration": 9,
    "start_time": "2021-10-29T08:58:32.451Z"
   },
   {
    "duration": 16,
    "start_time": "2021-10-29T08:58:32.462Z"
   },
   {
    "duration": 64,
    "start_time": "2021-10-29T08:58:32.480Z"
   },
   {
    "duration": 98,
    "start_time": "2021-10-29T08:58:50.104Z"
   },
   {
    "duration": 158,
    "start_time": "2021-10-29T08:59:00.172Z"
   },
   {
    "duration": 232,
    "start_time": "2021-10-29T08:59:06.868Z"
   },
   {
    "duration": 5,
    "start_time": "2021-10-29T09:02:03.677Z"
   },
   {
    "duration": 43,
    "start_time": "2021-10-29T09:02:03.684Z"
   },
   {
    "duration": 10,
    "start_time": "2021-10-29T09:02:03.731Z"
   },
   {
    "duration": 14,
    "start_time": "2021-10-29T09:02:03.744Z"
   },
   {
    "duration": 253,
    "start_time": "2021-10-29T09:02:03.760Z"
   },
   {
    "duration": 98,
    "start_time": "2021-10-29T09:02:43.739Z"
   },
   {
    "duration": 414,
    "start_time": "2021-10-29T09:07:35.385Z"
   },
   {
    "duration": 4,
    "start_time": "2021-10-29T09:07:45.953Z"
   },
   {
    "duration": 56,
    "start_time": "2021-10-29T09:07:45.959Z"
   },
   {
    "duration": 19,
    "start_time": "2021-10-29T09:07:46.018Z"
   },
   {
    "duration": 20,
    "start_time": "2021-10-29T09:07:46.040Z"
   },
   {
    "duration": 118,
    "start_time": "2021-10-29T09:07:46.063Z"
   },
   {
    "duration": 393,
    "start_time": "2021-10-29T09:07:46.184Z"
   },
   {
    "duration": 347,
    "start_time": "2021-10-29T09:08:05.654Z"
   },
   {
    "duration": 1314,
    "start_time": "2021-10-29T09:08:17.018Z"
   },
   {
    "duration": 1273,
    "start_time": "2021-10-29T09:08:32.683Z"
   },
   {
    "duration": 1468,
    "start_time": "2021-10-29T09:08:51.712Z"
   },
   {
    "duration": 379,
    "start_time": "2021-10-29T09:10:50.940Z"
   },
   {
    "duration": 4,
    "start_time": "2021-10-29T09:11:13.019Z"
   },
   {
    "duration": 36,
    "start_time": "2021-10-29T09:11:13.026Z"
   },
   {
    "duration": 8,
    "start_time": "2021-10-29T09:11:13.066Z"
   },
   {
    "duration": 19,
    "start_time": "2021-10-29T09:11:13.076Z"
   },
   {
    "duration": 105,
    "start_time": "2021-10-29T09:11:13.101Z"
   },
   {
    "duration": 1286,
    "start_time": "2021-10-29T09:11:13.208Z"
   },
   {
    "duration": 30,
    "start_time": "2021-10-29T09:11:14.501Z"
   },
   {
    "duration": 33,
    "start_time": "2021-10-29T09:11:25.010Z"
   },
   {
    "duration": 25,
    "start_time": "2021-10-29T09:11:31.705Z"
   },
   {
    "duration": 514,
    "start_time": "2021-10-29T09:11:36.961Z"
   },
   {
    "duration": 34,
    "start_time": "2021-10-29T09:11:42.865Z"
   },
   {
    "duration": 29,
    "start_time": "2021-10-29T09:11:56.313Z"
   },
   {
    "duration": 25,
    "start_time": "2021-10-29T09:13:35.514Z"
   },
   {
    "duration": 25,
    "start_time": "2021-10-29T09:13:48.926Z"
   },
   {
    "duration": 26,
    "start_time": "2021-10-29T09:13:57.536Z"
   },
   {
    "duration": 29,
    "start_time": "2021-10-29T09:14:16.198Z"
   },
   {
    "duration": 43,
    "start_time": "2021-10-29T09:14:18.567Z"
   },
   {
    "duration": 31,
    "start_time": "2021-10-29T09:14:25.336Z"
   },
   {
    "duration": 922,
    "start_time": "2021-10-29T09:28:44.257Z"
   },
   {
    "duration": 1479,
    "start_time": "2021-10-29T09:29:40.242Z"
   },
   {
    "duration": 3005,
    "start_time": "2021-10-29T09:29:51.677Z"
   },
   {
    "duration": 5671,
    "start_time": "2021-10-29T09:30:00.809Z"
   },
   {
    "duration": 3245,
    "start_time": "2021-10-29T09:30:16.537Z"
   },
   {
    "duration": 19248,
    "start_time": "2021-10-29T09:32:58.983Z"
   },
   {
    "duration": 19569,
    "start_time": "2021-10-29T09:33:47.076Z"
   },
   {
    "duration": 19948,
    "start_time": "2021-10-29T09:39:24.168Z"
   },
   {
    "duration": 126,
    "start_time": "2021-10-29T09:41:43.073Z"
   },
   {
    "duration": 19043,
    "start_time": "2021-10-29T09:41:48.796Z"
   },
   {
    "duration": 20176,
    "start_time": "2021-10-29T09:43:01.530Z"
   },
   {
    "duration": 82,
    "start_time": "2021-10-29T09:45:11.444Z"
   },
   {
    "duration": 112,
    "start_time": "2021-10-29T09:45:19.359Z"
   },
   {
    "duration": 552,
    "start_time": "2021-10-29T09:48:05.981Z"
   },
   {
    "duration": 170,
    "start_time": "2021-10-29T09:48:23.168Z"
   },
   {
    "duration": 383,
    "start_time": "2021-10-29T10:08:29.795Z"
   },
   {
    "duration": 6,
    "start_time": "2021-10-29T10:08:35.189Z"
   },
   {
    "duration": 36,
    "start_time": "2021-10-29T10:08:35.199Z"
   },
   {
    "duration": 9,
    "start_time": "2021-10-29T10:08:35.238Z"
   },
   {
    "duration": 18,
    "start_time": "2021-10-29T10:08:35.251Z"
   },
   {
    "duration": 94,
    "start_time": "2021-10-29T10:08:35.272Z"
   },
   {
    "duration": 19898,
    "start_time": "2021-10-29T10:08:35.369Z"
   },
   {
    "duration": 47,
    "start_time": "2021-10-29T10:08:55.270Z"
   },
   {
    "duration": 426,
    "start_time": "2021-10-29T10:08:55.319Z"
   },
   {
    "duration": 20706,
    "start_time": "2021-10-29T10:08:35.042Z"
   },
   {
    "duration": 173,
    "start_time": "2021-10-29T10:13:44.034Z"
   },
   {
    "duration": 4,
    "start_time": "2021-10-29T10:14:17.239Z"
   },
   {
    "duration": 5,
    "start_time": "2021-10-29T10:18:16.179Z"
   },
   {
    "duration": 402,
    "start_time": "2021-10-29T10:19:07.573Z"
   },
   {
    "duration": 394,
    "start_time": "2021-10-29T10:22:04.432Z"
   },
   {
    "duration": 417,
    "start_time": "2021-10-29T10:27:26.921Z"
   },
   {
    "duration": 20680,
    "start_time": "2021-10-29T10:34:29.206Z"
   },
   {
    "duration": 20644,
    "start_time": "2021-10-29T10:35:06.637Z"
   },
   {
    "duration": 20639,
    "start_time": "2021-10-29T10:35:06.643Z"
   },
   {
    "duration": 20635,
    "start_time": "2021-10-29T10:35:06.648Z"
   },
   {
    "duration": 20632,
    "start_time": "2021-10-29T10:35:06.653Z"
   },
   {
    "duration": 20629,
    "start_time": "2021-10-29T10:35:06.657Z"
   },
   {
    "duration": 20628,
    "start_time": "2021-10-29T10:35:06.660Z"
   },
   {
    "duration": 20626,
    "start_time": "2021-10-29T10:35:06.663Z"
   },
   {
    "duration": 20624,
    "start_time": "2021-10-29T10:35:06.666Z"
   },
   {
    "duration": 20623,
    "start_time": "2021-10-29T10:35:06.669Z"
   },
   {
    "duration": 6,
    "start_time": "2021-10-29T10:35:42.797Z"
   },
   {
    "duration": 35,
    "start_time": "2021-10-29T10:35:42.807Z"
   },
   {
    "duration": 9,
    "start_time": "2021-10-29T10:35:42.846Z"
   },
   {
    "duration": 52,
    "start_time": "2021-10-29T10:35:42.858Z"
   },
   {
    "duration": 95,
    "start_time": "2021-10-29T10:35:42.912Z"
   },
   {
    "duration": 19068,
    "start_time": "2021-10-29T10:35:43.010Z"
   },
   {
    "duration": 54,
    "start_time": "2021-10-29T10:36:02.081Z"
   },
   {
    "duration": 247,
    "start_time": "2021-10-29T10:36:02.139Z"
   },
   {
    "duration": 14529,
    "start_time": "2021-10-29T10:57:14.356Z"
   },
   {
    "duration": 418,
    "start_time": "2021-10-29T10:57:42.244Z"
   },
   {
    "duration": 14292,
    "start_time": "2021-10-29T10:57:50.977Z"
   },
   {
    "duration": 15729,
    "start_time": "2021-10-29T11:00:18.306Z"
   },
   {
    "duration": 21551,
    "start_time": "2021-10-29T11:11:13.981Z"
   },
   {
    "duration": 577,
    "start_time": "2021-10-29T11:13:48.588Z"
   },
   {
    "duration": 4,
    "start_time": "2021-10-29T11:14:21.908Z"
   },
   {
    "duration": 231,
    "start_time": "2021-10-29T11:14:26.411Z"
   },
   {
    "duration": 227,
    "start_time": "2021-10-29T11:18:27.286Z"
   },
   {
    "duration": 84773,
    "start_time": "2021-10-29T11:20:27.968Z"
   },
   {
    "duration": 21707,
    "start_time": "2021-10-29T11:23:03.141Z"
   },
   {
    "duration": 161072,
    "start_time": "2021-10-29T11:25:53.215Z"
   },
   {
    "duration": 74996,
    "start_time": "2021-10-29T11:29:23.993Z"
   },
   {
    "duration": 18750,
    "start_time": "2021-10-29T11:30:46.350Z"
   },
   {
    "duration": 7,
    "start_time": "2021-10-29T11:31:19.314Z"
   },
   {
    "duration": 19,
    "start_time": "2021-10-29T11:31:24.924Z"
   },
   {
    "duration": 7,
    "start_time": "2021-10-29T11:31:30.538Z"
   },
   {
    "duration": 6,
    "start_time": "2021-10-29T11:31:44.226Z"
   },
   {
    "duration": 7,
    "start_time": "2021-10-29T11:31:48.358Z"
   },
   {
    "duration": 395,
    "start_time": "2021-10-29T11:32:07.940Z"
   },
   {
    "duration": 162947,
    "start_time": "2021-10-29T11:32:18.954Z"
   },
   {
    "duration": 15749,
    "start_time": "2021-10-29T11:35:25.021Z"
   },
   {
    "duration": 624,
    "start_time": "2021-10-29T12:06:53.726Z"
   },
   {
    "duration": 133,
    "start_time": "2021-10-29T12:06:59.825Z"
   },
   {
    "duration": 140,
    "start_time": "2021-10-29T12:07:08.194Z"
   },
   {
    "duration": 374,
    "start_time": "2021-10-29T12:07:11.586Z"
   },
   {
    "duration": 145,
    "start_time": "2021-10-29T12:07:52.839Z"
   },
   {
    "duration": 120,
    "start_time": "2021-10-29T12:07:57.930Z"
   },
   {
    "duration": 378,
    "start_time": "2021-10-29T12:08:35.398Z"
   },
   {
    "duration": 525,
    "start_time": "2021-10-29T12:09:12.614Z"
   },
   {
    "duration": 161,
    "start_time": "2021-10-29T12:09:33.547Z"
   },
   {
    "duration": 382,
    "start_time": "2021-10-29T12:09:39.975Z"
   },
   {
    "duration": 405,
    "start_time": "2021-10-29T12:09:45.194Z"
   },
   {
    "duration": 156,
    "start_time": "2021-10-29T12:10:19.770Z"
   },
   {
    "duration": 565,
    "start_time": "2021-10-29T12:11:28.953Z"
   },
   {
    "duration": 379,
    "start_time": "2021-10-29T12:11:58.773Z"
   },
   {
    "duration": 418,
    "start_time": "2021-10-29T12:12:12.777Z"
   },
   {
    "duration": 123,
    "start_time": "2021-10-29T12:14:02.451Z"
   },
   {
    "duration": 180,
    "start_time": "2021-10-29T12:14:11.331Z"
   },
   {
    "duration": 494,
    "start_time": "2021-10-29T12:14:19.075Z"
   },
   {
    "duration": 5626,
    "start_time": "2021-10-29T12:14:43.907Z"
   },
   {
    "duration": 5165,
    "start_time": "2021-10-29T12:15:06.827Z"
   },
   {
    "duration": 4,
    "start_time": "2021-10-29T12:15:33.671Z"
   },
   {
    "duration": 42,
    "start_time": "2021-10-29T12:15:33.678Z"
   },
   {
    "duration": 9,
    "start_time": "2021-10-29T12:15:33.723Z"
   },
   {
    "duration": 17,
    "start_time": "2021-10-29T12:15:33.734Z"
   },
   {
    "duration": 106,
    "start_time": "2021-10-29T12:15:33.753Z"
   },
   {
    "duration": 17565,
    "start_time": "2021-10-29T12:15:33.862Z"
   },
   {
    "duration": 29,
    "start_time": "2021-10-29T12:15:51.430Z"
   },
   {
    "duration": 5877,
    "start_time": "2021-10-29T12:15:51.462Z"
   },
   {
    "duration": 178,
    "start_time": "2021-10-29T12:15:57.343Z"
   },
   {
    "duration": 416,
    "start_time": "2021-10-29T12:16:43.509Z"
   },
   {
    "duration": 3058,
    "start_time": "2021-10-29T12:17:09.680Z"
   },
   {
    "duration": 52952,
    "start_time": "2021-10-29T12:17:46.332Z"
   },
   {
    "duration": 10883,
    "start_time": "2021-10-29T12:19:12.682Z"
   },
   {
    "duration": 50776,
    "start_time": "2021-10-29T12:20:14.680Z"
   },
   {
    "duration": 414,
    "start_time": "2021-10-29T12:23:35.300Z"
   },
   {
    "duration": 722,
    "start_time": "2021-10-29T12:24:27.203Z"
   },
   {
    "duration": 958,
    "start_time": "2021-10-29T12:24:42.187Z"
   },
   {
    "duration": 720,
    "start_time": "2021-10-29T12:24:56.310Z"
   },
   {
    "duration": 724,
    "start_time": "2021-10-29T12:25:30.442Z"
   },
   {
    "duration": 537,
    "start_time": "2021-10-29T12:26:04.115Z"
   },
   {
    "duration": 725,
    "start_time": "2021-10-29T12:26:14.002Z"
   },
   {
    "duration": 557,
    "start_time": "2021-10-29T12:27:34.320Z"
   },
   {
    "duration": 359,
    "start_time": "2021-10-29T12:29:27.051Z"
   },
   {
    "duration": 365,
    "start_time": "2021-10-29T12:29:49.821Z"
   },
   {
    "duration": 361,
    "start_time": "2021-10-29T12:30:10.121Z"
   },
   {
    "duration": 458,
    "start_time": "2021-10-29T12:30:41.018Z"
   },
   {
    "duration": 16489,
    "start_time": "2021-10-29T13:28:39.978Z"
   },
   {
    "duration": 5,
    "start_time": "2021-10-29T13:36:05.942Z"
   },
   {
    "duration": 49,
    "start_time": "2021-10-29T13:36:05.949Z"
   },
   {
    "duration": 11,
    "start_time": "2021-10-29T13:36:06.002Z"
   },
   {
    "duration": 21,
    "start_time": "2021-10-29T13:36:06.017Z"
   },
   {
    "duration": 142,
    "start_time": "2021-10-29T13:36:06.040Z"
   },
   {
    "duration": 16880,
    "start_time": "2021-10-29T13:36:06.185Z"
   },
   {
    "duration": 61,
    "start_time": "2021-10-29T13:36:23.068Z"
   },
   {
    "duration": 1145,
    "start_time": "2021-10-29T13:36:23.132Z"
   },
   {
    "duration": 284,
    "start_time": "2021-10-29T13:36:24.280Z"
   },
   {
    "duration": 4,
    "start_time": "2021-10-29T13:36:49.275Z"
   },
   {
    "duration": 36,
    "start_time": "2021-10-29T13:36:49.282Z"
   },
   {
    "duration": 11,
    "start_time": "2021-10-29T13:36:49.321Z"
   },
   {
    "duration": 17,
    "start_time": "2021-10-29T13:36:49.335Z"
   },
   {
    "duration": 107,
    "start_time": "2021-10-29T13:36:49.355Z"
   },
   {
    "duration": 18370,
    "start_time": "2021-10-29T13:36:49.464Z"
   },
   {
    "duration": 34,
    "start_time": "2021-10-29T13:37:07.837Z"
   },
   {
    "duration": 1583,
    "start_time": "2021-10-29T13:37:07.875Z"
   },
   {
    "duration": 270,
    "start_time": "2021-10-29T13:37:09.462Z"
   },
   {
    "duration": 4,
    "start_time": "2021-10-29T13:37:30.955Z"
   },
   {
    "duration": 44,
    "start_time": "2021-10-29T13:37:30.962Z"
   },
   {
    "duration": 9,
    "start_time": "2021-10-29T13:37:31.009Z"
   },
   {
    "duration": 92,
    "start_time": "2021-10-29T13:37:31.021Z"
   },
   {
    "duration": 99,
    "start_time": "2021-10-29T13:37:31.115Z"
   },
   {
    "duration": 15289,
    "start_time": "2021-10-29T13:37:31.217Z"
   },
   {
    "duration": 32,
    "start_time": "2021-10-29T13:37:46.508Z"
   },
   {
    "duration": 390,
    "start_time": "2021-10-29T13:37:46.542Z"
   },
   {
    "duration": 20558,
    "start_time": "2021-10-29T13:37:26.376Z"
   },
   {
    "duration": 4,
    "start_time": "2021-10-29T13:39:34.018Z"
   },
   {
    "duration": 32,
    "start_time": "2021-10-29T13:39:34.025Z"
   },
   {
    "duration": 9,
    "start_time": "2021-10-29T13:39:34.061Z"
   },
   {
    "duration": 31,
    "start_time": "2021-10-29T13:39:34.074Z"
   },
   {
    "duration": 101,
    "start_time": "2021-10-29T13:39:34.108Z"
   },
   {
    "duration": 15682,
    "start_time": "2021-10-29T13:39:34.212Z"
   },
   {
    "duration": 31,
    "start_time": "2021-10-29T13:39:49.900Z"
   },
   {
    "duration": 1366,
    "start_time": "2021-10-29T13:39:49.934Z"
   },
   {
    "duration": 183,
    "start_time": "2021-10-29T13:39:51.303Z"
   },
   {
    "duration": 4,
    "start_time": "2021-10-29T13:40:57.104Z"
   },
   {
    "duration": 35,
    "start_time": "2021-10-29T13:40:57.111Z"
   },
   {
    "duration": 9,
    "start_time": "2021-10-29T13:40:57.149Z"
   },
   {
    "duration": 46,
    "start_time": "2021-10-29T13:40:57.160Z"
   },
   {
    "duration": 76,
    "start_time": "2021-10-29T13:40:57.208Z"
   },
   {
    "duration": 15406,
    "start_time": "2021-10-29T13:40:57.301Z"
   },
   {
    "duration": 31,
    "start_time": "2021-10-29T13:41:12.709Z"
   },
   {
    "duration": 3957,
    "start_time": "2021-10-29T13:41:12.743Z"
   },
   {
    "duration": 189,
    "start_time": "2021-10-29T13:41:16.703Z"
   },
   {
    "duration": 8934,
    "start_time": "2021-10-29T13:46:27.741Z"
   },
   {
    "duration": 4,
    "start_time": "2021-10-29T13:48:07.085Z"
   },
   {
    "duration": 45,
    "start_time": "2021-10-29T13:48:07.093Z"
   },
   {
    "duration": 11,
    "start_time": "2021-10-29T13:48:07.142Z"
   },
   {
    "duration": 19,
    "start_time": "2021-10-29T13:48:07.156Z"
   },
   {
    "duration": 96,
    "start_time": "2021-10-29T13:48:07.178Z"
   },
   {
    "duration": 15908,
    "start_time": "2021-10-29T13:48:07.277Z"
   },
   {
    "duration": 39,
    "start_time": "2021-10-29T13:48:23.188Z"
   },
   {
    "duration": 3972,
    "start_time": "2021-10-29T13:48:23.230Z"
   },
   {
    "duration": 211450,
    "start_time": "2021-10-29T13:48:27.205Z"
   },
   {
    "duration": 20562,
    "start_time": "2021-10-29T13:51:38.095Z"
   },
   {
    "duration": 97821,
    "start_time": "2021-10-29T13:53:15.989Z"
   },
   {
    "duration": 22287,
    "start_time": "2021-10-29T13:56:41.277Z"
   },
   {
    "duration": 10163,
    "start_time": "2021-10-29T13:57:09.064Z"
   },
   {
    "duration": 68994,
    "start_time": "2021-10-29T13:57:26.032Z"
   },
   {
    "duration": 422331,
    "start_time": "2021-10-29T13:58:46.792Z"
   },
   {
    "duration": 324808,
    "start_time": "2021-10-29T14:07:23.462Z"
   },
   {
    "duration": 305928,
    "start_time": "2021-10-29T14:12:48.627Z"
   },
   {
    "duration": 249,
    "start_time": "2021-10-29T14:20:41.147Z"
   },
   {
    "duration": 5,
    "start_time": "2021-10-29T14:39:20.580Z"
   },
   {
    "duration": 43,
    "start_time": "2021-10-29T14:39:20.588Z"
   },
   {
    "duration": 9,
    "start_time": "2021-10-29T14:39:20.634Z"
   },
   {
    "duration": 16,
    "start_time": "2021-10-29T14:39:20.646Z"
   },
   {
    "duration": 99,
    "start_time": "2021-10-29T14:39:20.664Z"
   },
   {
    "duration": 17803,
    "start_time": "2021-10-29T14:39:20.767Z"
   },
   {
    "duration": 56,
    "start_time": "2021-10-29T14:39:38.573Z"
   },
   {
    "duration": 310247,
    "start_time": "2021-10-29T14:39:38.631Z"
   },
   {
    "duration": 234,
    "start_time": "2021-10-29T14:44:48.882Z"
   },
   {
    "duration": 5,
    "start_time": "2021-10-29T14:46:01.031Z"
   },
   {
    "duration": 45,
    "start_time": "2021-10-29T14:46:01.039Z"
   },
   {
    "duration": 9,
    "start_time": "2021-10-29T14:46:01.087Z"
   },
   {
    "duration": 26,
    "start_time": "2021-10-29T14:46:01.099Z"
   },
   {
    "duration": 93,
    "start_time": "2021-10-29T14:46:01.128Z"
   },
   {
    "duration": 17152,
    "start_time": "2021-10-29T14:46:01.223Z"
   },
   {
    "duration": 46,
    "start_time": "2021-10-29T14:46:18.377Z"
   },
   {
    "duration": 1164792,
    "start_time": "2021-10-29T14:46:18.426Z"
   },
   {
    "duration": 112,
    "start_time": "2021-10-29T15:05:43.222Z"
   },
   {
    "duration": 1474,
    "start_time": "2021-10-29T15:10:54.256Z"
   },
   {
    "duration": 1356,
    "start_time": "2021-10-29T15:11:02.211Z"
   },
   {
    "duration": 1460,
    "start_time": "2021-10-29T15:11:16.182Z"
   },
   {
    "duration": 1347,
    "start_time": "2021-10-29T15:11:24.435Z"
   },
   {
    "duration": 66,
    "start_time": "2021-10-29T15:13:21.289Z"
   },
   {
    "duration": 1431,
    "start_time": "2021-10-29T15:16:04.808Z"
   },
   {
    "duration": 6,
    "start_time": "2021-10-29T15:16:11.929Z"
   },
   {
    "duration": 41,
    "start_time": "2021-10-29T15:16:11.938Z"
   },
   {
    "duration": 10,
    "start_time": "2021-10-29T15:16:11.983Z"
   },
   {
    "duration": 19,
    "start_time": "2021-10-29T15:16:11.997Z"
   },
   {
    "duration": 100,
    "start_time": "2021-10-29T15:16:12.019Z"
   },
   {
    "duration": 19841,
    "start_time": "2021-10-29T15:16:12.122Z"
   },
   {
    "duration": 44,
    "start_time": "2021-10-29T15:16:31.965Z"
   },
   {
    "duration": 1131089,
    "start_time": "2021-10-29T15:16:32.012Z"
   },
   {
    "duration": 1353,
    "start_time": "2021-10-29T15:35:23.105Z"
   },
   {
    "duration": 76,
    "start_time": "2021-10-29T15:35:24.462Z"
   },
   {
    "duration": 455,
    "start_time": "2021-10-31T10:20:20.416Z"
   },
   {
    "duration": 338,
    "start_time": "2021-10-31T10:20:35.168Z"
   },
   {
    "duration": 1186,
    "start_time": "2021-10-31T10:20:49.858Z"
   },
   {
    "duration": 33,
    "start_time": "2021-10-31T10:20:51.046Z"
   },
   {
    "duration": 6,
    "start_time": "2021-10-31T10:20:51.081Z"
   },
   {
    "duration": 414,
    "start_time": "2021-10-31T10:20:51.089Z"
   },
   {
    "duration": 21556,
    "start_time": "2021-10-31T10:20:29.949Z"
   },
   {
    "duration": 21552,
    "start_time": "2021-10-31T10:20:29.954Z"
   },
   {
    "duration": 21545,
    "start_time": "2021-10-31T10:20:29.962Z"
   },
   {
    "duration": 21541,
    "start_time": "2021-10-31T10:20:29.967Z"
   },
   {
    "duration": 21538,
    "start_time": "2021-10-31T10:20:29.971Z"
   },
   {
    "duration": 11,
    "start_time": "2021-10-31T10:21:52.285Z"
   },
   {
    "duration": 11,
    "start_time": "2021-10-31T10:22:04.477Z"
   },
   {
    "duration": 393,
    "start_time": "2021-10-31T11:36:39.992Z"
   },
   {
    "duration": 22,
    "start_time": "2021-10-31T11:36:46.908Z"
   },
   {
    "duration": 4,
    "start_time": "2021-10-31T11:37:13.820Z"
   },
   {
    "duration": 4,
    "start_time": "2021-10-31T12:19:43.439Z"
   },
   {
    "duration": 30,
    "start_time": "2021-10-31T12:19:43.445Z"
   },
   {
    "duration": 6,
    "start_time": "2021-10-31T12:19:43.477Z"
   },
   {
    "duration": 4,
    "start_time": "2021-10-31T12:19:43.485Z"
   },
   {
    "duration": 10,
    "start_time": "2021-10-31T12:19:43.491Z"
   },
   {
    "duration": 82,
    "start_time": "2021-10-31T12:19:43.502Z"
   },
   {
    "duration": 10367,
    "start_time": "2021-10-31T12:19:43.586Z"
   },
   {
    "duration": 30,
    "start_time": "2021-10-31T12:19:53.955Z"
   },
   {
    "duration": 739961,
    "start_time": "2021-10-31T12:19:53.987Z"
   },
   {
    "duration": 659,
    "start_time": "2021-10-31T12:32:13.951Z"
   },
   {
    "duration": 3,
    "start_time": "2021-10-31T12:46:03.521Z"
   },
   {
    "duration": 46,
    "start_time": "2021-10-31T12:46:03.526Z"
   },
   {
    "duration": 5,
    "start_time": "2021-10-31T12:46:03.575Z"
   },
   {
    "duration": 4,
    "start_time": "2021-10-31T12:46:03.582Z"
   },
   {
    "duration": 9,
    "start_time": "2021-10-31T12:46:03.588Z"
   },
   {
    "duration": 79,
    "start_time": "2021-10-31T12:46:03.598Z"
   },
   {
    "duration": 10070,
    "start_time": "2021-10-31T12:46:03.679Z"
   },
   {
    "duration": 29,
    "start_time": "2021-10-31T12:46:13.751Z"
   },
   {
    "duration": 743205,
    "start_time": "2021-10-31T12:46:13.782Z"
   },
   {
    "duration": 137,
    "start_time": "2021-10-31T12:58:36.990Z"
   },
   {
    "duration": 5,
    "start_time": "2021-10-31T13:02:11.115Z"
   },
   {
    "duration": 110,
    "start_time": "2021-10-31T13:02:21.278Z"
   },
   {
    "duration": 349,
    "start_time": "2021-10-31T13:02:25.005Z"
   },
   {
    "duration": 338,
    "start_time": "2021-10-31T13:02:32.952Z"
   },
   {
    "duration": 4,
    "start_time": "2021-10-31T13:02:41.598Z"
   },
   {
    "duration": 1102,
    "start_time": "2021-11-01T05:09:53.910Z"
   },
   {
    "duration": 336,
    "start_time": "2021-11-01T05:24:30.551Z"
   },
   {
    "duration": 3,
    "start_time": "2021-11-01T05:24:34.851Z"
   },
   {
    "duration": 36,
    "start_time": "2021-11-01T05:24:34.856Z"
   },
   {
    "duration": 6,
    "start_time": "2021-11-01T05:24:34.895Z"
   },
   {
    "duration": 6,
    "start_time": "2021-11-01T05:24:34.903Z"
   },
   {
    "duration": 10,
    "start_time": "2021-11-01T05:24:34.910Z"
   },
   {
    "duration": 69,
    "start_time": "2021-11-01T05:24:34.922Z"
   },
   {
    "duration": 9283,
    "start_time": "2021-11-01T05:24:34.993Z"
   },
   {
    "duration": 20,
    "start_time": "2021-11-01T05:24:44.278Z"
   },
   {
    "duration": 674603,
    "start_time": "2021-11-01T05:24:44.301Z"
   },
   {
    "duration": 184,
    "start_time": "2021-11-01T05:35:58.906Z"
   },
   {
    "duration": 4,
    "start_time": "2021-11-01T05:35:59.091Z"
   },
   {
    "duration": 8,
    "start_time": "2021-11-01T05:35:59.097Z"
   },
   {
    "duration": 8,
    "start_time": "2021-11-01T05:47:45.284Z"
   },
   {
    "duration": 8,
    "start_time": "2021-11-01T05:48:10.436Z"
   },
   {
    "duration": 7,
    "start_time": "2021-11-01T05:48:28.932Z"
   }
  ],
  "kernelspec": {
   "display_name": "Python 3",
   "language": "python",
   "name": "python3"
  },
  "language_info": {
   "codemirror_mode": {
    "name": "ipython",
    "version": 3
   },
   "file_extension": ".py",
   "mimetype": "text/x-python",
   "name": "python",
   "nbconvert_exporter": "python",
   "pygments_lexer": "ipython3",
   "version": "3.8.8"
  },
  "toc": {
   "base_numbering": 1,
   "nav_menu": {},
   "number_sections": true,
   "sideBar": true,
   "skip_h1_title": true,
   "title_cell": "Table of Contents",
   "title_sidebar": "Contents",
   "toc_cell": false,
   "toc_position": {},
   "toc_section_display": true,
   "toc_window_display": false
  }
 },
 "nbformat": 4,
 "nbformat_minor": 2
}
