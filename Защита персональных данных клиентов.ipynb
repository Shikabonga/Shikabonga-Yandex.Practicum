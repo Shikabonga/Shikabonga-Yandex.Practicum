{
 "cells": [
  {
   "cell_type": "markdown",
   "metadata": {
    "toc": true
   },
   "source": [
    "<h1>Содержание<span class=\"tocSkip\"></span></h1>\n",
    "<div class=\"toc\"><ul class=\"toc-item\"><li><span><a href=\"#Загрузка-данных\" data-toc-modified-id=\"Загрузка-данных-1\"><span class=\"toc-item-num\">1&nbsp;&nbsp;</span>Загрузка данных</a></span></li><li><span><a href=\"#Умножение-матриц\" data-toc-modified-id=\"Умножение-матриц-2\"><span class=\"toc-item-num\">2&nbsp;&nbsp;</span>Умножение матриц</a></span><ul class=\"toc-item\"><li><span><a href=\"#Вывод:\" data-toc-modified-id=\"Вывод:-2.1\"><span class=\"toc-item-num\">2.1&nbsp;&nbsp;</span>Вывод:</a></span></li></ul></li><li><span><a href=\"#Алгоритм-преобразования\" data-toc-modified-id=\"Алгоритм-преобразования-3\"><span class=\"toc-item-num\">3&nbsp;&nbsp;</span>Алгоритм преобразования</a></span></li><li><span><a href=\"#Проверка-алгоритма\" data-toc-modified-id=\"Проверка-алгоритма-4\"><span class=\"toc-item-num\">4&nbsp;&nbsp;</span>Проверка алгоритма</a></span></li><li><span><a href=\"#Чек-лист-проверки\" data-toc-modified-id=\"Чек-лист-проверки-5\"><span class=\"toc-item-num\">5&nbsp;&nbsp;</span>Чек-лист проверки</a></span></li></ul></div>"
   ]
  },
  {
   "cell_type": "markdown",
   "metadata": {},
   "source": [
    "# Защита персональных данных клиентов"
   ]
  },
  {
   "cell_type": "markdown",
   "metadata": {},
   "source": [
    "Вам нужно защитить данные клиентов страховой компании «Хоть потоп». Разработайте такой метод преобразования данных, чтобы по ним было сложно восстановить персональную информацию. Обоснуйте корректность его работы.\n",
    "\n",
    "Нужно защитить данные, чтобы при преобразовании качество моделей машинного обучения не ухудшилось. Подбирать наилучшую модель не требуется."
   ]
  },
  {
   "cell_type": "markdown",
   "metadata": {},
   "source": [
    "<h><b>План выполнения проекта</b></h>\n",
    " 1. Загрузить и изучить данные.\n",
    " 2. Ответить на вопрос и обосновать решение.\n",
    "    Признаки умножают на обратимую матрицу. Изменится ли качество линейной регрессии?\n",
    " - Изменится. Приведите примеры матриц.\n",
    " - Не изменится. Как связаны параметры линейной регрессии в исходной задаче и в преобразованной?\n",
    " 3. Предложить алгоритм преобразования данных для решения задачи. Обосновать, почему качество линейной регрессии не поменяется.\n",
    " 4. Запрограммировать этот алгоритм, применив матричные операции. Проверить, что качество линейной регрессии из sklearn не отличается до и после преобразования. Применить метрику R2."
   ]
  },
  {
   "cell_type": "markdown",
   "metadata": {},
   "source": [
    "## Загрузка данных"
   ]
  },
  {
   "cell_type": "code",
   "execution_count": 1,
   "metadata": {},
   "outputs": [],
   "source": [
    "import pandas as pd\n",
    "import numpy as np\n",
    "from sklearn.linear_model import LinearRegression\n",
    "from sklearn.preprocessing import StandardScaler\n",
    "from sklearn.metrics import r2_score, mean_squared_error"
   ]
  },
  {
   "cell_type": "code",
   "execution_count": 2,
   "metadata": {},
   "outputs": [],
   "source": [
    "df = pd.read_csv('/datasets/insurance.csv')"
   ]
  },
  {
   "cell_type": "code",
   "execution_count": 3,
   "metadata": {},
   "outputs": [
    {
     "name": "stdout",
     "output_type": "stream",
     "text": [
      "<class 'pandas.core.frame.DataFrame'>\n",
      "RangeIndex: 5000 entries, 0 to 4999\n",
      "Data columns (total 5 columns):\n",
      "Пол                  5000 non-null int64\n",
      "Возраст              5000 non-null float64\n",
      "Зарплата             5000 non-null float64\n",
      "Члены семьи          5000 non-null int64\n",
      "Страховые выплаты    5000 non-null int64\n",
      "dtypes: float64(2), int64(3)\n",
      "memory usage: 195.4 KB\n"
     ]
    }
   ],
   "source": [
    "df.info()"
   ]
  },
  {
   "cell_type": "markdown",
   "metadata": {},
   "source": [
    "Предобработка:\n",
    " - Столбцы на русском языке, нужно переименовать\n",
    " - Числовой формат у столбцов \"Возраст\" и \"Зарплата\" приведем к int"
   ]
  },
  {
   "cell_type": "code",
   "execution_count": 4,
   "metadata": {},
   "outputs": [
    {
     "name": "stdout",
     "output_type": "stream",
     "text": [
      "<class 'pandas.core.frame.DataFrame'>\n",
      "RangeIndex: 5000 entries, 0 to 4999\n",
      "Data columns (total 5 columns):\n",
      "gender            5000 non-null int64\n",
      "age               5000 non-null float64\n",
      "salary            5000 non-null float64\n",
      "family_members    5000 non-null int64\n",
      "payments          5000 non-null int64\n",
      "dtypes: float64(2), int64(3)\n",
      "memory usage: 195.4 KB\n"
     ]
    }
   ],
   "source": [
    "df = df.rename(columns={'Пол':'gender','Возраст':'age','Зарплата':'salary','Члены семьи':'family_members','Страховые выплаты':'payments'})\n",
    "df.info()"
   ]
  },
  {
   "cell_type": "code",
   "execution_count": 5,
   "metadata": {},
   "outputs": [
    {
     "data": {
      "text/plain": [
       "0    2505\n",
       "1    2495\n",
       "Name: gender, dtype: int64"
      ]
     },
     "execution_count": 5,
     "metadata": {},
     "output_type": "execute_result"
    }
   ],
   "source": [
    "df['gender'].value_counts()"
   ]
  },
  {
   "cell_type": "code",
   "execution_count": 6,
   "metadata": {},
   "outputs": [
    {
     "data": {
      "text/plain": [
       "count    5000.000000\n",
       "mean       30.952800\n",
       "std         8.440807\n",
       "min        18.000000\n",
       "25%        24.000000\n",
       "50%        30.000000\n",
       "75%        37.000000\n",
       "max        65.000000\n",
       "Name: age, dtype: float64"
      ]
     },
     "execution_count": 6,
     "metadata": {},
     "output_type": "execute_result"
    }
   ],
   "source": [
    "df['age'].describe()"
   ]
  },
  {
   "cell_type": "code",
   "execution_count": 7,
   "metadata": {},
   "outputs": [
    {
     "name": "stdout",
     "output_type": "stream",
     "text": [
      "<class 'pandas.core.frame.DataFrame'>\n",
      "RangeIndex: 5000 entries, 0 to 4999\n",
      "Data columns (total 5 columns):\n",
      "gender            5000 non-null int64\n",
      "age               5000 non-null int64\n",
      "salary            5000 non-null float64\n",
      "family_members    5000 non-null int64\n",
      "payments          5000 non-null int64\n",
      "dtypes: float64(1), int64(4)\n",
      "memory usage: 195.4 KB\n"
     ]
    }
   ],
   "source": [
    "df['age'] = df['age'].astype(int)\n",
    "df.info()"
   ]
  },
  {
   "cell_type": "code",
   "execution_count": 8,
   "metadata": {},
   "outputs": [
    {
     "data": {
      "text/plain": [
       "count     5000.000000\n",
       "mean     39916.360000\n",
       "std       9900.083569\n",
       "min       5300.000000\n",
       "25%      33300.000000\n",
       "50%      40200.000000\n",
       "75%      46600.000000\n",
       "max      79000.000000\n",
       "Name: salary, dtype: float64"
      ]
     },
     "execution_count": 8,
     "metadata": {},
     "output_type": "execute_result"
    }
   ],
   "source": [
    "df['salary'].describe()"
   ]
  },
  {
   "cell_type": "code",
   "execution_count": 9,
   "metadata": {},
   "outputs": [
    {
     "name": "stdout",
     "output_type": "stream",
     "text": [
      "<class 'pandas.core.frame.DataFrame'>\n",
      "RangeIndex: 5000 entries, 0 to 4999\n",
      "Data columns (total 5 columns):\n",
      "gender            5000 non-null int64\n",
      "age               5000 non-null int64\n",
      "salary            5000 non-null int64\n",
      "family_members    5000 non-null int64\n",
      "payments          5000 non-null int64\n",
      "dtypes: int64(5)\n",
      "memory usage: 195.4 KB\n"
     ]
    }
   ],
   "source": [
    "df['salary'] = df['salary'].astype(int)\n",
    "df.info()"
   ]
  },
  {
   "cell_type": "code",
   "execution_count": 10,
   "metadata": {},
   "outputs": [
    {
     "data": {
      "text/plain": [
       "1    1814\n",
       "0    1513\n",
       "2    1071\n",
       "3     439\n",
       "4     124\n",
       "5      32\n",
       "6       7\n",
       "Name: family_members, dtype: int64"
      ]
     },
     "execution_count": 10,
     "metadata": {},
     "output_type": "execute_result"
    }
   ],
   "source": [
    "df['family_members'].value_counts()"
   ]
  },
  {
   "cell_type": "code",
   "execution_count": 11,
   "metadata": {},
   "outputs": [
    {
     "data": {
      "text/plain": [
       "0    4436\n",
       "1     423\n",
       "2     115\n",
       "3      18\n",
       "4       7\n",
       "5       1\n",
       "Name: payments, dtype: int64"
      ]
     },
     "execution_count": 11,
     "metadata": {},
     "output_type": "execute_result"
    }
   ],
   "source": [
    "df['payments'].value_counts()"
   ]
  },
  {
   "cell_type": "markdown",
   "metadata": {},
   "source": [
    "Проверим на дубликаты"
   ]
  },
  {
   "cell_type": "code",
   "execution_count": 12,
   "metadata": {},
   "outputs": [
    {
     "data": {
      "text/plain": [
       "153"
      ]
     },
     "execution_count": 12,
     "metadata": {},
     "output_type": "execute_result"
    }
   ],
   "source": [
    "df.duplicated().sum()"
   ]
  },
  {
   "cell_type": "code",
   "execution_count": 13,
   "metadata": {},
   "outputs": [],
   "source": [
    "df = df.drop_duplicates()"
   ]
  },
  {
   "cell_type": "code",
   "execution_count": 14,
   "metadata": {},
   "outputs": [
    {
     "data": {
      "text/plain": [
       "0"
      ]
     },
     "execution_count": 14,
     "metadata": {},
     "output_type": "execute_result"
    }
   ],
   "source": [
    "df.duplicated().sum()"
   ]
  },
  {
   "cell_type": "markdown",
   "metadata": {},
   "source": [
    "## Умножение матриц"
   ]
  },
  {
   "cell_type": "markdown",
   "metadata": {},
   "source": [
    "В этом задании вы можете записывать формулы в *Jupyter Notebook.*\n",
    "\n",
    "Чтобы записать формулу внутри текста, окружите её символами доллара \\\\$; если снаружи —  двойными символами \\\\$\\\\$. Эти формулы записываются на языке вёрстки *LaTeX.* \n",
    "\n",
    "Для примера мы записали формулы линейной регрессии. Можете их скопировать и отредактировать, чтобы решить задачу.\n",
    "\n",
    "Работать в *LaTeX* необязательно."
   ]
  },
  {
   "cell_type": "markdown",
   "metadata": {},
   "source": [
    "Обозначения:\n",
    "\n",
    "- $X$ — матрица признаков (нулевой столбец состоит из единиц)\n",
    "\n",
    "- $y$ — вектор целевого признака\n",
    "\n",
    "- $P$ — матрица, на которую умножаются признаки\n",
    "\n",
    "- $w$ — вектор весов линейной регрессии (нулевой элемент равен сдвигу)"
   ]
  },
  {
   "cell_type": "markdown",
   "metadata": {},
   "source": [
    "Предсказания:\n",
    "\n",
    "$$\n",
    "a = Xw\n",
    "$$\n",
    "\n",
    "Задача обучения:\n",
    "\n",
    "$$\n",
    "w = \\arg\\min_w MSE(Xw, y)\n",
    "$$\n",
    "\n",
    "Формула обучения:\n",
    "\n",
    "$$\n",
    "w = (X^T X)^{-1} X^T y\n",
    "$$"
   ]
  },
  {
   "cell_type": "markdown",
   "metadata": {},
   "source": [
    "Решим задачу, путем "
   ]
  },
  {
   "cell_type": "markdown",
   "metadata": {},
   "source": [
    "Представим новую матрицу признаков $X1$ как произведение старой $X$ на обратимую матрицу $P$:\n",
    "\n",
    "$$\n",
    "X1 = X * P\n",
    "$$\n",
    "\n",
    "Подставим значение X1 в формулу $w1$:\n",
    "\n",
    "$$\n",
    "w1 = ((X P)^T X P)^{-1} (X P)^T y\n",
    "$$\n",
    "\n",
    "Раскроем скобки $ (XP)^T $:\n",
    "\n",
    "$$\n",
    "w1 = (P^T X^T X P)^{-1} P^T X^T y\n",
    "$$\n",
    "\n",
    "\"От перестановки множителей произведение не меняется\":\n",
    "\n",
    "$$\n",
    "w1 = (P^T (X^T X) P)^{-1} P^T X^T y\n",
    "$$\n",
    "\n",
    "Раскроем скобки $ (P^T (X^T X) P)^{-1} $:\n",
    "\n",
    "$$\n",
    "w1 = P^{-1} (X^T X)^{-1} (P^T)^{-1} P^T X^T y\n",
    "$$\n",
    "\n",
    "Так как $P$ по условию обратимая, то произведение $(P^T)^{-1} P^T$ равно еденичной матрице ($Е$):\n",
    "\n",
    "$$\n",
    "w1 = P^{-1} (X^T X)^{-1} E X^T y = P^{-1} (X^T X)^{-1} X^T y\n",
    "$$\n",
    "\n",
    "Cправа получилась формула для $w$:\n",
    "\n",
    "$$\n",
    "w1 = P^{-1} (X^T X)^{-1} X^T y = P^{-1} w\n",
    "$$\n",
    "\n",
    "Подставим новое значение весов  𝑤1  в формулу для предсказаний линейной регрессии.\n",
    "Предсказания модели расчитываются по формуле:\n",
    "\n",
    "$$\n",
    "a = Xw\n",
    "$$\n",
    "\n",
    "Подставим в эту формулу значения $X1$ и $w1$ для того, чтобы на их основе вычислить предсказания модели $a1$:\n",
    "\n",
    "$$\n",
    "a1 = X1w1 = XPP^{-1} w\n",
    "$$\n",
    "\n",
    "Так как $P$ по условию обратимая, то произведение $PP^{-1}$ снова равно $E$:\n",
    "\n",
    "$$\n",
    "a1 = XPP^{-1} w = X E w = X w = a\n",
    "$$\n",
    "\n",
    "Мы доказали, что предсказания $a1$ для матрицы признаков, умноженных на обратимую матрицу $P$ равны предсказаниям $a$.<br>\n",
    "Следовательно, отвечая на вопрос изменится ли качество линейной регрессии при умножении признаков на обратимую матрицу - нет, не изменится. В данном случае, параметры линейной регрессии в исходной задаче $w$ и в преобразованной $w1$ связаны следующим образом:\n",
    "\n",
    "$$\n",
    "w1 = P^{-1} w\n",
    "$$\n",
    "\n",
    "### Вывод:\n",
    "При умножении признаков на обратимую матрицу, предсказания модели не поменяется, но придется переобучать модель на новых признаках."
   ]
  },
  {
   "cell_type": "markdown",
   "metadata": {},
   "source": [
    "## Алгоритм преобразования"
   ]
  },
  {
   "cell_type": "markdown",
   "metadata": {},
   "source": [
    "**Алгоритм**\n",
    "\n",
    "Алгоритм преобразования: умножение признаков на обратимую матрицу."
   ]
  },
  {
   "cell_type": "markdown",
   "metadata": {},
   "source": [
    "**Обоснование**"
   ]
  },
  {
   "cell_type": "markdown",
   "metadata": {},
   "source": [
    "Сгенерируем случайную матрицу"
   ]
  },
  {
   "cell_type": "code",
   "execution_count": 15,
   "metadata": {},
   "outputs": [
    {
     "data": {
      "text/plain": [
       "array([[57, 28, 75, 28],\n",
       "       [74, 96, 56, 18],\n",
       "       [45, 46, 43,  0],\n",
       "       [50, 96, 85,  2]])"
      ]
     },
     "execution_count": 15,
     "metadata": {},
     "output_type": "execute_result"
    }
   ],
   "source": [
    "r_matrix = np.random.randint(100,size = (4,4))\n",
    "r_matrix"
   ]
  },
  {
   "cell_type": "markdown",
   "metadata": {},
   "source": [
    "Проверка матрицы на обратимость"
   ]
  },
  {
   "cell_type": "code",
   "execution_count": 16,
   "metadata": {},
   "outputs": [
    {
     "data": {
      "text/plain": [
       "array([[-0.0002378 ,  0.0030728 ,  0.0444993 , -0.02432602],\n",
       "       [-0.00912733,  0.0130649 , -0.02125496,  0.01019858],\n",
       "       [ 0.01001298, -0.01719212, -0.00057535,  0.01454736],\n",
       "       [ 0.01850522,  0.02673009, -0.06779177,  0.00035612]])"
      ]
     },
     "execution_count": 16,
     "metadata": {},
     "output_type": "execute_result"
    }
   ],
   "source": [
    "matrix_inverted = np.linalg.inv(r_matrix)\n",
    "matrix_inverted"
   ]
  },
  {
   "cell_type": "markdown",
   "metadata": {},
   "source": [
    "Выделим features и target"
   ]
  },
  {
   "cell_type": "code",
   "execution_count": 17,
   "metadata": {},
   "outputs": [],
   "source": [
    "features = df.drop('payments', axis = 1)\n",
    "target = df['payments']"
   ]
  },
  {
   "cell_type": "markdown",
   "metadata": {},
   "source": [
    "Масштабируем признаки"
   ]
  },
  {
   "cell_type": "code",
   "execution_count": 18,
   "metadata": {},
   "outputs": [],
   "source": [
    "scaler = StandardScaler()\n",
    "scaler.fit(features)\n",
    "features_scaled = scaler.transform(features)"
   ]
  },
  {
   "cell_type": "markdown",
   "metadata": {},
   "source": [
    "Рассчитаем вектор весов"
   ]
  },
  {
   "cell_type": "code",
   "execution_count": 19,
   "metadata": {},
   "outputs": [],
   "source": [
    "w = np.linalg.inv(features_scaled.T.dot(features_scaled)).dot(features_scaled.T).dot(target)"
   ]
  },
  {
   "cell_type": "markdown",
   "metadata": {},
   "source": [
    "Вектор предсказаний"
   ]
  },
  {
   "cell_type": "code",
   "execution_count": 20,
   "metadata": {},
   "outputs": [],
   "source": [
    "a = features_scaled @ w"
   ]
  },
  {
   "cell_type": "markdown",
   "metadata": {},
   "source": [
    "Расчитаем веса для преобразованных признаков"
   ]
  },
  {
   "cell_type": "code",
   "execution_count": 21,
   "metadata": {},
   "outputs": [],
   "source": [
    "features_scaled_p = features_scaled @ r_matrix"
   ]
  },
  {
   "cell_type": "markdown",
   "metadata": {},
   "source": [
    "Вектор весов для преобразованных признаков"
   ]
  },
  {
   "cell_type": "code",
   "execution_count": 22,
   "metadata": {},
   "outputs": [],
   "source": [
    "w1 = np.linalg.inv(features_scaled_p.T.dot(features_scaled_p)).dot(features_scaled_p.T).dot(target)"
   ]
  },
  {
   "cell_type": "markdown",
   "metadata": {},
   "source": [
    "Вектор предсказаний по преобразованным признакам"
   ]
  },
  {
   "cell_type": "code",
   "execution_count": 23,
   "metadata": {},
   "outputs": [],
   "source": [
    "a1 = features_scaled_p @ w1"
   ]
  },
  {
   "cell_type": "markdown",
   "metadata": {},
   "source": [
    "Разность векторов"
   ]
  },
  {
   "cell_type": "code",
   "execution_count": 24,
   "metadata": {},
   "outputs": [
    {
     "data": {
      "text/plain": [
       "8.25962562234217e-14"
      ]
     },
     "execution_count": 24,
     "metadata": {},
     "output_type": "execute_result"
    }
   ],
   "source": [
    "(a - a1).sum()"
   ]
  },
  {
   "cell_type": "markdown",
   "metadata": {},
   "source": [
    "Разность очень маленькая, расхождения минимальны. Можно приступать к проверке алгоритма"
   ]
  },
  {
   "cell_type": "markdown",
   "metadata": {},
   "source": [
    "## Проверка алгоритма"
   ]
  },
  {
   "cell_type": "code",
   "execution_count": 26,
   "metadata": {},
   "outputs": [
    {
     "name": "stdout",
     "output_type": "stream",
     "text": [
      "MSE:0.12527\n",
      "R2 на исходных данных:0.4302\n"
     ]
    }
   ],
   "source": [
    "model = LinearRegression(normalize = True)\n",
    "model.fit(features, target)\n",
    "predictions = model.predict(features)\n",
    "print('MSE:{:.5}'.format(mean_squared_error(target, predictions)))\n",
    "print('R2 на исходных данных:{:.5}'.format(r2_score(target, predictions)))"
   ]
  },
  {
   "cell_type": "code",
   "execution_count": 27,
   "metadata": {},
   "outputs": [
    {
     "name": "stdout",
     "output_type": "stream",
     "text": [
      "MSE:0.12527\n",
      "R2 для преобразованных  признаков:0.4302\n"
     ]
    }
   ],
   "source": [
    "features_matrix = features_scaled @ r_matrix\n",
    "model.fit(features_matrix, target)\n",
    "predictions_matrix = model.predict(features_matrix)\n",
    "print('MSE:{:.5}'.format(mean_squared_error(target, predictions_matrix)))\n",
    "print('R2 для преобразованных  признаков:{:.5}'.format(r2_score(target, predictions_matrix)))"
   ]
  },
  {
   "cell_type": "markdown",
   "metadata": {},
   "source": [
    "Значение метрик одинково, что до, что после преобразования. Данные зашифрованы, без потери качества модели."
   ]
  },
  {
   "cell_type": "markdown",
   "metadata": {},
   "source": [
    "## Чек-лист проверки"
   ]
  },
  {
   "cell_type": "markdown",
   "metadata": {},
   "source": [
    "Поставьте 'x' в выполненных пунктах. Далее нажмите Shift+Enter."
   ]
  },
  {
   "cell_type": "markdown",
   "metadata": {},
   "source": [
    "- [x]  Jupyter Notebook открыт\n",
    "- [x]  Весь код выполняется без ошибок\n",
    "- [x]  Ячейки с кодом расположены в порядке исполнения\n",
    "- [x]  Выполнен шаг 1: данные загружены\n",
    "- [x]  Выполнен шаг 2: получен ответ на вопрос об умножении матриц\n",
    "    - [x]  Указан правильный вариант ответа\n",
    "    - [x]  Вариант обоснован\n",
    "- [x]  Выполнен шаг 3: предложен алгоритм преобразования\n",
    "    - [x]  Алгоритм описан\n",
    "    - [x]  Алгоритм обоснован\n",
    "- [x]  Выполнен шаг 4: алгоритм проверен\n",
    "    - [x]  Алгоритм реализован\n",
    "    - [x]  Проведено сравнение качества моделей до и после преобразования"
   ]
  }
 ],
 "metadata": {
  "ExecuteTimeLog": [
   {
    "duration": 321,
    "start_time": "2021-12-26T06:49:36.554Z"
   },
   {
    "duration": 877,
    "start_time": "2021-12-26T06:49:39.943Z"
   },
   {
    "duration": 24,
    "start_time": "2021-12-26T06:49:40.823Z"
   },
   {
    "duration": 42,
    "start_time": "2021-12-26T06:49:40.850Z"
   },
   {
    "duration": 10,
    "start_time": "2021-12-26T06:50:05.252Z"
   },
   {
    "duration": 13,
    "start_time": "2021-12-26T06:50:53.090Z"
   },
   {
    "duration": 5656,
    "start_time": "2021-12-26T06:56:25.119Z"
   },
   {
    "duration": 5653,
    "start_time": "2021-12-26T06:56:25.123Z"
   },
   {
    "duration": 5650,
    "start_time": "2021-12-26T06:56:25.127Z"
   },
   {
    "duration": 5642,
    "start_time": "2021-12-26T06:56:25.137Z"
   },
   {
    "duration": 5639,
    "start_time": "2021-12-26T06:56:25.141Z"
   },
   {
    "duration": 760,
    "start_time": "2021-12-26T06:56:47.096Z"
   },
   {
    "duration": 20,
    "start_time": "2021-12-26T06:56:47.858Z"
   },
   {
    "duration": 9,
    "start_time": "2021-12-26T06:56:47.881Z"
   },
   {
    "duration": 16,
    "start_time": "2021-12-26T06:56:47.892Z"
   },
   {
    "duration": 18,
    "start_time": "2021-12-26T06:56:47.910Z"
   },
   {
    "duration": 10,
    "start_time": "2021-12-26T06:58:24.756Z"
   },
   {
    "duration": 11,
    "start_time": "2021-12-26T06:58:52.620Z"
   },
   {
    "duration": 8,
    "start_time": "2021-12-26T06:59:11.824Z"
   },
   {
    "duration": 11,
    "start_time": "2021-12-26T06:59:38.697Z"
   },
   {
    "duration": 9,
    "start_time": "2021-12-26T07:01:04.448Z"
   },
   {
    "duration": 8,
    "start_time": "2021-12-26T07:04:40.039Z"
   },
   {
    "duration": 12,
    "start_time": "2021-12-26T07:05:21.347Z"
   },
   {
    "duration": 9,
    "start_time": "2021-12-26T07:05:42.273Z"
   },
   {
    "duration": 3,
    "start_time": "2021-12-26T07:05:48.048Z"
   },
   {
    "duration": 29,
    "start_time": "2021-12-26T07:05:48.054Z"
   },
   {
    "duration": 9,
    "start_time": "2021-12-26T07:05:48.086Z"
   },
   {
    "duration": 14,
    "start_time": "2021-12-26T07:05:48.098Z"
   },
   {
    "duration": 8,
    "start_time": "2021-12-26T07:05:48.115Z"
   },
   {
    "duration": 14,
    "start_time": "2021-12-26T07:05:48.126Z"
   },
   {
    "duration": 32,
    "start_time": "2021-12-26T07:05:48.142Z"
   },
   {
    "duration": 19,
    "start_time": "2021-12-26T07:05:48.176Z"
   },
   {
    "duration": 9,
    "start_time": "2021-12-26T07:05:48.198Z"
   },
   {
    "duration": 10,
    "start_time": "2021-12-26T07:05:48.209Z"
   },
   {
    "duration": 3,
    "start_time": "2021-12-26T07:06:32.565Z"
   },
   {
    "duration": 21,
    "start_time": "2021-12-26T07:06:32.571Z"
   },
   {
    "duration": 8,
    "start_time": "2021-12-26T07:06:32.595Z"
   },
   {
    "duration": 17,
    "start_time": "2021-12-26T07:06:32.606Z"
   },
   {
    "duration": 7,
    "start_time": "2021-12-26T07:06:32.626Z"
   },
   {
    "duration": 37,
    "start_time": "2021-12-26T07:06:32.635Z"
   },
   {
    "duration": 11,
    "start_time": "2021-12-26T07:06:32.674Z"
   },
   {
    "duration": 11,
    "start_time": "2021-12-26T07:06:32.687Z"
   },
   {
    "duration": 9,
    "start_time": "2021-12-26T07:06:32.702Z"
   },
   {
    "duration": 8,
    "start_time": "2021-12-26T07:06:32.713Z"
   },
   {
    "duration": 9,
    "start_time": "2021-12-26T07:06:32.769Z"
   },
   {
    "duration": 8,
    "start_time": "2021-12-26T07:07:15.035Z"
   },
   {
    "duration": 3,
    "start_time": "2021-12-26T07:07:45.309Z"
   },
   {
    "duration": 24,
    "start_time": "2021-12-26T07:07:45.315Z"
   },
   {
    "duration": 9,
    "start_time": "2021-12-26T07:07:45.342Z"
   },
   {
    "duration": 12,
    "start_time": "2021-12-26T07:07:45.353Z"
   },
   {
    "duration": 12,
    "start_time": "2021-12-26T07:07:45.367Z"
   },
   {
    "duration": 13,
    "start_time": "2021-12-26T07:07:45.381Z"
   },
   {
    "duration": 10,
    "start_time": "2021-12-26T07:07:45.396Z"
   },
   {
    "duration": 10,
    "start_time": "2021-12-26T07:07:45.408Z"
   },
   {
    "duration": 45,
    "start_time": "2021-12-26T07:07:45.422Z"
   },
   {
    "duration": 8,
    "start_time": "2021-12-26T07:07:45.470Z"
   },
   {
    "duration": 13,
    "start_time": "2021-12-26T07:07:45.480Z"
   },
   {
    "duration": 9,
    "start_time": "2021-12-26T07:07:45.495Z"
   },
   {
    "duration": 413,
    "start_time": "2021-12-26T07:07:45.506Z"
   },
   {
    "duration": 7,
    "start_time": "2021-12-26T07:08:26.347Z"
   },
   {
    "duration": 10,
    "start_time": "2021-12-26T07:08:32.275Z"
   },
   {
    "duration": 662,
    "start_time": "2021-12-26T07:39:34.019Z"
   },
   {
    "duration": 6,
    "start_time": "2021-12-26T07:43:20.849Z"
   },
   {
    "duration": 7,
    "start_time": "2021-12-26T07:43:30.288Z"
   },
   {
    "duration": 7,
    "start_time": "2021-12-26T07:43:31.224Z"
   },
   {
    "duration": 7,
    "start_time": "2021-12-26T07:43:33.745Z"
   },
   {
    "duration": 8,
    "start_time": "2021-12-26T07:43:36.780Z"
   },
   {
    "duration": 1416,
    "start_time": "2021-12-27T09:50:39.400Z"
   },
   {
    "duration": 21,
    "start_time": "2021-12-27T09:50:40.818Z"
   },
   {
    "duration": 8,
    "start_time": "2021-12-27T09:50:40.842Z"
   },
   {
    "duration": 9,
    "start_time": "2021-12-27T09:50:40.853Z"
   },
   {
    "duration": 18,
    "start_time": "2021-12-27T09:50:40.864Z"
   },
   {
    "duration": 12,
    "start_time": "2021-12-27T09:50:40.884Z"
   },
   {
    "duration": 9,
    "start_time": "2021-12-27T09:50:40.898Z"
   },
   {
    "duration": 16,
    "start_time": "2021-12-27T09:50:40.911Z"
   },
   {
    "duration": 32,
    "start_time": "2021-12-27T09:50:40.930Z"
   },
   {
    "duration": 8,
    "start_time": "2021-12-27T09:50:40.964Z"
   },
   {
    "duration": 14,
    "start_time": "2021-12-27T09:50:40.975Z"
   },
   {
    "duration": 14,
    "start_time": "2021-12-27T09:50:40.992Z"
   },
   {
    "duration": 7,
    "start_time": "2021-12-27T09:50:41.008Z"
   },
   {
    "duration": 8,
    "start_time": "2021-12-27T09:50:41.017Z"
   },
   {
    "duration": 6,
    "start_time": "2021-12-27T09:50:41.027Z"
   },
   {
    "duration": 30,
    "start_time": "2021-12-27T09:50:41.036Z"
   },
   {
    "duration": 6,
    "start_time": "2021-12-27T09:50:41.069Z"
   },
   {
    "duration": 87,
    "start_time": "2021-12-27T09:50:41.078Z"
   },
   {
    "duration": 5,
    "start_time": "2021-12-27T09:50:41.168Z"
   },
   {
    "duration": 7,
    "start_time": "2021-12-27T09:50:41.176Z"
   },
   {
    "duration": 11,
    "start_time": "2021-12-27T09:50:41.261Z"
   },
   {
    "duration": 104,
    "start_time": "2021-12-27T09:50:41.360Z"
   },
   {
    "duration": 5,
    "start_time": "2021-12-27T09:50:41.469Z"
   },
   {
    "duration": 84,
    "start_time": "2021-12-27T09:50:41.478Z"
   },
   {
    "duration": 93,
    "start_time": "2021-12-27T09:50:41.567Z"
   },
   {
    "duration": 95,
    "start_time": "2021-12-27T09:50:41.665Z"
   },
   {
    "duration": 17,
    "start_time": "2021-12-27T09:50:41.762Z"
   },
   {
    "duration": 102,
    "start_time": "2021-12-27T09:50:41.862Z"
   },
   {
    "duration": 12,
    "start_time": "2021-12-27T09:50:54.376Z"
   },
   {
    "duration": 22,
    "start_time": "2021-12-27T09:50:54.391Z"
   },
   {
    "duration": 8,
    "start_time": "2021-12-27T09:50:54.416Z"
   },
   {
    "duration": 13,
    "start_time": "2021-12-27T09:50:54.427Z"
   },
   {
    "duration": 11,
    "start_time": "2021-12-27T09:50:54.458Z"
   },
   {
    "duration": 11,
    "start_time": "2021-12-27T09:50:54.473Z"
   },
   {
    "duration": 10,
    "start_time": "2021-12-27T09:50:54.486Z"
   },
   {
    "duration": 11,
    "start_time": "2021-12-27T09:50:54.500Z"
   },
   {
    "duration": 52,
    "start_time": "2021-12-27T09:50:54.514Z"
   },
   {
    "duration": 9,
    "start_time": "2021-12-27T09:50:54.569Z"
   },
   {
    "duration": 9,
    "start_time": "2021-12-27T09:50:54.581Z"
   },
   {
    "duration": 8,
    "start_time": "2021-12-27T09:50:54.593Z"
   },
   {
    "duration": 56,
    "start_time": "2021-12-27T09:50:54.604Z"
   },
   {
    "duration": 8,
    "start_time": "2021-12-27T09:50:54.663Z"
   },
   {
    "duration": 5,
    "start_time": "2021-12-27T09:50:54.675Z"
   },
   {
    "duration": 1233,
    "start_time": "2021-12-27T09:50:54.683Z"
   },
   {
    "duration": 5330,
    "start_time": "2021-12-27T09:50:50.589Z"
   },
   {
    "duration": 5327,
    "start_time": "2021-12-27T09:50:50.593Z"
   },
   {
    "duration": 5326,
    "start_time": "2021-12-27T09:50:50.596Z"
   },
   {
    "duration": 5325,
    "start_time": "2021-12-27T09:50:50.598Z"
   },
   {
    "duration": 5322,
    "start_time": "2021-12-27T09:50:50.602Z"
   },
   {
    "duration": 5323,
    "start_time": "2021-12-27T09:50:50.603Z"
   },
   {
    "duration": 5322,
    "start_time": "2021-12-27T09:50:50.605Z"
   },
   {
    "duration": 5323,
    "start_time": "2021-12-27T09:50:50.606Z"
   },
   {
    "duration": 5322,
    "start_time": "2021-12-27T09:50:50.608Z"
   },
   {
    "duration": 5322,
    "start_time": "2021-12-27T09:50:50.610Z"
   },
   {
    "duration": 5322,
    "start_time": "2021-12-27T09:50:50.611Z"
   },
   {
    "duration": 5322,
    "start_time": "2021-12-27T09:50:50.613Z"
   },
   {
    "duration": 4,
    "start_time": "2021-12-27T09:52:24.259Z"
   },
   {
    "duration": 23,
    "start_time": "2021-12-27T09:52:24.265Z"
   },
   {
    "duration": 8,
    "start_time": "2021-12-27T09:52:24.291Z"
   },
   {
    "duration": 11,
    "start_time": "2021-12-27T09:52:24.301Z"
   },
   {
    "duration": 47,
    "start_time": "2021-12-27T09:52:24.314Z"
   },
   {
    "duration": 15,
    "start_time": "2021-12-27T09:52:24.363Z"
   },
   {
    "duration": 11,
    "start_time": "2021-12-27T09:52:24.380Z"
   },
   {
    "duration": 10,
    "start_time": "2021-12-27T09:52:24.393Z"
   },
   {
    "duration": 9,
    "start_time": "2021-12-27T09:52:24.406Z"
   },
   {
    "duration": 47,
    "start_time": "2021-12-27T09:52:24.418Z"
   },
   {
    "duration": 7,
    "start_time": "2021-12-27T09:52:24.467Z"
   },
   {
    "duration": 7,
    "start_time": "2021-12-27T09:52:24.477Z"
   },
   {
    "duration": 9,
    "start_time": "2021-12-27T09:52:24.487Z"
   },
   {
    "duration": 10,
    "start_time": "2021-12-27T09:52:24.499Z"
   },
   {
    "duration": 8,
    "start_time": "2021-12-27T09:52:24.560Z"
   },
   {
    "duration": 6,
    "start_time": "2021-12-27T09:52:24.570Z"
   },
   {
    "duration": 11,
    "start_time": "2021-12-27T09:52:24.578Z"
   },
   {
    "duration": 5,
    "start_time": "2021-12-27T09:52:24.592Z"
   },
   {
    "duration": 8,
    "start_time": "2021-12-27T09:52:24.599Z"
   },
   {
    "duration": 3,
    "start_time": "2021-12-27T09:52:24.660Z"
   },
   {
    "duration": 102,
    "start_time": "2021-12-27T09:52:24.666Z"
   },
   {
    "duration": 665,
    "start_time": "2021-12-27T09:52:24.771Z"
   },
   {
    "duration": 5332,
    "start_time": "2021-12-27T09:52:20.106Z"
   },
   {
    "duration": 5327,
    "start_time": "2021-12-27T09:52:20.113Z"
   },
   {
    "duration": 5322,
    "start_time": "2021-12-27T09:52:20.119Z"
   },
   {
    "duration": 5316,
    "start_time": "2021-12-27T09:52:20.126Z"
   },
   {
    "duration": 5312,
    "start_time": "2021-12-27T09:52:20.131Z"
   },
   {
    "duration": 4,
    "start_time": "2021-12-27T09:52:58.723Z"
   },
   {
    "duration": 22,
    "start_time": "2021-12-27T09:52:58.730Z"
   },
   {
    "duration": 9,
    "start_time": "2021-12-27T09:52:58.755Z"
   },
   {
    "duration": 13,
    "start_time": "2021-12-27T09:52:58.767Z"
   },
   {
    "duration": 7,
    "start_time": "2021-12-27T09:52:58.783Z"
   },
   {
    "duration": 9,
    "start_time": "2021-12-27T09:52:58.792Z"
   },
   {
    "duration": 11,
    "start_time": "2021-12-27T09:52:58.804Z"
   },
   {
    "duration": 49,
    "start_time": "2021-12-27T09:52:58.817Z"
   },
   {
    "duration": 8,
    "start_time": "2021-12-27T09:52:58.870Z"
   },
   {
    "duration": 7,
    "start_time": "2021-12-27T09:52:58.882Z"
   },
   {
    "duration": 7,
    "start_time": "2021-12-27T09:52:58.891Z"
   },
   {
    "duration": 7,
    "start_time": "2021-12-27T09:52:58.901Z"
   },
   {
    "duration": 52,
    "start_time": "2021-12-27T09:52:58.911Z"
   },
   {
    "duration": 8,
    "start_time": "2021-12-27T09:52:58.966Z"
   },
   {
    "duration": 5,
    "start_time": "2021-12-27T09:52:58.976Z"
   },
   {
    "duration": 8,
    "start_time": "2021-12-27T09:52:58.984Z"
   },
   {
    "duration": 7,
    "start_time": "2021-12-27T09:52:59.061Z"
   },
   {
    "duration": 10,
    "start_time": "2021-12-27T09:52:59.071Z"
   },
   {
    "duration": 5,
    "start_time": "2021-12-27T09:52:59.160Z"
   },
   {
    "duration": 6,
    "start_time": "2021-12-27T09:52:59.167Z"
   },
   {
    "duration": 86,
    "start_time": "2021-12-27T09:52:59.176Z"
   },
   {
    "duration": 10,
    "start_time": "2021-12-27T09:52:59.266Z"
   },
   {
    "duration": 10,
    "start_time": "2021-12-27T09:52:59.360Z"
   },
   {
    "duration": 11,
    "start_time": "2021-12-27T09:52:59.373Z"
   },
   {
    "duration": 4,
    "start_time": "2021-12-27T09:52:59.461Z"
   },
   {
    "duration": 100,
    "start_time": "2021-12-27T09:52:59.468Z"
   },
   {
    "duration": 11,
    "start_time": "2021-12-27T09:52:59.573Z"
   },
   {
    "duration": 102,
    "start_time": "2021-12-27T09:52:59.660Z"
   },
   {
    "duration": 4,
    "start_time": "2021-12-27T09:58:28.995Z"
   },
   {
    "duration": 26,
    "start_time": "2021-12-27T09:58:29.002Z"
   },
   {
    "duration": 9,
    "start_time": "2021-12-27T09:58:29.030Z"
   },
   {
    "duration": 11,
    "start_time": "2021-12-27T09:58:29.042Z"
   },
   {
    "duration": 11,
    "start_time": "2021-12-27T09:58:29.055Z"
   },
   {
    "duration": 11,
    "start_time": "2021-12-27T09:58:29.068Z"
   },
   {
    "duration": 9,
    "start_time": "2021-12-27T09:58:29.081Z"
   },
   {
    "duration": 11,
    "start_time": "2021-12-27T09:58:29.092Z"
   },
   {
    "duration": 54,
    "start_time": "2021-12-27T09:58:29.107Z"
   },
   {
    "duration": 10,
    "start_time": "2021-12-27T09:58:29.165Z"
   },
   {
    "duration": 9,
    "start_time": "2021-12-27T09:58:29.177Z"
   },
   {
    "duration": 9,
    "start_time": "2021-12-27T09:58:29.188Z"
   },
   {
    "duration": 7,
    "start_time": "2021-12-27T09:58:29.200Z"
   },
   {
    "duration": 53,
    "start_time": "2021-12-27T09:58:29.209Z"
   },
   {
    "duration": 7,
    "start_time": "2021-12-27T09:58:29.266Z"
   },
   {
    "duration": 9,
    "start_time": "2021-12-27T09:58:29.276Z"
   },
   {
    "duration": 73,
    "start_time": "2021-12-27T09:58:29.287Z"
   },
   {
    "duration": 15,
    "start_time": "2021-12-27T09:58:29.364Z"
   },
   {
    "duration": 6,
    "start_time": "2021-12-27T09:58:29.460Z"
   },
   {
    "duration": 8,
    "start_time": "2021-12-27T09:58:29.468Z"
   },
   {
    "duration": 100,
    "start_time": "2021-12-27T09:58:29.478Z"
   },
   {
    "duration": 5,
    "start_time": "2021-12-27T09:58:29.661Z"
   },
   {
    "duration": 7,
    "start_time": "2021-12-27T09:58:29.669Z"
   },
   {
    "duration": 5,
    "start_time": "2021-12-27T09:58:29.680Z"
   },
   {
    "duration": 99,
    "start_time": "2021-12-27T09:58:29.763Z"
   },
   {
    "duration": 10,
    "start_time": "2021-12-27T09:58:29.865Z"
   },
   {
    "duration": 10,
    "start_time": "2021-12-27T09:58:29.879Z"
   },
   {
    "duration": 174,
    "start_time": "2021-12-27T09:58:29.892Z"
   },
   {
    "duration": 4,
    "start_time": "2021-12-27T09:58:42.388Z"
   },
   {
    "duration": 21,
    "start_time": "2021-12-27T09:58:42.395Z"
   },
   {
    "duration": 7,
    "start_time": "2021-12-27T09:58:42.419Z"
   },
   {
    "duration": 9,
    "start_time": "2021-12-27T09:58:42.429Z"
   },
   {
    "duration": 19,
    "start_time": "2021-12-27T09:58:42.440Z"
   },
   {
    "duration": 12,
    "start_time": "2021-12-27T09:58:42.461Z"
   },
   {
    "duration": 9,
    "start_time": "2021-12-27T09:58:42.475Z"
   },
   {
    "duration": 9,
    "start_time": "2021-12-27T09:58:42.486Z"
   },
   {
    "duration": 9,
    "start_time": "2021-12-27T09:58:42.499Z"
   },
   {
    "duration": 51,
    "start_time": "2021-12-27T09:58:42.511Z"
   },
   {
    "duration": 10,
    "start_time": "2021-12-27T09:58:42.565Z"
   },
   {
    "duration": 8,
    "start_time": "2021-12-27T09:58:42.577Z"
   },
   {
    "duration": 5,
    "start_time": "2021-12-27T09:58:42.588Z"
   },
   {
    "duration": 7,
    "start_time": "2021-12-27T09:58:42.596Z"
   },
   {
    "duration": 5,
    "start_time": "2021-12-27T09:58:42.605Z"
   },
   {
    "duration": 6,
    "start_time": "2021-12-27T09:58:42.660Z"
   },
   {
    "duration": 5,
    "start_time": "2021-12-27T09:58:42.669Z"
   },
   {
    "duration": 87,
    "start_time": "2021-12-27T09:58:42.676Z"
   },
   {
    "duration": 6,
    "start_time": "2021-12-27T09:58:42.765Z"
   },
   {
    "duration": 88,
    "start_time": "2021-12-27T09:58:42.774Z"
   },
   {
    "duration": 194,
    "start_time": "2021-12-27T09:58:42.865Z"
   },
   {
    "duration": 3,
    "start_time": "2021-12-27T09:58:43.062Z"
   },
   {
    "duration": 7,
    "start_time": "2021-12-27T09:58:43.068Z"
   },
   {
    "duration": 82,
    "start_time": "2021-12-27T09:58:43.079Z"
   },
   {
    "duration": 95,
    "start_time": "2021-12-27T09:58:43.165Z"
   },
   {
    "duration": 94,
    "start_time": "2021-12-27T09:58:43.265Z"
   },
   {
    "duration": 10,
    "start_time": "2021-12-27T09:58:43.364Z"
   },
   {
    "duration": 183,
    "start_time": "2021-12-27T09:58:43.377Z"
   },
   {
    "duration": 5,
    "start_time": "2021-12-27T09:58:46.658Z"
   },
   {
    "duration": 26,
    "start_time": "2021-12-27T09:58:46.665Z"
   },
   {
    "duration": 8,
    "start_time": "2021-12-27T09:58:46.694Z"
   },
   {
    "duration": 10,
    "start_time": "2021-12-27T09:58:46.704Z"
   },
   {
    "duration": 45,
    "start_time": "2021-12-27T09:58:46.716Z"
   },
   {
    "duration": 11,
    "start_time": "2021-12-27T09:58:46.763Z"
   },
   {
    "duration": 9,
    "start_time": "2021-12-27T09:58:46.776Z"
   },
   {
    "duration": 10,
    "start_time": "2021-12-27T09:58:46.789Z"
   },
   {
    "duration": 9,
    "start_time": "2021-12-27T09:58:46.802Z"
   },
   {
    "duration": 7,
    "start_time": "2021-12-27T09:58:46.860Z"
   },
   {
    "duration": 7,
    "start_time": "2021-12-27T09:58:46.870Z"
   },
   {
    "duration": 7,
    "start_time": "2021-12-27T09:58:46.880Z"
   },
   {
    "duration": 7,
    "start_time": "2021-12-27T09:58:46.890Z"
   },
   {
    "duration": 8,
    "start_time": "2021-12-27T09:58:46.899Z"
   },
   {
    "duration": 6,
    "start_time": "2021-12-27T09:58:46.960Z"
   },
   {
    "duration": 7,
    "start_time": "2021-12-27T09:58:46.968Z"
   },
   {
    "duration": 82,
    "start_time": "2021-12-27T09:58:46.978Z"
   },
   {
    "duration": 10,
    "start_time": "2021-12-27T09:58:47.064Z"
   },
   {
    "duration": 83,
    "start_time": "2021-12-27T09:58:47.077Z"
   },
   {
    "duration": 6,
    "start_time": "2021-12-27T09:58:47.163Z"
   },
   {
    "duration": 188,
    "start_time": "2021-12-27T09:58:47.171Z"
   },
   {
    "duration": 5,
    "start_time": "2021-12-27T09:58:47.362Z"
   },
   {
    "duration": 5,
    "start_time": "2021-12-27T09:58:47.374Z"
   },
   {
    "duration": 83,
    "start_time": "2021-12-27T09:58:47.382Z"
   },
   {
    "duration": 93,
    "start_time": "2021-12-27T09:58:47.468Z"
   },
   {
    "duration": 7,
    "start_time": "2021-12-27T09:58:47.564Z"
   },
   {
    "duration": 13,
    "start_time": "2021-12-27T09:58:47.574Z"
   },
   {
    "duration": 177,
    "start_time": "2021-12-27T09:58:47.590Z"
   },
   {
    "duration": 5,
    "start_time": "2021-12-27T11:55:52.039Z"
   },
   {
    "duration": 6,
    "start_time": "2021-12-27T11:56:05.120Z"
   },
   {
    "duration": 5,
    "start_time": "2021-12-27T11:56:22.256Z"
   },
   {
    "duration": 5,
    "start_time": "2021-12-27T11:59:05.671Z"
   },
   {
    "duration": 24,
    "start_time": "2021-12-27T11:59:05.678Z"
   },
   {
    "duration": 8,
    "start_time": "2021-12-27T11:59:05.705Z"
   },
   {
    "duration": 10,
    "start_time": "2021-12-27T11:59:05.715Z"
   },
   {
    "duration": 32,
    "start_time": "2021-12-27T11:59:05.727Z"
   },
   {
    "duration": 11,
    "start_time": "2021-12-27T11:59:05.761Z"
   },
   {
    "duration": 10,
    "start_time": "2021-12-27T11:59:05.774Z"
   },
   {
    "duration": 10,
    "start_time": "2021-12-27T11:59:05.786Z"
   },
   {
    "duration": 9,
    "start_time": "2021-12-27T11:59:05.800Z"
   },
   {
    "duration": 9,
    "start_time": "2021-12-27T11:59:05.859Z"
   },
   {
    "duration": 15,
    "start_time": "2021-12-27T11:59:05.870Z"
   },
   {
    "duration": 17,
    "start_time": "2021-12-27T11:59:05.887Z"
   },
   {
    "duration": 6,
    "start_time": "2021-12-27T11:59:05.907Z"
   },
   {
    "duration": 44,
    "start_time": "2021-12-27T11:59:05.916Z"
   },
   {
    "duration": 5,
    "start_time": "2021-12-27T11:59:05.962Z"
   },
   {
    "duration": 10,
    "start_time": "2021-12-27T11:59:05.969Z"
   },
   {
    "duration": 79,
    "start_time": "2021-12-27T11:59:05.982Z"
   },
   {
    "duration": 102,
    "start_time": "2021-12-27T11:59:06.064Z"
   },
   {
    "duration": 6,
    "start_time": "2021-12-27T11:59:06.169Z"
   },
   {
    "duration": 9,
    "start_time": "2021-12-27T11:59:06.178Z"
   },
   {
    "duration": 71,
    "start_time": "2021-12-27T11:59:06.190Z"
   },
   {
    "duration": 4,
    "start_time": "2021-12-27T11:59:06.263Z"
   },
   {
    "duration": 4,
    "start_time": "2021-12-27T11:59:06.269Z"
   },
   {
    "duration": 4,
    "start_time": "2021-12-27T11:59:06.359Z"
   },
   {
    "duration": 96,
    "start_time": "2021-12-27T11:59:06.366Z"
   },
   {
    "duration": 97,
    "start_time": "2021-12-27T11:59:06.466Z"
   },
   {
    "duration": 11,
    "start_time": "2021-12-27T11:59:06.567Z"
   },
   {
    "duration": 88,
    "start_time": "2021-12-27T11:59:06.581Z"
   },
   {
    "duration": 4,
    "start_time": "2021-12-27T12:00:37.368Z"
   },
   {
    "duration": 23,
    "start_time": "2021-12-27T12:00:37.377Z"
   },
   {
    "duration": 19,
    "start_time": "2021-12-27T12:00:37.403Z"
   },
   {
    "duration": 11,
    "start_time": "2021-12-27T12:00:37.425Z"
   },
   {
    "duration": 32,
    "start_time": "2021-12-27T12:00:37.438Z"
   },
   {
    "duration": 24,
    "start_time": "2021-12-27T12:00:37.473Z"
   },
   {
    "duration": 9,
    "start_time": "2021-12-27T12:00:37.499Z"
   },
   {
    "duration": 17,
    "start_time": "2021-12-27T12:00:37.512Z"
   },
   {
    "duration": 33,
    "start_time": "2021-12-27T12:00:37.532Z"
   },
   {
    "duration": 11,
    "start_time": "2021-12-27T12:00:37.568Z"
   },
   {
    "duration": 18,
    "start_time": "2021-12-27T12:00:37.582Z"
   },
   {
    "duration": 14,
    "start_time": "2021-12-27T12:00:37.603Z"
   },
   {
    "duration": 10,
    "start_time": "2021-12-27T12:00:37.620Z"
   },
   {
    "duration": 30,
    "start_time": "2021-12-27T12:00:37.632Z"
   },
   {
    "duration": 20,
    "start_time": "2021-12-27T12:00:37.665Z"
   },
   {
    "duration": 12,
    "start_time": "2021-12-27T12:00:37.688Z"
   },
   {
    "duration": 57,
    "start_time": "2021-12-27T12:00:37.703Z"
   },
   {
    "duration": 13,
    "start_time": "2021-12-27T12:00:37.763Z"
   },
   {
    "duration": 88,
    "start_time": "2021-12-27T12:00:37.778Z"
   },
   {
    "duration": 12,
    "start_time": "2021-12-27T12:00:37.869Z"
   },
   {
    "duration": 173,
    "start_time": "2021-12-27T12:00:37.885Z"
   },
   {
    "duration": 6,
    "start_time": "2021-12-27T12:00:38.061Z"
   },
   {
    "duration": 14,
    "start_time": "2021-12-27T12:00:38.074Z"
   },
   {
    "duration": 92,
    "start_time": "2021-12-27T12:00:38.091Z"
   },
   {
    "duration": 92,
    "start_time": "2021-12-27T12:00:38.271Z"
   },
   {
    "duration": 14,
    "start_time": "2021-12-27T12:00:38.366Z"
   },
   {
    "duration": 16,
    "start_time": "2021-12-27T12:00:38.383Z"
   },
   {
    "duration": 125,
    "start_time": "2021-12-27T12:00:38.464Z"
   },
   {
    "duration": 6,
    "start_time": "2021-12-27T12:08:36.699Z"
   },
   {
    "duration": 468,
    "start_time": "2021-12-27T12:38:48.048Z"
   },
   {
    "duration": 13,
    "start_time": "2021-12-27T12:38:54.949Z"
   },
   {
    "duration": 12,
    "start_time": "2021-12-27T12:38:59.739Z"
   },
   {
    "duration": 4,
    "start_time": "2021-12-27T12:40:03.012Z"
   },
   {
    "duration": 22,
    "start_time": "2021-12-27T12:40:03.019Z"
   },
   {
    "duration": 8,
    "start_time": "2021-12-27T12:40:03.045Z"
   },
   {
    "duration": 11,
    "start_time": "2021-12-27T12:40:03.056Z"
   },
   {
    "duration": 8,
    "start_time": "2021-12-27T12:40:03.070Z"
   },
   {
    "duration": 13,
    "start_time": "2021-12-27T12:40:03.081Z"
   },
   {
    "duration": 12,
    "start_time": "2021-12-27T12:40:03.096Z"
   },
   {
    "duration": 51,
    "start_time": "2021-12-27T12:40:03.110Z"
   },
   {
    "duration": 11,
    "start_time": "2021-12-27T12:40:03.167Z"
   },
   {
    "duration": 9,
    "start_time": "2021-12-27T12:40:03.181Z"
   },
   {
    "duration": 8,
    "start_time": "2021-12-27T12:40:03.192Z"
   },
   {
    "duration": 9,
    "start_time": "2021-12-27T12:40:03.202Z"
   },
   {
    "duration": 8,
    "start_time": "2021-12-27T12:40:03.259Z"
   },
   {
    "duration": 17,
    "start_time": "2021-12-27T12:40:03.269Z"
   },
   {
    "duration": 6,
    "start_time": "2021-12-27T12:40:03.289Z"
   },
   {
    "duration": 20,
    "start_time": "2021-12-27T12:40:03.298Z"
   },
   {
    "duration": 8,
    "start_time": "2021-12-27T12:40:03.360Z"
   },
   {
    "duration": 94,
    "start_time": "2021-12-27T12:40:03.370Z"
   },
   {
    "duration": 5,
    "start_time": "2021-12-27T12:40:03.466Z"
   },
   {
    "duration": 90,
    "start_time": "2021-12-27T12:40:03.473Z"
   },
   {
    "duration": 94,
    "start_time": "2021-12-27T12:40:03.566Z"
   },
   {
    "duration": 5,
    "start_time": "2021-12-27T12:40:03.662Z"
   },
   {
    "duration": 7,
    "start_time": "2021-12-27T12:40:03.670Z"
   },
   {
    "duration": 96,
    "start_time": "2021-12-27T12:40:03.769Z"
   },
   {
    "duration": 12,
    "start_time": "2021-12-27T12:40:03.867Z"
   },
   {
    "duration": 628,
    "start_time": "2021-12-27T12:40:03.882Z"
   },
   {
    "duration": 384,
    "start_time": "2021-12-27T12:40:56.328Z"
   },
   {
    "duration": 11,
    "start_time": "2021-12-27T12:42:10.765Z"
   },
   {
    "duration": 5,
    "start_time": "2021-12-27T12:42:55.244Z"
   },
   {
    "duration": 27,
    "start_time": "2021-12-27T12:42:55.251Z"
   },
   {
    "duration": 12,
    "start_time": "2021-12-27T12:42:55.281Z"
   },
   {
    "duration": 9,
    "start_time": "2021-12-27T12:42:55.296Z"
   },
   {
    "duration": 11,
    "start_time": "2021-12-27T12:42:55.307Z"
   },
   {
    "duration": 21,
    "start_time": "2021-12-27T12:42:55.320Z"
   },
   {
    "duration": 23,
    "start_time": "2021-12-27T12:42:55.343Z"
   },
   {
    "duration": 10,
    "start_time": "2021-12-27T12:42:55.369Z"
   },
   {
    "duration": 11,
    "start_time": "2021-12-27T12:42:55.382Z"
   },
   {
    "duration": 11,
    "start_time": "2021-12-27T12:42:55.396Z"
   },
   {
    "duration": 9,
    "start_time": "2021-12-27T12:42:55.409Z"
   },
   {
    "duration": 7,
    "start_time": "2021-12-27T12:42:55.460Z"
   },
   {
    "duration": 11,
    "start_time": "2021-12-27T12:42:55.469Z"
   },
   {
    "duration": 9,
    "start_time": "2021-12-27T12:42:55.483Z"
   },
   {
    "duration": 16,
    "start_time": "2021-12-27T12:42:55.494Z"
   },
   {
    "duration": 14,
    "start_time": "2021-12-27T12:42:55.512Z"
   },
   {
    "duration": 12,
    "start_time": "2021-12-27T12:42:55.560Z"
   },
   {
    "duration": 88,
    "start_time": "2021-12-27T12:42:55.574Z"
   },
   {
    "duration": 6,
    "start_time": "2021-12-27T12:42:55.664Z"
   },
   {
    "duration": 91,
    "start_time": "2021-12-27T12:42:55.672Z"
   },
   {
    "duration": 102,
    "start_time": "2021-12-27T12:42:55.766Z"
   },
   {
    "duration": 10,
    "start_time": "2021-12-27T12:42:55.870Z"
   },
   {
    "duration": 81,
    "start_time": "2021-12-27T12:42:55.887Z"
   },
   {
    "duration": 7,
    "start_time": "2021-12-27T12:42:56.061Z"
   },
   {
    "duration": 13,
    "start_time": "2021-12-27T12:42:56.070Z"
   },
   {
    "duration": 105,
    "start_time": "2021-12-27T12:42:56.162Z"
   },
   {
    "duration": 1287,
    "start_time": "2021-12-28T05:53:01.886Z"
   },
   {
    "duration": 20,
    "start_time": "2021-12-28T05:53:03.176Z"
   },
   {
    "duration": 9,
    "start_time": "2021-12-28T05:53:03.200Z"
   },
   {
    "duration": 18,
    "start_time": "2021-12-28T05:53:03.212Z"
   },
   {
    "duration": 35,
    "start_time": "2021-12-28T05:53:03.232Z"
   },
   {
    "duration": 13,
    "start_time": "2021-12-28T05:53:03.269Z"
   },
   {
    "duration": 14,
    "start_time": "2021-12-28T05:53:03.285Z"
   },
   {
    "duration": 9,
    "start_time": "2021-12-28T05:53:03.302Z"
   },
   {
    "duration": 15,
    "start_time": "2021-12-28T05:53:03.316Z"
   },
   {
    "duration": 33,
    "start_time": "2021-12-28T05:53:03.333Z"
   },
   {
    "duration": 21,
    "start_time": "2021-12-28T05:53:03.369Z"
   },
   {
    "duration": 21,
    "start_time": "2021-12-28T05:53:03.393Z"
   },
   {
    "duration": 9,
    "start_time": "2021-12-28T05:53:03.417Z"
   },
   {
    "duration": 12,
    "start_time": "2021-12-28T05:53:03.428Z"
   },
   {
    "duration": 23,
    "start_time": "2021-12-28T05:53:03.442Z"
   },
   {
    "duration": 16,
    "start_time": "2021-12-28T05:53:03.468Z"
   },
   {
    "duration": 75,
    "start_time": "2021-12-28T05:53:03.486Z"
   },
   {
    "duration": 19,
    "start_time": "2021-12-28T05:53:03.564Z"
   },
   {
    "duration": 5,
    "start_time": "2021-12-28T05:53:03.660Z"
   },
   {
    "duration": 192,
    "start_time": "2021-12-28T05:53:03.668Z"
   },
   {
    "duration": 4,
    "start_time": "2021-12-28T05:53:03.862Z"
   },
   {
    "duration": 19,
    "start_time": "2021-12-28T05:53:03.868Z"
   },
   {
    "duration": 74,
    "start_time": "2021-12-28T05:53:03.889Z"
   },
   {
    "duration": 102,
    "start_time": "2021-12-28T05:53:03.966Z"
   },
   {
    "duration": 92,
    "start_time": "2021-12-28T05:53:04.071Z"
   },
   {
    "duration": 484,
    "start_time": "2021-12-28T05:53:04.166Z"
   },
   {
    "duration": 6,
    "start_time": "2021-12-28T06:03:01.220Z"
   },
   {
    "duration": 1592,
    "start_time": "2021-12-28T06:03:14.944Z"
   },
   {
    "duration": 21,
    "start_time": "2021-12-28T06:03:16.538Z"
   },
   {
    "duration": 9,
    "start_time": "2021-12-28T06:03:16.562Z"
   },
   {
    "duration": 11,
    "start_time": "2021-12-28T06:03:16.574Z"
   },
   {
    "duration": 16,
    "start_time": "2021-12-28T06:03:16.588Z"
   },
   {
    "duration": 12,
    "start_time": "2021-12-28T06:03:16.606Z"
   },
   {
    "duration": 46,
    "start_time": "2021-12-28T06:03:16.620Z"
   },
   {
    "duration": 9,
    "start_time": "2021-12-28T06:03:16.669Z"
   },
   {
    "duration": 8,
    "start_time": "2021-12-28T06:03:16.682Z"
   },
   {
    "duration": 7,
    "start_time": "2021-12-28T06:03:16.693Z"
   },
   {
    "duration": 7,
    "start_time": "2021-12-28T06:03:16.702Z"
   },
   {
    "duration": 8,
    "start_time": "2021-12-28T06:03:16.760Z"
   },
   {
    "duration": 5,
    "start_time": "2021-12-28T06:03:16.771Z"
   },
   {
    "duration": 8,
    "start_time": "2021-12-28T06:03:16.779Z"
   },
   {
    "duration": 5,
    "start_time": "2021-12-28T06:03:16.790Z"
   },
   {
    "duration": 64,
    "start_time": "2021-12-28T06:03:16.798Z"
   },
   {
    "duration": 8,
    "start_time": "2021-12-28T06:03:16.865Z"
   },
   {
    "duration": 89,
    "start_time": "2021-12-28T06:03:16.876Z"
   },
   {
    "duration": 11,
    "start_time": "2021-12-28T06:03:16.967Z"
   },
   {
    "duration": 86,
    "start_time": "2021-12-28T06:03:16.981Z"
   },
   {
    "duration": 3,
    "start_time": "2021-12-28T06:03:17.160Z"
   },
   {
    "duration": 7,
    "start_time": "2021-12-28T06:03:17.165Z"
   },
   {
    "duration": 11,
    "start_time": "2021-12-28T06:03:17.174Z"
   },
   {
    "duration": 182,
    "start_time": "2021-12-28T06:03:17.187Z"
   },
   {
    "duration": 6,
    "start_time": "2021-12-28T06:03:17.371Z"
   },
   {
    "duration": 79,
    "start_time": "2021-12-28T06:03:17.380Z"
   },
   {
    "duration": 489,
    "start_time": "2021-12-28T06:03:17.470Z"
   },
   {
    "duration": 1420,
    "start_time": "2021-12-28T06:10:15.671Z"
   },
   {
    "duration": 20,
    "start_time": "2021-12-28T06:10:17.094Z"
   },
   {
    "duration": 10,
    "start_time": "2021-12-28T06:10:17.117Z"
   },
   {
    "duration": 11,
    "start_time": "2021-12-28T06:10:17.130Z"
   },
   {
    "duration": 26,
    "start_time": "2021-12-28T06:10:17.160Z"
   },
   {
    "duration": 15,
    "start_time": "2021-12-28T06:10:17.189Z"
   },
   {
    "duration": 13,
    "start_time": "2021-12-28T06:10:17.207Z"
   },
   {
    "duration": 15,
    "start_time": "2021-12-28T06:10:17.261Z"
   },
   {
    "duration": 13,
    "start_time": "2021-12-28T06:10:17.281Z"
   },
   {
    "duration": 10,
    "start_time": "2021-12-28T06:10:17.297Z"
   },
   {
    "duration": 51,
    "start_time": "2021-12-28T06:10:17.310Z"
   },
   {
    "duration": 12,
    "start_time": "2021-12-28T06:10:17.364Z"
   },
   {
    "duration": 9,
    "start_time": "2021-12-28T06:10:17.379Z"
   },
   {
    "duration": 11,
    "start_time": "2021-12-28T06:10:17.391Z"
   },
   {
    "duration": 7,
    "start_time": "2021-12-28T06:10:17.405Z"
   },
   {
    "duration": 9,
    "start_time": "2021-12-28T06:10:17.459Z"
   },
   {
    "duration": 88,
    "start_time": "2021-12-28T06:10:17.471Z"
   },
   {
    "duration": 10,
    "start_time": "2021-12-28T06:10:17.563Z"
   },
   {
    "duration": 84,
    "start_time": "2021-12-28T06:10:17.577Z"
   },
   {
    "duration": 194,
    "start_time": "2021-12-28T06:10:17.665Z"
   },
   {
    "duration": 5,
    "start_time": "2021-12-28T06:10:17.863Z"
   },
   {
    "duration": 6,
    "start_time": "2021-12-28T06:10:17.871Z"
   },
   {
    "duration": 82,
    "start_time": "2021-12-28T06:10:17.883Z"
   },
   {
    "duration": 95,
    "start_time": "2021-12-28T06:10:17.968Z"
   },
   {
    "duration": 10,
    "start_time": "2021-12-28T06:10:18.065Z"
   },
   {
    "duration": 13,
    "start_time": "2021-12-28T06:10:18.077Z"
   },
   {
    "duration": 453,
    "start_time": "2021-12-28T06:10:18.163Z"
   },
   {
    "duration": 1177,
    "start_time": "2021-12-28T08:17:11.399Z"
   },
   {
    "duration": 17,
    "start_time": "2021-12-28T08:17:12.578Z"
   },
   {
    "duration": 12,
    "start_time": "2021-12-28T08:17:12.597Z"
   },
   {
    "duration": 8,
    "start_time": "2021-12-28T08:17:12.611Z"
   },
   {
    "duration": 13,
    "start_time": "2021-12-28T08:17:12.621Z"
   },
   {
    "duration": 11,
    "start_time": "2021-12-28T08:17:12.635Z"
   },
   {
    "duration": 6,
    "start_time": "2021-12-28T08:17:12.647Z"
   },
   {
    "duration": 8,
    "start_time": "2021-12-28T08:17:12.655Z"
   },
   {
    "duration": 10,
    "start_time": "2021-12-28T08:17:12.666Z"
   },
   {
    "duration": 7,
    "start_time": "2021-12-28T08:17:12.678Z"
   },
   {
    "duration": 9,
    "start_time": "2021-12-28T08:17:12.687Z"
   },
   {
    "duration": 43,
    "start_time": "2021-12-28T08:17:12.698Z"
   },
   {
    "duration": 8,
    "start_time": "2021-12-28T08:17:12.743Z"
   },
   {
    "duration": 8,
    "start_time": "2021-12-28T08:17:12.753Z"
   },
   {
    "duration": 4,
    "start_time": "2021-12-28T08:17:12.763Z"
   },
   {
    "duration": 58,
    "start_time": "2021-12-28T08:17:12.770Z"
   },
   {
    "duration": 5,
    "start_time": "2021-12-28T08:17:12.830Z"
   },
   {
    "duration": 90,
    "start_time": "2021-12-28T08:17:12.837Z"
   },
   {
    "duration": 4,
    "start_time": "2021-12-28T08:17:12.929Z"
   },
   {
    "duration": 103,
    "start_time": "2021-12-28T08:17:12.935Z"
   },
   {
    "duration": 87,
    "start_time": "2021-12-28T08:17:13.041Z"
   },
   {
    "duration": 10,
    "start_time": "2021-12-28T08:17:13.130Z"
   },
   {
    "duration": 7,
    "start_time": "2021-12-28T08:17:13.143Z"
   },
   {
    "duration": 85,
    "start_time": "2021-12-28T08:17:13.151Z"
   },
   {
    "duration": 92,
    "start_time": "2021-12-28T08:17:13.238Z"
   },
   {
    "duration": 10,
    "start_time": "2021-12-28T08:17:13.331Z"
   },
   {
    "duration": 96,
    "start_time": "2021-12-28T08:17:13.344Z"
   }
  ],
  "kernelspec": {
   "display_name": "Python 3",
   "language": "python",
   "name": "python3"
  },
  "language_info": {
   "codemirror_mode": {
    "name": "ipython",
    "version": 3
   },
   "file_extension": ".py",
   "mimetype": "text/x-python",
   "name": "python",
   "nbconvert_exporter": "python",
   "pygments_lexer": "ipython3",
   "version": "3.8.8"
  },
  "toc": {
   "base_numbering": 1,
   "nav_menu": {},
   "number_sections": true,
   "sideBar": true,
   "skip_h1_title": true,
   "title_cell": "Содержание",
   "title_sidebar": "Contents",
   "toc_cell": true,
   "toc_position": {},
   "toc_section_display": true,
   "toc_window_display": true
  }
 },
 "nbformat": 4,
 "nbformat_minor": 2
}
